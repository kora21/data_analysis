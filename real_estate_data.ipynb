{
 "cells": [
  {
   "cell_type": "markdown",
   "metadata": {},
   "source": [
    "<span style=\"color:green\">**Поздравляю, твой проект принят!**</span>\n",
    "\n",
    "Екатерина, отличная работа, получился качественный аналитический отчет. Поставленные задачи были успешно выполнены! Спасибо за обозначение корректировок. Недочёты исправлены! Надеюсь, ревью было полезным:) Желаю успехов в учебе и следующих проектах!\n",
    "\n",
    "Новые комментарии имеют метку `v3`.\n",
    "\n",
    "<span style=\"color:purple\">**Привет еще раз!**</span> v2\n",
    "\n",
    "Екатерина, спасибо, что доработала проект. В работе осталось исправить способ заполнения пропусков по площадям и выводы после. Жду твою работу!\n",
    "\n",
    "Оформление комментариев оставим таким же, только обозначим номер проверки `v2`.\n",
    "\n",
    "<span style=\"color:purple\">**Привет, Екатерина!**</span>\n",
    "\n",
    "Меня зовут **Василий** и я - ревьювер, буду проверять твой проект.\n",
    "\n",
    "Если не против, я буду обращаться к тебе на \"ТЫ\". Если это неприемлемо, обязательно напиши мне в комментариях – мы прейдем на \"ВЫ\".\n",
    "\n",
    "Спасибо, что прислала проект. Ты проделала большую работу над проектом. В тетради ты сможешь найти мои комментарии. Пострайся учесть эти комментарии в ходе выполнения дальнейших проектов.\n",
    "\n",
    "Обрати внимание, я буду выделять свои комментарии цветом, в зависимости от того, какие действия, важность и особенности тебя ждут в процессе проверки.\n",
    "\n",
    "<div class=\"alert alert-block alert-success\">\n",
    "\n",
    "**Комментарий ревьювера (все отлично)**\n",
    "    \n",
    "Такими комментариями я буду помечать хорошо проделаную работу, а так же хорошо проделаную работу над ошибками.\n",
    "</div>\n",
    "\n",
    "<div class=\"alert alert-block alert-warning\">\n",
    "\n",
    "**Комментарий ревьювера (что можно улучшить)**\n",
    "    \n",
    "После таких комментариев ничего исправлять не нужно, но я дам рекомендации на будущее и подскажу, что можно улучшить.\n",
    "</div>\n",
    "\n",
    "<div class=\"alert alert-block alert-danger\">\n",
    "    \n",
    "**Комментарий ревьювера (недочет, который нужно доработать)**\n",
    "    \n",
    "Если ты видишь такой комментарий, значит я указываю тебе на недочёт, его нужно исправить. Без такого исправления я не приму твою работу:)\n",
    "</div>\n",
    "\n",
    "**Пожалуста, не удаляй мои комментарии. При повторной проверке, я буду ориентироваться на них.**\n",
    "\n",
    "<span style=\"color:blue\"> Можешь под моими комментариями оставлять свои, в которых опиши свои исправления. Это облегчит процесс проверки и мне, и тебе:) Например, вот так:</span>\n",
    "\n",
    "<div class=\"alert alert-block alert-info\">\n",
    "<b>КОММЕНТАРИЙ ОТ УЧЕНИКА: </b>\n",
    "</div>"
   ]
  },
  {
   "cell_type": "markdown",
   "metadata": {
    "id": "-VFbjcb3Awb7"
   },
   "source": [
    "# Исследование объявлений о продаже квартир\n",
    "\n",
    "В вашем распоряжении данные сервиса Яндекс Недвижимость — архив объявлений о продаже квартир в Санкт-Петербурге и соседних населённых пунктах за несколько лет. Вам нужно научиться определять рыночную стоимость объектов недвижимости. Для этого проведите исследовательский анализ данных и установите параметры, влияющие на цену объектов. Это позволит построить автоматизированную систему: она отследит аномалии и мошенническую деятельность.\n",
    "\n",
    "По каждой квартире на продажу доступны два вида данных. Первые вписаны пользователем, вторые — получены автоматически на основе картографических данных. Например, расстояние до центра, аэропорта и других объектов — эти данные автоматически получены из геосервисов. Количество парков и водоёмов также заполняется без участия пользователя."
   ]
  },
  {
   "cell_type": "markdown",
   "metadata": {},
   "source": [
    "<div class=\"alert alert-block alert-success\">\n",
    "\n",
    "**Комментарий ревьювера (все отлично)**\n",
    "    \n",
    "Небольшая вводная перед исследованием даст быстрое понимание о том, чему оно посвящено. Здорово, что обращаешь на это внимание.\n",
    "    \n",
    "Старайся выполнять свой проект в порядке, прописанном в твоем плане. Содержание можно добавить автоматически при помощи плагина table of contents в панели инструментов. Или расставляя метки и ссылки на них вручную. Вот тут почитай, как сделать <a href=\"https://sebastianraschka.com/Articles/2014_ipython_internal_links.html\">кликабельные разделы</a>.\n",
    "_________________\n",
    "\n",
    "\n",
    "**Почему это важно?** Когда ты будешь в будущем выполнять тестовые задания, просто скопировав присланную тебе задачу и не составив плана, ты можешь смутить будущего работодателя. А грамотно сконфигурированный план покажет тебя как ответсвенного и усидчивого специалиста. Также такой подход научит тебя структурировать исследование и не путаться при работе с большими проектами.\n",
    "</div>"
   ]
  },
  {
   "cell_type": "markdown",
   "metadata": {
    "id": "aeFLH07FAwb9"
   },
   "source": [
    "### Откройте файл с данными и изучите общую информацию"
   ]
  },
  {
   "cell_type": "code",
   "execution_count": 1,
   "metadata": {
    "id": "7MZxY65pAwb9"
   },
   "outputs": [],
   "source": [
    "import pandas as pd\n",
    "import matplotlib.pyplot as plt"
   ]
  },
  {
   "cell_type": "markdown",
   "metadata": {},
   "source": [
    "<div class=\"alert alert-block alert-success\">\n",
    "\n",
    "**Комментарий ревьювера (все отлично)**\n",
    "    \n",
    "Правильно, что импортируешь необходимые библиотеки в первых ячейках. Так твой коллега, запускающий работу, будет в курсе используемых в ней библиотек и сможет настроить свое окружение при необходимости.\n",
    "</div>"
   ]
  },
  {
   "cell_type": "code",
   "execution_count": 2,
   "metadata": {},
   "outputs": [],
   "source": [
    "# Загрузим датафрейм в переменную 'data'\n",
    "data = pd.read_csv('/datasets/real_estate_data.csv', sep='\\t')"
   ]
  },
  {
   "cell_type": "code",
   "execution_count": 3,
   "metadata": {
    "scrolled": true
   },
   "outputs": [
    {
     "data": {
      "text/html": [
       "<div>\n",
       "<style scoped>\n",
       "    .dataframe tbody tr th:only-of-type {\n",
       "        vertical-align: middle;\n",
       "    }\n",
       "\n",
       "    .dataframe tbody tr th {\n",
       "        vertical-align: top;\n",
       "    }\n",
       "\n",
       "    .dataframe thead th {\n",
       "        text-align: right;\n",
       "    }\n",
       "</style>\n",
       "<table border=\"1\" class=\"dataframe\">\n",
       "  <thead>\n",
       "    <tr style=\"text-align: right;\">\n",
       "      <th></th>\n",
       "      <th>total_images</th>\n",
       "      <th>last_price</th>\n",
       "      <th>total_area</th>\n",
       "      <th>first_day_exposition</th>\n",
       "      <th>rooms</th>\n",
       "      <th>ceiling_height</th>\n",
       "      <th>floors_total</th>\n",
       "      <th>living_area</th>\n",
       "      <th>floor</th>\n",
       "      <th>is_apartment</th>\n",
       "      <th>...</th>\n",
       "      <th>kitchen_area</th>\n",
       "      <th>balcony</th>\n",
       "      <th>locality_name</th>\n",
       "      <th>airports_nearest</th>\n",
       "      <th>cityCenters_nearest</th>\n",
       "      <th>parks_around3000</th>\n",
       "      <th>parks_nearest</th>\n",
       "      <th>ponds_around3000</th>\n",
       "      <th>ponds_nearest</th>\n",
       "      <th>days_exposition</th>\n",
       "    </tr>\n",
       "  </thead>\n",
       "  <tbody>\n",
       "    <tr>\n",
       "      <th>0</th>\n",
       "      <td>20</td>\n",
       "      <td>13000000.0</td>\n",
       "      <td>108.00</td>\n",
       "      <td>2019-03-07T00:00:00</td>\n",
       "      <td>3</td>\n",
       "      <td>2.70</td>\n",
       "      <td>16.0</td>\n",
       "      <td>51.00</td>\n",
       "      <td>8</td>\n",
       "      <td>NaN</td>\n",
       "      <td>...</td>\n",
       "      <td>25.00</td>\n",
       "      <td>NaN</td>\n",
       "      <td>Санкт-Петербург</td>\n",
       "      <td>18863.0</td>\n",
       "      <td>16028.0</td>\n",
       "      <td>1.0</td>\n",
       "      <td>482.0</td>\n",
       "      <td>2.0</td>\n",
       "      <td>755.0</td>\n",
       "      <td>NaN</td>\n",
       "    </tr>\n",
       "    <tr>\n",
       "      <th>1</th>\n",
       "      <td>7</td>\n",
       "      <td>3350000.0</td>\n",
       "      <td>40.40</td>\n",
       "      <td>2018-12-04T00:00:00</td>\n",
       "      <td>1</td>\n",
       "      <td>NaN</td>\n",
       "      <td>11.0</td>\n",
       "      <td>18.60</td>\n",
       "      <td>1</td>\n",
       "      <td>NaN</td>\n",
       "      <td>...</td>\n",
       "      <td>11.00</td>\n",
       "      <td>2.0</td>\n",
       "      <td>посёлок Шушары</td>\n",
       "      <td>12817.0</td>\n",
       "      <td>18603.0</td>\n",
       "      <td>0.0</td>\n",
       "      <td>NaN</td>\n",
       "      <td>0.0</td>\n",
       "      <td>NaN</td>\n",
       "      <td>81.0</td>\n",
       "    </tr>\n",
       "    <tr>\n",
       "      <th>2</th>\n",
       "      <td>10</td>\n",
       "      <td>5196000.0</td>\n",
       "      <td>56.00</td>\n",
       "      <td>2015-08-20T00:00:00</td>\n",
       "      <td>2</td>\n",
       "      <td>NaN</td>\n",
       "      <td>5.0</td>\n",
       "      <td>34.30</td>\n",
       "      <td>4</td>\n",
       "      <td>NaN</td>\n",
       "      <td>...</td>\n",
       "      <td>8.30</td>\n",
       "      <td>0.0</td>\n",
       "      <td>Санкт-Петербург</td>\n",
       "      <td>21741.0</td>\n",
       "      <td>13933.0</td>\n",
       "      <td>1.0</td>\n",
       "      <td>90.0</td>\n",
       "      <td>2.0</td>\n",
       "      <td>574.0</td>\n",
       "      <td>558.0</td>\n",
       "    </tr>\n",
       "    <tr>\n",
       "      <th>3</th>\n",
       "      <td>0</td>\n",
       "      <td>64900000.0</td>\n",
       "      <td>159.00</td>\n",
       "      <td>2015-07-24T00:00:00</td>\n",
       "      <td>3</td>\n",
       "      <td>NaN</td>\n",
       "      <td>14.0</td>\n",
       "      <td>NaN</td>\n",
       "      <td>9</td>\n",
       "      <td>NaN</td>\n",
       "      <td>...</td>\n",
       "      <td>NaN</td>\n",
       "      <td>0.0</td>\n",
       "      <td>Санкт-Петербург</td>\n",
       "      <td>28098.0</td>\n",
       "      <td>6800.0</td>\n",
       "      <td>2.0</td>\n",
       "      <td>84.0</td>\n",
       "      <td>3.0</td>\n",
       "      <td>234.0</td>\n",
       "      <td>424.0</td>\n",
       "    </tr>\n",
       "    <tr>\n",
       "      <th>4</th>\n",
       "      <td>2</td>\n",
       "      <td>10000000.0</td>\n",
       "      <td>100.00</td>\n",
       "      <td>2018-06-19T00:00:00</td>\n",
       "      <td>2</td>\n",
       "      <td>3.03</td>\n",
       "      <td>14.0</td>\n",
       "      <td>32.00</td>\n",
       "      <td>13</td>\n",
       "      <td>NaN</td>\n",
       "      <td>...</td>\n",
       "      <td>41.00</td>\n",
       "      <td>NaN</td>\n",
       "      <td>Санкт-Петербург</td>\n",
       "      <td>31856.0</td>\n",
       "      <td>8098.0</td>\n",
       "      <td>2.0</td>\n",
       "      <td>112.0</td>\n",
       "      <td>1.0</td>\n",
       "      <td>48.0</td>\n",
       "      <td>121.0</td>\n",
       "    </tr>\n",
       "    <tr>\n",
       "      <th>5</th>\n",
       "      <td>10</td>\n",
       "      <td>2890000.0</td>\n",
       "      <td>30.40</td>\n",
       "      <td>2018-09-10T00:00:00</td>\n",
       "      <td>1</td>\n",
       "      <td>NaN</td>\n",
       "      <td>12.0</td>\n",
       "      <td>14.40</td>\n",
       "      <td>5</td>\n",
       "      <td>NaN</td>\n",
       "      <td>...</td>\n",
       "      <td>9.10</td>\n",
       "      <td>NaN</td>\n",
       "      <td>городской посёлок Янино-1</td>\n",
       "      <td>NaN</td>\n",
       "      <td>NaN</td>\n",
       "      <td>NaN</td>\n",
       "      <td>NaN</td>\n",
       "      <td>NaN</td>\n",
       "      <td>NaN</td>\n",
       "      <td>55.0</td>\n",
       "    </tr>\n",
       "    <tr>\n",
       "      <th>6</th>\n",
       "      <td>6</td>\n",
       "      <td>3700000.0</td>\n",
       "      <td>37.30</td>\n",
       "      <td>2017-11-02T00:00:00</td>\n",
       "      <td>1</td>\n",
       "      <td>NaN</td>\n",
       "      <td>26.0</td>\n",
       "      <td>10.60</td>\n",
       "      <td>6</td>\n",
       "      <td>NaN</td>\n",
       "      <td>...</td>\n",
       "      <td>14.40</td>\n",
       "      <td>1.0</td>\n",
       "      <td>посёлок Парголово</td>\n",
       "      <td>52996.0</td>\n",
       "      <td>19143.0</td>\n",
       "      <td>0.0</td>\n",
       "      <td>NaN</td>\n",
       "      <td>0.0</td>\n",
       "      <td>NaN</td>\n",
       "      <td>155.0</td>\n",
       "    </tr>\n",
       "    <tr>\n",
       "      <th>7</th>\n",
       "      <td>5</td>\n",
       "      <td>7915000.0</td>\n",
       "      <td>71.60</td>\n",
       "      <td>2019-04-18T00:00:00</td>\n",
       "      <td>2</td>\n",
       "      <td>NaN</td>\n",
       "      <td>24.0</td>\n",
       "      <td>NaN</td>\n",
       "      <td>22</td>\n",
       "      <td>NaN</td>\n",
       "      <td>...</td>\n",
       "      <td>18.90</td>\n",
       "      <td>2.0</td>\n",
       "      <td>Санкт-Петербург</td>\n",
       "      <td>23982.0</td>\n",
       "      <td>11634.0</td>\n",
       "      <td>0.0</td>\n",
       "      <td>NaN</td>\n",
       "      <td>0.0</td>\n",
       "      <td>NaN</td>\n",
       "      <td>NaN</td>\n",
       "    </tr>\n",
       "    <tr>\n",
       "      <th>8</th>\n",
       "      <td>20</td>\n",
       "      <td>2900000.0</td>\n",
       "      <td>33.16</td>\n",
       "      <td>2018-05-23T00:00:00</td>\n",
       "      <td>1</td>\n",
       "      <td>NaN</td>\n",
       "      <td>27.0</td>\n",
       "      <td>15.43</td>\n",
       "      <td>26</td>\n",
       "      <td>NaN</td>\n",
       "      <td>...</td>\n",
       "      <td>8.81</td>\n",
       "      <td>NaN</td>\n",
       "      <td>посёлок Мурино</td>\n",
       "      <td>NaN</td>\n",
       "      <td>NaN</td>\n",
       "      <td>NaN</td>\n",
       "      <td>NaN</td>\n",
       "      <td>NaN</td>\n",
       "      <td>NaN</td>\n",
       "      <td>189.0</td>\n",
       "    </tr>\n",
       "    <tr>\n",
       "      <th>9</th>\n",
       "      <td>18</td>\n",
       "      <td>5400000.0</td>\n",
       "      <td>61.00</td>\n",
       "      <td>2017-02-26T00:00:00</td>\n",
       "      <td>3</td>\n",
       "      <td>2.50</td>\n",
       "      <td>9.0</td>\n",
       "      <td>43.60</td>\n",
       "      <td>7</td>\n",
       "      <td>NaN</td>\n",
       "      <td>...</td>\n",
       "      <td>6.50</td>\n",
       "      <td>2.0</td>\n",
       "      <td>Санкт-Петербург</td>\n",
       "      <td>50898.0</td>\n",
       "      <td>15008.0</td>\n",
       "      <td>0.0</td>\n",
       "      <td>NaN</td>\n",
       "      <td>0.0</td>\n",
       "      <td>NaN</td>\n",
       "      <td>289.0</td>\n",
       "    </tr>\n",
       "  </tbody>\n",
       "</table>\n",
       "<p>10 rows × 22 columns</p>\n",
       "</div>"
      ],
      "text/plain": [
       "   total_images  last_price  total_area first_day_exposition  rooms  \\\n",
       "0            20  13000000.0      108.00  2019-03-07T00:00:00      3   \n",
       "1             7   3350000.0       40.40  2018-12-04T00:00:00      1   \n",
       "2            10   5196000.0       56.00  2015-08-20T00:00:00      2   \n",
       "3             0  64900000.0      159.00  2015-07-24T00:00:00      3   \n",
       "4             2  10000000.0      100.00  2018-06-19T00:00:00      2   \n",
       "5            10   2890000.0       30.40  2018-09-10T00:00:00      1   \n",
       "6             6   3700000.0       37.30  2017-11-02T00:00:00      1   \n",
       "7             5   7915000.0       71.60  2019-04-18T00:00:00      2   \n",
       "8            20   2900000.0       33.16  2018-05-23T00:00:00      1   \n",
       "9            18   5400000.0       61.00  2017-02-26T00:00:00      3   \n",
       "\n",
       "   ceiling_height  floors_total  living_area  floor is_apartment  ...  \\\n",
       "0            2.70          16.0        51.00      8          NaN  ...   \n",
       "1             NaN          11.0        18.60      1          NaN  ...   \n",
       "2             NaN           5.0        34.30      4          NaN  ...   \n",
       "3             NaN          14.0          NaN      9          NaN  ...   \n",
       "4            3.03          14.0        32.00     13          NaN  ...   \n",
       "5             NaN          12.0        14.40      5          NaN  ...   \n",
       "6             NaN          26.0        10.60      6          NaN  ...   \n",
       "7             NaN          24.0          NaN     22          NaN  ...   \n",
       "8             NaN          27.0        15.43     26          NaN  ...   \n",
       "9            2.50           9.0        43.60      7          NaN  ...   \n",
       "\n",
       "   kitchen_area  balcony              locality_name  airports_nearest  \\\n",
       "0         25.00      NaN            Санкт-Петербург           18863.0   \n",
       "1         11.00      2.0             посёлок Шушары           12817.0   \n",
       "2          8.30      0.0            Санкт-Петербург           21741.0   \n",
       "3           NaN      0.0            Санкт-Петербург           28098.0   \n",
       "4         41.00      NaN            Санкт-Петербург           31856.0   \n",
       "5          9.10      NaN  городской посёлок Янино-1               NaN   \n",
       "6         14.40      1.0          посёлок Парголово           52996.0   \n",
       "7         18.90      2.0            Санкт-Петербург           23982.0   \n",
       "8          8.81      NaN             посёлок Мурино               NaN   \n",
       "9          6.50      2.0            Санкт-Петербург           50898.0   \n",
       "\n",
       "  cityCenters_nearest  parks_around3000  parks_nearest  ponds_around3000  \\\n",
       "0             16028.0               1.0          482.0               2.0   \n",
       "1             18603.0               0.0            NaN               0.0   \n",
       "2             13933.0               1.0           90.0               2.0   \n",
       "3              6800.0               2.0           84.0               3.0   \n",
       "4              8098.0               2.0          112.0               1.0   \n",
       "5                 NaN               NaN            NaN               NaN   \n",
       "6             19143.0               0.0            NaN               0.0   \n",
       "7             11634.0               0.0            NaN               0.0   \n",
       "8                 NaN               NaN            NaN               NaN   \n",
       "9             15008.0               0.0            NaN               0.0   \n",
       "\n",
       "   ponds_nearest  days_exposition  \n",
       "0          755.0              NaN  \n",
       "1            NaN             81.0  \n",
       "2          574.0            558.0  \n",
       "3          234.0            424.0  \n",
       "4           48.0            121.0  \n",
       "5            NaN             55.0  \n",
       "6            NaN            155.0  \n",
       "7            NaN              NaN  \n",
       "8            NaN            189.0  \n",
       "9            NaN            289.0  \n",
       "\n",
       "[10 rows x 22 columns]"
      ]
     },
     "execution_count": 3,
     "metadata": {},
     "output_type": "execute_result"
    }
   ],
   "source": [
    "data.head(10)"
   ]
  },
  {
   "cell_type": "code",
   "execution_count": 4,
   "metadata": {},
   "outputs": [
    {
     "name": "stdout",
     "output_type": "stream",
     "text": [
      "<class 'pandas.core.frame.DataFrame'>\n",
      "RangeIndex: 23699 entries, 0 to 23698\n",
      "Data columns (total 22 columns):\n",
      " #   Column                Non-Null Count  Dtype  \n",
      "---  ------                --------------  -----  \n",
      " 0   total_images          23699 non-null  int64  \n",
      " 1   last_price            23699 non-null  float64\n",
      " 2   total_area            23699 non-null  float64\n",
      " 3   first_day_exposition  23699 non-null  object \n",
      " 4   rooms                 23699 non-null  int64  \n",
      " 5   ceiling_height        14504 non-null  float64\n",
      " 6   floors_total          23613 non-null  float64\n",
      " 7   living_area           21796 non-null  float64\n",
      " 8   floor                 23699 non-null  int64  \n",
      " 9   is_apartment          2775 non-null   object \n",
      " 10  studio                23699 non-null  bool   \n",
      " 11  open_plan             23699 non-null  bool   \n",
      " 12  kitchen_area          21421 non-null  float64\n",
      " 13  balcony               12180 non-null  float64\n",
      " 14  locality_name         23650 non-null  object \n",
      " 15  airports_nearest      18157 non-null  float64\n",
      " 16  cityCenters_nearest   18180 non-null  float64\n",
      " 17  parks_around3000      18181 non-null  float64\n",
      " 18  parks_nearest         8079 non-null   float64\n",
      " 19  ponds_around3000      18181 non-null  float64\n",
      " 20  ponds_nearest         9110 non-null   float64\n",
      " 21  days_exposition       20518 non-null  float64\n",
      "dtypes: bool(2), float64(14), int64(3), object(3)\n",
      "memory usage: 3.7+ MB\n"
     ]
    }
   ],
   "source": [
    "# Общая информация о наборе данных, индекс, столбцы и тип данных, ненулевые значения и использование памяти\n",
    "data.info()"
   ]
  },
  {
   "cell_type": "code",
   "execution_count": 5,
   "metadata": {},
   "outputs": [
    {
     "data": {
      "text/plain": [
       "total_images                0\n",
       "last_price                  0\n",
       "total_area                  0\n",
       "first_day_exposition        0\n",
       "rooms                       0\n",
       "ceiling_height           9195\n",
       "floors_total               86\n",
       "living_area              1903\n",
       "floor                       0\n",
       "is_apartment            20924\n",
       "studio                      0\n",
       "open_plan                   0\n",
       "kitchen_area             2278\n",
       "balcony                 11519\n",
       "locality_name              49\n",
       "airports_nearest         5542\n",
       "cityCenters_nearest      5519\n",
       "parks_around3000         5518\n",
       "parks_nearest           15620\n",
       "ponds_around3000         5518\n",
       "ponds_nearest           14589\n",
       "days_exposition          3181\n",
       "dtype: int64"
      ]
     },
     "execution_count": 5,
     "metadata": {},
     "output_type": "execute_result"
    }
   ],
   "source": [
    "# оценим количество пропущенных значений в каждом столбце\n",
    "data.isna().sum()"
   ]
  },
  {
   "cell_type": "code",
   "execution_count": 6,
   "metadata": {},
   "outputs": [
    {
     "data": {
      "text/html": [
       "<div>\n",
       "<style scoped>\n",
       "    .dataframe tbody tr th:only-of-type {\n",
       "        vertical-align: middle;\n",
       "    }\n",
       "\n",
       "    .dataframe tbody tr th {\n",
       "        vertical-align: top;\n",
       "    }\n",
       "\n",
       "    .dataframe thead th {\n",
       "        text-align: right;\n",
       "    }\n",
       "</style>\n",
       "<table border=\"1\" class=\"dataframe\">\n",
       "  <thead>\n",
       "    <tr style=\"text-align: right;\">\n",
       "      <th></th>\n",
       "      <th>total_images</th>\n",
       "      <th>last_price</th>\n",
       "      <th>total_area</th>\n",
       "      <th>first_day_exposition</th>\n",
       "      <th>rooms</th>\n",
       "      <th>ceiling_height</th>\n",
       "      <th>floors_total</th>\n",
       "      <th>living_area</th>\n",
       "      <th>floor</th>\n",
       "      <th>is_apartment</th>\n",
       "      <th>...</th>\n",
       "      <th>kitchen_area</th>\n",
       "      <th>balcony</th>\n",
       "      <th>locality_name</th>\n",
       "      <th>airports_nearest</th>\n",
       "      <th>cityCenters_nearest</th>\n",
       "      <th>parks_around3000</th>\n",
       "      <th>parks_nearest</th>\n",
       "      <th>ponds_around3000</th>\n",
       "      <th>ponds_nearest</th>\n",
       "      <th>days_exposition</th>\n",
       "    </tr>\n",
       "  </thead>\n",
       "  <tbody>\n",
       "    <tr>\n",
       "      <th>count</th>\n",
       "      <td>23699.000000</td>\n",
       "      <td>2.369900e+04</td>\n",
       "      <td>23699.000000</td>\n",
       "      <td>23699</td>\n",
       "      <td>23699.000000</td>\n",
       "      <td>14504.000000</td>\n",
       "      <td>23613.000000</td>\n",
       "      <td>21796.000000</td>\n",
       "      <td>23699.000000</td>\n",
       "      <td>2775</td>\n",
       "      <td>...</td>\n",
       "      <td>21421.000000</td>\n",
       "      <td>12180.000000</td>\n",
       "      <td>23650</td>\n",
       "      <td>18157.000000</td>\n",
       "      <td>18180.000000</td>\n",
       "      <td>18181.000000</td>\n",
       "      <td>8079.000000</td>\n",
       "      <td>18181.000000</td>\n",
       "      <td>9110.000000</td>\n",
       "      <td>20518.000000</td>\n",
       "    </tr>\n",
       "    <tr>\n",
       "      <th>unique</th>\n",
       "      <td>NaN</td>\n",
       "      <td>NaN</td>\n",
       "      <td>NaN</td>\n",
       "      <td>1491</td>\n",
       "      <td>NaN</td>\n",
       "      <td>NaN</td>\n",
       "      <td>NaN</td>\n",
       "      <td>NaN</td>\n",
       "      <td>NaN</td>\n",
       "      <td>2</td>\n",
       "      <td>...</td>\n",
       "      <td>NaN</td>\n",
       "      <td>NaN</td>\n",
       "      <td>364</td>\n",
       "      <td>NaN</td>\n",
       "      <td>NaN</td>\n",
       "      <td>NaN</td>\n",
       "      <td>NaN</td>\n",
       "      <td>NaN</td>\n",
       "      <td>NaN</td>\n",
       "      <td>NaN</td>\n",
       "    </tr>\n",
       "    <tr>\n",
       "      <th>top</th>\n",
       "      <td>NaN</td>\n",
       "      <td>NaN</td>\n",
       "      <td>NaN</td>\n",
       "      <td>2018-02-01T00:00:00</td>\n",
       "      <td>NaN</td>\n",
       "      <td>NaN</td>\n",
       "      <td>NaN</td>\n",
       "      <td>NaN</td>\n",
       "      <td>NaN</td>\n",
       "      <td>False</td>\n",
       "      <td>...</td>\n",
       "      <td>NaN</td>\n",
       "      <td>NaN</td>\n",
       "      <td>Санкт-Петербург</td>\n",
       "      <td>NaN</td>\n",
       "      <td>NaN</td>\n",
       "      <td>NaN</td>\n",
       "      <td>NaN</td>\n",
       "      <td>NaN</td>\n",
       "      <td>NaN</td>\n",
       "      <td>NaN</td>\n",
       "    </tr>\n",
       "    <tr>\n",
       "      <th>freq</th>\n",
       "      <td>NaN</td>\n",
       "      <td>NaN</td>\n",
       "      <td>NaN</td>\n",
       "      <td>368</td>\n",
       "      <td>NaN</td>\n",
       "      <td>NaN</td>\n",
       "      <td>NaN</td>\n",
       "      <td>NaN</td>\n",
       "      <td>NaN</td>\n",
       "      <td>2725</td>\n",
       "      <td>...</td>\n",
       "      <td>NaN</td>\n",
       "      <td>NaN</td>\n",
       "      <td>15721</td>\n",
       "      <td>NaN</td>\n",
       "      <td>NaN</td>\n",
       "      <td>NaN</td>\n",
       "      <td>NaN</td>\n",
       "      <td>NaN</td>\n",
       "      <td>NaN</td>\n",
       "      <td>NaN</td>\n",
       "    </tr>\n",
       "    <tr>\n",
       "      <th>mean</th>\n",
       "      <td>9.858475</td>\n",
       "      <td>6.541549e+06</td>\n",
       "      <td>60.348651</td>\n",
       "      <td>NaN</td>\n",
       "      <td>2.070636</td>\n",
       "      <td>2.771499</td>\n",
       "      <td>10.673824</td>\n",
       "      <td>34.457852</td>\n",
       "      <td>5.892358</td>\n",
       "      <td>NaN</td>\n",
       "      <td>...</td>\n",
       "      <td>10.569807</td>\n",
       "      <td>1.150082</td>\n",
       "      <td>NaN</td>\n",
       "      <td>28793.672193</td>\n",
       "      <td>14191.277833</td>\n",
       "      <td>0.611408</td>\n",
       "      <td>490.804555</td>\n",
       "      <td>0.770255</td>\n",
       "      <td>517.980900</td>\n",
       "      <td>180.888634</td>\n",
       "    </tr>\n",
       "    <tr>\n",
       "      <th>std</th>\n",
       "      <td>5.682529</td>\n",
       "      <td>1.088701e+07</td>\n",
       "      <td>35.654083</td>\n",
       "      <td>NaN</td>\n",
       "      <td>1.078405</td>\n",
       "      <td>1.261056</td>\n",
       "      <td>6.597173</td>\n",
       "      <td>22.030445</td>\n",
       "      <td>4.885249</td>\n",
       "      <td>NaN</td>\n",
       "      <td>...</td>\n",
       "      <td>5.905438</td>\n",
       "      <td>1.071300</td>\n",
       "      <td>NaN</td>\n",
       "      <td>12630.880622</td>\n",
       "      <td>8608.386210</td>\n",
       "      <td>0.802074</td>\n",
       "      <td>342.317995</td>\n",
       "      <td>0.938346</td>\n",
       "      <td>277.720643</td>\n",
       "      <td>219.727988</td>\n",
       "    </tr>\n",
       "    <tr>\n",
       "      <th>min</th>\n",
       "      <td>0.000000</td>\n",
       "      <td>1.219000e+04</td>\n",
       "      <td>12.000000</td>\n",
       "      <td>NaN</td>\n",
       "      <td>0.000000</td>\n",
       "      <td>1.000000</td>\n",
       "      <td>1.000000</td>\n",
       "      <td>2.000000</td>\n",
       "      <td>1.000000</td>\n",
       "      <td>NaN</td>\n",
       "      <td>...</td>\n",
       "      <td>1.300000</td>\n",
       "      <td>0.000000</td>\n",
       "      <td>NaN</td>\n",
       "      <td>0.000000</td>\n",
       "      <td>181.000000</td>\n",
       "      <td>0.000000</td>\n",
       "      <td>1.000000</td>\n",
       "      <td>0.000000</td>\n",
       "      <td>13.000000</td>\n",
       "      <td>1.000000</td>\n",
       "    </tr>\n",
       "    <tr>\n",
       "      <th>25%</th>\n",
       "      <td>6.000000</td>\n",
       "      <td>3.400000e+06</td>\n",
       "      <td>40.000000</td>\n",
       "      <td>NaN</td>\n",
       "      <td>1.000000</td>\n",
       "      <td>2.520000</td>\n",
       "      <td>5.000000</td>\n",
       "      <td>18.600000</td>\n",
       "      <td>2.000000</td>\n",
       "      <td>NaN</td>\n",
       "      <td>...</td>\n",
       "      <td>7.000000</td>\n",
       "      <td>0.000000</td>\n",
       "      <td>NaN</td>\n",
       "      <td>18585.000000</td>\n",
       "      <td>9238.000000</td>\n",
       "      <td>0.000000</td>\n",
       "      <td>288.000000</td>\n",
       "      <td>0.000000</td>\n",
       "      <td>294.000000</td>\n",
       "      <td>45.000000</td>\n",
       "    </tr>\n",
       "    <tr>\n",
       "      <th>50%</th>\n",
       "      <td>9.000000</td>\n",
       "      <td>4.650000e+06</td>\n",
       "      <td>52.000000</td>\n",
       "      <td>NaN</td>\n",
       "      <td>2.000000</td>\n",
       "      <td>2.650000</td>\n",
       "      <td>9.000000</td>\n",
       "      <td>30.000000</td>\n",
       "      <td>4.000000</td>\n",
       "      <td>NaN</td>\n",
       "      <td>...</td>\n",
       "      <td>9.100000</td>\n",
       "      <td>1.000000</td>\n",
       "      <td>NaN</td>\n",
       "      <td>26726.000000</td>\n",
       "      <td>13098.500000</td>\n",
       "      <td>0.000000</td>\n",
       "      <td>455.000000</td>\n",
       "      <td>1.000000</td>\n",
       "      <td>502.000000</td>\n",
       "      <td>95.000000</td>\n",
       "    </tr>\n",
       "    <tr>\n",
       "      <th>75%</th>\n",
       "      <td>14.000000</td>\n",
       "      <td>6.800000e+06</td>\n",
       "      <td>69.900000</td>\n",
       "      <td>NaN</td>\n",
       "      <td>3.000000</td>\n",
       "      <td>2.800000</td>\n",
       "      <td>16.000000</td>\n",
       "      <td>42.300000</td>\n",
       "      <td>8.000000</td>\n",
       "      <td>NaN</td>\n",
       "      <td>...</td>\n",
       "      <td>12.000000</td>\n",
       "      <td>2.000000</td>\n",
       "      <td>NaN</td>\n",
       "      <td>37273.000000</td>\n",
       "      <td>16293.000000</td>\n",
       "      <td>1.000000</td>\n",
       "      <td>612.000000</td>\n",
       "      <td>1.000000</td>\n",
       "      <td>729.000000</td>\n",
       "      <td>232.000000</td>\n",
       "    </tr>\n",
       "    <tr>\n",
       "      <th>max</th>\n",
       "      <td>50.000000</td>\n",
       "      <td>7.630000e+08</td>\n",
       "      <td>900.000000</td>\n",
       "      <td>NaN</td>\n",
       "      <td>19.000000</td>\n",
       "      <td>100.000000</td>\n",
       "      <td>60.000000</td>\n",
       "      <td>409.700000</td>\n",
       "      <td>33.000000</td>\n",
       "      <td>NaN</td>\n",
       "      <td>...</td>\n",
       "      <td>112.000000</td>\n",
       "      <td>5.000000</td>\n",
       "      <td>NaN</td>\n",
       "      <td>84869.000000</td>\n",
       "      <td>65968.000000</td>\n",
       "      <td>3.000000</td>\n",
       "      <td>3190.000000</td>\n",
       "      <td>3.000000</td>\n",
       "      <td>1344.000000</td>\n",
       "      <td>1580.000000</td>\n",
       "    </tr>\n",
       "  </tbody>\n",
       "</table>\n",
       "<p>11 rows × 22 columns</p>\n",
       "</div>"
      ],
      "text/plain": [
       "        total_images    last_price    total_area first_day_exposition  \\\n",
       "count   23699.000000  2.369900e+04  23699.000000                23699   \n",
       "unique           NaN           NaN           NaN                 1491   \n",
       "top              NaN           NaN           NaN  2018-02-01T00:00:00   \n",
       "freq             NaN           NaN           NaN                  368   \n",
       "mean        9.858475  6.541549e+06     60.348651                  NaN   \n",
       "std         5.682529  1.088701e+07     35.654083                  NaN   \n",
       "min         0.000000  1.219000e+04     12.000000                  NaN   \n",
       "25%         6.000000  3.400000e+06     40.000000                  NaN   \n",
       "50%         9.000000  4.650000e+06     52.000000                  NaN   \n",
       "75%        14.000000  6.800000e+06     69.900000                  NaN   \n",
       "max        50.000000  7.630000e+08    900.000000                  NaN   \n",
       "\n",
       "               rooms  ceiling_height  floors_total   living_area  \\\n",
       "count   23699.000000    14504.000000  23613.000000  21796.000000   \n",
       "unique           NaN             NaN           NaN           NaN   \n",
       "top              NaN             NaN           NaN           NaN   \n",
       "freq             NaN             NaN           NaN           NaN   \n",
       "mean        2.070636        2.771499     10.673824     34.457852   \n",
       "std         1.078405        1.261056      6.597173     22.030445   \n",
       "min         0.000000        1.000000      1.000000      2.000000   \n",
       "25%         1.000000        2.520000      5.000000     18.600000   \n",
       "50%         2.000000        2.650000      9.000000     30.000000   \n",
       "75%         3.000000        2.800000     16.000000     42.300000   \n",
       "max        19.000000      100.000000     60.000000    409.700000   \n",
       "\n",
       "               floor is_apartment  ...  kitchen_area       balcony  \\\n",
       "count   23699.000000         2775  ...  21421.000000  12180.000000   \n",
       "unique           NaN            2  ...           NaN           NaN   \n",
       "top              NaN        False  ...           NaN           NaN   \n",
       "freq             NaN         2725  ...           NaN           NaN   \n",
       "mean        5.892358          NaN  ...     10.569807      1.150082   \n",
       "std         4.885249          NaN  ...      5.905438      1.071300   \n",
       "min         1.000000          NaN  ...      1.300000      0.000000   \n",
       "25%         2.000000          NaN  ...      7.000000      0.000000   \n",
       "50%         4.000000          NaN  ...      9.100000      1.000000   \n",
       "75%         8.000000          NaN  ...     12.000000      2.000000   \n",
       "max        33.000000          NaN  ...    112.000000      5.000000   \n",
       "\n",
       "          locality_name  airports_nearest cityCenters_nearest  \\\n",
       "count             23650      18157.000000        18180.000000   \n",
       "unique              364               NaN                 NaN   \n",
       "top     Санкт-Петербург               NaN                 NaN   \n",
       "freq              15721               NaN                 NaN   \n",
       "mean                NaN      28793.672193        14191.277833   \n",
       "std                 NaN      12630.880622         8608.386210   \n",
       "min                 NaN          0.000000          181.000000   \n",
       "25%                 NaN      18585.000000         9238.000000   \n",
       "50%                 NaN      26726.000000        13098.500000   \n",
       "75%                 NaN      37273.000000        16293.000000   \n",
       "max                 NaN      84869.000000        65968.000000   \n",
       "\n",
       "        parks_around3000  parks_nearest  ponds_around3000  ponds_nearest  \\\n",
       "count       18181.000000    8079.000000      18181.000000    9110.000000   \n",
       "unique               NaN            NaN               NaN            NaN   \n",
       "top                  NaN            NaN               NaN            NaN   \n",
       "freq                 NaN            NaN               NaN            NaN   \n",
       "mean            0.611408     490.804555          0.770255     517.980900   \n",
       "std             0.802074     342.317995          0.938346     277.720643   \n",
       "min             0.000000       1.000000          0.000000      13.000000   \n",
       "25%             0.000000     288.000000          0.000000     294.000000   \n",
       "50%             0.000000     455.000000          1.000000     502.000000   \n",
       "75%             1.000000     612.000000          1.000000     729.000000   \n",
       "max             3.000000    3190.000000          3.000000    1344.000000   \n",
       "\n",
       "        days_exposition  \n",
       "count      20518.000000  \n",
       "unique              NaN  \n",
       "top                 NaN  \n",
       "freq                NaN  \n",
       "mean         180.888634  \n",
       "std          219.727988  \n",
       "min            1.000000  \n",
       "25%           45.000000  \n",
       "50%           95.000000  \n",
       "75%          232.000000  \n",
       "max         1580.000000  \n",
       "\n",
       "[11 rows x 22 columns]"
      ]
     },
     "execution_count": 6,
     "metadata": {},
     "output_type": "execute_result"
    }
   ],
   "source": [
    "data.describe(include = \"all\")"
   ]
  },
  {
   "cell_type": "code",
   "execution_count": 7,
   "metadata": {},
   "outputs": [
    {
     "data": {
      "image/png": "[encoded data removed]",
      "text/plain": [
       "<Figure size 1080x1440 with 20 Axes>"
      ]
     },
     "metadata": {
      "needs_background": "light"
     },
     "output_type": "display_data"
    }
   ],
   "source": [
    "# Визуализируем общие данные\n",
    "data.hist(bins=25, figsize=(15, 20), log=True);\n",
    "#plt.yscale('log')"
   ]
  },
  {
   "cell_type": "markdown",
   "metadata": {},
   "source": [
    "<div class=\"alert alert-block alert-warning\">\n",
    "\n",
    "**Комментарий ревьювера (что можно улучшить)**\n",
    "    \n",
    "Для того, чтобы убрать технические строки над графиком нужно воспользоваться:\n",
    "    \n",
    "    plt.show()\n",
    "\n",
    "</div>"
   ]
  },
  {
   "cell_type": "markdown",
   "metadata": {},
   "source": [
    "Общая предварительная оценка данных: \n",
    "- набор данных достаточен для интеллектуального анализа\n",
    "- есть пропуски, аномалии и выбросы\n",
    "- присутствуют явные дубликаты, неправильные типы."
   ]
  },
  {
   "cell_type": "markdown",
   "metadata": {},
   "source": [
    "<div class=\"alert alert-block alert-success\">\n",
    "\n",
    "**Комментарий ревьювера (все отлично)**\n",
    "    \n",
    "Основные проблемы в данных определены👍\n",
    "</div>"
   ]
  },
  {
   "cell_type": "markdown",
   "metadata": {
    "id": "-O5NtivEAwb9"
   },
   "source": [
    "### Выполните предобработку данных"
   ]
  },
  {
   "cell_type": "markdown",
   "metadata": {},
   "source": [
    "**2.1 Исследование и заполнение пропусков**"
   ]
  },
  {
   "cell_type": "markdown",
   "metadata": {},
   "source": [
    "- Найдите, изучите и заполните пропущенные значения в столбцах"
   ]
  },
  {
   "cell_type": "code",
   "execution_count": 8,
   "metadata": {},
   "outputs": [
    {
     "data": {
      "text/html": [
       "<style  type=\"text/css\" >\n",
       "#T_a62d6_row0_col0,#T_a62d6_row1_col0,#T_a62d6_row2_col0,#T_a62d6_row3_col0,#T_a62d6_row4_col0,#T_a62d6_row8_col0,#T_a62d6_row10_col0,#T_a62d6_row11_col0,#T_a62d6_row14_col0{\n",
       "            background-color:  #3b4cc0;\n",
       "            color:  #f1f1f1;\n",
       "        }#T_a62d6_row5_col0{\n",
       "            background-color:  #ccd9ed;\n",
       "            color:  #000000;\n",
       "        }#T_a62d6_row6_col0{\n",
       "            background-color:  #3c4ec2;\n",
       "            color:  #f1f1f1;\n",
       "        }#T_a62d6_row7_col0{\n",
       "            background-color:  #5673e0;\n",
       "            color:  #000000;\n",
       "        }#T_a62d6_row9_col0{\n",
       "            background-color:  #b40426;\n",
       "            color:  #f1f1f1;\n",
       "        }#T_a62d6_row12_col0{\n",
       "            background-color:  #5b7ae5;\n",
       "            color:  #000000;\n",
       "        }#T_a62d6_row13_col0{\n",
       "            background-color:  #e9d5cb;\n",
       "            color:  #000000;\n",
       "        }#T_a62d6_row15_col0,#T_a62d6_row16_col0,#T_a62d6_row17_col0,#T_a62d6_row19_col0{\n",
       "            background-color:  #92b4fe;\n",
       "            color:  #000000;\n",
       "        }#T_a62d6_row18_col0{\n",
       "            background-color:  #f49a7b;\n",
       "            color:  #000000;\n",
       "        }#T_a62d6_row20_col0{\n",
       "            background-color:  #f7ad90;\n",
       "            color:  #000000;\n",
       "        }#T_a62d6_row21_col0{\n",
       "            background-color:  #6a8bef;\n",
       "            color:  #000000;\n",
       "        }</style><table id=\"T_a62d6_\" ><thead>    <tr>        <th class=\"blank level0\" ></th>        <th class=\"col_heading level0 col0\" >0</th>    </tr></thead><tbody>\n",
       "                <tr>\n",
       "                        <th id=\"T_a62d6_level0_row0\" class=\"row_heading level0 row0\" >total_images</th>\n",
       "                        <td id=\"T_a62d6_row0_col0\" class=\"data row0 col0\" >0.0</td>\n",
       "            </tr>\n",
       "            <tr>\n",
       "                        <th id=\"T_a62d6_level0_row1\" class=\"row_heading level0 row1\" >last_price</th>\n",
       "                        <td id=\"T_a62d6_row1_col0\" class=\"data row1 col0\" >0.0</td>\n",
       "            </tr>\n",
       "            <tr>\n",
       "                        <th id=\"T_a62d6_level0_row2\" class=\"row_heading level0 row2\" >total_area</th>\n",
       "                        <td id=\"T_a62d6_row2_col0\" class=\"data row2 col0\" >0.0</td>\n",
       "            </tr>\n",
       "            <tr>\n",
       "                        <th id=\"T_a62d6_level0_row3\" class=\"row_heading level0 row3\" >first_day_exposition</th>\n",
       "                        <td id=\"T_a62d6_row3_col0\" class=\"data row3 col0\" >0.0</td>\n",
       "            </tr>\n",
       "            <tr>\n",
       "                        <th id=\"T_a62d6_level0_row4\" class=\"row_heading level0 row4\" >rooms</th>\n",
       "                        <td id=\"T_a62d6_row4_col0\" class=\"data row4 col0\" >0.0</td>\n",
       "            </tr>\n",
       "            <tr>\n",
       "                        <th id=\"T_a62d6_level0_row5\" class=\"row_heading level0 row5\" >ceiling_height</th>\n",
       "                        <td id=\"T_a62d6_row5_col0\" class=\"data row5 col0\" >38.8</td>\n",
       "            </tr>\n",
       "            <tr>\n",
       "                        <th id=\"T_a62d6_level0_row6\" class=\"row_heading level0 row6\" >floors_total</th>\n",
       "                        <td id=\"T_a62d6_row6_col0\" class=\"data row6 col0\" >0.4</td>\n",
       "            </tr>\n",
       "            <tr>\n",
       "                        <th id=\"T_a62d6_level0_row7\" class=\"row_heading level0 row7\" >living_area</th>\n",
       "                        <td id=\"T_a62d6_row7_col0\" class=\"data row7 col0\" >8.0</td>\n",
       "            </tr>\n",
       "            <tr>\n",
       "                        <th id=\"T_a62d6_level0_row8\" class=\"row_heading level0 row8\" >floor</th>\n",
       "                        <td id=\"T_a62d6_row8_col0\" class=\"data row8 col0\" >0.0</td>\n",
       "            </tr>\n",
       "            <tr>\n",
       "                        <th id=\"T_a62d6_level0_row9\" class=\"row_heading level0 row9\" >is_apartment</th>\n",
       "                        <td id=\"T_a62d6_row9_col0\" class=\"data row9 col0\" >88.3</td>\n",
       "            </tr>\n",
       "            <tr>\n",
       "                        <th id=\"T_a62d6_level0_row10\" class=\"row_heading level0 row10\" >studio</th>\n",
       "                        <td id=\"T_a62d6_row10_col0\" class=\"data row10 col0\" >0.0</td>\n",
       "            </tr>\n",
       "            <tr>\n",
       "                        <th id=\"T_a62d6_level0_row11\" class=\"row_heading level0 row11\" >open_plan</th>\n",
       "                        <td id=\"T_a62d6_row11_col0\" class=\"data row11 col0\" >0.0</td>\n",
       "            </tr>\n",
       "            <tr>\n",
       "                        <th id=\"T_a62d6_level0_row12\" class=\"row_heading level0 row12\" >kitchen_area</th>\n",
       "                        <td id=\"T_a62d6_row12_col0\" class=\"data row12 col0\" >9.6</td>\n",
       "            </tr>\n",
       "            <tr>\n",
       "                        <th id=\"T_a62d6_level0_row13\" class=\"row_heading level0 row13\" >balcony</th>\n",
       "                        <td id=\"T_a62d6_row13_col0\" class=\"data row13 col0\" >48.6</td>\n",
       "            </tr>\n",
       "            <tr>\n",
       "                        <th id=\"T_a62d6_level0_row14\" class=\"row_heading level0 row14\" >locality_name</th>\n",
       "                        <td id=\"T_a62d6_row14_col0\" class=\"data row14 col0\" >0.2</td>\n",
       "            </tr>\n",
       "            <tr>\n",
       "                        <th id=\"T_a62d6_level0_row15\" class=\"row_heading level0 row15\" >airports_nearest</th>\n",
       "                        <td id=\"T_a62d6_row15_col0\" class=\"data row15 col0\" >23.4</td>\n",
       "            </tr>\n",
       "            <tr>\n",
       "                        <th id=\"T_a62d6_level0_row16\" class=\"row_heading level0 row16\" >cityCenters_nearest</th>\n",
       "                        <td id=\"T_a62d6_row16_col0\" class=\"data row16 col0\" >23.3</td>\n",
       "            </tr>\n",
       "            <tr>\n",
       "                        <th id=\"T_a62d6_level0_row17\" class=\"row_heading level0 row17\" >parks_around3000</th>\n",
       "                        <td id=\"T_a62d6_row17_col0\" class=\"data row17 col0\" >23.3</td>\n",
       "            </tr>\n",
       "            <tr>\n",
       "                        <th id=\"T_a62d6_level0_row18\" class=\"row_heading level0 row18\" >parks_nearest</th>\n",
       "                        <td id=\"T_a62d6_row18_col0\" class=\"data row18 col0\" >65.9</td>\n",
       "            </tr>\n",
       "            <tr>\n",
       "                        <th id=\"T_a62d6_level0_row19\" class=\"row_heading level0 row19\" >ponds_around3000</th>\n",
       "                        <td id=\"T_a62d6_row19_col0\" class=\"data row19 col0\" >23.3</td>\n",
       "            </tr>\n",
       "            <tr>\n",
       "                        <th id=\"T_a62d6_level0_row20\" class=\"row_heading level0 row20\" >ponds_nearest</th>\n",
       "                        <td id=\"T_a62d6_row20_col0\" class=\"data row20 col0\" >61.6</td>\n",
       "            </tr>\n",
       "            <tr>\n",
       "                        <th id=\"T_a62d6_level0_row21\" class=\"row_heading level0 row21\" >days_exposition</th>\n",
       "                        <td id=\"T_a62d6_row21_col0\" class=\"data row21 col0\" >13.4</td>\n",
       "            </tr>\n",
       "    </tbody></table>"
      ],
      "text/plain": [
       "<pandas.io.formats.style.Styler at 0x7fe3ebe28ee0>"
      ]
     },
     "execution_count": 8,
     "metadata": {},
     "output_type": "execute_result"
    }
   ],
   "source": [
    "# Выведем долю пропущенных значений для каждого столбца датафрейма\n",
    "pd.DataFrame(data.isna().mean()*100).style.set_precision(1).background_gradient('coolwarm')"
   ]
  },
  {
   "cell_type": "markdown",
   "metadata": {},
   "source": [
    "Есть много причин появления пропусков, например технические - ошибки системы, при передаче, выгрузке данных или допущены  пользователем - неправильный ввод или нежелание (сокрытие) информации.\n",
    "Рассмотрим пропуски подробнее по столбцам:\n",
    "- \"kitchen_area\" возможно указывают на то что в квартире нет отдельной кухни, возможно это студия\n",
    "- \"balcony\" в квартине нет балкона\n",
    "- \"airport_neareast\" нет информации на каком расстоянии находится аэропорт или аэропорта в округе нет\n",
    "- \"cityCenters_neareast\" говорит о том, что нет данных насколько квартира удалена от центра города \n",
    "- \"parks_around3000\" в районе 3-х км нет парка\n",
    "- \"park_nearest\" нет информации на каком расстоянии находится ближайший парк\n",
    "- \"ponds_around3000\" в районе 3-х км нет водоема\n",
    "- \"ponds_nearest\" около недвижимости нет водоема\n",
    "- \"days_exposition\" возможно, недвижимость еще не продана\n",
    "- Возможно, что просто не все хозяева предоставили информацию о\"ceiling_heights\" \"locality_name\" \"is_apartment\" \"living_area\""
   ]
  },
  {
   "cell_type": "markdown",
   "metadata": {},
   "source": [
    "<div class=\"alert alert-block alert-success\">\n",
    "\n",
    "**Комментарий ревьювера (все отлично)**\n",
    "    \n",
    "Верно определенная причина пропусков позволяет принять верные решения по восстановлению данных👍 \n",
    "</div>"
   ]
  },
  {
   "cell_type": "code",
   "execution_count": 9,
   "metadata": {
    "id": "7v3vAeTuAwb-"
   },
   "outputs": [
    {
     "data": {
      "text/plain": [
       "ceiling_height          9195\n",
       "floors_total              86\n",
       "living_area             1903\n",
       "is_apartment           20924\n",
       "kitchen_area            2278\n",
       "balcony                11519\n",
       "locality_name             49\n",
       "airports_nearest        5542\n",
       "cityCenters_nearest     5519\n",
       "parks_around3000        5518\n",
       "parks_nearest          15620\n",
       "ponds_around3000        5518\n",
       "ponds_nearest          14589\n",
       "days_exposition         3181\n",
       "Name: nans, dtype: int64"
      ]
     },
     "execution_count": 9,
     "metadata": {},
     "output_type": "execute_result"
    }
   ],
   "source": [
    "# Выведем на экран только количество пропусков по столбцам\n",
    "data.isna().sum().to_frame(name=\"nans\").query(\"nans > 0\")[\"nans\"]"
   ]
  },
  {
   "cell_type": "code",
   "execution_count": 10,
   "metadata": {},
   "outputs": [
    {
     "data": {
      "text/html": [
       "<div>\n",
       "<style scoped>\n",
       "    .dataframe tbody tr th:only-of-type {\n",
       "        vertical-align: middle;\n",
       "    }\n",
       "\n",
       "    .dataframe tbody tr th {\n",
       "        vertical-align: top;\n",
       "    }\n",
       "\n",
       "    .dataframe thead th {\n",
       "        text-align: right;\n",
       "    }\n",
       "</style>\n",
       "<table border=\"1\" class=\"dataframe\">\n",
       "  <thead>\n",
       "    <tr style=\"text-align: right;\">\n",
       "      <th></th>\n",
       "      <th>total_images</th>\n",
       "      <th>last_price</th>\n",
       "      <th>total_area</th>\n",
       "      <th>first_day_exposition</th>\n",
       "      <th>rooms</th>\n",
       "      <th>ceiling_height</th>\n",
       "      <th>floors_total</th>\n",
       "      <th>living_area</th>\n",
       "      <th>floor</th>\n",
       "      <th>is_apartment</th>\n",
       "      <th>...</th>\n",
       "      <th>kitchen_area</th>\n",
       "      <th>balcony</th>\n",
       "      <th>locality_name</th>\n",
       "      <th>airports_nearest</th>\n",
       "      <th>cityCenters_nearest</th>\n",
       "      <th>parks_around3000</th>\n",
       "      <th>parks_nearest</th>\n",
       "      <th>ponds_around3000</th>\n",
       "      <th>ponds_nearest</th>\n",
       "      <th>days_exposition</th>\n",
       "    </tr>\n",
       "  </thead>\n",
       "  <tbody>\n",
       "    <tr>\n",
       "      <th>0</th>\n",
       "      <td>20</td>\n",
       "      <td>13000000.0</td>\n",
       "      <td>108.0</td>\n",
       "      <td>2019-03-07T00:00:00</td>\n",
       "      <td>3</td>\n",
       "      <td>2.70</td>\n",
       "      <td>16.0</td>\n",
       "      <td>51.0</td>\n",
       "      <td>8</td>\n",
       "      <td>NaN</td>\n",
       "      <td>...</td>\n",
       "      <td>25.0</td>\n",
       "      <td>NaN</td>\n",
       "      <td>Санкт-Петербург</td>\n",
       "      <td>18863.0</td>\n",
       "      <td>16028.0</td>\n",
       "      <td>1.0</td>\n",
       "      <td>482.0</td>\n",
       "      <td>2.0</td>\n",
       "      <td>755.0</td>\n",
       "      <td>NaN</td>\n",
       "    </tr>\n",
       "    <tr>\n",
       "      <th>1</th>\n",
       "      <td>7</td>\n",
       "      <td>3350000.0</td>\n",
       "      <td>40.4</td>\n",
       "      <td>2018-12-04T00:00:00</td>\n",
       "      <td>1</td>\n",
       "      <td>NaN</td>\n",
       "      <td>11.0</td>\n",
       "      <td>18.6</td>\n",
       "      <td>1</td>\n",
       "      <td>NaN</td>\n",
       "      <td>...</td>\n",
       "      <td>11.0</td>\n",
       "      <td>2.0</td>\n",
       "      <td>посёлок Шушары</td>\n",
       "      <td>12817.0</td>\n",
       "      <td>18603.0</td>\n",
       "      <td>0.0</td>\n",
       "      <td>NaN</td>\n",
       "      <td>0.0</td>\n",
       "      <td>NaN</td>\n",
       "      <td>81.0</td>\n",
       "    </tr>\n",
       "    <tr>\n",
       "      <th>2</th>\n",
       "      <td>10</td>\n",
       "      <td>5196000.0</td>\n",
       "      <td>56.0</td>\n",
       "      <td>2015-08-20T00:00:00</td>\n",
       "      <td>2</td>\n",
       "      <td>NaN</td>\n",
       "      <td>5.0</td>\n",
       "      <td>34.3</td>\n",
       "      <td>4</td>\n",
       "      <td>NaN</td>\n",
       "      <td>...</td>\n",
       "      <td>8.3</td>\n",
       "      <td>0.0</td>\n",
       "      <td>Санкт-Петербург</td>\n",
       "      <td>21741.0</td>\n",
       "      <td>13933.0</td>\n",
       "      <td>1.0</td>\n",
       "      <td>90.0</td>\n",
       "      <td>2.0</td>\n",
       "      <td>574.0</td>\n",
       "      <td>558.0</td>\n",
       "    </tr>\n",
       "    <tr>\n",
       "      <th>3</th>\n",
       "      <td>0</td>\n",
       "      <td>64900000.0</td>\n",
       "      <td>159.0</td>\n",
       "      <td>2015-07-24T00:00:00</td>\n",
       "      <td>3</td>\n",
       "      <td>NaN</td>\n",
       "      <td>14.0</td>\n",
       "      <td>NaN</td>\n",
       "      <td>9</td>\n",
       "      <td>NaN</td>\n",
       "      <td>...</td>\n",
       "      <td>NaN</td>\n",
       "      <td>0.0</td>\n",
       "      <td>Санкт-Петербург</td>\n",
       "      <td>28098.0</td>\n",
       "      <td>6800.0</td>\n",
       "      <td>2.0</td>\n",
       "      <td>84.0</td>\n",
       "      <td>3.0</td>\n",
       "      <td>234.0</td>\n",
       "      <td>424.0</td>\n",
       "    </tr>\n",
       "    <tr>\n",
       "      <th>4</th>\n",
       "      <td>2</td>\n",
       "      <td>10000000.0</td>\n",
       "      <td>100.0</td>\n",
       "      <td>2018-06-19T00:00:00</td>\n",
       "      <td>2</td>\n",
       "      <td>3.03</td>\n",
       "      <td>14.0</td>\n",
       "      <td>32.0</td>\n",
       "      <td>13</td>\n",
       "      <td>NaN</td>\n",
       "      <td>...</td>\n",
       "      <td>41.0</td>\n",
       "      <td>NaN</td>\n",
       "      <td>Санкт-Петербург</td>\n",
       "      <td>31856.0</td>\n",
       "      <td>8098.0</td>\n",
       "      <td>2.0</td>\n",
       "      <td>112.0</td>\n",
       "      <td>1.0</td>\n",
       "      <td>48.0</td>\n",
       "      <td>121.0</td>\n",
       "    </tr>\n",
       "  </tbody>\n",
       "</table>\n",
       "<p>5 rows × 22 columns</p>\n",
       "</div>"
      ],
      "text/plain": [
       "   total_images  last_price  total_area first_day_exposition  rooms  \\\n",
       "0            20  13000000.0       108.0  2019-03-07T00:00:00      3   \n",
       "1             7   3350000.0        40.4  2018-12-04T00:00:00      1   \n",
       "2            10   5196000.0        56.0  2015-08-20T00:00:00      2   \n",
       "3             0  64900000.0       159.0  2015-07-24T00:00:00      3   \n",
       "4             2  10000000.0       100.0  2018-06-19T00:00:00      2   \n",
       "\n",
       "   ceiling_height  floors_total  living_area  floor is_apartment  ...  \\\n",
       "0            2.70          16.0         51.0      8          NaN  ...   \n",
       "1             NaN          11.0         18.6      1          NaN  ...   \n",
       "2             NaN           5.0         34.3      4          NaN  ...   \n",
       "3             NaN          14.0          NaN      9          NaN  ...   \n",
       "4            3.03          14.0         32.0     13          NaN  ...   \n",
       "\n",
       "   kitchen_area  balcony    locality_name  airports_nearest  \\\n",
       "0          25.0      NaN  Санкт-Петербург           18863.0   \n",
       "1          11.0      2.0   посёлок Шушары           12817.0   \n",
       "2           8.3      0.0  Санкт-Петербург           21741.0   \n",
       "3           NaN      0.0  Санкт-Петербург           28098.0   \n",
       "4          41.0      NaN  Санкт-Петербург           31856.0   \n",
       "\n",
       "  cityCenters_nearest  parks_around3000  parks_nearest  ponds_around3000  \\\n",
       "0             16028.0               1.0          482.0               2.0   \n",
       "1             18603.0               0.0            NaN               0.0   \n",
       "2             13933.0               1.0           90.0               2.0   \n",
       "3              6800.0               2.0           84.0               3.0   \n",
       "4              8098.0               2.0          112.0               1.0   \n",
       "\n",
       "   ponds_nearest  days_exposition  \n",
       "0          755.0              NaN  \n",
       "1            NaN             81.0  \n",
       "2          574.0            558.0  \n",
       "3          234.0            424.0  \n",
       "4           48.0            121.0  \n",
       "\n",
       "[5 rows x 22 columns]"
      ]
     },
     "execution_count": 10,
     "metadata": {},
     "output_type": "execute_result"
    }
   ],
   "source": [
    "data.head(5)"
   ]
  },
  {
   "cell_type": "code",
   "execution_count": 11,
   "metadata": {},
   "outputs": [],
   "source": [
    "#заменим пустые значения на unknown\n",
    "data['locality_name'] = data['locality_name'].fillna('unknown')"
   ]
  },
  {
   "cell_type": "code",
   "execution_count": 12,
   "metadata": {},
   "outputs": [],
   "source": [
    "#заполним пропуски на среднее значение\n",
    "data['ceiling_height'] = data['ceiling_height'].fillna(data['ceiling_height'].mean()) "
   ]
  },
  {
   "cell_type": "code",
   "execution_count": 13,
   "metadata": {},
   "outputs": [],
   "source": [
    "#заполним пропуски на среднее значение\n",
    "data['kitchen_area'] = data['kitchen_area'].fillna(data['total_area'] - data['living_area'])"
   ]
  },
  {
   "cell_type": "code",
   "execution_count": 14,
   "metadata": {},
   "outputs": [
    {
     "name": "stdout",
     "output_type": "stream",
     "text": [
      "0.5709796633031937\n"
     ]
    }
   ],
   "source": [
    "living_area_coeff = data['living_area'].mean() / data['total_area'].mean()\n",
    "print(living_area_coeff)"
   ]
  },
  {
   "cell_type": "code",
   "execution_count": 15,
   "metadata": {},
   "outputs": [],
   "source": [
    "#заполним пропуски на ноль\n",
    "data['living_area'] = data['living_area'].fillna(living_area_coeff * data['total_area'])"
   ]
  },
  {
   "cell_type": "code",
   "execution_count": 16,
   "metadata": {},
   "outputs": [
    {
     "name": "stdout",
     "output_type": "stream",
     "text": [
      "0        51.000000\n",
      "1        18.600000\n",
      "2        34.300000\n",
      "3        90.785766\n",
      "4        32.000000\n",
      "           ...    \n",
      "23694    73.300000\n",
      "23695    38.000000\n",
      "23696    29.700000\n",
      "23697    43.822689\n",
      "23698    12.300000\n",
      "Name: living_area, Length: 23699, dtype: float64\n"
     ]
    }
   ],
   "source": [
    "print(data['living_area'])"
   ]
  },
  {
   "cell_type": "markdown",
   "metadata": {},
   "source": [
    "Изменим пропущенные значения на NaN на среднее в столбцах:\n",
    "- locality_name, ceiling_height, kitchen_area, living_area, total_area"
   ]
  },
  {
   "cell_type": "markdown",
   "metadata": {},
   "source": [
    "<div class=\"alert alert-block alert-danger\">\n",
    "    \n",
    "**Комментарий ревьювера (недочет, который нужно доработать)**\n",
    "\n",
    "Пропусков в этих данных много, чтобы просто заполнить их нулями. Попробуй восстановить пропуски с помощью других параметров.\n",
    "\n",
    "</div>"
   ]
  },
  {
   "cell_type": "markdown",
   "metadata": {},
   "source": [
    "<div class=\"alert alert-block alert-info\">\n",
    "<b>КОММЕНТАРИЙ ОТ УЧЕНИКА: Заполним пропущенные значения в колонках ceiling_height, kitchen_area, living_area  на среднее по столбцам</b>\n",
    "</div>"
   ]
  },
  {
   "cell_type": "markdown",
   "metadata": {},
   "source": [
    "<div class=\"alert alert-block alert-danger\">\n",
    "    \n",
    "**Комментарий ревьювера v2 (недочет, который нужно доработать)**\n",
    "    \n",
    "Твой способ заполнения пропусков вносит искусственные пики в распределении и искажает данные, а не восстанавливает их. Если высотку потолков еще можно объяснить стандартами, то площади кухонь и жилая площадь отличаются в зависимости от других параметров. Попробуй восстановить площади с помощью коррелирующих с ними параметров.\n",
    "</div>"
   ]
  },
  {
   "cell_type": "markdown",
   "metadata": {},
   "source": [
    "<div class=\"alert alert-block alert-info\">\n",
    "<b>КОММЕНТАРИЙ ОТ УЧЕНИКА v2: Заполним пропущенные значения в колонках kitchen_area разницой total_area-living_area. Чтобы заполнить пропуски в living_area рассчитаем коэффициент среднее отношение жилой площади к общей площади и пропущенные значения жилой площади заполнить общей площадью, умноженной на этот коэффициент.  </b>\n",
    "</div>"
   ]
  },
  {
   "cell_type": "markdown",
   "metadata": {},
   "source": [
    "<div class=\"alert alert-block alert-success\">\n",
    "\n",
    "**Комментарий ревьювера v3 (все отлично)**\n",
    "    \n",
    "Отличное решение👍\n",
    "</div>"
   ]
  },
  {
   "cell_type": "markdown",
   "metadata": {},
   "source": [
    "**2.2 Изменение типов данных**"
   ]
  },
  {
   "cell_type": "code",
   "execution_count": 17,
   "metadata": {
    "scrolled": true
   },
   "outputs": [
    {
     "data": {
      "text/plain": [
       "total_images              int64\n",
       "last_price              float64\n",
       "total_area              float64\n",
       "first_day_exposition     object\n",
       "rooms                     int64\n",
       "ceiling_height          float64\n",
       "floors_total            float64\n",
       "living_area             float64\n",
       "floor                     int64\n",
       "is_apartment             object\n",
       "studio                     bool\n",
       "open_plan                  bool\n",
       "kitchen_area            float64\n",
       "balcony                 float64\n",
       "locality_name            object\n",
       "airports_nearest        float64\n",
       "cityCenters_nearest     float64\n",
       "parks_around3000        float64\n",
       "parks_nearest           float64\n",
       "ponds_around3000        float64\n",
       "ponds_nearest           float64\n",
       "days_exposition         float64\n",
       "dtype: object"
      ]
     },
     "execution_count": 17,
     "metadata": {},
     "output_type": "execute_result"
    }
   ],
   "source": [
    "data.dtypes"
   ]
  },
  {
   "cell_type": "code",
   "execution_count": 18,
   "metadata": {},
   "outputs": [
    {
     "data": {
      "text/plain": [
       "(23699, 22)"
      ]
     },
     "execution_count": 18,
     "metadata": {},
     "output_type": "execute_result"
    }
   ],
   "source": [
    "data.shape"
   ]
  },
  {
   "cell_type": "code",
   "execution_count": 19,
   "metadata": {},
   "outputs": [],
   "source": [
    "# Удаляем строки с пропущенными значениями в колонках [floors_total]\n",
    "data = data.dropna(subset=['floors_total'])"
   ]
  },
  {
   "cell_type": "code",
   "execution_count": 20,
   "metadata": {},
   "outputs": [
    {
     "data": {
      "text/plain": [
       "(23613, 22)"
      ]
     },
     "execution_count": 20,
     "metadata": {},
     "output_type": "execute_result"
    }
   ],
   "source": [
    "data.shape"
   ]
  },
  {
   "cell_type": "code",
   "execution_count": 21,
   "metadata": {},
   "outputs": [],
   "source": [
    "#изменим количество этажей на int для удобства просмотра\n",
    "data['floors_total'] = data['floors_total'].astype('int')"
   ]
  },
  {
   "cell_type": "markdown",
   "metadata": {},
   "source": [
    "<div class=\"alert alert-block alert-warning\">\n",
    "\n",
    "**Комментарий ревьювера (что можно улучшить)**\n",
    "    \n",
    "Малую долю пропусков в этажности лучше удалить, чем создавать нулевые значения, которые могут повлиять на анализ.\n",
    "</div>"
   ]
  },
  {
   "cell_type": "markdown",
   "metadata": {},
   "source": [
    "<div class=\"alert alert-block alert-info\">\n",
    "<b>КОММЕНТАРИЙ ОТ УЧЕНИКА: Удалим пропущенные значения в колонках floors_total</b>\n",
    "</div>"
   ]
  },
  {
   "cell_type": "code",
   "execution_count": 22,
   "metadata": {},
   "outputs": [],
   "source": [
    "# Заменяем тип данных на \"bool\" и пропущенные занчения на False \n",
    "data['is_apartment'] = data['is_apartment'].fillna(False).astype(bool)"
   ]
  },
  {
   "cell_type": "code",
   "execution_count": 23,
   "metadata": {},
   "outputs": [],
   "source": [
    "#переведем столбец с датой в формат даты без времени, т.к. время не указано\n",
    "data['first_day_exposition'] = pd.to_datetime(data['first_day_exposition'], format = '%Y-%m-%d')"
   ]
  },
  {
   "cell_type": "markdown",
   "metadata": {},
   "source": [
    "<div class=\"alert alert-block alert-success\">\n",
    "\n",
    "**Комментарий ревьювера (все отлично)**\n",
    "    \n",
    "👍\n",
    "</div>"
   ]
  },
  {
   "cell_type": "code",
   "execution_count": 24,
   "metadata": {},
   "outputs": [],
   "source": [
    "#заменим пропуски в days_exposition на ноль и изменим тип данных\n",
    "data['days_exposition'] = data['days_exposition'].fillna(0).astype('int')"
   ]
  },
  {
   "cell_type": "markdown",
   "metadata": {},
   "source": [
    "<div class=\"alert alert-block alert-warning\">\n",
    "\n",
    "**Комментарий ревьювера (что можно улучшить)**\n",
    "    \n",
    "Ввод нулевых значений при работе с пропусками в таком количестве допустимое решение, но при анализе заднных придется фильтровать данные от них, чтобы не исказить результаты.\n",
    "    \n",
    "</div>"
   ]
  },
  {
   "cell_type": "code",
   "execution_count": 25,
   "metadata": {},
   "outputs": [],
   "source": [
    "#заменим пропуски в balcony на 0 и изменим тип данных на int\n",
    "data['balcony'] = data['balcony'].fillna(0).astype('int')"
   ]
  },
  {
   "cell_type": "code",
   "execution_count": 26,
   "metadata": {},
   "outputs": [],
   "source": [
    "#округлим airports_nearest и заполним пропуски на ноль\n",
    "data['airports_nearest'] = data['airports_nearest'].fillna(0).astype('int')"
   ]
  },
  {
   "cell_type": "code",
   "execution_count": 27,
   "metadata": {},
   "outputs": [],
   "source": [
    "#изменим тип данных на int cityCenters_nearest и заполним пропуски на ноль\n",
    "data['cityCenters_nearest'] = data['cityCenters_nearest'].fillna(0).astype('int')"
   ]
  },
  {
   "cell_type": "code",
   "execution_count": 28,
   "metadata": {},
   "outputs": [],
   "source": [
    "#изменим тип данных на int ponds_around3000 и заполним пропуски на ноль\n",
    "data['ponds_around3000'] = data['ponds_around3000'].fillna(0).astype('int')"
   ]
  },
  {
   "cell_type": "code",
   "execution_count": 29,
   "metadata": {},
   "outputs": [],
   "source": [
    "#изменим тип данных на int parks_nearest и заполним пропуски на ноль\n",
    "data['parks_nearest'] = data['parks_nearest'].fillna(0).astype('int')"
   ]
  },
  {
   "cell_type": "code",
   "execution_count": 30,
   "metadata": {},
   "outputs": [],
   "source": [
    "#изменим тип данных на int parks_nearest и заполним пропуски на ноль\n",
    "data['ponds_nearest'] = data['ponds_nearest'].fillna(0).astype('int')"
   ]
  },
  {
   "cell_type": "code",
   "execution_count": 31,
   "metadata": {},
   "outputs": [],
   "source": [
    "#округлим parks_nearest и заполним пропуски на ноль\n",
    "data['parks_around3000'] = data['parks_around3000'].fillna(0).astype('int')"
   ]
  },
  {
   "cell_type": "code",
   "execution_count": 32,
   "metadata": {},
   "outputs": [
    {
     "data": {
      "text/html": [
       "<div>\n",
       "<style scoped>\n",
       "    .dataframe tbody tr th:only-of-type {\n",
       "        vertical-align: middle;\n",
       "    }\n",
       "\n",
       "    .dataframe tbody tr th {\n",
       "        vertical-align: top;\n",
       "    }\n",
       "\n",
       "    .dataframe thead th {\n",
       "        text-align: right;\n",
       "    }\n",
       "</style>\n",
       "<table border=\"1\" class=\"dataframe\">\n",
       "  <thead>\n",
       "    <tr style=\"text-align: right;\">\n",
       "      <th></th>\n",
       "      <th>total_images</th>\n",
       "      <th>last_price</th>\n",
       "      <th>total_area</th>\n",
       "      <th>first_day_exposition</th>\n",
       "      <th>rooms</th>\n",
       "      <th>ceiling_height</th>\n",
       "      <th>floors_total</th>\n",
       "      <th>living_area</th>\n",
       "      <th>floor</th>\n",
       "      <th>is_apartment</th>\n",
       "      <th>...</th>\n",
       "      <th>kitchen_area</th>\n",
       "      <th>balcony</th>\n",
       "      <th>locality_name</th>\n",
       "      <th>airports_nearest</th>\n",
       "      <th>cityCenters_nearest</th>\n",
       "      <th>parks_around3000</th>\n",
       "      <th>parks_nearest</th>\n",
       "      <th>ponds_around3000</th>\n",
       "      <th>ponds_nearest</th>\n",
       "      <th>days_exposition</th>\n",
       "    </tr>\n",
       "  </thead>\n",
       "  <tbody>\n",
       "    <tr>\n",
       "      <th>0</th>\n",
       "      <td>20</td>\n",
       "      <td>13000000.0</td>\n",
       "      <td>108.0</td>\n",
       "      <td>2019-03-07</td>\n",
       "      <td>3</td>\n",
       "      <td>2.700000</td>\n",
       "      <td>16</td>\n",
       "      <td>51.000000</td>\n",
       "      <td>8</td>\n",
       "      <td>False</td>\n",
       "      <td>...</td>\n",
       "      <td>25.0</td>\n",
       "      <td>0</td>\n",
       "      <td>Санкт-Петербург</td>\n",
       "      <td>18863</td>\n",
       "      <td>16028</td>\n",
       "      <td>1</td>\n",
       "      <td>482</td>\n",
       "      <td>2</td>\n",
       "      <td>755</td>\n",
       "      <td>0</td>\n",
       "    </tr>\n",
       "    <tr>\n",
       "      <th>1</th>\n",
       "      <td>7</td>\n",
       "      <td>3350000.0</td>\n",
       "      <td>40.4</td>\n",
       "      <td>2018-12-04</td>\n",
       "      <td>1</td>\n",
       "      <td>2.771499</td>\n",
       "      <td>11</td>\n",
       "      <td>18.600000</td>\n",
       "      <td>1</td>\n",
       "      <td>False</td>\n",
       "      <td>...</td>\n",
       "      <td>11.0</td>\n",
       "      <td>2</td>\n",
       "      <td>посёлок Шушары</td>\n",
       "      <td>12817</td>\n",
       "      <td>18603</td>\n",
       "      <td>0</td>\n",
       "      <td>0</td>\n",
       "      <td>0</td>\n",
       "      <td>0</td>\n",
       "      <td>81</td>\n",
       "    </tr>\n",
       "    <tr>\n",
       "      <th>2</th>\n",
       "      <td>10</td>\n",
       "      <td>5196000.0</td>\n",
       "      <td>56.0</td>\n",
       "      <td>2015-08-20</td>\n",
       "      <td>2</td>\n",
       "      <td>2.771499</td>\n",
       "      <td>5</td>\n",
       "      <td>34.300000</td>\n",
       "      <td>4</td>\n",
       "      <td>False</td>\n",
       "      <td>...</td>\n",
       "      <td>8.3</td>\n",
       "      <td>0</td>\n",
       "      <td>Санкт-Петербург</td>\n",
       "      <td>21741</td>\n",
       "      <td>13933</td>\n",
       "      <td>1</td>\n",
       "      <td>90</td>\n",
       "      <td>2</td>\n",
       "      <td>574</td>\n",
       "      <td>558</td>\n",
       "    </tr>\n",
       "    <tr>\n",
       "      <th>3</th>\n",
       "      <td>0</td>\n",
       "      <td>64900000.0</td>\n",
       "      <td>159.0</td>\n",
       "      <td>2015-07-24</td>\n",
       "      <td>3</td>\n",
       "      <td>2.771499</td>\n",
       "      <td>14</td>\n",
       "      <td>90.785766</td>\n",
       "      <td>9</td>\n",
       "      <td>False</td>\n",
       "      <td>...</td>\n",
       "      <td>NaN</td>\n",
       "      <td>0</td>\n",
       "      <td>Санкт-Петербург</td>\n",
       "      <td>28098</td>\n",
       "      <td>6800</td>\n",
       "      <td>2</td>\n",
       "      <td>84</td>\n",
       "      <td>3</td>\n",
       "      <td>234</td>\n",
       "      <td>424</td>\n",
       "    </tr>\n",
       "    <tr>\n",
       "      <th>4</th>\n",
       "      <td>2</td>\n",
       "      <td>10000000.0</td>\n",
       "      <td>100.0</td>\n",
       "      <td>2018-06-19</td>\n",
       "      <td>2</td>\n",
       "      <td>3.030000</td>\n",
       "      <td>14</td>\n",
       "      <td>32.000000</td>\n",
       "      <td>13</td>\n",
       "      <td>False</td>\n",
       "      <td>...</td>\n",
       "      <td>41.0</td>\n",
       "      <td>0</td>\n",
       "      <td>Санкт-Петербург</td>\n",
       "      <td>31856</td>\n",
       "      <td>8098</td>\n",
       "      <td>2</td>\n",
       "      <td>112</td>\n",
       "      <td>1</td>\n",
       "      <td>48</td>\n",
       "      <td>121</td>\n",
       "    </tr>\n",
       "  </tbody>\n",
       "</table>\n",
       "<p>5 rows × 22 columns</p>\n",
       "</div>"
      ],
      "text/plain": [
       "   total_images  last_price  total_area first_day_exposition  rooms  \\\n",
       "0            20  13000000.0       108.0           2019-03-07      3   \n",
       "1             7   3350000.0        40.4           2018-12-04      1   \n",
       "2            10   5196000.0        56.0           2015-08-20      2   \n",
       "3             0  64900000.0       159.0           2015-07-24      3   \n",
       "4             2  10000000.0       100.0           2018-06-19      2   \n",
       "\n",
       "   ceiling_height  floors_total  living_area  floor  is_apartment  ...  \\\n",
       "0        2.700000            16    51.000000      8         False  ...   \n",
       "1        2.771499            11    18.600000      1         False  ...   \n",
       "2        2.771499             5    34.300000      4         False  ...   \n",
       "3        2.771499            14    90.785766      9         False  ...   \n",
       "4        3.030000            14    32.000000     13         False  ...   \n",
       "\n",
       "   kitchen_area  balcony    locality_name  airports_nearest  \\\n",
       "0          25.0        0  Санкт-Петербург             18863   \n",
       "1          11.0        2   посёлок Шушары             12817   \n",
       "2           8.3        0  Санкт-Петербург             21741   \n",
       "3           NaN        0  Санкт-Петербург             28098   \n",
       "4          41.0        0  Санкт-Петербург             31856   \n",
       "\n",
       "  cityCenters_nearest  parks_around3000  parks_nearest  ponds_around3000  \\\n",
       "0               16028                 1            482                 2   \n",
       "1               18603                 0              0                 0   \n",
       "2               13933                 1             90                 2   \n",
       "3                6800                 2             84                 3   \n",
       "4                8098                 2            112                 1   \n",
       "\n",
       "   ponds_nearest  days_exposition  \n",
       "0            755                0  \n",
       "1              0               81  \n",
       "2            574              558  \n",
       "3            234              424  \n",
       "4             48              121  \n",
       "\n",
       "[5 rows x 22 columns]"
      ]
     },
     "execution_count": 32,
     "metadata": {},
     "output_type": "execute_result"
    }
   ],
   "source": [
    "data.head(5)"
   ]
  },
  {
   "cell_type": "markdown",
   "metadata": {},
   "source": [
    "Для удобства просмотра изменим пропущенные значения на NaN на ноль в столбцах а также изменим тип данных на целые числа в столбцах:\n",
    "- parks_around3000, ponds_nearest, parks_nearest, ponds_around3000, cityCenters_nearest, airports_nearest, balcony, days_exposition, floors_total\n",
    "\n",
    "Удалим пропущенные значения в столбце floors_total\n",
    "\n",
    "Заменяем тип данных на \"bool\" и пропущенные занчения на False в столбце:\n",
    "- is_apartment\n",
    "\n",
    "Переведем столбец с датой в формат даты без времени, т.к. время не указано:\n",
    "- first_day_exposition"
   ]
  },
  {
   "cell_type": "markdown",
   "metadata": {},
   "source": [
    "**2.3 Обработка дубликатов**"
   ]
  },
  {
   "cell_type": "code",
   "execution_count": 33,
   "metadata": {},
   "outputs": [
    {
     "data": {
      "text/plain": [
       "array(['Санкт-Петербург', 'посёлок Шушары', 'городской посёлок Янино-1',\n",
       "       'посёлок Парголово', 'посёлок Мурино', 'Ломоносов', 'Сертолово',\n",
       "       'Петергоф', 'Пушкин', 'деревня Кудрово', 'Коммунар', 'Колпино',\n",
       "       'поселок городского типа Красный Бор', 'Гатчина', 'поселок Мурино',\n",
       "       'деревня Фёдоровское', 'Выборг', 'Кронштадт', 'Кировск',\n",
       "       'деревня Новое Девяткино', 'посёлок Металлострой',\n",
       "       'посёлок городского типа Лебяжье',\n",
       "       'посёлок городского типа Сиверский', 'поселок Молодцово',\n",
       "       'поселок городского типа Кузьмоловский',\n",
       "       'садовое товарищество Новая Ропша', 'Павловск',\n",
       "       'деревня Пикколово', 'Всеволожск', 'Волхов', 'Кингисепп',\n",
       "       'Приозерск', 'Сестрорецк', 'деревня Куттузи', 'посёлок Аннино',\n",
       "       'поселок городского типа Ефимовский', 'посёлок Плодовое',\n",
       "       'деревня Заклинье', 'поселок Торковичи', 'поселок Первомайское',\n",
       "       'Красное Село', 'посёлок Понтонный', 'Сясьстрой', 'деревня Старая',\n",
       "       'деревня Лесколово', 'посёлок Новый Свет', 'Сланцы',\n",
       "       'село Путилово', 'Ивангород', 'Мурино', 'Шлиссельбург',\n",
       "       'Никольское', 'Зеленогорск', 'Сосновый Бор', 'поселок Новый Свет',\n",
       "       'деревня Оржицы', 'деревня Кальтино', 'Кудрово',\n",
       "       'поселок Романовка', 'посёлок Бугры', 'поселок Бугры',\n",
       "       'поселок городского типа Рощино', 'Кириши', 'Луга', 'Волосово',\n",
       "       'Отрадное', 'село Павлово', 'поселок Оредеж', 'село Копорье',\n",
       "       'посёлок городского типа Красный Бор', 'посёлок Молодёжное',\n",
       "       'Тихвин', 'посёлок Победа', 'деревня Нурма',\n",
       "       'поселок городского типа Синявино', 'Тосно',\n",
       "       'посёлок городского типа Кузьмоловский', 'посёлок Стрельна',\n",
       "       'Бокситогорск', 'посёлок Александровская', 'деревня Лопухинка',\n",
       "       'Пикалёво', 'поселок Терволово',\n",
       "       'поселок городского типа Советский', 'Подпорожье',\n",
       "       'посёлок Петровское', 'посёлок городского типа Токсово',\n",
       "       'поселок Сельцо', 'посёлок городского типа Вырица',\n",
       "       'деревня Кипень', 'деревня Келози', 'деревня Вартемяги',\n",
       "       'посёлок Тельмана', 'поселок Севастьяново',\n",
       "       'городской поселок Большая Ижора', 'unknown',\n",
       "       'городской посёлок Павлово', 'деревня Агалатово',\n",
       "       'посёлок Новогорелово', 'городской посёлок Лесогорский',\n",
       "       'деревня Лаголово', 'поселок Цвелодубово',\n",
       "       'поселок городского типа Рахья', 'поселок городского типа Вырица',\n",
       "       'деревня Белогорка', 'поселок Заводской',\n",
       "       'городской посёлок Новоселье', 'деревня Большие Колпаны',\n",
       "       'деревня Горбунки', 'деревня Батово', 'деревня Заневка',\n",
       "       'деревня Иссад', 'Приморск', 'городской посёлок Фёдоровское',\n",
       "       'деревня Мистолово', 'Новая Ладога', 'поселок Зимитицы',\n",
       "       'поселок Барышево', 'деревня Разметелево',\n",
       "       'поселок городского типа имени Свердлова', 'деревня Пеники',\n",
       "       'поселок Рябово', 'деревня Пудомяги', 'поселок станции Корнево',\n",
       "       'деревня Низино', 'деревня Бегуницы', 'посёлок Поляны',\n",
       "       'городской посёлок Мга', 'поселок Елизаветино',\n",
       "       'посёлок городского типа Кузнечное', 'деревня Колтуши',\n",
       "       'поселок Запорожское', 'посёлок городского типа Рощино',\n",
       "       'деревня Гостилицы', 'деревня Малое Карлино',\n",
       "       'посёлок Мичуринское', 'посёлок городского типа имени Морозова',\n",
       "       'посёлок Песочный', 'посёлок Сосново', 'деревня Аро',\n",
       "       'поселок Ильичёво', 'посёлок городского типа Тайцы',\n",
       "       'деревня Малое Верево', 'деревня Извара', 'поселок станции Вещево',\n",
       "       'село Паша', 'деревня Калитино',\n",
       "       'посёлок городского типа Ульяновка', 'деревня Чудской Бор',\n",
       "       'поселок городского типа Дубровка', 'деревня Мины',\n",
       "       'поселок Войсковицы', 'посёлок городского типа имени Свердлова',\n",
       "       'деревня Коркино', 'посёлок Ропша',\n",
       "       'поселок городского типа Приладожский', 'посёлок Щеглово',\n",
       "       'посёлок Гаврилово', 'Лодейное Поле', 'деревня Рабитицы',\n",
       "       'поселок городского типа Никольский', 'деревня Кузьмолово',\n",
       "       'деревня Малые Колпаны', 'поселок Тельмана',\n",
       "       'посёлок Петро-Славянка', 'городской посёлок Назия',\n",
       "       'посёлок Репино', 'посёлок Ильичёво', 'поселок Углово',\n",
       "       'поселок Старая Малукса', 'садовое товарищество Рахья',\n",
       "       'поселок Аннино', 'поселок Победа', 'деревня Меньково',\n",
       "       'деревня Старые Бегуницы', 'посёлок Сапёрный', 'поселок Семрино',\n",
       "       'поселок Гаврилово', 'поселок Глажево', 'поселок Кобринское',\n",
       "       'деревня Гарболово', 'деревня Юкки',\n",
       "       'поселок станции Приветнинское', 'деревня Мануйлово',\n",
       "       'деревня Пчева', 'поселок Поляны', 'поселок Цвылёво',\n",
       "       'поселок Мельниково', 'посёлок Пудость', 'посёлок Усть-Луга',\n",
       "       'Светогорск', 'Любань', 'поселок Селезнёво',\n",
       "       'поселок городского типа Рябово', 'Каменногорск', 'деревня Кривко',\n",
       "       'поселок Глебычево', 'деревня Парицы', 'поселок Жилпосёлок',\n",
       "       'посёлок городского типа Мга', 'городской поселок Янино-1',\n",
       "       'посёлок Войскорово', 'село Никольское', 'посёлок Терволово',\n",
       "       'поселок Стеклянный', 'посёлок городского типа Важины',\n",
       "       'посёлок Мыза-Ивановка', 'село Русско-Высоцкое',\n",
       "       'поселок городского типа Лебяжье',\n",
       "       'поселок городского типа Форносово', 'село Старая Ладога',\n",
       "       'поселок Житково', 'городской посёлок Виллози', 'деревня Лампово',\n",
       "       'деревня Шпаньково', 'деревня Лаврики', 'посёлок Сумино',\n",
       "       'посёлок Возрождение', 'деревня Старосиверская',\n",
       "       'посёлок Кикерино', 'поселок Возрождение',\n",
       "       'деревня Старое Хинколово', 'посёлок Пригородный',\n",
       "       'посёлок Торфяное', 'городской посёлок Будогощь',\n",
       "       'поселок Суходолье', 'поселок Красная Долина', 'деревня Хапо-Ое',\n",
       "       'поселок городского типа Дружная Горка', 'поселок Лисий Нос',\n",
       "       'деревня Яльгелево', 'посёлок Стеклянный', 'село Рождествено',\n",
       "       'деревня Старополье', 'посёлок Левашово', 'деревня Сяськелево',\n",
       "       'деревня Камышовка',\n",
       "       'садоводческое некоммерческое товарищество Лесная Поляна',\n",
       "       'деревня Хязельки', 'поселок Жилгородок',\n",
       "       'посёлок городского типа Павлово', 'деревня Ялгино',\n",
       "       'поселок Новый Учхоз', 'городской посёлок Рощино',\n",
       "       'поселок Гончарово', 'поселок Почап', 'посёлок Сапёрное',\n",
       "       'посёлок Платформа 69-й километр', 'поселок Каложицы',\n",
       "       'деревня Фалилеево', 'деревня Пельгора',\n",
       "       'поселок городского типа Лесогорский', 'деревня Торошковичи',\n",
       "       'посёлок Белоостров', 'посёлок Алексеевка', 'поселок Серебрянский',\n",
       "       'поселок Лукаши', 'поселок Петровское', 'деревня Щеглово',\n",
       "       'поселок Мичуринское', 'деревня Тарасово', 'поселок Кингисеппский',\n",
       "       'посёлок при железнодорожной станции Вещево', 'поселок Ушаки',\n",
       "       'деревня Котлы', 'деревня Сижно', 'деревня Торосово',\n",
       "       'посёлок Форт Красная Горка', 'деревня Новолисино',\n",
       "       'посёлок станции Громово', 'деревня Глинка', 'посёлок Мельниково',\n",
       "       'поселок городского типа Назия', 'деревня Старая Пустошь',\n",
       "       'поселок Коммунары', 'поселок Починок',\n",
       "       'посёлок городского типа Вознесенье', 'деревня Разбегаево',\n",
       "       'посёлок городского типа Рябово', 'поселок Гладкое',\n",
       "       'посёлок при железнодорожной станции Приветнинское',\n",
       "       'поселок Тёсово-4', 'посёлок Жилгородок', 'деревня Бор',\n",
       "       'посёлок Коробицыно', 'деревня Большая Вруда', 'деревня Курковицы',\n",
       "       'посёлок Лисий Нос', 'городской посёлок Советский',\n",
       "       'посёлок Кобралово', 'деревня Суоранда', 'поселок Кобралово',\n",
       "       'поселок городского типа Кондратьево',\n",
       "       'коттеджный поселок Счастье', 'поселок Любань', 'деревня Реброво',\n",
       "       'деревня Зимитицы', 'деревня Тойворово', 'поселок Семиозерье',\n",
       "       'поселок Лесное', 'поселок Совхозный', 'поселок Усть-Луга',\n",
       "       'посёлок Ленинское', 'посёлок Суйда',\n",
       "       'посёлок городского типа Форносово', 'деревня Нижние Осельки',\n",
       "       'посёлок станции Свирь', 'поселок Перово', 'Высоцк',\n",
       "       'поселок Гарболово', 'село Шум', 'поселок Котельский',\n",
       "       'поселок станции Лужайка', 'деревня Большая Пустомержа',\n",
       "       'поселок Красносельское', 'деревня Вахнова Кара', 'деревня Пижма',\n",
       "       'коттеджный поселок Кивеннапа Север', 'поселок Коробицыно',\n",
       "       'поселок Ромашки', 'посёлок Перово', 'деревня Каськово',\n",
       "       'деревня Куровицы', 'посёлок Плоское', 'поселок Сумино',\n",
       "       'поселок городского типа Большая Ижора', 'поселок Кирпичное',\n",
       "       'деревня Ям-Тесово', 'деревня Раздолье', 'деревня Терпилицы',\n",
       "       'поселок городского типа Токсово', 'посёлок Шугозеро',\n",
       "       'деревня Ваганово', 'поселок Пушное', 'садовое товарищество Садко',\n",
       "       'посёлок Усть-Ижора', 'деревня Выскатка',\n",
       "       'городской посёлок Свирьстрой', 'поселок Громово',\n",
       "       'деревня Кисельня', 'посёлок Старая Малукса',\n",
       "       'деревня Трубников Бор', 'поселок Калитино',\n",
       "       'посёлок Высокоключевой', 'садовое товарищество Приладожский',\n",
       "       'посёлок Пансионат Зелёный Бор', 'деревня Ненимяки',\n",
       "       'поселок Пансионат Зелёный Бор', 'деревня Снегирёвка',\n",
       "       'деревня Рапполово', 'деревня Пустынка', 'поселок Рабитицы',\n",
       "       'деревня Большой Сабск', 'деревня Русско', 'деревня Лупполово',\n",
       "       'деревня Большое Рейзино', 'деревня Малая Романовка',\n",
       "       'поселок Дружноселье', 'поселок Пчевжа', 'поселок Володарское',\n",
       "       'деревня Нижняя', 'коттеджный посёлок Лесное', 'деревня Тихковицы',\n",
       "       'деревня Борисова Грива', 'посёлок Дзержинского'], dtype=object)"
      ]
     },
     "execution_count": 33,
     "metadata": {},
     "output_type": "execute_result"
    }
   ],
   "source": [
    "#уникальные названия в столбце с названиями\n",
    "data['locality_name'].unique()"
   ]
  },
  {
   "cell_type": "code",
   "execution_count": 34,
   "metadata": {},
   "outputs": [
    {
     "data": {
      "text/plain": [
       "23248"
      ]
     },
     "execution_count": 34,
     "metadata": {},
     "output_type": "execute_result"
    }
   ],
   "source": [
    "data['locality_name'].duplicated().sum()"
   ]
  },
  {
   "cell_type": "code",
   "execution_count": 35,
   "metadata": {
    "scrolled": true
   },
   "outputs": [
    {
     "data": {
      "text/plain": [
       "{'69-й километр',\n",
       " 'unknown',\n",
       " 'агалатово',\n",
       " 'александровская',\n",
       " 'алексеевка',\n",
       " 'аннино',\n",
       " 'аро',\n",
       " 'барышево',\n",
       " 'батово',\n",
       " 'бегуницы',\n",
       " 'белогорка',\n",
       " 'белоостров',\n",
       " 'бокситогорск',\n",
       " 'большая вруда',\n",
       " 'большая ижора',\n",
       " 'большая пустомержа',\n",
       " 'большие колпаны',\n",
       " 'большое рейзино',\n",
       " 'большой сабск',\n",
       " 'бор',\n",
       " 'борисова грива',\n",
       " 'бугры',\n",
       " 'ваганово',\n",
       " 'важины',\n",
       " 'вартемяги',\n",
       " 'вахнова кара',\n",
       " 'вещево',\n",
       " 'вознесенье',\n",
       " 'возрождение',\n",
       " 'войсковицы',\n",
       " 'войскорово',\n",
       " 'володарское',\n",
       " 'волосово',\n",
       " 'волхов',\n",
       " 'всеволожск',\n",
       " 'выборг',\n",
       " 'вырица',\n",
       " 'выскатка',\n",
       " 'высокоключевой',\n",
       " 'высоцк',\n",
       " 'гаврилово',\n",
       " 'гарболово',\n",
       " 'гатчина',\n",
       " 'гладкое',\n",
       " 'глажево',\n",
       " 'глебычево',\n",
       " 'глинка',\n",
       " 'гончарово',\n",
       " 'горбунки',\n",
       " 'городской большая ижора',\n",
       " 'городской будогощь',\n",
       " 'городской виллози',\n",
       " 'городской лесогорский',\n",
       " 'городской мга',\n",
       " 'городской назия',\n",
       " 'городской новоселье',\n",
       " 'городской павлово',\n",
       " 'городской рощино',\n",
       " 'городской свирьстрой',\n",
       " 'городской советский',\n",
       " 'городской федоровское',\n",
       " 'городской янино-1',\n",
       " 'гостилицы',\n",
       " 'громово',\n",
       " 'дзержинского',\n",
       " 'дружная горка',\n",
       " 'дружноселье',\n",
       " 'дубровка',\n",
       " 'елизаветино',\n",
       " 'ефимовский',\n",
       " 'жилгородок',\n",
       " 'жилпоселок',\n",
       " 'житково',\n",
       " 'заводской',\n",
       " 'заклинье',\n",
       " 'заневка',\n",
       " 'запорожское',\n",
       " 'зеленогорск',\n",
       " 'зеленый бор',\n",
       " 'зимитицы',\n",
       " 'ивангород',\n",
       " 'извара',\n",
       " 'ильичево',\n",
       " 'имени морозова',\n",
       " 'имени свердлова',\n",
       " 'иссад',\n",
       " 'калитино',\n",
       " 'каложицы',\n",
       " 'кальтино',\n",
       " 'каменногорск',\n",
       " 'камышовка',\n",
       " 'каськово',\n",
       " 'келози',\n",
       " 'кикерино',\n",
       " 'кингисепп',\n",
       " 'кингисеппский',\n",
       " 'кипень',\n",
       " 'кириши',\n",
       " 'кировск',\n",
       " 'кирпичное',\n",
       " 'кисельня',\n",
       " 'кобралово',\n",
       " 'кобринское',\n",
       " 'колпино',\n",
       " 'колтуши',\n",
       " 'коммунар',\n",
       " 'коммунары',\n",
       " 'кондратьево',\n",
       " 'копорье',\n",
       " 'коркино',\n",
       " 'корнево',\n",
       " 'коробицыно',\n",
       " 'котельский',\n",
       " 'котлы',\n",
       " 'коттеджный кивеннапа север',\n",
       " 'коттеджный лесное',\n",
       " 'коттеджный счастье',\n",
       " 'красная долина',\n",
       " 'красное село',\n",
       " 'красносельское',\n",
       " 'красный бор',\n",
       " 'кривко',\n",
       " 'кронштадт',\n",
       " 'кудрово',\n",
       " 'кузнечное',\n",
       " 'кузьмолово',\n",
       " 'кузьмоловский',\n",
       " 'курковицы',\n",
       " 'куровицы',\n",
       " 'куттузи',\n",
       " 'лаврики',\n",
       " 'лаголово',\n",
       " 'лампово',\n",
       " 'лебяжье',\n",
       " 'левашово',\n",
       " 'ленинское',\n",
       " 'лесколово',\n",
       " 'лесная поляна',\n",
       " 'лесное',\n",
       " 'лесогорский',\n",
       " 'лисий нос',\n",
       " 'лодейное поле',\n",
       " 'ломоносов',\n",
       " 'лопухинка',\n",
       " 'луга',\n",
       " 'лужайка',\n",
       " 'лукаши',\n",
       " 'лупполово',\n",
       " 'любань',\n",
       " 'малая романовка',\n",
       " 'малое верево',\n",
       " 'малое карлино',\n",
       " 'малые колпаны',\n",
       " 'мануйлово',\n",
       " 'мга',\n",
       " 'мельниково',\n",
       " 'меньково',\n",
       " 'металлострой',\n",
       " 'мины',\n",
       " 'мистолово',\n",
       " 'мичуринское',\n",
       " 'молодежное',\n",
       " 'молодцово',\n",
       " 'мурино',\n",
       " 'мыза-ивановка',\n",
       " 'назия',\n",
       " 'ненимяки',\n",
       " 'нижние осельки',\n",
       " 'нижняя',\n",
       " 'низино',\n",
       " 'никольский',\n",
       " 'никольское',\n",
       " 'новая ладога',\n",
       " 'новая ропша',\n",
       " 'новогорелово',\n",
       " 'новое девяткино',\n",
       " 'новолисино',\n",
       " 'новый свет',\n",
       " 'новый учхоз',\n",
       " 'нурма',\n",
       " 'оредеж',\n",
       " 'оржицы',\n",
       " 'отрадное',\n",
       " 'павлово',\n",
       " 'павловск',\n",
       " 'парголово',\n",
       " 'парицы',\n",
       " 'паша',\n",
       " 'пельгора',\n",
       " 'пеники',\n",
       " 'первомайское',\n",
       " 'перово',\n",
       " 'песочный',\n",
       " 'петергоф',\n",
       " 'петро-славянка',\n",
       " 'петровское',\n",
       " 'пижма',\n",
       " 'пикалево',\n",
       " 'пикколово',\n",
       " 'плодовое',\n",
       " 'плоское',\n",
       " 'победа',\n",
       " 'подпорожье',\n",
       " 'поляны',\n",
       " 'понтонный',\n",
       " 'почап',\n",
       " 'починок',\n",
       " 'приветнинское',\n",
       " 'пригородный',\n",
       " 'приладожский',\n",
       " 'приморск',\n",
       " 'приозерск',\n",
       " 'пудомяги',\n",
       " 'пудость',\n",
       " 'пустынка',\n",
       " 'путилово',\n",
       " 'пушкин',\n",
       " 'пушное',\n",
       " 'пчева',\n",
       " 'пчевжа',\n",
       " 'рабитицы',\n",
       " 'разбегаево',\n",
       " 'раздолье',\n",
       " 'разметелево',\n",
       " 'рапполово',\n",
       " 'рахья',\n",
       " 'реброво',\n",
       " 'репино',\n",
       " 'рождествено',\n",
       " 'романовка',\n",
       " 'ромашки',\n",
       " 'ропша',\n",
       " 'рощино',\n",
       " 'русско',\n",
       " 'русско-высоцкое',\n",
       " 'рябово',\n",
       " 'садко',\n",
       " 'санкт-петербург',\n",
       " 'саперное',\n",
       " 'саперный',\n",
       " 'светогорск',\n",
       " 'свирь',\n",
       " 'севастьяново',\n",
       " 'селезнево',\n",
       " 'сельцо',\n",
       " 'семиозерье',\n",
       " 'семрино',\n",
       " 'серебрянский',\n",
       " 'сертолово',\n",
       " 'сестрорецк',\n",
       " 'сиверский',\n",
       " 'сижно',\n",
       " 'синявино',\n",
       " 'сланцы',\n",
       " 'снегиревка',\n",
       " 'советский',\n",
       " 'совхозный',\n",
       " 'сосново',\n",
       " 'сосновый бор',\n",
       " 'старая',\n",
       " 'старая ладога',\n",
       " 'старая малукса',\n",
       " 'старая пустошь',\n",
       " 'старое хинколово',\n",
       " 'старополье',\n",
       " 'старосиверская',\n",
       " 'старые бегуницы',\n",
       " 'стеклянный',\n",
       " 'стрельна',\n",
       " 'суйда',\n",
       " 'сумино',\n",
       " 'суоранда',\n",
       " 'суходолье',\n",
       " 'сяськелево',\n",
       " 'сясьстрой',\n",
       " 'тайцы',\n",
       " 'тарасово',\n",
       " 'тельмана',\n",
       " 'терволово',\n",
       " 'терпилицы',\n",
       " 'тесово-4',\n",
       " 'тихвин',\n",
       " 'тихковицы',\n",
       " 'тойворово',\n",
       " 'токсово',\n",
       " 'торковичи',\n",
       " 'торосово',\n",
       " 'торошковичи',\n",
       " 'торфяное',\n",
       " 'тосно',\n",
       " 'трубников бор',\n",
       " 'углово',\n",
       " 'ульяновка',\n",
       " 'усть-ижора',\n",
       " 'усть-луга',\n",
       " 'ушаки',\n",
       " 'фалилеево',\n",
       " 'федоровское',\n",
       " 'форносово',\n",
       " 'форт красная горка',\n",
       " 'хапо-ое',\n",
       " 'хязельки',\n",
       " 'цвелодубово',\n",
       " 'цвылево',\n",
       " 'чудской бор',\n",
       " 'шлиссельбург',\n",
       " 'шпаньково',\n",
       " 'шугозеро',\n",
       " 'шум',\n",
       " 'шушары',\n",
       " 'щеглово',\n",
       " 'юкки',\n",
       " 'ялгино',\n",
       " 'яльгелево',\n",
       " 'ям-тесово'}"
      ]
     },
     "execution_count": 35,
     "metadata": {},
     "output_type": "execute_result"
    }
   ],
   "source": [
    "# перевод в строчные буквы\n",
    "data['locality_name'] = data['locality_name'].str.lower()\n",
    "\n",
    "# Оставим только названия\n",
    "data['locality_name'] = (\n",
    "    data['locality_name']\n",
    "    .str.replace('ё','е')\n",
    "    .replace(['поселок ','при железнодорожной станции ', 'платформа ', 'садоводческое некоммерческое товарищество ',\n",
    "             'садовое товарищество ', 'станции ', 'село ', 'пансионат ', 'городского типа ',\n",
    "             'деревня ', 'городской поселок '], '', regex=True)\n",
    ")\n",
    "# Уникальные значения в алфавитном порядке\n",
    "set(data['locality_name'].unique())"
   ]
  },
  {
   "cell_type": "markdown",
   "metadata": {},
   "source": [
    "<div class=\"alert alert-block alert-success\">\n",
    "\n",
    "**Комментарий ревьювера (все отлично)**\n",
    "    \n",
    "Хорошее решение оставить только топонимы👍 \n",
    "</div>"
   ]
  },
  {
   "cell_type": "code",
   "execution_count": 36,
   "metadata": {},
   "outputs": [
    {
     "data": {
      "text/plain": [
       "total_images                     int64\n",
       "last_price                     float64\n",
       "total_area                     float64\n",
       "first_day_exposition    datetime64[ns]\n",
       "rooms                            int64\n",
       "ceiling_height                 float64\n",
       "floors_total                     int64\n",
       "living_area                    float64\n",
       "floor                            int64\n",
       "is_apartment                      bool\n",
       "studio                            bool\n",
       "open_plan                         bool\n",
       "kitchen_area                   float64\n",
       "balcony                          int64\n",
       "locality_name                   object\n",
       "airports_nearest                 int64\n",
       "cityCenters_nearest              int64\n",
       "parks_around3000                 int64\n",
       "parks_nearest                    int64\n",
       "ponds_around3000                 int64\n",
       "ponds_nearest                    int64\n",
       "days_exposition                  int64\n",
       "dtype: object"
      ]
     },
     "execution_count": 36,
     "metadata": {},
     "output_type": "execute_result"
    }
   ],
   "source": [
    "data.dtypes"
   ]
  },
  {
   "cell_type": "code",
   "execution_count": 37,
   "metadata": {},
   "outputs": [
    {
     "data": {
      "text/plain": [
       "total_images               0\n",
       "last_price                 0\n",
       "total_area                 0\n",
       "first_day_exposition       0\n",
       "rooms                      0\n",
       "ceiling_height             0\n",
       "floors_total               0\n",
       "living_area                0\n",
       "floor                      0\n",
       "is_apartment               0\n",
       "studio                     0\n",
       "open_plan                  0\n",
       "kitchen_area            1431\n",
       "balcony                    0\n",
       "locality_name              0\n",
       "airports_nearest           0\n",
       "cityCenters_nearest        0\n",
       "parks_around3000           0\n",
       "parks_nearest              0\n",
       "ponds_around3000           0\n",
       "ponds_nearest              0\n",
       "days_exposition            0\n",
       "dtype: int64"
      ]
     },
     "execution_count": 37,
     "metadata": {},
     "output_type": "execute_result"
    }
   ],
   "source": [
    "# оценим количество пропущенных значений в каждом столбце\n",
    "data.isna().sum()"
   ]
  },
  {
   "cell_type": "markdown",
   "metadata": {},
   "source": [
    "Уcтранили неявные дубликаты, заменили названия в существующем столбце:\n",
    "- locality_name"
   ]
  },
  {
   "cell_type": "markdown",
   "metadata": {
    "id": "QCcvyY6YAwb-"
   },
   "source": [
    "### Добавьте в таблицу новые столбцы"
   ]
  },
  {
   "cell_type": "code",
   "execution_count": 38,
   "metadata": {},
   "outputs": [],
   "source": [
    "#цена одного квадратного метра\n",
    "data['price_per_square_meter'] = data['last_price'] / data['total_area']"
   ]
  },
  {
   "cell_type": "code",
   "execution_count": 39,
   "metadata": {},
   "outputs": [],
   "source": [
    "#для удобства просмотра приведем к типу int\n",
    "data['price_per_square_meter'] = data['price_per_square_meter'].astype('int').round(2)"
   ]
  },
  {
   "cell_type": "code",
   "execution_count": 40,
   "metadata": {},
   "outputs": [],
   "source": [
    "#день недели публикации объявления\n",
    "data['weekday'] = data['first_day_exposition'].dt.weekday"
   ]
  },
  {
   "cell_type": "code",
   "execution_count": 41,
   "metadata": {},
   "outputs": [],
   "source": [
    "#месяц публикации объявления\n",
    "data['month'] = data['first_day_exposition'].dt.month"
   ]
  },
  {
   "cell_type": "code",
   "execution_count": 42,
   "metadata": {},
   "outputs": [],
   "source": [
    "#год публикации объявления\n",
    "data['year'] = data['first_day_exposition'].dt.year"
   ]
  },
  {
   "cell_type": "code",
   "execution_count": 43,
   "metadata": {},
   "outputs": [],
   "source": [
    "#тип этажа квартиры\n",
    "def floor_type(row):\n",
    "    if row['floor'] == 1:\n",
    "        return 'первый'\n",
    "    elif row['floor'] == row['floors_total']:\n",
    "        return 'последний'\n",
    "    else:\n",
    "        return 'другой'\n",
    "    \n",
    "data['floor_type'] = data.apply(floor_type, axis=1) "
   ]
  },
  {
   "cell_type": "code",
   "execution_count": 44,
   "metadata": {},
   "outputs": [
    {
     "data": {
      "text/plain": [
       "array(['другой', 'первый', 'последний'], dtype=object)"
      ]
     },
     "execution_count": 44,
     "metadata": {},
     "output_type": "execute_result"
    }
   ],
   "source": [
    "data['floor_type'].unique()"
   ]
  },
  {
   "cell_type": "code",
   "execution_count": 45,
   "metadata": {},
   "outputs": [],
   "source": [
    "#переводим из м в км и округляем до ближайших целых значений\n",
    "data['city_nearest'] = (data['cityCenters_nearest'] / 1000).round(0)"
   ]
  },
  {
   "cell_type": "code",
   "execution_count": 46,
   "metadata": {},
   "outputs": [
    {
     "data": {
      "text/plain": [
       "array([16., 19., 14.,  7.,  8.,  0., 12., 15., 52., 33., 31., 11., 13.,\n",
       "       10.,  2., 32.,  4., 17., 30.,  5., 51., 50., 24., 18.,  9., 28.,\n",
       "        3.,  6., 27., 21., 49., 35., 36., 34.,  1., 29., 26., 53., 22.,\n",
       "       55., 20., 23., 25., 66., 47., 40., 57., 37., 41., 43., 48., 62.,\n",
       "       60., 39., 42., 65., 54., 59., 45., 61., 63.])"
      ]
     },
     "execution_count": 46,
     "metadata": {},
     "output_type": "execute_result"
    }
   ],
   "source": [
    "data['city_nearest'].unique()"
   ]
  },
  {
   "cell_type": "code",
   "execution_count": 47,
   "metadata": {},
   "outputs": [
    {
     "data": {
      "text/html": [
       "<div>\n",
       "<style scoped>\n",
       "    .dataframe tbody tr th:only-of-type {\n",
       "        vertical-align: middle;\n",
       "    }\n",
       "\n",
       "    .dataframe tbody tr th {\n",
       "        vertical-align: top;\n",
       "    }\n",
       "\n",
       "    .dataframe thead th {\n",
       "        text-align: right;\n",
       "    }\n",
       "</style>\n",
       "<table border=\"1\" class=\"dataframe\">\n",
       "  <thead>\n",
       "    <tr style=\"text-align: right;\">\n",
       "      <th></th>\n",
       "      <th>total_images</th>\n",
       "      <th>last_price</th>\n",
       "      <th>total_area</th>\n",
       "      <th>first_day_exposition</th>\n",
       "      <th>rooms</th>\n",
       "      <th>ceiling_height</th>\n",
       "      <th>floors_total</th>\n",
       "      <th>living_area</th>\n",
       "      <th>floor</th>\n",
       "      <th>is_apartment</th>\n",
       "      <th>...</th>\n",
       "      <th>parks_nearest</th>\n",
       "      <th>ponds_around3000</th>\n",
       "      <th>ponds_nearest</th>\n",
       "      <th>days_exposition</th>\n",
       "      <th>price_per_square_meter</th>\n",
       "      <th>weekday</th>\n",
       "      <th>month</th>\n",
       "      <th>year</th>\n",
       "      <th>floor_type</th>\n",
       "      <th>city_nearest</th>\n",
       "    </tr>\n",
       "  </thead>\n",
       "  <tbody>\n",
       "    <tr>\n",
       "      <th>0</th>\n",
       "      <td>20</td>\n",
       "      <td>13000000.0</td>\n",
       "      <td>108.0</td>\n",
       "      <td>2019-03-07</td>\n",
       "      <td>3</td>\n",
       "      <td>2.700000</td>\n",
       "      <td>16</td>\n",
       "      <td>51.000000</td>\n",
       "      <td>8</td>\n",
       "      <td>False</td>\n",
       "      <td>...</td>\n",
       "      <td>482</td>\n",
       "      <td>2</td>\n",
       "      <td>755</td>\n",
       "      <td>0</td>\n",
       "      <td>120370</td>\n",
       "      <td>3</td>\n",
       "      <td>3</td>\n",
       "      <td>2019</td>\n",
       "      <td>другой</td>\n",
       "      <td>16.0</td>\n",
       "    </tr>\n",
       "    <tr>\n",
       "      <th>1</th>\n",
       "      <td>7</td>\n",
       "      <td>3350000.0</td>\n",
       "      <td>40.4</td>\n",
       "      <td>2018-12-04</td>\n",
       "      <td>1</td>\n",
       "      <td>2.771499</td>\n",
       "      <td>11</td>\n",
       "      <td>18.600000</td>\n",
       "      <td>1</td>\n",
       "      <td>False</td>\n",
       "      <td>...</td>\n",
       "      <td>0</td>\n",
       "      <td>0</td>\n",
       "      <td>0</td>\n",
       "      <td>81</td>\n",
       "      <td>82920</td>\n",
       "      <td>1</td>\n",
       "      <td>12</td>\n",
       "      <td>2018</td>\n",
       "      <td>первый</td>\n",
       "      <td>19.0</td>\n",
       "    </tr>\n",
       "    <tr>\n",
       "      <th>2</th>\n",
       "      <td>10</td>\n",
       "      <td>5196000.0</td>\n",
       "      <td>56.0</td>\n",
       "      <td>2015-08-20</td>\n",
       "      <td>2</td>\n",
       "      <td>2.771499</td>\n",
       "      <td>5</td>\n",
       "      <td>34.300000</td>\n",
       "      <td>4</td>\n",
       "      <td>False</td>\n",
       "      <td>...</td>\n",
       "      <td>90</td>\n",
       "      <td>2</td>\n",
       "      <td>574</td>\n",
       "      <td>558</td>\n",
       "      <td>92785</td>\n",
       "      <td>3</td>\n",
       "      <td>8</td>\n",
       "      <td>2015</td>\n",
       "      <td>другой</td>\n",
       "      <td>14.0</td>\n",
       "    </tr>\n",
       "    <tr>\n",
       "      <th>3</th>\n",
       "      <td>0</td>\n",
       "      <td>64900000.0</td>\n",
       "      <td>159.0</td>\n",
       "      <td>2015-07-24</td>\n",
       "      <td>3</td>\n",
       "      <td>2.771499</td>\n",
       "      <td>14</td>\n",
       "      <td>90.785766</td>\n",
       "      <td>9</td>\n",
       "      <td>False</td>\n",
       "      <td>...</td>\n",
       "      <td>84</td>\n",
       "      <td>3</td>\n",
       "      <td>234</td>\n",
       "      <td>424</td>\n",
       "      <td>408176</td>\n",
       "      <td>4</td>\n",
       "      <td>7</td>\n",
       "      <td>2015</td>\n",
       "      <td>другой</td>\n",
       "      <td>7.0</td>\n",
       "    </tr>\n",
       "    <tr>\n",
       "      <th>4</th>\n",
       "      <td>2</td>\n",
       "      <td>10000000.0</td>\n",
       "      <td>100.0</td>\n",
       "      <td>2018-06-19</td>\n",
       "      <td>2</td>\n",
       "      <td>3.030000</td>\n",
       "      <td>14</td>\n",
       "      <td>32.000000</td>\n",
       "      <td>13</td>\n",
       "      <td>False</td>\n",
       "      <td>...</td>\n",
       "      <td>112</td>\n",
       "      <td>1</td>\n",
       "      <td>48</td>\n",
       "      <td>121</td>\n",
       "      <td>100000</td>\n",
       "      <td>1</td>\n",
       "      <td>6</td>\n",
       "      <td>2018</td>\n",
       "      <td>другой</td>\n",
       "      <td>8.0</td>\n",
       "    </tr>\n",
       "  </tbody>\n",
       "</table>\n",
       "<p>5 rows × 28 columns</p>\n",
       "</div>"
      ],
      "text/plain": [
       "   total_images  last_price  total_area first_day_exposition  rooms  \\\n",
       "0            20  13000000.0       108.0           2019-03-07      3   \n",
       "1             7   3350000.0        40.4           2018-12-04      1   \n",
       "2            10   5196000.0        56.0           2015-08-20      2   \n",
       "3             0  64900000.0       159.0           2015-07-24      3   \n",
       "4             2  10000000.0       100.0           2018-06-19      2   \n",
       "\n",
       "   ceiling_height  floors_total  living_area  floor  is_apartment  ...  \\\n",
       "0        2.700000            16    51.000000      8         False  ...   \n",
       "1        2.771499            11    18.600000      1         False  ...   \n",
       "2        2.771499             5    34.300000      4         False  ...   \n",
       "3        2.771499            14    90.785766      9         False  ...   \n",
       "4        3.030000            14    32.000000     13         False  ...   \n",
       "\n",
       "   parks_nearest  ponds_around3000  ponds_nearest  days_exposition  \\\n",
       "0            482                 2            755                0   \n",
       "1              0                 0              0               81   \n",
       "2             90                 2            574              558   \n",
       "3             84                 3            234              424   \n",
       "4            112                 1             48              121   \n",
       "\n",
       "  price_per_square_meter  weekday  month  year  floor_type  city_nearest  \n",
       "0                 120370        3      3  2019      другой          16.0  \n",
       "1                  82920        1     12  2018      первый          19.0  \n",
       "2                  92785        3      8  2015      другой          14.0  \n",
       "3                 408176        4      7  2015      другой           7.0  \n",
       "4                 100000        1      6  2018      другой           8.0  \n",
       "\n",
       "[5 rows x 28 columns]"
      ]
     },
     "execution_count": 47,
     "metadata": {},
     "output_type": "execute_result"
    }
   ],
   "source": [
    "data.head(5)"
   ]
  },
  {
   "cell_type": "markdown",
   "metadata": {},
   "source": [
    "Для последующего анализа добавили новые столбцы:\n",
    "- цена одного квадратного метра price_per_square_meter\n",
    "- день недели публикации объявления weekday\n",
    "- месяц публикации объявления month\n",
    "- год публикации объявления year\n",
    "- тип этажа квартиры floor_type\n",
    "\n",
    "Столбец cityCenters_nearest переименовываем в city_nearest переводим из м в км и округляем до ближайших целых значений"
   ]
  },
  {
   "cell_type": "markdown",
   "metadata": {},
   "source": [
    "<div class=\"alert alert-block alert-success\">\n",
    "\n",
    "**Комментарий ревьювера (все отлично)**\n",
    "    \n",
    "Новые данные успешно добавлены в таблицу👍\n",
    "    \n",
    "</div>"
   ]
  },
  {
   "cell_type": "markdown",
   "metadata": {
    "id": "pPyxrKWTAwb-"
   },
   "source": [
    "### Проведите исследовательский анализ данных"
   ]
  },
  {
   "cell_type": "markdown",
   "metadata": {},
   "source": [
    "**4.1 Постройте отдельные гистограммы для каждого из параметров**"
   ]
  },
  {
   "cell_type": "code",
   "execution_count": 48,
   "metadata": {
    "id": "V2f0D3kLAwb-",
    "scrolled": true
   },
   "outputs": [
    {
     "data": {
      "image/png": "[encoded data removed]",
      "text/plain": [
       "<Figure size 1080x360 with 1 Axes>"
      ]
     },
     "metadata": {
      "needs_background": "light"
     },
     "output_type": "display_data"
    }
   ],
   "source": [
    "#Выберем значения от минимального 15 до 120 кв. метров построим гистограмму\n",
    "data['total_area'].hist(bins=100, range=(15,120), figsize=(15, 5))\n",
    "plt.title('Зависимость квартир в продаже от Общей Площади квартир')\n",
    "plt.xlabel('Общая Площадь квартиры')\n",
    "plt.ylabel('Количество квартир')\n",
    "plt.show()"
   ]
  },
  {
   "cell_type": "markdown",
   "metadata": {},
   "source": [
    "<div class=\"alert alert-block alert-success\">\n",
    "\n",
    "**Комментарий ревьювера (все отлично)**\n",
    "    \n",
    "Хорошая работа с графиками – есть подписи осей и название👍    \n",
    "    \n",
    "Про графики. Когда строишь визуализации, ставь себя на место человека, полностью не имеющего отношение к математике и аналитике, и пробуй проанализировать, как этот график будет воспринимать обычный обыватель. Главное, чтобы было:\n",
    "\n",
    "А) Все верно в расчетах, график показывал верные, не ошибочные данные.\n",
    "\n",
    "Б) Все было понятно, по возможности просто и график отображал суть изучаемого вопроса – подписи осей и название в помощь.\n",
    "    \n",
    "В) График имел хотя бы краткий комментарий под собой о том, что он демонстрирует.\n",
    "\n",
    "Г) Красиво. Мое мнение, даже от математических графиков нужно получать удовольствие)\n",
    "\n",
    "Вот тебе несколько интересных ссылок.\n",
    "\n",
    "https://coderlessons.com/tutorials/python-technologies/izuchai-siborna/siborn-kratkoe-rukovodstvo\n",
    "\n",
    "https://tproger.ru/translations/python-data-vizualization/\n",
    "</div>"
   ]
  },
  {
   "cell_type": "code",
   "execution_count": 49,
   "metadata": {},
   "outputs": [
    {
     "data": {
      "text/plain": [
       "count    23613.000000\n",
       "mean        60.340678\n",
       "std         35.648988\n",
       "min         12.000000\n",
       "25%         40.000000\n",
       "50%         52.000000\n",
       "75%         69.800000\n",
       "max        900.000000\n",
       "Name: total_area, dtype: float64"
      ]
     },
     "execution_count": 49,
     "metadata": {},
     "output_type": "execute_result"
    }
   ],
   "source": [
    "data['total_area'].describe()"
   ]
  },
  {
   "cell_type": "markdown",
   "metadata": {},
   "source": [
    "<div class=\"alert alert-block alert-success\">\n",
    "\n",
    "**Комментарий ревьювера (все отлично)**\n",
    "    \n",
    "`describe()` полезный инструмент для исследовательского анализа👍\n",
    "</div>"
   ]
  },
  {
   "cell_type": "markdown",
   "metadata": {},
   "source": [
    "На продажу чаще всего выставляются квартиры с площадью от 30 до 60 кв метров, среднее значение приходится на квартиры общей прощадью около 52 квадратных метров. "
   ]
  },
  {
   "cell_type": "code",
   "execution_count": 50,
   "metadata": {},
   "outputs": [
    {
     "data": {
      "text/plain": [
       "count    23613.000000\n",
       "mean        34.601706\n",
       "std         22.367254\n",
       "min          2.000000\n",
       "25%         19.000000\n",
       "50%         30.000000\n",
       "75%         42.100000\n",
       "max        409.700000\n",
       "Name: living_area, dtype: float64"
      ]
     },
     "execution_count": 50,
     "metadata": {},
     "output_type": "execute_result"
    }
   ],
   "source": [
    "data['living_area'].describe()"
   ]
  },
  {
   "cell_type": "markdown",
   "metadata": {},
   "source": [
    "<div class=\"alert alert-block alert-danger\">\n",
    "    \n",
    "**Комментарий ревьювера (недочет, который нужно доработать)**\n",
    "    \n",
    "Искусственные нулвевые значения искажают статистику. Исправь это здесь и для других параметров, который ты заполнила нулями.\n",
    "</div>"
   ]
  },
  {
   "cell_type": "markdown",
   "metadata": {},
   "source": [
    "<div class=\"alert alert-block alert-info\">\n",
    "<b>КОММЕНТАРИЙ ОТ УЧЕНИКА: Перед анализом, пропущенные значения были заменены на среднее в колонках living_area</b>\n",
    "</div>"
   ]
  },
  {
   "cell_type": "markdown",
   "metadata": {},
   "source": [
    "<div class=\"alert alert-block alert-danger\">\n",
    "    \n",
    "**Комментарий ревьювера v2 (недочет, который нужно доработать)**\n",
    "    \n",
    "Способ заполнения пропусков по-прежнему искажает данные.\n",
    "</div>"
   ]
  },
  {
   "cell_type": "markdown",
   "metadata": {},
   "source": [
    "<div class=\"alert alert-block alert-info\">\n",
    "<b>КОММЕНТАРИЙ ОТ УЧЕНИКА v2: Заполним пропущенные значения в колонках kitchen_area разницой total_area-living_area. Чтобы заполнить пропуски в living_area рассчитаем коэффициент среднее отношение жилой площади к общей площади и пропущенные значения жилой площади заполнить общей площадью, умноженной на этот коэффициент. </b>\n",
    "</div>"
   ]
  },
  {
   "cell_type": "markdown",
   "metadata": {},
   "source": [
    "<div class=\"alert alert-block alert-success\">\n",
    "\n",
    "**Комментарий ревьювера v3 (все отлично)**\n",
    "    \n",
    "Теперь всё в порядке👍\n",
    "</div>"
   ]
  },
  {
   "cell_type": "code",
   "execution_count": 51,
   "metadata": {},
   "outputs": [
    {
     "data": {
      "image/png": "[encoded data removed]",
      "text/plain": [
       "<Figure size 1080x360 with 1 Axes>"
      ]
     },
     "metadata": {
      "needs_background": "light"
     },
     "output_type": "display_data"
    },
    {
     "data": {
      "image/png": "[encoded data removed]",
      "text/plain": [
       "<Figure size 1080x360 with 1 Axes>"
      ]
     },
     "metadata": {
      "needs_background": "light"
     },
     "output_type": "display_data"
    }
   ],
   "source": [
    "#Выберем значения и построим гистограмму\n",
    "data['living_area'].hist(bins=30, figsize=(15, 5), range=(10, 50))\n",
    "plt.title('Зависимость квартир в продаже от Жилой Площади квартир')\n",
    "plt.xlabel('Жилая площадь квартиры')\n",
    "plt.ylabel('Количество квартир')\n",
    "plt.show()\n",
    "\n",
    "#Выберем значения и построим гистограмму\n",
    "data['living_area'].hist(bins=30, figsize=(15, 5))\n",
    "plt.title('Зависимость квартир в продаже от Жилой Площади квартир')\n",
    "plt.xlabel('Жилая площадь квартиры')\n",
    "plt.ylabel('Количество квартир')\n",
    "plt.show()"
   ]
  },
  {
   "cell_type": "markdown",
   "metadata": {},
   "source": [
    "<div class=\"alert alert-block alert-danger\">\n",
    "    \n",
    "**Комментарий ревьювера (недочет, который нужно доработать)**\n",
    "    \n",
    "Почему графики распределений ограничены? Изучи по каждому параметру полное распределение, и если потребуется, покажи диапазоны отдельно.\n",
    "</div>"
   ]
  },
  {
   "cell_type": "markdown",
   "metadata": {},
   "source": [
    "<div class=\"alert alert-block alert-info\">\n",
    "<b>КОММЕНТАРИЙ ОТ УЧЕНИКА: Удалила ограничение по выборке значений и увеличила размер графика для лучшей визуализации</b>\n",
    "</div>"
   ]
  },
  {
   "cell_type": "markdown",
   "metadata": {},
   "source": [
    "<div class=\"alert alert-block alert-success\">\n",
    "\n",
    "**Комментарий ревьювера v2 (все отлично)**\n",
    "    \n",
    "Принято👍\n",
    "</div>"
   ]
  },
  {
   "cell_type": "markdown",
   "metadata": {},
   "source": [
    "Самые популярные квартиры с жилой площадью около 26 кв. м, а также 24 и 18 кв м. Больше всего квартир продается в диапазоне 18-36 кв м, после 36 кв м с увеличением жилой площади, количество квартир начинается снижаться. Среднее значение жилой площади квартиры на продажу 34.45 кв м."
   ]
  },
  {
   "cell_type": "code",
   "execution_count": 52,
   "metadata": {
    "scrolled": true
   },
   "outputs": [
    {
     "data": {
      "text/plain": [
       "count    22182.000000\n",
       "mean        10.852788\n",
       "std          6.798006\n",
       "min          0.000000\n",
       "25%          7.000000\n",
       "50%          9.295000\n",
       "75%         12.000000\n",
       "max        230.000000\n",
       "Name: kitchen_area, dtype: float64"
      ]
     },
     "execution_count": 52,
     "metadata": {},
     "output_type": "execute_result"
    }
   ],
   "source": [
    "data['kitchen_area'].describe()"
   ]
  },
  {
   "cell_type": "code",
   "execution_count": 53,
   "metadata": {},
   "outputs": [
    {
     "data": {
      "image/png": "[encoded data removed]",
      "text/plain": [
       "<Figure size 1080x360 with 1 Axes>"
      ]
     },
     "metadata": {
      "needs_background": "light"
     },
     "output_type": "display_data"
    },
    {
     "data": {
      "image/png": "[encoded data removed]",
      "text/plain": [
       "<Figure size 1080x360 with 1 Axes>"
      ]
     },
     "metadata": {
      "needs_background": "light"
     },
     "output_type": "display_data"
    }
   ],
   "source": [
    "#Выберем значения от 1 до 20 кв. метров и построим гистограмму\n",
    "data['kitchen_area'].hist(bins=30, figsize=(15, 5), range = (0,20))\n",
    "plt.title('Зависимость квартир в продаже от Площади кухни')\n",
    "plt.xlabel('Площадь кухни')\n",
    "plt.ylabel('Количество квартир')\n",
    "plt.show()\n",
    "\n",
    "#Выберем значения от 21 до 115 кв. метров и построим гистограмму\n",
    "data['kitchen_area'].hist(bins=30, figsize=(15, 5))\n",
    "plt.title('Зависимость квартир в продаже от Площади кухни')\n",
    "plt.xlabel('Площадь кухни')\n",
    "plt.ylabel('Количество квартир')\n",
    "plt.show()"
   ]
  },
  {
   "cell_type": "markdown",
   "metadata": {},
   "source": [
    "Больше всего продается квартир с прощадью кухни в 6 м кв, также популярны 8 и 10 м кв, при этом среднее значение для всех объявлений 12 кв м. С площадью кухни более 12 кв м, частота объявлений начинается снижаться. "
   ]
  },
  {
   "cell_type": "markdown",
   "metadata": {},
   "source": [
    "<div class=\"alert alert-block alert-warning\">\n",
    "\n",
    "**Комментарий ревьювера (что можно улучшить)**    \n",
    "    \n",
    "Чем можно объяснить несколько пиков на графиках?\n",
    "\n",
    "</div>"
   ]
  },
  {
   "cell_type": "markdown",
   "metadata": {},
   "source": [
    "<div class=\"alert alert-block alert-info\">\n",
    "<b>КОММЕНТАРИЙ ОТ УЧЕНИКА: Перед анализом, пропущенные значения были заменены на среднее в колонке kitchen_area</b>\n",
    "</div>"
   ]
  },
  {
   "cell_type": "code",
   "execution_count": 54,
   "metadata": {},
   "outputs": [],
   "source": [
    "pd.options.display.float_format = '{:,.2f}'.format"
   ]
  },
  {
   "cell_type": "code",
   "execution_count": 55,
   "metadata": {},
   "outputs": [
    {
     "data": {
      "text/plain": [
       "count        23,613.00\n",
       "mean      6,540,555.46\n",
       "std      10,901,722.74\n",
       "min          12,190.00\n",
       "25%       3,400,000.00\n",
       "50%       4,650,000.00\n",
       "75%       6,799,000.00\n",
       "max     763,000,000.00\n",
       "Name: last_price, dtype: float64"
      ]
     },
     "execution_count": 55,
     "metadata": {},
     "output_type": "execute_result"
    }
   ],
   "source": [
    "data['last_price'].describe()"
   ]
  },
  {
   "cell_type": "code",
   "execution_count": 56,
   "metadata": {},
   "outputs": [
    {
     "data": {
      "image/png": "[encoded data removed]",
      "text/plain": [
       "<Figure size 1080x360 with 1 Axes>"
      ]
     },
     "metadata": {
      "needs_background": "light"
     },
     "output_type": "display_data"
    }
   ],
   "source": [
    "#Выберем значения от 1.219000e+04 до 6.800000e+06 и построим гистограмму\n",
    "data.plot(y = 'last_price', kind = 'hist', bins = 100, grid=True, range=(1.219000e+04, 6.800000e+06), figsize = (15,5))\n",
    "plt.title('Зависимость квартир в продаже от Цены ')\n",
    "plt.xlabel('Цена Квартиры')\n",
    "plt.ylabel('Количество квартир')\n",
    "plt.show()"
   ]
  },
  {
   "cell_type": "markdown",
   "metadata": {},
   "source": [
    "Чаще всего продают квартиры стоимостью около 4 млн рублей, и наиболее частый диапазон колеблется от 3,5 до 5,5 млн рублей. "
   ]
  },
  {
   "cell_type": "code",
   "execution_count": 57,
   "metadata": {},
   "outputs": [
    {
     "data": {
      "text/plain": [
       "count   23,613.00\n",
       "mean         2.07\n",
       "std          1.08\n",
       "min          0.00\n",
       "25%          1.00\n",
       "50%          2.00\n",
       "75%          3.00\n",
       "max         19.00\n",
       "Name: rooms, dtype: float64"
      ]
     },
     "execution_count": 57,
     "metadata": {},
     "output_type": "execute_result"
    }
   ],
   "source": [
    "data['rooms'].describe()"
   ]
  },
  {
   "cell_type": "code",
   "execution_count": 58,
   "metadata": {},
   "outputs": [
    {
     "data": {
      "image/png": "[encoded data removed]",
      "text/plain": [
       "<Figure size 1080x360 with 1 Axes>"
      ]
     },
     "metadata": {
      "needs_background": "light"
     },
     "output_type": "display_data"
    }
   ],
   "source": [
    "#Выберем значения и построим гистограмму\n",
    "data['rooms'].hist(bins=30, figsize=(15, 5))\n",
    "plt.title('Зависимость квартир от количества комнат ')\n",
    "plt.xlabel('Количество комнат')\n",
    "plt.ylabel('Количество квартир')\n",
    "plt.show()"
   ]
  },
  {
   "cell_type": "markdown",
   "metadata": {},
   "source": [
    "Самые популярные квартиры с одной и двумя комнатами, потом по популярности идет 3 комнаты."
   ]
  },
  {
   "cell_type": "code",
   "execution_count": 59,
   "metadata": {},
   "outputs": [
    {
     "data": {
      "text/plain": [
       "count   23,613.00\n",
       "mean         2.77\n",
       "std          0.99\n",
       "min          1.00\n",
       "25%          2.60\n",
       "50%          2.77\n",
       "75%          2.77\n",
       "max        100.00\n",
       "Name: ceiling_height, dtype: float64"
      ]
     },
     "execution_count": 59,
     "metadata": {},
     "output_type": "execute_result"
    }
   ],
   "source": [
    "data['ceiling_height'].describe()"
   ]
  },
  {
   "cell_type": "code",
   "execution_count": 60,
   "metadata": {},
   "outputs": [
    {
     "data": {
      "image/png": "[encoded data removed]",
      "text/plain": [
       "<Figure size 1080x360 with 1 Axes>"
      ]
     },
     "metadata": {
      "needs_background": "light"
     },
     "output_type": "display_data"
    }
   ],
   "source": [
    "#Выберем значения и построим гистограмму\n",
    "data.plot(y = 'ceiling_height', kind = 'hist', bins = 30, range = (2,5), grid=True, figsize = (15,5))\n",
    "plt.title('Зависимость квартир в продаже от Высоты потолков')\n",
    "plt.xlabel('Высота потолков')\n",
    "plt.ylabel('Количество квартир')\n",
    "plt.show()"
   ]
  },
  {
   "cell_type": "markdown",
   "metadata": {},
   "source": [
    "Чаще всего продают квартиры с высотой потолков 2.77 метров, затем 2.6, 2.8 и 3.1 метров. Среднее значение 2.771497. "
   ]
  },
  {
   "cell_type": "code",
   "execution_count": 61,
   "metadata": {},
   "outputs": [
    {
     "data": {
      "image/png": "[encoded data removed]",
      "text/plain": [
       "<Figure size 504x288 with 1 Axes>"
      ]
     },
     "metadata": {
      "needs_background": "light"
     },
     "output_type": "display_data"
    }
   ],
   "source": [
    "floor_type_counts = data['floor_type'].value_counts()\n",
    "plt.figure(figsize=(7, 4))\n",
    "floor_type_counts.plot(kind='bar')\n",
    "plt.title('Зависимость квартир в продаже от Расположения квартиры по этажам')\n",
    "plt.xlabel('Этаж квартиры')\n",
    "plt.ylabel('Количество квартир')\n",
    "plt.show()"
   ]
  },
  {
   "cell_type": "markdown",
   "metadata": {},
   "source": [
    "<div class=\"alert alert-block alert-warning\">\n",
    "\n",
    "**Комментарий ревьювера (что можно улучшить)**\n",
    "    \n",
    "Тип этажа лучше показать на барплоте. Гистограмма распределений рассчитана на количественные данные.\n",
    "</div>"
   ]
  },
  {
   "cell_type": "markdown",
   "metadata": {},
   "source": [
    "<div class=\"alert alert-block alert-info\">\n",
    "<b>КОММЕНТАРИЙ ОТ УЧЕНИКА: Построение типа этажа на барплоте лучше визуализирует этот тип данных</b>\n",
    "</div>"
   ]
  },
  {
   "cell_type": "markdown",
   "metadata": {},
   "source": [
    "Не на первом и не на последнем этажах больше всего предложений. Затем на последнем и реже всего на первом этаже. "
   ]
  },
  {
   "cell_type": "code",
   "execution_count": 62,
   "metadata": {},
   "outputs": [
    {
     "data": {
      "text/plain": [
       "count   23,613.00\n",
       "mean        10.67\n",
       "std          6.60\n",
       "min          1.00\n",
       "25%          5.00\n",
       "50%          9.00\n",
       "75%         16.00\n",
       "max         60.00\n",
       "Name: floors_total, dtype: float64"
      ]
     },
     "execution_count": 62,
     "metadata": {},
     "output_type": "execute_result"
    }
   ],
   "source": [
    "data['floors_total'].describe()"
   ]
  },
  {
   "cell_type": "code",
   "execution_count": 63,
   "metadata": {},
   "outputs": [
    {
     "data": {
      "image/png": "[encoded data removed]",
      "text/plain": [
       "<Figure size 1080x360 with 1 Axes>"
      ]
     },
     "metadata": {
      "needs_background": "light"
     },
     "output_type": "display_data"
    }
   ],
   "source": [
    "#Выберем значения и построим гистограмму\n",
    "data['floors_total'].hist(bins=100, range=(1, 30), figsize=(15,5))\n",
    "plt.title('Зависимость квартир в продаже от количества этажей в доме')\n",
    "plt.xlabel('Количеcтво этажей в доме')\n",
    "plt.ylabel('Количество квартир')\n",
    "plt.show()"
   ]
  },
  {
   "cell_type": "markdown",
   "metadata": {},
   "source": [
    "Больше всего предложений о продаже квартир в продаже в домах с 5-ю этажами, затем в домах где 9 этажей и 16. В домах с другой этажностью намного меньше объявлений.  "
   ]
  },
  {
   "cell_type": "markdown",
   "metadata": {},
   "source": [
    "<div class=\"alert alert-block alert-warning\">\n",
    "\n",
    "**Комментарий ревьювера (что можно улучшить)**    \n",
    "    \n",
    "Являются ли нормой жилые дома с 60-ю этажами в рассматриваемом регионе? Чем можно объяснить пики?\n",
    "</div>"
   ]
  },
  {
   "cell_type": "markdown",
   "metadata": {},
   "source": [
    "<div class=\"alert alert-block alert-info\">\n",
    "<b>КОММЕНТАРИЙ ОТ УЧЕНИКА: Считаю, что значение 60-ти этажей в данном регионе - ошибочное значение, аномалия которую следует исключить из анализа</b>\n",
    "</div>"
   ]
  },
  {
   "cell_type": "code",
   "execution_count": 64,
   "metadata": {},
   "outputs": [],
   "source": [
    "data_cityCenters_nearest = data.query('cityCenters_nearest != 0')"
   ]
  },
  {
   "cell_type": "code",
   "execution_count": 65,
   "metadata": {},
   "outputs": [],
   "source": [
    "pd.options.display.float_format = '{:,.2f}'.format"
   ]
  },
  {
   "cell_type": "code",
   "execution_count": 66,
   "metadata": {},
   "outputs": [
    {
     "data": {
      "text/plain": [
       "count   18,104.00\n",
       "mean    14,185.08\n",
       "std      8,614.13\n",
       "min        181.00\n",
       "25%      9,233.75\n",
       "50%     13,093.00\n",
       "75%     16,287.00\n",
       "max     65,968.00\n",
       "Name: cityCenters_nearest, dtype: float64"
      ]
     },
     "execution_count": 66,
     "metadata": {},
     "output_type": "execute_result"
    }
   ],
   "source": [
    "data_cityCenters_nearest['cityCenters_nearest'].describe()"
   ]
  },
  {
   "cell_type": "code",
   "execution_count": 67,
   "metadata": {},
   "outputs": [
    {
     "data": {
      "image/png": "[encoded data removed]",
      "text/plain": [
       "<Figure size 1080x360 with 1 Axes>"
      ]
     },
     "metadata": {
      "needs_background": "light"
     },
     "output_type": "display_data"
    }
   ],
   "source": [
    "#Выберем значения и построим гистограмму\n",
    "data_cityCenters_nearest = data.query('cityCenters_nearest != 0')\n",
    "data_cityCenters_nearest['cityCenters_nearest'].hist(bins=50, figsize=(15, 5))\n",
    "plt.title('Зависимость квартир в продаже от удаленности от центра города')\n",
    "plt.xlabel('Удаленность от центра города')\n",
    "plt.ylabel('Количество квартир')\n",
    "plt.show()"
   ]
  },
  {
   "cell_type": "markdown",
   "metadata": {},
   "source": [
    "<div class=\"alert alert-block alert-info\">\n",
    "<b>КОММЕНТАРИЙ ОТ УЧЕНИКА: Перед анализом, отфильтруем нулевые значения в cityCenters_nearest, чтобы они не учитывались в графике</b>\n",
    "</div>"
   ]
  },
  {
   "cell_type": "markdown",
   "metadata": {},
   "source": [
    "Большинство продавцов считают этот показатель важным при продаже квартиры и указывают его в объявлении. Больше всего квартир продается, которые находятся на расстоянии 10-17 км от центра города, есть также всплеск на 5 км от центра города. Среднее удаленность по всем продаваемым квартирам в 13 км удаленность от центра. "
   ]
  },
  {
   "cell_type": "code",
   "execution_count": 68,
   "metadata": {},
   "outputs": [],
   "source": [
    "data_parks_nearest = data.query('parks_nearest != 0')"
   ]
  },
  {
   "cell_type": "code",
   "execution_count": 69,
   "metadata": {},
   "outputs": [
    {
     "data": {
      "text/plain": [
       "count   8,045.00\n",
       "mean      490.55\n",
       "std       341.34\n",
       "min         1.00\n",
       "25%       288.00\n",
       "50%       455.00\n",
       "75%       612.00\n",
       "max     3,190.00\n",
       "Name: parks_nearest, dtype: float64"
      ]
     },
     "execution_count": 69,
     "metadata": {},
     "output_type": "execute_result"
    }
   ],
   "source": [
    "data_parks_nearest['parks_nearest'].describe()"
   ]
  },
  {
   "cell_type": "code",
   "execution_count": 70,
   "metadata": {},
   "outputs": [
    {
     "data": {
      "image/png": "[encoded data removed]",
      "text/plain": [
       "<Figure size 1080x360 with 1 Axes>"
      ]
     },
     "metadata": {
      "needs_background": "light"
     },
     "output_type": "display_data"
    }
   ],
   "source": [
    "#Выберем значения и построим гистограмму\n",
    "data_parks_nearest['parks_nearest'].hist(bins=100, figsize=(15, 5))\n",
    "plt.title('Зависимость квартир в продаже от близости парков')\n",
    "plt.xlabel('Близость парков')\n",
    "plt.ylabel('Количество квартир')\n",
    "plt.show()"
   ]
  },
  {
   "cell_type": "markdown",
   "metadata": {},
   "source": [
    "<div class=\"alert alert-block alert-info\">\n",
    "<b>КОММЕНТАРИЙ ОТ УЧЕНИКА: Перед анализом, отфильтруем нулевые значения в parks_nearest, чтобы они не учитывались в графике</b>\n",
    "</div>"
   ]
  },
  {
   "cell_type": "markdown",
   "metadata": {},
   "source": [
    "Изначально в данных много пропущенных значений в колонке parks_nearest - 15620, что говорит о том, что много квартир находится далеко от парка или же продавцы не придают значение этому показателю. В около половине объявлений о продаже квартир присудствует этот показатель. Примерно 75% из объявлений в которых есть это значение находятся в менее 612 метров от парков, и в среднем удаленность от парков 450 метров.   Меньше всего квартир продается от 1000 метров с удаленность парков."
   ]
  },
  {
   "cell_type": "markdown",
   "metadata": {},
   "source": [
    "Общий вывод:\n",
    "1. На продажу чаще всего выставляются квартиры с площадью от 30 до 60 кв метров, максимальное значение приходится на квартиры общей прощадью около 52 квадратных метров.\n",
    "2. Самые популярные квартиры с жилой площадью около 26 кв. м, а также 24 и 18 кв м. Больше всего квартир продается в диапазоне 18-36 кв м, после 36 кв м с увеличением жилой площади, количество квартир начинается снижаться. Среднее значение жилой площади квартиры на продажу 34.45 кв м.\n",
    "3. Больше всего продается квартир с прощадью кухни в 6 м кв, также популярны 8 и 10 м кв, при этом среднее значение для всех объявлений 12 кв м. С площадью кухни более 12 кв м, частота объявлений начинается снижаться. \n",
    "4. Чаще всего продают квартиры стоимостью около 4 млн рублей, и наиболее частый диапазон колеблется от 3,5 до 5,5 млн рублей.\n",
    "5. Самые популярные квартиры с одной и двумя комнатами, потом по популярности идет 3 комнаты.\n",
    "6. Чаще всего продают квартиры с высотой потолков 2.77 метров, затем 2.6, 2.8 и 3.1 метров. Среднее значение 2.771497. \n",
    "7. Не на первом и не на последнем этажах больше всего предложений. Затем на последнем и реже всего на первом этаже. \n",
    "8. Больше всего предложений о продаже квартир в продаже в домах с 5-ю этажами, затем в домах где 9 этажей и 16. В домах с другой этажностью намного меньше объявлений. При этом выбросы исключаем из графика\n",
    "9. Большинство продавцов считают этот показатель важным при продаже квартиры и указывают его в объявлении, отфильтруем нулевые значения чтобы не указывать его в графике. Больше всего квартир продается, которые находятся на расстоянии 10-17 км от центра города, есть также всплеск на 5 км от центра города. Среднее удаленность по всем продаваемым квартирам в 13 км удаленность от центра.\n",
    "10. В около половине всего объявлений о продаже квартир отсудствует этот показатель и это говорит о том, что много квартир находится далеко от парка или же продавцы не придают значение этому показателю. Отфильруем нулевые значения чтобы они не искажали результаты. Примерно 75% из объявлений в которых есть это значение находятся в менее 612 метров от парков, и в среднем удаленность от парков 450 метров. Меньше всего квартир продается от 1000 метров с удаленность парков.\n",
    "\n",
    "Из всего изученного можно сказать, что самый часто встречающийся вариант обьявления это однокомнатная квартира чуть больше 30 кв метров общей площади, с жилой площадью 26 кв метров, с кухней 6 кв метров и стоимостью 4 млн рублей, которая расположена не на первом и не на последнем этаже 5-ти этажного дома, находящимся в 13 км от центра города и в 450 метров от парка. "
   ]
  },
  {
   "cell_type": "markdown",
   "metadata": {},
   "source": [
    "<div class=\"alert alert-block alert-danger\">\n",
    "    \n",
    "**Комментарий ревьювера (недочет, который нужно доработать)**\n",
    "    \n",
    "Проверь выводы после исправления недочётов.\n",
    "</div>"
   ]
  },
  {
   "cell_type": "markdown",
   "metadata": {},
   "source": [
    "<div class=\"alert alert-block alert-info\">\n",
    "<b>КОММЕНТАРИЙ ОТ УЧЕНИКА: Обновила данные в выводах</b>\n",
    "</div>"
   ]
  },
  {
   "cell_type": "markdown",
   "metadata": {},
   "source": [
    "<div class=\"alert alert-block alert-danger\">\n",
    "    \n",
    "**Комментарий ревьювера v2 (недочет, который нужно доработать)**\n",
    "    \n",
    "Проверь выводы после исправления заполнения пропусков по площадям.\n",
    "</div>"
   ]
  },
  {
   "cell_type": "markdown",
   "metadata": {},
   "source": [
    "<div class=\"alert alert-block alert-info\">\n",
    "<b>КОММЕНТАРИЙ ОТ УЧЕНИКА v2: Обновила данные в выводах</b>\n",
    "</div>"
   ]
  },
  {
   "cell_type": "markdown",
   "metadata": {},
   "source": [
    "<div class=\"alert alert-block alert-success\">\n",
    "\n",
    "**Комментарий ревьювера v3 (все отлично)**\n",
    "    \n",
    "👍\n",
    "</div>"
   ]
  },
  {
   "cell_type": "markdown",
   "metadata": {},
   "source": [
    "**4.2 Изучитем, как быстро продавались квартиры**"
   ]
  },
  {
   "cell_type": "code",
   "execution_count": 71,
   "metadata": {},
   "outputs": [],
   "source": [
    "data_days_exposition = data.query('days_exposition != 0')"
   ]
  },
  {
   "cell_type": "code",
   "execution_count": 72,
   "metadata": {},
   "outputs": [
    {
     "data": {
      "text/plain": [
       "count   20,441.00\n",
       "mean       180.88\n",
       "std        219.69\n",
       "min          1.00\n",
       "25%         45.00\n",
       "50%         95.00\n",
       "75%        232.00\n",
       "max      1,580.00\n",
       "Name: days_exposition, dtype: float64"
      ]
     },
     "execution_count": 72,
     "metadata": {},
     "output_type": "execute_result"
    }
   ],
   "source": [
    "data_days_exposition['days_exposition'].describe()"
   ]
  },
  {
   "cell_type": "code",
   "execution_count": 73,
   "metadata": {},
   "outputs": [
    {
     "data": {
      "image/png": "[encoded data removed]",
      "text/plain": [
       "<Figure size 1080x360 with 1 Axes>"
      ]
     },
     "metadata": {
      "needs_background": "light"
     },
     "output_type": "display_data"
    }
   ],
   "source": [
    "#Выберем значения и построим гистограмму\n",
    "data_days_exposition['days_exposition'].hist(bins=100, figsize=(15, 5), range=(1,250))\n",
    "plt.title('Зависимость квартир в продаже от длительности продажи')\n",
    "plt.xlabel('Длительность обьявления')\n",
    "plt.ylabel('Количество квартир')\n",
    "plt.show()"
   ]
  },
  {
   "cell_type": "markdown",
   "metadata": {},
   "source": [
    "<div class=\"alert alert-block alert-danger\">\n",
    "    \n",
    "**Комментарий ревьювера (недочет, который нужно доработать)**\n",
    "    \n",
    "Искусственные нулевые значения искажают данные.\n",
    "</div>"
   ]
  },
  {
   "cell_type": "markdown",
   "metadata": {},
   "source": [
    "<div class=\"alert alert-block alert-info\">\n",
    "<b>КОММЕНТАРИЙ ОТ УЧЕНИКА: Отфильтровала нулевые значения чтобы они не учитывались в графике</b>\n",
    "</div>"
   ]
  },
  {
   "cell_type": "markdown",
   "metadata": {},
   "source": [
    "<div class=\"alert alert-block alert-danger\">\n",
    "    \n",
    "**Комментарий ревьювера (недочет, который нужно доработать)**\n",
    "    \n",
    "Не согласен с решением удалить значения 45, 60 и 90 дней. Объявления могли вполне продаваться за такой срок. Может есть причина почему именно в эти чаще закрываются объявления?\n",
    "</div>"
   ]
  },
  {
   "cell_type": "markdown",
   "metadata": {},
   "source": [
    "<div class=\"alert alert-block alert-info\">\n",
    "<b>КОММЕНТАРИЙ ОТ УЧЕНИКА: В данных содержаться всплески о продажах на день 45, 60 и 90 возможно объявления снимаются автоматически в конце определенного срока когда квартира считается проданной </b>\n",
    "</div>"
   ]
  },
  {
   "cell_type": "markdown",
   "metadata": {},
   "source": [
    "<div class=\"alert alert-block alert-success\">\n",
    "\n",
    "**Комментарий ревьювера v2 (все отлично)**\n",
    "    \n",
    "Согласен с комментарием. Принимаю исправления👌   \n",
    "</div>"
   ]
  },
  {
   "cell_type": "code",
   "execution_count": 74,
   "metadata": {},
   "outputs": [
    {
     "data": {
      "text/plain": [
       "count   20,441.00\n",
       "mean       180.88\n",
       "std        219.69\n",
       "min          1.00\n",
       "25%         45.00\n",
       "50%         95.00\n",
       "75%        232.00\n",
       "max      1,580.00\n",
       "Name: days_exposition, dtype: float64"
      ]
     },
     "execution_count": 74,
     "metadata": {},
     "output_type": "execute_result"
    }
   ],
   "source": [
    "data_days_exposition['days_exposition'].describe()"
   ]
  },
  {
   "cell_type": "code",
   "execution_count": 75,
   "metadata": {},
   "outputs": [
    {
     "data": {
      "text/plain": [
       "180.88483929357665"
      ]
     },
     "execution_count": 75,
     "metadata": {},
     "output_type": "execute_result"
    }
   ],
   "source": [
    "data_days_exposition['days_exposition'].mean()"
   ]
  },
  {
   "cell_type": "code",
   "execution_count": 76,
   "metadata": {},
   "outputs": [
    {
     "data": {
      "text/plain": [
       "95.0"
      ]
     },
     "execution_count": 76,
     "metadata": {},
     "output_type": "execute_result"
    }
   ],
   "source": [
    "data_days_exposition['days_exposition'].median()"
   ]
  },
  {
   "cell_type": "markdown",
   "metadata": {},
   "source": [
    "В среднем продажа квартиры занимает 180 дней, и медианное значение 95 дня, которые более точно говорит о средних темпах продажи, так как не зависит от аномальных показателей в данных. Быстрыми продажами считаются до 44 дней(1-й квартиль), долгими продажам от 232 дней (3-й квартиль) и выше которые возможно не будут проданы. В большинстве случаев квартиры продаются за 2-3 месяца."
   ]
  },
  {
   "cell_type": "markdown",
   "metadata": {},
   "source": [
    "<div class=\"alert alert-block alert-success\">\n",
    "\n",
    "**Комментарий ревьювера v2 (все отлично)**\n",
    "    \n",
    "Согласен с ответом👍 \n",
    "</div>"
   ]
  },
  {
   "cell_type": "markdown",
   "metadata": {},
   "source": [
    "**4.3 Определяем факторы, которые больше всего влияют на общую (полную) стоимость объекта.**"
   ]
  },
  {
   "cell_type": "code",
   "execution_count": 77,
   "metadata": {},
   "outputs": [
    {
     "name": "stdout",
     "output_type": "stream",
     "text": [
      "\n",
      "Средняя цена в зависимости от Общей площади: \n",
      "               last_price\n",
      "total_area               \n",
      "900.00     420,000,000.00\n",
      "401.00     401,300,000.00\n",
      "618.00     300,000,000.00\n",
      "400.00     296,333,333.33\n",
      "285.70     245,000,000.00\n",
      "410.00     240,000,000.00\n",
      "268.00     190,870,000.00\n",
      "500.00     190,000,000.00\n",
      "347.00     180,000,000.00\n",
      "187.50     173,869,200.00\n"
     ]
    }
   ],
   "source": [
    "# зависимость цены от общей площади квартиры\n",
    "total_area_price_pivot = data.pivot_table(index='total_area', values='last_price', aggfunc='mean')\n",
    "print(\"\\nСредняя цена в зависимости от Общей площади: \")\n",
    "print(total_area_price_pivot.sort_values(by='last_price', ascending=False).head(10))"
   ]
  },
  {
   "cell_type": "code",
   "execution_count": 78,
   "metadata": {},
   "outputs": [
    {
     "data": {
      "text/plain": [
       "0.6535810085611219"
      ]
     },
     "execution_count": 78,
     "metadata": {},
     "output_type": "execute_result"
    }
   ],
   "source": [
    "# зависимость цены от общей площади квартиры\n",
    "data['total_area'].corr(data['last_price'])"
   ]
  },
  {
   "cell_type": "code",
   "execution_count": 79,
   "metadata": {},
   "outputs": [
    {
     "data": {
      "image/png": "[encoded data removed]",
      "text/plain": [
       "<Figure size 1080x360 with 1 Axes>"
      ]
     },
     "metadata": {
      "needs_background": "light"
     },
     "output_type": "display_data"
    }
   ],
   "source": [
    "# Зависимость цены от Общей площади\n",
    "data.plot(x='total_area', y='last_price', grid=True, style='o', figsize=(15, 5))\n",
    "plt.title('Зависимость цены от Общей площади')\n",
    "plt.xlabel('Общая площадь')\n",
    "plt.ylabel('Цена')\n",
    "plt.show()"
   ]
  },
  {
   "cell_type": "markdown",
   "metadata": {},
   "source": [
    "<div class=\"alert alert-block alert-danger\">\n",
    "    \n",
    "**Комментарий ревьювера (недочет, который нужно доработать)**\n",
    "    \n",
    "Диаграмму рассеяния количественных данных нужно строить и считать по исходным данным. Агрегация по среднему (по умолчанию при использовании сводных таблиц) снижает точность визуализации, так как каждое значение площади теперь имеет среднее значение. Делать сводную таблицу для анализа зависимости количественных данных не нужно.\n",
    "    \n",
    "Исправь графики.\n",
    "\n",
    "</div>"
   ]
  },
  {
   "cell_type": "markdown",
   "metadata": {},
   "source": [
    "<div class=\"alert alert-block alert-info\">\n",
    "<b>КОММЕНТАРИЙ ОТ УЧЕНИКА: Умеренная положительная связь между ценой и размером общей площади квартиры, цена квартиры увеличивается с увелечением площади </b>\n",
    "</div>"
   ]
  },
  {
   "cell_type": "markdown",
   "metadata": {},
   "source": [
    "<div class=\"alert alert-block alert-success\">\n",
    "\n",
    "**Комментарий ревьювера v2 (все отлично)**\n",
    "    \n",
    "Так лучше👍 \n",
    "</div>"
   ]
  },
  {
   "cell_type": "markdown",
   "metadata": {},
   "source": [
    "<div class=\"alert alert-block alert-warning\">\n",
    "\n",
    "**Комментарий ревьювера (что можно улучшить)**\n",
    "    \n",
    "Интерпретация коэффициента корреляции производится исходя из уровня силы связи:\n",
    "    \n",
    "    r>0,01≤0,29 – слабая положительная связь,\n",
    "    r>0,30≤0,69 – умеренная положительная связь,\n",
    "    r>0,70≤1,00 – сильная положительная связь,\n",
    "    r>-0,01≤-0,29 – слабая отрицательная связь,\n",
    "    r>-0,30≤-0,69 – умеренная отрицательная связь,\n",
    "    r>-0,70≤-1,00 – сильная отрицательная связь. \n",
    "</div>"
   ]
  },
  {
   "cell_type": "code",
   "execution_count": 80,
   "metadata": {},
   "outputs": [],
   "source": [
    "pd.options.display.float_format = '{:,.2f}'.format"
   ]
  },
  {
   "cell_type": "code",
   "execution_count": 81,
   "metadata": {
    "scrolled": true
   },
   "outputs": [
    {
     "name": "stdout",
     "output_type": "stream",
     "text": [
      "\n",
      "Средняя цена в зависимости от Жилой площади: \n",
      "                last_price\n",
      "living_area               \n",
      "409.70      420,000,000.00\n",
      "204.00      401,300,000.00\n",
      "258.00      300,000,000.00\n",
      "182.80      245,000,000.00\n",
      "218.00      240,000,000.00\n",
      "250.00      226,800,000.00\n",
      "285.49      190,000,000.00\n",
      "260.00      180,000,000.00\n",
      "179.00      148,000,000.00\n",
      "360.29      140,000,000.00\n"
     ]
    }
   ],
   "source": [
    "# зависимость цены от жилой площади квартиры\n",
    "living_area_price_pivot = data.pivot_table(index='living_area', values='last_price', aggfunc='mean')\n",
    "print(\"\\nСредняя цена в зависимости от Жилой площади: \")\n",
    "print(living_area_price_pivot.sort_values(by='last_price', ascending=False).head(10))"
   ]
  },
  {
   "cell_type": "code",
   "execution_count": 82,
   "metadata": {},
   "outputs": [
    {
     "data": {
      "text/plain": [
       "0.5856698659227209"
      ]
     },
     "execution_count": 82,
     "metadata": {},
     "output_type": "execute_result"
    }
   ],
   "source": [
    "# зависимость цены от жилой площади квартиры\n",
    "data['living_area'].corr(data['last_price'])"
   ]
  },
  {
   "cell_type": "code",
   "execution_count": 83,
   "metadata": {},
   "outputs": [
    {
     "data": {
      "image/png": "[encoded data removed]",
      "text/plain": [
       "<Figure size 1080x360 with 1 Axes>"
      ]
     },
     "metadata": {
      "needs_background": "light"
     },
     "output_type": "display_data"
    }
   ],
   "source": [
    "# Зависимость цены от Жилой площади\n",
    "data.plot(x='living_area', y='last_price', grid=True, style='o', figsize=(15, 5))\n",
    "plt.title('Зависимость цены от Жилой площади')\n",
    "plt.xlabel('Жилая площадь')\n",
    "plt.ylabel('Цена')\n",
    "plt.show()"
   ]
  },
  {
   "cell_type": "markdown",
   "metadata": {},
   "source": [
    "Умеренная положительная связь между ценой и размером жилой площади квартиры, цена квартиры увеличивается с увелечением жилой площади"
   ]
  },
  {
   "cell_type": "code",
   "execution_count": 84,
   "metadata": {},
   "outputs": [
    {
     "name": "stdout",
     "output_type": "stream",
     "text": [
      "\n",
      "Средняя цена в зависимости от площади Кухни: \n",
      "                 last_price\n",
      "kitchen_area               \n",
      "150.00       763,000,000.00\n",
      "112.00       420,000,000.00\n",
      "70.00        162,150,000.00\n",
      "230.00       131,000,000.00\n",
      "63.40        130,000,000.00\n",
      "29.80        126,000,000.00\n",
      "29.86        124,480,000.00\n",
      "72.00        122,000,000.00\n",
      "30.20        105,729,466.67\n",
      "120.00        99,000,000.00\n"
     ]
    }
   ],
   "source": [
    "# зависимость цены от площади кухни\n",
    "kitchen_price_pivot = data.pivot_table(index='kitchen_area', values='last_price', aggfunc='mean')\n",
    "print(\"\\nСредняя цена в зависимости от площади Кухни: \")\n",
    "print(kitchen_price_pivot.sort_values(by='last_price', ascending=False).head(10))"
   ]
  },
  {
   "cell_type": "code",
   "execution_count": 85,
   "metadata": {},
   "outputs": [
    {
     "data": {
      "text/plain": [
       "0.4927066615099905"
      ]
     },
     "execution_count": 85,
     "metadata": {},
     "output_type": "execute_result"
    }
   ],
   "source": [
    "# зависимость цены от размера кухни\n",
    "data['kitchen_area'].corr(data['last_price'])"
   ]
  },
  {
   "cell_type": "code",
   "execution_count": 86,
   "metadata": {
    "scrolled": true
   },
   "outputs": [
    {
     "data": {
      "image/png": "[encoded data removed]",
      "text/plain": [
       "<Figure size 1080x360 with 1 Axes>"
      ]
     },
     "metadata": {
      "needs_background": "light"
     },
     "output_type": "display_data"
    }
   ],
   "source": [
    "# Зависимость цены от площади кухни\n",
    "data.plot(x='kitchen_area', y='last_price', grid=True, style='o', figsize=(15, 5))\n",
    "plt.title('Зависимость цены от Площадь Кухни')\n",
    "plt.xlabel('Площадь кухни')\n",
    "plt.ylabel('Цена')\n",
    "plt.show()"
   ]
  },
  {
   "cell_type": "markdown",
   "metadata": {},
   "source": [
    "Умеренная положительная связь между ценой и размером кухни, цена квартиры увеличивается с увеличением размера кухни "
   ]
  },
  {
   "cell_type": "markdown",
   "metadata": {},
   "source": [
    "<div class=\"alert alert-block alert-danger\">\n",
    "    \n",
    "**Комментарий ревьювера (недочет, который нужно доработать)**\n",
    "    \n",
    "Искусственные нулевые значения площади кухни и жилой площади искажают результаты.\n",
    "\n",
    "</div>"
   ]
  },
  {
   "cell_type": "markdown",
   "metadata": {},
   "source": [
    "<div class=\"alert alert-block alert-info\">\n",
    "<b>КОММЕНТАРИЙ ОТ УЧЕНИКА: Изменила нулевые данные на средние в столбцах kitchen_area и living_area</b>\n",
    "</div>"
   ]
  },
  {
   "cell_type": "markdown",
   "metadata": {},
   "source": [
    "<div class=\"alert alert-block alert-danger\">\n",
    "    \n",
    "**Комментарий ревьювера v2 (недочет, который нужно доработать)**\n",
    "    \n",
    "Проверь результаты после исправления заполнения пропусков по площадям.\n",
    "</div>"
   ]
  },
  {
   "cell_type": "markdown",
   "metadata": {},
   "source": [
    "<div class=\"alert alert-block alert-info\">\n",
    "<b>КОММЕНТАРИЙ ОТ УЧЕНИКА: Проверила результаты после исправления данных в kitchen_area и living_area.\n",
    "    Заполним пропущенные значения в колонках kitchen_area разницой total_area-living_area. Чтобы заполнить пропуски в living_area рассчитаем коэффициент среднее отношение жилой площади к общей площади и пропущенные значения жилой площади заполнить общей площадью, умноженной на этот коэффициент.</b>\n",
    "</div>"
   ]
  },
  {
   "cell_type": "markdown",
   "metadata": {},
   "source": [
    "<div class=\"alert alert-block alert-success\">\n",
    "\n",
    "**Комментарий ревьювера v3 (все отлично)**\n",
    "    \n",
    "Принято👍\n",
    "</div>"
   ]
  },
  {
   "cell_type": "code",
   "execution_count": 87,
   "metadata": {},
   "outputs": [
    {
     "name": "stdout",
     "output_type": "stream",
     "text": [
      "\n",
      "Средняя цена в зависимости от Количества комнат: \n",
      "          last_price\n",
      "rooms               \n",
      "12    420,000,000.00\n",
      "15     65,000,000.00\n",
      "7      51,470,069.08\n",
      "8      50,224,166.67\n",
      "9      34,152,362.50\n",
      "19     32,250,000.00\n",
      "6      31,880,037.73\n",
      "16     28,500,000.00\n",
      "14     26,829,500.00\n",
      "10     26,166,666.67\n"
     ]
    }
   ],
   "source": [
    "# зависимость цены от количества комнат\n",
    "rooms_price_pivot = data.pivot_table(index='rooms', values='last_price', aggfunc='mean')\n",
    "print(\"\\nСредняя цена в зависимости от Количества комнат: \")\n",
    "print(rooms_price_pivot.sort_values(by='last_price', ascending=False).head(10))"
   ]
  },
  {
   "cell_type": "code",
   "execution_count": 88,
   "metadata": {},
   "outputs": [
    {
     "data": {
      "text/plain": [
       "0.3631241665984552"
      ]
     },
     "execution_count": 88,
     "metadata": {},
     "output_type": "execute_result"
    }
   ],
   "source": [
    "# зависимость цены от количества комнат\n",
    "data['rooms'].corr(data['last_price'])"
   ]
  },
  {
   "cell_type": "code",
   "execution_count": 89,
   "metadata": {},
   "outputs": [
    {
     "data": {
      "image/png": "[encoded data removed]",
      "text/plain": [
       "<Figure size 1080x360 with 1 Axes>"
      ]
     },
     "metadata": {
      "needs_background": "light"
     },
     "output_type": "display_data"
    }
   ],
   "source": [
    "# Зависимость цены от Количества комнат\n",
    "data.plot.scatter(x='rooms', y='last_price', grid=True, figsize=(15, 5), alpha=0.5)\n",
    "plt.title('Зависимость цены от Количества комнат')\n",
    "plt.xlabel('Количество комнат')\n",
    "plt.ylabel('Цена')\n",
    "plt.show()"
   ]
  },
  {
   "cell_type": "markdown",
   "metadata": {},
   "source": [
    "Умеренная положительная связь между количеством комнат и ценой квартиры, цена увеличивается с увеличением количества комнат."
   ]
  },
  {
   "cell_type": "code",
   "execution_count": 90,
   "metadata": {},
   "outputs": [
    {
     "name": "stdout",
     "output_type": "stream",
     "text": [
      "\n",
      "Средняя цена в зависимости от Этажа: \n",
      "             last_price\n",
      "floor_type             \n",
      "последний  7,361,024.84\n",
      "другой     6,674,074.18\n",
      "первый     4,805,699.09\n"
     ]
    }
   ],
   "source": [
    "# зависимость цены от жилой площади квартиры\n",
    "floortype_price_pivot = data.pivot_table(index='floor_type', values='last_price', aggfunc='mean')\n",
    "print(\"\\nСредняя цена в зависимости от Этажа: \")\n",
    "print(floortype_price_pivot.sort_values(by='last_price', ascending=False).head(10))"
   ]
  },
  {
   "cell_type": "code",
   "execution_count": 91,
   "metadata": {
    "scrolled": true
   },
   "outputs": [
    {
     "data": {
      "image/png": "[encoded data removed]",
      "text/plain": [
       "<Figure size 1080x360 with 1 Axes>"
      ]
     },
     "metadata": {
      "needs_background": "light"
     },
     "output_type": "display_data"
    }
   ],
   "source": [
    "floortype_price_pivot.plot(grid=True, figsize=(15, 5), title='Зависимость цены от Количества комнат')\n",
    "plt.xlabel('Этаж ')\n",
    "plt.ylabel('Цена')\n",
    "plt.show()"
   ]
  },
  {
   "cell_type": "markdown",
   "metadata": {},
   "source": [
    "<div class=\"alert alert-block alert-success\">\n",
    "\n",
    "**Комментарий ревьювера (все отлично)**\n",
    "    \n",
    "Хорошее решение использовать линейный график для анализа зависимости категориальных данных.\n",
    "</div>"
   ]
  },
  {
   "cell_type": "markdown",
   "metadata": {},
   "source": [
    "Квартиры которые находятся на последнем этаже самые дорогие, затем которые не на первом и на первом самые дешевые квартиры."
   ]
  },
  {
   "cell_type": "code",
   "execution_count": 92,
   "metadata": {},
   "outputs": [
    {
     "name": "stdout",
     "output_type": "stream",
     "text": [
      "\n",
      "Средняя цена в зависимости от Даты подачи объявления: \n",
      "          last_price\n",
      "weekday             \n",
      "5       6,980,411.46\n",
      "3       6,703,665.88\n",
      "2       6,631,799.53\n",
      "0       6,519,120.20\n",
      "1       6,390,111.64\n",
      "4       6,367,272.04\n",
      "6       6,238,970.81\n"
     ]
    }
   ],
   "source": [
    "# зависимость цены от дня подачи объвления\n",
    "weekday_price_pivot = data.pivot_table(index='weekday', values='last_price')\n",
    "print(\"\\nСредняя цена в зависимости от Даты подачи объявления: \")\n",
    "print(weekday_price_pivot.sort_values(by='last_price', ascending=False).head(10))"
   ]
  },
  {
   "cell_type": "code",
   "execution_count": 93,
   "metadata": {},
   "outputs": [
    {
     "data": {
      "image/png": "[encoded data removed]",
      "text/plain": [
       "<Figure size 1080x360 with 1 Axes>"
      ]
     },
     "metadata": {
      "needs_background": "light"
     },
     "output_type": "display_data"
    }
   ],
   "source": [
    "weekday_price_pivot.plot(grid=True, figsize=(15, 5), title='Зависимость цены от Дня Обьявления')\n",
    "plt.xlabel('День Недели ')\n",
    "plt.ylabel('Цена')\n",
    "plt.show()"
   ]
  },
  {
   "cell_type": "code",
   "execution_count": 94,
   "metadata": {},
   "outputs": [
    {
     "name": "stdout",
     "output_type": "stream",
     "text": [
      "\n",
      "Средняя цена в зависимости от Даты размещения месяц: \n",
      "        last_price\n",
      "month             \n",
      "1     4,600,000.00\n",
      "2     4,650,000.00\n",
      "3     4,650,000.00\n",
      "4     4,800,000.00\n",
      "5     4,500,000.00\n",
      "6     4,400,000.00\n",
      "7     4,650,000.00\n",
      "8     4,570,000.00\n",
      "9     4,700,000.00\n",
      "10    4,570,000.00\n",
      "11    4,700,000.00\n",
      "12    4,700,000.00\n"
     ]
    }
   ],
   "source": [
    "month_price_pivot = data.pivot_table(index='month', values='last_price', aggfunc='median')\n",
    "print(\"\\nСредняя цена в зависимости от Даты размещения месяц: \")\n",
    "print(month_price_pivot)"
   ]
  },
  {
   "cell_type": "code",
   "execution_count": 95,
   "metadata": {},
   "outputs": [
    {
     "data": {
      "image/png": "[encoded data removed]",
      "text/plain": [
       "<Figure size 1080x360 with 1 Axes>"
      ]
     },
     "metadata": {
      "needs_background": "light"
     },
     "output_type": "display_data"
    }
   ],
   "source": [
    "month_price_pivot.plot(grid=True, style='o-', figsize=(15, 5), title='Зависимость цены от Месяца Обьявления')\n",
    "plt.xlabel('Месяц ')\n",
    "plt.ylabel('Цена')\n",
    "plt.show()"
   ]
  },
  {
   "cell_type": "code",
   "execution_count": 96,
   "metadata": {},
   "outputs": [
    {
     "name": "stdout",
     "output_type": "stream",
     "text": [
      "\n",
      "Средняя цена в зависимости от Даты размещения год: \n",
      "       last_price\n",
      "year             \n",
      "2014 7,700,000.00\n",
      "2015 5,312,500.00\n",
      "2016 4,550,000.00\n",
      "2017 4,500,000.00\n",
      "2018 4,550,000.00\n",
      "2019 5,050,000.00\n"
     ]
    }
   ],
   "source": [
    "year_price_pivot = data.pivot_table(index='year', values='last_price', aggfunc='median')\n",
    "print(\"\\nСредняя цена в зависимости от Даты размещения год: \")\n",
    "print(year_price_pivot)"
   ]
  },
  {
   "cell_type": "code",
   "execution_count": 97,
   "metadata": {},
   "outputs": [
    {
     "data": {
      "image/png": "[encoded data removed]",
      "text/plain": [
       "<Figure size 1080x360 with 1 Axes>"
      ]
     },
     "metadata": {
      "needs_background": "light"
     },
     "output_type": "display_data"
    }
   ],
   "source": [
    "year_price_pivot.plot(grid=True, style='o-', figsize=(15, 5), title='Зависимость цены от Года Обьявления')\n",
    "plt.xlabel('Год ')\n",
    "plt.ylabel('Цена')\n",
    "plt.show()"
   ]
  },
  {
   "cell_type": "markdown",
   "metadata": {},
   "source": [
    "**Вывод**\n",
    "\n",
    "Умеренная положительная связь между ценой и размером общей площади квартиры, размером жилой площади, размером кухни и количеством комнат, цена квартиры увеличивается с увеличением каждого из этих показателей. Самая высокая корреляция с ценой у показателя общей и жилой площади и цены. Самые дорогие квартиры на последних этажах, затем Квартиры которые находятся не на первом этаже и самые дешевые это квартиры на первом этаже. \n",
    "\n",
    "Видимой разницы между днями публикации нет, но цены немного выше на квартиры объявления на которые опубликованы в пятницу и самые дешевые в субботу. В апреле наблюдаются самые высокие цены на квартиры и самые низкие цены на квартиры в июне. Цены в 2014 году на квартиры были самыми высокими, и самыми дешевыми квартиры стали в 2017. То есть с 2014 наблюдается уменьшение стоимости. Можно обобщить, что выгоднее всего выставлять объявления на продажу квартиры в апреле по пятницам. "
   ]
  },
  {
   "cell_type": "markdown",
   "metadata": {},
   "source": [
    "<div class=\"alert alert-block alert-danger\">\n",
    "    \n",
    "**Комментарий ревьювера (недочет, который нужно доработать)**\n",
    "    \n",
    "Проверь вывод после исправления недочётов.\n",
    "\n",
    "</div>"
   ]
  },
  {
   "cell_type": "markdown",
   "metadata": {},
   "source": [
    "<div class=\"alert alert-block alert-info\">\n",
    "<b>КОММЕНТАРИЙ ОТ УЧЕНИКА: Обновила выводы после доработки</b>\n",
    "</div>"
   ]
  },
  {
   "cell_type": "markdown",
   "metadata": {},
   "source": [
    "<div class=\"alert alert-block alert-danger\">\n",
    "    \n",
    "**Комментарий ревьювера v2 (недочет, который нужно доработать)**\n",
    "    \n",
    "Недочёт актуален.\n",
    "</div>"
   ]
  },
  {
   "cell_type": "markdown",
   "metadata": {},
   "source": [
    "<div class=\"alert alert-block alert-info\">\n",
    "<b>КОММЕНТАРИЙ ОТ УЧЕНИКА v2: Обновила выводы после доработки по площади kitchen_area, total_area</b>\n",
    "</div>"
   ]
  },
  {
   "cell_type": "markdown",
   "metadata": {},
   "source": [
    "<div class=\"alert alert-block alert-success\">\n",
    "\n",
    "**Комментарий ревьювера v3 (все отлично)**\n",
    "    \n",
    "Основные факторы, вляющие на стоимость определены👍\n",
    "</div>"
   ]
  },
  {
   "cell_type": "markdown",
   "metadata": {},
   "source": [
    "**4.4 Средняя Цена.**"
   ]
  },
  {
   "cell_type": "code",
   "execution_count": 98,
   "metadata": {},
   "outputs": [
    {
     "name": "stdout",
     "output_type": "stream",
     "text": [
      "Топ-10 районов с самыми высокими средними ценами на жилье:\n"
     ]
    },
    {
     "data": {
      "text/html": [
       "<div>\n",
       "<style scoped>\n",
       "    .dataframe tbody tr th:only-of-type {\n",
       "        vertical-align: middle;\n",
       "    }\n",
       "\n",
       "    .dataframe tbody tr th {\n",
       "        vertical-align: top;\n",
       "    }\n",
       "\n",
       "    .dataframe thead th {\n",
       "        text-align: right;\n",
       "    }\n",
       "</style>\n",
       "<table border=\"1\" class=\"dataframe\">\n",
       "  <thead>\n",
       "    <tr style=\"text-align: right;\">\n",
       "      <th></th>\n",
       "      <th>Кол-во Объявлений</th>\n",
       "      <th>Средняя цена</th>\n",
       "    </tr>\n",
       "    <tr>\n",
       "      <th>locality_name</th>\n",
       "      <th></th>\n",
       "      <th></th>\n",
       "    </tr>\n",
       "  </thead>\n",
       "  <tbody>\n",
       "    <tr>\n",
       "      <th>санкт-петербург</th>\n",
       "      <td>15651</td>\n",
       "      <td>114,868.43</td>\n",
       "    </tr>\n",
       "    <tr>\n",
       "      <th>мурино</th>\n",
       "      <td>586</td>\n",
       "      <td>86,040.66</td>\n",
       "    </tr>\n",
       "    <tr>\n",
       "      <th>кудрово</th>\n",
       "      <td>470</td>\n",
       "      <td>95,260.39</td>\n",
       "    </tr>\n",
       "    <tr>\n",
       "      <th>шушары</th>\n",
       "      <td>439</td>\n",
       "      <td>78,550.88</td>\n",
       "    </tr>\n",
       "    <tr>\n",
       "      <th>всеволожск</th>\n",
       "      <td>398</td>\n",
       "      <td>68,654.01</td>\n",
       "    </tr>\n",
       "    <tr>\n",
       "      <th>пушкин</th>\n",
       "      <td>369</td>\n",
       "      <td>103,125.37</td>\n",
       "    </tr>\n",
       "    <tr>\n",
       "      <th>колпино</th>\n",
       "      <td>338</td>\n",
       "      <td>75,424.15</td>\n",
       "    </tr>\n",
       "    <tr>\n",
       "      <th>парголово</th>\n",
       "      <td>327</td>\n",
       "      <td>90,175.49</td>\n",
       "    </tr>\n",
       "    <tr>\n",
       "      <th>гатчина</th>\n",
       "      <td>307</td>\n",
       "      <td>68,745.69</td>\n",
       "    </tr>\n",
       "    <tr>\n",
       "      <th>выборг</th>\n",
       "      <td>237</td>\n",
       "      <td>58,141.49</td>\n",
       "    </tr>\n",
       "  </tbody>\n",
       "</table>\n",
       "</div>"
      ],
      "text/plain": [
       "                 Кол-во Объявлений  Средняя цена\n",
       "locality_name                                   \n",
       "санкт-петербург              15651    114,868.43\n",
       "мурино                         586     86,040.66\n",
       "кудрово                        470     95,260.39\n",
       "шушары                         439     78,550.88\n",
       "всеволожск                     398     68,654.01\n",
       "пушкин                         369    103,125.37\n",
       "колпино                        338     75,424.15\n",
       "парголово                      327     90,175.49\n",
       "гатчина                        307     68,745.69\n",
       "выборг                         237     58,141.49"
      ]
     },
     "execution_count": 98,
     "metadata": {},
     "output_type": "execute_result"
    }
   ],
   "source": [
    "neighborhood_prices = data.pivot_table(index = 'locality_name', \n",
    "                                       values = 'price_per_square_meter', \n",
    "                                       aggfunc=['count', 'mean']\n",
    "                                      ).round(2)\n",
    "neighborhood_prices.columns = ['Кол-во Объявлений', 'Средняя цена']\n",
    "neighborhood_prices = neighborhood_prices.sort_values('Кол-во Объявлений', ascending = False).head(10)\n",
    "print(\"Топ-10 районов с самыми высокими средними ценами на жилье:\")\n",
    "neighborhood_prices"
   ]
  },
  {
   "cell_type": "code",
   "execution_count": 99,
   "metadata": {},
   "outputs": [
    {
     "data": {
      "text/html": [
       "<div>\n",
       "<style scoped>\n",
       "    .dataframe tbody tr th:only-of-type {\n",
       "        vertical-align: middle;\n",
       "    }\n",
       "\n",
       "    .dataframe tbody tr th {\n",
       "        vertical-align: top;\n",
       "    }\n",
       "\n",
       "    .dataframe thead th {\n",
       "        text-align: right;\n",
       "    }\n",
       "</style>\n",
       "<table border=\"1\" class=\"dataframe\">\n",
       "  <thead>\n",
       "    <tr style=\"text-align: right;\">\n",
       "      <th></th>\n",
       "      <th>Кол-во Объявлений</th>\n",
       "      <th>Средняя цена</th>\n",
       "    </tr>\n",
       "    <tr>\n",
       "      <th>locality_name</th>\n",
       "      <th></th>\n",
       "      <th></th>\n",
       "    </tr>\n",
       "  </thead>\n",
       "  <tbody>\n",
       "    <tr>\n",
       "      <th>санкт-петербург</th>\n",
       "      <td>15651</td>\n",
       "      <td>114,868.43</td>\n",
       "    </tr>\n",
       "  </tbody>\n",
       "</table>\n",
       "</div>"
      ],
      "text/plain": [
       "                 Кол-во Объявлений  Средняя цена\n",
       "locality_name                                   \n",
       "санкт-петербург              15651    114,868.43"
      ]
     },
     "execution_count": 99,
     "metadata": {},
     "output_type": "execute_result"
    }
   ],
   "source": [
    "#самая высокая стоимость\n",
    "neighborhood_prices[neighborhood_prices['Средняя цена']==neighborhood_prices['Средняя цена'].max()].round(2)"
   ]
  },
  {
   "cell_type": "markdown",
   "metadata": {},
   "source": [
    "<div class=\"alert alert-block alert-danger\">\n",
    "    \n",
    "**Комментарий ревьювера (недочет, который нужно доработать)**\n",
    "    \n",
    "Исправь ошибку в коде, чтобы я продолжил ревью.\n",
    "\n",
    "</div>"
   ]
  },
  {
   "cell_type": "markdown",
   "metadata": {},
   "source": [
    "<div class=\"alert alert-block alert-info\">\n",
    "<b>КОММЕНТАРИЙ ОТ УЧЕНИКА: Исправила </b>\n",
    "</div>"
   ]
  },
  {
   "cell_type": "code",
   "execution_count": 100,
   "metadata": {},
   "outputs": [
    {
     "data": {
      "text/html": [
       "<div>\n",
       "<style scoped>\n",
       "    .dataframe tbody tr th:only-of-type {\n",
       "        vertical-align: middle;\n",
       "    }\n",
       "\n",
       "    .dataframe tbody tr th {\n",
       "        vertical-align: top;\n",
       "    }\n",
       "\n",
       "    .dataframe thead th {\n",
       "        text-align: right;\n",
       "    }\n",
       "</style>\n",
       "<table border=\"1\" class=\"dataframe\">\n",
       "  <thead>\n",
       "    <tr style=\"text-align: right;\">\n",
       "      <th></th>\n",
       "      <th>Кол-во Объявлений</th>\n",
       "      <th>Средняя цена</th>\n",
       "    </tr>\n",
       "    <tr>\n",
       "      <th>locality_name</th>\n",
       "      <th></th>\n",
       "      <th></th>\n",
       "    </tr>\n",
       "  </thead>\n",
       "  <tbody>\n",
       "    <tr>\n",
       "      <th>выборг</th>\n",
       "      <td>237</td>\n",
       "      <td>58,141.49</td>\n",
       "    </tr>\n",
       "  </tbody>\n",
       "</table>\n",
       "</div>"
      ],
      "text/plain": [
       "               Кол-во Объявлений  Средняя цена\n",
       "locality_name                                 \n",
       "выборг                       237     58,141.49"
      ]
     },
     "execution_count": 100,
     "metadata": {},
     "output_type": "execute_result"
    }
   ],
   "source": [
    "#самая низкая стоимость\n",
    "neighborhood_prices[neighborhood_prices['Средняя цена']==neighborhood_prices['Средняя цена'].min()].round(2)"
   ]
  },
  {
   "cell_type": "markdown",
   "metadata": {},
   "source": [
    "Наибольшая средняя стоимость квадратного метра в Санкт-Петербурге с наибольшим количеством объявлений. Затем идёт Мурово и Кудрово находящиеся около Санкт-Петербурга вероятно из-за близости от города и большой застройки. Из топ-10 наименьшая стоимость в Гатчине и Выборге, из которых далеко ехать до Санкт-Петербурга, там также меньше всего объявлений о продаже. Самая высокая стоимость за квадратный метр в Санкт-Петербурге и самая дешевая в Выборге. "
   ]
  },
  {
   "cell_type": "markdown",
   "metadata": {},
   "source": [
    "<div class=\"alert alert-block alert-success\">\n",
    "\n",
    "**Комментарий ревьювера v2 (все отлично)**\n",
    "    \n",
    "Согласен с комментарием👍\n",
    "</div>"
   ]
  },
  {
   "cell_type": "markdown",
   "metadata": {},
   "source": [
    "**4.4 Влияние стоимости на расстояние от центра города.**"
   ]
  },
  {
   "cell_type": "code",
   "execution_count": 101,
   "metadata": {},
   "outputs": [
    {
     "data": {
      "text/plain": [
       "count   15,651.00\n",
       "mean        11.54\n",
       "std          4.90\n",
       "min          0.00\n",
       "25%          8.00\n",
       "50%         12.00\n",
       "75%         15.00\n",
       "max         29.00\n",
       "Name: city_nearest, dtype: float64"
      ]
     },
     "execution_count": 101,
     "metadata": {},
     "output_type": "execute_result"
    }
   ],
   "source": [
    "data.query('locality_name == \"санкт-петербург\"')['city_nearest'].describe()"
   ]
  },
  {
   "cell_type": "code",
   "execution_count": 102,
   "metadata": {},
   "outputs": [
    {
     "name": "stdout",
     "output_type": "stream",
     "text": [
      "Таблица средней стоимость квартир в зависимости от удаления центра города Санкт-Петербург\n"
     ]
    },
    {
     "data": {
      "text/html": [
       "<div>\n",
       "<style scoped>\n",
       "    .dataframe tbody tr th:only-of-type {\n",
       "        vertical-align: middle;\n",
       "    }\n",
       "\n",
       "    .dataframe tbody tr th {\n",
       "        vertical-align: top;\n",
       "    }\n",
       "\n",
       "    .dataframe thead th {\n",
       "        text-align: right;\n",
       "    }\n",
       "</style>\n",
       "<table border=\"1\" class=\"dataframe\">\n",
       "  <thead>\n",
       "    <tr style=\"text-align: right;\">\n",
       "      <th></th>\n",
       "      <th>price_per_square_meter</th>\n",
       "    </tr>\n",
       "    <tr>\n",
       "      <th>city_nearest</th>\n",
       "      <th></th>\n",
       "    </tr>\n",
       "  </thead>\n",
       "  <tbody>\n",
       "    <tr>\n",
       "      <th>1.00</th>\n",
       "      <td>177,004.96</td>\n",
       "    </tr>\n",
       "    <tr>\n",
       "      <th>2.00</th>\n",
       "      <td>157,848.56</td>\n",
       "    </tr>\n",
       "    <tr>\n",
       "      <th>3.00</th>\n",
       "      <td>121,507.37</td>\n",
       "    </tr>\n",
       "    <tr>\n",
       "      <th>4.00</th>\n",
       "      <td>133,282.42</td>\n",
       "    </tr>\n",
       "    <tr>\n",
       "      <th>5.00</th>\n",
       "      <td>140,453.51</td>\n",
       "    </tr>\n",
       "    <tr>\n",
       "      <th>6.00</th>\n",
       "      <td>151,011.75</td>\n",
       "    </tr>\n",
       "    <tr>\n",
       "      <th>7.00</th>\n",
       "      <td>156,176.45</td>\n",
       "    </tr>\n",
       "    <tr>\n",
       "      <th>8.00</th>\n",
       "      <td>125,649.32</td>\n",
       "    </tr>\n",
       "    <tr>\n",
       "      <th>9.00</th>\n",
       "      <td>113,158.93</td>\n",
       "    </tr>\n",
       "    <tr>\n",
       "      <th>10.00</th>\n",
       "      <td>112,607.03</td>\n",
       "    </tr>\n",
       "    <tr>\n",
       "      <th>11.00</th>\n",
       "      <td>108,381.32</td>\n",
       "    </tr>\n",
       "    <tr>\n",
       "      <th>12.00</th>\n",
       "      <td>107,475.81</td>\n",
       "    </tr>\n",
       "    <tr>\n",
       "      <th>13.00</th>\n",
       "      <td>108,098.66</td>\n",
       "    </tr>\n",
       "    <tr>\n",
       "      <th>14.00</th>\n",
       "      <td>104,200.78</td>\n",
       "    </tr>\n",
       "    <tr>\n",
       "      <th>15.00</th>\n",
       "      <td>104,230.10</td>\n",
       "    </tr>\n",
       "    <tr>\n",
       "      <th>16.00</th>\n",
       "      <td>100,542.17</td>\n",
       "    </tr>\n",
       "    <tr>\n",
       "      <th>17.00</th>\n",
       "      <td>96,969.79</td>\n",
       "    </tr>\n",
       "    <tr>\n",
       "      <th>18.00</th>\n",
       "      <td>96,361.84</td>\n",
       "    </tr>\n",
       "    <tr>\n",
       "      <th>19.00</th>\n",
       "      <td>98,657.96</td>\n",
       "    </tr>\n",
       "    <tr>\n",
       "      <th>20.00</th>\n",
       "      <td>103,044.78</td>\n",
       "    </tr>\n",
       "    <tr>\n",
       "      <th>21.00</th>\n",
       "      <td>94,469.14</td>\n",
       "    </tr>\n",
       "    <tr>\n",
       "      <th>22.00</th>\n",
       "      <td>91,329.97</td>\n",
       "    </tr>\n",
       "    <tr>\n",
       "      <th>23.00</th>\n",
       "      <td>91,828.07</td>\n",
       "    </tr>\n",
       "    <tr>\n",
       "      <th>24.00</th>\n",
       "      <td>85,736.46</td>\n",
       "    </tr>\n",
       "    <tr>\n",
       "      <th>25.00</th>\n",
       "      <td>91,531.04</td>\n",
       "    </tr>\n",
       "    <tr>\n",
       "      <th>26.00</th>\n",
       "      <td>87,798.44</td>\n",
       "    </tr>\n",
       "    <tr>\n",
       "      <th>27.00</th>\n",
       "      <td>132,115.00</td>\n",
       "    </tr>\n",
       "    <tr>\n",
       "      <th>28.00</th>\n",
       "      <td>81,161.57</td>\n",
       "    </tr>\n",
       "    <tr>\n",
       "      <th>29.00</th>\n",
       "      <td>72,952.67</td>\n",
       "    </tr>\n",
       "  </tbody>\n",
       "</table>\n",
       "</div>"
      ],
      "text/plain": [
       "              price_per_square_meter\n",
       "city_nearest                        \n",
       "1.00                      177,004.96\n",
       "2.00                      157,848.56\n",
       "3.00                      121,507.37\n",
       "4.00                      133,282.42\n",
       "5.00                      140,453.51\n",
       "6.00                      151,011.75\n",
       "7.00                      156,176.45\n",
       "8.00                      125,649.32\n",
       "9.00                      113,158.93\n",
       "10.00                     112,607.03\n",
       "11.00                     108,381.32\n",
       "12.00                     107,475.81\n",
       "13.00                     108,098.66\n",
       "14.00                     104,200.78\n",
       "15.00                     104,230.10\n",
       "16.00                     100,542.17\n",
       "17.00                      96,969.79\n",
       "18.00                      96,361.84\n",
       "19.00                      98,657.96\n",
       "20.00                     103,044.78\n",
       "21.00                      94,469.14\n",
       "22.00                      91,329.97\n",
       "23.00                      91,828.07\n",
       "24.00                      85,736.46\n",
       "25.00                      91,531.04\n",
       "26.00                      87,798.44\n",
       "27.00                     132,115.00\n",
       "28.00                      81,161.57\n",
       "29.00                      72,952.67"
      ]
     },
     "execution_count": 102,
     "metadata": {},
     "output_type": "execute_result"
    }
   ],
   "source": [
    "print('Таблица средней стоимость квартир в зависимости от удаления центра города Санкт-Петербург')\n",
    "data.query('locality_name == \"санкт-петербург\" and city_nearest !=0').pivot_table(index = 'city_nearest', values = 'price_per_square_meter', aggfunc = 'mean').round(2)"
   ]
  },
  {
   "cell_type": "code",
   "execution_count": 103,
   "metadata": {},
   "outputs": [
    {
     "data": {
      "image/png": "[encoded data removed]",
      "text/plain": [
       "<Figure size 1080x360 with 1 Axes>"
      ]
     },
     "metadata": {
      "needs_background": "light"
     },
     "output_type": "display_data"
    }
   ],
   "source": [
    "data.query('locality_name == \"санкт-петербург\" and city_nearest !=0').pivot_table(index = 'city_nearest', values = 'price_per_square_meter').plot(\n",
    "grid=True, style='o-', figsize=(15, 5))\n",
    "plt.title('Зависимость цены от удаления от центра города в Санкт-Петербурге')\n",
    "plt.xlabel('Расстояние от центра города')\n",
    "plt.ylabel('Цена (млн. руб.)')\n",
    "plt.show()"
   ]
  },
  {
   "cell_type": "markdown",
   "metadata": {},
   "source": [
    "Из анализа данных видно, что самая высокая цена за квартиры в пределах 1 км от центра города и самая низная цена 29 км от центра города. Стоимость квартиры уменьшается после 7 км от центра города несущественно и остается высокой и средне высокой при расстоянии от 1-7 км от центра города. Также наблюдается небольной всплеск цены на 27 км возможно это цены на квартиры в районе финского залива."
   ]
  },
  {
   "cell_type": "markdown",
   "metadata": {},
   "source": [
    "<div class=\"alert alert-block alert-success\">\n",
    "\n",
    "**Комментарий ревьювера v2 (все отлично)**\n",
    "    \n",
    "Согласен с комментарием, пики объяснены👍\n",
    "</div>"
   ]
  },
  {
   "cell_type": "markdown",
   "metadata": {
    "id": "h7VpzkIDAwb-"
   },
   "source": [
    "### Напишите общий вывод"
   ]
  },
  {
   "cell_type": "markdown",
   "metadata": {
    "id": "3H4lnp_KAwb-"
   },
   "source": [
    "  В процессе исследования было выполнено:\n",
    "\n",
    "#  1. Изучили общую информацию о данных и сделали выводы:\n",
    "- набор данных достаточен для интеллектуального анализа\n",
    "- есть пропуски, аномалии и выбросы\n",
    "- присутствуют явные дубликаты, неправильные типы\n",
    "\n",
    "# 2. Выполнили предобработку данных и сделали следующие выводы:\n",
    "Есть много причин появления пропусков, например технические - ошибки системы, при передаче, выгрузке данных или допущены  пользователем - неправильный ввод или нежелание (сокрытие) информации.\n",
    "Рассмотрели пропуски подробнее по столбцам:\n",
    "- \"kitchen_area\" возможно указывают на то что в квартире нет отдельной кухни, возможно это студия\n",
    "- \"balcony\" в квартине нет балкона\n",
    "- \"airport_neareast\" нет информации на каком расстоянии находится аэропорт или аэропорта в округе нет\n",
    "- \"cityCenters_neareast\" говорит о том, что нет данных насколько квартира удалена от центра города \n",
    "- \"parks_around3000\" в районе 3-х км нет парка\n",
    "- \"park_nearest\" нет информации на каком расстоянии находится ближайший парк\n",
    "- \"ponds_around3000\" в районе 3-х км нет водоема\n",
    "- \"ponds_nearest\" около недвижимости нет водоема\n",
    "- \"days_exposition\" возможно, недвижимость еще не продана\n",
    "- Возможно, что просто не все хозяева предоставили информацию о\"ceiling_heights\" \"locality_name\" \"is_apartment\" \"living_area\"\n",
    "Изменим пропущенные значения NaN: :\n",
    "- на среднее в столбце ceiling_height\n",
    "- kitchen_area разницой total_area-living_area. \n",
    "- Чтобы заполнить пропуски в living_area сначала рассчитали сначала коэффициент среднее отношение жилой площади к общей площади и пропущенные значения жилой площади заполнили общей площадью, умноженной на этот коэффициент\n",
    "Изменили тип данных и заполнили пропущенные значения NaN на ноль в столбцах:\n",
    "- parks_around3000, ponds_nearest, parks_nearest, ponds_around3000, cityCenters_nearest, airports_nearest, balcony, days_exposition, floors_total\n",
    "Заменили тип данных на \"bool\" и пропущенные занчения на False в столбце:\n",
    "- is_apartment\n",
    "Перевели столбец с датой в формат даты без времени, т.к. время не указано:\n",
    "- first_day_exposition\n",
    "Уcтранили неявные дубликаты, заменили названия в существующем столбце:\n",
    "- locality_name\n",
    "Удалим пропущенные значения в столбце floors_total\n",
    "\n",
    "# 3. Для последующего анализа добавили новые столбцы:\n",
    "- цена одного квадратного метра price_per_square_meter\n",
    "- день недели публикации объявления weekday\n",
    "- месяц публикации объявления month\n",
    "- год публикации объявления year\n",
    "- тип этажа квартиры floor_type\n",
    "- столбец cityCenters_nearest переименовываем в city_nearest переводим из м в км и округляем до ближайших целых значений\n",
    "\n",
    "# 4. Провели исследовательский анализ данных.\n",
    "\n",
    "**4.1 Изучили зависимость параметров объектов и количества объявлений о продаже и выявили следующие закономерности:**\n",
    "\n",
    "1. На продажу чаще всего выставляются квартиры с площадью от 30 до 60 кв метров, максимальное значение приходится на квартиры общей прощадью около 52 квадратных метров.\n",
    "2. Самые популярные квартиры с жилой площадью около 26 кв. м, а также 24 и 18 кв м. Больше всего квартир продается в диапазоне 18-36 кв м, после 36 кв м на увеличение жилой площади, количество квартир начинается снижаться. Среднее значение жилой площади квартиры на продажу 34.45 кв м.\n",
    "3. Больше всего продается квартир с прощадью кухни в 6 м кв, также популярны 8 и 10 м кв, при этом среднее значение для всех объявлений 12 кв м. С площадью кухни более 12 кв м, частота объявлений начинается снижаться. \n",
    "4. Чаще всего продают квартиры стоимостью около 4 млн рублей, и наиболее частый диапазон колеблется от 3,5 до 5,5 млн рублей.\n",
    "5. Самые популярные квартиры с одной и двумя комнатами, потом по популярности идет 3 комнаты.\n",
    "6. Чаще всего продают квартиры с высотой потолков 2.77 метров, затем 2.6, 2.8 и 3.1 метров. Среднее значение 2.771497. \n",
    "7. Не на первом и не на последнем этажах больше всего предложений. Затем на последнем и реже всего на первом этаже. \n",
    "8. Больше всего предложений о продаже квартир в продаже в домах с 5-ю этажами, затем в домах где 9 этажей и 16. В домах с другой этажностью намного меньше объявлений. При этом выбросы исключаем из графика\n",
    "9. Большинство продавцов считают этот показатель важным при продаже квартиры и указывают его в объявлении, отфильтруем нулевые значения чтобы не указывать его в графике. Больше всего квартир продается, которые находятся на расстоянии 10-17 км от центра города, есть также всплеск на 5 км от центра города. Среднее удаленность по всем продаваемым квартирам в 13 км удаленность от центра.\n",
    "10. В около половине всего объявлений о продаже квартир отсудствует этот показатель и это говорит о том, что много квартир находится далеко от парка или же продавцы не придают значение этому показателю. Отфильруем нулевые значения чтобы они не искажали результаты. Примерно 75% из объявлений в которых есть это значение находятся в менее 612 метров от парков, и в среднем удаленность от парков 450 метров. Меньше всего квартир продается от 1000 метров с удаленность парков.\n",
    "\n",
    "Из всего изученного можно сказать, что самый часто встречающийся вариант обьявления это однокомнатная квартира чуть больше 30 кв метров общей площади, с жилой площадью 26 кв метров, с кухней 6 кв метров и стоимостью 4 млн рублей, которая расположена не на первом и не на последнем этаже 5-ти этажного дома, находящимся в 13 км от центра города и в 450 метров от парка. \n",
    "\n",
    "**4.2 Провели исследование как быстро продаются квартиры:**\n",
    "\n",
    "В среднем продажа квартиры занимает 180 дней, и медианное значение 95 дня, которые более точно говорит о средних темпах продажи, так как не зависит от аномальных показателей в данных. Быстрыми продажами считаются до 44 дней(1-й квартиль), долгими продажам от 232 дней (3-й квартиль) и выше которые возможно не будут проданы. В большинстве случаев квартиры продаются за 2-3 месяца. В данных содержаться всплески о продажах на день 0, 45, 60 и 90, скорее всего это говорит о том что возможно объявления снимаются автоматически в конце определенного срока когда квартира считается проданной. \n",
    "\n",
    "**4.3 Определили факторы влияющие на стоимость объекта:**\n",
    "\n",
    "Существует умеренная положительная связь между ценой и размером общей площади квартиры, размером жилой площади, размером кухни и количеством комнат, цена квартиры увеличивается с увеличением каждого из этих показателей в отдельности. Самая высокая корреляция с ценой у показателя общей жилой площади и цены. Самые дорогие квартиры на последних этажах, затем Квартиры которые находятся не на первом этаже и самые дешевые это квартиры на первом этаже. \n",
    "\n",
    "Видимой разницы между днями публикации нет, но цены немного выше на квартиры объявления на которые опубликованы в пятницу и самые дешевые в субботу. В апреле наблюдаются самые высокие цены на квартиры и самые низкие цены на квартиры в июне. Цены в 2014 году на квартиры были самыми высокими, и самыми дешевыми квартиры стали в 2017. То есть с 2014 наблюдается уменьшение стоимости. Можно обобщить, что выгоднее всего выставлять объявления на продажу квартиры в апреле по пятницам. \n",
    "\n",
    "\n",
    "**4.4. Посчитали среднюю цену одного квадратного метра в 10 населенных пунктах с наибольшим числом объявлений и сделали вывод:**\n",
    "\n",
    "Наибольшая средняя стоимость квадратного метра в Санкт-Петербурге с наибольшим количеством объявлений. Затем идёт Мурово и Кудрово находящиеся около Санкт-Петербурга вероятно из-за близости от города и большой застройки. Из топ-10 наименьшая стоимость в Гатчине и Выборге, из которых далеко ехать до Санкт-Петербурга, там также меньше всего объявлений о продаже. Самая высокая стоимость за квадратный метр в Санкт-Петербурге и самая дешевая в Выборге.  \n",
    "\n",
    "**4.5 Сделали анализ зависимости цены квартиры и удалении ее от центра:**\n",
    "\n",
    "Из анализа данных видно, что самая высокая цена за квартиры в пределах 1 км от центра города и самая низная цена 29 км от центра города. Стоимость квартиры уменьшается после 7 км от центра города несущественно и остается высокой и средне высокой при расстоянии от 1-7 км от центра города. Также наблюдается небольной всплеск цены на 27 км возможно это цены на квартиры в районе финского залива. \n"
   ]
  },
  {
   "cell_type": "markdown",
   "metadata": {},
   "source": [
    "<div class=\"alert alert-block alert-success\">\n",
    "\n",
    "**Комментарий ревьювера v2 (все отлично)**\n",
    "    \n",
    "Все основные результаты исследования отражены👍\n",
    "    \n",
    "*Проверь выводы после исправлений недочётов*\n",
    "</div>"
   ]
  },
  {
   "cell_type": "markdown",
   "metadata": {},
   "source": [
    "<div class=\"alert alert-block alert-warning\">\n",
    "\n",
    "**Комментарий ревьювера v2 (общий вывод)**\n",
    "    \n",
    "Екатерина, отличная работа! Проект имеет понятную логику действий. Спасибо за четкие комментарии по результатам исследования и аккуратный код, это упростило проверку. Есть навыки в визуализации графиков, но можно лучше👍\n",
    "    \n",
    "Для принятия твоей работы нужно поработать над критическими замечаниями. Еще есть несколько рекомендаций, которые помогут тебе с будущими проектами. Думаю, что тебе их будет несложно исправить. Жду твою работу!\n",
    "</div>"
   ]
  },
  {
   "cell_type": "markdown",
   "metadata": {},
   "source": [
    "<div class=\"alert alert-block alert-info\">\n",
    "<b>КОММЕНТАРИЙ ОТ УЧЕНИКА v2: Василий, спасибо что проверил мою работу! Мне очень понравились комментарии и дополнительный материал, я поизучала и постараюсь использовать в будущем. Надеюсь все получилось</b>\n",
    "</div>"
   ]
  },
  {
   "cell_type": "markdown",
   "metadata": {},
   "source": [
    "<div class=\"alert alert-block alert-success\">\n",
    "\n",
    "**Комментарий ревьювера v3 (все отлично)**\n",
    "    \n",
    "Рад помочь! Проект выполнен, поздравляю!\n",
    "</div>"
   ]
  },
  {
   "cell_type": "markdown",
   "metadata": {
    "id": "A90mc0BgAwb-"
   },
   "source": [
    "**Чек-лист готовности проекта**\n",
    "\n",
    "Поставьте 'x' в выполненных пунктах. Далее нажмите Shift+Enter."
   ]
  },
  {
   "cell_type": "markdown",
   "metadata": {
    "id": "ME3sTWm6Awb-"
   },
   "source": [
    "- [x]  Файл с данными открыт.\n",
    "- [x]  Файл с данными изучен: выведены первые строки, использован метод `info()`, построены гистограммы.\n",
    "- [x]  Найдены пропущенные значения.\n",
    "- [x]  Пропущенные значения заполнены там, где это возможно.\n",
    "- [x]  Объяснено, какие пропущенные значения обнаружены.\n",
    "- [x]  В каждом столбце установлен корректный тип данных.\n",
    "- [x]  Объяснено, в каких столбцах изменён тип данных и почему.\n",
    "- [x]  Устранены неявные дубликаты в названиях населённых пунктов.\n",
    "- [x]  Обработаны редкие и выбивающиеся значения (аномалии).\n",
    "- [x]  В таблицу добавлены новые параметры:\n",
    "       – цена одного квадратного метра;\n",
    "       – день публикации объявления (0 - понедельник, 1 - вторник и т. д.);\n",
    "       – месяц публикации объявления;\n",
    "       – год публикации объявления;\n",
    "       – тип этажа квартиры (значения — «первый», «последний», «другой»);\n",
    "       – расстояние до центра города в километрах.\n",
    "- [x]  Изучены и описаны параметры:\n",
    "        - общая площадь;\n",
    "        - жилая площадь;\n",
    "        - площадь кухни;\n",
    "        - цена объекта;\n",
    "        - количество комнат;\n",
    "        - высота потолков;\n",
    "        - тип этажа квартиры («первый», «последний», «другой»);\n",
    "        - общее количество этажей в доме;\n",
    "        - расстояние до центра города в метрах;\n",
    "        - расстояние до ближайшего парка.\n",
    "- [x]  Выполнено задание «Изучите, как быстро продавались квартиры (столбец `days_exposition`)»:\n",
    "    - построена гистограмма;\n",
    "    - рассчитаны среднее и медиана;\n",
    "    - описано, сколько обычно занимает продажа и указано, какие продажи можно считать быстрыми, а какие — необычно долгими.\n",
    "- [x]  Выполнено задание «Определите факторы, которые больше всего влияют на общую (полную) стоимость объекта». Построены графики, которые показывают зависимость цены от параметров:\n",
    "        - общая площадь;\n",
    "        - жилая площадь;\n",
    "        - площадь кухни;\n",
    "        - количество комнат;\n",
    "        - тип этажа, на котором расположена квартира (первый, последний, другой);\n",
    "        - дата размещения (день недели, месяц, год).\n",
    "- [x]  Выполнено задание «Посчитайте среднюю цену одного квадратного метра в 10 населённых пунктах с наибольшим числом объявлений»:\n",
    "    - выделены населённые пункты с самой высокой и низкой стоимостью квадратного метра.\n",
    "- [x]  Выполнено задание «Выделите квартиры в Санкт-Петербурге с помощью столбца `locality_name` и вычислите их среднюю стоимость на разном удалении от центра»:\n",
    "    -  учтён каждый километр расстояния, известны средние цены квартир в одном километре от центра, в двух и так далее;\n",
    "    -  описано, как стоимость объекта зависит от расстояния до центра города;\n",
    "    -  построен график изменения средней цены для каждого километра от центра Петербурга.\n",
    "- [x]  На каждом этапе сделаны промежуточные выводы.\n",
    "- [x]  В конце проекта сделан общий вывод."
   ]
  },
  {
   "cell_type": "code",
   "execution_count": null,
   "metadata": {},
   "outputs": [],
   "source": []
  }
 ],
 "metadata": {
  "ExecuteTimeLog": [
   {
    "duration": 487,
    "start_time": "2024-05-07T16:47:09.732Z"
   },
   {
    "duration": 45,
    "start_time": "2024-05-07T16:47:18.731Z"
   },
   {
    "duration": 511,
    "start_time": "2024-05-09T09:39:01.185Z"
   },
   {
    "duration": 228,
    "start_time": "2024-05-09T09:39:56.714Z"
   },
   {
    "duration": 97,
    "start_time": "2024-05-09T09:39:59.969Z"
   },
   {
    "duration": 104,
    "start_time": "2024-05-09T09:40:20.469Z"
   },
   {
    "duration": 30,
    "start_time": "2024-05-09T09:40:39.920Z"
   },
   {
    "duration": 369,
    "start_time": "2024-05-09T09:41:01.148Z"
   },
   {
    "duration": 131,
    "start_time": "2024-05-09T09:41:33.994Z"
   },
   {
    "duration": 35,
    "start_time": "2024-05-09T09:41:36.742Z"
   },
   {
    "duration": 2442,
    "start_time": "2024-05-09T09:41:41.742Z"
   },
   {
    "duration": 33,
    "start_time": "2024-05-09T09:42:02.954Z"
   },
   {
    "duration": 15,
    "start_time": "2024-05-09T09:42:55.823Z"
   },
   {
    "duration": 26,
    "start_time": "2024-05-09T09:43:28.767Z"
   },
   {
    "duration": 73,
    "start_time": "2024-05-09T09:44:16.064Z"
   },
   {
    "duration": 114,
    "start_time": "2024-05-09T10:06:06.637Z"
   },
   {
    "duration": 10,
    "start_time": "2024-05-09T10:07:16.902Z"
   },
   {
    "duration": 37,
    "start_time": "2024-05-09T10:08:19.353Z"
   },
   {
    "duration": 45,
    "start_time": "2024-05-09T10:08:25.039Z"
   },
   {
    "duration": 20,
    "start_time": "2024-05-09T10:17:53.941Z"
   },
   {
    "duration": 14,
    "start_time": "2024-05-09T10:30:59.350Z"
   },
   {
    "duration": 13,
    "start_time": "2024-05-09T10:31:08.600Z"
   },
   {
    "duration": 37,
    "start_time": "2024-05-09T10:45:57.417Z"
   },
   {
    "duration": 56,
    "start_time": "2024-05-09T10:49:48.113Z"
   },
   {
    "duration": 41,
    "start_time": "2024-05-09T10:50:59.105Z"
   },
   {
    "duration": 8,
    "start_time": "2024-05-09T10:51:06.781Z"
   },
   {
    "duration": 6,
    "start_time": "2024-05-09T10:51:13.368Z"
   },
   {
    "duration": 10,
    "start_time": "2024-05-09T10:53:33.140Z"
   },
   {
    "duration": 27,
    "start_time": "2024-05-09T10:53:41.143Z"
   },
   {
    "duration": 17,
    "start_time": "2024-05-09T10:55:38.727Z"
   },
   {
    "duration": 5,
    "start_time": "2024-05-09T10:55:57.068Z"
   },
   {
    "duration": 300,
    "start_time": "2024-05-09T10:56:18.978Z"
   },
   {
    "duration": 6,
    "start_time": "2024-05-09T11:01:49.317Z"
   },
   {
    "duration": 28,
    "start_time": "2024-05-09T11:22:29.473Z"
   },
   {
    "duration": 29,
    "start_time": "2024-05-09T11:29:44.091Z"
   },
   {
    "duration": 33,
    "start_time": "2024-05-09T11:35:00.484Z"
   },
   {
    "duration": 40,
    "start_time": "2024-05-09T11:38:59.866Z"
   },
   {
    "duration": 35,
    "start_time": "2024-05-09T11:40:27.352Z"
   },
   {
    "duration": 41,
    "start_time": "2024-05-09T11:44:23.715Z"
   },
   {
    "duration": 7,
    "start_time": "2024-05-09T11:44:27.692Z"
   },
   {
    "duration": 5,
    "start_time": "2024-05-09T11:44:28.498Z"
   },
   {
    "duration": 41,
    "start_time": "2024-05-09T11:44:29.267Z"
   },
   {
    "duration": 4,
    "start_time": "2024-05-09T11:44:38.841Z"
   },
   {
    "duration": 3,
    "start_time": "2024-05-09T11:44:40.214Z"
   },
   {
    "duration": 4,
    "start_time": "2024-05-09T11:44:45.922Z"
   },
   {
    "duration": 5,
    "start_time": "2024-05-09T11:44:52.754Z"
   },
   {
    "duration": 6,
    "start_time": "2024-05-09T11:44:55.880Z"
   },
   {
    "duration": 6,
    "start_time": "2024-05-09T11:44:56.512Z"
   },
   {
    "duration": 9,
    "start_time": "2024-05-09T11:44:57.171Z"
   },
   {
    "duration": 5,
    "start_time": "2024-05-09T11:44:57.697Z"
   },
   {
    "duration": 4,
    "start_time": "2024-05-09T11:44:59.140Z"
   },
   {
    "duration": 3,
    "start_time": "2024-05-09T11:45:00.071Z"
   },
   {
    "duration": 4,
    "start_time": "2024-05-09T11:45:00.639Z"
   },
   {
    "duration": 4,
    "start_time": "2024-05-09T11:45:01.146Z"
   },
   {
    "duration": 4,
    "start_time": "2024-05-09T11:45:01.663Z"
   },
   {
    "duration": 4,
    "start_time": "2024-05-09T11:45:02.216Z"
   },
   {
    "duration": 30,
    "start_time": "2024-05-09T11:45:05.569Z"
   },
   {
    "duration": 4,
    "start_time": "2024-05-09T11:45:44.099Z"
   },
   {
    "duration": 25,
    "start_time": "2024-05-09T11:45:45.672Z"
   },
   {
    "duration": 9,
    "start_time": "2024-05-09T11:46:01.055Z"
   },
   {
    "duration": 6,
    "start_time": "2024-05-09T11:46:06.040Z"
   },
   {
    "duration": 307,
    "start_time": "2024-05-09T11:46:07.483Z"
   },
   {
    "duration": 43,
    "start_time": "2024-05-09T11:46:10.304Z"
   },
   {
    "duration": 11,
    "start_time": "2024-05-09T11:46:57.197Z"
   },
   {
    "duration": 6,
    "start_time": "2024-05-09T11:47:00.771Z"
   },
   {
    "duration": 10,
    "start_time": "2024-05-09T11:48:07.161Z"
   },
   {
    "duration": 4,
    "start_time": "2024-05-09T11:49:16.684Z"
   },
   {
    "duration": 34,
    "start_time": "2024-05-09T11:49:19.322Z"
   },
   {
    "duration": 7,
    "start_time": "2024-05-09T11:49:23.692Z"
   },
   {
    "duration": 6,
    "start_time": "2024-05-09T11:49:24.217Z"
   },
   {
    "duration": 322,
    "start_time": "2024-05-09T11:49:25.502Z"
   },
   {
    "duration": 38,
    "start_time": "2024-05-09T11:49:26.242Z"
   },
   {
    "duration": 11,
    "start_time": "2024-05-09T11:49:31.867Z"
   },
   {
    "duration": 6,
    "start_time": "2024-05-09T11:49:32.756Z"
   },
   {
    "duration": 9,
    "start_time": "2024-05-09T11:49:33.814Z"
   },
   {
    "duration": 5,
    "start_time": "2024-05-09T11:53:25.607Z"
   },
   {
    "duration": 40,
    "start_time": "2024-05-09T11:53:30.002Z"
   },
   {
    "duration": 5,
    "start_time": "2024-05-09T11:54:48.340Z"
   },
   {
    "duration": 5,
    "start_time": "2024-05-09T11:54:48.847Z"
   },
   {
    "duration": 4,
    "start_time": "2024-05-09T11:54:49.294Z"
   },
   {
    "duration": 5,
    "start_time": "2024-05-09T11:54:49.758Z"
   },
   {
    "duration": 26,
    "start_time": "2024-05-09T11:54:50.540Z"
   },
   {
    "duration": 8,
    "start_time": "2024-05-09T11:55:02.426Z"
   },
   {
    "duration": 4,
    "start_time": "2024-05-09T11:55:05.179Z"
   },
   {
    "duration": 3,
    "start_time": "2024-05-09T11:55:05.676Z"
   },
   {
    "duration": 29,
    "start_time": "2024-05-09T11:55:08.394Z"
   },
   {
    "duration": 6,
    "start_time": "2024-05-09T11:56:01.275Z"
   },
   {
    "duration": 24,
    "start_time": "2024-05-09T11:56:38.429Z"
   },
   {
    "duration": 4,
    "start_time": "2024-05-09T11:56:49.700Z"
   },
   {
    "duration": 3,
    "start_time": "2024-05-09T11:56:50.289Z"
   },
   {
    "duration": 23,
    "start_time": "2024-05-09T11:56:50.834Z"
   },
   {
    "duration": 321,
    "start_time": "2024-05-09T12:18:40.943Z"
   },
   {
    "duration": 162,
    "start_time": "2024-05-09T12:24:06.916Z"
   },
   {
    "duration": 9,
    "start_time": "2024-05-09T12:24:44.229Z"
   },
   {
    "duration": 5,
    "start_time": "2024-05-09T12:24:52.843Z"
   },
   {
    "duration": 41,
    "start_time": "2024-05-09T12:25:01.674Z"
   },
   {
    "duration": 6,
    "start_time": "2024-05-09T12:25:10.062Z"
   },
   {
    "duration": 10,
    "start_time": "2024-05-09T12:30:06.146Z"
   },
   {
    "duration": 17,
    "start_time": "2024-05-09T12:35:45.714Z"
   },
   {
    "duration": 19,
    "start_time": "2024-05-09T12:36:02.517Z"
   },
   {
    "duration": 13,
    "start_time": "2024-05-09T12:36:18.179Z"
   },
   {
    "duration": 13,
    "start_time": "2024-05-09T12:40:09.382Z"
   },
   {
    "duration": 9,
    "start_time": "2024-05-09T12:45:44.560Z"
   },
   {
    "duration": 3,
    "start_time": "2024-05-09T12:46:23.925Z"
   },
   {
    "duration": 4148,
    "start_time": "2024-05-09T12:46:37.604Z"
   },
   {
    "duration": 4239,
    "start_time": "2024-05-09T12:47:49.082Z"
   },
   {
    "duration": 158,
    "start_time": "2024-05-09T12:50:27.922Z"
   },
   {
    "duration": 11,
    "start_time": "2024-05-09T12:53:02.187Z"
   },
   {
    "duration": 152,
    "start_time": "2024-05-09T12:53:11.785Z"
   },
   {
    "duration": 118,
    "start_time": "2024-05-09T12:53:50.038Z"
   },
   {
    "duration": 133,
    "start_time": "2024-05-09T12:54:01.675Z"
   },
   {
    "duration": 130,
    "start_time": "2024-05-09T12:54:14.116Z"
   },
   {
    "duration": 149,
    "start_time": "2024-05-09T12:54:17.816Z"
   },
   {
    "duration": 253,
    "start_time": "2024-05-09T12:54:22.990Z"
   },
   {
    "duration": 120,
    "start_time": "2024-05-09T12:54:32.082Z"
   },
   {
    "duration": 654,
    "start_time": "2024-05-09T12:54:44.533Z"
   },
   {
    "duration": 144,
    "start_time": "2024-05-09T12:54:50.468Z"
   },
   {
    "duration": 584,
    "start_time": "2024-05-09T12:54:55.911Z"
   },
   {
    "duration": 632,
    "start_time": "2024-05-09T12:55:04.396Z"
   },
   {
    "duration": 160,
    "start_time": "2024-05-09T12:55:13.427Z"
   },
   {
    "duration": 7,
    "start_time": "2024-05-09T13:02:34.970Z"
   },
   {
    "duration": 5,
    "start_time": "2024-05-09T13:02:41.061Z"
   },
   {
    "duration": 5,
    "start_time": "2024-05-09T13:02:42.379Z"
   },
   {
    "duration": 356,
    "start_time": "2024-05-09T13:09:01.063Z"
   },
   {
    "duration": 5,
    "start_time": "2024-05-09T13:09:23.545Z"
   },
   {
    "duration": 4,
    "start_time": "2024-05-09T13:12:24.994Z"
   },
   {
    "duration": 9,
    "start_time": "2024-05-09T13:12:25.746Z"
   },
   {
    "duration": 6,
    "start_time": "2024-05-09T13:12:31.646Z"
   },
   {
    "duration": 8,
    "start_time": "2024-05-09T13:15:55.526Z"
   },
   {
    "duration": 4,
    "start_time": "2024-05-09T13:15:55.994Z"
   },
   {
    "duration": 6,
    "start_time": "2024-05-09T13:15:56.434Z"
   },
   {
    "duration": 5,
    "start_time": "2024-05-09T13:15:56.862Z"
   },
   {
    "duration": 5,
    "start_time": "2024-05-09T13:15:57.322Z"
   },
   {
    "duration": 355,
    "start_time": "2024-05-09T13:15:58.064Z"
   },
   {
    "duration": 5,
    "start_time": "2024-05-09T13:15:58.730Z"
   },
   {
    "duration": 4,
    "start_time": "2024-05-09T13:15:59.298Z"
   },
   {
    "duration": 4,
    "start_time": "2024-05-09T13:15:59.824Z"
   },
   {
    "duration": 22,
    "start_time": "2024-05-09T13:16:00.537Z"
   },
   {
    "duration": 16,
    "start_time": "2024-05-09T13:18:26.701Z"
   },
   {
    "duration": 11,
    "start_time": "2024-05-09T13:18:39.871Z"
   },
   {
    "duration": 14,
    "start_time": "2024-05-09T13:18:55.185Z"
   },
   {
    "duration": 9,
    "start_time": "2024-05-09T13:19:09.948Z"
   },
   {
    "duration": 459,
    "start_time": "2024-05-09T13:19:31.779Z"
   },
   {
    "duration": 14,
    "start_time": "2024-05-09T13:23:49.050Z"
   },
   {
    "duration": 151,
    "start_time": "2024-05-09T13:23:54.419Z"
   },
   {
    "duration": 14,
    "start_time": "2024-05-09T13:24:26.001Z"
   },
   {
    "duration": 145,
    "start_time": "2024-05-09T13:24:27.285Z"
   },
   {
    "duration": 157,
    "start_time": "2024-05-09T13:24:54.366Z"
   },
   {
    "duration": 171,
    "start_time": "2024-05-09T13:25:00.971Z"
   },
   {
    "duration": 152,
    "start_time": "2024-05-09T13:25:42.973Z"
   },
   {
    "duration": 188,
    "start_time": "2024-05-09T13:26:30.084Z"
   },
   {
    "duration": 8,
    "start_time": "2024-05-09T13:27:18.614Z"
   },
   {
    "duration": 12,
    "start_time": "2024-05-09T13:27:26.855Z"
   },
   {
    "duration": 198,
    "start_time": "2024-05-09T13:27:29.731Z"
   },
   {
    "duration": 13,
    "start_time": "2024-05-09T13:30:46.945Z"
   },
   {
    "duration": 168,
    "start_time": "2024-05-09T13:30:51.388Z"
   },
   {
    "duration": 15,
    "start_time": "2024-05-09T13:31:12.407Z"
   },
   {
    "duration": 377,
    "start_time": "2024-05-09T13:31:13.855Z"
   },
   {
    "duration": 17,
    "start_time": "2024-05-09T13:31:28.987Z"
   },
   {
    "duration": 150,
    "start_time": "2024-05-09T13:31:30.269Z"
   },
   {
    "duration": 15,
    "start_time": "2024-05-09T13:31:40.523Z"
   },
   {
    "duration": 184,
    "start_time": "2024-05-09T13:31:41.303Z"
   },
   {
    "duration": 12,
    "start_time": "2024-05-09T13:31:49.727Z"
   },
   {
    "duration": 175,
    "start_time": "2024-05-09T13:31:50.349Z"
   },
   {
    "duration": 14,
    "start_time": "2024-05-09T13:32:03.516Z"
   },
   {
    "duration": 348,
    "start_time": "2024-05-09T13:32:04.329Z"
   },
   {
    "duration": 13,
    "start_time": "2024-05-09T13:32:20.619Z"
   },
   {
    "duration": 200,
    "start_time": "2024-05-09T13:33:09.045Z"
   },
   {
    "duration": 9,
    "start_time": "2024-05-09T13:34:04.889Z"
   },
   {
    "duration": 13,
    "start_time": "2024-05-09T13:34:08.982Z"
   },
   {
    "duration": 176,
    "start_time": "2024-05-09T13:34:10.455Z"
   },
   {
    "duration": 10,
    "start_time": "2024-05-09T13:34:41.065Z"
   },
   {
    "duration": 701,
    "start_time": "2024-05-10T05:18:58.210Z"
   },
   {
    "duration": 216,
    "start_time": "2024-05-10T05:18:58.914Z"
   },
   {
    "duration": 26,
    "start_time": "2024-05-10T05:19:00.842Z"
   },
   {
    "duration": 13,
    "start_time": "2024-05-10T05:19:11.176Z"
   },
   {
    "duration": 7,
    "start_time": "2024-05-10T05:19:15.169Z"
   },
   {
    "duration": 22,
    "start_time": "2024-05-10T05:19:19.134Z"
   },
   {
    "duration": 73,
    "start_time": "2024-05-10T05:19:25.270Z"
   },
   {
    "duration": 1599,
    "start_time": "2024-05-10T05:19:30.225Z"
   },
   {
    "duration": 43,
    "start_time": "2024-05-10T05:20:03.096Z"
   },
   {
    "duration": 9,
    "start_time": "2024-05-10T05:26:50.818Z"
   },
   {
    "duration": 29,
    "start_time": "2024-05-10T05:26:55.035Z"
   },
   {
    "duration": 5,
    "start_time": "2024-05-10T05:27:02.220Z"
   },
   {
    "duration": 3,
    "start_time": "2024-05-10T05:27:10.628Z"
   },
   {
    "duration": 3,
    "start_time": "2024-05-10T05:27:11.299Z"
   },
   {
    "duration": 3,
    "start_time": "2024-05-10T05:27:44.743Z"
   },
   {
    "duration": 3,
    "start_time": "2024-05-10T05:27:45.537Z"
   },
   {
    "duration": 4,
    "start_time": "2024-05-10T05:27:46.166Z"
   },
   {
    "duration": 5,
    "start_time": "2024-05-10T05:27:54.615Z"
   },
   {
    "duration": 5,
    "start_time": "2024-05-10T05:28:03.388Z"
   },
   {
    "duration": 5,
    "start_time": "2024-05-10T05:28:04.115Z"
   },
   {
    "duration": 7,
    "start_time": "2024-05-10T05:28:04.909Z"
   },
   {
    "duration": 5,
    "start_time": "2024-05-10T05:28:05.997Z"
   },
   {
    "duration": 3,
    "start_time": "2024-05-10T05:28:07.501Z"
   },
   {
    "duration": 4,
    "start_time": "2024-05-10T05:28:12.219Z"
   },
   {
    "duration": 4,
    "start_time": "2024-05-10T05:28:12.827Z"
   },
   {
    "duration": 3,
    "start_time": "2024-05-10T05:28:13.306Z"
   },
   {
    "duration": 4,
    "start_time": "2024-05-10T05:28:13.859Z"
   },
   {
    "duration": 4,
    "start_time": "2024-05-10T05:28:14.530Z"
   },
   {
    "duration": 4,
    "start_time": "2024-05-10T05:28:15.114Z"
   },
   {
    "duration": 17,
    "start_time": "2024-05-10T05:28:17.535Z"
   },
   {
    "duration": 6,
    "start_time": "2024-05-10T05:28:29.312Z"
   },
   {
    "duration": 4,
    "start_time": "2024-05-10T05:28:33.008Z"
   },
   {
    "duration": 215,
    "start_time": "2024-05-10T05:28:35.700Z"
   },
   {
    "duration": 5,
    "start_time": "2024-05-10T05:28:40.773Z"
   },
   {
    "duration": 9,
    "start_time": "2024-05-10T05:28:43.443Z"
   },
   {
    "duration": 3,
    "start_time": "2024-05-10T05:28:47.482Z"
   },
   {
    "duration": 3,
    "start_time": "2024-05-10T05:28:48.572Z"
   },
   {
    "duration": 5,
    "start_time": "2024-05-10T05:28:49.075Z"
   },
   {
    "duration": 5,
    "start_time": "2024-05-10T05:28:49.586Z"
   },
   {
    "duration": 14,
    "start_time": "2024-05-10T05:28:50.365Z"
   },
   {
    "duration": 286,
    "start_time": "2024-05-10T05:28:51.459Z"
   },
   {
    "duration": 4,
    "start_time": "2024-05-10T05:28:52.019Z"
   },
   {
    "duration": 4,
    "start_time": "2024-05-10T05:28:52.774Z"
   },
   {
    "duration": 6,
    "start_time": "2024-05-10T05:28:53.540Z"
   },
   {
    "duration": 17,
    "start_time": "2024-05-10T05:28:54.627Z"
   },
   {
    "duration": 86,
    "start_time": "2024-05-10T05:29:07.920Z"
   },
   {
    "duration": 40,
    "start_time": "2024-05-10T05:40:58.594Z"
   },
   {
    "duration": 42,
    "start_time": "2024-05-10T05:45:18.078Z"
   },
   {
    "duration": 5,
    "start_time": "2024-05-10T05:46:24.253Z"
   },
   {
    "duration": 229,
    "start_time": "2024-05-10T05:48:18.830Z"
   },
   {
    "duration": 197,
    "start_time": "2024-05-10T05:48:54.838Z"
   },
   {
    "duration": 234,
    "start_time": "2024-05-10T05:50:52.580Z"
   },
   {
    "duration": 216,
    "start_time": "2024-05-10T05:51:23.988Z"
   },
   {
    "duration": 10,
    "start_time": "2024-05-10T05:54:29.203Z"
   },
   {
    "duration": 246,
    "start_time": "2024-05-10T05:57:39.118Z"
   },
   {
    "duration": 6,
    "start_time": "2024-05-10T05:58:27.435Z"
   },
   {
    "duration": 199,
    "start_time": "2024-05-10T06:00:00.766Z"
   },
   {
    "duration": 9,
    "start_time": "2024-05-10T06:02:45.516Z"
   },
   {
    "duration": 8,
    "start_time": "2024-05-10T06:03:50.034Z"
   },
   {
    "duration": 277,
    "start_time": "2024-05-10T06:05:18.049Z"
   },
   {
    "duration": 212,
    "start_time": "2024-05-10T06:06:01.028Z"
   },
   {
    "duration": 182,
    "start_time": "2024-05-10T06:09:16.939Z"
   },
   {
    "duration": 201,
    "start_time": "2024-05-10T06:09:55.556Z"
   },
   {
    "duration": 8,
    "start_time": "2024-05-10T06:12:31.318Z"
   },
   {
    "duration": 209,
    "start_time": "2024-05-10T06:14:05.628Z"
   },
   {
    "duration": 8,
    "start_time": "2024-05-10T06:16:59.685Z"
   },
   {
    "duration": 291,
    "start_time": "2024-05-10T06:18:30.687Z"
   },
   {
    "duration": 233,
    "start_time": "2024-05-10T06:18:48.400Z"
   },
   {
    "duration": 236,
    "start_time": "2024-05-10T06:19:11.185Z"
   },
   {
    "duration": 201,
    "start_time": "2024-05-10T06:22:34.197Z"
   },
   {
    "duration": 213,
    "start_time": "2024-05-10T06:23:53.691Z"
   },
   {
    "duration": 8,
    "start_time": "2024-05-10T06:24:04.256Z"
   },
   {
    "duration": 207,
    "start_time": "2024-05-10T06:25:30.490Z"
   },
   {
    "duration": 8,
    "start_time": "2024-05-10T06:27:52.163Z"
   },
   {
    "duration": 283,
    "start_time": "2024-05-10T06:29:20.492Z"
   },
   {
    "duration": 213,
    "start_time": "2024-05-10T06:30:07.597Z"
   },
   {
    "duration": 231,
    "start_time": "2024-05-10T06:30:15.453Z"
   },
   {
    "duration": 213,
    "start_time": "2024-05-10T06:30:37.099Z"
   },
   {
    "duration": 7,
    "start_time": "2024-05-10T06:33:00.239Z"
   },
   {
    "duration": 198,
    "start_time": "2024-05-10T06:34:51.147Z"
   },
   {
    "duration": 306,
    "start_time": "2024-05-10T06:35:13.200Z"
   },
   {
    "duration": 70,
    "start_time": "2024-05-10T07:01:06.318Z"
   },
   {
    "duration": 7,
    "start_time": "2024-05-10T07:01:18.068Z"
   },
   {
    "duration": 214,
    "start_time": "2024-05-10T07:04:25.316Z"
   },
   {
    "duration": 218,
    "start_time": "2024-05-10T07:09:50.717Z"
   },
   {
    "duration": 237,
    "start_time": "2024-05-10T07:10:05.794Z"
   },
   {
    "duration": 8,
    "start_time": "2024-05-10T07:12:35.570Z"
   },
   {
    "duration": 226,
    "start_time": "2024-05-10T07:15:49.595Z"
   },
   {
    "duration": 90,
    "start_time": "2024-05-10T07:18:57.986Z"
   },
   {
    "duration": 120,
    "start_time": "2024-05-10T07:19:40.069Z"
   },
   {
    "duration": 199,
    "start_time": "2024-05-10T07:19:58.995Z"
   },
   {
    "duration": 148,
    "start_time": "2024-05-10T07:20:48.995Z"
   },
   {
    "duration": 213,
    "start_time": "2024-05-10T07:21:33.643Z"
   },
   {
    "duration": 136,
    "start_time": "2024-05-10T07:23:08.518Z"
   },
   {
    "duration": 124,
    "start_time": "2024-05-10T07:23:28.357Z"
   },
   {
    "duration": 15,
    "start_time": "2024-05-10T07:23:53.508Z"
   },
   {
    "duration": 5,
    "start_time": "2024-05-10T07:24:13.124Z"
   },
   {
    "duration": 8,
    "start_time": "2024-05-10T07:24:13.699Z"
   },
   {
    "duration": 192,
    "start_time": "2024-05-10T07:24:44.009Z"
   },
   {
    "duration": 170,
    "start_time": "2024-05-10T07:25:12.930Z"
   },
   {
    "duration": 280,
    "start_time": "2024-05-10T07:26:28.517Z"
   },
   {
    "duration": 24,
    "start_time": "2024-05-10T07:38:03.890Z"
   },
   {
    "duration": 11,
    "start_time": "2024-05-10T07:38:22.013Z"
   },
   {
    "duration": 6,
    "start_time": "2024-05-10T07:38:22.533Z"
   },
   {
    "duration": 6,
    "start_time": "2024-05-10T07:38:31.735Z"
   },
   {
    "duration": 6,
    "start_time": "2024-05-10T07:38:40.189Z"
   },
   {
    "duration": 14,
    "start_time": "2024-05-10T07:38:54.598Z"
   },
   {
    "duration": 7,
    "start_time": "2024-05-10T07:39:05.134Z"
   },
   {
    "duration": 43,
    "start_time": "2024-05-10T07:39:20.974Z"
   },
   {
    "duration": 30,
    "start_time": "2024-05-10T07:40:05.626Z"
   },
   {
    "duration": 25,
    "start_time": "2024-05-10T07:42:42.522Z"
   },
   {
    "duration": 21,
    "start_time": "2024-05-10T07:43:11.773Z"
   },
   {
    "duration": 20,
    "start_time": "2024-05-10T07:49:51.655Z"
   },
   {
    "duration": 20,
    "start_time": "2024-05-10T07:50:24.463Z"
   },
   {
    "duration": 12,
    "start_time": "2024-05-10T07:56:45.519Z"
   },
   {
    "duration": 11,
    "start_time": "2024-05-10T07:59:38.278Z"
   },
   {
    "duration": 11,
    "start_time": "2024-05-10T08:00:05.183Z"
   },
   {
    "duration": 16,
    "start_time": "2024-05-10T08:00:15.206Z"
   },
   {
    "duration": 14,
    "start_time": "2024-05-10T08:01:57.446Z"
   },
   {
    "duration": 9,
    "start_time": "2024-05-10T08:02:16.254Z"
   },
   {
    "duration": 11,
    "start_time": "2024-05-10T08:02:55.317Z"
   },
   {
    "duration": 3,
    "start_time": "2024-05-10T08:03:56.592Z"
   },
   {
    "duration": 5,
    "start_time": "2024-05-10T08:03:58.147Z"
   },
   {
    "duration": 17,
    "start_time": "2024-05-10T08:04:01.370Z"
   },
   {
    "duration": 11,
    "start_time": "2024-05-10T08:05:02.763Z"
   },
   {
    "duration": 7,
    "start_time": "2024-05-10T08:05:03.767Z"
   },
   {
    "duration": 10,
    "start_time": "2024-05-10T08:05:33.677Z"
   },
   {
    "duration": 10,
    "start_time": "2024-05-10T08:07:37.828Z"
   },
   {
    "duration": 14,
    "start_time": "2024-05-10T08:08:20.620Z"
   },
   {
    "duration": 11,
    "start_time": "2024-05-10T08:08:37.786Z"
   },
   {
    "duration": 16,
    "start_time": "2024-05-10T08:09:01.122Z"
   },
   {
    "duration": 19,
    "start_time": "2024-05-10T08:09:16.450Z"
   },
   {
    "duration": 23,
    "start_time": "2024-05-10T08:09:35.610Z"
   },
   {
    "duration": 18,
    "start_time": "2024-05-10T08:10:34.344Z"
   },
   {
    "duration": 162,
    "start_time": "2024-05-10T08:14:23.127Z"
   },
   {
    "duration": 135,
    "start_time": "2024-05-10T08:15:04.871Z"
   },
   {
    "duration": 131,
    "start_time": "2024-05-10T08:15:38.485Z"
   },
   {
    "duration": 127,
    "start_time": "2024-05-10T08:16:14.976Z"
   },
   {
    "duration": 160,
    "start_time": "2024-05-10T08:16:27.103Z"
   },
   {
    "duration": 154,
    "start_time": "2024-05-10T08:17:02.496Z"
   },
   {
    "duration": 168,
    "start_time": "2024-05-10T08:17:07.806Z"
   },
   {
    "duration": 16,
    "start_time": "2024-05-10T08:17:25.962Z"
   },
   {
    "duration": 39,
    "start_time": "2024-05-10T08:17:30.493Z"
   },
   {
    "duration": 174,
    "start_time": "2024-05-10T08:17:43.145Z"
   },
   {
    "duration": 20,
    "start_time": "2024-05-10T08:19:03.448Z"
   },
   {
    "duration": 167,
    "start_time": "2024-05-10T08:20:42.391Z"
   },
   {
    "duration": 12,
    "start_time": "2024-05-10T08:26:05.237Z"
   },
   {
    "duration": 7,
    "start_time": "2024-05-10T09:12:32.047Z"
   },
   {
    "duration": 12,
    "start_time": "2024-05-10T09:12:44.038Z"
   },
   {
    "duration": 200,
    "start_time": "2024-05-10T09:13:19.297Z"
   },
   {
    "duration": 39,
    "start_time": "2024-05-10T09:14:23.596Z"
   },
   {
    "duration": 137,
    "start_time": "2024-05-10T09:15:00.372Z"
   },
   {
    "duration": 125,
    "start_time": "2024-05-10T09:15:11.470Z"
   },
   {
    "duration": 127,
    "start_time": "2024-05-10T09:15:16.157Z"
   },
   {
    "duration": 130,
    "start_time": "2024-05-10T09:15:42.756Z"
   },
   {
    "duration": 236,
    "start_time": "2024-05-10T09:15:50.256Z"
   },
   {
    "duration": 126,
    "start_time": "2024-05-10T09:15:58.669Z"
   },
   {
    "duration": 125,
    "start_time": "2024-05-10T09:16:04.239Z"
   },
   {
    "duration": 5,
    "start_time": "2024-05-10T09:16:22.435Z"
   },
   {
    "duration": 5,
    "start_time": "2024-05-10T09:17:37.661Z"
   },
   {
    "duration": 5,
    "start_time": "2024-05-10T09:19:42.900Z"
   },
   {
    "duration": 5,
    "start_time": "2024-05-10T09:20:16.447Z"
   },
   {
    "duration": 141,
    "start_time": "2024-05-10T09:21:53.463Z"
   },
   {
    "duration": 4,
    "start_time": "2024-05-10T09:23:15.760Z"
   },
   {
    "duration": 5,
    "start_time": "2024-05-10T09:23:57.312Z"
   },
   {
    "duration": 5,
    "start_time": "2024-05-10T09:24:44.868Z"
   },
   {
    "duration": 4,
    "start_time": "2024-05-10T09:25:09.907Z"
   },
   {
    "duration": 258,
    "start_time": "2024-05-10T09:27:15.469Z"
   },
   {
    "duration": 231,
    "start_time": "2024-05-10T09:27:36.640Z"
   },
   {
    "duration": 12,
    "start_time": "2024-05-10T09:29:06.856Z"
   },
   {
    "duration": 157,
    "start_time": "2024-05-10T09:29:27.671Z"
   },
   {
    "duration": 10,
    "start_time": "2024-05-10T09:30:31.688Z"
   },
   {
    "duration": 155,
    "start_time": "2024-05-10T09:30:34.785Z"
   },
   {
    "duration": 11,
    "start_time": "2024-05-10T09:30:40.117Z"
   },
   {
    "duration": 8,
    "start_time": "2024-05-10T09:49:54.977Z"
   },
   {
    "duration": 14,
    "start_time": "2024-05-10T09:50:10.215Z"
   },
   {
    "duration": 16,
    "start_time": "2024-05-10T09:50:43.776Z"
   },
   {
    "duration": 17,
    "start_time": "2024-05-10T09:51:07.732Z"
   },
   {
    "duration": 18,
    "start_time": "2024-05-10T09:51:46.311Z"
   },
   {
    "duration": 17,
    "start_time": "2024-05-10T09:52:10.456Z"
   },
   {
    "duration": 16,
    "start_time": "2024-05-10T09:52:45.536Z"
   },
   {
    "duration": 19,
    "start_time": "2024-05-10T09:53:50.333Z"
   },
   {
    "duration": 4,
    "start_time": "2024-05-10T09:55:08.081Z"
   },
   {
    "duration": 12,
    "start_time": "2024-05-10T09:55:10.476Z"
   },
   {
    "duration": 11,
    "start_time": "2024-05-10T09:56:19.513Z"
   },
   {
    "duration": 13,
    "start_time": "2024-05-10T09:56:48.008Z"
   },
   {
    "duration": 13,
    "start_time": "2024-05-10T09:57:00.673Z"
   },
   {
    "duration": 19,
    "start_time": "2024-05-10T09:57:12.066Z"
   },
   {
    "duration": 13,
    "start_time": "2024-05-10T09:57:23.627Z"
   },
   {
    "duration": 4,
    "start_time": "2024-05-10T09:58:57.295Z"
   },
   {
    "duration": 11,
    "start_time": "2024-05-10T09:58:58.759Z"
   },
   {
    "duration": 125,
    "start_time": "2024-05-10T09:59:01.349Z"
   },
   {
    "duration": 5,
    "start_time": "2024-05-10T09:59:35.136Z"
   },
   {
    "duration": 13,
    "start_time": "2024-05-10T09:59:43.706Z"
   },
   {
    "duration": 139,
    "start_time": "2024-05-10T09:59:47.502Z"
   },
   {
    "duration": 7,
    "start_time": "2024-05-10T10:00:13.907Z"
   },
   {
    "duration": 10,
    "start_time": "2024-05-10T10:00:28.077Z"
   },
   {
    "duration": 180,
    "start_time": "2024-05-10T10:00:29.752Z"
   },
   {
    "duration": 139,
    "start_time": "2024-05-10T10:01:48.342Z"
   },
   {
    "duration": 6,
    "start_time": "2024-05-10T10:02:23.303Z"
   },
   {
    "duration": 9,
    "start_time": "2024-05-10T10:02:35.273Z"
   },
   {
    "duration": 130,
    "start_time": "2024-05-10T10:02:36.786Z"
   },
   {
    "duration": 10,
    "start_time": "2024-05-10T10:03:40.467Z"
   },
   {
    "duration": 157,
    "start_time": "2024-05-10T10:03:44.989Z"
   },
   {
    "duration": 16,
    "start_time": "2024-05-10T10:04:09.305Z"
   },
   {
    "duration": 13,
    "start_time": "2024-05-10T10:04:42.834Z"
   },
   {
    "duration": 869,
    "start_time": "2024-05-10T11:17:56.193Z"
   },
   {
    "duration": 291,
    "start_time": "2024-05-10T11:17:57.065Z"
   },
   {
    "duration": 35,
    "start_time": "2024-05-10T11:17:57.358Z"
   },
   {
    "duration": 15,
    "start_time": "2024-05-10T11:17:57.395Z"
   },
   {
    "duration": 12,
    "start_time": "2024-05-10T11:17:57.412Z"
   },
   {
    "duration": 126,
    "start_time": "2024-05-10T11:17:57.426Z"
   },
   {
    "duration": 2088,
    "start_time": "2024-05-10T11:17:57.554Z"
   },
   {
    "duration": 56,
    "start_time": "2024-05-10T11:17:59.644Z"
   },
   {
    "duration": 13,
    "start_time": "2024-05-10T11:17:59.701Z"
   },
   {
    "duration": 42,
    "start_time": "2024-05-10T11:17:59.717Z"
   },
   {
    "duration": 16,
    "start_time": "2024-05-10T11:17:59.761Z"
   },
   {
    "duration": 41,
    "start_time": "2024-05-10T11:17:59.779Z"
   },
   {
    "duration": 18,
    "start_time": "2024-05-10T11:17:59.822Z"
   },
   {
    "duration": 26,
    "start_time": "2024-05-10T11:17:59.842Z"
   },
   {
    "duration": 13,
    "start_time": "2024-05-10T11:17:59.870Z"
   },
   {
    "duration": 39,
    "start_time": "2024-05-10T11:17:59.885Z"
   },
   {
    "duration": 57,
    "start_time": "2024-05-10T11:17:59.926Z"
   },
   {
    "duration": 77,
    "start_time": "2024-05-10T11:17:59.985Z"
   },
   {
    "duration": 55,
    "start_time": "2024-05-10T11:18:00.064Z"
   },
   {
    "duration": 72,
    "start_time": "2024-05-10T11:18:00.120Z"
   },
   {
    "duration": 71,
    "start_time": "2024-05-10T11:18:00.194Z"
   },
   {
    "duration": 145,
    "start_time": "2024-05-10T11:18:00.267Z"
   },
   {
    "duration": 93,
    "start_time": "2024-05-10T11:18:00.413Z"
   },
   {
    "duration": 45,
    "start_time": "2024-05-10T11:18:00.507Z"
   },
   {
    "duration": 71,
    "start_time": "2024-05-10T11:18:00.553Z"
   },
   {
    "duration": 35,
    "start_time": "2024-05-10T11:18:00.626Z"
   },
   {
    "duration": 47,
    "start_time": "2024-05-10T11:18:00.663Z"
   },
   {
    "duration": 68,
    "start_time": "2024-05-10T11:18:00.715Z"
   },
   {
    "duration": 44,
    "start_time": "2024-05-10T11:18:00.784Z"
   },
   {
    "duration": 45,
    "start_time": "2024-05-10T11:18:00.829Z"
   },
   {
    "duration": 321,
    "start_time": "2024-05-10T11:18:00.875Z"
   },
   {
    "duration": 5,
    "start_time": "2024-05-10T11:18:01.198Z"
   },
   {
    "duration": 114,
    "start_time": "2024-05-10T11:18:01.205Z"
   },
   {
    "duration": 44,
    "start_time": "2024-05-10T11:18:01.321Z"
   },
   {
    "duration": 34,
    "start_time": "2024-05-10T11:18:01.366Z"
   },
   {
    "duration": 33,
    "start_time": "2024-05-10T11:18:01.402Z"
   },
   {
    "duration": 30,
    "start_time": "2024-05-10T11:18:01.437Z"
   },
   {
    "duration": 37,
    "start_time": "2024-05-10T11:18:01.469Z"
   },
   {
    "duration": 378,
    "start_time": "2024-05-10T11:18:01.507Z"
   },
   {
    "duration": 7,
    "start_time": "2024-05-10T11:18:01.887Z"
   },
   {
    "duration": 85,
    "start_time": "2024-05-10T11:18:01.896Z"
   },
   {
    "duration": 57,
    "start_time": "2024-05-10T11:18:01.982Z"
   },
   {
    "duration": 61,
    "start_time": "2024-05-10T11:18:02.041Z"
   },
   {
    "duration": 329,
    "start_time": "2024-05-10T11:18:02.104Z"
   },
   {
    "duration": 8,
    "start_time": "2024-05-10T11:18:02.435Z"
   },
   {
    "duration": 60,
    "start_time": "2024-05-10T11:18:02.445Z"
   },
   {
    "duration": 334,
    "start_time": "2024-05-10T11:18:02.507Z"
   },
   {
    "duration": 10,
    "start_time": "2024-05-10T11:18:02.842Z"
   },
   {
    "duration": 291,
    "start_time": "2024-05-10T11:18:02.853Z"
   },
   {
    "duration": 10,
    "start_time": "2024-05-10T11:18:03.146Z"
   },
   {
    "duration": 281,
    "start_time": "2024-05-10T11:18:03.157Z"
   },
   {
    "duration": 9,
    "start_time": "2024-05-10T11:18:03.440Z"
   },
   {
    "duration": 299,
    "start_time": "2024-05-10T11:18:03.451Z"
   },
   {
    "duration": 8,
    "start_time": "2024-05-10T11:18:03.752Z"
   },
   {
    "duration": 286,
    "start_time": "2024-05-10T11:18:03.762Z"
   },
   {
    "duration": 374,
    "start_time": "2024-05-10T11:18:04.050Z"
   },
   {
    "duration": 8,
    "start_time": "2024-05-10T11:18:04.425Z"
   },
   {
    "duration": 439,
    "start_time": "2024-05-10T11:18:04.435Z"
   },
   {
    "duration": 8,
    "start_time": "2024-05-10T11:18:04.875Z"
   },
   {
    "duration": 451,
    "start_time": "2024-05-10T11:18:04.885Z"
   },
   {
    "duration": 9,
    "start_time": "2024-05-10T11:18:05.337Z"
   },
   {
    "duration": 300,
    "start_time": "2024-05-10T11:18:05.348Z"
   },
   {
    "duration": 10,
    "start_time": "2024-05-10T11:18:05.650Z"
   },
   {
    "duration": 310,
    "start_time": "2024-05-10T11:18:05.662Z"
   },
   {
    "duration": 259,
    "start_time": "2024-05-10T11:18:05.974Z"
   },
   {
    "duration": 8,
    "start_time": "2024-05-10T11:18:06.235Z"
   },
   {
    "duration": 21,
    "start_time": "2024-05-10T11:18:06.245Z"
   },
   {
    "duration": 28,
    "start_time": "2024-05-10T11:18:06.268Z"
   },
   {
    "duration": 24,
    "start_time": "2024-05-10T11:18:06.298Z"
   },
   {
    "duration": 72,
    "start_time": "2024-05-10T11:18:06.324Z"
   },
   {
    "duration": 260,
    "start_time": "2024-05-10T11:18:06.397Z"
   },
   {
    "duration": 5,
    "start_time": "2024-05-10T11:18:06.658Z"
   },
   {
    "duration": 25,
    "start_time": "2024-05-10T11:18:06.664Z"
   },
   {
    "duration": 150,
    "start_time": "2024-05-10T11:18:06.690Z"
   },
   {
    "duration": 5,
    "start_time": "2024-05-10T11:18:06.842Z"
   },
   {
    "duration": 420,
    "start_time": "2024-05-10T11:18:06.849Z"
   },
   {
    "duration": 185,
    "start_time": "2024-05-10T11:18:07.271Z"
   },
   {
    "duration": 6,
    "start_time": "2024-05-10T11:18:07.457Z"
   },
   {
    "duration": 17,
    "start_time": "2024-05-10T11:18:07.464Z"
   },
   {
    "duration": 160,
    "start_time": "2024-05-10T11:18:07.483Z"
   },
   {
    "duration": 13,
    "start_time": "2024-05-10T11:18:07.644Z"
   },
   {
    "duration": 194,
    "start_time": "2024-05-10T11:18:07.663Z"
   },
   {
    "duration": 12,
    "start_time": "2024-05-10T11:18:07.858Z"
   },
   {
    "duration": 173,
    "start_time": "2024-05-10T11:18:07.872Z"
   },
   {
    "duration": 11,
    "start_time": "2024-05-10T11:18:08.047Z"
   },
   {
    "duration": 198,
    "start_time": "2024-05-10T11:18:08.060Z"
   },
   {
    "duration": 11,
    "start_time": "2024-05-10T11:18:08.259Z"
   },
   {
    "duration": 207,
    "start_time": "2024-05-10T11:18:08.272Z"
   },
   {
    "duration": 31,
    "start_time": "2024-05-10T11:18:08.481Z"
   },
   {
    "duration": 1119,
    "start_time": "2024-05-10T11:18:08.514Z"
   },
   {
    "duration": 0,
    "start_time": "2024-05-10T11:18:09.635Z"
   },
   {
    "duration": 0,
    "start_time": "2024-05-10T11:18:09.636Z"
   },
   {
    "duration": 0,
    "start_time": "2024-05-10T11:18:09.638Z"
   },
   {
    "duration": 0,
    "start_time": "2024-05-10T11:18:09.639Z"
   },
   {
    "duration": 713,
    "start_time": "2024-05-10T14:47:59.877Z"
   },
   {
    "duration": 106,
    "start_time": "2024-05-10T14:48:00.592Z"
   },
   {
    "duration": 34,
    "start_time": "2024-05-10T14:48:00.700Z"
   },
   {
    "duration": 44,
    "start_time": "2024-05-10T14:48:00.736Z"
   },
   {
    "duration": 35,
    "start_time": "2024-05-10T14:48:00.784Z"
   },
   {
    "duration": 231,
    "start_time": "2024-05-10T14:48:00.821Z"
   },
   {
    "duration": 1983,
    "start_time": "2024-05-10T14:48:01.054Z"
   },
   {
    "duration": 64,
    "start_time": "2024-05-10T14:48:03.039Z"
   },
   {
    "duration": 15,
    "start_time": "2024-05-10T14:48:03.104Z"
   },
   {
    "duration": 54,
    "start_time": "2024-05-10T14:48:03.121Z"
   },
   {
    "duration": 116,
    "start_time": "2024-05-10T14:48:03.177Z"
   },
   {
    "duration": 72,
    "start_time": "2024-05-10T14:48:03.294Z"
   },
   {
    "duration": 13,
    "start_time": "2024-05-10T14:48:03.368Z"
   },
   {
    "duration": 31,
    "start_time": "2024-05-10T14:48:03.384Z"
   },
   {
    "duration": 18,
    "start_time": "2024-05-10T14:48:03.416Z"
   },
   {
    "duration": 35,
    "start_time": "2024-05-10T14:48:03.436Z"
   },
   {
    "duration": 20,
    "start_time": "2024-05-10T14:48:03.473Z"
   },
   {
    "duration": 36,
    "start_time": "2024-05-10T14:48:03.495Z"
   },
   {
    "duration": 38,
    "start_time": "2024-05-10T14:48:03.533Z"
   },
   {
    "duration": 15,
    "start_time": "2024-05-10T14:48:03.573Z"
   },
   {
    "duration": 28,
    "start_time": "2024-05-10T14:48:03.589Z"
   },
   {
    "duration": 21,
    "start_time": "2024-05-10T14:48:03.618Z"
   },
   {
    "duration": 49,
    "start_time": "2024-05-10T14:48:03.641Z"
   },
   {
    "duration": 28,
    "start_time": "2024-05-10T14:48:03.691Z"
   },
   {
    "duration": 60,
    "start_time": "2024-05-10T14:48:03.720Z"
   },
   {
    "duration": 55,
    "start_time": "2024-05-10T14:48:03.781Z"
   },
   {
    "duration": 23,
    "start_time": "2024-05-10T14:48:03.837Z"
   },
   {
    "duration": 53,
    "start_time": "2024-05-10T14:48:03.862Z"
   },
   {
    "duration": 17,
    "start_time": "2024-05-10T14:48:03.916Z"
   },
   {
    "duration": 17,
    "start_time": "2024-05-10T14:48:03.934Z"
   },
   {
    "duration": 269,
    "start_time": "2024-05-10T14:48:03.952Z"
   },
   {
    "duration": 6,
    "start_time": "2024-05-10T14:48:04.222Z"
   },
   {
    "duration": 36,
    "start_time": "2024-05-10T14:48:04.229Z"
   },
   {
    "duration": 22,
    "start_time": "2024-05-10T14:48:04.266Z"
   },
   {
    "duration": 27,
    "start_time": "2024-05-10T14:48:04.289Z"
   },
   {
    "duration": 60,
    "start_time": "2024-05-10T14:48:04.318Z"
   },
   {
    "duration": 22,
    "start_time": "2024-05-10T14:48:04.380Z"
   },
   {
    "duration": 20,
    "start_time": "2024-05-10T14:48:04.404Z"
   },
   {
    "duration": 386,
    "start_time": "2024-05-10T14:48:04.426Z"
   },
   {
    "duration": 6,
    "start_time": "2024-05-10T14:48:04.814Z"
   },
   {
    "duration": 16,
    "start_time": "2024-05-10T14:48:04.826Z"
   },
   {
    "duration": 42,
    "start_time": "2024-05-10T14:48:04.844Z"
   },
   {
    "duration": 62,
    "start_time": "2024-05-10T14:48:04.888Z"
   },
   {
    "duration": 306,
    "start_time": "2024-05-10T14:48:04.952Z"
   },
   {
    "duration": 8,
    "start_time": "2024-05-10T14:48:05.260Z"
   },
   {
    "duration": 42,
    "start_time": "2024-05-10T14:48:05.270Z"
   },
   {
    "duration": 351,
    "start_time": "2024-05-10T14:48:05.314Z"
   },
   {
    "duration": 8,
    "start_time": "2024-05-10T14:48:05.667Z"
   },
   {
    "duration": 266,
    "start_time": "2024-05-10T14:48:05.677Z"
   },
   {
    "duration": 8,
    "start_time": "2024-05-10T14:48:05.945Z"
   },
   {
    "duration": 278,
    "start_time": "2024-05-10T14:48:05.955Z"
   },
   {
    "duration": 8,
    "start_time": "2024-05-10T14:48:06.235Z"
   },
   {
    "duration": 284,
    "start_time": "2024-05-10T14:48:06.245Z"
   },
   {
    "duration": 9,
    "start_time": "2024-05-10T14:48:06.530Z"
   },
   {
    "duration": 322,
    "start_time": "2024-05-10T14:48:06.540Z"
   },
   {
    "duration": 362,
    "start_time": "2024-05-10T14:48:06.863Z"
   },
   {
    "duration": 8,
    "start_time": "2024-05-10T14:48:07.226Z"
   },
   {
    "duration": 309,
    "start_time": "2024-05-10T14:48:07.235Z"
   },
   {
    "duration": 11,
    "start_time": "2024-05-10T14:48:07.546Z"
   },
   {
    "duration": 285,
    "start_time": "2024-05-10T14:48:07.559Z"
   },
   {
    "duration": 8,
    "start_time": "2024-05-10T14:48:07.845Z"
   },
   {
    "duration": 292,
    "start_time": "2024-05-10T14:48:07.854Z"
   },
   {
    "duration": 8,
    "start_time": "2024-05-10T14:48:08.148Z"
   },
   {
    "duration": 290,
    "start_time": "2024-05-10T14:48:08.157Z"
   },
   {
    "duration": 255,
    "start_time": "2024-05-10T14:48:08.448Z"
   },
   {
    "duration": 9,
    "start_time": "2024-05-10T14:48:08.705Z"
   },
   {
    "duration": 67,
    "start_time": "2024-05-10T14:48:08.716Z"
   },
   {
    "duration": 22,
    "start_time": "2024-05-10T14:48:08.785Z"
   },
   {
    "duration": 8,
    "start_time": "2024-05-10T14:48:08.808Z"
   },
   {
    "duration": 17,
    "start_time": "2024-05-10T14:48:08.817Z"
   },
   {
    "duration": 274,
    "start_time": "2024-05-10T14:48:08.836Z"
   },
   {
    "duration": 5,
    "start_time": "2024-05-10T14:48:09.112Z"
   },
   {
    "duration": 32,
    "start_time": "2024-05-10T14:48:09.118Z"
   },
   {
    "duration": 145,
    "start_time": "2024-05-10T14:48:09.151Z"
   },
   {
    "duration": 5,
    "start_time": "2024-05-10T14:48:09.298Z"
   },
   {
    "duration": 28,
    "start_time": "2024-05-10T14:48:09.304Z"
   },
   {
    "duration": 160,
    "start_time": "2024-05-10T14:48:09.334Z"
   },
   {
    "duration": 5,
    "start_time": "2024-05-10T14:48:09.496Z"
   },
   {
    "duration": 26,
    "start_time": "2024-05-10T14:48:09.503Z"
   },
   {
    "duration": 187,
    "start_time": "2024-05-10T14:48:09.531Z"
   },
   {
    "duration": 12,
    "start_time": "2024-05-10T14:48:09.720Z"
   },
   {
    "duration": 189,
    "start_time": "2024-05-10T14:48:09.734Z"
   },
   {
    "duration": 13,
    "start_time": "2024-05-10T14:48:09.924Z"
   },
   {
    "duration": 176,
    "start_time": "2024-05-10T14:48:09.938Z"
   },
   {
    "duration": 13,
    "start_time": "2024-05-10T14:48:10.116Z"
   },
   {
    "duration": 200,
    "start_time": "2024-05-10T14:48:10.130Z"
   },
   {
    "duration": 12,
    "start_time": "2024-05-10T14:48:10.332Z"
   },
   {
    "duration": 201,
    "start_time": "2024-05-10T14:48:10.345Z"
   },
   {
    "duration": 26,
    "start_time": "2024-05-10T14:48:10.548Z"
   },
   {
    "duration": 1147,
    "start_time": "2024-05-10T14:48:10.576Z"
   },
   {
    "duration": 0,
    "start_time": "2024-05-10T14:48:11.725Z"
   },
   {
    "duration": 0,
    "start_time": "2024-05-10T14:48:11.726Z"
   },
   {
    "duration": 0,
    "start_time": "2024-05-10T14:48:11.727Z"
   },
   {
    "duration": 0,
    "start_time": "2024-05-10T14:48:11.729Z"
   },
   {
    "duration": 829,
    "start_time": "2024-05-11T08:22:29.652Z"
   },
   {
    "duration": 285,
    "start_time": "2024-05-11T08:22:34.324Z"
   },
   {
    "duration": 33,
    "start_time": "2024-05-11T08:22:36.749Z"
   },
   {
    "duration": 15,
    "start_time": "2024-05-11T08:22:38.531Z"
   },
   {
    "duration": 9,
    "start_time": "2024-05-11T08:22:40.695Z"
   },
   {
    "duration": 96,
    "start_time": "2024-05-11T08:22:42.852Z"
   },
   {
    "duration": 91,
    "start_time": "2024-05-11T08:22:51.522Z"
   },
   {
    "duration": 2028,
    "start_time": "2024-05-11T08:23:00.532Z"
   },
   {
    "duration": 1925,
    "start_time": "2024-05-11T08:23:21.759Z"
   },
   {
    "duration": 53,
    "start_time": "2024-05-11T08:23:35.340Z"
   },
   {
    "duration": 13,
    "start_time": "2024-05-11T08:23:48.986Z"
   },
   {
    "duration": 25,
    "start_time": "2024-05-11T08:23:55.780Z"
   },
   {
    "duration": 2407,
    "start_time": "2024-05-11T08:35:27.995Z"
   },
   {
    "duration": 3961,
    "start_time": "2024-05-11T08:35:44.639Z"
   },
   {
    "duration": 2416,
    "start_time": "2024-05-11T08:36:09.734Z"
   },
   {
    "duration": 2160,
    "start_time": "2024-05-11T08:36:33.933Z"
   },
   {
    "duration": 2262,
    "start_time": "2024-05-11T08:37:19.516Z"
   },
   {
    "duration": 2308,
    "start_time": "2024-05-11T08:37:42.045Z"
   },
   {
    "duration": 1346,
    "start_time": "2024-05-11T08:38:06.164Z"
   },
   {
    "duration": 5101,
    "start_time": "2024-05-11T08:39:00.531Z"
   },
   {
    "duration": 5,
    "start_time": "2024-05-11T08:42:58.148Z"
   },
   {
    "duration": 7,
    "start_time": "2024-05-11T08:42:58.808Z"
   },
   {
    "duration": 30,
    "start_time": "2024-05-11T08:44:01.314Z"
   },
   {
    "duration": 3,
    "start_time": "2024-05-11T08:44:30.888Z"
   },
   {
    "duration": 91,
    "start_time": "2024-05-11T08:44:32.235Z"
   },
   {
    "duration": 28,
    "start_time": "2024-05-11T08:44:33.046Z"
   },
   {
    "duration": 15,
    "start_time": "2024-05-11T08:44:34.230Z"
   },
   {
    "duration": 12,
    "start_time": "2024-05-11T08:44:36.007Z"
   },
   {
    "duration": 88,
    "start_time": "2024-05-11T08:44:37.136Z"
   },
   {
    "duration": 4997,
    "start_time": "2024-05-11T08:44:38.311Z"
   },
   {
    "duration": 16,
    "start_time": "2024-05-11T08:44:44.760Z"
   },
   {
    "duration": 12,
    "start_time": "2024-05-11T08:44:52.123Z"
   },
   {
    "duration": 25,
    "start_time": "2024-05-11T08:44:53.463Z"
   },
   {
    "duration": 5,
    "start_time": "2024-05-11T08:45:00.834Z"
   },
   {
    "duration": 4,
    "start_time": "2024-05-11T08:45:02.055Z"
   },
   {
    "duration": 11,
    "start_time": "2024-05-11T08:45:30.052Z"
   },
   {
    "duration": 8,
    "start_time": "2024-05-11T08:45:53.147Z"
   },
   {
    "duration": 4,
    "start_time": "2024-05-11T08:48:18.304Z"
   },
   {
    "duration": 4,
    "start_time": "2024-05-11T08:49:00.278Z"
   },
   {
    "duration": 6,
    "start_time": "2024-05-11T08:50:55.450Z"
   },
   {
    "duration": 5,
    "start_time": "2024-05-11T08:52:26.312Z"
   },
   {
    "duration": 13,
    "start_time": "2024-05-11T08:56:08.731Z"
   },
   {
    "duration": 7,
    "start_time": "2024-05-11T08:57:19.639Z"
   },
   {
    "duration": 8,
    "start_time": "2024-05-11T08:57:30.990Z"
   },
   {
    "duration": 4,
    "start_time": "2024-05-11T08:57:43.126Z"
   },
   {
    "duration": 5,
    "start_time": "2024-05-11T08:57:59.404Z"
   },
   {
    "duration": 9,
    "start_time": "2024-05-11T08:59:42.286Z"
   },
   {
    "duration": 42,
    "start_time": "2024-05-11T09:01:02.757Z"
   },
   {
    "duration": 5,
    "start_time": "2024-05-11T09:01:26.084Z"
   },
   {
    "duration": 5,
    "start_time": "2024-05-11T09:01:35.414Z"
   },
   {
    "duration": 3,
    "start_time": "2024-05-11T09:03:51.921Z"
   },
   {
    "duration": 3,
    "start_time": "2024-05-11T09:03:55.776Z"
   },
   {
    "duration": 4,
    "start_time": "2024-05-11T09:10:34.547Z"
   },
   {
    "duration": 8,
    "start_time": "2024-05-11T09:10:35.180Z"
   },
   {
    "duration": 5,
    "start_time": "2024-05-11T09:10:36.788Z"
   },
   {
    "duration": 5,
    "start_time": "2024-05-11T09:10:40.146Z"
   },
   {
    "duration": 5,
    "start_time": "2024-05-11T09:10:40.723Z"
   },
   {
    "duration": 4,
    "start_time": "2024-05-11T09:10:41.281Z"
   },
   {
    "duration": 5,
    "start_time": "2024-05-11T09:10:44.016Z"
   },
   {
    "duration": 5,
    "start_time": "2024-05-11T09:10:44.647Z"
   },
   {
    "duration": 4,
    "start_time": "2024-05-11T09:10:44.942Z"
   },
   {
    "duration": 4,
    "start_time": "2024-05-11T09:10:45.783Z"
   },
   {
    "duration": 21,
    "start_time": "2024-05-11T09:10:46.491Z"
   },
   {
    "duration": 8,
    "start_time": "2024-05-11T09:10:54.437Z"
   },
   {
    "duration": 6,
    "start_time": "2024-05-11T09:10:55.078Z"
   },
   {
    "duration": 288,
    "start_time": "2024-05-11T09:10:55.905Z"
   },
   {
    "duration": 8,
    "start_time": "2024-05-11T09:11:02.115Z"
   },
   {
    "duration": 14,
    "start_time": "2024-05-11T09:11:06.413Z"
   },
   {
    "duration": 4,
    "start_time": "2024-05-11T09:11:12.086Z"
   },
   {
    "duration": 4,
    "start_time": "2024-05-11T09:11:15.652Z"
   },
   {
    "duration": 6,
    "start_time": "2024-05-11T09:11:16.294Z"
   },
   {
    "duration": 5,
    "start_time": "2024-05-11T09:11:16.853Z"
   },
   {
    "duration": 6,
    "start_time": "2024-05-11T09:11:17.374Z"
   },
   {
    "duration": 325,
    "start_time": "2024-05-11T09:11:19.858Z"
   },
   {
    "duration": 5,
    "start_time": "2024-05-11T09:11:20.431Z"
   },
   {
    "duration": 9,
    "start_time": "2024-05-11T09:11:21.207Z"
   },
   {
    "duration": 7,
    "start_time": "2024-05-11T09:11:21.741Z"
   },
   {
    "duration": 20,
    "start_time": "2024-05-11T09:11:24.502Z"
   },
   {
    "duration": 253,
    "start_time": "2024-05-11T09:11:50.519Z"
   },
   {
    "duration": 9,
    "start_time": "2024-05-11T09:11:55.148Z"
   },
   {
    "duration": 11,
    "start_time": "2024-05-11T09:12:09.822Z"
   },
   {
    "duration": 10,
    "start_time": "2024-05-11T09:22:15.405Z"
   },
   {
    "duration": 541,
    "start_time": "2024-05-11T09:22:21.392Z"
   },
   {
    "duration": 256,
    "start_time": "2024-05-11T09:26:46.359Z"
   },
   {
    "duration": 170,
    "start_time": "2024-05-11T09:29:22.736Z"
   },
   {
    "duration": 168,
    "start_time": "2024-05-11T09:29:57.834Z"
   },
   {
    "duration": 176,
    "start_time": "2024-05-11T09:30:06.246Z"
   },
   {
    "duration": 204,
    "start_time": "2024-05-11T09:30:12.962Z"
   },
   {
    "duration": 174,
    "start_time": "2024-05-11T09:38:53.623Z"
   },
   {
    "duration": 189,
    "start_time": "2024-05-11T09:39:12.450Z"
   },
   {
    "duration": 9,
    "start_time": "2024-05-11T09:39:43.275Z"
   },
   {
    "duration": 230,
    "start_time": "2024-05-11T09:39:46.148Z"
   },
   {
    "duration": 289,
    "start_time": "2024-05-11T09:39:57.551Z"
   },
   {
    "duration": 193,
    "start_time": "2024-05-11T09:40:19.568Z"
   },
   {
    "duration": 195,
    "start_time": "2024-05-11T09:42:49.634Z"
   },
   {
    "duration": 207,
    "start_time": "2024-05-11T09:44:28.306Z"
   },
   {
    "duration": 180,
    "start_time": "2024-05-11T09:44:58.230Z"
   },
   {
    "duration": 218,
    "start_time": "2024-05-11T09:45:10.084Z"
   },
   {
    "duration": 192,
    "start_time": "2024-05-11T09:45:20.737Z"
   },
   {
    "duration": 69,
    "start_time": "2024-05-11T09:46:46.100Z"
   },
   {
    "duration": 205,
    "start_time": "2024-05-11T09:46:51.748Z"
   },
   {
    "duration": 9,
    "start_time": "2024-05-11T09:47:25.495Z"
   },
   {
    "duration": 280,
    "start_time": "2024-05-11T09:47:29.622Z"
   },
   {
    "duration": 176,
    "start_time": "2024-05-11T09:47:55.359Z"
   },
   {
    "duration": 254,
    "start_time": "2024-05-11T09:48:08.929Z"
   },
   {
    "duration": 131,
    "start_time": "2024-05-11T09:48:23.285Z"
   },
   {
    "duration": 152,
    "start_time": "2024-05-11T09:48:30.055Z"
   },
   {
    "duration": 262,
    "start_time": "2024-05-11T09:49:16.780Z"
   },
   {
    "duration": 265,
    "start_time": "2024-05-11T09:49:50.118Z"
   },
   {
    "duration": 263,
    "start_time": "2024-05-11T09:49:56.866Z"
   },
   {
    "duration": 133,
    "start_time": "2024-05-11T09:50:39.447Z"
   },
   {
    "duration": 154,
    "start_time": "2024-05-11T09:50:49.790Z"
   },
   {
    "duration": 255,
    "start_time": "2024-05-11T09:50:57.454Z"
   },
   {
    "duration": 193,
    "start_time": "2024-05-11T09:52:34.756Z"
   },
   {
    "duration": 206,
    "start_time": "2024-05-11T09:52:48.395Z"
   },
   {
    "duration": 237,
    "start_time": "2024-05-11T09:53:01.027Z"
   },
   {
    "duration": 229,
    "start_time": "2024-05-11T09:53:08.272Z"
   },
   {
    "duration": 289,
    "start_time": "2024-05-11T09:56:09.313Z"
   },
   {
    "duration": 331,
    "start_time": "2024-05-11T09:56:22.147Z"
   },
   {
    "duration": 402,
    "start_time": "2024-05-11T09:57:11.902Z"
   },
   {
    "duration": 411,
    "start_time": "2024-05-11T09:57:34.349Z"
   },
   {
    "duration": 317,
    "start_time": "2024-05-11T09:58:27.162Z"
   },
   {
    "duration": 322,
    "start_time": "2024-05-11T09:58:42.367Z"
   },
   {
    "duration": 21,
    "start_time": "2024-05-11T10:01:26.089Z"
   },
   {
    "duration": 15,
    "start_time": "2024-05-11T10:02:15.920Z"
   },
   {
    "duration": 1072,
    "start_time": "2024-05-11T10:04:22.407Z"
   },
   {
    "duration": 139,
    "start_time": "2024-05-11T10:04:40.407Z"
   },
   {
    "duration": 145,
    "start_time": "2024-05-11T10:04:50.946Z"
   },
   {
    "duration": 128,
    "start_time": "2024-05-11T10:05:17.136Z"
   },
   {
    "duration": 129,
    "start_time": "2024-05-11T10:05:25.450Z"
   },
   {
    "duration": 149,
    "start_time": "2024-05-11T10:06:36.717Z"
   },
   {
    "duration": 238,
    "start_time": "2024-05-11T10:06:48.548Z"
   },
   {
    "duration": 66,
    "start_time": "2024-05-11T10:10:49.473Z"
   },
   {
    "duration": 263,
    "start_time": "2024-05-11T10:11:06.102Z"
   },
   {
    "duration": 294,
    "start_time": "2024-05-11T10:18:25.780Z"
   },
   {
    "duration": 303,
    "start_time": "2024-05-11T10:18:32.704Z"
   },
   {
    "duration": 271,
    "start_time": "2024-05-11T10:18:40.057Z"
   },
   {
    "duration": 271,
    "start_time": "2024-05-11T10:21:30.132Z"
   },
   {
    "duration": 12,
    "start_time": "2024-05-11T10:23:47.527Z"
   },
   {
    "duration": 9,
    "start_time": "2024-05-11T10:24:00.776Z"
   },
   {
    "duration": 4919,
    "start_time": "2024-05-11T10:27:18.625Z"
   },
   {
    "duration": 5092,
    "start_time": "2024-05-11T10:27:28.710Z"
   },
   {
    "duration": 299,
    "start_time": "2024-05-11T10:28:28.888Z"
   },
   {
    "duration": 8,
    "start_time": "2024-05-11T10:28:56.286Z"
   },
   {
    "duration": 8,
    "start_time": "2024-05-11T10:28:57.648Z"
   },
   {
    "duration": 9,
    "start_time": "2024-05-11T10:29:12.127Z"
   },
   {
    "duration": 591,
    "start_time": "2024-05-11T10:29:25.016Z"
   },
   {
    "duration": 229,
    "start_time": "2024-05-11T10:33:51.048Z"
   },
   {
    "duration": 266,
    "start_time": "2024-05-11T10:34:24.243Z"
   },
   {
    "duration": 6,
    "start_time": "2024-05-11T10:34:53.683Z"
   },
   {
    "duration": 8,
    "start_time": "2024-05-11T10:34:54.353Z"
   },
   {
    "duration": 253,
    "start_time": "2024-05-11T10:35:22.335Z"
   },
   {
    "duration": 8,
    "start_time": "2024-05-11T10:35:39.421Z"
   },
   {
    "duration": 252,
    "start_time": "2024-05-11T10:36:56.720Z"
   },
   {
    "duration": 269,
    "start_time": "2024-05-11T10:37:18.686Z"
   },
   {
    "duration": 7,
    "start_time": "2024-05-11T10:40:06.171Z"
   },
   {
    "duration": 305,
    "start_time": "2024-05-11T10:53:51.641Z"
   },
   {
    "duration": 10,
    "start_time": "2024-05-11T10:54:03.424Z"
   },
   {
    "duration": 264,
    "start_time": "2024-05-11T10:54:58.682Z"
   },
   {
    "duration": 555,
    "start_time": "2024-05-11T10:56:20.548Z"
   },
   {
    "duration": 539,
    "start_time": "2024-05-11T10:57:08.857Z"
   },
   {
    "duration": 674,
    "start_time": "2024-05-11T10:57:41.123Z"
   },
   {
    "duration": 506,
    "start_time": "2024-05-11T10:58:01.544Z"
   },
   {
    "duration": 243,
    "start_time": "2024-05-11T10:58:16.538Z"
   },
   {
    "duration": 413,
    "start_time": "2024-05-11T10:58:40.402Z"
   },
   {
    "duration": 286,
    "start_time": "2024-05-11T10:58:49.230Z"
   },
   {
    "duration": 283,
    "start_time": "2024-05-11T11:03:43.795Z"
   },
   {
    "duration": 285,
    "start_time": "2024-05-11T11:05:25.501Z"
   },
   {
    "duration": 273,
    "start_time": "2024-05-11T11:05:34.289Z"
   },
   {
    "duration": 243,
    "start_time": "2024-05-11T11:11:05.273Z"
   },
   {
    "duration": 295,
    "start_time": "2024-05-11T11:11:20.192Z"
   },
   {
    "duration": 247,
    "start_time": "2024-05-11T11:12:05.675Z"
   },
   {
    "duration": 168,
    "start_time": "2024-05-11T11:12:12.017Z"
   },
   {
    "duration": 189,
    "start_time": "2024-05-11T11:12:26.070Z"
   },
   {
    "duration": 199,
    "start_time": "2024-05-11T11:14:01.520Z"
   },
   {
    "duration": 366,
    "start_time": "2024-05-11T11:14:23.505Z"
   },
   {
    "duration": 389,
    "start_time": "2024-05-11T11:14:38.759Z"
   },
   {
    "duration": 385,
    "start_time": "2024-05-11T11:30:50.344Z"
   },
   {
    "duration": 8,
    "start_time": "2024-05-11T11:36:21.447Z"
   },
   {
    "duration": 8,
    "start_time": "2024-05-11T11:36:51.042Z"
   },
   {
    "duration": 8,
    "start_time": "2024-05-11T11:36:51.700Z"
   },
   {
    "duration": 243,
    "start_time": "2024-05-11T11:37:08.814Z"
   },
   {
    "duration": 264,
    "start_time": "2024-05-11T11:38:25.087Z"
   },
   {
    "duration": 288,
    "start_time": "2024-05-11T11:42:31.039Z"
   },
   {
    "duration": 6,
    "start_time": "2024-05-11T11:43:12.927Z"
   },
   {
    "duration": 4,
    "start_time": "2024-05-11T11:43:15.258Z"
   },
   {
    "duration": 9,
    "start_time": "2024-05-11T11:43:19.555Z"
   },
   {
    "duration": 113,
    "start_time": "2024-05-11T11:54:25.485Z"
   },
   {
    "duration": 1086,
    "start_time": "2024-05-11T11:55:29.296Z"
   },
   {
    "duration": 196,
    "start_time": "2024-05-11T11:57:12.595Z"
   },
   {
    "duration": 210,
    "start_time": "2024-05-11T11:58:02.379Z"
   },
   {
    "duration": 217,
    "start_time": "2024-05-11T11:58:15.267Z"
   },
   {
    "duration": 324,
    "start_time": "2024-05-11T12:00:21.584Z"
   },
   {
    "duration": 220,
    "start_time": "2024-05-11T12:09:41.866Z"
   },
   {
    "duration": 239,
    "start_time": "2024-05-11T12:09:47.362Z"
   },
   {
    "duration": 12,
    "start_time": "2024-05-11T12:10:44.142Z"
   },
   {
    "duration": 218,
    "start_time": "2024-05-11T12:10:56.110Z"
   },
   {
    "duration": 234,
    "start_time": "2024-05-11T12:11:02.423Z"
   },
   {
    "duration": 11,
    "start_time": "2024-05-11T12:15:29.816Z"
   },
   {
    "duration": 6,
    "start_time": "2024-05-11T12:15:48.075Z"
   },
   {
    "duration": 226,
    "start_time": "2024-05-11T12:15:51.241Z"
   },
   {
    "duration": 6,
    "start_time": "2024-05-11T12:16:04.715Z"
   },
   {
    "duration": 234,
    "start_time": "2024-05-11T12:16:12.732Z"
   },
   {
    "duration": 6,
    "start_time": "2024-05-11T12:16:19.196Z"
   },
   {
    "duration": 237,
    "start_time": "2024-05-11T12:16:25.541Z"
   },
   {
    "duration": 5,
    "start_time": "2024-05-11T12:16:36.610Z"
   },
   {
    "duration": 211,
    "start_time": "2024-05-11T12:17:20.830Z"
   },
   {
    "duration": 5,
    "start_time": "2024-05-11T12:17:26.153Z"
   },
   {
    "duration": 298,
    "start_time": "2024-05-11T12:18:51.393Z"
   },
   {
    "duration": 13,
    "start_time": "2024-05-11T12:19:46.481Z"
   },
   {
    "duration": 158,
    "start_time": "2024-05-11T12:19:50.073Z"
   },
   {
    "duration": 116,
    "start_time": "2024-05-11T12:20:28.260Z"
   },
   {
    "duration": 234,
    "start_time": "2024-05-11T12:21:39.251Z"
   },
   {
    "duration": 281,
    "start_time": "2024-05-11T12:22:38.047Z"
   },
   {
    "duration": 460,
    "start_time": "2024-05-11T12:22:46.976Z"
   },
   {
    "duration": 415,
    "start_time": "2024-05-11T12:22:52.979Z"
   },
   {
    "duration": 265,
    "start_time": "2024-05-11T12:23:01.170Z"
   },
   {
    "duration": 158,
    "start_time": "2024-05-11T12:23:10.272Z"
   },
   {
    "duration": 421,
    "start_time": "2024-05-11T12:23:18.331Z"
   },
   {
    "duration": 303,
    "start_time": "2024-05-11T12:23:22.642Z"
   },
   {
    "duration": 242,
    "start_time": "2024-05-11T12:23:45.143Z"
   },
   {
    "duration": 228,
    "start_time": "2024-05-11T12:24:03.919Z"
   },
   {
    "duration": 220,
    "start_time": "2024-05-11T12:24:12.822Z"
   },
   {
    "duration": 386,
    "start_time": "2024-05-11T12:25:19.568Z"
   },
   {
    "duration": 0,
    "start_time": "2024-05-11T12:27:33.464Z"
   },
   {
    "duration": 0,
    "start_time": "2024-05-11T12:27:33.467Z"
   },
   {
    "duration": 0,
    "start_time": "2024-05-11T12:27:33.470Z"
   },
   {
    "duration": 221,
    "start_time": "2024-05-11T12:27:39.083Z"
   },
   {
    "duration": 223,
    "start_time": "2024-05-11T12:27:57.330Z"
   },
   {
    "duration": 414,
    "start_time": "2024-05-11T12:30:01.635Z"
   },
   {
    "duration": 240,
    "start_time": "2024-05-11T12:30:28.875Z"
   },
   {
    "duration": 384,
    "start_time": "2024-05-11T12:31:21.741Z"
   },
   {
    "duration": 10797,
    "start_time": "2024-05-11T12:31:31.291Z"
   },
   {
    "duration": 0,
    "start_time": "2024-05-11T12:33:04.437Z"
   },
   {
    "duration": 0,
    "start_time": "2024-05-11T12:33:04.438Z"
   },
   {
    "duration": 6,
    "start_time": "2024-05-11T12:33:07.633Z"
   },
   {
    "duration": 235,
    "start_time": "2024-05-11T12:33:08.501Z"
   },
   {
    "duration": 239,
    "start_time": "2024-05-11T12:34:30.428Z"
   },
   {
    "duration": 187,
    "start_time": "2024-05-11T12:35:08.898Z"
   },
   {
    "duration": 12,
    "start_time": "2024-05-11T12:35:54.843Z"
   },
   {
    "duration": 167,
    "start_time": "2024-05-11T12:35:56.192Z"
   },
   {
    "duration": 179,
    "start_time": "2024-05-11T12:42:50.863Z"
   },
   {
    "duration": 208,
    "start_time": "2024-05-11T12:43:14.606Z"
   },
   {
    "duration": 188,
    "start_time": "2024-05-11T12:43:31.032Z"
   },
   {
    "duration": 201,
    "start_time": "2024-05-11T12:43:35.619Z"
   },
   {
    "duration": 212,
    "start_time": "2024-05-11T12:43:49.508Z"
   },
   {
    "duration": 228,
    "start_time": "2024-05-11T12:45:14.228Z"
   },
   {
    "duration": 224,
    "start_time": "2024-05-11T12:45:40.549Z"
   },
   {
    "duration": 191,
    "start_time": "2024-05-11T12:45:59.166Z"
   },
   {
    "duration": 15,
    "start_time": "2024-05-11T12:48:12.033Z"
   },
   {
    "duration": 19,
    "start_time": "2024-05-11T12:49:36.855Z"
   },
   {
    "duration": 14,
    "start_time": "2024-05-11T12:49:54.372Z"
   },
   {
    "duration": 24,
    "start_time": "2024-05-11T12:50:16.381Z"
   },
   {
    "duration": 12,
    "start_time": "2024-05-11T12:50:21.867Z"
   },
   {
    "duration": 18,
    "start_time": "2024-05-11T12:50:37.524Z"
   },
   {
    "duration": 12,
    "start_time": "2024-05-11T12:50:42.846Z"
   },
   {
    "duration": 12,
    "start_time": "2024-05-11T12:50:50.300Z"
   },
   {
    "duration": 15,
    "start_time": "2024-05-11T12:51:40.284Z"
   },
   {
    "duration": 15,
    "start_time": "2024-05-11T12:52:21.874Z"
   },
   {
    "duration": 12,
    "start_time": "2024-05-11T12:52:52.619Z"
   },
   {
    "duration": 12,
    "start_time": "2024-05-11T12:53:13.692Z"
   },
   {
    "duration": 12,
    "start_time": "2024-05-11T12:53:34.780Z"
   },
   {
    "duration": 16,
    "start_time": "2024-05-11T12:53:42.625Z"
   },
   {
    "duration": 13,
    "start_time": "2024-05-11T12:54:40.815Z"
   },
   {
    "duration": 18,
    "start_time": "2024-05-11T12:55:09.264Z"
   },
   {
    "duration": 15,
    "start_time": "2024-05-11T12:55:20.604Z"
   },
   {
    "duration": 13,
    "start_time": "2024-05-11T12:55:48.652Z"
   },
   {
    "duration": 12,
    "start_time": "2024-05-11T12:56:00.175Z"
   },
   {
    "duration": 12,
    "start_time": "2024-05-11T12:56:08.875Z"
   },
   {
    "duration": 16,
    "start_time": "2024-05-11T12:56:55.894Z"
   },
   {
    "duration": 14,
    "start_time": "2024-05-11T12:58:04.208Z"
   },
   {
    "duration": 12,
    "start_time": "2024-05-11T12:58:41.688Z"
   },
   {
    "duration": 14,
    "start_time": "2024-05-11T13:00:24.326Z"
   },
   {
    "duration": 12,
    "start_time": "2024-05-11T13:01:44.561Z"
   },
   {
    "duration": 4,
    "start_time": "2024-05-11T13:01:47.664Z"
   },
   {
    "duration": 14,
    "start_time": "2024-05-11T13:02:54.296Z"
   },
   {
    "duration": 14,
    "start_time": "2024-05-11T13:05:40.225Z"
   },
   {
    "duration": 926,
    "start_time": "2024-05-11T13:06:25.988Z"
   },
   {
    "duration": 222,
    "start_time": "2024-05-11T13:06:36.363Z"
   },
   {
    "duration": 230,
    "start_time": "2024-05-11T13:06:53.332Z"
   },
   {
    "duration": 1215,
    "start_time": "2024-05-11T13:10:20.519Z"
   },
   {
    "duration": 1063,
    "start_time": "2024-05-11T13:10:36.697Z"
   },
   {
    "duration": 179,
    "start_time": "2024-05-11T13:10:54.174Z"
   },
   {
    "duration": 16,
    "start_time": "2024-05-11T13:11:26.853Z"
   },
   {
    "duration": 13,
    "start_time": "2024-05-11T13:11:33.210Z"
   },
   {
    "duration": 89,
    "start_time": "2024-05-11T13:11:57.448Z"
   },
   {
    "duration": 192,
    "start_time": "2024-05-11T13:12:02.457Z"
   },
   {
    "duration": 1052,
    "start_time": "2024-05-11T13:12:19.411Z"
   },
   {
    "duration": 156,
    "start_time": "2024-05-11T13:12:26.730Z"
   },
   {
    "duration": 201,
    "start_time": "2024-05-11T13:12:46.383Z"
   },
   {
    "duration": 14,
    "start_time": "2024-05-11T13:13:09.014Z"
   },
   {
    "duration": 189,
    "start_time": "2024-05-11T13:13:11.174Z"
   },
   {
    "duration": 11,
    "start_time": "2024-05-11T13:13:21.358Z"
   },
   {
    "duration": 182,
    "start_time": "2024-05-11T13:13:22.082Z"
   },
   {
    "duration": 32,
    "start_time": "2024-05-11T13:14:33.874Z"
   },
   {
    "duration": 4,
    "start_time": "2024-05-11T13:14:37.708Z"
   },
   {
    "duration": 1144,
    "start_time": "2024-05-11T13:15:09.275Z"
   },
   {
    "duration": 1189,
    "start_time": "2024-05-11T13:15:38.949Z"
   },
   {
    "duration": 10,
    "start_time": "2024-05-11T13:15:46.825Z"
   },
   {
    "duration": 9,
    "start_time": "2024-05-11T13:16:04.104Z"
   },
   {
    "duration": 31,
    "start_time": "2024-05-11T13:19:25.217Z"
   },
   {
    "duration": 34,
    "start_time": "2024-05-11T13:20:25.116Z"
   },
   {
    "duration": 26,
    "start_time": "2024-05-11T13:20:36.491Z"
   },
   {
    "duration": 40,
    "start_time": "2024-05-11T13:21:56.407Z"
   },
   {
    "duration": 32,
    "start_time": "2024-05-11T13:22:00.649Z"
   },
   {
    "duration": 27,
    "start_time": "2024-05-11T13:23:12.808Z"
   },
   {
    "duration": 28,
    "start_time": "2024-05-11T13:23:20.167Z"
   },
   {
    "duration": 36,
    "start_time": "2024-05-11T13:23:33.423Z"
   },
   {
    "duration": 38,
    "start_time": "2024-05-11T13:24:37.407Z"
   },
   {
    "duration": 29,
    "start_time": "2024-05-11T13:25:19.700Z"
   },
   {
    "duration": 33,
    "start_time": "2024-05-11T13:25:38.531Z"
   },
   {
    "duration": 316,
    "start_time": "2024-05-11T13:26:26.542Z"
   },
   {
    "duration": 33,
    "start_time": "2024-05-11T13:26:33.674Z"
   },
   {
    "duration": 46,
    "start_time": "2024-05-11T13:32:15.735Z"
   },
   {
    "duration": 3,
    "start_time": "2024-05-11T13:33:12.296Z"
   },
   {
    "duration": 29,
    "start_time": "2024-05-11T13:33:15.846Z"
   },
   {
    "duration": 3,
    "start_time": "2024-05-11T13:33:29.687Z"
   },
   {
    "duration": 32,
    "start_time": "2024-05-11T13:33:30.368Z"
   },
   {
    "duration": 3,
    "start_time": "2024-05-11T13:33:39.459Z"
   },
   {
    "duration": 32,
    "start_time": "2024-05-11T13:33:39.983Z"
   },
   {
    "duration": 3,
    "start_time": "2024-05-11T13:33:46.137Z"
   },
   {
    "duration": 29,
    "start_time": "2024-05-11T13:33:46.427Z"
   },
   {
    "duration": 3,
    "start_time": "2024-05-11T13:33:53.075Z"
   },
   {
    "duration": 40,
    "start_time": "2024-05-11T13:33:53.207Z"
   },
   {
    "duration": 10,
    "start_time": "2024-05-11T13:33:54.710Z"
   },
   {
    "duration": 3,
    "start_time": "2024-05-11T13:34:03.370Z"
   },
   {
    "duration": 28,
    "start_time": "2024-05-11T13:34:03.640Z"
   },
   {
    "duration": 3,
    "start_time": "2024-05-11T13:34:08.928Z"
   },
   {
    "duration": 78,
    "start_time": "2024-05-11T13:34:09.092Z"
   },
   {
    "duration": 3,
    "start_time": "2024-05-11T13:34:13.368Z"
   },
   {
    "duration": 34,
    "start_time": "2024-05-11T13:34:13.778Z"
   },
   {
    "duration": 3,
    "start_time": "2024-05-11T13:34:19.680Z"
   },
   {
    "duration": 56,
    "start_time": "2024-05-11T13:34:19.843Z"
   },
   {
    "duration": 3,
    "start_time": "2024-05-11T13:34:23.967Z"
   },
   {
    "duration": 60,
    "start_time": "2024-05-11T13:34:24.112Z"
   },
   {
    "duration": 3,
    "start_time": "2024-05-11T13:34:27.024Z"
   },
   {
    "duration": 26,
    "start_time": "2024-05-11T13:34:27.145Z"
   },
   {
    "duration": 28,
    "start_time": "2024-05-11T13:40:02.244Z"
   },
   {
    "duration": 8,
    "start_time": "2024-05-11T13:40:12.042Z"
   },
   {
    "duration": 15,
    "start_time": "2024-05-11T13:40:43.338Z"
   },
   {
    "duration": 13,
    "start_time": "2024-05-11T13:40:59.732Z"
   },
   {
    "duration": 11,
    "start_time": "2024-05-11T13:41:13.536Z"
   },
   {
    "duration": 12,
    "start_time": "2024-05-11T13:41:34.867Z"
   },
   {
    "duration": 2,
    "start_time": "2024-05-11T13:42:22.351Z"
   },
   {
    "duration": 12,
    "start_time": "2024-05-11T13:42:22.864Z"
   },
   {
    "duration": 5,
    "start_time": "2024-05-11T13:42:25.679Z"
   },
   {
    "duration": 257,
    "start_time": "2024-05-11T13:42:26.580Z"
   },
   {
    "duration": 12,
    "start_time": "2024-05-11T13:42:29.342Z"
   },
   {
    "duration": 6,
    "start_time": "2024-05-11T13:42:33.412Z"
   },
   {
    "duration": 222,
    "start_time": "2024-05-11T13:42:34.377Z"
   },
   {
    "duration": 17,
    "start_time": "2024-05-11T13:42:37.608Z"
   },
   {
    "duration": 6,
    "start_time": "2024-05-11T13:42:39.191Z"
   },
   {
    "duration": 235,
    "start_time": "2024-05-11T13:42:39.818Z"
   },
   {
    "duration": 13,
    "start_time": "2024-05-11T13:42:41.467Z"
   },
   {
    "duration": 155,
    "start_time": "2024-05-11T13:42:45.045Z"
   },
   {
    "duration": 13,
    "start_time": "2024-05-11T13:42:46.988Z"
   },
   {
    "duration": 12,
    "start_time": "2024-05-11T13:42:58.206Z"
   },
   {
    "duration": 16,
    "start_time": "2024-05-11T13:43:08.391Z"
   },
   {
    "duration": 13,
    "start_time": "2024-05-11T13:43:17.508Z"
   },
   {
    "duration": 193,
    "start_time": "2024-05-11T13:43:26.707Z"
   },
   {
    "duration": 13,
    "start_time": "2024-05-11T13:43:27.899Z"
   },
   {
    "duration": 12,
    "start_time": "2024-05-11T13:43:40.223Z"
   },
   {
    "duration": 173,
    "start_time": "2024-05-11T13:43:43.319Z"
   },
   {
    "duration": 12,
    "start_time": "2024-05-11T13:43:54.669Z"
   },
   {
    "duration": 168,
    "start_time": "2024-05-11T13:44:04.964Z"
   },
   {
    "duration": 15,
    "start_time": "2024-05-11T13:44:53.482Z"
   },
   {
    "duration": 13,
    "start_time": "2024-05-11T13:51:28.405Z"
   },
   {
    "duration": 193,
    "start_time": "2024-05-11T13:51:39.088Z"
   },
   {
    "duration": 12,
    "start_time": "2024-05-11T13:52:23.741Z"
   },
   {
    "duration": 175,
    "start_time": "2024-05-11T13:52:28.104Z"
   },
   {
    "duration": 12,
    "start_time": "2024-05-11T13:52:43.186Z"
   },
   {
    "duration": 170,
    "start_time": "2024-05-11T13:52:46.535Z"
   },
   {
    "duration": 11,
    "start_time": "2024-05-11T13:53:02.270Z"
   },
   {
    "duration": 164,
    "start_time": "2024-05-11T13:53:03.796Z"
   },
   {
    "duration": 12,
    "start_time": "2024-05-11T14:00:55.609Z"
   },
   {
    "duration": 239,
    "start_time": "2024-05-11T14:01:02.785Z"
   },
   {
    "duration": 14,
    "start_time": "2024-05-11T14:01:09.920Z"
   },
   {
    "duration": 5,
    "start_time": "2024-05-11T14:01:16.827Z"
   },
   {
    "duration": 217,
    "start_time": "2024-05-11T14:01:17.449Z"
   },
   {
    "duration": 13,
    "start_time": "2024-05-11T14:01:22.925Z"
   },
   {
    "duration": 13,
    "start_time": "2024-05-11T14:01:34.134Z"
   },
   {
    "duration": 28,
    "start_time": "2024-05-11T14:02:11.051Z"
   },
   {
    "duration": 29,
    "start_time": "2024-05-11T14:02:21.654Z"
   },
   {
    "duration": 27,
    "start_time": "2024-05-11T14:04:07.406Z"
   },
   {
    "duration": 9,
    "start_time": "2024-05-11T14:04:24.453Z"
   },
   {
    "duration": 16,
    "start_time": "2024-05-11T14:07:12.617Z"
   },
   {
    "duration": 23,
    "start_time": "2024-05-11T14:07:15.858Z"
   },
   {
    "duration": 211,
    "start_time": "2024-05-11T14:07:21.363Z"
   },
   {
    "duration": 10,
    "start_time": "2024-05-11T14:20:05.213Z"
   },
   {
    "duration": 8,
    "start_time": "2024-05-11T14:21:00.876Z"
   },
   {
    "duration": 210,
    "start_time": "2024-05-11T14:21:01.609Z"
   },
   {
    "duration": 8,
    "start_time": "2024-05-11T14:21:07.869Z"
   },
   {
    "duration": 696,
    "start_time": "2024-05-12T08:47:14.694Z"
   },
   {
    "duration": 116,
    "start_time": "2024-05-12T08:47:15.392Z"
   },
   {
    "duration": 40,
    "start_time": "2024-05-12T08:47:15.510Z"
   },
   {
    "duration": 16,
    "start_time": "2024-05-12T08:47:15.552Z"
   },
   {
    "duration": 10,
    "start_time": "2024-05-12T08:47:15.570Z"
   },
   {
    "duration": 123,
    "start_time": "2024-05-12T08:47:15.582Z"
   },
   {
    "duration": 5416,
    "start_time": "2024-05-12T08:47:15.707Z"
   },
   {
    "duration": 59,
    "start_time": "2024-05-12T08:47:21.128Z"
   },
   {
    "duration": 11,
    "start_time": "2024-05-12T08:47:21.189Z"
   },
   {
    "duration": 45,
    "start_time": "2024-05-12T08:47:21.202Z"
   },
   {
    "duration": 13,
    "start_time": "2024-05-12T08:47:21.248Z"
   },
   {
    "duration": 15,
    "start_time": "2024-05-12T08:47:21.263Z"
   },
   {
    "duration": 10,
    "start_time": "2024-05-12T08:47:21.279Z"
   },
   {
    "duration": 13,
    "start_time": "2024-05-12T08:47:21.292Z"
   },
   {
    "duration": 17,
    "start_time": "2024-05-12T08:47:21.307Z"
   },
   {
    "duration": 26,
    "start_time": "2024-05-12T08:47:21.325Z"
   },
   {
    "duration": 14,
    "start_time": "2024-05-12T08:47:21.352Z"
   },
   {
    "duration": 18,
    "start_time": "2024-05-12T08:47:21.368Z"
   },
   {
    "duration": 11,
    "start_time": "2024-05-12T08:47:21.388Z"
   },
   {
    "duration": 17,
    "start_time": "2024-05-12T08:47:21.400Z"
   },
   {
    "duration": 31,
    "start_time": "2024-05-12T08:47:21.418Z"
   },
   {
    "duration": 32,
    "start_time": "2024-05-12T08:47:21.450Z"
   },
   {
    "duration": 7,
    "start_time": "2024-05-12T08:47:21.484Z"
   },
   {
    "duration": 24,
    "start_time": "2024-05-12T08:47:21.493Z"
   },
   {
    "duration": 8,
    "start_time": "2024-05-12T08:47:21.519Z"
   },
   {
    "duration": 4,
    "start_time": "2024-05-12T08:47:21.529Z"
   },
   {
    "duration": 18,
    "start_time": "2024-05-12T08:47:21.535Z"
   },
   {
    "duration": 8,
    "start_time": "2024-05-12T08:47:21.554Z"
   },
   {
    "duration": 27,
    "start_time": "2024-05-12T08:47:21.564Z"
   },
   {
    "duration": 48,
    "start_time": "2024-05-12T08:47:21.593Z"
   },
   {
    "duration": 26,
    "start_time": "2024-05-12T08:47:21.642Z"
   },
   {
    "duration": 8,
    "start_time": "2024-05-12T08:47:21.670Z"
   },
   {
    "duration": 276,
    "start_time": "2024-05-12T08:47:21.680Z"
   },
   {
    "duration": 6,
    "start_time": "2024-05-12T08:47:21.958Z"
   },
   {
    "duration": 25,
    "start_time": "2024-05-12T08:47:21.966Z"
   },
   {
    "duration": 27,
    "start_time": "2024-05-12T08:47:21.993Z"
   },
   {
    "duration": 36,
    "start_time": "2024-05-12T08:47:22.022Z"
   },
   {
    "duration": 29,
    "start_time": "2024-05-12T08:47:22.060Z"
   },
   {
    "duration": 64,
    "start_time": "2024-05-12T08:47:22.091Z"
   },
   {
    "duration": 21,
    "start_time": "2024-05-12T08:47:22.157Z"
   },
   {
    "duration": 376,
    "start_time": "2024-05-12T08:47:22.184Z"
   },
   {
    "duration": 6,
    "start_time": "2024-05-12T08:47:22.562Z"
   },
   {
    "duration": 20,
    "start_time": "2024-05-12T08:47:22.570Z"
   },
   {
    "duration": 27,
    "start_time": "2024-05-12T08:47:22.592Z"
   },
   {
    "duration": 42,
    "start_time": "2024-05-12T08:47:22.621Z"
   },
   {
    "duration": 295,
    "start_time": "2024-05-12T08:47:22.665Z"
   },
   {
    "duration": 10,
    "start_time": "2024-05-12T08:47:22.962Z"
   },
   {
    "duration": 9,
    "start_time": "2024-05-12T08:47:22.973Z"
   },
   {
    "duration": 315,
    "start_time": "2024-05-12T08:47:22.984Z"
   },
   {
    "duration": 10,
    "start_time": "2024-05-12T08:47:23.300Z"
   },
   {
    "duration": 664,
    "start_time": "2024-05-12T08:47:23.311Z"
   },
   {
    "duration": 9,
    "start_time": "2024-05-12T08:47:23.977Z"
   },
   {
    "duration": 378,
    "start_time": "2024-05-12T08:47:23.988Z"
   },
   {
    "duration": 8,
    "start_time": "2024-05-12T08:47:24.368Z"
   },
   {
    "duration": 224,
    "start_time": "2024-05-12T08:47:24.377Z"
   },
   {
    "duration": 8,
    "start_time": "2024-05-12T08:47:24.603Z"
   },
   {
    "duration": 269,
    "start_time": "2024-05-12T08:47:24.613Z"
   },
   {
    "duration": 160,
    "start_time": "2024-05-12T08:47:24.884Z"
   },
   {
    "duration": 8,
    "start_time": "2024-05-12T08:47:25.046Z"
   },
   {
    "duration": 301,
    "start_time": "2024-05-12T08:47:25.056Z"
   },
   {
    "duration": 11,
    "start_time": "2024-05-12T08:47:25.359Z"
   },
   {
    "duration": 9,
    "start_time": "2024-05-12T08:47:25.372Z"
   },
   {
    "duration": 285,
    "start_time": "2024-05-12T08:47:25.383Z"
   },
   {
    "duration": 6,
    "start_time": "2024-05-12T08:47:25.670Z"
   },
   {
    "duration": 25,
    "start_time": "2024-05-12T08:47:25.678Z"
   },
   {
    "duration": 390,
    "start_time": "2024-05-12T08:47:25.705Z"
   },
   {
    "duration": 7,
    "start_time": "2024-05-12T08:47:26.097Z"
   },
   {
    "duration": 30,
    "start_time": "2024-05-12T08:47:26.106Z"
   },
   {
    "duration": 274,
    "start_time": "2024-05-12T08:47:26.138Z"
   },
   {
    "duration": 18,
    "start_time": "2024-05-12T08:47:26.414Z"
   },
   {
    "duration": 3,
    "start_time": "2024-05-12T08:47:26.434Z"
   },
   {
    "duration": 9,
    "start_time": "2024-05-12T08:47:26.439Z"
   },
   {
    "duration": 12,
    "start_time": "2024-05-12T08:47:26.450Z"
   },
   {
    "duration": 5,
    "start_time": "2024-05-12T08:47:26.464Z"
   },
   {
    "duration": 253,
    "start_time": "2024-05-12T08:47:26.471Z"
   },
   {
    "duration": 3,
    "start_time": "2024-05-12T08:47:26.726Z"
   },
   {
    "duration": 13,
    "start_time": "2024-05-12T08:47:26.731Z"
   },
   {
    "duration": 5,
    "start_time": "2024-05-12T08:47:26.746Z"
   },
   {
    "duration": 269,
    "start_time": "2024-05-12T08:47:26.753Z"
   },
   {
    "duration": 13,
    "start_time": "2024-05-12T08:47:27.029Z"
   },
   {
    "duration": 6,
    "start_time": "2024-05-12T08:47:27.043Z"
   },
   {
    "duration": 253,
    "start_time": "2024-05-12T08:47:27.051Z"
   },
   {
    "duration": 12,
    "start_time": "2024-05-12T08:47:27.306Z"
   },
   {
    "duration": 12,
    "start_time": "2024-05-12T08:47:27.328Z"
   },
   {
    "duration": 270,
    "start_time": "2024-05-12T08:47:27.342Z"
   },
   {
    "duration": 19,
    "start_time": "2024-05-12T08:47:27.614Z"
   },
   {
    "duration": 179,
    "start_time": "2024-05-12T08:47:27.635Z"
   },
   {
    "duration": 20,
    "start_time": "2024-05-12T08:47:27.816Z"
   },
   {
    "duration": 201,
    "start_time": "2024-05-12T08:47:27.837Z"
   },
   {
    "duration": 12,
    "start_time": "2024-05-12T08:47:28.040Z"
   },
   {
    "duration": 209,
    "start_time": "2024-05-12T08:47:28.053Z"
   },
   {
    "duration": 11,
    "start_time": "2024-05-12T08:47:28.264Z"
   },
   {
    "duration": 201,
    "start_time": "2024-05-12T08:47:28.277Z"
   },
   {
    "duration": 31,
    "start_time": "2024-05-12T08:47:28.480Z"
   },
   {
    "duration": 23,
    "start_time": "2024-05-12T08:47:28.513Z"
   },
   {
    "duration": 12,
    "start_time": "2024-05-12T08:47:28.538Z"
   },
   {
    "duration": 109,
    "start_time": "2024-05-12T08:47:28.552Z"
   },
   {
    "duration": 28,
    "start_time": "2024-05-12T08:47:28.662Z"
   },
   {
    "duration": 227,
    "start_time": "2024-05-12T08:47:28.692Z"
   },
   {
    "duration": 748,
    "start_time": "2024-05-12T09:06:47.835Z"
   },
   {
    "duration": 123,
    "start_time": "2024-05-12T09:06:48.585Z"
   },
   {
    "duration": 48,
    "start_time": "2024-05-12T09:06:48.710Z"
   },
   {
    "duration": 42,
    "start_time": "2024-05-12T09:06:48.760Z"
   },
   {
    "duration": 40,
    "start_time": "2024-05-12T09:06:48.804Z"
   },
   {
    "duration": 116,
    "start_time": "2024-05-12T09:06:48.846Z"
   },
   {
    "duration": 5738,
    "start_time": "2024-05-12T09:06:48.964Z"
   },
   {
    "duration": 72,
    "start_time": "2024-05-12T09:06:54.704Z"
   },
   {
    "duration": 13,
    "start_time": "2024-05-12T09:06:54.778Z"
   },
   {
    "duration": 61,
    "start_time": "2024-05-12T09:06:54.793Z"
   },
   {
    "duration": 28,
    "start_time": "2024-05-12T09:06:54.857Z"
   },
   {
    "duration": 27,
    "start_time": "2024-05-12T09:06:54.887Z"
   },
   {
    "duration": 21,
    "start_time": "2024-05-12T09:06:54.917Z"
   },
   {
    "duration": 12,
    "start_time": "2024-05-12T09:06:54.946Z"
   },
   {
    "duration": 17,
    "start_time": "2024-05-12T09:06:54.960Z"
   },
   {
    "duration": 31,
    "start_time": "2024-05-12T09:06:54.979Z"
   },
   {
    "duration": 29,
    "start_time": "2024-05-12T09:06:55.012Z"
   },
   {
    "duration": 9,
    "start_time": "2024-05-12T09:06:55.045Z"
   },
   {
    "duration": 24,
    "start_time": "2024-05-12T09:06:55.056Z"
   },
   {
    "duration": 36,
    "start_time": "2024-05-12T09:06:55.082Z"
   },
   {
    "duration": 35,
    "start_time": "2024-05-12T09:06:55.120Z"
   },
   {
    "duration": 15,
    "start_time": "2024-05-12T09:06:55.157Z"
   },
   {
    "duration": 15,
    "start_time": "2024-05-12T09:06:55.174Z"
   },
   {
    "duration": 14,
    "start_time": "2024-05-12T09:06:55.191Z"
   },
   {
    "duration": 12,
    "start_time": "2024-05-12T09:06:55.207Z"
   },
   {
    "duration": 22,
    "start_time": "2024-05-12T09:06:55.220Z"
   },
   {
    "duration": 17,
    "start_time": "2024-05-12T09:06:55.244Z"
   },
   {
    "duration": 17,
    "start_time": "2024-05-12T09:06:55.265Z"
   },
   {
    "duration": 22,
    "start_time": "2024-05-12T09:06:55.284Z"
   },
   {
    "duration": 37,
    "start_time": "2024-05-12T09:06:55.308Z"
   },
   {
    "duration": 42,
    "start_time": "2024-05-12T09:06:55.347Z"
   },
   {
    "duration": 18,
    "start_time": "2024-05-12T09:06:55.391Z"
   },
   {
    "duration": 302,
    "start_time": "2024-05-12T09:06:55.411Z"
   },
   {
    "duration": 5,
    "start_time": "2024-05-12T09:06:55.715Z"
   },
   {
    "duration": 65,
    "start_time": "2024-05-12T09:06:55.722Z"
   },
   {
    "duration": 16,
    "start_time": "2024-05-12T09:06:55.788Z"
   },
   {
    "duration": 7,
    "start_time": "2024-05-12T09:06:55.805Z"
   },
   {
    "duration": 15,
    "start_time": "2024-05-12T09:06:55.813Z"
   },
   {
    "duration": 8,
    "start_time": "2024-05-12T09:06:55.836Z"
   },
   {
    "duration": 7,
    "start_time": "2024-05-12T09:06:55.846Z"
   },
   {
    "duration": 400,
    "start_time": "2024-05-12T09:06:55.858Z"
   },
   {
    "duration": 6,
    "start_time": "2024-05-12T09:06:56.260Z"
   },
   {
    "duration": 12,
    "start_time": "2024-05-12T09:06:56.268Z"
   },
   {
    "duration": 9,
    "start_time": "2024-05-12T09:06:56.282Z"
   },
   {
    "duration": 34,
    "start_time": "2024-05-12T09:06:56.292Z"
   },
   {
    "duration": 335,
    "start_time": "2024-05-12T09:06:56.337Z"
   },
   {
    "duration": 9,
    "start_time": "2024-05-12T09:06:56.674Z"
   },
   {
    "duration": 9,
    "start_time": "2024-05-12T09:06:56.685Z"
   },
   {
    "duration": 349,
    "start_time": "2024-05-12T09:06:56.695Z"
   },
   {
    "duration": 10,
    "start_time": "2024-05-12T09:06:57.047Z"
   },
   {
    "duration": 714,
    "start_time": "2024-05-12T09:06:57.060Z"
   },
   {
    "duration": 10,
    "start_time": "2024-05-12T09:06:57.776Z"
   },
   {
    "duration": 398,
    "start_time": "2024-05-12T09:06:57.788Z"
   },
   {
    "duration": 9,
    "start_time": "2024-05-12T09:06:58.188Z"
   },
   {
    "duration": 256,
    "start_time": "2024-05-12T09:06:58.198Z"
   },
   {
    "duration": 9,
    "start_time": "2024-05-12T09:06:58.456Z"
   },
   {
    "duration": 285,
    "start_time": "2024-05-12T09:06:58.467Z"
   },
   {
    "duration": 306,
    "start_time": "2024-05-12T09:06:58.754Z"
   },
   {
    "duration": 8,
    "start_time": "2024-05-12T09:06:59.062Z"
   },
   {
    "duration": 392,
    "start_time": "2024-05-12T09:06:59.072Z"
   },
   {
    "duration": 12,
    "start_time": "2024-05-12T09:06:59.466Z"
   },
   {
    "duration": 22,
    "start_time": "2024-05-12T09:06:59.480Z"
   },
   {
    "duration": 290,
    "start_time": "2024-05-12T09:06:59.504Z"
   },
   {
    "duration": 7,
    "start_time": "2024-05-12T09:06:59.796Z"
   },
   {
    "duration": 32,
    "start_time": "2024-05-12T09:06:59.805Z"
   },
   {
    "duration": 422,
    "start_time": "2024-05-12T09:06:59.844Z"
   },
   {
    "duration": 7,
    "start_time": "2024-05-12T09:07:00.268Z"
   },
   {
    "duration": 74,
    "start_time": "2024-05-12T09:07:00.277Z"
   },
   {
    "duration": 322,
    "start_time": "2024-05-12T09:07:00.353Z"
   },
   {
    "duration": 12,
    "start_time": "2024-05-12T09:07:00.677Z"
   },
   {
    "duration": 24,
    "start_time": "2024-05-12T09:07:00.691Z"
   },
   {
    "duration": 30,
    "start_time": "2024-05-12T09:07:00.717Z"
   },
   {
    "duration": 34,
    "start_time": "2024-05-12T09:07:00.751Z"
   },
   {
    "duration": 26,
    "start_time": "2024-05-12T09:07:00.787Z"
   },
   {
    "duration": 276,
    "start_time": "2024-05-12T09:07:00.815Z"
   },
   {
    "duration": 3,
    "start_time": "2024-05-12T09:07:01.093Z"
   },
   {
    "duration": 70,
    "start_time": "2024-05-12T09:07:01.098Z"
   },
   {
    "duration": 72,
    "start_time": "2024-05-12T09:07:01.169Z"
   },
   {
    "duration": 307,
    "start_time": "2024-05-12T09:07:01.243Z"
   },
   {
    "duration": 13,
    "start_time": "2024-05-12T09:07:01.553Z"
   },
   {
    "duration": 83,
    "start_time": "2024-05-12T09:07:01.568Z"
   },
   {
    "duration": 288,
    "start_time": "2024-05-12T09:07:01.652Z"
   },
   {
    "duration": 12,
    "start_time": "2024-05-12T09:07:01.942Z"
   },
   {
    "duration": 48,
    "start_time": "2024-05-12T09:07:01.956Z"
   },
   {
    "duration": 305,
    "start_time": "2024-05-12T09:07:02.006Z"
   },
   {
    "duration": 25,
    "start_time": "2024-05-12T09:07:02.313Z"
   },
   {
    "duration": 228,
    "start_time": "2024-05-12T09:07:02.340Z"
   },
   {
    "duration": 13,
    "start_time": "2024-05-12T09:07:02.570Z"
   },
   {
    "duration": 236,
    "start_time": "2024-05-12T09:07:02.584Z"
   },
   {
    "duration": 19,
    "start_time": "2024-05-12T09:07:02.822Z"
   },
   {
    "duration": 269,
    "start_time": "2024-05-12T09:07:02.843Z"
   },
   {
    "duration": 19,
    "start_time": "2024-05-12T09:07:03.117Z"
   },
   {
    "duration": 224,
    "start_time": "2024-05-12T09:07:03.139Z"
   },
   {
    "duration": 33,
    "start_time": "2024-05-12T09:07:03.365Z"
   },
   {
    "duration": 10,
    "start_time": "2024-05-12T09:07:03.400Z"
   },
   {
    "duration": 14,
    "start_time": "2024-05-12T09:07:03.431Z"
   },
   {
    "duration": 139,
    "start_time": "2024-05-12T09:07:03.448Z"
   },
   {
    "duration": 23,
    "start_time": "2024-05-12T09:07:03.589Z"
   },
   {
    "duration": 236,
    "start_time": "2024-05-12T09:07:03.614Z"
   },
   {
    "duration": 856,
    "start_time": "2024-05-13T04:13:31.735Z"
   },
   {
    "duration": 229,
    "start_time": "2024-05-13T04:13:33.061Z"
   },
   {
    "duration": 37,
    "start_time": "2024-05-13T04:13:35.509Z"
   },
   {
    "duration": 17,
    "start_time": "2024-05-13T04:13:36.865Z"
   },
   {
    "duration": 10,
    "start_time": "2024-05-13T04:13:41.941Z"
   },
   {
    "duration": 114,
    "start_time": "2024-05-13T04:14:35.426Z"
   },
   {
    "duration": 5267,
    "start_time": "2024-05-13T04:14:36.701Z"
   },
   {
    "duration": 58,
    "start_time": "2024-05-13T04:15:15.167Z"
   },
   {
    "duration": 12,
    "start_time": "2024-05-13T04:15:21.777Z"
   },
   {
    "duration": 27,
    "start_time": "2024-05-13T04:15:27.209Z"
   },
   {
    "duration": 5,
    "start_time": "2024-05-13T04:15:32.523Z"
   },
   {
    "duration": 6,
    "start_time": "2024-05-13T04:17:06.516Z"
   },
   {
    "duration": 4,
    "start_time": "2024-05-13T04:17:07.115Z"
   },
   {
    "duration": 49,
    "start_time": "2024-05-13T04:17:07.993Z"
   },
   {
    "duration": 4,
    "start_time": "2024-05-13T04:17:16.290Z"
   },
   {
    "duration": 86,
    "start_time": "2024-05-13T17:35:17.280Z"
   },
   {
    "duration": 73,
    "start_time": "2024-05-13T17:35:27.893Z"
   },
   {
    "duration": 74,
    "start_time": "2024-05-13T17:35:43.085Z"
   },
   {
    "duration": 901,
    "start_time": "2024-05-13T17:51:46.086Z"
   },
   {
    "duration": 307,
    "start_time": "2024-05-13T17:51:47.229Z"
   },
   {
    "duration": 37,
    "start_time": "2024-05-13T17:51:47.804Z"
   },
   {
    "duration": 23,
    "start_time": "2024-05-13T17:51:48.321Z"
   },
   {
    "duration": 10,
    "start_time": "2024-05-13T17:51:48.849Z"
   },
   {
    "duration": 106,
    "start_time": "2024-05-13T17:51:49.507Z"
   },
   {
    "duration": 5334,
    "start_time": "2024-05-13T17:51:50.314Z"
   },
   {
    "duration": 63,
    "start_time": "2024-05-13T17:51:55.650Z"
   },
   {
    "duration": 14,
    "start_time": "2024-05-13T17:51:57.553Z"
   },
   {
    "duration": 30,
    "start_time": "2024-05-13T17:51:58.148Z"
   },
   {
    "duration": 7,
    "start_time": "2024-05-13T17:51:58.864Z"
   },
   {
    "duration": 5,
    "start_time": "2024-05-13T17:52:00.985Z"
   },
   {
    "duration": 6,
    "start_time": "2024-05-13T17:52:01.983Z"
   },
   {
    "duration": 106,
    "start_time": "2024-05-13T17:52:02.685Z"
   },
   {
    "duration": 86,
    "start_time": "2024-05-13T17:52:35.117Z"
   },
   {
    "duration": 6,
    "start_time": "2024-05-13T17:52:46.190Z"
   },
   {
    "duration": 74,
    "start_time": "2024-05-13T17:56:12.840Z"
   },
   {
    "duration": 5,
    "start_time": "2024-05-13T17:58:45.389Z"
   },
   {
    "duration": 91,
    "start_time": "2024-05-13T17:59:42.273Z"
   },
   {
    "duration": 7,
    "start_time": "2024-05-13T17:59:48.270Z"
   },
   {
    "duration": 6,
    "start_time": "2024-05-13T18:02:41.114Z"
   },
   {
    "duration": 5,
    "start_time": "2024-05-13T18:02:43.507Z"
   },
   {
    "duration": 12,
    "start_time": "2024-05-13T18:02:44.818Z"
   },
   {
    "duration": 4,
    "start_time": "2024-05-13T18:02:45.364Z"
   },
   {
    "duration": 5,
    "start_time": "2024-05-13T18:02:45.942Z"
   },
   {
    "duration": 6,
    "start_time": "2024-05-13T18:02:47.937Z"
   },
   {
    "duration": 8,
    "start_time": "2024-05-13T18:02:48.419Z"
   },
   {
    "duration": 5,
    "start_time": "2024-05-13T18:02:50.147Z"
   },
   {
    "duration": 5,
    "start_time": "2024-05-13T18:02:52.131Z"
   },
   {
    "duration": 5,
    "start_time": "2024-05-13T18:02:52.628Z"
   },
   {
    "duration": 4,
    "start_time": "2024-05-13T18:02:53.099Z"
   },
   {
    "duration": 5,
    "start_time": "2024-05-13T18:02:53.521Z"
   },
   {
    "duration": 5,
    "start_time": "2024-05-13T18:02:54.028Z"
   },
   {
    "duration": 5,
    "start_time": "2024-05-13T18:02:54.826Z"
   },
   {
    "duration": 5,
    "start_time": "2024-05-13T18:02:55.331Z"
   },
   {
    "duration": 23,
    "start_time": "2024-05-13T18:02:55.955Z"
   },
   {
    "duration": 7,
    "start_time": "2024-05-13T18:02:58.606Z"
   },
   {
    "duration": 5,
    "start_time": "2024-05-13T18:02:59.312Z"
   },
   {
    "duration": 301,
    "start_time": "2024-05-13T18:02:59.982Z"
   },
   {
    "duration": 10,
    "start_time": "2024-05-13T18:03:04.064Z"
   },
   {
    "duration": 4,
    "start_time": "2024-05-13T18:03:07.941Z"
   },
   {
    "duration": 4,
    "start_time": "2024-05-13T18:03:08.460Z"
   },
   {
    "duration": 6,
    "start_time": "2024-05-13T18:03:08.921Z"
   },
   {
    "duration": 5,
    "start_time": "2024-05-13T18:03:09.449Z"
   },
   {
    "duration": 7,
    "start_time": "2024-05-13T18:03:10.012Z"
   },
   {
    "duration": 360,
    "start_time": "2024-05-13T18:03:10.928Z"
   },
   {
    "duration": 6,
    "start_time": "2024-05-13T18:03:11.521Z"
   },
   {
    "duration": 6,
    "start_time": "2024-05-13T18:03:12.135Z"
   },
   {
    "duration": 5,
    "start_time": "2024-05-13T18:03:12.853Z"
   },
   {
    "duration": 22,
    "start_time": "2024-05-13T18:03:13.595Z"
   },
   {
    "duration": 313,
    "start_time": "2024-05-13T18:03:20.271Z"
   },
   {
    "duration": 8,
    "start_time": "2024-05-13T18:03:34.903Z"
   },
   {
    "duration": 12,
    "start_time": "2024-05-13T18:03:47.433Z"
   },
   {
    "duration": 273,
    "start_time": "2024-05-13T18:03:52.942Z"
   },
   {
    "duration": 5,
    "start_time": "2024-05-13T18:06:02.908Z"
   },
   {
    "duration": 8,
    "start_time": "2024-05-13T18:07:03.409Z"
   },
   {
    "duration": 5,
    "start_time": "2024-05-13T18:07:04.234Z"
   },
   {
    "duration": 3,
    "start_time": "2024-05-13T18:07:15.028Z"
   },
   {
    "duration": 7,
    "start_time": "2024-05-13T18:07:15.522Z"
   },
   {
    "duration": 6,
    "start_time": "2024-05-13T18:07:19.312Z"
   },
   {
    "duration": 5,
    "start_time": "2024-05-13T18:07:19.895Z"
   },
   {
    "duration": 11,
    "start_time": "2024-05-13T18:07:21.341Z"
   },
   {
    "duration": 4,
    "start_time": "2024-05-13T18:07:21.914Z"
   },
   {
    "duration": 3,
    "start_time": "2024-05-13T18:07:22.421Z"
   },
   {
    "duration": 4,
    "start_time": "2024-05-13T18:07:23.958Z"
   },
   {
    "duration": 217,
    "start_time": "2024-05-13T18:07:24.449Z"
   },
   {
    "duration": 4,
    "start_time": "2024-05-13T18:07:25.758Z"
   },
   {
    "duration": 15,
    "start_time": "2024-05-13T18:07:27.520Z"
   },
   {
    "duration": 3,
    "start_time": "2024-05-13T18:07:28.027Z"
   },
   {
    "duration": 4,
    "start_time": "2024-05-13T18:07:28.494Z"
   },
   {
    "duration": 4,
    "start_time": "2024-05-13T18:07:28.995Z"
   },
   {
    "duration": 3,
    "start_time": "2024-05-13T18:07:29.501Z"
   },
   {
    "duration": 4,
    "start_time": "2024-05-13T18:07:30.213Z"
   },
   {
    "duration": 4,
    "start_time": "2024-05-13T18:07:30.702Z"
   },
   {
    "duration": 21,
    "start_time": "2024-05-13T18:07:31.302Z"
   },
   {
    "duration": 7,
    "start_time": "2024-05-13T18:07:33.320Z"
   },
   {
    "duration": 13,
    "start_time": "2024-05-13T18:07:33.969Z"
   },
   {
    "duration": 301,
    "start_time": "2024-05-13T18:07:34.666Z"
   },
   {
    "duration": 6,
    "start_time": "2024-05-13T18:07:35.938Z"
   },
   {
    "duration": 11,
    "start_time": "2024-05-13T18:07:36.923Z"
   },
   {
    "duration": 6,
    "start_time": "2024-05-13T18:07:39.452Z"
   },
   {
    "duration": 4,
    "start_time": "2024-05-13T18:07:40.130Z"
   },
   {
    "duration": 5,
    "start_time": "2024-05-13T18:07:40.709Z"
   },
   {
    "duration": 7,
    "start_time": "2024-05-13T18:07:41.310Z"
   },
   {
    "duration": 17,
    "start_time": "2024-05-13T18:07:41.977Z"
   },
   {
    "duration": 385,
    "start_time": "2024-05-13T18:07:42.559Z"
   },
   {
    "duration": 6,
    "start_time": "2024-05-13T18:07:43.103Z"
   },
   {
    "duration": 8,
    "start_time": "2024-05-13T18:07:43.709Z"
   },
   {
    "duration": 8,
    "start_time": "2024-05-13T18:07:44.375Z"
   },
   {
    "duration": 23,
    "start_time": "2024-05-13T18:07:44.889Z"
   },
   {
    "duration": 318,
    "start_time": "2024-05-13T18:07:48.148Z"
   },
   {
    "duration": 9,
    "start_time": "2024-05-13T18:07:50.246Z"
   },
   {
    "duration": 11,
    "start_time": "2024-05-13T18:07:52.387Z"
   },
   {
    "duration": 306,
    "start_time": "2024-05-13T18:08:11.226Z"
   },
   {
    "duration": 345,
    "start_time": "2024-05-13T18:09:50.948Z"
   },
   {
    "duration": 217,
    "start_time": "2024-05-13T18:10:04.442Z"
   },
   {
    "duration": 9,
    "start_time": "2024-05-13T18:10:24.933Z"
   },
   {
    "duration": 522,
    "start_time": "2024-05-13T18:10:29.679Z"
   },
   {
    "duration": 3,
    "start_time": "2024-05-13T18:11:36.929Z"
   },
   {
    "duration": 9,
    "start_time": "2024-05-13T18:11:37.536Z"
   },
   {
    "duration": 369,
    "start_time": "2024-05-13T18:11:42.346Z"
   },
   {
    "duration": 3,
    "start_time": "2024-05-13T18:12:09.397Z"
   },
   {
    "duration": 9,
    "start_time": "2024-05-13T18:12:10.003Z"
   },
   {
    "duration": 15,
    "start_time": "2024-05-13T18:12:15.772Z"
   },
   {
    "duration": 3,
    "start_time": "2024-05-13T18:12:16.365Z"
   },
   {
    "duration": 9,
    "start_time": "2024-05-13T18:12:16.848Z"
   },
   {
    "duration": 10,
    "start_time": "2024-05-13T18:12:28.385Z"
   },
   {
    "duration": 8,
    "start_time": "2024-05-13T18:12:28.928Z"
   },
   {
    "duration": 346,
    "start_time": "2024-05-13T18:12:36.586Z"
   },
   {
    "duration": 13,
    "start_time": "2024-05-13T18:13:51.149Z"
   },
   {
    "duration": 12,
    "start_time": "2024-05-13T18:14:10.918Z"
   },
   {
    "duration": 13,
    "start_time": "2024-05-13T18:14:16.271Z"
   },
   {
    "duration": 281,
    "start_time": "2024-05-13T18:14:19.683Z"
   },
   {
    "duration": 12,
    "start_time": "2024-05-13T18:14:37.233Z"
   },
   {
    "duration": 5,
    "start_time": "2024-05-13T18:14:40.806Z"
   },
   {
    "duration": 244,
    "start_time": "2024-05-13T18:14:43.903Z"
   },
   {
    "duration": 14,
    "start_time": "2024-05-13T18:14:59.018Z"
   },
   {
    "duration": 42,
    "start_time": "2024-05-13T18:17:18.210Z"
   },
   {
    "duration": 235,
    "start_time": "2024-05-13T18:30:41.693Z"
   },
   {
    "duration": 235,
    "start_time": "2024-05-13T18:33:13.845Z"
   },
   {
    "duration": 249,
    "start_time": "2024-05-13T18:33:22.254Z"
   },
   {
    "duration": 249,
    "start_time": "2024-05-13T18:34:57.213Z"
   },
   {
    "duration": 79,
    "start_time": "2024-05-13T18:35:27.726Z"
   },
   {
    "duration": 264,
    "start_time": "2024-05-13T18:35:34.613Z"
   },
   {
    "duration": 187,
    "start_time": "2024-05-13T18:36:02.557Z"
   },
   {
    "duration": 225,
    "start_time": "2024-05-13T18:36:19.167Z"
   },
   {
    "duration": 190,
    "start_time": "2024-05-13T18:36:37.824Z"
   },
   {
    "duration": 202,
    "start_time": "2024-05-13T18:42:20.617Z"
   },
   {
    "duration": 182,
    "start_time": "2024-05-13T18:44:42.517Z"
   },
   {
    "duration": 410,
    "start_time": "2024-05-13T18:45:12.210Z"
   },
   {
    "duration": 94,
    "start_time": "2024-05-13T18:45:37.329Z"
   },
   {
    "duration": 390,
    "start_time": "2024-05-13T18:45:43.541Z"
   },
   {
    "duration": 12,
    "start_time": "2024-05-13T18:46:04.007Z"
   },
   {
    "duration": 10,
    "start_time": "2024-05-13T18:46:20.627Z"
   },
   {
    "duration": 103,
    "start_time": "2024-05-13T18:46:21.194Z"
   },
   {
    "duration": 7501,
    "start_time": "2024-05-13T18:46:21.888Z"
   },
   {
    "duration": 20,
    "start_time": "2024-05-13T18:46:29.391Z"
   },
   {
    "duration": 12,
    "start_time": "2024-05-13T18:46:29.412Z"
   },
   {
    "duration": 20,
    "start_time": "2024-05-13T18:46:29.895Z"
   },
   {
    "duration": 4,
    "start_time": "2024-05-13T18:46:49.811Z"
   },
   {
    "duration": 5,
    "start_time": "2024-05-13T18:46:54.391Z"
   },
   {
    "duration": 4,
    "start_time": "2024-05-13T18:46:55.228Z"
   },
   {
    "duration": 4,
    "start_time": "2024-05-13T18:46:56.268Z"
   },
   {
    "duration": 5,
    "start_time": "2024-05-13T18:47:00.624Z"
   },
   {
    "duration": 4,
    "start_time": "2024-05-13T18:47:01.231Z"
   },
   {
    "duration": 10,
    "start_time": "2024-05-13T18:47:02.191Z"
   },
   {
    "duration": 4,
    "start_time": "2024-05-13T18:47:03.033Z"
   },
   {
    "duration": 5,
    "start_time": "2024-05-13T18:47:03.689Z"
   },
   {
    "duration": 3,
    "start_time": "2024-05-13T18:47:05.904Z"
   },
   {
    "duration": 13,
    "start_time": "2024-05-13T18:47:06.461Z"
   },
   {
    "duration": 4,
    "start_time": "2024-05-13T18:47:07.432Z"
   },
   {
    "duration": 4,
    "start_time": "2024-05-13T18:47:08.729Z"
   },
   {
    "duration": 3,
    "start_time": "2024-05-13T18:47:09.000Z"
   },
   {
    "duration": 6,
    "start_time": "2024-05-13T18:47:09.169Z"
   },
   {
    "duration": 4,
    "start_time": "2024-05-13T18:47:09.344Z"
   },
   {
    "duration": 4,
    "start_time": "2024-05-13T18:47:09.523Z"
   },
   {
    "duration": 4,
    "start_time": "2024-05-13T18:47:09.724Z"
   },
   {
    "duration": 4,
    "start_time": "2024-05-13T18:47:10.381Z"
   },
   {
    "duration": 23,
    "start_time": "2024-05-13T18:47:11.165Z"
   },
   {
    "duration": 8,
    "start_time": "2024-05-13T18:47:13.134Z"
   },
   {
    "duration": 5,
    "start_time": "2024-05-13T18:47:13.320Z"
   },
   {
    "duration": 279,
    "start_time": "2024-05-13T18:47:13.507Z"
   },
   {
    "duration": 6,
    "start_time": "2024-05-13T18:47:16.621Z"
   },
   {
    "duration": 10,
    "start_time": "2024-05-13T18:47:17.592Z"
   },
   {
    "duration": 10,
    "start_time": "2024-05-13T18:47:34.177Z"
   },
   {
    "duration": 9,
    "start_time": "2024-05-13T18:47:43.137Z"
   },
   {
    "duration": 397,
    "start_time": "2024-05-13T18:47:49.660Z"
   },
   {
    "duration": 380,
    "start_time": "2024-05-13T18:48:01.199Z"
   },
   {
    "duration": 406,
    "start_time": "2024-05-13T18:48:47.959Z"
   },
   {
    "duration": 362,
    "start_time": "2024-05-13T18:49:54.549Z"
   },
   {
    "duration": 89,
    "start_time": "2024-05-13T18:50:24.061Z"
   },
   {
    "duration": 366,
    "start_time": "2024-05-13T18:50:29.051Z"
   },
   {
    "duration": 2,
    "start_time": "2024-05-13T18:58:17.775Z"
   },
   {
    "duration": 12,
    "start_time": "2024-05-13T18:58:18.443Z"
   },
   {
    "duration": 6,
    "start_time": "2024-05-13T18:58:22.541Z"
   },
   {
    "duration": 13,
    "start_time": "2024-05-13T18:58:34.963Z"
   },
   {
    "duration": 7,
    "start_time": "2024-05-13T18:58:36.063Z"
   },
   {
    "duration": 12,
    "start_time": "2024-05-13T18:58:54.711Z"
   },
   {
    "duration": 5,
    "start_time": "2024-05-13T18:58:57.674Z"
   },
   {
    "duration": 11,
    "start_time": "2024-05-13T18:59:13.653Z"
   },
   {
    "duration": 16,
    "start_time": "2024-05-13T19:00:19.401Z"
   },
   {
    "duration": 10,
    "start_time": "2024-05-13T19:00:19.945Z"
   },
   {
    "duration": 115,
    "start_time": "2024-05-13T19:00:20.450Z"
   },
   {
    "duration": 7313,
    "start_time": "2024-05-13T19:00:20.991Z"
   },
   {
    "duration": 17,
    "start_time": "2024-05-13T19:00:28.307Z"
   },
   {
    "duration": 716,
    "start_time": "2024-05-14T05:17:10.652Z"
   },
   {
    "duration": 239,
    "start_time": "2024-05-14T05:17:11.370Z"
   },
   {
    "duration": 35,
    "start_time": "2024-05-14T05:17:11.610Z"
   },
   {
    "duration": 14,
    "start_time": "2024-05-14T05:17:11.647Z"
   },
   {
    "duration": 10,
    "start_time": "2024-05-14T05:17:11.663Z"
   },
   {
    "duration": 117,
    "start_time": "2024-05-14T05:17:11.684Z"
   },
   {
    "duration": 5589,
    "start_time": "2024-05-14T05:17:11.803Z"
   },
   {
    "duration": 59,
    "start_time": "2024-05-14T05:17:17.394Z"
   },
   {
    "duration": 30,
    "start_time": "2024-05-14T05:17:17.455Z"
   },
   {
    "duration": 30,
    "start_time": "2024-05-14T05:17:17.489Z"
   },
   {
    "duration": 5,
    "start_time": "2024-05-14T05:17:17.521Z"
   },
   {
    "duration": 10,
    "start_time": "2024-05-14T05:17:17.528Z"
   },
   {
    "duration": 24,
    "start_time": "2024-05-14T05:17:17.540Z"
   },
   {
    "duration": 13,
    "start_time": "2024-05-14T05:17:17.565Z"
   },
   {
    "duration": 26,
    "start_time": "2024-05-14T05:17:17.580Z"
   },
   {
    "duration": 18,
    "start_time": "2024-05-14T05:17:17.607Z"
   },
   {
    "duration": 12,
    "start_time": "2024-05-14T05:17:17.627Z"
   },
   {
    "duration": 11,
    "start_time": "2024-05-14T05:17:17.640Z"
   },
   {
    "duration": 13,
    "start_time": "2024-05-14T05:17:17.653Z"
   },
   {
    "duration": 4,
    "start_time": "2024-05-14T05:17:17.667Z"
   },
   {
    "duration": 7,
    "start_time": "2024-05-14T05:17:17.673Z"
   },
   {
    "duration": 15,
    "start_time": "2024-05-14T05:17:17.682Z"
   },
   {
    "duration": 10,
    "start_time": "2024-05-14T05:17:17.699Z"
   },
   {
    "duration": 15,
    "start_time": "2024-05-14T05:17:17.710Z"
   },
   {
    "duration": 4,
    "start_time": "2024-05-14T05:17:17.727Z"
   },
   {
    "duration": 15,
    "start_time": "2024-05-14T05:17:17.733Z"
   },
   {
    "duration": 5,
    "start_time": "2024-05-14T05:17:17.749Z"
   },
   {
    "duration": 10,
    "start_time": "2024-05-14T05:17:17.758Z"
   },
   {
    "duration": 7,
    "start_time": "2024-05-14T05:17:17.770Z"
   },
   {
    "duration": 7,
    "start_time": "2024-05-14T05:17:17.778Z"
   },
   {
    "duration": 7,
    "start_time": "2024-05-14T05:17:17.787Z"
   },
   {
    "duration": 29,
    "start_time": "2024-05-14T05:17:17.796Z"
   },
   {
    "duration": 10,
    "start_time": "2024-05-14T05:17:17.827Z"
   },
   {
    "duration": 11,
    "start_time": "2024-05-14T05:17:17.839Z"
   },
   {
    "duration": 311,
    "start_time": "2024-05-14T05:17:17.852Z"
   },
   {
    "duration": 6,
    "start_time": "2024-05-14T05:17:18.164Z"
   },
   {
    "duration": 26,
    "start_time": "2024-05-14T05:17:18.172Z"
   },
   {
    "duration": 4,
    "start_time": "2024-05-14T05:17:18.200Z"
   },
   {
    "duration": 7,
    "start_time": "2024-05-14T05:17:18.205Z"
   },
   {
    "duration": 8,
    "start_time": "2024-05-14T05:17:18.213Z"
   },
   {
    "duration": 6,
    "start_time": "2024-05-14T05:17:18.222Z"
   },
   {
    "duration": 6,
    "start_time": "2024-05-14T05:17:18.229Z"
   },
   {
    "duration": 415,
    "start_time": "2024-05-14T05:17:18.236Z"
   },
   {
    "duration": 5,
    "start_time": "2024-05-14T05:17:18.653Z"
   },
   {
    "duration": 10,
    "start_time": "2024-05-14T05:17:18.659Z"
   },
   {
    "duration": 14,
    "start_time": "2024-05-14T05:17:18.671Z"
   },
   {
    "duration": 26,
    "start_time": "2024-05-14T05:17:18.690Z"
   },
   {
    "duration": 358,
    "start_time": "2024-05-14T05:17:18.718Z"
   },
   {
    "duration": 13,
    "start_time": "2024-05-14T05:17:19.081Z"
   },
   {
    "duration": 11,
    "start_time": "2024-05-14T05:17:19.096Z"
   },
   {
    "duration": 465,
    "start_time": "2024-05-14T05:17:19.108Z"
   },
   {
    "duration": 17,
    "start_time": "2024-05-14T05:17:19.575Z"
   },
   {
    "duration": 652,
    "start_time": "2024-05-14T05:17:19.596Z"
   },
   {
    "duration": 3,
    "start_time": "2024-05-14T05:17:20.249Z"
   },
   {
    "duration": 20,
    "start_time": "2024-05-14T05:17:20.253Z"
   },
   {
    "duration": 383,
    "start_time": "2024-05-14T05:17:20.274Z"
   },
   {
    "duration": 20,
    "start_time": "2024-05-14T05:17:20.659Z"
   },
   {
    "duration": 233,
    "start_time": "2024-05-14T05:17:20.682Z"
   },
   {
    "duration": 9,
    "start_time": "2024-05-14T05:17:20.917Z"
   },
   {
    "duration": 250,
    "start_time": "2024-05-14T05:17:20.927Z"
   },
   {
    "duration": 158,
    "start_time": "2024-05-14T05:17:21.179Z"
   },
   {
    "duration": 9,
    "start_time": "2024-05-14T05:17:21.339Z"
   },
   {
    "duration": 308,
    "start_time": "2024-05-14T05:17:21.350Z"
   },
   {
    "duration": 11,
    "start_time": "2024-05-14T05:17:21.660Z"
   },
   {
    "duration": 11,
    "start_time": "2024-05-14T05:17:21.672Z"
   },
   {
    "duration": 21,
    "start_time": "2024-05-14T05:17:21.685Z"
   },
   {
    "duration": 299,
    "start_time": "2024-05-14T05:17:21.707Z"
   },
   {
    "duration": 6,
    "start_time": "2024-05-14T05:17:22.008Z"
   },
   {
    "duration": 33,
    "start_time": "2024-05-14T05:17:22.016Z"
   },
   {
    "duration": 426,
    "start_time": "2024-05-14T05:17:22.050Z"
   },
   {
    "duration": 11,
    "start_time": "2024-05-14T05:17:22.478Z"
   },
   {
    "duration": 32,
    "start_time": "2024-05-14T05:17:22.491Z"
   },
   {
    "duration": 314,
    "start_time": "2024-05-14T05:17:22.525Z"
   },
   {
    "duration": 8,
    "start_time": "2024-05-14T05:17:22.840Z"
   },
   {
    "duration": 16,
    "start_time": "2024-05-14T05:17:22.850Z"
   },
   {
    "duration": 18,
    "start_time": "2024-05-14T05:17:22.868Z"
   },
   {
    "duration": 42,
    "start_time": "2024-05-14T05:17:22.888Z"
   },
   {
    "duration": 5,
    "start_time": "2024-05-14T05:17:22.932Z"
   },
   {
    "duration": 244,
    "start_time": "2024-05-14T05:17:22.938Z"
   },
   {
    "duration": 6,
    "start_time": "2024-05-14T05:17:23.187Z"
   },
   {
    "duration": 24,
    "start_time": "2024-05-14T05:17:23.195Z"
   },
   {
    "duration": 5,
    "start_time": "2024-05-14T05:17:23.225Z"
   },
   {
    "duration": 250,
    "start_time": "2024-05-14T05:17:23.231Z"
   },
   {
    "duration": 17,
    "start_time": "2024-05-14T05:17:23.483Z"
   },
   {
    "duration": 5,
    "start_time": "2024-05-14T05:17:23.502Z"
   },
   {
    "duration": 255,
    "start_time": "2024-05-14T05:17:23.509Z"
   },
   {
    "duration": 24,
    "start_time": "2024-05-14T05:17:23.765Z"
   },
   {
    "duration": 7,
    "start_time": "2024-05-14T05:17:23.791Z"
   },
   {
    "duration": 295,
    "start_time": "2024-05-14T05:17:23.800Z"
   },
   {
    "duration": 14,
    "start_time": "2024-05-14T05:17:24.098Z"
   },
   {
    "duration": 190,
    "start_time": "2024-05-14T05:17:24.114Z"
   },
   {
    "duration": 11,
    "start_time": "2024-05-14T05:17:24.306Z"
   },
   {
    "duration": 208,
    "start_time": "2024-05-14T05:17:24.319Z"
   },
   {
    "duration": 12,
    "start_time": "2024-05-14T05:17:24.528Z"
   },
   {
    "duration": 216,
    "start_time": "2024-05-14T05:17:24.541Z"
   },
   {
    "duration": 12,
    "start_time": "2024-05-14T05:17:24.758Z"
   },
   {
    "duration": 193,
    "start_time": "2024-05-14T05:17:24.781Z"
   },
   {
    "duration": 36,
    "start_time": "2024-05-14T05:17:24.983Z"
   },
   {
    "duration": 9,
    "start_time": "2024-05-14T05:17:25.020Z"
   },
   {
    "duration": 46,
    "start_time": "2024-05-14T05:17:25.030Z"
   },
   {
    "duration": 126,
    "start_time": "2024-05-14T05:17:25.078Z"
   },
   {
    "duration": 21,
    "start_time": "2024-05-14T05:17:25.206Z"
   },
   {
    "duration": 244,
    "start_time": "2024-05-14T05:17:25.229Z"
   },
   {
    "duration": 712,
    "start_time": "2024-05-14T05:20:19.610Z"
   },
   {
    "duration": 109,
    "start_time": "2024-05-14T05:20:20.324Z"
   },
   {
    "duration": 32,
    "start_time": "2024-05-14T05:20:20.435Z"
   },
   {
    "duration": 30,
    "start_time": "2024-05-14T05:20:20.469Z"
   },
   {
    "duration": 11,
    "start_time": "2024-05-14T05:20:20.501Z"
   },
   {
    "duration": 124,
    "start_time": "2024-05-14T05:20:20.513Z"
   },
   {
    "duration": 5643,
    "start_time": "2024-05-14T05:20:20.638Z"
   },
   {
    "duration": 66,
    "start_time": "2024-05-14T05:20:26.283Z"
   },
   {
    "duration": 35,
    "start_time": "2024-05-14T05:20:26.351Z"
   },
   {
    "duration": 28,
    "start_time": "2024-05-14T05:20:26.394Z"
   },
   {
    "duration": 5,
    "start_time": "2024-05-14T05:20:26.424Z"
   },
   {
    "duration": 27,
    "start_time": "2024-05-14T05:20:26.431Z"
   },
   {
    "duration": 15,
    "start_time": "2024-05-14T05:20:26.461Z"
   },
   {
    "duration": 18,
    "start_time": "2024-05-14T05:20:26.477Z"
   },
   {
    "duration": 8,
    "start_time": "2024-05-14T05:20:26.497Z"
   },
   {
    "duration": 12,
    "start_time": "2024-05-14T05:20:26.507Z"
   },
   {
    "duration": 14,
    "start_time": "2024-05-14T05:20:26.521Z"
   },
   {
    "duration": 12,
    "start_time": "2024-05-14T05:20:26.537Z"
   },
   {
    "duration": 26,
    "start_time": "2024-05-14T05:20:26.551Z"
   },
   {
    "duration": 5,
    "start_time": "2024-05-14T05:20:26.578Z"
   },
   {
    "duration": 15,
    "start_time": "2024-05-14T05:20:26.585Z"
   },
   {
    "duration": 19,
    "start_time": "2024-05-14T05:20:26.602Z"
   },
   {
    "duration": 25,
    "start_time": "2024-05-14T05:20:26.623Z"
   },
   {
    "duration": 37,
    "start_time": "2024-05-14T05:20:26.649Z"
   },
   {
    "duration": 17,
    "start_time": "2024-05-14T05:20:26.688Z"
   },
   {
    "duration": 15,
    "start_time": "2024-05-14T05:20:26.706Z"
   },
   {
    "duration": 6,
    "start_time": "2024-05-14T05:20:26.723Z"
   },
   {
    "duration": 9,
    "start_time": "2024-05-14T05:20:26.733Z"
   },
   {
    "duration": 26,
    "start_time": "2024-05-14T05:20:26.743Z"
   },
   {
    "duration": 8,
    "start_time": "2024-05-14T05:20:26.770Z"
   },
   {
    "duration": 11,
    "start_time": "2024-05-14T05:20:26.780Z"
   },
   {
    "duration": 39,
    "start_time": "2024-05-14T05:20:26.793Z"
   },
   {
    "duration": 8,
    "start_time": "2024-05-14T05:20:26.833Z"
   },
   {
    "duration": 18,
    "start_time": "2024-05-14T05:20:26.843Z"
   },
   {
    "duration": 314,
    "start_time": "2024-05-14T05:20:26.863Z"
   },
   {
    "duration": 5,
    "start_time": "2024-05-14T05:20:27.179Z"
   },
   {
    "duration": 16,
    "start_time": "2024-05-14T05:20:27.186Z"
   },
   {
    "duration": 3,
    "start_time": "2024-05-14T05:20:27.204Z"
   },
   {
    "duration": 27,
    "start_time": "2024-05-14T05:20:27.208Z"
   },
   {
    "duration": 27,
    "start_time": "2024-05-14T05:20:27.236Z"
   },
   {
    "duration": 22,
    "start_time": "2024-05-14T05:20:27.264Z"
   },
   {
    "duration": 21,
    "start_time": "2024-05-14T05:20:27.288Z"
   },
   {
    "duration": 414,
    "start_time": "2024-05-14T05:20:27.311Z"
   },
   {
    "duration": 5,
    "start_time": "2024-05-14T05:20:27.727Z"
   },
   {
    "duration": 22,
    "start_time": "2024-05-14T05:20:27.734Z"
   },
   {
    "duration": 32,
    "start_time": "2024-05-14T05:20:27.758Z"
   },
   {
    "duration": 25,
    "start_time": "2024-05-14T05:20:27.794Z"
   },
   {
    "duration": 345,
    "start_time": "2024-05-14T05:20:27.820Z"
   },
   {
    "duration": 17,
    "start_time": "2024-05-14T05:20:28.166Z"
   },
   {
    "duration": 12,
    "start_time": "2024-05-14T05:20:28.186Z"
   },
   {
    "duration": 454,
    "start_time": "2024-05-14T05:20:28.200Z"
   },
   {
    "duration": 9,
    "start_time": "2024-05-14T05:20:28.655Z"
   },
   {
    "duration": 654,
    "start_time": "2024-05-14T05:20:28.666Z"
   },
   {
    "duration": 3,
    "start_time": "2024-05-14T05:20:29.322Z"
   },
   {
    "duration": 22,
    "start_time": "2024-05-14T05:20:29.326Z"
   },
   {
    "duration": 402,
    "start_time": "2024-05-14T05:20:29.350Z"
   },
   {
    "duration": 8,
    "start_time": "2024-05-14T05:20:29.754Z"
   },
   {
    "duration": 245,
    "start_time": "2024-05-14T05:20:29.764Z"
   },
   {
    "duration": 9,
    "start_time": "2024-05-14T05:20:30.011Z"
   },
   {
    "duration": 255,
    "start_time": "2024-05-14T05:20:30.021Z"
   },
   {
    "duration": 161,
    "start_time": "2024-05-14T05:20:30.277Z"
   },
   {
    "duration": 9,
    "start_time": "2024-05-14T05:20:30.441Z"
   },
   {
    "duration": 333,
    "start_time": "2024-05-14T05:20:30.452Z"
   },
   {
    "duration": 16,
    "start_time": "2024-05-14T05:20:30.787Z"
   },
   {
    "duration": 63,
    "start_time": "2024-05-14T05:20:30.805Z"
   },
   {
    "duration": 47,
    "start_time": "2024-05-14T05:20:30.870Z"
   },
   {
    "duration": 293,
    "start_time": "2024-05-14T05:20:30.919Z"
   },
   {
    "duration": 7,
    "start_time": "2024-05-14T05:20:31.213Z"
   },
   {
    "duration": 95,
    "start_time": "2024-05-14T05:20:31.221Z"
   },
   {
    "duration": 425,
    "start_time": "2024-05-14T05:20:31.318Z"
   },
   {
    "duration": 8,
    "start_time": "2024-05-14T05:20:31.745Z"
   },
   {
    "duration": 9,
    "start_time": "2024-05-14T05:20:31.755Z"
   },
   {
    "duration": 319,
    "start_time": "2024-05-14T05:20:31.781Z"
   },
   {
    "duration": 8,
    "start_time": "2024-05-14T05:20:32.102Z"
   },
   {
    "duration": 5,
    "start_time": "2024-05-14T05:20:32.111Z"
   },
   {
    "duration": 23,
    "start_time": "2024-05-14T05:20:32.117Z"
   },
   {
    "duration": 12,
    "start_time": "2024-05-14T05:20:32.142Z"
   },
   {
    "duration": 9,
    "start_time": "2024-05-14T05:20:32.155Z"
   },
   {
    "duration": 261,
    "start_time": "2024-05-14T05:20:32.165Z"
   },
   {
    "duration": 3,
    "start_time": "2024-05-14T05:20:32.428Z"
   },
   {
    "duration": 14,
    "start_time": "2024-05-14T05:20:32.432Z"
   },
   {
    "duration": 7,
    "start_time": "2024-05-14T05:20:32.452Z"
   },
   {
    "duration": 303,
    "start_time": "2024-05-14T05:20:32.481Z"
   },
   {
    "duration": 18,
    "start_time": "2024-05-14T05:20:32.786Z"
   },
   {
    "duration": 7,
    "start_time": "2024-05-14T05:20:32.805Z"
   },
   {
    "duration": 301,
    "start_time": "2024-05-14T05:20:32.815Z"
   },
   {
    "duration": 15,
    "start_time": "2024-05-14T05:20:33.117Z"
   },
   {
    "duration": 13,
    "start_time": "2024-05-14T05:20:33.134Z"
   },
   {
    "duration": 275,
    "start_time": "2024-05-14T05:20:33.151Z"
   },
   {
    "duration": 14,
    "start_time": "2024-05-14T05:20:33.428Z"
   },
   {
    "duration": 199,
    "start_time": "2024-05-14T05:20:33.443Z"
   },
   {
    "duration": 11,
    "start_time": "2024-05-14T05:20:33.644Z"
   },
   {
    "duration": 210,
    "start_time": "2024-05-14T05:20:33.656Z"
   },
   {
    "duration": 28,
    "start_time": "2024-05-14T05:20:33.868Z"
   },
   {
    "duration": 217,
    "start_time": "2024-05-14T05:20:33.899Z"
   },
   {
    "duration": 11,
    "start_time": "2024-05-14T05:20:34.117Z"
   },
   {
    "duration": 227,
    "start_time": "2024-05-14T05:20:34.130Z"
   },
   {
    "duration": 51,
    "start_time": "2024-05-14T05:20:34.359Z"
   },
   {
    "duration": 12,
    "start_time": "2024-05-14T05:20:34.413Z"
   },
   {
    "duration": 12,
    "start_time": "2024-05-14T05:20:34.428Z"
   },
   {
    "duration": 137,
    "start_time": "2024-05-14T05:20:34.442Z"
   },
   {
    "duration": 28,
    "start_time": "2024-05-14T05:20:34.584Z"
   },
   {
    "duration": 272,
    "start_time": "2024-05-14T05:20:34.614Z"
   },
   {
    "duration": 736,
    "start_time": "2024-05-14T05:20:41.117Z"
   },
   {
    "duration": 124,
    "start_time": "2024-05-14T05:20:41.855Z"
   },
   {
    "duration": 42,
    "start_time": "2024-05-14T05:20:41.982Z"
   },
   {
    "duration": 17,
    "start_time": "2024-05-14T05:20:42.027Z"
   },
   {
    "duration": 10,
    "start_time": "2024-05-14T05:20:42.045Z"
   },
   {
    "duration": 142,
    "start_time": "2024-05-14T05:20:42.057Z"
   },
   {
    "duration": 5647,
    "start_time": "2024-05-14T05:20:42.201Z"
   },
   {
    "duration": 75,
    "start_time": "2024-05-14T05:20:47.850Z"
   },
   {
    "duration": 13,
    "start_time": "2024-05-14T05:20:47.927Z"
   },
   {
    "duration": 42,
    "start_time": "2024-05-14T05:20:47.942Z"
   },
   {
    "duration": 11,
    "start_time": "2024-05-14T05:20:47.986Z"
   },
   {
    "duration": 5,
    "start_time": "2024-05-14T05:20:47.999Z"
   },
   {
    "duration": 9,
    "start_time": "2024-05-14T05:20:48.005Z"
   },
   {
    "duration": 5,
    "start_time": "2024-05-14T05:20:48.016Z"
   },
   {
    "duration": 4,
    "start_time": "2024-05-14T05:20:48.023Z"
   },
   {
    "duration": 5,
    "start_time": "2024-05-14T05:20:48.028Z"
   },
   {
    "duration": 8,
    "start_time": "2024-05-14T05:20:48.035Z"
   },
   {
    "duration": 39,
    "start_time": "2024-05-14T05:20:48.044Z"
   },
   {
    "duration": 14,
    "start_time": "2024-05-14T05:20:48.085Z"
   },
   {
    "duration": 3,
    "start_time": "2024-05-14T05:20:48.101Z"
   },
   {
    "duration": 8,
    "start_time": "2024-05-14T05:20:48.106Z"
   },
   {
    "duration": 9,
    "start_time": "2024-05-14T05:20:48.115Z"
   },
   {
    "duration": 9,
    "start_time": "2024-05-14T05:20:48.125Z"
   },
   {
    "duration": 5,
    "start_time": "2024-05-14T05:20:48.135Z"
   },
   {
    "duration": 27,
    "start_time": "2024-05-14T05:20:48.142Z"
   },
   {
    "duration": 7,
    "start_time": "2024-05-14T05:20:48.181Z"
   },
   {
    "duration": 6,
    "start_time": "2024-05-14T05:20:48.190Z"
   },
   {
    "duration": 4,
    "start_time": "2024-05-14T05:20:48.202Z"
   },
   {
    "duration": 7,
    "start_time": "2024-05-14T05:20:48.208Z"
   },
   {
    "duration": 15,
    "start_time": "2024-05-14T05:20:48.217Z"
   },
   {
    "duration": 5,
    "start_time": "2024-05-14T05:20:48.234Z"
   },
   {
    "duration": 56,
    "start_time": "2024-05-14T05:20:48.241Z"
   },
   {
    "duration": 7,
    "start_time": "2024-05-14T05:20:48.299Z"
   },
   {
    "duration": 10,
    "start_time": "2024-05-14T05:20:48.308Z"
   },
   {
    "duration": 331,
    "start_time": "2024-05-14T05:20:48.320Z"
   },
   {
    "duration": 5,
    "start_time": "2024-05-14T05:20:48.653Z"
   },
   {
    "duration": 9,
    "start_time": "2024-05-14T05:20:48.659Z"
   },
   {
    "duration": 6,
    "start_time": "2024-05-14T05:20:48.682Z"
   },
   {
    "duration": 9,
    "start_time": "2024-05-14T05:20:48.689Z"
   },
   {
    "duration": 23,
    "start_time": "2024-05-14T05:20:48.700Z"
   },
   {
    "duration": 15,
    "start_time": "2024-05-14T05:20:48.724Z"
   },
   {
    "duration": 12,
    "start_time": "2024-05-14T05:20:48.741Z"
   },
   {
    "duration": 380,
    "start_time": "2024-05-14T05:20:48.755Z"
   },
   {
    "duration": 5,
    "start_time": "2024-05-14T05:20:49.136Z"
   },
   {
    "duration": 12,
    "start_time": "2024-05-14T05:20:49.142Z"
   },
   {
    "duration": 7,
    "start_time": "2024-05-14T05:20:49.156Z"
   },
   {
    "duration": 38,
    "start_time": "2024-05-14T05:20:49.164Z"
   },
   {
    "duration": 325,
    "start_time": "2024-05-14T05:20:49.204Z"
   },
   {
    "duration": 9,
    "start_time": "2024-05-14T05:20:49.531Z"
   },
   {
    "duration": 7,
    "start_time": "2024-05-14T05:20:49.542Z"
   },
   {
    "duration": 486,
    "start_time": "2024-05-14T05:20:49.551Z"
   },
   {
    "duration": 10,
    "start_time": "2024-05-14T05:20:50.039Z"
   },
   {
    "duration": 670,
    "start_time": "2024-05-14T05:20:50.051Z"
   },
   {
    "duration": 3,
    "start_time": "2024-05-14T05:20:50.723Z"
   },
   {
    "duration": 11,
    "start_time": "2024-05-14T05:20:50.728Z"
   },
   {
    "duration": 384,
    "start_time": "2024-05-14T05:20:50.741Z"
   },
   {
    "duration": 9,
    "start_time": "2024-05-14T05:20:51.127Z"
   },
   {
    "duration": 237,
    "start_time": "2024-05-14T05:20:51.138Z"
   },
   {
    "duration": 19,
    "start_time": "2024-05-14T05:20:51.376Z"
   },
   {
    "duration": 285,
    "start_time": "2024-05-14T05:20:51.397Z"
   },
   {
    "duration": 170,
    "start_time": "2024-05-14T05:20:51.684Z"
   },
   {
    "duration": 11,
    "start_time": "2024-05-14T05:20:51.855Z"
   },
   {
    "duration": 349,
    "start_time": "2024-05-14T05:20:51.868Z"
   },
   {
    "duration": 12,
    "start_time": "2024-05-14T05:20:52.219Z"
   },
   {
    "duration": 3,
    "start_time": "2024-05-14T05:20:52.233Z"
   },
   {
    "duration": 10,
    "start_time": "2024-05-14T05:20:52.238Z"
   },
   {
    "duration": 284,
    "start_time": "2024-05-14T05:20:52.250Z"
   },
   {
    "duration": 8,
    "start_time": "2024-05-14T05:20:52.536Z"
   },
   {
    "duration": 33,
    "start_time": "2024-05-14T05:20:52.546Z"
   },
   {
    "duration": 402,
    "start_time": "2024-05-14T05:20:52.580Z"
   },
   {
    "duration": 11,
    "start_time": "2024-05-14T05:20:52.984Z"
   },
   {
    "duration": 11,
    "start_time": "2024-05-14T05:20:52.997Z"
   },
   {
    "duration": 353,
    "start_time": "2024-05-14T05:20:53.009Z"
   },
   {
    "duration": 10,
    "start_time": "2024-05-14T05:20:53.363Z"
   },
   {
    "duration": 12,
    "start_time": "2024-05-14T05:20:53.374Z"
   },
   {
    "duration": 6,
    "start_time": "2024-05-14T05:20:53.388Z"
   },
   {
    "duration": 16,
    "start_time": "2024-05-14T05:20:53.397Z"
   },
   {
    "duration": 5,
    "start_time": "2024-05-14T05:20:53.415Z"
   },
   {
    "duration": 308,
    "start_time": "2024-05-14T05:20:53.422Z"
   },
   {
    "duration": 3,
    "start_time": "2024-05-14T05:20:53.732Z"
   },
   {
    "duration": 38,
    "start_time": "2024-05-14T05:20:53.736Z"
   },
   {
    "duration": 7,
    "start_time": "2024-05-14T05:20:53.780Z"
   },
   {
    "duration": 273,
    "start_time": "2024-05-14T05:20:53.790Z"
   },
   {
    "duration": 26,
    "start_time": "2024-05-14T05:20:54.064Z"
   },
   {
    "duration": 8,
    "start_time": "2024-05-14T05:20:54.092Z"
   },
   {
    "duration": 245,
    "start_time": "2024-05-14T05:20:54.101Z"
   },
   {
    "duration": 13,
    "start_time": "2024-05-14T05:20:54.348Z"
   },
   {
    "duration": 23,
    "start_time": "2024-05-14T05:20:54.363Z"
   },
   {
    "duration": 256,
    "start_time": "2024-05-14T05:20:54.389Z"
   },
   {
    "duration": 13,
    "start_time": "2024-05-14T05:20:54.646Z"
   },
   {
    "duration": 201,
    "start_time": "2024-05-14T05:20:54.661Z"
   },
   {
    "duration": 13,
    "start_time": "2024-05-14T05:20:54.863Z"
   },
   {
    "duration": 212,
    "start_time": "2024-05-14T05:20:54.882Z"
   },
   {
    "duration": 13,
    "start_time": "2024-05-14T05:20:55.097Z"
   },
   {
    "duration": 226,
    "start_time": "2024-05-14T05:20:55.112Z"
   },
   {
    "duration": 12,
    "start_time": "2024-05-14T05:20:55.340Z"
   },
   {
    "duration": 211,
    "start_time": "2024-05-14T05:20:55.353Z"
   },
   {
    "duration": 43,
    "start_time": "2024-05-14T05:20:55.566Z"
   },
   {
    "duration": 9,
    "start_time": "2024-05-14T05:20:55.611Z"
   },
   {
    "duration": 10,
    "start_time": "2024-05-14T05:20:55.621Z"
   },
   {
    "duration": 122,
    "start_time": "2024-05-14T05:20:55.632Z"
   },
   {
    "duration": 27,
    "start_time": "2024-05-14T05:20:55.756Z"
   },
   {
    "duration": 221,
    "start_time": "2024-05-14T05:20:55.786Z"
   }
  ],
  "colab": {
   "provenance": []
  },
  "kernelspec": {
   "display_name": "Python 3 (ipykernel)",
   "language": "python",
   "name": "python3"
  },
  "language_info": {
   "codemirror_mode": {
    "name": "ipython",
    "version": 3
   },
   "file_extension": ".py",
   "mimetype": "text/x-python",
   "name": "python",
   "nbconvert_exporter": "python",
   "pygments_lexer": "ipython3",
   "version": "3.9.5"
  },
  "toc": {
   "base_numbering": 1,
   "nav_menu": {},
   "number_sections": true,
   "sideBar": true,
   "skip_h1_title": true,
   "title_cell": "Table of Contents",
   "title_sidebar": "Contents",
   "toc_cell": false,
   "toc_position": {},
   "toc_section_display": true,
   "toc_window_display": false
  }
 },
 "nbformat": 4,
 "nbformat_minor": 1
}
