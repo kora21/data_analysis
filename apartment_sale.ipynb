{
 "cells": [
  {
   "cell_type": "markdown",
   "id": "c393e5c8",
   "metadata": {},
   "source": [
    "Вы аналитик популярного сервиса аренды самокатов GoFast. Вам передали данные о некоторых пользователях из нескольких городов, а также об их поездках. Проанализируйте данные и проверьте некоторые гипотезы, которые могут помочь бизнесу вырасти.\n",
    "    \n",
    "Чтобы совершать поездки по городу, пользователи сервиса GoFast пользуются мобильным приложением. Сервисом можно пользоваться:\n",
    "без подписки абонентская плата отсутствует; стоимость одной минуты поездки — 8 рублей;\n",
    "стоимость старта (начала поездки) — 50 рублей; с подпиской Ultra абонентская плата — 199 рублей в месяц;\n",
    "стоимость одной минуты поездки — 6 рублей;\n",
    "стоимость старта — бесплатно.\n",
    "    \n",
    "Цель исследования:\n",
    "1. Изучить данные для анализа и построения гипотез.\n",
    "2. Проанализировать данные пользователей: частота встречаемости городов; соотношение пользователей с подпиской и без подписки; возраст пользователей; расстояние, которое пользователь преодолел за одну поездку; продолжительность поездок; а также  проанализировать данные для пользователей с подпиской и без о расстоянии и времени поездок и посчитать выручку.\n",
    "3. Проверить следующие гипотезы: \n",
    "    \n",
    "    3.1 Тратят ли пользователи с подпиской больше времени на поездки? Если да, то пользователи с подпиской могут быть «выгоднее» для компании. \n",
    "    \n",
    "    3.2 Можно ли сказать, что среднее расстояние, которое проезжают пользователи с подпиской за одну поездку, не превышает оптимального износа самокатов. \n",
    "    \n",
    "    3.3 Зарабатывает ли компания больше от пользователей с подпиской чем от пользователей без подписки. \n",
    "    \n",
    "    3.4 Снизится ли количество обращений в техподдержку из-за того что обновили сервис серверов, с которыми взаимодействует мобильное приложение. \n",
    "    \n",
    "Ход исследования:\n",
    "    \n",
    "1. Обзор данных.\n",
    "2. Предобработка данных.\n",
    "3. Исследовательский анализ данных.\n",
    "4. Объединение данных.\n",
    "5. Подсчет выручки.\n",
    "6. Проверка гипотез.    \n",
    "7. Написание общего вывода. "
   ]
  },
  {
   "cell_type": "code",
   "execution_count": 143,
   "id": "72576667",
   "metadata": {},
   "outputs": [],
   "source": [
    "import pandas as pd\n",
    "import numpy as np\n",
    "from scipy import stats as st\n",
    "from scipy.stats import binom\n",
    "import matplotlib.pyplot as plt"
   ]
  },
  {
   "cell_type": "markdown",
   "id": "c42cbe00",
   "metadata": {},
   "source": [
    "#### Шаг 1. Загрузка данных"
   ]
  },
  {
   "cell_type": "code",
   "execution_count": 144,
   "id": "eff9f206",
   "metadata": {},
   "outputs": [],
   "source": [
    "# Загрузим датафрейм в переменную 'users'\n",
    "users = pd.read_csv('/datasets/users_go.csv')"
   ]
  },
  {
   "cell_type": "code",
   "execution_count": 145,
   "id": "6cc779fc",
   "metadata": {},
   "outputs": [
    {
     "data": {
      "text/html": [
       "<div>\n",
       "<style scoped>\n",
       "    .dataframe tbody tr th:only-of-type {\n",
       "        vertical-align: middle;\n",
       "    }\n",
       "\n",
       "    .dataframe tbody tr th {\n",
       "        vertical-align: top;\n",
       "    }\n",
       "\n",
       "    .dataframe thead th {\n",
       "        text-align: right;\n",
       "    }\n",
       "</style>\n",
       "<table border=\"1\" class=\"dataframe\">\n",
       "  <thead>\n",
       "    <tr style=\"text-align: right;\">\n",
       "      <th></th>\n",
       "      <th>user_id</th>\n",
       "      <th>name</th>\n",
       "      <th>age</th>\n",
       "      <th>city</th>\n",
       "      <th>subscription_type</th>\n",
       "    </tr>\n",
       "  </thead>\n",
       "  <tbody>\n",
       "    <tr>\n",
       "      <th>0</th>\n",
       "      <td>1</td>\n",
       "      <td>Кира</td>\n",
       "      <td>22</td>\n",
       "      <td>Тюмень</td>\n",
       "      <td>ultra</td>\n",
       "    </tr>\n",
       "    <tr>\n",
       "      <th>1</th>\n",
       "      <td>2</td>\n",
       "      <td>Станислав</td>\n",
       "      <td>31</td>\n",
       "      <td>Омск</td>\n",
       "      <td>ultra</td>\n",
       "    </tr>\n",
       "    <tr>\n",
       "      <th>2</th>\n",
       "      <td>3</td>\n",
       "      <td>Алексей</td>\n",
       "      <td>20</td>\n",
       "      <td>Москва</td>\n",
       "      <td>ultra</td>\n",
       "    </tr>\n",
       "    <tr>\n",
       "      <th>3</th>\n",
       "      <td>4</td>\n",
       "      <td>Константин</td>\n",
       "      <td>26</td>\n",
       "      <td>Ростов-на-Дону</td>\n",
       "      <td>ultra</td>\n",
       "    </tr>\n",
       "    <tr>\n",
       "      <th>4</th>\n",
       "      <td>5</td>\n",
       "      <td>Адель</td>\n",
       "      <td>28</td>\n",
       "      <td>Омск</td>\n",
       "      <td>ultra</td>\n",
       "    </tr>\n",
       "    <tr>\n",
       "      <th>5</th>\n",
       "      <td>6</td>\n",
       "      <td>Регина</td>\n",
       "      <td>25</td>\n",
       "      <td>Краснодар</td>\n",
       "      <td>ultra</td>\n",
       "    </tr>\n",
       "    <tr>\n",
       "      <th>6</th>\n",
       "      <td>7</td>\n",
       "      <td>Игорь</td>\n",
       "      <td>23</td>\n",
       "      <td>Омск</td>\n",
       "      <td>ultra</td>\n",
       "    </tr>\n",
       "    <tr>\n",
       "      <th>7</th>\n",
       "      <td>8</td>\n",
       "      <td>Юрий</td>\n",
       "      <td>23</td>\n",
       "      <td>Краснодар</td>\n",
       "      <td>ultra</td>\n",
       "    </tr>\n",
       "    <tr>\n",
       "      <th>8</th>\n",
       "      <td>9</td>\n",
       "      <td>Ян</td>\n",
       "      <td>21</td>\n",
       "      <td>Пятигорск</td>\n",
       "      <td>ultra</td>\n",
       "    </tr>\n",
       "    <tr>\n",
       "      <th>9</th>\n",
       "      <td>10</td>\n",
       "      <td>Валерий</td>\n",
       "      <td>18</td>\n",
       "      <td>Екатеринбург</td>\n",
       "      <td>ultra</td>\n",
       "    </tr>\n",
       "  </tbody>\n",
       "</table>\n",
       "</div>"
      ],
      "text/plain": [
       "   user_id        name  age            city subscription_type\n",
       "0        1        Кира   22          Тюмень             ultra\n",
       "1        2   Станислав   31            Омск             ultra\n",
       "2        3     Алексей   20          Москва             ultra\n",
       "3        4  Константин   26  Ростов-на-Дону             ultra\n",
       "4        5       Адель   28            Омск             ultra\n",
       "5        6      Регина   25       Краснодар             ultra\n",
       "6        7       Игорь   23            Омск             ultra\n",
       "7        8        Юрий   23       Краснодар             ultra\n",
       "8        9          Ян   21       Пятигорск             ultra\n",
       "9       10     Валерий   18    Екатеринбург             ultra"
      ]
     },
     "execution_count": 145,
     "metadata": {},
     "output_type": "execute_result"
    }
   ],
   "source": [
    "# Выведем первые строки набора данных\n",
    "users.head(10)"
   ]
  },
  {
   "cell_type": "code",
   "execution_count": 146,
   "id": "cb7edf1e",
   "metadata": {},
   "outputs": [],
   "source": [
    "# Загрузим датафрейм в переменную 'rides'\n",
    "rides = pd.read_csv('/datasets/rides_go.csv')"
   ]
  },
  {
   "cell_type": "code",
   "execution_count": 147,
   "id": "03091792",
   "metadata": {},
   "outputs": [
    {
     "data": {
      "text/html": [
       "<div>\n",
       "<style scoped>\n",
       "    .dataframe tbody tr th:only-of-type {\n",
       "        vertical-align: middle;\n",
       "    }\n",
       "\n",
       "    .dataframe tbody tr th {\n",
       "        vertical-align: top;\n",
       "    }\n",
       "\n",
       "    .dataframe thead th {\n",
       "        text-align: right;\n",
       "    }\n",
       "</style>\n",
       "<table border=\"1\" class=\"dataframe\">\n",
       "  <thead>\n",
       "    <tr style=\"text-align: right;\">\n",
       "      <th></th>\n",
       "      <th>user_id</th>\n",
       "      <th>distance</th>\n",
       "      <th>duration</th>\n",
       "      <th>date</th>\n",
       "    </tr>\n",
       "  </thead>\n",
       "  <tbody>\n",
       "    <tr>\n",
       "      <th>0</th>\n",
       "      <td>1</td>\n",
       "      <td>4409.919140</td>\n",
       "      <td>25.599769</td>\n",
       "      <td>2021-01-01</td>\n",
       "    </tr>\n",
       "    <tr>\n",
       "      <th>1</th>\n",
       "      <td>1</td>\n",
       "      <td>2617.592153</td>\n",
       "      <td>15.816871</td>\n",
       "      <td>2021-01-18</td>\n",
       "    </tr>\n",
       "    <tr>\n",
       "      <th>2</th>\n",
       "      <td>1</td>\n",
       "      <td>754.159807</td>\n",
       "      <td>6.232113</td>\n",
       "      <td>2021-04-20</td>\n",
       "    </tr>\n",
       "    <tr>\n",
       "      <th>3</th>\n",
       "      <td>1</td>\n",
       "      <td>2694.783254</td>\n",
       "      <td>18.511000</td>\n",
       "      <td>2021-08-11</td>\n",
       "    </tr>\n",
       "    <tr>\n",
       "      <th>4</th>\n",
       "      <td>1</td>\n",
       "      <td>4028.687306</td>\n",
       "      <td>26.265803</td>\n",
       "      <td>2021-08-28</td>\n",
       "    </tr>\n",
       "    <tr>\n",
       "      <th>5</th>\n",
       "      <td>1</td>\n",
       "      <td>2770.890808</td>\n",
       "      <td>16.650138</td>\n",
       "      <td>2021-10-09</td>\n",
       "    </tr>\n",
       "    <tr>\n",
       "      <th>6</th>\n",
       "      <td>1</td>\n",
       "      <td>3039.020292</td>\n",
       "      <td>14.927879</td>\n",
       "      <td>2021-10-19</td>\n",
       "    </tr>\n",
       "    <tr>\n",
       "      <th>7</th>\n",
       "      <td>1</td>\n",
       "      <td>2842.118050</td>\n",
       "      <td>23.117468</td>\n",
       "      <td>2021-11-06</td>\n",
       "    </tr>\n",
       "    <tr>\n",
       "      <th>8</th>\n",
       "      <td>1</td>\n",
       "      <td>3412.690668</td>\n",
       "      <td>15.238072</td>\n",
       "      <td>2021-11-14</td>\n",
       "    </tr>\n",
       "    <tr>\n",
       "      <th>9</th>\n",
       "      <td>1</td>\n",
       "      <td>748.690645</td>\n",
       "      <td>15.041884</td>\n",
       "      <td>2021-11-22</td>\n",
       "    </tr>\n",
       "  </tbody>\n",
       "</table>\n",
       "</div>"
      ],
      "text/plain": [
       "   user_id     distance   duration        date\n",
       "0        1  4409.919140  25.599769  2021-01-01\n",
       "1        1  2617.592153  15.816871  2021-01-18\n",
       "2        1   754.159807   6.232113  2021-04-20\n",
       "3        1  2694.783254  18.511000  2021-08-11\n",
       "4        1  4028.687306  26.265803  2021-08-28\n",
       "5        1  2770.890808  16.650138  2021-10-09\n",
       "6        1  3039.020292  14.927879  2021-10-19\n",
       "7        1  2842.118050  23.117468  2021-11-06\n",
       "8        1  3412.690668  15.238072  2021-11-14\n",
       "9        1   748.690645  15.041884  2021-11-22"
      ]
     },
     "execution_count": 147,
     "metadata": {},
     "output_type": "execute_result"
    }
   ],
   "source": [
    "# Выведем первые строки набора данных\n",
    "rides.head(10)"
   ]
  },
  {
   "cell_type": "code",
   "execution_count": 148,
   "id": "b33fba93",
   "metadata": {},
   "outputs": [],
   "source": [
    "# Загрузим датафрейм в переменную 'subscriptions'\n",
    "subscriptions = pd.read_csv('/datasets/subscriptions_go.csv')"
   ]
  },
  {
   "cell_type": "code",
   "execution_count": 149,
   "id": "3e11a3a2",
   "metadata": {},
   "outputs": [
    {
     "data": {
      "text/html": [
       "<div>\n",
       "<style scoped>\n",
       "    .dataframe tbody tr th:only-of-type {\n",
       "        vertical-align: middle;\n",
       "    }\n",
       "\n",
       "    .dataframe tbody tr th {\n",
       "        vertical-align: top;\n",
       "    }\n",
       "\n",
       "    .dataframe thead th {\n",
       "        text-align: right;\n",
       "    }\n",
       "</style>\n",
       "<table border=\"1\" class=\"dataframe\">\n",
       "  <thead>\n",
       "    <tr style=\"text-align: right;\">\n",
       "      <th></th>\n",
       "      <th>subscription_type</th>\n",
       "      <th>minute_price</th>\n",
       "      <th>start_ride_price</th>\n",
       "      <th>subscription_fee</th>\n",
       "    </tr>\n",
       "  </thead>\n",
       "  <tbody>\n",
       "    <tr>\n",
       "      <th>0</th>\n",
       "      <td>free</td>\n",
       "      <td>8</td>\n",
       "      <td>50</td>\n",
       "      <td>0</td>\n",
       "    </tr>\n",
       "    <tr>\n",
       "      <th>1</th>\n",
       "      <td>ultra</td>\n",
       "      <td>6</td>\n",
       "      <td>0</td>\n",
       "      <td>199</td>\n",
       "    </tr>\n",
       "  </tbody>\n",
       "</table>\n",
       "</div>"
      ],
      "text/plain": [
       "  subscription_type  minute_price  start_ride_price  subscription_fee\n",
       "0              free             8                50                 0\n",
       "1             ultra             6                 0               199"
      ]
     },
     "execution_count": 149,
     "metadata": {},
     "output_type": "execute_result"
    }
   ],
   "source": [
    "# Выведем первые строки набора данных\n",
    "subscriptions.head(10)"
   ]
  },
  {
   "cell_type": "markdown",
   "id": "963cd88d",
   "metadata": {},
   "source": [
    "Считали CSV-файлы с данными с помощью библиотеки pandas и сохранили их в датафреймы. \n",
    "\n",
    "Users содержит:\n",
    "\n",
    "user_id\tуникальный идентификатор пользователя\n",
    "name\tимя пользователя\n",
    "age\tвозраст\n",
    "city\tгород\n",
    "subscription_type\tтип подписки (free, ultra)\n",
    "\n",
    "Rides содержит:\n",
    "\n",
    "user_id\tуникальный идентификатор пользователя\n",
    "distance\tрасстояние, которое пользователь проехал в текущей сессии (в метрах)\n",
    "duration\tпродолжительность сессии (в минутах) — время с того момента, как пользователь нажал кнопку «Начать поездку» до момента, как он нажал кнопку «Завершить поездку»\n",
    "date\tдата совершения поездки\n",
    "\n",
    "Subscriptions содержит:\n",
    "\n",
    "subscription_type\tтип подписки\n",
    "minute_price\tстоимость одной минуты поездки по данной подписке\n",
    "start_ride_price\tстоимость начала поездки\n",
    "subscription_fee\tстоимость ежемесячного платежа"
   ]
  },
  {
   "cell_type": "markdown",
   "id": "e95ebca7",
   "metadata": {},
   "source": [
    "#### Шаг 2. Предобработка данных"
   ]
  },
  {
   "cell_type": "code",
   "execution_count": 150,
   "id": "af6d202c",
   "metadata": {},
   "outputs": [],
   "source": [
    "# Приведем столбец date к типу даты pandas\n",
    "rides['date'] = pd.to_datetime(rides['date'], format = '%Y-%m-%d')"
   ]
  },
  {
   "cell_type": "code",
   "execution_count": 151,
   "id": "e80b774c",
   "metadata": {},
   "outputs": [],
   "source": [
    "rides['month'] = rides['date'].dt.month"
   ]
  },
  {
   "cell_type": "code",
   "execution_count": 152,
   "id": "ace7e112",
   "metadata": {},
   "outputs": [
    {
     "name": "stdout",
     "output_type": "stream",
     "text": [
      "<class 'pandas.core.frame.DataFrame'>\n",
      "RangeIndex: 1565 entries, 0 to 1564\n",
      "Data columns (total 5 columns):\n",
      " #   Column             Non-Null Count  Dtype \n",
      "---  ------             --------------  ----- \n",
      " 0   user_id            1565 non-null   int64 \n",
      " 1   name               1565 non-null   object\n",
      " 2   age                1565 non-null   int64 \n",
      " 3   city               1565 non-null   object\n",
      " 4   subscription_type  1565 non-null   object\n",
      "dtypes: int64(2), object(3)\n",
      "memory usage: 61.3+ KB\n"
     ]
    }
   ],
   "source": [
    "# Проверьте наличие пропущенных значений и типы в датафреймах\n",
    "users.info()"
   ]
  },
  {
   "cell_type": "code",
   "execution_count": 153,
   "id": "71abeb1a",
   "metadata": {},
   "outputs": [
    {
     "data": {
      "text/html": [
       "<style  type=\"text/css\" >\n",
       "#T_21d79_row0_col0,#T_21d79_row1_col0,#T_21d79_row2_col0,#T_21d79_row3_col0,#T_21d79_row4_col0{\n",
       "            background-color:  #3b4cc0;\n",
       "            color:  #f1f1f1;\n",
       "        }</style><table id=\"T_21d79_\" ><thead>    <tr>        <th class=\"blank level0\" ></th>        <th class=\"col_heading level0 col0\" >0</th>    </tr></thead><tbody>\n",
       "                <tr>\n",
       "                        <th id=\"T_21d79_level0_row0\" class=\"row_heading level0 row0\" >user_id</th>\n",
       "                        <td id=\"T_21d79_row0_col0\" class=\"data row0 col0\" >0.0</td>\n",
       "            </tr>\n",
       "            <tr>\n",
       "                        <th id=\"T_21d79_level0_row1\" class=\"row_heading level0 row1\" >name</th>\n",
       "                        <td id=\"T_21d79_row1_col0\" class=\"data row1 col0\" >0.0</td>\n",
       "            </tr>\n",
       "            <tr>\n",
       "                        <th id=\"T_21d79_level0_row2\" class=\"row_heading level0 row2\" >age</th>\n",
       "                        <td id=\"T_21d79_row2_col0\" class=\"data row2 col0\" >0.0</td>\n",
       "            </tr>\n",
       "            <tr>\n",
       "                        <th id=\"T_21d79_level0_row3\" class=\"row_heading level0 row3\" >city</th>\n",
       "                        <td id=\"T_21d79_row3_col0\" class=\"data row3 col0\" >0.0</td>\n",
       "            </tr>\n",
       "            <tr>\n",
       "                        <th id=\"T_21d79_level0_row4\" class=\"row_heading level0 row4\" >subscription_type</th>\n",
       "                        <td id=\"T_21d79_row4_col0\" class=\"data row4 col0\" >0.0</td>\n",
       "            </tr>\n",
       "    </tbody></table>"
      ],
      "text/plain": [
       "<pandas.io.formats.style.Styler at 0x7f30cf353ca0>"
      ]
     },
     "execution_count": 153,
     "metadata": {},
     "output_type": "execute_result"
    }
   ],
   "source": [
    "# Выведем долю пропущенных значений для каждого столбца датафрейма\n",
    "pd.DataFrame(users.isna().mean()*100).style.set_precision(1).background_gradient('coolwarm')"
   ]
  },
  {
   "cell_type": "code",
   "execution_count": 154,
   "id": "c49ba7e8",
   "metadata": {},
   "outputs": [
    {
     "data": {
      "text/plain": [
       "Series([], Name: nans, dtype: int64)"
      ]
     },
     "execution_count": 154,
     "metadata": {},
     "output_type": "execute_result"
    }
   ],
   "source": [
    "# Выведем на экран только количество пропусков по столбцам\n",
    "users.isna().sum().to_frame(name=\"nans\").query(\"nans > 0\")[\"nans\"]"
   ]
  },
  {
   "cell_type": "code",
   "execution_count": 155,
   "id": "28dd369a",
   "metadata": {},
   "outputs": [
    {
     "name": "stdout",
     "output_type": "stream",
     "text": [
      "<class 'pandas.core.frame.DataFrame'>\n",
      "RangeIndex: 18068 entries, 0 to 18067\n",
      "Data columns (total 5 columns):\n",
      " #   Column    Non-Null Count  Dtype         \n",
      "---  ------    --------------  -----         \n",
      " 0   user_id   18068 non-null  int64         \n",
      " 1   distance  18068 non-null  float64       \n",
      " 2   duration  18068 non-null  float64       \n",
      " 3   date      18068 non-null  datetime64[ns]\n",
      " 4   month     18068 non-null  int64         \n",
      "dtypes: datetime64[ns](1), float64(2), int64(2)\n",
      "memory usage: 705.9 KB\n"
     ]
    }
   ],
   "source": [
    "# Проверьте наличие пропущенных значений и типы в датафреймах\n",
    "rides.info()"
   ]
  },
  {
   "cell_type": "code",
   "execution_count": 156,
   "id": "1abf74e4",
   "metadata": {},
   "outputs": [
    {
     "data": {
      "text/html": [
       "<style  type=\"text/css\" >\n",
       "#T_545d0_row0_col0,#T_545d0_row1_col0,#T_545d0_row2_col0,#T_545d0_row3_col0,#T_545d0_row4_col0{\n",
       "            background-color:  #3b4cc0;\n",
       "            color:  #f1f1f1;\n",
       "        }</style><table id=\"T_545d0_\" ><thead>    <tr>        <th class=\"blank level0\" ></th>        <th class=\"col_heading level0 col0\" >0</th>    </tr></thead><tbody>\n",
       "                <tr>\n",
       "                        <th id=\"T_545d0_level0_row0\" class=\"row_heading level0 row0\" >user_id</th>\n",
       "                        <td id=\"T_545d0_row0_col0\" class=\"data row0 col0\" >0.0</td>\n",
       "            </tr>\n",
       "            <tr>\n",
       "                        <th id=\"T_545d0_level0_row1\" class=\"row_heading level0 row1\" >distance</th>\n",
       "                        <td id=\"T_545d0_row1_col0\" class=\"data row1 col0\" >0.0</td>\n",
       "            </tr>\n",
       "            <tr>\n",
       "                        <th id=\"T_545d0_level0_row2\" class=\"row_heading level0 row2\" >duration</th>\n",
       "                        <td id=\"T_545d0_row2_col0\" class=\"data row2 col0\" >0.0</td>\n",
       "            </tr>\n",
       "            <tr>\n",
       "                        <th id=\"T_545d0_level0_row3\" class=\"row_heading level0 row3\" >date</th>\n",
       "                        <td id=\"T_545d0_row3_col0\" class=\"data row3 col0\" >0.0</td>\n",
       "            </tr>\n",
       "            <tr>\n",
       "                        <th id=\"T_545d0_level0_row4\" class=\"row_heading level0 row4\" >month</th>\n",
       "                        <td id=\"T_545d0_row4_col0\" class=\"data row4 col0\" >0.0</td>\n",
       "            </tr>\n",
       "    </tbody></table>"
      ],
      "text/plain": [
       "<pandas.io.formats.style.Styler at 0x7f30cfd674f0>"
      ]
     },
     "execution_count": 156,
     "metadata": {},
     "output_type": "execute_result"
    }
   ],
   "source": [
    "# Выведем долю пропущенных значений для каждого столбца датафрейма\n",
    "pd.DataFrame(rides.isna().mean()*100).style.set_precision(1).background_gradient('coolwarm')"
   ]
  },
  {
   "cell_type": "code",
   "execution_count": 157,
   "id": "1968ac37",
   "metadata": {},
   "outputs": [
    {
     "data": {
      "text/plain": [
       "Series([], Name: nans, dtype: int64)"
      ]
     },
     "execution_count": 157,
     "metadata": {},
     "output_type": "execute_result"
    }
   ],
   "source": [
    "# Выведем на экран только количество пропусков по столбцам\n",
    "rides.isna().sum().to_frame(name=\"nans\").query(\"nans > 0\")[\"nans\"]"
   ]
  },
  {
   "cell_type": "code",
   "execution_count": 158,
   "id": "2d6b63f6",
   "metadata": {},
   "outputs": [
    {
     "name": "stdout",
     "output_type": "stream",
     "text": [
      "<class 'pandas.core.frame.DataFrame'>\n",
      "RangeIndex: 2 entries, 0 to 1\n",
      "Data columns (total 4 columns):\n",
      " #   Column             Non-Null Count  Dtype \n",
      "---  ------             --------------  ----- \n",
      " 0   subscription_type  2 non-null      object\n",
      " 1   minute_price       2 non-null      int64 \n",
      " 2   start_ride_price   2 non-null      int64 \n",
      " 3   subscription_fee   2 non-null      int64 \n",
      "dtypes: int64(3), object(1)\n",
      "memory usage: 192.0+ bytes\n"
     ]
    }
   ],
   "source": [
    "# Проверьте наличие пропущенных значений и типы в датафреймах\n",
    "subscriptions.info()"
   ]
  },
  {
   "cell_type": "code",
   "execution_count": 159,
   "id": "7f592cd1",
   "metadata": {},
   "outputs": [
    {
     "data": {
      "text/plain": [
       "31"
      ]
     },
     "execution_count": 159,
     "metadata": {},
     "output_type": "execute_result"
    }
   ],
   "source": [
    "# Проверим на дубликаты\n",
    "users.duplicated().sum()"
   ]
  },
  {
   "cell_type": "code",
   "execution_count": 160,
   "id": "9a6b891c",
   "metadata": {},
   "outputs": [],
   "source": [
    "# удалим дубликаты\n",
    "users = users.drop_duplicates()"
   ]
  },
  {
   "cell_type": "code",
   "execution_count": 161,
   "id": "5d3b046a",
   "metadata": {},
   "outputs": [
    {
     "data": {
      "text/plain": [
       "0"
      ]
     },
     "execution_count": 161,
     "metadata": {},
     "output_type": "execute_result"
    }
   ],
   "source": [
    "# Проверим на дубликаты\n",
    "rides.duplicated().sum()"
   ]
  },
  {
   "cell_type": "code",
   "execution_count": 162,
   "id": "81584dff",
   "metadata": {},
   "outputs": [],
   "source": [
    "rides['distance'] = rides['distance'].round(2)"
   ]
  },
  {
   "cell_type": "code",
   "execution_count": 163,
   "id": "af68b11a",
   "metadata": {},
   "outputs": [],
   "source": [
    "rides['duration'] = np.ceil(rides['duration']) "
   ]
  },
  {
   "cell_type": "markdown",
   "id": "dbd6f7ee",
   "metadata": {},
   "source": [
    "После изучения всех датафреймов, можно сказать что во всех датасетах отсудствуют пропуски. В таблице users Количество явных дубликатов в датасете: 31, которые мы удалили. В таблице subscriptions 2 строки, дубликатов и пропусков там нет. Привели столбец date к формату pandas. Округлили distance до 2-х знаков после запятой. Продолжительность каждой поездки округлена. Создали новый столбец с номером месяца на основе столбца date."
   ]
  },
  {
   "cell_type": "markdown",
   "id": "212593c7",
   "metadata": {},
   "source": [
    "#### Шаг 3. Исследовательский анализ данных"
   ]
  },
  {
   "cell_type": "code",
   "execution_count": 164,
   "id": "e3a4274c",
   "metadata": {},
   "outputs": [
    {
     "data": {
      "image/png": "[encoded data removed]",
      "text/plain": [
       "<Figure size 504x288 with 1 Axes>"
      ]
     },
     "metadata": {
      "needs_background": "light"
     },
     "output_type": "display_data"
    }
   ],
   "source": [
    "# частота встречаемости городов\n",
    "city = users.pivot_table(index = 'city', values = 'user_id', aggfunc = 'count').sort_values(by='user_id', ascending=True)\n",
    "city.plot(kind='barh', figsize=(7, 4))\n",
    "plt.title('Количество пользователей')\n",
    "plt.xlabel('Частота встречаемости городов')\n",
    "plt.ylabel('Города')\n",
    "plt.show()"
   ]
  },
  {
   "cell_type": "code",
   "execution_count": 165,
   "id": "4463c5b7",
   "metadata": {},
   "outputs": [
    {
     "data": {
      "text/html": [
       "<div>\n",
       "<style scoped>\n",
       "    .dataframe tbody tr th:only-of-type {\n",
       "        vertical-align: middle;\n",
       "    }\n",
       "\n",
       "    .dataframe tbody tr th {\n",
       "        vertical-align: top;\n",
       "    }\n",
       "\n",
       "    .dataframe thead th {\n",
       "        text-align: right;\n",
       "    }\n",
       "</style>\n",
       "<table border=\"1\" class=\"dataframe\">\n",
       "  <thead>\n",
       "    <tr style=\"text-align: right;\">\n",
       "      <th></th>\n",
       "      <th>user_id</th>\n",
       "    </tr>\n",
       "    <tr>\n",
       "      <th>city</th>\n",
       "      <th></th>\n",
       "    </tr>\n",
       "  </thead>\n",
       "  <tbody>\n",
       "    <tr>\n",
       "      <th>Пятигорск</th>\n",
       "      <td>219</td>\n",
       "    </tr>\n",
       "    <tr>\n",
       "      <th>Екатеринбург</th>\n",
       "      <td>204</td>\n",
       "    </tr>\n",
       "    <tr>\n",
       "      <th>Ростов-на-Дону</th>\n",
       "      <td>198</td>\n",
       "    </tr>\n",
       "    <tr>\n",
       "      <th>Краснодар</th>\n",
       "      <td>193</td>\n",
       "    </tr>\n",
       "    <tr>\n",
       "      <th>Сочи</th>\n",
       "      <td>189</td>\n",
       "    </tr>\n",
       "    <tr>\n",
       "      <th>Омск</th>\n",
       "      <td>183</td>\n",
       "    </tr>\n",
       "    <tr>\n",
       "      <th>Тюмень</th>\n",
       "      <td>180</td>\n",
       "    </tr>\n",
       "    <tr>\n",
       "      <th>Москва</th>\n",
       "      <td>168</td>\n",
       "    </tr>\n",
       "  </tbody>\n",
       "</table>\n",
       "</div>"
      ],
      "text/plain": [
       "                user_id\n",
       "city                   \n",
       "Пятигорск           219\n",
       "Екатеринбург        204\n",
       "Ростов-на-Дону      198\n",
       "Краснодар           193\n",
       "Сочи                189\n",
       "Омск                183\n",
       "Тюмень              180\n",
       "Москва              168"
      ]
     },
     "metadata": {},
     "output_type": "display_data"
    }
   ],
   "source": [
    "display(city.sort_values(by='user_id', ascending = False))"
   ]
  },
  {
   "cell_type": "markdown",
   "id": "5e803e72",
   "metadata": {},
   "source": [
    "Датафреймы содержат данные о пользователях из 8 городов, больше всего пользователей из Пятигорска, меньше всего из Москвы."
   ]
  },
  {
   "cell_type": "code",
   "execution_count": 166,
   "id": "d5ec54c2",
   "metadata": {},
   "outputs": [
    {
     "data": {
      "image/png": "[encoded data removed]",
      "text/plain": [
       "<Figure size 504x288 with 1 Axes>"
      ]
     },
     "metadata": {
      "needs_background": "light"
     },
     "output_type": "display_data"
    }
   ],
   "source": [
    "# соотношение пользователей с подпиской и без подписки\n",
    "subscrib = users.pivot_table(index = 'subscription_type', values = 'user_id', aggfunc = 'count')\n",
    "subscrib.plot(kind='bar', figsize=(7, 4))\n",
    "plt.title('Соотношение пользователей с подпиской и без подписки')\n",
    "plt.xlabel('Количество пользователей')\n",
    "plt.ylabel('Подписки')\n",
    "plt.show()"
   ]
  },
  {
   "cell_type": "code",
   "execution_count": 187,
   "id": "ad1fe111",
   "metadata": {},
   "outputs": [
    {
     "data": {
      "text/html": [
       "<div>\n",
       "<style scoped>\n",
       "    .dataframe tbody tr th:only-of-type {\n",
       "        vertical-align: middle;\n",
       "    }\n",
       "\n",
       "    .dataframe tbody tr th {\n",
       "        vertical-align: top;\n",
       "    }\n",
       "\n",
       "    .dataframe thead th {\n",
       "        text-align: right;\n",
       "    }\n",
       "</style>\n",
       "<table border=\"1\" class=\"dataframe\">\n",
       "  <thead>\n",
       "    <tr style=\"text-align: right;\">\n",
       "      <th></th>\n",
       "      <th>user_id</th>\n",
       "    </tr>\n",
       "    <tr>\n",
       "      <th>subscription_type</th>\n",
       "      <th></th>\n",
       "    </tr>\n",
       "  </thead>\n",
       "  <tbody>\n",
       "    <tr>\n",
       "      <th>free</th>\n",
       "      <td>835</td>\n",
       "    </tr>\n",
       "    <tr>\n",
       "      <th>ultra</th>\n",
       "      <td>699</td>\n",
       "    </tr>\n",
       "  </tbody>\n",
       "</table>\n",
       "</div>"
      ],
      "text/plain": [
       "                   user_id\n",
       "subscription_type         \n",
       "free                   835\n",
       "ultra                  699"
      ]
     },
     "execution_count": 187,
     "metadata": {},
     "output_type": "execute_result"
    }
   ],
   "source": [
    "subscribе = users.pivot_table(index = 'subscription_type', values = 'user_id', aggfunc = 'count')  \n",
    "subscribе"
   ]
  },
  {
   "cell_type": "code",
   "execution_count": 199,
   "id": "0dc0b74a",
   "metadata": {},
   "outputs": [
    {
     "data": {
      "image/png": "[encoded data removed]",
      "text/plain": [
       "<Figure size 648x360 with 1 Axes>"
      ]
     },
     "metadata": {},
     "output_type": "display_data"
    }
   ],
   "source": [
    "subscribе.plot.pie(y='user_id', figsize=(9,5), explode=[0.1, 0], colors = ['c', 'skyblue'], shadow = True, autopct='%1.0f%%')\n",
    "plt.title('Соотношение пользователей с подпиской и без подписки')\n",
    "plt.legend(title = \"Подписка:\")\n",
    "plt.show()"
   ]
  },
  {
   "cell_type": "markdown",
   "id": "7d8dbdfb",
   "metadata": {},
   "source": [
    "Пользователей без подписки больше чем больше чем пользователей с подпиской Ultra. Пользователей без подписки 54% и пользователей в подпиской 46% в общем числе пользователей. "
   ]
  },
  {
   "cell_type": "code",
   "execution_count": 169,
   "id": "7348d235",
   "metadata": {},
   "outputs": [
    {
     "data": {
      "image/png": "[encoded data removed]",
      "text/plain": [
       "<Figure size 1080x360 with 1 Axes>"
      ]
     },
     "metadata": {
      "needs_background": "light"
     },
     "output_type": "display_data"
    }
   ],
   "source": [
    "# возраст пользователей\n",
    "users['age'].hist(bins=100, figsize=(15, 5), alpha = 0.5, edgecolor='black')\n",
    "plt.title('Возраст пользователей')\n",
    "plt.xlabel('Возраст')\n",
    "plt.ylabel('Количество пользователей')\n",
    "plt.show()"
   ]
  },
  {
   "cell_type": "code",
   "execution_count": 170,
   "id": "2da5810c",
   "metadata": {},
   "outputs": [
    {
     "data": {
      "text/plain": [
       "count    1534.000000\n",
       "mean       24.903520\n",
       "std         4.572367\n",
       "min        12.000000\n",
       "25%        22.000000\n",
       "50%        25.000000\n",
       "75%        28.000000\n",
       "max        43.000000\n",
       "Name: age, dtype: float64"
      ]
     },
     "execution_count": 170,
     "metadata": {},
     "output_type": "execute_result"
    }
   ],
   "source": [
    "users['age'].describe()"
   ]
  },
  {
   "cell_type": "markdown",
   "id": "fac275fb",
   "metadata": {},
   "source": [
    "Услугами сервиса аренды самокатов пользуются люди от 12 до 43 лет. Распределение возрастной кривой имеет нормальное распределение. Максимальное количество пользователей в возрасте 25 лет, этот же возраст является медианным."
   ]
  },
  {
   "cell_type": "code",
   "execution_count": 171,
   "id": "c0499588",
   "metadata": {},
   "outputs": [
    {
     "data": {
      "image/png": "[encoded data removed]",
      "text/plain": [
       "<Figure size 1080x360 with 1 Axes>"
      ]
     },
     "metadata": {
      "needs_background": "light"
     },
     "output_type": "display_data"
    }
   ],
   "source": [
    "# расстояние, которое пользователь преодолел за одну поездку\n",
    "rides['distance'].hist(bins=100, figsize=(15, 5), color='green', alpha = 0.5, edgecolor='black')\n",
    "plt.title('Расстояние, которое пользователь преодолел за одну поездку')\n",
    "plt.xlabel('Расстояние поездки')\n",
    "plt.ylabel('Количество пользователей')\n",
    "plt.show()"
   ]
  },
  {
   "cell_type": "code",
   "execution_count": 172,
   "id": "2c98d8d6",
   "metadata": {},
   "outputs": [
    {
     "data": {
      "text/plain": [
       "count    18068.000000\n",
       "mean      3070.659992\n",
       "std       1116.831222\n",
       "min          0.860000\n",
       "25%       2543.227500\n",
       "50%       3133.610000\n",
       "75%       3776.220000\n",
       "max       7211.010000\n",
       "Name: distance, dtype: float64"
      ]
     },
     "execution_count": 172,
     "metadata": {},
     "output_type": "execute_result"
    }
   ],
   "source": [
    "rides['distance'].describe()"
   ]
  },
  {
   "cell_type": "markdown",
   "id": "a4ec59cc",
   "metadata": {},
   "source": [
    "Расстояние, которое пользователи преодовают за одну поездку колеблется от 1 до 7211 метров. Медиана всех значений равна 3134 метров. Самое частое преодолеваемое расстояние около 3200 метров, еще есть небольшой всплеск около 800 метров."
   ]
  },
  {
   "cell_type": "code",
   "execution_count": 173,
   "id": "45004f19",
   "metadata": {
    "scrolled": true
   },
   "outputs": [
    {
     "data": {
      "image/png": "[encoded data removed]",
      "text/plain": [
       "<Figure size 1080x360 with 1 Axes>"
      ]
     },
     "metadata": {
      "needs_background": "light"
     },
     "output_type": "display_data"
    }
   ],
   "source": [
    "# продолжительность поездок \n",
    "rides['duration'].hist(bins=100, figsize=(15, 5), color='skyblue', edgecolor='black')\n",
    "plt.title('Продолжительность одной поездки')\n",
    "plt.xlabel('Время, мин')\n",
    "plt.ylabel('Количество пользователей')\n",
    "plt.show()"
   ]
  },
  {
   "cell_type": "code",
   "execution_count": 175,
   "id": "ee0dbf67",
   "metadata": {},
   "outputs": [
    {
     "data": {
      "text/plain": [
       "count    18068.000000\n",
       "mean        18.303520\n",
       "std          6.094928\n",
       "min          1.000000\n",
       "25%         14.000000\n",
       "50%         18.000000\n",
       "75%         22.000000\n",
       "max         41.000000\n",
       "Name: duration, dtype: float64"
      ]
     },
     "execution_count": 175,
     "metadata": {},
     "output_type": "execute_result"
    }
   ],
   "source": [
    "rides['duration'].describe()"
   ]
  },
  {
   "cell_type": "markdown",
   "id": "694c1fd8",
   "metadata": {},
   "source": [
    "Продолжительность поездок нормально распределена от 0 до 41 минуты. Продолжительность в 18 минут является как наиболее распространенной, так и медианным значением."
   ]
  },
  {
   "cell_type": "markdown",
   "id": "594bcb30",
   "metadata": {},
   "source": []
  },
  {
   "cell_type": "markdown",
   "id": "a4927bef",
   "metadata": {},
   "source": [
    "Датафреймы содержат данные о пользователях из 8 городов, больше всего пользователей из Пятигорска, меньше всего из Москвы. Пользователей без подписки больше, чем больше чем пользователей с подпиской Ultra. Пользователей без подписки 54% от всех пользователей и пользователей в подпиской 46% в общем числе пользователей. Услугами сервиса аренды самокатов пользуются люди от 12 до 43 лет. Распределение возрастной кривой имеет нормальное распределение. Максимальное количество пользователей в возрасте 25 лет, этот же возраст является медианным. Расстояние, которое пользователи преодолевают за одну поездку колеблется от 1 до 7211 метров. Медиана всех значений равна 3134 метров. Самое частое преодолеваемое расстояние около 3200 метров, еще есть небольшой всплеск около 800 метров.Продолжительность поездок нормально распределена от 0 до 41 минуты. Продолжительность в 18 минут является как наиболее распространенной, так и медианным значением."
   ]
  },
  {
   "cell_type": "markdown",
   "id": "4ef51331",
   "metadata": {},
   "source": [
    "#### Шаг 4. Объединение данных"
   ]
  },
  {
   "cell_type": "code",
   "execution_count": 176,
   "id": "b0225ce1",
   "metadata": {},
   "outputs": [
    {
     "data": {
      "text/plain": [
       "(18068, 5)"
      ]
     },
     "execution_count": 176,
     "metadata": {},
     "output_type": "execute_result"
    }
   ],
   "source": [
    "rides.shape"
   ]
  },
  {
   "cell_type": "code",
   "execution_count": 177,
   "id": "bc43d237",
   "metadata": {},
   "outputs": [
    {
     "data": {
      "text/plain": [
       "(2, 4)"
      ]
     },
     "execution_count": 177,
     "metadata": {},
     "output_type": "execute_result"
    }
   ],
   "source": [
    "subscriptions.shape"
   ]
  },
  {
   "cell_type": "code",
   "execution_count": 178,
   "id": "6bf288b5",
   "metadata": {},
   "outputs": [],
   "source": [
    "# Объедините данные о пользователях, поездках и подписках в один датафрейм\n",
    "df_all = users.merge(rides, on='user_id').merge(subscriptions, on='subscription_type')"
   ]
  },
  {
   "cell_type": "code",
   "execution_count": 179,
   "id": "3365852e",
   "metadata": {},
   "outputs": [
    {
     "data": {
      "text/html": [
       "<div>\n",
       "<style scoped>\n",
       "    .dataframe tbody tr th:only-of-type {\n",
       "        vertical-align: middle;\n",
       "    }\n",
       "\n",
       "    .dataframe tbody tr th {\n",
       "        vertical-align: top;\n",
       "    }\n",
       "\n",
       "    .dataframe thead th {\n",
       "        text-align: right;\n",
       "    }\n",
       "</style>\n",
       "<table border=\"1\" class=\"dataframe\">\n",
       "  <thead>\n",
       "    <tr style=\"text-align: right;\">\n",
       "      <th></th>\n",
       "      <th>user_id</th>\n",
       "      <th>name</th>\n",
       "      <th>age</th>\n",
       "      <th>city</th>\n",
       "      <th>subscription_type</th>\n",
       "      <th>distance</th>\n",
       "      <th>duration</th>\n",
       "      <th>date</th>\n",
       "      <th>month</th>\n",
       "      <th>minute_price</th>\n",
       "      <th>start_ride_price</th>\n",
       "      <th>subscription_fee</th>\n",
       "    </tr>\n",
       "  </thead>\n",
       "  <tbody>\n",
       "    <tr>\n",
       "      <th>0</th>\n",
       "      <td>1</td>\n",
       "      <td>Кира</td>\n",
       "      <td>22</td>\n",
       "      <td>Тюмень</td>\n",
       "      <td>ultra</td>\n",
       "      <td>4409.92</td>\n",
       "      <td>26.0</td>\n",
       "      <td>2021-01-01</td>\n",
       "      <td>1</td>\n",
       "      <td>6</td>\n",
       "      <td>0</td>\n",
       "      <td>199</td>\n",
       "    </tr>\n",
       "    <tr>\n",
       "      <th>1</th>\n",
       "      <td>1</td>\n",
       "      <td>Кира</td>\n",
       "      <td>22</td>\n",
       "      <td>Тюмень</td>\n",
       "      <td>ultra</td>\n",
       "      <td>2617.59</td>\n",
       "      <td>16.0</td>\n",
       "      <td>2021-01-18</td>\n",
       "      <td>1</td>\n",
       "      <td>6</td>\n",
       "      <td>0</td>\n",
       "      <td>199</td>\n",
       "    </tr>\n",
       "    <tr>\n",
       "      <th>2</th>\n",
       "      <td>1</td>\n",
       "      <td>Кира</td>\n",
       "      <td>22</td>\n",
       "      <td>Тюмень</td>\n",
       "      <td>ultra</td>\n",
       "      <td>754.16</td>\n",
       "      <td>7.0</td>\n",
       "      <td>2021-04-20</td>\n",
       "      <td>4</td>\n",
       "      <td>6</td>\n",
       "      <td>0</td>\n",
       "      <td>199</td>\n",
       "    </tr>\n",
       "    <tr>\n",
       "      <th>3</th>\n",
       "      <td>1</td>\n",
       "      <td>Кира</td>\n",
       "      <td>22</td>\n",
       "      <td>Тюмень</td>\n",
       "      <td>ultra</td>\n",
       "      <td>2694.78</td>\n",
       "      <td>19.0</td>\n",
       "      <td>2021-08-11</td>\n",
       "      <td>8</td>\n",
       "      <td>6</td>\n",
       "      <td>0</td>\n",
       "      <td>199</td>\n",
       "    </tr>\n",
       "    <tr>\n",
       "      <th>4</th>\n",
       "      <td>1</td>\n",
       "      <td>Кира</td>\n",
       "      <td>22</td>\n",
       "      <td>Тюмень</td>\n",
       "      <td>ultra</td>\n",
       "      <td>4028.69</td>\n",
       "      <td>27.0</td>\n",
       "      <td>2021-08-28</td>\n",
       "      <td>8</td>\n",
       "      <td>6</td>\n",
       "      <td>0</td>\n",
       "      <td>199</td>\n",
       "    </tr>\n",
       "  </tbody>\n",
       "</table>\n",
       "</div>"
      ],
      "text/plain": [
       "   user_id  name  age    city subscription_type  distance  duration  \\\n",
       "0        1  Кира   22  Тюмень             ultra   4409.92      26.0   \n",
       "1        1  Кира   22  Тюмень             ultra   2617.59      16.0   \n",
       "2        1  Кира   22  Тюмень             ultra    754.16       7.0   \n",
       "3        1  Кира   22  Тюмень             ultra   2694.78      19.0   \n",
       "4        1  Кира   22  Тюмень             ultra   4028.69      27.0   \n",
       "\n",
       "        date  month  minute_price  start_ride_price  subscription_fee  \n",
       "0 2021-01-01      1             6                 0               199  \n",
       "1 2021-01-18      1             6                 0               199  \n",
       "2 2021-04-20      4             6                 0               199  \n",
       "3 2021-08-11      8             6                 0               199  \n",
       "4 2021-08-28      8             6                 0               199  "
      ]
     },
     "execution_count": 179,
     "metadata": {},
     "output_type": "execute_result"
    }
   ],
   "source": [
    "df_all.head(5)"
   ]
  },
  {
   "cell_type": "code",
   "execution_count": 180,
   "id": "033eac27",
   "metadata": {},
   "outputs": [
    {
     "data": {
      "text/plain": [
       "(18068, 12)"
      ]
     },
     "execution_count": 180,
     "metadata": {},
     "output_type": "execute_result"
    }
   ],
   "source": [
    "df_all.shape"
   ]
  },
  {
   "cell_type": "code",
   "execution_count": 181,
   "id": "c7fa5f73",
   "metadata": {},
   "outputs": [],
   "source": [
    "# Создайте датафрейм c данными о пользователях без подписки\n",
    "free = df_all[df_all['subscription_type'] == 'free']"
   ]
  },
  {
   "cell_type": "code",
   "execution_count": 182,
   "id": "bfc5cec8",
   "metadata": {},
   "outputs": [
    {
     "data": {
      "text/html": [
       "<div>\n",
       "<style scoped>\n",
       "    .dataframe tbody tr th:only-of-type {\n",
       "        vertical-align: middle;\n",
       "    }\n",
       "\n",
       "    .dataframe tbody tr th {\n",
       "        vertical-align: top;\n",
       "    }\n",
       "\n",
       "    .dataframe thead th {\n",
       "        text-align: right;\n",
       "    }\n",
       "</style>\n",
       "<table border=\"1\" class=\"dataframe\">\n",
       "  <thead>\n",
       "    <tr style=\"text-align: right;\">\n",
       "      <th></th>\n",
       "      <th>user_id</th>\n",
       "      <th>age</th>\n",
       "      <th>distance</th>\n",
       "      <th>duration</th>\n",
       "      <th>month</th>\n",
       "      <th>minute_price</th>\n",
       "      <th>start_ride_price</th>\n",
       "      <th>subscription_fee</th>\n",
       "    </tr>\n",
       "  </thead>\n",
       "  <tbody>\n",
       "    <tr>\n",
       "      <th>count</th>\n",
       "      <td>11568.000000</td>\n",
       "      <td>11568.000000</td>\n",
       "      <td>11568.000000</td>\n",
       "      <td>11568.000000</td>\n",
       "      <td>11568.000000</td>\n",
       "      <td>11568.0</td>\n",
       "      <td>11568.0</td>\n",
       "      <td>11568.0</td>\n",
       "    </tr>\n",
       "    <tr>\n",
       "      <th>mean</th>\n",
       "      <td>1120.527230</td>\n",
       "      <td>24.893326</td>\n",
       "      <td>3045.495284</td>\n",
       "      <td>17.890992</td>\n",
       "      <td>6.522994</td>\n",
       "      <td>8.0</td>\n",
       "      <td>50.0</td>\n",
       "      <td>0.0</td>\n",
       "    </tr>\n",
       "    <tr>\n",
       "      <th>std</th>\n",
       "      <td>241.165628</td>\n",
       "      <td>4.481100</td>\n",
       "      <td>1246.173810</td>\n",
       "      <td>6.330250</td>\n",
       "      <td>3.449770</td>\n",
       "      <td>0.0</td>\n",
       "      <td>0.0</td>\n",
       "      <td>0.0</td>\n",
       "    </tr>\n",
       "    <tr>\n",
       "      <th>min</th>\n",
       "      <td>700.000000</td>\n",
       "      <td>12.000000</td>\n",
       "      <td>0.860000</td>\n",
       "      <td>1.000000</td>\n",
       "      <td>1.000000</td>\n",
       "      <td>8.0</td>\n",
       "      <td>50.0</td>\n",
       "      <td>0.0</td>\n",
       "    </tr>\n",
       "    <tr>\n",
       "      <th>25%</th>\n",
       "      <td>915.000000</td>\n",
       "      <td>22.000000</td>\n",
       "      <td>2366.560000</td>\n",
       "      <td>13.000000</td>\n",
       "      <td>4.000000</td>\n",
       "      <td>8.0</td>\n",
       "      <td>50.0</td>\n",
       "      <td>0.0</td>\n",
       "    </tr>\n",
       "    <tr>\n",
       "      <th>50%</th>\n",
       "      <td>1123.000000</td>\n",
       "      <td>25.000000</td>\n",
       "      <td>3114.650000</td>\n",
       "      <td>18.000000</td>\n",
       "      <td>7.000000</td>\n",
       "      <td>8.0</td>\n",
       "      <td>50.0</td>\n",
       "      <td>0.0</td>\n",
       "    </tr>\n",
       "    <tr>\n",
       "      <th>75%</th>\n",
       "      <td>1328.000000</td>\n",
       "      <td>28.000000</td>\n",
       "      <td>3905.695000</td>\n",
       "      <td>22.000000</td>\n",
       "      <td>9.000000</td>\n",
       "      <td>8.0</td>\n",
       "      <td>50.0</td>\n",
       "      <td>0.0</td>\n",
       "    </tr>\n",
       "    <tr>\n",
       "      <th>max</th>\n",
       "      <td>1534.000000</td>\n",
       "      <td>43.000000</td>\n",
       "      <td>7211.010000</td>\n",
       "      <td>35.000000</td>\n",
       "      <td>12.000000</td>\n",
       "      <td>8.0</td>\n",
       "      <td>50.0</td>\n",
       "      <td>0.0</td>\n",
       "    </tr>\n",
       "  </tbody>\n",
       "</table>\n",
       "</div>"
      ],
      "text/plain": [
       "            user_id           age      distance      duration         month  \\\n",
       "count  11568.000000  11568.000000  11568.000000  11568.000000  11568.000000   \n",
       "mean    1120.527230     24.893326   3045.495284     17.890992      6.522994   \n",
       "std      241.165628      4.481100   1246.173810      6.330250      3.449770   \n",
       "min      700.000000     12.000000      0.860000      1.000000      1.000000   \n",
       "25%      915.000000     22.000000   2366.560000     13.000000      4.000000   \n",
       "50%     1123.000000     25.000000   3114.650000     18.000000      7.000000   \n",
       "75%     1328.000000     28.000000   3905.695000     22.000000      9.000000   \n",
       "max     1534.000000     43.000000   7211.010000     35.000000     12.000000   \n",
       "\n",
       "       minute_price  start_ride_price  subscription_fee  \n",
       "count       11568.0           11568.0           11568.0  \n",
       "mean            8.0              50.0               0.0  \n",
       "std             0.0               0.0               0.0  \n",
       "min             8.0              50.0               0.0  \n",
       "25%             8.0              50.0               0.0  \n",
       "50%             8.0              50.0               0.0  \n",
       "75%             8.0              50.0               0.0  \n",
       "max             8.0              50.0               0.0  "
      ]
     },
     "execution_count": 182,
     "metadata": {},
     "output_type": "execute_result"
    }
   ],
   "source": [
    "free.describe()"
   ]
  },
  {
   "cell_type": "code",
   "execution_count": 183,
   "id": "e8c71315",
   "metadata": {},
   "outputs": [
    {
     "data": {
      "text/html": [
       "<div>\n",
       "<style scoped>\n",
       "    .dataframe tbody tr th:only-of-type {\n",
       "        vertical-align: middle;\n",
       "    }\n",
       "\n",
       "    .dataframe tbody tr th {\n",
       "        vertical-align: top;\n",
       "    }\n",
       "\n",
       "    .dataframe thead th {\n",
       "        text-align: right;\n",
       "    }\n",
       "</style>\n",
       "<table border=\"1\" class=\"dataframe\">\n",
       "  <thead>\n",
       "    <tr style=\"text-align: right;\">\n",
       "      <th></th>\n",
       "      <th>user_id</th>\n",
       "      <th>name</th>\n",
       "      <th>age</th>\n",
       "      <th>city</th>\n",
       "      <th>subscription_type</th>\n",
       "      <th>distance</th>\n",
       "      <th>duration</th>\n",
       "      <th>date</th>\n",
       "      <th>month</th>\n",
       "      <th>minute_price</th>\n",
       "      <th>start_ride_price</th>\n",
       "      <th>subscription_fee</th>\n",
       "    </tr>\n",
       "  </thead>\n",
       "  <tbody>\n",
       "    <tr>\n",
       "      <th>6500</th>\n",
       "      <td>700</td>\n",
       "      <td>Айдар</td>\n",
       "      <td>22</td>\n",
       "      <td>Омск</td>\n",
       "      <td>free</td>\n",
       "      <td>2515.69</td>\n",
       "      <td>15.0</td>\n",
       "      <td>2021-01-02</td>\n",
       "      <td>1</td>\n",
       "      <td>8</td>\n",
       "      <td>50</td>\n",
       "      <td>0</td>\n",
       "    </tr>\n",
       "    <tr>\n",
       "      <th>6501</th>\n",
       "      <td>700</td>\n",
       "      <td>Айдар</td>\n",
       "      <td>22</td>\n",
       "      <td>Омск</td>\n",
       "      <td>free</td>\n",
       "      <td>846.93</td>\n",
       "      <td>17.0</td>\n",
       "      <td>2021-02-01</td>\n",
       "      <td>2</td>\n",
       "      <td>8</td>\n",
       "      <td>50</td>\n",
       "      <td>0</td>\n",
       "    </tr>\n",
       "    <tr>\n",
       "      <th>6502</th>\n",
       "      <td>700</td>\n",
       "      <td>Айдар</td>\n",
       "      <td>22</td>\n",
       "      <td>Омск</td>\n",
       "      <td>free</td>\n",
       "      <td>4004.43</td>\n",
       "      <td>21.0</td>\n",
       "      <td>2021-02-04</td>\n",
       "      <td>2</td>\n",
       "      <td>8</td>\n",
       "      <td>50</td>\n",
       "      <td>0</td>\n",
       "    </tr>\n",
       "    <tr>\n",
       "      <th>6503</th>\n",
       "      <td>700</td>\n",
       "      <td>Айдар</td>\n",
       "      <td>22</td>\n",
       "      <td>Омск</td>\n",
       "      <td>free</td>\n",
       "      <td>1205.91</td>\n",
       "      <td>10.0</td>\n",
       "      <td>2021-02-10</td>\n",
       "      <td>2</td>\n",
       "      <td>8</td>\n",
       "      <td>50</td>\n",
       "      <td>0</td>\n",
       "    </tr>\n",
       "    <tr>\n",
       "      <th>6504</th>\n",
       "      <td>700</td>\n",
       "      <td>Айдар</td>\n",
       "      <td>22</td>\n",
       "      <td>Омск</td>\n",
       "      <td>free</td>\n",
       "      <td>3047.38</td>\n",
       "      <td>18.0</td>\n",
       "      <td>2021-02-14</td>\n",
       "      <td>2</td>\n",
       "      <td>8</td>\n",
       "      <td>50</td>\n",
       "      <td>0</td>\n",
       "    </tr>\n",
       "  </tbody>\n",
       "</table>\n",
       "</div>"
      ],
      "text/plain": [
       "      user_id   name  age  city subscription_type  distance  duration  \\\n",
       "6500      700  Айдар   22  Омск              free   2515.69      15.0   \n",
       "6501      700  Айдар   22  Омск              free    846.93      17.0   \n",
       "6502      700  Айдар   22  Омск              free   4004.43      21.0   \n",
       "6503      700  Айдар   22  Омск              free   1205.91      10.0   \n",
       "6504      700  Айдар   22  Омск              free   3047.38      18.0   \n",
       "\n",
       "           date  month  minute_price  start_ride_price  subscription_fee  \n",
       "6500 2021-01-02      1             8                50                 0  \n",
       "6501 2021-02-01      2             8                50                 0  \n",
       "6502 2021-02-04      2             8                50                 0  \n",
       "6503 2021-02-10      2             8                50                 0  \n",
       "6504 2021-02-14      2             8                50                 0  "
      ]
     },
     "execution_count": 183,
     "metadata": {},
     "output_type": "execute_result"
    }
   ],
   "source": [
    "free.head(5)"
   ]
  },
  {
   "cell_type": "code",
   "execution_count": 184,
   "id": "86fdcd9b",
   "metadata": {},
   "outputs": [],
   "source": [
    "# Создайте датафрейм с данными о пользователях с подпиской\n",
    "ultra = df_all[df_all['subscription_type'] == 'ultra']"
   ]
  },
  {
   "cell_type": "code",
   "execution_count": 185,
   "id": "9abe5204",
   "metadata": {},
   "outputs": [
    {
     "data": {
      "text/html": [
       "<div>\n",
       "<style scoped>\n",
       "    .dataframe tbody tr th:only-of-type {\n",
       "        vertical-align: middle;\n",
       "    }\n",
       "\n",
       "    .dataframe tbody tr th {\n",
       "        vertical-align: top;\n",
       "    }\n",
       "\n",
       "    .dataframe thead th {\n",
       "        text-align: right;\n",
       "    }\n",
       "</style>\n",
       "<table border=\"1\" class=\"dataframe\">\n",
       "  <thead>\n",
       "    <tr style=\"text-align: right;\">\n",
       "      <th></th>\n",
       "      <th>user_id</th>\n",
       "      <th>name</th>\n",
       "      <th>age</th>\n",
       "      <th>city</th>\n",
       "      <th>subscription_type</th>\n",
       "      <th>distance</th>\n",
       "      <th>duration</th>\n",
       "      <th>date</th>\n",
       "      <th>month</th>\n",
       "      <th>minute_price</th>\n",
       "      <th>start_ride_price</th>\n",
       "      <th>subscription_fee</th>\n",
       "    </tr>\n",
       "  </thead>\n",
       "  <tbody>\n",
       "    <tr>\n",
       "      <th>0</th>\n",
       "      <td>1</td>\n",
       "      <td>Кира</td>\n",
       "      <td>22</td>\n",
       "      <td>Тюмень</td>\n",
       "      <td>ultra</td>\n",
       "      <td>4409.92</td>\n",
       "      <td>26.0</td>\n",
       "      <td>2021-01-01</td>\n",
       "      <td>1</td>\n",
       "      <td>6</td>\n",
       "      <td>0</td>\n",
       "      <td>199</td>\n",
       "    </tr>\n",
       "    <tr>\n",
       "      <th>1</th>\n",
       "      <td>1</td>\n",
       "      <td>Кира</td>\n",
       "      <td>22</td>\n",
       "      <td>Тюмень</td>\n",
       "      <td>ultra</td>\n",
       "      <td>2617.59</td>\n",
       "      <td>16.0</td>\n",
       "      <td>2021-01-18</td>\n",
       "      <td>1</td>\n",
       "      <td>6</td>\n",
       "      <td>0</td>\n",
       "      <td>199</td>\n",
       "    </tr>\n",
       "    <tr>\n",
       "      <th>2</th>\n",
       "      <td>1</td>\n",
       "      <td>Кира</td>\n",
       "      <td>22</td>\n",
       "      <td>Тюмень</td>\n",
       "      <td>ultra</td>\n",
       "      <td>754.16</td>\n",
       "      <td>7.0</td>\n",
       "      <td>2021-04-20</td>\n",
       "      <td>4</td>\n",
       "      <td>6</td>\n",
       "      <td>0</td>\n",
       "      <td>199</td>\n",
       "    </tr>\n",
       "    <tr>\n",
       "      <th>3</th>\n",
       "      <td>1</td>\n",
       "      <td>Кира</td>\n",
       "      <td>22</td>\n",
       "      <td>Тюмень</td>\n",
       "      <td>ultra</td>\n",
       "      <td>2694.78</td>\n",
       "      <td>19.0</td>\n",
       "      <td>2021-08-11</td>\n",
       "      <td>8</td>\n",
       "      <td>6</td>\n",
       "      <td>0</td>\n",
       "      <td>199</td>\n",
       "    </tr>\n",
       "    <tr>\n",
       "      <th>4</th>\n",
       "      <td>1</td>\n",
       "      <td>Кира</td>\n",
       "      <td>22</td>\n",
       "      <td>Тюмень</td>\n",
       "      <td>ultra</td>\n",
       "      <td>4028.69</td>\n",
       "      <td>27.0</td>\n",
       "      <td>2021-08-28</td>\n",
       "      <td>8</td>\n",
       "      <td>6</td>\n",
       "      <td>0</td>\n",
       "      <td>199</td>\n",
       "    </tr>\n",
       "  </tbody>\n",
       "</table>\n",
       "</div>"
      ],
      "text/plain": [
       "   user_id  name  age    city subscription_type  distance  duration  \\\n",
       "0        1  Кира   22  Тюмень             ultra   4409.92      26.0   \n",
       "1        1  Кира   22  Тюмень             ultra   2617.59      16.0   \n",
       "2        1  Кира   22  Тюмень             ultra    754.16       7.0   \n",
       "3        1  Кира   22  Тюмень             ultra   2694.78      19.0   \n",
       "4        1  Кира   22  Тюмень             ultra   4028.69      27.0   \n",
       "\n",
       "        date  month  minute_price  start_ride_price  subscription_fee  \n",
       "0 2021-01-01      1             6                 0               199  \n",
       "1 2021-01-18      1             6                 0               199  \n",
       "2 2021-04-20      4             6                 0               199  \n",
       "3 2021-08-11      8             6                 0               199  \n",
       "4 2021-08-28      8             6                 0               199  "
      ]
     },
     "execution_count": 185,
     "metadata": {},
     "output_type": "execute_result"
    }
   ],
   "source": [
    "ultra.head(5)"
   ]
  },
  {
   "cell_type": "code",
   "execution_count": 186,
   "id": "ac0ad648",
   "metadata": {},
   "outputs": [
    {
     "data": {
      "text/html": [
       "<div>\n",
       "<style scoped>\n",
       "    .dataframe tbody tr th:only-of-type {\n",
       "        vertical-align: middle;\n",
       "    }\n",
       "\n",
       "    .dataframe tbody tr th {\n",
       "        vertical-align: top;\n",
       "    }\n",
       "\n",
       "    .dataframe thead th {\n",
       "        text-align: right;\n",
       "    }\n",
       "</style>\n",
       "<table border=\"1\" class=\"dataframe\">\n",
       "  <thead>\n",
       "    <tr style=\"text-align: right;\">\n",
       "      <th></th>\n",
       "      <th>user_id</th>\n",
       "      <th>age</th>\n",
       "      <th>distance</th>\n",
       "      <th>duration</th>\n",
       "      <th>month</th>\n",
       "      <th>minute_price</th>\n",
       "      <th>start_ride_price</th>\n",
       "      <th>subscription_fee</th>\n",
       "    </tr>\n",
       "  </thead>\n",
       "  <tbody>\n",
       "    <tr>\n",
       "      <th>count</th>\n",
       "      <td>6500.000000</td>\n",
       "      <td>6500.000000</td>\n",
       "      <td>6500.000000</td>\n",
       "      <td>6500.000000</td>\n",
       "      <td>6500.000000</td>\n",
       "      <td>6500.0</td>\n",
       "      <td>6500.0</td>\n",
       "      <td>6500.0</td>\n",
       "    </tr>\n",
       "    <tr>\n",
       "      <th>mean</th>\n",
       "      <td>348.725385</td>\n",
       "      <td>24.892615</td>\n",
       "      <td>3115.445431</td>\n",
       "      <td>19.037692</td>\n",
       "      <td>6.422308</td>\n",
       "      <td>6.0</td>\n",
       "      <td>0.0</td>\n",
       "      <td>199.0</td>\n",
       "    </tr>\n",
       "    <tr>\n",
       "      <th>std</th>\n",
       "      <td>201.099339</td>\n",
       "      <td>4.757208</td>\n",
       "      <td>836.895369</td>\n",
       "      <td>5.577439</td>\n",
       "      <td>3.414616</td>\n",
       "      <td>0.0</td>\n",
       "      <td>0.0</td>\n",
       "      <td>0.0</td>\n",
       "    </tr>\n",
       "    <tr>\n",
       "      <th>min</th>\n",
       "      <td>1.000000</td>\n",
       "      <td>12.000000</td>\n",
       "      <td>244.210000</td>\n",
       "      <td>4.000000</td>\n",
       "      <td>1.000000</td>\n",
       "      <td>6.0</td>\n",
       "      <td>0.0</td>\n",
       "      <td>199.0</td>\n",
       "    </tr>\n",
       "    <tr>\n",
       "      <th>25%</th>\n",
       "      <td>175.000000</td>\n",
       "      <td>22.000000</td>\n",
       "      <td>2785.447500</td>\n",
       "      <td>15.000000</td>\n",
       "      <td>4.000000</td>\n",
       "      <td>6.0</td>\n",
       "      <td>0.0</td>\n",
       "      <td>199.0</td>\n",
       "    </tr>\n",
       "    <tr>\n",
       "      <th>50%</th>\n",
       "      <td>351.000000</td>\n",
       "      <td>25.000000</td>\n",
       "      <td>3148.640000</td>\n",
       "      <td>19.000000</td>\n",
       "      <td>6.000000</td>\n",
       "      <td>6.0</td>\n",
       "      <td>0.0</td>\n",
       "      <td>199.0</td>\n",
       "    </tr>\n",
       "    <tr>\n",
       "      <th>75%</th>\n",
       "      <td>525.000000</td>\n",
       "      <td>28.000000</td>\n",
       "      <td>3560.577500</td>\n",
       "      <td>22.000000</td>\n",
       "      <td>9.000000</td>\n",
       "      <td>6.0</td>\n",
       "      <td>0.0</td>\n",
       "      <td>199.0</td>\n",
       "    </tr>\n",
       "    <tr>\n",
       "      <th>max</th>\n",
       "      <td>699.000000</td>\n",
       "      <td>38.000000</td>\n",
       "      <td>5699.770000</td>\n",
       "      <td>41.000000</td>\n",
       "      <td>12.000000</td>\n",
       "      <td>6.0</td>\n",
       "      <td>0.0</td>\n",
       "      <td>199.0</td>\n",
       "    </tr>\n",
       "  </tbody>\n",
       "</table>\n",
       "</div>"
      ],
      "text/plain": [
       "           user_id          age     distance     duration        month  \\\n",
       "count  6500.000000  6500.000000  6500.000000  6500.000000  6500.000000   \n",
       "mean    348.725385    24.892615  3115.445431    19.037692     6.422308   \n",
       "std     201.099339     4.757208   836.895369     5.577439     3.414616   \n",
       "min       1.000000    12.000000   244.210000     4.000000     1.000000   \n",
       "25%     175.000000    22.000000  2785.447500    15.000000     4.000000   \n",
       "50%     351.000000    25.000000  3148.640000    19.000000     6.000000   \n",
       "75%     525.000000    28.000000  3560.577500    22.000000     9.000000   \n",
       "max     699.000000    38.000000  5699.770000    41.000000    12.000000   \n",
       "\n",
       "       minute_price  start_ride_price  subscription_fee  \n",
       "count        6500.0            6500.0            6500.0  \n",
       "mean            6.0               0.0             199.0  \n",
       "std             0.0               0.0               0.0  \n",
       "min             6.0               0.0             199.0  \n",
       "25%             6.0               0.0             199.0  \n",
       "50%             6.0               0.0             199.0  \n",
       "75%             6.0               0.0             199.0  \n",
       "max             6.0               0.0             199.0  "
      ]
     },
     "execution_count": 186,
     "metadata": {},
     "output_type": "execute_result"
    }
   ],
   "source": [
    "ultra.describe()"
   ]
  },
  {
   "cell_type": "code",
   "execution_count": 38,
   "id": "3db3b1d0",
   "metadata": {},
   "outputs": [
    {
     "data": {
      "image/png": "[encoded data removed]",
      "text/plain": [
       "<Figure size 1080x360 with 1 Axes>"
      ]
     },
     "metadata": {
      "needs_background": "light"
     },
     "output_type": "display_data"
    }
   ],
   "source": [
    "# Визуализируйте информацию о расстоянии для пользователей обеих категорий\n",
    "free['distance'].plot(kind = 'hist', grid=True, figsize = (15,5), color='blue', alpha=0.5, bins = 30, label='без подписки')\n",
    "ultra['distance'].plot(kind = 'hist', grid=True, figsize = (15,5), color='green', alpha=0.7, bins = 30, label='с подпиской Ultra')\n",
    "plt.title('Расстояние одной поездки для пользователей с подпиской и без')\n",
    "plt.xlabel('Расстояние, м')\n",
    "plt.ylabel('Количество пользователей')\n",
    "plt.legend(loc='upper right')\n",
    "plt.show()"
   ]
  },
  {
   "cell_type": "code",
   "execution_count": 39,
   "id": "4413d768",
   "metadata": {},
   "outputs": [
    {
     "data": {
      "image/png": "[encoded data removed]",
      "text/plain": [
       "<Figure size 1080x360 with 1 Axes>"
      ]
     },
     "metadata": {
      "needs_background": "light"
     },
     "output_type": "display_data"
    }
   ],
   "source": [
    "# Визуализируйте информацию о времени поездок для пользователей обеих категорий\n",
    "free['duration'].plot(kind = 'hist', grid=True, figsize = (15,5), color='violet', alpha=0.9, bins = 30, label='без подписки')\n",
    "ultra['duration'].plot(kind = 'hist', grid=True, figsize = (15,5), color='green', alpha=0.7, bins = 30, label='с подпиской Ultra')\n",
    "plt.title('Продолжительность одной поездки для пользователей с подпиской и без')\n",
    "plt.xlabel('Время, мин')\n",
    "plt.ylabel('Количество пользователей')\n",
    "plt.legend(loc='upper right')\n",
    "plt.show()"
   ]
  },
  {
   "cell_type": "markdown",
   "id": "2de74933",
   "metadata": {},
   "source": [
    "Размер датасетов до объединения rides: 18068 строк и 5 столбцов, subscriptions: 2 строк и 4 столбцов. Объединили 2 датафрейма в один, после объединения размер общего датафрейма df_all: 18068 строк и 12 столбцов. Для дальнейшего анализа, создали еще два датафрейма с данными о пользователях с подпиской и без подписки. Поездок с использованием подписки ‘ultra’ составляет 11568, поездок, без подписки 6500. Выявлено, что с подпиской ultra минимальное время поездки 0.5 против 3.76 минут без подписки, а максимальное 34.95 против 40.83 мин. Также с подпиской ultra, минимальное расстояние поездки 244 против 0,86 м без подписки, а максимальное 5699 м с подпиской и максимальное значение без подписки 7211 метров. На графиках видим разницу в расстоянии и времени поездок в двух категориях пользователей. В обоих случаях количество поездок относительно нормально распределено в зависимости от их продолжительности. Пик количества поездок приходится на 17-18 минут. "
   ]
  },
  {
   "cell_type": "markdown",
   "id": "402d620f",
   "metadata": {},
   "source": [
    "#### Шаг 5. Подсчёт выручки"
   ]
  },
  {
   "cell_type": "code",
   "execution_count": 133,
   "id": "53049e0a",
   "metadata": {},
   "outputs": [
    {
     "data": {
      "text/html": [
       "<div>\n",
       "<style scoped>\n",
       "    .dataframe tbody tr th:only-of-type {\n",
       "        vertical-align: middle;\n",
       "    }\n",
       "\n",
       "    .dataframe tbody tr th {\n",
       "        vertical-align: top;\n",
       "    }\n",
       "\n",
       "    .dataframe thead th {\n",
       "        text-align: right;\n",
       "    }\n",
       "</style>\n",
       "<table border=\"1\" class=\"dataframe\">\n",
       "  <thead>\n",
       "    <tr style=\"text-align: right;\">\n",
       "      <th></th>\n",
       "      <th></th>\n",
       "      <th>count</th>\n",
       "      <th>distance</th>\n",
       "      <th>duration</th>\n",
       "      <th>minute_price</th>\n",
       "      <th>start_ride_price</th>\n",
       "      <th>subscription_fee</th>\n",
       "    </tr>\n",
       "    <tr>\n",
       "      <th>user_id</th>\n",
       "      <th>month</th>\n",
       "      <th></th>\n",
       "      <th></th>\n",
       "      <th></th>\n",
       "      <th></th>\n",
       "      <th></th>\n",
       "      <th></th>\n",
       "    </tr>\n",
       "  </thead>\n",
       "  <tbody>\n",
       "    <tr>\n",
       "      <th rowspan=\"6\" valign=\"top\">1</th>\n",
       "      <th>1</th>\n",
       "      <td>2</td>\n",
       "      <td>7027.51</td>\n",
       "      <td>42.0</td>\n",
       "      <td>6</td>\n",
       "      <td>0</td>\n",
       "      <td>199</td>\n",
       "    </tr>\n",
       "    <tr>\n",
       "      <th>4</th>\n",
       "      <td>1</td>\n",
       "      <td>754.16</td>\n",
       "      <td>7.0</td>\n",
       "      <td>6</td>\n",
       "      <td>0</td>\n",
       "      <td>199</td>\n",
       "    </tr>\n",
       "    <tr>\n",
       "      <th>8</th>\n",
       "      <td>2</td>\n",
       "      <td>6723.47</td>\n",
       "      <td>46.0</td>\n",
       "      <td>6</td>\n",
       "      <td>0</td>\n",
       "      <td>199</td>\n",
       "    </tr>\n",
       "    <tr>\n",
       "      <th>10</th>\n",
       "      <td>2</td>\n",
       "      <td>5809.91</td>\n",
       "      <td>32.0</td>\n",
       "      <td>6</td>\n",
       "      <td>0</td>\n",
       "      <td>199</td>\n",
       "    </tr>\n",
       "    <tr>\n",
       "      <th>11</th>\n",
       "      <td>3</td>\n",
       "      <td>7003.50</td>\n",
       "      <td>56.0</td>\n",
       "      <td>6</td>\n",
       "      <td>0</td>\n",
       "      <td>199</td>\n",
       "    </tr>\n",
       "    <tr>\n",
       "      <th>12</th>\n",
       "      <td>2</td>\n",
       "      <td>6751.63</td>\n",
       "      <td>28.0</td>\n",
       "      <td>6</td>\n",
       "      <td>0</td>\n",
       "      <td>199</td>\n",
       "    </tr>\n",
       "    <tr>\n",
       "      <th rowspan=\"4\" valign=\"top\">2</th>\n",
       "      <th>3</th>\n",
       "      <td>3</td>\n",
       "      <td>10187.73</td>\n",
       "      <td>63.0</td>\n",
       "      <td>6</td>\n",
       "      <td>0</td>\n",
       "      <td>199</td>\n",
       "    </tr>\n",
       "    <tr>\n",
       "      <th>4</th>\n",
       "      <td>2</td>\n",
       "      <td>6164.39</td>\n",
       "      <td>40.0</td>\n",
       "      <td>6</td>\n",
       "      <td>0</td>\n",
       "      <td>199</td>\n",
       "    </tr>\n",
       "    <tr>\n",
       "      <th>6</th>\n",
       "      <td>1</td>\n",
       "      <td>3255.34</td>\n",
       "      <td>14.0</td>\n",
       "      <td>6</td>\n",
       "      <td>0</td>\n",
       "      <td>199</td>\n",
       "    </tr>\n",
       "    <tr>\n",
       "      <th>7</th>\n",
       "      <td>2</td>\n",
       "      <td>6780.73</td>\n",
       "      <td>48.0</td>\n",
       "      <td>6</td>\n",
       "      <td>0</td>\n",
       "      <td>199</td>\n",
       "    </tr>\n",
       "  </tbody>\n",
       "</table>\n",
       "</div>"
      ],
      "text/plain": [
       "               count  distance  duration  minute_price  start_ride_price  \\\n",
       "user_id month                                                              \n",
       "1       1          2   7027.51      42.0             6                 0   \n",
       "        4          1    754.16       7.0             6                 0   \n",
       "        8          2   6723.47      46.0             6                 0   \n",
       "        10         2   5809.91      32.0             6                 0   \n",
       "        11         3   7003.50      56.0             6                 0   \n",
       "        12         2   6751.63      28.0             6                 0   \n",
       "2       3          3  10187.73      63.0             6                 0   \n",
       "        4          2   6164.39      40.0             6                 0   \n",
       "        6          1   3255.34      14.0             6                 0   \n",
       "        7          2   6780.73      48.0             6                 0   \n",
       "\n",
       "               subscription_fee  \n",
       "user_id month                    \n",
       "1       1                   199  \n",
       "        4                   199  \n",
       "        8                   199  \n",
       "        10                  199  \n",
       "        11                  199  \n",
       "        12                  199  \n",
       "2       3                   199  \n",
       "        4                   199  \n",
       "        6                   199  \n",
       "        7                   199  "
      ]
     },
     "execution_count": 133,
     "metadata": {},
     "output_type": "execute_result"
    }
   ],
   "source": [
    "# Создайте датафрейм с агрегированными данными о поездках на основе датафрейма с объединёнными данными из шага 4: \n",
    "# найдите суммарное расстояние, количество поездок и суммарное время для каждого пользователя за каждый месяц\n",
    "# каждое значение из столбца duration округляется с помощью «потолка»\n",
    "\n",
    "df_all['duration'] = np.ceil(df_all['duration']) \n",
    "df_all['distance'] = df_all['distance'].round(2)\n",
    "\n",
    "revenue = df_all.pivot_table(\n",
    "    index=('user_id', 'month'), \n",
    "    values=(\n",
    "        'distance', \n",
    "        'duration', \n",
    "        'minute_price', \n",
    "        'start_ride_price', \n",
    "        'subscription_fee'\n",
    "    ), \n",
    "    aggfunc=({'distance':{'count', 'sum'}, \n",
    "             'duration':'sum',\n",
    "             'minute_price': 'mean',\n",
    "             'start_ride_price':'mean',\n",
    "             'subscription_fee':'mean',})\n",
    ")\n",
    "\n",
    "revenue.columns = [\n",
    "    'count', 'distance', \n",
    "    'duration', \n",
    "    'minute_price',\n",
    "    'start_ride_price', \n",
    "    'subscription_fee'\n",
    "]\n",
    "\n",
    "\n",
    "revenue.head(10)\n"
   ]
  },
  {
   "cell_type": "code",
   "execution_count": 135,
   "id": "e0c5721a",
   "metadata": {},
   "outputs": [
    {
     "data": {
      "text/plain": [
       "Series([], Name: nans, dtype: int64)"
      ]
     },
     "execution_count": 135,
     "metadata": {},
     "output_type": "execute_result"
    }
   ],
   "source": [
    "# Выведем на экран только количество пропусков по столбцам\n",
    "revenue.isna().sum().to_frame(name=\"nans\").query(\"nans > 0\")[\"nans\"]"
   ]
  },
  {
   "cell_type": "code",
   "execution_count": 136,
   "id": "bb8cc21e",
   "metadata": {},
   "outputs": [],
   "source": [
    "# В этот же датафрейм добавьте столбец с помесячной выручкой, которую принёс каждый пользователь\n",
    "\n",
    "revenue['revenue'] = (\n",
    "revenue['start_ride_price']*revenue['count']+\n",
    "revenue['minute_price']*revenue['duration']+\n",
    "revenue['subscription_fee'])"
   ]
  },
  {
   "cell_type": "code",
   "execution_count": 48,
   "id": "95550868",
   "metadata": {},
   "outputs": [
    {
     "data": {
      "text/html": [
       "<div>\n",
       "<style scoped>\n",
       "    .dataframe tbody tr th:only-of-type {\n",
       "        vertical-align: middle;\n",
       "    }\n",
       "\n",
       "    .dataframe tbody tr th {\n",
       "        vertical-align: top;\n",
       "    }\n",
       "\n",
       "    .dataframe thead th {\n",
       "        text-align: right;\n",
       "    }\n",
       "</style>\n",
       "<table border=\"1\" class=\"dataframe\">\n",
       "  <thead>\n",
       "    <tr style=\"text-align: right;\">\n",
       "      <th></th>\n",
       "      <th></th>\n",
       "      <th>count</th>\n",
       "      <th>distance</th>\n",
       "      <th>duration</th>\n",
       "      <th>minute_price</th>\n",
       "      <th>start_ride_price</th>\n",
       "      <th>subscription_fee</th>\n",
       "      <th>revenue</th>\n",
       "    </tr>\n",
       "    <tr>\n",
       "      <th>user_id</th>\n",
       "      <th>month</th>\n",
       "      <th></th>\n",
       "      <th></th>\n",
       "      <th></th>\n",
       "      <th></th>\n",
       "      <th></th>\n",
       "      <th></th>\n",
       "      <th></th>\n",
       "    </tr>\n",
       "  </thead>\n",
       "  <tbody>\n",
       "    <tr>\n",
       "      <th rowspan=\"6\" valign=\"top\">1</th>\n",
       "      <th>1</th>\n",
       "      <td>2</td>\n",
       "      <td>7027.51</td>\n",
       "      <td>42.0</td>\n",
       "      <td>6</td>\n",
       "      <td>0</td>\n",
       "      <td>199</td>\n",
       "      <td>451.0</td>\n",
       "    </tr>\n",
       "    <tr>\n",
       "      <th>4</th>\n",
       "      <td>1</td>\n",
       "      <td>754.16</td>\n",
       "      <td>7.0</td>\n",
       "      <td>6</td>\n",
       "      <td>0</td>\n",
       "      <td>199</td>\n",
       "      <td>241.0</td>\n",
       "    </tr>\n",
       "    <tr>\n",
       "      <th>8</th>\n",
       "      <td>2</td>\n",
       "      <td>6723.47</td>\n",
       "      <td>46.0</td>\n",
       "      <td>6</td>\n",
       "      <td>0</td>\n",
       "      <td>199</td>\n",
       "      <td>475.0</td>\n",
       "    </tr>\n",
       "    <tr>\n",
       "      <th>10</th>\n",
       "      <td>2</td>\n",
       "      <td>5809.91</td>\n",
       "      <td>32.0</td>\n",
       "      <td>6</td>\n",
       "      <td>0</td>\n",
       "      <td>199</td>\n",
       "      <td>391.0</td>\n",
       "    </tr>\n",
       "    <tr>\n",
       "      <th>11</th>\n",
       "      <td>3</td>\n",
       "      <td>7003.50</td>\n",
       "      <td>56.0</td>\n",
       "      <td>6</td>\n",
       "      <td>0</td>\n",
       "      <td>199</td>\n",
       "      <td>535.0</td>\n",
       "    </tr>\n",
       "    <tr>\n",
       "      <th>12</th>\n",
       "      <td>2</td>\n",
       "      <td>6751.63</td>\n",
       "      <td>28.0</td>\n",
       "      <td>6</td>\n",
       "      <td>0</td>\n",
       "      <td>199</td>\n",
       "      <td>367.0</td>\n",
       "    </tr>\n",
       "    <tr>\n",
       "      <th rowspan=\"4\" valign=\"top\">2</th>\n",
       "      <th>3</th>\n",
       "      <td>3</td>\n",
       "      <td>10187.73</td>\n",
       "      <td>63.0</td>\n",
       "      <td>6</td>\n",
       "      <td>0</td>\n",
       "      <td>199</td>\n",
       "      <td>577.0</td>\n",
       "    </tr>\n",
       "    <tr>\n",
       "      <th>4</th>\n",
       "      <td>2</td>\n",
       "      <td>6164.39</td>\n",
       "      <td>40.0</td>\n",
       "      <td>6</td>\n",
       "      <td>0</td>\n",
       "      <td>199</td>\n",
       "      <td>439.0</td>\n",
       "    </tr>\n",
       "    <tr>\n",
       "      <th>6</th>\n",
       "      <td>1</td>\n",
       "      <td>3255.34</td>\n",
       "      <td>14.0</td>\n",
       "      <td>6</td>\n",
       "      <td>0</td>\n",
       "      <td>199</td>\n",
       "      <td>283.0</td>\n",
       "    </tr>\n",
       "    <tr>\n",
       "      <th>7</th>\n",
       "      <td>2</td>\n",
       "      <td>6780.73</td>\n",
       "      <td>48.0</td>\n",
       "      <td>6</td>\n",
       "      <td>0</td>\n",
       "      <td>199</td>\n",
       "      <td>487.0</td>\n",
       "    </tr>\n",
       "  </tbody>\n",
       "</table>\n",
       "</div>"
      ],
      "text/plain": [
       "               count  distance  duration  minute_price  start_ride_price  \\\n",
       "user_id month                                                              \n",
       "1       1          2   7027.51      42.0             6                 0   \n",
       "        4          1    754.16       7.0             6                 0   \n",
       "        8          2   6723.47      46.0             6                 0   \n",
       "        10         2   5809.91      32.0             6                 0   \n",
       "        11         3   7003.50      56.0             6                 0   \n",
       "        12         2   6751.63      28.0             6                 0   \n",
       "2       3          3  10187.73      63.0             6                 0   \n",
       "        4          2   6164.39      40.0             6                 0   \n",
       "        6          1   3255.34      14.0             6                 0   \n",
       "        7          2   6780.73      48.0             6                 0   \n",
       "\n",
       "               subscription_fee  revenue  \n",
       "user_id month                             \n",
       "1       1                   199    451.0  \n",
       "        4                   199    241.0  \n",
       "        8                   199    475.0  \n",
       "        10                  199    391.0  \n",
       "        11                  199    535.0  \n",
       "        12                  199    367.0  \n",
       "2       3                   199    577.0  \n",
       "        4                   199    439.0  \n",
       "        6                   199    283.0  \n",
       "        7                   199    487.0  "
      ]
     },
     "execution_count": 48,
     "metadata": {},
     "output_type": "execute_result"
    }
   ],
   "source": [
    "revenue.head(10)"
   ]
  },
  {
   "cell_type": "markdown",
   "id": "ea24b3b7",
   "metadata": {},
   "source": [
    "Добавили столбцы в датафрейм: для суммарного расстояния - distance, количества поездок - count и суммарного времени - duration\n",
    "Для столбца с помесячной выручкой, которую принёс каждый пользователь добавили колонку revenue. "
   ]
  },
  {
   "cell_type": "markdown",
   "id": "41545ac0",
   "metadata": {},
   "source": [
    "#### Шаг 6. Проверка гипотез"
   ]
  },
  {
   "cell_type": "markdown",
   "id": "71827503",
   "metadata": {},
   "source": [
    "Гипотеза 1\n",
    "\n",
    "Важно понять, тратят ли пользователи с подпиской больше времени на поездки? Если да, то пользователи с подпиской могут быть «выгоднее» для компании. Проверьте гипотезу. Используйте исходные данные о продолжительности каждой сессии — отдельно для подписчиков и тех, у кого нет подписки.\n",
    "\n",
    "Выдвинем гипотезу:\n",
    "\n",
    "Н0: Средняя продолжительность поездки с подпиской ultra и без free равна\n",
    "\n",
    "Н1: Средняя продолжительность поездки с подпиской ultra больше продолжительности поездок без подписок free"
   ]
  },
  {
   "cell_type": "code",
   "execution_count": 43,
   "id": "23ea867b",
   "metadata": {},
   "outputs": [
    {
     "name": "stdout",
     "output_type": "stream",
     "text": [
      "p-значение: 2.4959453720736625e-34\n",
      "Отвергаем нулевую гипотезу\n"
     ]
    }
   ],
   "source": [
    "alpha = 0.05 # уровень статистической значимости\n",
    "\n",
    "results = st.ttest_ind(ultra['duration'], free['duration'], alternative='greater')\n",
    "\n",
    "print('p-значение:', results.pvalue)\n",
    "\n",
    "if results.pvalue < alpha:\n",
    "    print('Отвергаем нулевую гипотезу')\n",
    "else:\n",
    "    print('Не отвергаем нулевую гипотезу')"
   ]
  },
  {
   "cell_type": "markdown",
   "id": "a2aa893b",
   "metadata": {},
   "source": [
    "Гипотеза 2\n",
    "\n",
    "Расстояние одной поездки в 3130 метров — оптимальное с точки зрения износа самоката. Можно ли сказать, что среднее расстояние, которое проезжают пользователи с подпиской за одну поездку, не превышает 3130 метров? Проверьте гипотезу и сделайте выводы.\n",
    "    \n",
    "\n",
    "Выдвинем гипотезу:\n",
    "\n",
    "Н0: Среднее расстояние поездки с подпиской ultra равно 3130 метров.\n",
    "\n",
    "Н1: Среднее расстояние поездки с подпиской ultra больше 3130 метров."
   ]
  },
  {
   "cell_type": "code",
   "execution_count": 142,
   "id": "3619094b",
   "metadata": {},
   "outputs": [
    {
     "name": "stdout",
     "output_type": "stream",
     "text": [
      "p-значение: 0.9195362605842414\n",
      "Не получилось отвергнуть нулевую гипотезу\n"
     ]
    }
   ],
   "source": [
    "interested_value = 3130 # оптимальное с точки зрения износа самоката\n",
    "\n",
    "alpha = 0.05 # уровень статистической значимости\n",
    "\n",
    "results = st.ttest_1samp(ultra['distance'], interested_value, alternative='greater')\n",
    "\n",
    "print('p-значение:', results.pvalue)\n",
    "\n",
    "if results.pvalue < alpha:\n",
    "    print('Отвергаем нулевую гипотезу')\n",
    "else:\n",
    "    print('Не получилось отвергнуть нулевую гипотезу')"
   ]
  },
  {
   "cell_type": "markdown",
   "id": "7c113dcb",
   "metadata": {},
   "source": [
    "Гипотеза 3 \n",
    "\n",
    "Проверьте гипотезу о том, будет ли помесячная выручка от пользователей с подпиской по месяцам выше, чем выручка от пользователей без подписки. Сделайте вывод.\n",
    "\n",
    "Выдвинем гипотезу:\n",
    "\n",
    "Н0: Ежемесечная средняя выручка от пользователей с подпиской равна ежемесечная средней выручке от пользователей без подписки.\n",
    "\n",
    "Н1: Ежемесечная средняя выручка от пользователей с подпиской больше ежемесечной средней выручки от пользователей без подписки."
   ]
  },
  {
   "cell_type": "code",
   "execution_count": 141,
   "id": "4641438d",
   "metadata": {},
   "outputs": [
    {
     "name": "stdout",
     "output_type": "stream",
     "text": [
      "p-значение: 1.8850394384715216e-31\n",
      "Отвергаем нулевую гипотезу\n"
     ]
    }
   ],
   "source": [
    "alpha = 0.05 # уровень статистической значимости\n",
    "\n",
    "results = st.ttest_ind(revenue.loc[revenue['subscription_fee'] > 0, 'revenue'], \n",
    "                       revenue.loc[revenue['subscription_fee'] == 0, 'revenue'],alternative='greater')\n",
    "\n",
    "print('p-значение:', results.pvalue)\n",
    "\n",
    "if results.pvalue < alpha:\n",
    "    print('Отвергаем нулевую гипотезу')\n",
    "else:\n",
    "    print('Нет оснований отвергнуть нулевую гипотезу')"
   ]
  },
  {
   "cell_type": "markdown",
   "id": "27105dcb",
   "metadata": {},
   "source": [
    "Комментарии студента №1:</b> Представьте такую ситуацию: техническая команда сервиса обновила сервера, с которыми взаимодействует мобильное приложение. Она надеется, что из-за этого количество обращений в техподдержку значимо снизилось. Некоторый файл содержит для каждого пользователя данные о количестве обращений до обновления и после него. Какой тест вам понадобился бы для проверки этой гипотезы?"
   ]
  },
  {
   "cell_type": "markdown",
   "id": "42bb7552",
   "metadata": {},
   "source": [
    "Если мы анализируем одну генеральную совокупность, с которой произошли некоторые изменения, в этом случае мы будем проверять, равны ли средние совокупности до и после этого изменения. Для этого можно использовать Гипотезу о равенстве средних для зависимых (парных) выборок. Выборки в этом случае будут зависимыми, иначе — парными. Парная выборка означает, что некоторая переменная измеряется дважды для одних и тех же объектов. В нашем примере это пара измерений для каждого пользователя — до и после изменения. Чтобы проверить гипотезу о равенстве среднего генеральной совокупности для зависимых (парных) выборок, применим метод scipy.stats.ttest_rel(). Ему достаточно передать всего два параметра: наборы данных до и после. Оба набора должны быть одинаковыми по размеру: каждое измерение должно быть проведено до и после изменения. "
   ]
  },
  {
   "cell_type": "markdown",
   "id": "ad8966a0",
   "metadata": {},
   "source": [
    "- Гипотеза 1 Нулевая гипотеза отвергнута: средняя продолжительность поезки пользователей с подпиской больше продолжительности поездки пользователей без подписки\n",
    "- Гипотеза 2 Нулевую гипотезу неудалось отвергнуть: средняя дистанция поездки пользователи с подпиской меньше 3130 метров.\n",
    "- Гипотеза 3 Нулевая гипотеза отвергнута: средняя месячная выручка от пользователей с подпиской, больше средней месячной выручки от пользователей без подписки.\n",
    "- Гипотеза 4: Чтобы проверить данные с которыми произошли изменения, в этом случае мы будем проверять, равны ли средние совокупности до и после этого изменения. Для этого можно использовать Гипотезу о равенстве средних для зависимых (парных) выборок, метод scipy.stats.ttest_rel(). Ему достаточно передать всего два параметра: наборы данных до и после."
   ]
  },
  {
   "cell_type": "markdown",
   "id": "9b99c806",
   "metadata": {},
   "source": [
    "# Общий Вывод"
   ]
  },
  {
   "cell_type": "markdown",
   "id": "f0e8694d",
   "metadata": {},
   "source": [
    "В процессе исследования было выполнено:\n",
    "\n",
    "#  1. Загрузка данных:\n",
    "Считали CSV-файлы с данными с помощью библиотеки pandas и сохранили их в датафреймы. \n",
    "\n",
    "Users содержит:\n",
    "\n",
    "- user_id\tуникальный идентификатор пользователя\n",
    "- name\tимя пользователя\n",
    "- age\tвозраст\n",
    "- city\tгород\n",
    "- subscription_type\tтип подписки (free, ultra)\n",
    "\n",
    "Rides содержит:\n",
    "\n",
    "- user_id\tуникальный идентификатор пользователя\n",
    "- distance\tрасстояние, которое пользователь проехал в текущей сессии (в метрах)\n",
    "- duration\tпродолжительность сессии (в минутах) — время с того момента, как пользователь нажал кнопку «Начать поездку» до момента, как он нажал кнопку «Завершить поездку»\n",
    "- date\tдата совершения поездки\n",
    "\n",
    "Subscriptions содержит:\n",
    "\n",
    "- subscription_type\tтип подписки\n",
    "- minute_price\tстоимость одной минуты поездки по данной подписке\n",
    "- start_ride_price\tстоимость начала поездки\n",
    "- subscription_fee\tстоимость ежемесячного платежа\n",
    "\n",
    "# 2. Выполнили предобработку данных и сделали следующие выводы:\n",
    "\n",
    "После изучения всех датафреймов, можно сказать что во всех датасетах отсудствуют пропуски. В таблице users Количество явных дубликатов в датасете: 31, которые мы удалили. В таблице subscriptions 2 строки, дубликатов и пропусков там нет. Привели столбец date к формату pandas. Округлили distance до 2-х знаков после запятой. Продолжительность каждой поездки округлена. \n",
    "- Создали новый столбец с номером месяца на основе столбца date.\n",
    "\n",
    "\n",
    "# 3. Провели исследовательский анализ данных.\n",
    "\n",
    "**3.1 Частота встречаемости городов:**\n",
    "Датафреймы содержат данные о пользователях из 8 городов, больше всего пользователей из Пятигорска, меньше всего из Москвы.\n",
    "\n",
    "**3.2 Соотношение пользователей с подпиской и без подписки:**\n",
    "Пользователей без подписки больше, чем больше чем пользователей с подпиской Ultra. Пользователей без подписки 54% от всех пользователей и пользователей в подпиской 46% в общем числе пользователей.  \n",
    "\n",
    "**3.3 Возраст пользователей:**\n",
    "Услугами сервиса аренды самокатов пользуются люди от 12 до 43 лет. Распределение возрастной кривой имеет нормальное распределение. Максимальное количество пользователей в возрасте 25 лет, этот же возраст является медианным.\n",
    "\n",
    "**3.4. Расстояние, которое пользователь преодолел за одну поездку:**\n",
    "Расстояние, которое пользователи преодовают за одну поездку колеблется от 1 до 7211 метров. Медиана всех значений равна 3134 метров. Самое частое преодолеваемое расстояние около 3200 метров, еще есть небольшой всплеск около 800 метров.  \n",
    "\n",
    "**3.5 Продолжительность поездок:**\n",
    "Продолжительность поездок нормально распределена от 0 до 41 минуты. Продолжительность в 18 минут является как наиболее распространенной, так и медианным значением.\n",
    "\n",
    "\n",
    "# 4. Объединение данных\n",
    "\n",
    "Размер датасетов до объединения rides: 18068 строк и 5 столбцов, subscriptions: 2 строк и 4 столбцов. Объединили 2 датафрейма в один, после объединения размер общего датафрейма df_all: 18068 строк и 12 столбцов. Для дальнейшего анализа, создали еще два датафрейма с данными о пользователях с подпиской и без подписки. Поездок с использованием подписки ‘ultra’ составляет 11568, поездок, без подписки 6500. Выявлено, что с подпиской ultra минимальное время поездки 0.5 против 3.76 минут без подписки, а максимальное 34.95 против 40.83 мин. Также с подпиской ultra, минимальное расстояние поездки 244 против 0,86 м без подписки, а максимальное 5699 м с подпиской и максимальное значение без подписки 7211 метров. На графиках видим разницу в расстоянии и времени поездок в двух категориях пользователей. В обоих случаях количество поездок относительно нормально распределено в зависимости от их продолжительности. Пик количества поездок приходится на 17-18 минут. \n",
    "\n",
    "\n",
    "# 5. Подсчёт выручки\n",
    "\n",
    "**5.1 Создали датафрейм с агрегированными данными о поездках:**\n",
    "- Добавили столбцы в датафрейм: для суммарного расстояния - distance, количества поездок - count и суммарное время - duration\n",
    "\n",
    "**5.2 Помесечная выручка, которую принёс каждый пользователь:**\n",
    "- Для столбца с помесячной выручкой, которую принёс каждый пользователь добавили колонку revenue. \n",
    "\n",
    "\n",
    "\n",
    "# 6. Проверка гипотез\n",
    "\n",
    "**6.1 Гипотеза 1: среднее время поездки пользователей с подпиской и без:**\n",
    "- Нулевая гипотеза отвергнута: средняя продолжительность поезки пользователей с подпиской больше продолжительности поездки пользователей без подписки\n",
    "\n",
    "**6.2 Гипотеза 2: средняя дистанция поездки пользователей с подпиской и без:**\n",
    "- Нулевую гипотезу неудалось отвергнуть: средняя дистанция поездки пользователи с подпиской меньше 3130 метров.\n",
    "\n",
    "**6.3 Гипотеза 3: средняя выручка от пользователей с и без подписки:**\n",
    "- Нулевая гипотеза отвергнута: средняя месячная выручка от пользователей с подпиской, больше средней месячной выручки от пользователей без подписки.\n",
    "\n",
    "**6.4 Гипотеза 4: Какую гипотезу использовать при изменения данных:**\n",
    "- Чтобы проверить данные с которыми произошли изменения, в этом случае мы будем проверять, равны ли средние совокупности до и после этого изменения. Для этого можно использовать Гипотезу о равенстве средних для зависимых (парных) выборок, метод scipy.stats.ttest_rel(). Ему достаточно передать всего два параметра: наборы данных до и после."
   ]
  }
 ],
 "metadata": {
  "ExecuteTimeLog": [
   {
    "duration": 351,
    "start_time": "2024-05-22T17:20:01.097Z"
   },
   {
    "duration": 69,
    "start_time": "2024-05-22T17:20:04.406Z"
   },
   {
    "duration": 15,
    "start_time": "2024-05-22T17:20:05.039Z"
   },
   {
    "duration": 83,
    "start_time": "2024-05-22T17:20:32.735Z"
   },
   {
    "duration": 8,
    "start_time": "2024-05-22T17:20:33.196Z"
   },
   {
    "duration": 66,
    "start_time": "2024-05-22T17:20:57.645Z"
   },
   {
    "duration": 6,
    "start_time": "2024-05-22T17:20:58.114Z"
   },
   {
    "duration": 8,
    "start_time": "2024-05-22T17:48:19.641Z"
   },
   {
    "duration": 6,
    "start_time": "2024-05-22T17:48:20.530Z"
   },
   {
    "duration": 10,
    "start_time": "2024-05-22T17:48:21.748Z"
   },
   {
    "duration": 414,
    "start_time": "2024-05-22T17:48:57.709Z"
   },
   {
    "duration": 8,
    "start_time": "2024-05-22T17:49:01.719Z"
   },
   {
    "duration": 10,
    "start_time": "2024-05-22T17:49:09.671Z"
   },
   {
    "duration": 12,
    "start_time": "2024-05-22T17:50:01.105Z"
   },
   {
    "duration": 15,
    "start_time": "2024-05-22T17:50:11.489Z"
   },
   {
    "duration": 11,
    "start_time": "2024-05-22T17:50:15.815Z"
   },
   {
    "duration": 5,
    "start_time": "2024-05-22T17:50:27.107Z"
   },
   {
    "duration": 4,
    "start_time": "2024-05-22T17:50:30.951Z"
   },
   {
    "duration": 7,
    "start_time": "2024-05-22T17:50:33.522Z"
   },
   {
    "duration": 9,
    "start_time": "2024-05-22T17:50:34.590Z"
   },
   {
    "duration": 79,
    "start_time": "2024-05-22T18:13:07.615Z"
   },
   {
    "duration": 3,
    "start_time": "2024-05-22T18:13:21.391Z"
   },
   {
    "duration": 177,
    "start_time": "2024-05-22T18:13:27.200Z"
   },
   {
    "duration": 159,
    "start_time": "2024-05-22T18:14:27.248Z"
   },
   {
    "duration": 149,
    "start_time": "2024-05-22T18:15:05.977Z"
   },
   {
    "duration": 198,
    "start_time": "2024-05-22T18:15:38.023Z"
   },
   {
    "duration": 159,
    "start_time": "2024-05-22T18:16:10.636Z"
   },
   {
    "duration": 151,
    "start_time": "2024-05-22T18:16:39.420Z"
   },
   {
    "duration": 149,
    "start_time": "2024-05-22T18:18:23.057Z"
   },
   {
    "duration": 152,
    "start_time": "2024-05-22T18:18:31.681Z"
   },
   {
    "duration": 149,
    "start_time": "2024-05-22T18:18:39.400Z"
   },
   {
    "duration": 6,
    "start_time": "2024-05-22T18:19:14.778Z"
   },
   {
    "duration": 148,
    "start_time": "2024-05-22T18:20:28.961Z"
   },
   {
    "duration": 159,
    "start_time": "2024-05-22T18:20:41.713Z"
   },
   {
    "duration": 13,
    "start_time": "2024-05-22T18:25:45.117Z"
   },
   {
    "duration": 127,
    "start_time": "2024-05-22T18:27:08.561Z"
   },
   {
    "duration": 1005,
    "start_time": "2024-05-22T18:27:49.366Z"
   },
   {
    "duration": 130,
    "start_time": "2024-05-22T18:28:59.807Z"
   },
   {
    "duration": 6,
    "start_time": "2024-05-22T18:29:49.131Z"
   },
   {
    "duration": 175,
    "start_time": "2024-05-22T18:33:25.177Z"
   },
   {
    "duration": 66,
    "start_time": "2024-05-22T18:33:31.494Z"
   },
   {
    "duration": 7,
    "start_time": "2024-05-22T18:33:36.638Z"
   },
   {
    "duration": 248,
    "start_time": "2024-05-22T18:36:08.089Z"
   },
   {
    "duration": 168,
    "start_time": "2024-05-22T18:36:15.552Z"
   },
   {
    "duration": 203,
    "start_time": "2024-05-22T18:37:34.303Z"
   },
   {
    "duration": 9,
    "start_time": "2024-05-22T18:37:52.499Z"
   },
   {
    "duration": 187,
    "start_time": "2024-05-22T18:38:29.740Z"
   },
   {
    "duration": 187,
    "start_time": "2024-05-22T18:42:53.903Z"
   },
   {
    "duration": 187,
    "start_time": "2024-05-22T18:43:11.502Z"
   },
   {
    "duration": 8,
    "start_time": "2024-05-22T18:43:36.470Z"
   },
   {
    "duration": 8,
    "start_time": "2024-05-22T18:54:52.714Z"
   },
   {
    "duration": 17,
    "start_time": "2024-05-22T18:55:19.541Z"
   },
   {
    "duration": 13,
    "start_time": "2024-05-22T18:55:21.194Z"
   },
   {
    "duration": 8,
    "start_time": "2024-05-22T19:41:52.586Z"
   },
   {
    "duration": 14,
    "start_time": "2024-05-22T19:42:09.885Z"
   },
   {
    "duration": 19,
    "start_time": "2024-05-22T19:42:23.220Z"
   },
   {
    "duration": 18,
    "start_time": "2024-05-22T19:42:30.599Z"
   },
   {
    "duration": 18,
    "start_time": "2024-05-22T19:42:37.666Z"
   },
   {
    "duration": 6,
    "start_time": "2024-05-22T19:42:42.985Z"
   },
   {
    "duration": 7,
    "start_time": "2024-05-22T19:42:58.947Z"
   },
   {
    "duration": 7,
    "start_time": "2024-05-22T19:43:34.534Z"
   },
   {
    "duration": 7,
    "start_time": "2024-05-22T19:43:52.327Z"
   },
   {
    "duration": 38,
    "start_time": "2024-05-22T19:43:55.218Z"
   },
   {
    "duration": 5,
    "start_time": "2024-05-22T19:44:11.669Z"
   },
   {
    "duration": 29,
    "start_time": "2024-05-22T19:44:13.929Z"
   },
   {
    "duration": 192,
    "start_time": "2024-05-22T19:45:22.812Z"
   },
   {
    "duration": 203,
    "start_time": "2024-05-22T19:45:33.243Z"
   },
   {
    "duration": 204,
    "start_time": "2024-05-22T19:45:54.373Z"
   },
   {
    "duration": 288,
    "start_time": "2024-05-22T19:46:33.998Z"
   },
   {
    "duration": 231,
    "start_time": "2024-05-22T19:46:48.014Z"
   },
   {
    "duration": 61,
    "start_time": "2024-05-22T19:49:03.576Z"
   },
   {
    "duration": 234,
    "start_time": "2024-05-22T19:49:12.952Z"
   },
   {
    "duration": 247,
    "start_time": "2024-05-22T19:51:01.419Z"
   },
   {
    "duration": 245,
    "start_time": "2024-05-22T19:51:56.976Z"
   },
   {
    "duration": 303,
    "start_time": "2024-05-22T19:52:08.240Z"
   },
   {
    "duration": 235,
    "start_time": "2024-05-22T19:54:20.972Z"
   },
   {
    "duration": 251,
    "start_time": "2024-05-22T19:54:37.652Z"
   },
   {
    "duration": 226,
    "start_time": "2024-05-22T19:54:52.038Z"
   },
   {
    "duration": 232,
    "start_time": "2024-05-22T19:55:26.679Z"
   },
   {
    "duration": 230,
    "start_time": "2024-05-22T19:55:36.510Z"
   },
   {
    "duration": 292,
    "start_time": "2024-05-22T19:55:49.139Z"
   },
   {
    "duration": 220,
    "start_time": "2024-05-22T19:55:59.106Z"
   },
   {
    "duration": 227,
    "start_time": "2024-05-22T19:56:15.912Z"
   },
   {
    "duration": 222,
    "start_time": "2024-05-22T19:56:22.997Z"
   },
   {
    "duration": 234,
    "start_time": "2024-05-22T19:57:19.375Z"
   },
   {
    "duration": 318,
    "start_time": "2024-05-22T19:57:31.067Z"
   },
   {
    "duration": 224,
    "start_time": "2024-05-22T20:15:42.025Z"
   },
   {
    "duration": 231,
    "start_time": "2024-05-22T20:15:55.331Z"
   },
   {
    "duration": 8,
    "start_time": "2024-05-22T20:32:56.999Z"
   },
   {
    "duration": 4,
    "start_time": "2024-05-22T20:33:03.160Z"
   },
   {
    "duration": 7,
    "start_time": "2024-05-22T20:33:04.041Z"
   },
   {
    "duration": 422,
    "start_time": "2024-05-22T20:33:25.218Z"
   },
   {
    "duration": 3,
    "start_time": "2024-05-22T20:33:33.728Z"
   },
   {
    "duration": 233,
    "start_time": "2024-05-22T20:54:45.830Z"
   },
   {
    "duration": 172,
    "start_time": "2024-05-22T20:55:03.585Z"
   },
   {
    "duration": 169,
    "start_time": "2024-05-22T20:55:10.893Z"
   },
   {
    "duration": 170,
    "start_time": "2024-05-22T20:55:47.156Z"
   },
   {
    "duration": 140,
    "start_time": "2024-05-22T20:57:25.107Z"
   },
   {
    "duration": 134,
    "start_time": "2024-05-22T20:57:35.032Z"
   },
   {
    "duration": 183,
    "start_time": "2024-05-22T20:57:45.383Z"
   },
   {
    "duration": 174,
    "start_time": "2024-05-22T20:58:03.677Z"
   },
   {
    "duration": 172,
    "start_time": "2024-05-22T20:58:55.541Z"
   },
   {
    "duration": 164,
    "start_time": "2024-05-22T20:59:13.619Z"
   },
   {
    "duration": 302,
    "start_time": "2024-05-22T21:03:59.591Z"
   },
   {
    "duration": 227,
    "start_time": "2024-05-22T21:04:15.282Z"
   },
   {
    "duration": 231,
    "start_time": "2024-05-22T21:04:46.077Z"
   },
   {
    "duration": 248,
    "start_time": "2024-05-22T21:04:59.497Z"
   },
   {
    "duration": 9,
    "start_time": "2024-05-22T21:06:12.166Z"
   },
   {
    "duration": 64,
    "start_time": "2024-05-22T21:07:31.148Z"
   },
   {
    "duration": 3,
    "start_time": "2024-05-22T21:07:57.567Z"
   },
   {
    "duration": 5,
    "start_time": "2024-05-22T21:08:08.744Z"
   },
   {
    "duration": 4,
    "start_time": "2024-05-22T21:08:16.807Z"
   },
   {
    "duration": 4,
    "start_time": "2024-05-22T21:09:53.823Z"
   },
   {
    "duration": 42,
    "start_time": "2024-05-22T21:17:22.408Z"
   },
   {
    "duration": 43,
    "start_time": "2024-05-22T21:18:40.818Z"
   },
   {
    "duration": 38,
    "start_time": "2024-05-22T21:19:12.927Z"
   },
   {
    "duration": 49,
    "start_time": "2024-05-22T21:19:19.387Z"
   },
   {
    "duration": 39,
    "start_time": "2024-05-22T21:19:59.513Z"
   },
   {
    "duration": 41,
    "start_time": "2024-05-22T21:20:44.508Z"
   },
   {
    "duration": 14,
    "start_time": "2024-05-22T21:24:06.907Z"
   },
   {
    "duration": 12,
    "start_time": "2024-05-22T21:24:16.546Z"
   },
   {
    "duration": 8,
    "start_time": "2024-05-22T21:24:25.696Z"
   },
   {
    "duration": 6,
    "start_time": "2024-05-22T21:25:01.314Z"
   },
   {
    "duration": 7,
    "start_time": "2024-05-22T21:26:51.725Z"
   },
   {
    "duration": 5,
    "start_time": "2024-05-22T21:27:04.890Z"
   },
   {
    "duration": 2,
    "start_time": "2024-05-22T21:28:47.925Z"
   },
   {
    "duration": 6,
    "start_time": "2024-05-22T21:28:49.038Z"
   },
   {
    "duration": 7,
    "start_time": "2024-05-22T21:29:59.167Z"
   },
   {
    "duration": 5,
    "start_time": "2024-05-22T21:31:26.608Z"
   },
   {
    "duration": 10,
    "start_time": "2024-05-22T21:32:57.972Z"
   },
   {
    "duration": 7,
    "start_time": "2024-05-22T21:38:48.151Z"
   },
   {
    "duration": 6,
    "start_time": "2024-05-22T21:38:50.414Z"
   },
   {
    "duration": 9,
    "start_time": "2024-05-22T21:41:29.793Z"
   },
   {
    "duration": 1245,
    "start_time": "2024-05-23T04:26:54.543Z"
   },
   {
    "duration": 172,
    "start_time": "2024-05-23T04:26:55.790Z"
   },
   {
    "duration": 12,
    "start_time": "2024-05-23T04:26:55.964Z"
   },
   {
    "duration": 142,
    "start_time": "2024-05-23T04:26:55.977Z"
   },
   {
    "duration": 9,
    "start_time": "2024-05-23T04:26:56.121Z"
   },
   {
    "duration": 69,
    "start_time": "2024-05-23T04:26:56.132Z"
   },
   {
    "duration": 7,
    "start_time": "2024-05-23T04:26:56.202Z"
   },
   {
    "duration": 14,
    "start_time": "2024-05-23T04:26:56.210Z"
   },
   {
    "duration": 6,
    "start_time": "2024-05-23T04:26:56.226Z"
   },
   {
    "duration": 18,
    "start_time": "2024-05-23T04:26:56.234Z"
   },
   {
    "duration": 53,
    "start_time": "2024-05-23T04:26:56.253Z"
   },
   {
    "duration": 8,
    "start_time": "2024-05-23T04:26:56.307Z"
   },
   {
    "duration": 12,
    "start_time": "2024-05-23T04:26:56.316Z"
   },
   {
    "duration": 10,
    "start_time": "2024-05-23T04:26:56.330Z"
   },
   {
    "duration": 7,
    "start_time": "2024-05-23T04:26:56.342Z"
   },
   {
    "duration": 9,
    "start_time": "2024-05-23T04:26:56.370Z"
   },
   {
    "duration": 6,
    "start_time": "2024-05-23T04:26:56.381Z"
   },
   {
    "duration": 9,
    "start_time": "2024-05-23T04:26:56.388Z"
   },
   {
    "duration": 10,
    "start_time": "2024-05-23T04:26:56.398Z"
   },
   {
    "duration": 4,
    "start_time": "2024-05-23T04:26:56.409Z"
   },
   {
    "duration": 4,
    "start_time": "2024-05-23T04:26:56.414Z"
   },
   {
    "duration": 200,
    "start_time": "2024-05-23T04:26:56.420Z"
   },
   {
    "duration": 7,
    "start_time": "2024-05-23T04:26:56.622Z"
   },
   {
    "duration": 176,
    "start_time": "2024-05-23T04:26:56.631Z"
   },
   {
    "duration": 5,
    "start_time": "2024-05-23T04:26:56.809Z"
   },
   {
    "duration": 203,
    "start_time": "2024-05-23T04:26:56.816Z"
   },
   {
    "duration": 9,
    "start_time": "2024-05-23T04:26:57.022Z"
   },
   {
    "duration": 227,
    "start_time": "2024-05-23T04:26:57.033Z"
   },
   {
    "duration": 13,
    "start_time": "2024-05-23T04:26:57.262Z"
   },
   {
    "duration": 193,
    "start_time": "2024-05-23T04:26:57.277Z"
   },
   {
    "duration": 9,
    "start_time": "2024-05-23T04:26:57.471Z"
   },
   {
    "duration": 15,
    "start_time": "2024-05-23T04:26:57.481Z"
   },
   {
    "duration": 18,
    "start_time": "2024-05-23T04:26:57.498Z"
   },
   {
    "duration": 8,
    "start_time": "2024-05-23T04:26:57.518Z"
   },
   {
    "duration": 62,
    "start_time": "2024-05-23T04:26:57.527Z"
   },
   {
    "duration": 5,
    "start_time": "2024-05-23T04:26:57.591Z"
   },
   {
    "duration": 36,
    "start_time": "2024-05-23T04:26:57.597Z"
   },
   {
    "duration": 280,
    "start_time": "2024-05-23T04:26:57.634Z"
   },
   {
    "duration": 302,
    "start_time": "2024-05-23T04:26:57.916Z"
   },
   {
    "duration": 136,
    "start_time": "2024-05-23T04:26:58.220Z"
   },
   {
    "duration": 10,
    "start_time": "2024-05-23T04:26:58.360Z"
   },
   {
    "duration": 27,
    "start_time": "2024-05-23T04:26:58.371Z"
   },
   {
    "duration": 9,
    "start_time": "2024-05-23T04:26:58.399Z"
   },
   {
    "duration": 9,
    "start_time": "2024-05-23T04:26:58.409Z"
   },
   {
    "duration": 13,
    "start_time": "2024-05-23T04:26:58.419Z"
   },
   {
    "duration": 8,
    "start_time": "2024-05-23T04:26:58.434Z"
   },
   {
    "duration": 20,
    "start_time": "2024-05-23T04:28:39.929Z"
   },
   {
    "duration": 17,
    "start_time": "2024-05-23T04:28:41.848Z"
   },
   {
    "duration": 1102,
    "start_time": "2024-05-26T04:11:33.102Z"
   },
   {
    "duration": 122,
    "start_time": "2024-05-26T04:11:35.615Z"
   },
   {
    "duration": 10,
    "start_time": "2024-05-26T04:11:36.675Z"
   },
   {
    "duration": 87,
    "start_time": "2024-05-26T04:11:38.162Z"
   },
   {
    "duration": 7,
    "start_time": "2024-05-26T04:11:39.085Z"
   },
   {
    "duration": 73,
    "start_time": "2024-05-26T04:11:40.403Z"
   },
   {
    "duration": 7,
    "start_time": "2024-05-26T04:11:41.194Z"
   },
   {
    "duration": 6,
    "start_time": "2024-05-26T04:11:45.911Z"
   },
   {
    "duration": 97,
    "start_time": "2024-05-26T04:11:46.805Z"
   },
   {
    "duration": 4,
    "start_time": "2024-05-26T04:11:55.048Z"
   },
   {
    "duration": 13,
    "start_time": "2024-05-26T04:11:56.908Z"
   },
   {
    "duration": 41,
    "start_time": "2024-05-26T04:11:57.586Z"
   },
   {
    "duration": 6,
    "start_time": "2024-05-26T04:11:58.678Z"
   },
   {
    "duration": 9,
    "start_time": "2024-05-26T04:11:59.490Z"
   },
   {
    "duration": 10,
    "start_time": "2024-05-26T04:12:00.195Z"
   },
   {
    "duration": 8,
    "start_time": "2024-05-26T04:12:00.955Z"
   },
   {
    "duration": 8,
    "start_time": "2024-05-26T04:12:01.687Z"
   },
   {
    "duration": 5,
    "start_time": "2024-05-26T04:12:02.403Z"
   },
   {
    "duration": 4,
    "start_time": "2024-05-26T04:12:03.143Z"
   },
   {
    "duration": 6,
    "start_time": "2024-05-26T04:12:03.928Z"
   },
   {
    "duration": 3,
    "start_time": "2024-05-26T04:12:04.648Z"
   },
   {
    "duration": 3,
    "start_time": "2024-05-26T04:12:05.494Z"
   },
   {
    "duration": 13,
    "start_time": "2024-05-26T04:12:11.666Z"
   },
   {
    "duration": 12,
    "start_time": "2024-05-26T04:12:18.448Z"
   },
   {
    "duration": 139,
    "start_time": "2024-05-26T04:12:32.458Z"
   },
   {
    "duration": 136,
    "start_time": "2024-05-26T04:12:56.435Z"
   },
   {
    "duration": 129,
    "start_time": "2024-05-26T04:13:12.765Z"
   },
   {
    "duration": 133,
    "start_time": "2024-05-26T04:15:45.215Z"
   },
   {
    "duration": 154,
    "start_time": "2024-05-26T04:16:09.361Z"
   },
   {
    "duration": 9,
    "start_time": "2024-05-26T04:18:16.949Z"
   },
   {
    "duration": 7,
    "start_time": "2024-05-26T04:18:19.869Z"
   },
   {
    "duration": 9,
    "start_time": "2024-05-26T04:18:20.642Z"
   },
   {
    "duration": 143,
    "start_time": "2024-05-26T04:18:26.328Z"
   },
   {
    "duration": 11,
    "start_time": "2024-05-26T04:22:55.933Z"
   },
   {
    "duration": 141,
    "start_time": "2024-05-26T04:23:02.339Z"
   },
   {
    "duration": 171,
    "start_time": "2024-05-26T04:23:05.342Z"
   },
   {
    "duration": 4,
    "start_time": "2024-05-26T04:23:37.838Z"
   },
   {
    "duration": 5,
    "start_time": "2024-05-26T04:23:56.235Z"
   },
   {
    "duration": 122,
    "start_time": "2024-05-26T04:24:37.468Z"
   },
   {
    "duration": 162,
    "start_time": "2024-05-26T04:24:49.007Z"
   },
   {
    "duration": 68,
    "start_time": "2024-05-26T04:24:56.345Z"
   },
   {
    "duration": 102,
    "start_time": "2024-05-26T04:25:11.967Z"
   },
   {
    "duration": 99,
    "start_time": "2024-05-26T04:25:21.928Z"
   },
   {
    "duration": 94,
    "start_time": "2024-05-26T04:33:00.366Z"
   },
   {
    "duration": 98,
    "start_time": "2024-05-26T04:33:07.886Z"
   },
   {
    "duration": 91,
    "start_time": "2024-05-26T04:33:16.269Z"
   },
   {
    "duration": 8,
    "start_time": "2024-05-26T04:34:09.032Z"
   },
   {
    "duration": 93,
    "start_time": "2024-05-26T04:34:35.507Z"
   },
   {
    "duration": 107,
    "start_time": "2024-05-26T04:35:03.983Z"
   },
   {
    "duration": 103,
    "start_time": "2024-05-26T04:35:16.221Z"
   },
   {
    "duration": 1069,
    "start_time": "2024-05-26T04:37:28.721Z"
   },
   {
    "duration": 950,
    "start_time": "2024-05-26T04:38:33.439Z"
   },
   {
    "duration": 67,
    "start_time": "2024-05-26T04:42:51.306Z"
   },
   {
    "duration": 7,
    "start_time": "2024-05-26T04:43:10.066Z"
   },
   {
    "duration": 7,
    "start_time": "2024-05-26T04:43:34.980Z"
   },
   {
    "duration": 73,
    "start_time": "2024-05-26T04:44:41.464Z"
   },
   {
    "duration": 62,
    "start_time": "2024-05-26T04:57:15.447Z"
   },
   {
    "duration": 17,
    "start_time": "2024-05-26T04:58:53.737Z"
   },
   {
    "duration": 256,
    "start_time": "2024-05-26T05:00:20.250Z"
   },
   {
    "duration": 291,
    "start_time": "2024-05-26T05:00:32.349Z"
   },
   {
    "duration": 18,
    "start_time": "2024-05-26T05:00:42.202Z"
   },
   {
    "duration": 1085,
    "start_time": "2024-05-26T05:01:04.181Z"
   },
   {
    "duration": 82,
    "start_time": "2024-05-26T05:01:15.789Z"
   },
   {
    "duration": 17,
    "start_time": "2024-05-26T05:01:40.848Z"
   },
   {
    "duration": 1020,
    "start_time": "2024-05-26T05:03:32.589Z"
   },
   {
    "duration": 17,
    "start_time": "2024-05-26T05:04:05.062Z"
   },
   {
    "duration": 89,
    "start_time": "2024-05-26T05:04:29.078Z"
   },
   {
    "duration": 17,
    "start_time": "2024-05-26T05:04:54.721Z"
   },
   {
    "duration": 984,
    "start_time": "2024-05-26T05:06:18.201Z"
   },
   {
    "duration": 16,
    "start_time": "2024-05-26T05:06:45.513Z"
   },
   {
    "duration": 17,
    "start_time": "2024-05-26T05:07:26.400Z"
   },
   {
    "duration": 78,
    "start_time": "2024-05-26T05:22:52.113Z"
   },
   {
    "duration": 12,
    "start_time": "2024-05-26T05:25:28.680Z"
   },
   {
    "duration": 17,
    "start_time": "2024-05-26T05:25:50.374Z"
   },
   {
    "duration": 953,
    "start_time": "2024-05-26T05:30:18.820Z"
   },
   {
    "duration": 1027,
    "start_time": "2024-05-26T05:30:31.026Z"
   },
   {
    "duration": 13,
    "start_time": "2024-05-26T05:30:51.566Z"
   },
   {
    "duration": 10,
    "start_time": "2024-05-26T05:31:31.243Z"
   },
   {
    "duration": 7,
    "start_time": "2024-05-26T05:31:52.750Z"
   },
   {
    "duration": 23502,
    "start_time": "2024-05-26T05:56:32.484Z"
   },
   {
    "duration": 31541,
    "start_time": "2024-05-26T06:02:38.594Z"
   },
   {
    "duration": 10,
    "start_time": "2024-05-26T06:03:42.267Z"
   },
   {
    "duration": 307,
    "start_time": "2024-05-26T06:04:06.181Z"
   },
   {
    "duration": 96,
    "start_time": "2024-05-26T06:07:22.866Z"
   },
   {
    "duration": 8,
    "start_time": "2024-05-26T06:07:50.083Z"
   },
   {
    "duration": 104,
    "start_time": "2024-05-26T06:09:11.113Z"
   },
   {
    "duration": 113,
    "start_time": "2024-05-26T06:09:35.005Z"
   },
   {
    "duration": 62,
    "start_time": "2024-05-26T06:10:21.156Z"
   },
   {
    "duration": 97,
    "start_time": "2024-05-26T06:10:25.960Z"
   },
   {
    "duration": 101,
    "start_time": "2024-05-26T06:10:44.845Z"
   },
   {
    "duration": 96,
    "start_time": "2024-05-26T06:11:52.057Z"
   },
   {
    "duration": 102,
    "start_time": "2024-05-26T06:12:19.465Z"
   },
   {
    "duration": 94,
    "start_time": "2024-05-26T06:12:28.709Z"
   },
   {
    "duration": 99,
    "start_time": "2024-05-26T06:12:46.504Z"
   },
   {
    "duration": 106,
    "start_time": "2024-05-26T06:13:08.513Z"
   },
   {
    "duration": 10,
    "start_time": "2024-05-26T06:14:07.995Z"
   },
   {
    "duration": 109,
    "start_time": "2024-05-26T06:14:08.878Z"
   },
   {
    "duration": 112,
    "start_time": "2024-05-26T06:14:46.010Z"
   },
   {
    "duration": 276,
    "start_time": "2024-05-26T06:15:13.392Z"
   },
   {
    "duration": 224,
    "start_time": "2024-05-26T06:15:26.955Z"
   },
   {
    "duration": 215,
    "start_time": "2024-05-26T06:15:34.662Z"
   },
   {
    "duration": 68,
    "start_time": "2024-05-26T06:16:48.262Z"
   },
   {
    "duration": 7,
    "start_time": "2024-05-26T06:24:31.183Z"
   },
   {
    "duration": 8,
    "start_time": "2024-05-26T06:24:40.385Z"
   },
   {
    "duration": 7,
    "start_time": "2024-05-26T06:25:11.450Z"
   },
   {
    "duration": 8,
    "start_time": "2024-05-26T06:25:35.162Z"
   },
   {
    "duration": 7,
    "start_time": "2024-05-26T06:25:44.615Z"
   },
   {
    "duration": 6,
    "start_time": "2024-05-26T06:25:52.273Z"
   },
   {
    "duration": 6,
    "start_time": "2024-05-26T06:25:58.050Z"
   },
   {
    "duration": 7,
    "start_time": "2024-05-26T06:26:12.897Z"
   },
   {
    "duration": 6,
    "start_time": "2024-05-26T06:26:13.881Z"
   },
   {
    "duration": 8,
    "start_time": "2024-05-26T06:27:11.529Z"
   },
   {
    "duration": 7,
    "start_time": "2024-05-26T06:27:26.212Z"
   },
   {
    "duration": 6,
    "start_time": "2024-05-26T06:27:33.093Z"
   },
   {
    "duration": 12,
    "start_time": "2024-05-26T06:28:07.132Z"
   },
   {
    "duration": 3,
    "start_time": "2024-05-26T06:28:13.980Z"
   },
   {
    "duration": 3,
    "start_time": "2024-05-26T06:28:45.618Z"
   },
   {
    "duration": 12,
    "start_time": "2024-05-26T06:28:54.795Z"
   },
   {
    "duration": 10,
    "start_time": "2024-05-26T06:28:55.628Z"
   },
   {
    "duration": 4,
    "start_time": "2024-05-26T06:28:59.334Z"
   },
   {
    "duration": 3,
    "start_time": "2024-05-26T06:31:04.442Z"
   },
   {
    "duration": 13,
    "start_time": "2024-05-26T06:31:08.836Z"
   },
   {
    "duration": 12,
    "start_time": "2024-05-26T06:31:09.573Z"
   },
   {
    "duration": 4,
    "start_time": "2024-05-26T06:31:13.145Z"
   },
   {
    "duration": 8,
    "start_time": "2024-05-26T06:31:13.739Z"
   },
   {
    "duration": 11,
    "start_time": "2024-05-26T06:31:45.837Z"
   },
   {
    "duration": 7,
    "start_time": "2024-05-26T06:32:36.630Z"
   },
   {
    "duration": 4,
    "start_time": "2024-05-26T06:32:46.731Z"
   },
   {
    "duration": 14,
    "start_time": "2024-05-26T06:32:47.687Z"
   },
   {
    "duration": 40,
    "start_time": "2024-05-26T06:35:47.205Z"
   },
   {
    "duration": 7,
    "start_time": "2024-05-26T06:35:51.302Z"
   },
   {
    "duration": 8,
    "start_time": "2024-05-26T06:36:07.366Z"
   },
   {
    "duration": 5,
    "start_time": "2024-05-26T06:36:26.629Z"
   },
   {
    "duration": 5,
    "start_time": "2024-05-26T06:49:24.461Z"
   },
   {
    "duration": 7,
    "start_time": "2024-05-26T06:51:14.048Z"
   },
   {
    "duration": 7,
    "start_time": "2024-05-26T06:53:30.051Z"
   },
   {
    "duration": 3,
    "start_time": "2024-05-26T06:57:08.376Z"
   },
   {
    "duration": 7,
    "start_time": "2024-05-26T06:57:35.500Z"
   },
   {
    "duration": 4,
    "start_time": "2024-05-26T06:57:51.374Z"
   },
   {
    "duration": 3,
    "start_time": "2024-05-26T07:03:25.054Z"
   },
   {
    "duration": 33,
    "start_time": "2024-05-26T07:03:27.131Z"
   },
   {
    "duration": 8,
    "start_time": "2024-05-26T07:03:27.938Z"
   },
   {
    "duration": 35,
    "start_time": "2024-05-26T07:03:28.872Z"
   },
   {
    "duration": 7,
    "start_time": "2024-05-26T07:03:29.640Z"
   },
   {
    "duration": 26,
    "start_time": "2024-05-26T07:03:30.428Z"
   },
   {
    "duration": 8,
    "start_time": "2024-05-26T07:03:31.157Z"
   },
   {
    "duration": 6,
    "start_time": "2024-05-26T07:03:36.217Z"
   },
   {
    "duration": 4,
    "start_time": "2024-05-26T07:03:37.529Z"
   },
   {
    "duration": 8,
    "start_time": "2024-05-26T07:03:38.787Z"
   },
   {
    "duration": 9,
    "start_time": "2024-05-26T07:03:39.438Z"
   },
   {
    "duration": 8,
    "start_time": "2024-05-26T07:03:40.154Z"
   },
   {
    "duration": 9,
    "start_time": "2024-05-26T07:03:41.565Z"
   },
   {
    "duration": 9,
    "start_time": "2024-05-26T07:03:42.480Z"
   },
   {
    "duration": 7,
    "start_time": "2024-05-26T07:03:43.483Z"
   },
   {
    "duration": 9,
    "start_time": "2024-05-26T07:03:44.706Z"
   },
   {
    "duration": 5,
    "start_time": "2024-05-26T07:03:45.558Z"
   },
   {
    "duration": 3,
    "start_time": "2024-05-26T07:03:46.222Z"
   },
   {
    "duration": 6,
    "start_time": "2024-05-26T07:03:47.349Z"
   },
   {
    "duration": 3,
    "start_time": "2024-05-26T07:03:48.130Z"
   },
   {
    "duration": 3,
    "start_time": "2024-05-26T07:03:48.836Z"
   },
   {
    "duration": 126,
    "start_time": "2024-05-26T07:03:52.164Z"
   },
   {
    "duration": 6,
    "start_time": "2024-05-26T07:03:55.668Z"
   },
   {
    "duration": 115,
    "start_time": "2024-05-26T07:03:58.488Z"
   },
   {
    "duration": 10,
    "start_time": "2024-05-26T07:03:59.520Z"
   },
   {
    "duration": 121,
    "start_time": "2024-05-26T07:04:00.428Z"
   },
   {
    "duration": 210,
    "start_time": "2024-05-26T07:04:08.026Z"
   },
   {
    "duration": 7,
    "start_time": "2024-05-26T07:04:08.922Z"
   },
   {
    "duration": 300,
    "start_time": "2024-05-26T07:04:11.523Z"
   },
   {
    "duration": 7,
    "start_time": "2024-05-26T07:04:12.432Z"
   },
   {
    "duration": 219,
    "start_time": "2024-05-26T07:04:15.236Z"
   },
   {
    "duration": 7,
    "start_time": "2024-05-26T07:04:18.559Z"
   },
   {
    "duration": 7,
    "start_time": "2024-05-26T07:04:37.090Z"
   },
   {
    "duration": 3,
    "start_time": "2024-05-26T07:04:42.341Z"
   },
   {
    "duration": 4,
    "start_time": "2024-05-26T07:04:43.186Z"
   },
   {
    "duration": 12,
    "start_time": "2024-05-26T07:04:44.159Z"
   },
   {
    "duration": 10,
    "start_time": "2024-05-26T07:04:45.289Z"
   },
   {
    "duration": 3,
    "start_time": "2024-05-26T07:04:55.135Z"
   },
   {
    "duration": 6,
    "start_time": "2024-05-26T07:04:55.990Z"
   },
   {
    "duration": 27,
    "start_time": "2024-05-26T07:04:57.043Z"
   },
   {
    "duration": 10,
    "start_time": "2024-05-26T07:04:58.014Z"
   },
   {
    "duration": 5,
    "start_time": "2024-05-26T07:05:03.476Z"
   },
   {
    "duration": 10,
    "start_time": "2024-05-26T07:05:04.327Z"
   },
   {
    "duration": 35,
    "start_time": "2024-05-26T07:05:22.744Z"
   },
   {
    "duration": 10,
    "start_time": "2024-05-26T07:19:28.461Z"
   },
   {
    "duration": 154,
    "start_time": "2024-05-26T07:20:11.604Z"
   },
   {
    "duration": 134,
    "start_time": "2024-05-26T07:20:47.848Z"
   },
   {
    "duration": 134,
    "start_time": "2024-05-26T07:21:08.310Z"
   },
   {
    "duration": 144,
    "start_time": "2024-05-26T07:21:18.229Z"
   },
   {
    "duration": 147,
    "start_time": "2024-05-26T07:21:53.601Z"
   },
   {
    "duration": 143,
    "start_time": "2024-05-26T07:22:20.143Z"
   },
   {
    "duration": 139,
    "start_time": "2024-05-26T07:22:31.644Z"
   },
   {
    "duration": 149,
    "start_time": "2024-05-26T07:22:55.325Z"
   },
   {
    "duration": 157,
    "start_time": "2024-05-26T07:23:48.166Z"
   },
   {
    "duration": 82,
    "start_time": "2024-05-26T07:25:40.131Z"
   },
   {
    "duration": 221,
    "start_time": "2024-05-26T07:25:50.447Z"
   },
   {
    "duration": 143,
    "start_time": "2024-05-26T07:26:23.331Z"
   }
  ],
  "kernelspec": {
   "display_name": "Python 3 (ipykernel)",
   "language": "python",
   "name": "python3"
  },
  "language_info": {
   "codemirror_mode": {
    "name": "ipython",
    "version": 3
   },
   "file_extension": ".py",
   "mimetype": "text/x-python",
   "name": "python",
   "nbconvert_exporter": "python",
   "pygments_lexer": "ipython3",
   "version": "3.9.7"
  },
  "toc": {
   "base_numbering": 1,
   "nav_menu": {},
   "number_sections": true,
   "sideBar": true,
   "skip_h1_title": true,
   "title_cell": "Table of Contents",
   "title_sidebar": "Contents",
   "toc_cell": false,
   "toc_position": {
    "height": "calc(100% - 180px)",
    "left": "10px",
    "top": "150px",
    "width": "194.8px"
   },
   "toc_section_display": true,
   "toc_window_display": true
  }
 },
 "nbformat": 4,
 "nbformat_minor": 5
}
