{
 "cells": [
  {
   "cell_type": "markdown",
   "metadata": {},
   "source": [
    "# Определение стоимости автомобилей"
   ]
  },
  {
   "cell_type": "markdown",
   "metadata": {},
   "source": [
    "Сервис по продаже автомобилей с пробегом разрабатывает приложение для привлечения новых клиентов. В нём можно быстро узнать рыночную стоимость своего автомобиля. В вашем распоряжении исторические данные: технические характеристики, комплектации и цены автомобилей. Вам нужно построить модель для определения стоимости. \n",
    "\n",
    "Заказчику важны:\n",
    "\n",
    "- качество предсказания;\n",
    "- скорость предсказания;\n",
    "- время обучения."
   ]
  },
  {
   "cell_type": "markdown",
   "metadata": {},
   "source": [
    "## Подготовка данных"
   ]
  },
  {
   "cell_type": "code",
   "execution_count": 2,
   "metadata": {},
   "outputs": [],
   "source": [
    "import pandas as pd\n",
    "import numpy as np\n",
    "import lightgbm as lgb\n",
    "import matplotlib.pyplot as plt\n",
    "import re\n",
    "import time\n",
    "\n",
    "from random import randint\n",
    "from xgboost import XGBRegressor\n",
    "from lightgbm import LGBMRegressor\n",
    "from catboost import CatBoostRegressor\n",
    "from sklearn.metrics import mean_squared_error\n",
    "from sklearn.linear_model import LinearRegression\n",
    "from sklearn.model_selection import GridSearchCV, KFold, train_test_split\n",
    "from sklearn.preprocessing import OrdinalEncoder, StandardScaler\n",
    "from sklearn.model_selection import train_test_split"
   ]
  },
  {
   "cell_type": "code",
   "execution_count": 76,
   "metadata": {},
   "outputs": [],
   "source": [
    "#загрузим данные\n",
    "autos = pd.read_csv(\"/datasets/autos.csv\")"
   ]
  },
  {
   "cell_type": "code",
   "execution_count": 77,
   "metadata": {},
   "outputs": [
    {
     "name": "stdout",
     "output_type": "stream",
     "text": [
      "<class 'pandas.core.frame.DataFrame'>\n",
      "RangeIndex: 354369 entries, 0 to 354368\n",
      "Data columns (total 16 columns):\n",
      " #   Column             Non-Null Count   Dtype \n",
      "---  ------             --------------   ----- \n",
      " 0   DateCrawled        354369 non-null  object\n",
      " 1   Price              354369 non-null  int64 \n",
      " 2   VehicleType        316879 non-null  object\n",
      " 3   RegistrationYear   354369 non-null  int64 \n",
      " 4   Gearbox            334536 non-null  object\n",
      " 5   Power              354369 non-null  int64 \n",
      " 6   Model              334664 non-null  object\n",
      " 7   Kilometer          354369 non-null  int64 \n",
      " 8   RegistrationMonth  354369 non-null  int64 \n",
      " 9   FuelType           321474 non-null  object\n",
      " 10  Brand              354369 non-null  object\n",
      " 11  Repaired           283215 non-null  object\n",
      " 12  DateCreated        354369 non-null  object\n",
      " 13  NumberOfPictures   354369 non-null  int64 \n",
      " 14  PostalCode         354369 non-null  int64 \n",
      " 15  LastSeen           354369 non-null  object\n",
      "dtypes: int64(7), object(9)\n",
      "memory usage: 43.3+ MB\n"
     ]
    },
    {
     "data": {
      "text/plain": [
       "None"
      ]
     },
     "metadata": {},
     "output_type": "display_data"
    },
    {
     "data": {
      "text/html": [
       "<div>\n",
       "<style scoped>\n",
       "    .dataframe tbody tr th:only-of-type {\n",
       "        vertical-align: middle;\n",
       "    }\n",
       "\n",
       "    .dataframe tbody tr th {\n",
       "        vertical-align: top;\n",
       "    }\n",
       "\n",
       "    .dataframe thead th {\n",
       "        text-align: right;\n",
       "    }\n",
       "</style>\n",
       "<table border=\"1\" class=\"dataframe\">\n",
       "  <thead>\n",
       "    <tr style=\"text-align: right;\">\n",
       "      <th></th>\n",
       "      <th>DateCrawled</th>\n",
       "      <th>Price</th>\n",
       "      <th>VehicleType</th>\n",
       "      <th>RegistrationYear</th>\n",
       "      <th>Gearbox</th>\n",
       "      <th>Power</th>\n",
       "      <th>Model</th>\n",
       "      <th>Kilometer</th>\n",
       "      <th>RegistrationMonth</th>\n",
       "      <th>FuelType</th>\n",
       "      <th>Brand</th>\n",
       "      <th>Repaired</th>\n",
       "      <th>DateCreated</th>\n",
       "      <th>NumberOfPictures</th>\n",
       "      <th>PostalCode</th>\n",
       "      <th>LastSeen</th>\n",
       "    </tr>\n",
       "  </thead>\n",
       "  <tbody>\n",
       "    <tr>\n",
       "      <th>0</th>\n",
       "      <td>2016-03-24 11:52:17</td>\n",
       "      <td>480</td>\n",
       "      <td>NaN</td>\n",
       "      <td>1993</td>\n",
       "      <td>manual</td>\n",
       "      <td>0</td>\n",
       "      <td>golf</td>\n",
       "      <td>150000</td>\n",
       "      <td>0</td>\n",
       "      <td>petrol</td>\n",
       "      <td>volkswagen</td>\n",
       "      <td>NaN</td>\n",
       "      <td>2016-03-24 00:00:00</td>\n",
       "      <td>0</td>\n",
       "      <td>70435</td>\n",
       "      <td>2016-04-07 03:16:57</td>\n",
       "    </tr>\n",
       "    <tr>\n",
       "      <th>1</th>\n",
       "      <td>2016-03-24 10:58:45</td>\n",
       "      <td>18300</td>\n",
       "      <td>coupe</td>\n",
       "      <td>2011</td>\n",
       "      <td>manual</td>\n",
       "      <td>190</td>\n",
       "      <td>NaN</td>\n",
       "      <td>125000</td>\n",
       "      <td>5</td>\n",
       "      <td>gasoline</td>\n",
       "      <td>audi</td>\n",
       "      <td>yes</td>\n",
       "      <td>2016-03-24 00:00:00</td>\n",
       "      <td>0</td>\n",
       "      <td>66954</td>\n",
       "      <td>2016-04-07 01:46:50</td>\n",
       "    </tr>\n",
       "    <tr>\n",
       "      <th>2</th>\n",
       "      <td>2016-03-14 12:52:21</td>\n",
       "      <td>9800</td>\n",
       "      <td>suv</td>\n",
       "      <td>2004</td>\n",
       "      <td>auto</td>\n",
       "      <td>163</td>\n",
       "      <td>grand</td>\n",
       "      <td>125000</td>\n",
       "      <td>8</td>\n",
       "      <td>gasoline</td>\n",
       "      <td>jeep</td>\n",
       "      <td>NaN</td>\n",
       "      <td>2016-03-14 00:00:00</td>\n",
       "      <td>0</td>\n",
       "      <td>90480</td>\n",
       "      <td>2016-04-05 12:47:46</td>\n",
       "    </tr>\n",
       "    <tr>\n",
       "      <th>3</th>\n",
       "      <td>2016-03-17 16:54:04</td>\n",
       "      <td>1500</td>\n",
       "      <td>small</td>\n",
       "      <td>2001</td>\n",
       "      <td>manual</td>\n",
       "      <td>75</td>\n",
       "      <td>golf</td>\n",
       "      <td>150000</td>\n",
       "      <td>6</td>\n",
       "      <td>petrol</td>\n",
       "      <td>volkswagen</td>\n",
       "      <td>no</td>\n",
       "      <td>2016-03-17 00:00:00</td>\n",
       "      <td>0</td>\n",
       "      <td>91074</td>\n",
       "      <td>2016-03-17 17:40:17</td>\n",
       "    </tr>\n",
       "    <tr>\n",
       "      <th>4</th>\n",
       "      <td>2016-03-31 17:25:20</td>\n",
       "      <td>3600</td>\n",
       "      <td>small</td>\n",
       "      <td>2008</td>\n",
       "      <td>manual</td>\n",
       "      <td>69</td>\n",
       "      <td>fabia</td>\n",
       "      <td>90000</td>\n",
       "      <td>7</td>\n",
       "      <td>gasoline</td>\n",
       "      <td>skoda</td>\n",
       "      <td>no</td>\n",
       "      <td>2016-03-31 00:00:00</td>\n",
       "      <td>0</td>\n",
       "      <td>60437</td>\n",
       "      <td>2016-04-06 10:17:21</td>\n",
       "    </tr>\n",
       "  </tbody>\n",
       "</table>\n",
       "</div>"
      ],
      "text/plain": [
       "           DateCrawled  Price VehicleType  RegistrationYear Gearbox  Power  \\\n",
       "0  2016-03-24 11:52:17    480         NaN              1993  manual      0   \n",
       "1  2016-03-24 10:58:45  18300       coupe              2011  manual    190   \n",
       "2  2016-03-14 12:52:21   9800         suv              2004    auto    163   \n",
       "3  2016-03-17 16:54:04   1500       small              2001  manual     75   \n",
       "4  2016-03-31 17:25:20   3600       small              2008  manual     69   \n",
       "\n",
       "   Model  Kilometer  RegistrationMonth  FuelType       Brand Repaired  \\\n",
       "0   golf     150000                  0    petrol  volkswagen      NaN   \n",
       "1    NaN     125000                  5  gasoline        audi      yes   \n",
       "2  grand     125000                  8  gasoline        jeep      NaN   \n",
       "3   golf     150000                  6    petrol  volkswagen       no   \n",
       "4  fabia      90000                  7  gasoline       skoda       no   \n",
       "\n",
       "           DateCreated  NumberOfPictures  PostalCode             LastSeen  \n",
       "0  2016-03-24 00:00:00                 0       70435  2016-04-07 03:16:57  \n",
       "1  2016-03-24 00:00:00                 0       66954  2016-04-07 01:46:50  \n",
       "2  2016-03-14 00:00:00                 0       90480  2016-04-05 12:47:46  \n",
       "3  2016-03-17 00:00:00                 0       91074  2016-03-17 17:40:17  \n",
       "4  2016-03-31 00:00:00                 0       60437  2016-04-06 10:17:21  "
      ]
     },
     "execution_count": 77,
     "metadata": {},
     "output_type": "execute_result"
    }
   ],
   "source": [
    "#изучим данные \n",
    "display(autos.info())\n",
    "autos.head()"
   ]
  },
  {
   "cell_type": "code",
   "execution_count": 78,
   "metadata": {},
   "outputs": [
    {
     "data": {
      "text/plain": [
       "2016-03-24 14:49:47    7\n",
       "2016-03-19 21:49:56    6\n",
       "2016-03-26 22:57:31    6\n",
       "2016-03-31 18:50:16    5\n",
       "2016-04-02 22:54:55    5\n",
       "                      ..\n",
       "2016-03-15 22:46:24    1\n",
       "2016-03-19 17:57:11    1\n",
       "2016-04-01 21:50:22    1\n",
       "2016-04-03 22:37:20    1\n",
       "2016-03-22 16:45:25    1\n",
       "Name: DateCrawled, Length: 271174, dtype: int64"
      ]
     },
     "execution_count": 78,
     "metadata": {},
     "output_type": "execute_result"
    }
   ],
   "source": [
    "autos['DateCrawled'].value_counts()"
   ]
  },
  {
   "cell_type": "code",
   "execution_count": 79,
   "metadata": {},
   "outputs": [
    {
     "data": {
      "text/plain": [
       "'2016-04-07 14:36:58'"
      ]
     },
     "execution_count": 79,
     "metadata": {},
     "output_type": "execute_result"
    }
   ],
   "source": [
    "autos['DateCrawled'].max()"
   ]
  },
  {
   "cell_type": "code",
   "execution_count": 80,
   "metadata": {},
   "outputs": [],
   "source": [
    "#приведем название колонок к змеиному регистру \n",
    "new_columns = []\n",
    "for col in autos.columns:\n",
    "    new_columns.append(re.sub(r'(?<!^)(?=[A-Z])', '_', col).lower())\n",
    "autos.columns = new_columns"
   ]
  },
  {
   "cell_type": "code",
   "execution_count": 81,
   "metadata": {},
   "outputs": [
    {
     "data": {
      "text/html": [
       "<div>\n",
       "<style scoped>\n",
       "    .dataframe tbody tr th:only-of-type {\n",
       "        vertical-align: middle;\n",
       "    }\n",
       "\n",
       "    .dataframe tbody tr th {\n",
       "        vertical-align: top;\n",
       "    }\n",
       "\n",
       "    .dataframe thead th {\n",
       "        text-align: right;\n",
       "    }\n",
       "</style>\n",
       "<table border=\"1\" class=\"dataframe\">\n",
       "  <thead>\n",
       "    <tr style=\"text-align: right;\">\n",
       "      <th></th>\n",
       "      <th>date_crawled</th>\n",
       "      <th>price</th>\n",
       "      <th>vehicle_type</th>\n",
       "      <th>registration_year</th>\n",
       "      <th>gearbox</th>\n",
       "      <th>power</th>\n",
       "      <th>model</th>\n",
       "      <th>kilometer</th>\n",
       "      <th>registration_month</th>\n",
       "      <th>fuel_type</th>\n",
       "      <th>brand</th>\n",
       "      <th>repaired</th>\n",
       "      <th>date_created</th>\n",
       "      <th>number_of_pictures</th>\n",
       "      <th>postal_code</th>\n",
       "      <th>last_seen</th>\n",
       "    </tr>\n",
       "  </thead>\n",
       "  <tbody>\n",
       "    <tr>\n",
       "      <th>0</th>\n",
       "      <td>2016-03-24 11:52:17</td>\n",
       "      <td>480</td>\n",
       "      <td>NaN</td>\n",
       "      <td>1993</td>\n",
       "      <td>manual</td>\n",
       "      <td>0</td>\n",
       "      <td>golf</td>\n",
       "      <td>150000</td>\n",
       "      <td>0</td>\n",
       "      <td>petrol</td>\n",
       "      <td>volkswagen</td>\n",
       "      <td>NaN</td>\n",
       "      <td>2016-03-24 00:00:00</td>\n",
       "      <td>0</td>\n",
       "      <td>70435</td>\n",
       "      <td>2016-04-07 03:16:57</td>\n",
       "    </tr>\n",
       "    <tr>\n",
       "      <th>1</th>\n",
       "      <td>2016-03-24 10:58:45</td>\n",
       "      <td>18300</td>\n",
       "      <td>coupe</td>\n",
       "      <td>2011</td>\n",
       "      <td>manual</td>\n",
       "      <td>190</td>\n",
       "      <td>NaN</td>\n",
       "      <td>125000</td>\n",
       "      <td>5</td>\n",
       "      <td>gasoline</td>\n",
       "      <td>audi</td>\n",
       "      <td>yes</td>\n",
       "      <td>2016-03-24 00:00:00</td>\n",
       "      <td>0</td>\n",
       "      <td>66954</td>\n",
       "      <td>2016-04-07 01:46:50</td>\n",
       "    </tr>\n",
       "    <tr>\n",
       "      <th>2</th>\n",
       "      <td>2016-03-14 12:52:21</td>\n",
       "      <td>9800</td>\n",
       "      <td>suv</td>\n",
       "      <td>2004</td>\n",
       "      <td>auto</td>\n",
       "      <td>163</td>\n",
       "      <td>grand</td>\n",
       "      <td>125000</td>\n",
       "      <td>8</td>\n",
       "      <td>gasoline</td>\n",
       "      <td>jeep</td>\n",
       "      <td>NaN</td>\n",
       "      <td>2016-03-14 00:00:00</td>\n",
       "      <td>0</td>\n",
       "      <td>90480</td>\n",
       "      <td>2016-04-05 12:47:46</td>\n",
       "    </tr>\n",
       "    <tr>\n",
       "      <th>3</th>\n",
       "      <td>2016-03-17 16:54:04</td>\n",
       "      <td>1500</td>\n",
       "      <td>small</td>\n",
       "      <td>2001</td>\n",
       "      <td>manual</td>\n",
       "      <td>75</td>\n",
       "      <td>golf</td>\n",
       "      <td>150000</td>\n",
       "      <td>6</td>\n",
       "      <td>petrol</td>\n",
       "      <td>volkswagen</td>\n",
       "      <td>no</td>\n",
       "      <td>2016-03-17 00:00:00</td>\n",
       "      <td>0</td>\n",
       "      <td>91074</td>\n",
       "      <td>2016-03-17 17:40:17</td>\n",
       "    </tr>\n",
       "    <tr>\n",
       "      <th>4</th>\n",
       "      <td>2016-03-31 17:25:20</td>\n",
       "      <td>3600</td>\n",
       "      <td>small</td>\n",
       "      <td>2008</td>\n",
       "      <td>manual</td>\n",
       "      <td>69</td>\n",
       "      <td>fabia</td>\n",
       "      <td>90000</td>\n",
       "      <td>7</td>\n",
       "      <td>gasoline</td>\n",
       "      <td>skoda</td>\n",
       "      <td>no</td>\n",
       "      <td>2016-03-31 00:00:00</td>\n",
       "      <td>0</td>\n",
       "      <td>60437</td>\n",
       "      <td>2016-04-06 10:17:21</td>\n",
       "    </tr>\n",
       "  </tbody>\n",
       "</table>\n",
       "</div>"
      ],
      "text/plain": [
       "          date_crawled  price vehicle_type  registration_year gearbox  power  \\\n",
       "0  2016-03-24 11:52:17    480          NaN               1993  manual      0   \n",
       "1  2016-03-24 10:58:45  18300        coupe               2011  manual    190   \n",
       "2  2016-03-14 12:52:21   9800          suv               2004    auto    163   \n",
       "3  2016-03-17 16:54:04   1500        small               2001  manual     75   \n",
       "4  2016-03-31 17:25:20   3600        small               2008  manual     69   \n",
       "\n",
       "   model  kilometer  registration_month fuel_type       brand repaired  \\\n",
       "0   golf     150000                   0    petrol  volkswagen      NaN   \n",
       "1    NaN     125000                   5  gasoline        audi      yes   \n",
       "2  grand     125000                   8  gasoline        jeep      NaN   \n",
       "3   golf     150000                   6    petrol  volkswagen       no   \n",
       "4  fabia      90000                   7  gasoline       skoda       no   \n",
       "\n",
       "          date_created  number_of_pictures  postal_code            last_seen  \n",
       "0  2016-03-24 00:00:00                   0        70435  2016-04-07 03:16:57  \n",
       "1  2016-03-24 00:00:00                   0        66954  2016-04-07 01:46:50  \n",
       "2  2016-03-14 00:00:00                   0        90480  2016-04-05 12:47:46  \n",
       "3  2016-03-17 00:00:00                   0        91074  2016-03-17 17:40:17  \n",
       "4  2016-03-31 00:00:00                   0        60437  2016-04-06 10:17:21  "
      ]
     },
     "execution_count": 81,
     "metadata": {},
     "output_type": "execute_result"
    }
   ],
   "source": [
    "autos.head()"
   ]
  },
  {
   "cell_type": "code",
   "execution_count": 82,
   "metadata": {},
   "outputs": [],
   "source": [
    "def show_rows(data_frame):\n",
    "    for column in data_frame.columns:\n",
    "        print('Уникальные значения столбца', column)\n",
    "        print(data_frame[column].unique())"
   ]
  },
  {
   "cell_type": "code",
   "execution_count": 83,
   "metadata": {},
   "outputs": [
    {
     "name": "stdout",
     "output_type": "stream",
     "text": [
      "Уникальные значения столбца date_crawled\n",
      "['2016-03-24 11:52:17' '2016-03-24 10:58:45' '2016-03-14 12:52:21' ...\n",
      " '2016-03-21 09:50:58' '2016-03-14 17:48:27' '2016-03-19 18:57:12']\n",
      "Уникальные значения столбца price\n",
      "[  480 18300  9800 ... 12395 18429 10985]\n",
      "Уникальные значения столбца vehicle_type\n",
      "[nan 'coupe' 'suv' 'small' 'sedan' 'convertible' 'bus' 'wagon' 'other']\n",
      "Уникальные значения столбца registration_year\n",
      "[1993 2011 2004 2001 2008 1995 1980 2014 1998 2005 1910 2016 2007 2009\n",
      " 2002 2018 1997 1990 2017 1981 2003 1994 1991 1984 2006 1999 2012 2010\n",
      " 2000 1992 2013 1996 1985 1989 2015 1982 1976 1983 1973 1111 1969 1971\n",
      " 1987 1986 1988 1970 1965 1945 1925 1974 1979 1955 1978 1972 1968 1977\n",
      " 1961 1960 1966 1975 1963 1964 5000 1954 1958 1967 1959 9999 1956 3200\n",
      " 1000 1941 8888 1500 2200 4100 1962 1929 1957 1940 3000 2066 1949 2019\n",
      " 1937 1951 1800 1953 1234 8000 5300 9000 2900 6000 5900 5911 1933 1400\n",
      " 1950 4000 1948 1952 1200 8500 1932 1255 3700 3800 4800 1942 7000 1935\n",
      " 1936 6500 1923 2290 2500 1930 1001 9450 1944 1943 1934 1938 1688 2800\n",
      " 1253 1928 1919 5555 5600 1600 2222 1039 9996 1300 8455 1931 1915 4500\n",
      " 1920 1602 7800 9229 1947 1927 7100 8200 1946 7500 3500]\n",
      "Уникальные значения столбца gearbox\n",
      "['manual' 'auto' nan]\n",
      "Уникальные значения столбца power\n",
      "[    0   190   163    75    69   102   109    50   125   101   105   140\n",
      "   115   131    60   136   160   231    90   118   193    99   113   218\n",
      "   122   129    70   306    95    61   177    80   170    55   143    64\n",
      "   286   232   150   156    82   155    54   185    87   180    86    84\n",
      "   224   235   200   178   265    77   110   144   120   116   184   126\n",
      "   204    88   194   305   197   179   250    45   313    41   165    98\n",
      "   130   114   211    56   201   213    58   107    83   174   100   220\n",
      "    85    73   192    68    66   299    74    52   147    65   310    71\n",
      "    97   239   203     5   300   103   258   320    63    81   148    44\n",
      "   145   230   280   260   104   188   333   186   117   141    59   132\n",
      "   234   158    39    92    51   135    53   209    43   146    67   106\n",
      "   166   276   344    72   249   237   245   111   326   279    23   138\n",
      "   175    96   226    26    37   301   334   128   133   124    33   219\n",
      "   241   167    94   182   196   238  1398   228   112    48   272   139\n",
      "  1799    40   240    79   256   360   243   375   252   396   340   108\n",
      "   121   345   187   289   222   198   284   450   233   387   152   347\n",
      "   172    57   137   212   476   314    30     7    47   173   290   207\n",
      "   205   171   750    78    91    89   349   325    76   151   350   953\n",
      "    93   142   500   343   199   119   164    16   264   367   208   210\n",
      "    46   435  1001   225   127   176   161   603   307   354    35   206\n",
      "   771   355   273   223   255   123   154   149  7515  1400   268   620\n",
      "   169   400   275    34     2   242  1779   285   162   328  1753   329\n",
      "   134   420   247   168 10317   215    18   330   283    62    10   214\n",
      "   183   254    15   321   322   315   952   600   181   426   599   379\n",
      "   999    22   157    42   195   553     4   309   507   381   271   440\n",
      "   189   401  1111  2729    21   236  1240  1704   521     1  1900   270\n",
      "    24   159   292   808   515  1200   303    29    38  1993    14   216\n",
      "   610   504    49   267   331   363   261   385  1011   253   696 10520\n",
      "   376   227   311    27   217    20  1999    11  1056    25   394    12\n",
      "   298   296  1659   294   551  6920   246    17  1800  1625   368   390\n",
      "   221  1367   259   606   327  2017  1597   266   374   392     9   405\n",
      "    13   262   601   430   295     8   411   900   541  7512   382 10218\n",
      "  7544  1102   287    19   751   297  1090   457   282   602   388     6\n",
      "  1000  5411   335  1360   202  3750   805  1062  1024 11530   364  1796\n",
      "  5000   269   460  1002   288  1780 12012 17932   316  2005  1399   191\n",
      "   278  1300   380   257   449  1256   153  1653   520   560   281 12510\n",
      "     3  1500   386    32  1202  2016  1436  1405   671   274  1288  1055\n",
      " 10912 15016  6226  1115   277  1105   341  1223  2340  8404  1968   338\n",
      "   445  1920   370   517  4400 10710 10522  9010   431  1164 11509   371\n",
      "  1501   428 11635    36   304   348  1703  1910  1995   579 10000   580\n",
      "   408    31  1005   358  1403   489  5575 19211   585   960   365   353\n",
      "   490   352  1801   346   550  3199   800  7508  1312   357  1937   950\n",
      "  4700  1600  3454 19208   251   850   337   700  8011  2331  2789   487\n",
      "   519  2461  6006  3500  5815  6018  1781  1503   612  1596   229  1506\n",
      "  5809 15020  5867  2172  1598 17410  1363   584  1054   851  1339   318\n",
      "   510   525  1700    28  1151   685  6011   317   703  1771 15001   514\n",
      "   362   332   324  6045   530   425   308  6010   475   903   640  2000\n",
      "   248   651  2799 17011   505  1103  1521   351 16051   398  9000  1998\n",
      " 10311   409  1230 17019 12684  8259  1895   901  1317   871   909  2201\n",
      "  1595   776 17700 11011  1199   459  1162  1120 15033  1896   339   361\n",
      "   574  6512   454   650 13616   604   607 16312  1082   336 20000   416\n",
      "   678  6012  1401  1021  1870 13636  1250  9710   323  1158  2009   902\n",
      "  6062  1275   572   244   399  1016   743  1221  2402 16011  1362   544\n",
      "   645   907   702 12512  1986  1003  1432  9013  9011   442  1017  1394\n",
      " 15017 10910  1992   540  2018 11025  1433  1701  2792  1502  1239  1390\n",
      " 14009  1160  1351 11111  1783  9007   923  1149   754  1988   402  2004\n",
      "  5420  1793  1324   356  7511  1299   293 19312  1079  1689   998  1100\n",
      "  9012  1933   508 16311   682  1252  1922  7529   732  2389  2200  1707\n",
      "  1416  8500  1012   485  3000 10110   421  4507  1631  7518   377  1004\n",
      "  2007  2598  1548  1241]\n",
      "Уникальные значения столбца model\n",
      "['golf' nan 'grand' 'fabia' '3er' '2_reihe' 'other' 'c_max' '3_reihe'\n",
      " 'passat' 'navara' 'ka' 'polo' 'twingo' 'a_klasse' 'scirocco' '5er'\n",
      " 'meriva' 'arosa' 'c4' 'civic' 'transporter' 'punto' 'e_klasse' 'clio'\n",
      " 'kadett' 'kangoo' 'corsa' 'one' 'fortwo' '1er' 'b_klasse' 'signum'\n",
      " 'astra' 'a8' 'jetta' 'fiesta' 'c_klasse' 'micra' 'vito' 'sprinter' '156'\n",
      " 'escort' 'forester' 'xc_reihe' 'scenic' 'a4' 'a1' 'insignia' 'combo'\n",
      " 'focus' 'tt' 'a6' 'jazz' 'omega' 'slk' '7er' '80' '147' '100' 'z_reihe'\n",
      " 'sportage' 'sorento' 'v40' 'ibiza' 'mustang' 'eos' 'touran' 'getz' 'a3'\n",
      " 'almera' 'megane' 'lupo' 'r19' 'zafira' 'caddy' 'mondeo' 'cordoba' 'colt'\n",
      " 'impreza' 'vectra' 'berlingo' 'tiguan' 'i_reihe' 'espace' 'sharan'\n",
      " '6_reihe' 'panda' 'up' 'seicento' 'ceed' '5_reihe' 'yeti' 'octavia' 'mii'\n",
      " 'rx_reihe' '6er' 'modus' 'fox' 'matiz' 'beetle' 'c1' 'rio' 'touareg'\n",
      " 'logan' 'spider' 'cuore' 's_max' 'a2' 'galaxy' 'c3' 'viano' 's_klasse'\n",
      " '1_reihe' 'avensis' 'roomster' 'sl' 'kaefer' 'santa' 'cooper' 'leon'\n",
      " '4_reihe' 'a5' '500' 'laguna' 'ptcruiser' 'clk' 'primera' 'x_reihe'\n",
      " 'exeo' '159' 'transit' 'juke' 'qashqai' 'carisma' 'accord' 'corolla'\n",
      " 'lanos' 'phaeton' 'verso' 'swift' 'rav' 'picanto' 'boxster' 'kalos'\n",
      " 'superb' 'stilo' 'alhambra' 'mx_reihe' 'roadster' 'ypsilon' 'cayenne'\n",
      " 'galant' 'justy' '90' 'sirion' 'crossfire' 'agila' 'duster' 'cr_reihe'\n",
      " 'v50' 'c_reihe' 'v_klasse' 'm_klasse' 'yaris' 'c5' 'aygo' 'cc' 'carnival'\n",
      " 'fusion' '911' 'bora' 'forfour' 'm_reihe' 'cl' 'tigra' '300c' 'spark'\n",
      " 'v70' 'kuga' 'x_type' 'ducato' 's_type' 'x_trail' 'toledo' 'altea'\n",
      " 'voyager' 'calibra' 'bravo' 'antara' 'tucson' 'citigo' 'jimny' 'wrangler'\n",
      " 'lybra' 'q7' 'lancer' 'captiva' 'c2' 'discovery' 'freelander' 'sandero'\n",
      " 'note' '900' 'cherokee' 'clubman' 'samara' 'defender' '601' 'cx_reihe'\n",
      " 'legacy' 'pajero' 'auris' 'niva' 's60' 'nubira' 'vivaro' 'g_klasse'\n",
      " 'lodgy' '850' 'range_rover' 'q3' 'serie_2' 'glk' 'charade' 'croma'\n",
      " 'outlander' 'doblo' 'musa' 'move' '9000' 'v60' '145' 'aveo' '200' 'b_max'\n",
      " 'range_rover_sport' 'terios' 'rangerover' 'q5' 'range_rover_evoque'\n",
      " 'materia' 'delta' 'gl' 'kalina' 'amarok' 'elefantino' 'i3' 'kappa'\n",
      " 'serie_3' 'serie_1']\n",
      "Уникальные значения столбца kilometer\n",
      "[150000 125000  90000  40000  30000  70000   5000 100000  60000  20000\n",
      "  80000  50000  10000]\n",
      "Уникальные значения столбца registration_month\n",
      "[ 0  5  8  6  7 10 12 11  2  3  1  4  9]\n",
      "Уникальные значения столбца fuel_type\n",
      "['petrol' 'gasoline' nan 'lpg' 'other' 'hybrid' 'cng' 'electric']\n",
      "Уникальные значения столбца brand\n",
      "['volkswagen' 'audi' 'jeep' 'skoda' 'bmw' 'peugeot' 'ford' 'mazda'\n",
      " 'nissan' 'renault' 'mercedes_benz' 'opel' 'seat' 'citroen' 'honda' 'fiat'\n",
      " 'mini' 'smart' 'hyundai' 'sonstige_autos' 'alfa_romeo' 'subaru' 'volvo'\n",
      " 'mitsubishi' 'kia' 'suzuki' 'lancia' 'toyota' 'chevrolet' 'dacia'\n",
      " 'daihatsu' 'trabant' 'saab' 'chrysler' 'jaguar' 'daewoo' 'porsche'\n",
      " 'rover' 'land_rover' 'lada']\n",
      "Уникальные значения столбца repaired\n",
      "[nan 'yes' 'no']\n",
      "Уникальные значения столбца date_created\n",
      "['2016-03-24 00:00:00' '2016-03-14 00:00:00' '2016-03-17 00:00:00'\n",
      " '2016-03-31 00:00:00' '2016-04-04 00:00:00' '2016-04-01 00:00:00'\n",
      " '2016-03-21 00:00:00' '2016-03-26 00:00:00' '2016-04-07 00:00:00'\n",
      " '2016-03-15 00:00:00' '2016-03-11 00:00:00' '2016-03-20 00:00:00'\n",
      " '2016-03-23 00:00:00' '2016-03-27 00:00:00' '2016-03-12 00:00:00'\n",
      " '2016-03-13 00:00:00' '2016-03-18 00:00:00' '2016-03-10 00:00:00'\n",
      " '2016-03-07 00:00:00' '2016-03-09 00:00:00' '2016-03-08 00:00:00'\n",
      " '2016-04-03 00:00:00' '2016-03-29 00:00:00' '2016-03-25 00:00:00'\n",
      " '2016-03-28 00:00:00' '2016-03-30 00:00:00' '2016-03-22 00:00:00'\n",
      " '2016-02-09 00:00:00' '2016-03-05 00:00:00' '2016-04-02 00:00:00'\n",
      " '2016-03-16 00:00:00' '2016-03-19 00:00:00' '2016-04-05 00:00:00'\n",
      " '2016-03-06 00:00:00' '2016-02-12 00:00:00' '2016-03-03 00:00:00'\n",
      " '2016-03-01 00:00:00' '2016-03-04 00:00:00' '2016-04-06 00:00:00'\n",
      " '2016-02-15 00:00:00' '2016-02-24 00:00:00' '2016-02-27 00:00:00'\n",
      " '2015-03-20 00:00:00' '2016-02-28 00:00:00' '2016-02-17 00:00:00'\n",
      " '2016-01-27 00:00:00' '2016-02-20 00:00:00' '2016-02-29 00:00:00'\n",
      " '2016-02-10 00:00:00' '2016-02-23 00:00:00' '2016-02-21 00:00:00'\n",
      " '2015-11-02 00:00:00' '2016-02-19 00:00:00' '2016-02-26 00:00:00'\n",
      " '2016-02-11 00:00:00' '2016-01-10 00:00:00' '2016-02-06 00:00:00'\n",
      " '2016-02-18 00:00:00' '2016-01-29 00:00:00' '2016-03-02 00:00:00'\n",
      " '2015-12-06 00:00:00' '2016-01-24 00:00:00' '2016-01-30 00:00:00'\n",
      " '2016-02-02 00:00:00' '2016-02-16 00:00:00' '2016-02-13 00:00:00'\n",
      " '2016-02-05 00:00:00' '2016-02-22 00:00:00' '2015-11-17 00:00:00'\n",
      " '2014-03-10 00:00:00' '2016-02-07 00:00:00' '2016-01-23 00:00:00'\n",
      " '2016-02-25 00:00:00' '2016-02-14 00:00:00' '2016-01-02 00:00:00'\n",
      " '2015-09-04 00:00:00' '2015-11-12 00:00:00' '2015-12-27 00:00:00'\n",
      " '2015-11-24 00:00:00' '2016-01-20 00:00:00' '2016-02-03 00:00:00'\n",
      " '2015-12-05 00:00:00' '2015-08-07 00:00:00' '2016-01-28 00:00:00'\n",
      " '2016-01-31 00:00:00' '2016-02-08 00:00:00' '2016-01-07 00:00:00'\n",
      " '2016-01-22 00:00:00' '2016-01-18 00:00:00' '2016-01-08 00:00:00'\n",
      " '2015-11-23 00:00:00' '2016-01-13 00:00:00' '2016-01-17 00:00:00'\n",
      " '2016-01-15 00:00:00' '2015-11-08 00:00:00' '2016-01-26 00:00:00'\n",
      " '2016-02-04 00:00:00' '2016-01-25 00:00:00' '2016-01-16 00:00:00'\n",
      " '2015-08-10 00:00:00' '2016-01-03 00:00:00' '2016-01-19 00:00:00'\n",
      " '2015-12-30 00:00:00' '2016-02-01 00:00:00' '2015-12-17 00:00:00'\n",
      " '2015-11-10 00:00:00' '2016-01-06 00:00:00' '2015-09-09 00:00:00'\n",
      " '2015-06-18 00:00:00']\n",
      "Уникальные значения столбца number_of_pictures\n",
      "[0]\n",
      "Уникальные значения столбца postal_code\n",
      "[70435 66954 90480 ... 38528 38325 31096]\n",
      "Уникальные значения столбца last_seen\n",
      "['2016-04-07 03:16:57' '2016-04-07 01:46:50' '2016-04-05 12:47:46' ...\n",
      " '2016-03-19 20:44:43' '2016-03-29 10:17:23' '2016-03-21 10:42:49']\n"
     ]
    }
   ],
   "source": [
    "show_rows(autos)"
   ]
  },
  {
   "cell_type": "code",
   "execution_count": 84,
   "metadata": {},
   "outputs": [
    {
     "data": {
      "text/plain": [
       "4"
      ]
     },
     "execution_count": 84,
     "metadata": {},
     "output_type": "execute_result"
    }
   ],
   "source": [
    "# изучим данные на дубликаты и удалим их\n",
    "autos.duplicated().sum()"
   ]
  },
  {
   "cell_type": "code",
   "execution_count": 85,
   "metadata": {},
   "outputs": [
    {
     "data": {
      "text/plain": [
       "0"
      ]
     },
     "execution_count": 85,
     "metadata": {},
     "output_type": "execute_result"
    }
   ],
   "source": [
    "autos = autos.drop_duplicates()\n",
    "autos.duplicated().sum()"
   ]
  },
  {
   "cell_type": "code",
   "execution_count": 86,
   "metadata": {},
   "outputs": [
    {
     "data": {
      "text/html": [
       "<div>\n",
       "<style scoped>\n",
       "    .dataframe tbody tr th:only-of-type {\n",
       "        vertical-align: middle;\n",
       "    }\n",
       "\n",
       "    .dataframe tbody tr th {\n",
       "        vertical-align: top;\n",
       "    }\n",
       "\n",
       "    .dataframe thead th {\n",
       "        text-align: right;\n",
       "    }\n",
       "</style>\n",
       "<table border=\"1\" class=\"dataframe\">\n",
       "  <thead>\n",
       "    <tr style=\"text-align: right;\">\n",
       "      <th></th>\n",
       "      <th>price</th>\n",
       "      <th>registration_year</th>\n",
       "      <th>power</th>\n",
       "      <th>kilometer</th>\n",
       "      <th>registration_month</th>\n",
       "      <th>number_of_pictures</th>\n",
       "      <th>postal_code</th>\n",
       "    </tr>\n",
       "  </thead>\n",
       "  <tbody>\n",
       "    <tr>\n",
       "      <th>count</th>\n",
       "      <td>354365.000000</td>\n",
       "      <td>354365.000000</td>\n",
       "      <td>354365.000000</td>\n",
       "      <td>354365.000000</td>\n",
       "      <td>354365.000000</td>\n",
       "      <td>354365.0</td>\n",
       "      <td>354365.000000</td>\n",
       "    </tr>\n",
       "    <tr>\n",
       "      <th>mean</th>\n",
       "      <td>4416.679830</td>\n",
       "      <td>2004.234481</td>\n",
       "      <td>110.093816</td>\n",
       "      <td>128211.363989</td>\n",
       "      <td>5.714650</td>\n",
       "      <td>0.0</td>\n",
       "      <td>50508.503800</td>\n",
       "    </tr>\n",
       "    <tr>\n",
       "      <th>std</th>\n",
       "      <td>4514.176349</td>\n",
       "      <td>90.228466</td>\n",
       "      <td>189.851330</td>\n",
       "      <td>37905.083858</td>\n",
       "      <td>3.726432</td>\n",
       "      <td>0.0</td>\n",
       "      <td>25783.100078</td>\n",
       "    </tr>\n",
       "    <tr>\n",
       "      <th>min</th>\n",
       "      <td>0.000000</td>\n",
       "      <td>1000.000000</td>\n",
       "      <td>0.000000</td>\n",
       "      <td>5000.000000</td>\n",
       "      <td>0.000000</td>\n",
       "      <td>0.0</td>\n",
       "      <td>1067.000000</td>\n",
       "    </tr>\n",
       "    <tr>\n",
       "      <th>25%</th>\n",
       "      <td>1050.000000</td>\n",
       "      <td>1999.000000</td>\n",
       "      <td>69.000000</td>\n",
       "      <td>125000.000000</td>\n",
       "      <td>3.000000</td>\n",
       "      <td>0.0</td>\n",
       "      <td>30165.000000</td>\n",
       "    </tr>\n",
       "    <tr>\n",
       "      <th>50%</th>\n",
       "      <td>2700.000000</td>\n",
       "      <td>2003.000000</td>\n",
       "      <td>105.000000</td>\n",
       "      <td>150000.000000</td>\n",
       "      <td>6.000000</td>\n",
       "      <td>0.0</td>\n",
       "      <td>49413.000000</td>\n",
       "    </tr>\n",
       "    <tr>\n",
       "      <th>75%</th>\n",
       "      <td>6400.000000</td>\n",
       "      <td>2008.000000</td>\n",
       "      <td>143.000000</td>\n",
       "      <td>150000.000000</td>\n",
       "      <td>9.000000</td>\n",
       "      <td>0.0</td>\n",
       "      <td>71083.000000</td>\n",
       "    </tr>\n",
       "    <tr>\n",
       "      <th>max</th>\n",
       "      <td>20000.000000</td>\n",
       "      <td>9999.000000</td>\n",
       "      <td>20000.000000</td>\n",
       "      <td>150000.000000</td>\n",
       "      <td>12.000000</td>\n",
       "      <td>0.0</td>\n",
       "      <td>99998.000000</td>\n",
       "    </tr>\n",
       "  </tbody>\n",
       "</table>\n",
       "</div>"
      ],
      "text/plain": [
       "               price  registration_year          power      kilometer  \\\n",
       "count  354365.000000      354365.000000  354365.000000  354365.000000   \n",
       "mean     4416.679830        2004.234481     110.093816  128211.363989   \n",
       "std      4514.176349          90.228466     189.851330   37905.083858   \n",
       "min         0.000000        1000.000000       0.000000    5000.000000   \n",
       "25%      1050.000000        1999.000000      69.000000  125000.000000   \n",
       "50%      2700.000000        2003.000000     105.000000  150000.000000   \n",
       "75%      6400.000000        2008.000000     143.000000  150000.000000   \n",
       "max     20000.000000        9999.000000   20000.000000  150000.000000   \n",
       "\n",
       "       registration_month  number_of_pictures    postal_code  \n",
       "count       354365.000000            354365.0  354365.000000  \n",
       "mean             5.714650                 0.0   50508.503800  \n",
       "std              3.726432                 0.0   25783.100078  \n",
       "min              0.000000                 0.0    1067.000000  \n",
       "25%              3.000000                 0.0   30165.000000  \n",
       "50%              6.000000                 0.0   49413.000000  \n",
       "75%              9.000000                 0.0   71083.000000  \n",
       "max             12.000000                 0.0   99998.000000  "
      ]
     },
     "execution_count": 86,
     "metadata": {},
     "output_type": "execute_result"
    }
   ],
   "source": [
    "autos.describe()"
   ]
  },
  {
   "cell_type": "markdown",
   "metadata": {},
   "source": [
    "Данные содержат выбросы и ненужные столбцы"
   ]
  },
  {
   "cell_type": "code",
   "execution_count": 87,
   "metadata": {},
   "outputs": [
    {
     "data": {
      "text/html": [
       "<div>\n",
       "<style scoped>\n",
       "    .dataframe tbody tr th:only-of-type {\n",
       "        vertical-align: middle;\n",
       "    }\n",
       "\n",
       "    .dataframe tbody tr th {\n",
       "        vertical-align: top;\n",
       "    }\n",
       "\n",
       "    .dataframe thead th {\n",
       "        text-align: right;\n",
       "    }\n",
       "</style>\n",
       "<table border=\"1\" class=\"dataframe\">\n",
       "  <thead>\n",
       "    <tr style=\"text-align: right;\">\n",
       "      <th></th>\n",
       "      <th>price</th>\n",
       "      <th>vehicle_type</th>\n",
       "      <th>registration_year</th>\n",
       "      <th>gearbox</th>\n",
       "      <th>power</th>\n",
       "      <th>model</th>\n",
       "      <th>kilometer</th>\n",
       "      <th>fuel_type</th>\n",
       "      <th>brand</th>\n",
       "      <th>repaired</th>\n",
       "    </tr>\n",
       "  </thead>\n",
       "  <tbody>\n",
       "    <tr>\n",
       "      <th>0</th>\n",
       "      <td>480</td>\n",
       "      <td>NaN</td>\n",
       "      <td>1993</td>\n",
       "      <td>manual</td>\n",
       "      <td>0</td>\n",
       "      <td>golf</td>\n",
       "      <td>150000</td>\n",
       "      <td>petrol</td>\n",
       "      <td>volkswagen</td>\n",
       "      <td>NaN</td>\n",
       "    </tr>\n",
       "    <tr>\n",
       "      <th>1</th>\n",
       "      <td>18300</td>\n",
       "      <td>coupe</td>\n",
       "      <td>2011</td>\n",
       "      <td>manual</td>\n",
       "      <td>190</td>\n",
       "      <td>NaN</td>\n",
       "      <td>125000</td>\n",
       "      <td>gasoline</td>\n",
       "      <td>audi</td>\n",
       "      <td>yes</td>\n",
       "    </tr>\n",
       "    <tr>\n",
       "      <th>2</th>\n",
       "      <td>9800</td>\n",
       "      <td>suv</td>\n",
       "      <td>2004</td>\n",
       "      <td>auto</td>\n",
       "      <td>163</td>\n",
       "      <td>grand</td>\n",
       "      <td>125000</td>\n",
       "      <td>gasoline</td>\n",
       "      <td>jeep</td>\n",
       "      <td>NaN</td>\n",
       "    </tr>\n",
       "    <tr>\n",
       "      <th>3</th>\n",
       "      <td>1500</td>\n",
       "      <td>small</td>\n",
       "      <td>2001</td>\n",
       "      <td>manual</td>\n",
       "      <td>75</td>\n",
       "      <td>golf</td>\n",
       "      <td>150000</td>\n",
       "      <td>petrol</td>\n",
       "      <td>volkswagen</td>\n",
       "      <td>no</td>\n",
       "    </tr>\n",
       "    <tr>\n",
       "      <th>4</th>\n",
       "      <td>3600</td>\n",
       "      <td>small</td>\n",
       "      <td>2008</td>\n",
       "      <td>manual</td>\n",
       "      <td>69</td>\n",
       "      <td>fabia</td>\n",
       "      <td>90000</td>\n",
       "      <td>gasoline</td>\n",
       "      <td>skoda</td>\n",
       "      <td>no</td>\n",
       "    </tr>\n",
       "  </tbody>\n",
       "</table>\n",
       "</div>"
      ],
      "text/plain": [
       "   price vehicle_type  registration_year gearbox  power  model  kilometer  \\\n",
       "0    480          NaN               1993  manual      0   golf     150000   \n",
       "1  18300        coupe               2011  manual    190    NaN     125000   \n",
       "2   9800          suv               2004    auto    163  grand     125000   \n",
       "3   1500        small               2001  manual     75   golf     150000   \n",
       "4   3600        small               2008  manual     69  fabia      90000   \n",
       "\n",
       "  fuel_type       brand repaired  \n",
       "0    petrol  volkswagen      NaN  \n",
       "1  gasoline        audi      yes  \n",
       "2  gasoline        jeep      NaN  \n",
       "3    petrol  volkswagen       no  \n",
       "4  gasoline       skoda       no  "
      ]
     },
     "execution_count": 87,
     "metadata": {},
     "output_type": "execute_result"
    }
   ],
   "source": [
    "#Удалим ненужные столбцы\n",
    "autos = autos.drop(['date_crawled', 'registration_month', 'date_created', \n",
    "                  'number_of_pictures', 'postal_code', 'last_seen'], axis=1)\n",
    "autos.head()"
   ]
  },
  {
   "cell_type": "markdown",
   "metadata": {},
   "source": [
    "<font color='4682B4'>Добавила</font>"
   ]
  },
  {
   "cell_type": "code",
   "execution_count": 88,
   "metadata": {},
   "outputs": [
    {
     "data": {
      "text/plain": [
       "45036"
      ]
     },
     "execution_count": 88,
     "metadata": {},
     "output_type": "execute_result"
    }
   ],
   "source": [
    "autos.duplicated().sum()"
   ]
  },
  {
   "cell_type": "code",
   "execution_count": 89,
   "metadata": {},
   "outputs": [
    {
     "data": {
      "text/plain": [
       "0"
      ]
     },
     "execution_count": 89,
     "metadata": {},
     "output_type": "execute_result"
    }
   ],
   "source": [
    "#удалим дубликаты\n",
    "autos = autos.drop_duplicates()\n",
    "autos.duplicated().sum()"
   ]
  },
  {
   "cell_type": "code",
   "execution_count": 90,
   "metadata": {},
   "outputs": [
    {
     "data": {
      "text/plain": [
       "price                    0\n",
       "vehicle_type         34559\n",
       "registration_year        0\n",
       "gearbox              17207\n",
       "power                    0\n",
       "model                18361\n",
       "kilometer                0\n",
       "fuel_type            30764\n",
       "brand                    0\n",
       "repaired             64558\n",
       "dtype: int64"
      ]
     },
     "execution_count": 90,
     "metadata": {},
     "output_type": "execute_result"
    }
   ],
   "source": [
    "#проверим на наличие пропущенных значений\n",
    "autos.isna().sum()"
   ]
  },
  {
   "cell_type": "code",
   "execution_count": 91,
   "metadata": {},
   "outputs": [],
   "source": [
    "#Заполним пропуски uknown\n",
    "autos['vehicle_type'] = autos['vehicle_type'].fillna('unknown')\n",
    "autos['model'] = autos['model'].fillna('unknown')\n",
    "autos['fuel_type'] = autos['fuel_type'].fillna('unknown')"
   ]
  },
  {
   "cell_type": "code",
   "execution_count": 92,
   "metadata": {},
   "outputs": [],
   "source": [
    "#в столбцах с бинарными значениями заполним данные на способом random  \n",
    "#autos[['gearbox', 'repaired']] = autos[['gearbox', 'repaired']].fillna({\n",
    "#    'gearbox': np.random.choice(autos['gearbox'].dropna()),\n",
    "#    'repaired': np.random.choice(autos['repaired'].dropna())\n",
    "#})"
   ]
  },
  {
   "cell_type": "code",
   "execution_count": 93,
   "metadata": {},
   "outputs": [
    {
     "data": {
      "text/plain": [
       "manual    232774\n",
       "auto       59348\n",
       "Name: gearbox, dtype: int64"
      ]
     },
     "execution_count": 93,
     "metadata": {},
     "output_type": "execute_result"
    }
   ],
   "source": [
    " autos['gearbox'].value_counts()"
   ]
  },
  {
   "cell_type": "code",
   "execution_count": 94,
   "metadata": {},
   "outputs": [
    {
     "data": {
      "text/plain": [
       "no     211328\n",
       "yes     33443\n",
       "Name: repaired, dtype: int64"
      ]
     },
     "execution_count": 94,
     "metadata": {},
     "output_type": "execute_result"
    }
   ],
   "source": [
    " autos['repaired'].value_counts()"
   ]
  },
  {
   "cell_type": "code",
   "execution_count": 95,
   "metadata": {},
   "outputs": [],
   "source": [
    "# заполним пропуски значением \"unknown\"\n",
    "autos['gearbox'] = autos['gearbox'].fillna('unknown')"
   ]
  },
  {
   "cell_type": "code",
   "execution_count": 96,
   "metadata": {},
   "outputs": [],
   "source": [
    "# заполним пропуски значением \"unknown\"\n",
    "autos['repaired'] = autos['repaired'].fillna('unknown')"
   ]
  },
  {
   "cell_type": "code",
   "execution_count": 97,
   "metadata": {},
   "outputs": [
    {
     "data": {
      "text/plain": [
       "price                0\n",
       "vehicle_type         0\n",
       "registration_year    0\n",
       "gearbox              0\n",
       "power                0\n",
       "model                0\n",
       "kilometer            0\n",
       "fuel_type            0\n",
       "brand                0\n",
       "repaired             0\n",
       "dtype: int64"
      ]
     },
     "execution_count": 97,
     "metadata": {},
     "output_type": "execute_result"
    }
   ],
   "source": [
    "autos.isna().sum()"
   ]
  },
  {
   "cell_type": "code",
   "execution_count": 98,
   "metadata": {},
   "outputs": [
    {
     "data": {
      "text/plain": [
       "0"
      ]
     },
     "execution_count": 98,
     "metadata": {},
     "output_type": "execute_result"
    }
   ],
   "source": [
    "autos.duplicated().sum()"
   ]
  },
  {
   "cell_type": "code",
   "execution_count": 99,
   "metadata": {},
   "outputs": [
    {
     "data": {
      "text/html": [
       "<div>\n",
       "<style scoped>\n",
       "    .dataframe tbody tr th:only-of-type {\n",
       "        vertical-align: middle;\n",
       "    }\n",
       "\n",
       "    .dataframe tbody tr th {\n",
       "        vertical-align: top;\n",
       "    }\n",
       "\n",
       "    .dataframe thead th {\n",
       "        text-align: right;\n",
       "    }\n",
       "</style>\n",
       "<table border=\"1\" class=\"dataframe\">\n",
       "  <thead>\n",
       "    <tr style=\"text-align: right;\">\n",
       "      <th></th>\n",
       "      <th>price</th>\n",
       "      <th>registration_year</th>\n",
       "      <th>power</th>\n",
       "      <th>kilometer</th>\n",
       "    </tr>\n",
       "  </thead>\n",
       "  <tbody>\n",
       "    <tr>\n",
       "      <th>count</th>\n",
       "      <td>309329.000000</td>\n",
       "      <td>309329.000000</td>\n",
       "      <td>309329.000000</td>\n",
       "      <td>309329.000000</td>\n",
       "    </tr>\n",
       "    <tr>\n",
       "      <th>mean</th>\n",
       "      <td>4486.937196</td>\n",
       "      <td>2004.360105</td>\n",
       "      <td>110.976908</td>\n",
       "      <td>127217.735809</td>\n",
       "    </tr>\n",
       "    <tr>\n",
       "      <th>std</th>\n",
       "      <td>4564.852796</td>\n",
       "      <td>92.541399</td>\n",
       "      <td>200.969473</td>\n",
       "      <td>38532.941010</td>\n",
       "    </tr>\n",
       "    <tr>\n",
       "      <th>min</th>\n",
       "      <td>0.000000</td>\n",
       "      <td>1000.000000</td>\n",
       "      <td>0.000000</td>\n",
       "      <td>5000.000000</td>\n",
       "    </tr>\n",
       "    <tr>\n",
       "      <th>25%</th>\n",
       "      <td>1100.000000</td>\n",
       "      <td>1999.000000</td>\n",
       "      <td>69.000000</td>\n",
       "      <td>125000.000000</td>\n",
       "    </tr>\n",
       "    <tr>\n",
       "      <th>50%</th>\n",
       "      <td>2800.000000</td>\n",
       "      <td>2003.000000</td>\n",
       "      <td>105.000000</td>\n",
       "      <td>150000.000000</td>\n",
       "    </tr>\n",
       "    <tr>\n",
       "      <th>75%</th>\n",
       "      <td>6500.000000</td>\n",
       "      <td>2008.000000</td>\n",
       "      <td>143.000000</td>\n",
       "      <td>150000.000000</td>\n",
       "    </tr>\n",
       "    <tr>\n",
       "      <th>max</th>\n",
       "      <td>20000.000000</td>\n",
       "      <td>9999.000000</td>\n",
       "      <td>20000.000000</td>\n",
       "      <td>150000.000000</td>\n",
       "    </tr>\n",
       "  </tbody>\n",
       "</table>\n",
       "</div>"
      ],
      "text/plain": [
       "               price  registration_year          power      kilometer\n",
       "count  309329.000000      309329.000000  309329.000000  309329.000000\n",
       "mean     4486.937196        2004.360105     110.976908  127217.735809\n",
       "std      4564.852796          92.541399     200.969473   38532.941010\n",
       "min         0.000000        1000.000000       0.000000    5000.000000\n",
       "25%      1100.000000        1999.000000      69.000000  125000.000000\n",
       "50%      2800.000000        2003.000000     105.000000  150000.000000\n",
       "75%      6500.000000        2008.000000     143.000000  150000.000000\n",
       "max     20000.000000        9999.000000   20000.000000  150000.000000"
      ]
     },
     "execution_count": 99,
     "metadata": {},
     "output_type": "execute_result"
    }
   ],
   "source": [
    "autos.describe()"
   ]
  },
  {
   "cell_type": "code",
   "execution_count": 100,
   "metadata": {},
   "outputs": [
    {
     "data": {
      "text/plain": [
       "array([1993, 2011, 2004, 2001, 2008, 1995, 1980, 2014, 1998, 2005, 1910,\n",
       "       2016, 2007, 2009, 2002, 2018, 1997, 1990, 2017, 1981, 2003, 1994,\n",
       "       1991, 1984, 2006, 1999, 2012, 2010, 2000, 1992, 2013, 1996, 1985,\n",
       "       1989, 2015, 1982, 1976, 1983, 1973, 1111, 1969, 1971, 1987, 1986,\n",
       "       1988, 1970, 1965, 1945, 1925, 1974, 1979, 1955, 1978, 1972, 1968,\n",
       "       1977, 1961, 1960, 1966, 1975, 1963, 1964, 5000, 1954, 1958, 1967,\n",
       "       1959, 9999, 1956, 3200, 1000, 1941, 8888, 1500, 2200, 4100, 1962,\n",
       "       1929, 1957, 1940, 3000, 2066, 1949, 2019, 1937, 1951, 1800, 1953,\n",
       "       1234, 8000, 5300, 9000, 2900, 6000, 5900, 5911, 1933, 1400, 1950,\n",
       "       4000, 1948, 1952, 1200, 8500, 1932, 1255, 3700, 3800, 4800, 1942,\n",
       "       7000, 1935, 1936, 6500, 1923, 2290, 2500, 1930, 1001, 9450, 1944,\n",
       "       1943, 1934, 1938, 1688, 2800, 1253, 1928, 1919, 5555, 5600, 1600,\n",
       "       2222, 1039, 9996, 1300, 8455, 1931, 1915, 4500, 1920, 1602, 7800,\n",
       "       9229, 1947, 1927, 7100, 8200, 1946, 7500, 3500])"
      ]
     },
     "execution_count": 100,
     "metadata": {},
     "output_type": "execute_result"
    }
   ],
   "source": [
    "autos['registration_year'].unique()"
   ]
  },
  {
   "cell_type": "code",
   "execution_count": 101,
   "metadata": {},
   "outputs": [],
   "source": [
    "autos = autos[(autos['registration_year'] >= 1960) & (autos['registration_year'] <= 2016)]"
   ]
  },
  {
   "cell_type": "code",
   "execution_count": 102,
   "metadata": {},
   "outputs": [
    {
     "data": {
      "text/plain": [
       "array([1993, 2011, 2004, 2001, 2008, 1995, 1980, 2014, 1998, 2005, 2016,\n",
       "       2007, 2009, 2002, 1997, 1990, 1981, 2003, 1994, 1991, 1984, 2006,\n",
       "       1999, 2012, 2010, 2000, 1992, 2013, 1996, 1985, 1989, 2015, 1982,\n",
       "       1976, 1983, 1973, 1969, 1971, 1987, 1986, 1988, 1970, 1965, 1974,\n",
       "       1979, 1978, 1972, 1968, 1977, 1961, 1960, 1966, 1975, 1963, 1964,\n",
       "       1967, 1962])"
      ]
     },
     "execution_count": 102,
     "metadata": {},
     "output_type": "execute_result"
    }
   ],
   "source": [
    "# найдем уникальные значения в столбце \"год регистрации\"\n",
    "autos['registration_year'].unique()"
   ]
  },
  {
   "cell_type": "markdown",
   "metadata": {},
   "source": [
    "Напишим функцию которая уберет выбросы из данных и нули"
   ]
  },
  {
   "cell_type": "code",
   "execution_count": 103,
   "metadata": {},
   "outputs": [],
   "source": [
    "def drop_features(autos, features, q):\n",
    "    for feature in features:\n",
    "        autos = autos.loc[autos[feature] > 0, :]\n",
    "        autos = autos.loc[autos[feature] > autos[feature].quantile(q), :]\n",
    "        autos = autos.loc[autos[feature] < autos[feature].quantile(1-q), :]\n",
    "    return autos"
   ]
  },
  {
   "cell_type": "code",
   "execution_count": 104,
   "metadata": {},
   "outputs": [
    {
     "data": {
      "text/plain": [
       "<AxesSubplot:>"
      ]
     },
     "execution_count": 104,
     "metadata": {},
     "output_type": "execute_result"
    },
    {
     "data": {
      "image/png": "[encoded data removed]",
      "text/plain": [
       "<Figure size 432x288 with 1 Axes>"
      ]
     },
     "metadata": {
      "needs_background": "light"
     },
     "output_type": "display_data"
    }
   ],
   "source": [
    "autos.power.hist()"
   ]
  },
  {
   "cell_type": "code",
   "execution_count": 105,
   "metadata": {},
   "outputs": [
    {
     "data": {
      "image/png": "[encoded data removed]",
      "text/plain": [
       "<Figure size 720x360 with 1 Axes>"
      ]
     },
     "metadata": {
      "needs_background": "light"
     },
     "output_type": "display_data"
    }
   ],
   "source": [
    "autos.boxplot(column='power', figsize=(10, 5))\n",
    "plt.xlabel(\"Признак 'Power' (мощность автомобиля)\")\n",
    "plt.ylabel('Мощность автомобиля (л. с.)')\n",
    "plt.title('Распределение мощности автомобиля (без выбросов)')\n",
    "plt.show()"
   ]
  },
  {
   "cell_type": "code",
   "execution_count": 106,
   "metadata": {},
   "outputs": [
    {
     "data": {
      "text/plain": [
       "0        32238\n",
       "75       18440\n",
       "150      12229\n",
       "60       12222\n",
       "90       10820\n",
       "         ...  \n",
       "1436         1\n",
       "2461         1\n",
       "923          1\n",
       "10910        1\n",
       "1653         1\n",
       "Name: power, Length: 698, dtype: int64"
      ]
     },
     "execution_count": 106,
     "metadata": {},
     "output_type": "execute_result"
    }
   ],
   "source": [
    "autos['power'].value_counts()"
   ]
  },
  {
   "cell_type": "code",
   "execution_count": 107,
   "metadata": {},
   "outputs": [],
   "source": [
    "#удалим аномалии - скорость больше 700\n",
    "autos = autos[(autos['power'] <= 700)]"
   ]
  },
  {
   "cell_type": "code",
   "execution_count": 108,
   "metadata": {},
   "outputs": [
    {
     "data": {
      "text/plain": [
       "0      32238\n",
       "75     18440\n",
       "150    12229\n",
       "60     12222\n",
       "90     10820\n",
       "       ...  \n",
       "604        1\n",
       "685        1\n",
       "454        1\n",
       "428        1\n",
       "323        1\n",
       "Name: power, Length: 458, dtype: int64"
      ]
     },
     "execution_count": 108,
     "metadata": {},
     "output_type": "execute_result"
    }
   ],
   "source": [
    "autos['power'].value_counts()"
   ]
  },
  {
   "cell_type": "code",
   "execution_count": 109,
   "metadata": {},
   "outputs": [],
   "source": [
    "autos['power'] = autos['power'].replace(0, (autos['power'].median()))"
   ]
  },
  {
   "cell_type": "code",
   "execution_count": 110,
   "metadata": {},
   "outputs": [
    {
     "data": {
      "text/plain": [
       "105.0    40753\n",
       "75.0     18440\n",
       "150.0    12229\n",
       "60.0     12222\n",
       "90.0     10820\n",
       "         ...  \n",
       "356.0        1\n",
       "339.0        1\n",
       "678.0        1\n",
       "541.0        1\n",
       "572.0        1\n",
       "Name: power, Length: 457, dtype: int64"
      ]
     },
     "execution_count": 110,
     "metadata": {},
     "output_type": "execute_result"
    }
   ],
   "source": [
    "autos['power'].value_counts()"
   ]
  },
  {
   "cell_type": "code",
   "execution_count": 111,
   "metadata": {
    "scrolled": true
   },
   "outputs": [
    {
     "data": {
      "text/html": [
       "<div>\n",
       "<style scoped>\n",
       "    .dataframe tbody tr th:only-of-type {\n",
       "        vertical-align: middle;\n",
       "    }\n",
       "\n",
       "    .dataframe tbody tr th {\n",
       "        vertical-align: top;\n",
       "    }\n",
       "\n",
       "    .dataframe thead th {\n",
       "        text-align: right;\n",
       "    }\n",
       "</style>\n",
       "<table border=\"1\" class=\"dataframe\">\n",
       "  <thead>\n",
       "    <tr style=\"text-align: right;\">\n",
       "      <th></th>\n",
       "      <th>price</th>\n",
       "      <th>registration_year</th>\n",
       "      <th>power</th>\n",
       "      <th>kilometer</th>\n",
       "    </tr>\n",
       "  </thead>\n",
       "  <tbody>\n",
       "    <tr>\n",
       "      <th>count</th>\n",
       "      <td>295030.000000</td>\n",
       "      <td>295030.000000</td>\n",
       "      <td>295030.000000</td>\n",
       "      <td>295030.000000</td>\n",
       "    </tr>\n",
       "    <tr>\n",
       "      <th>mean</th>\n",
       "      <td>4548.142975</td>\n",
       "      <td>2002.575592</td>\n",
       "      <td>119.666054</td>\n",
       "      <td>127123.868759</td>\n",
       "    </tr>\n",
       "    <tr>\n",
       "      <th>std</th>\n",
       "      <td>4598.408875</td>\n",
       "      <td>6.911840</td>\n",
       "      <td>51.721343</td>\n",
       "      <td>38448.604376</td>\n",
       "    </tr>\n",
       "    <tr>\n",
       "      <th>min</th>\n",
       "      <td>0.000000</td>\n",
       "      <td>1960.000000</td>\n",
       "      <td>1.000000</td>\n",
       "      <td>5000.000000</td>\n",
       "    </tr>\n",
       "    <tr>\n",
       "      <th>25%</th>\n",
       "      <td>1100.000000</td>\n",
       "      <td>1999.000000</td>\n",
       "      <td>86.000000</td>\n",
       "      <td>125000.000000</td>\n",
       "    </tr>\n",
       "    <tr>\n",
       "      <th>50%</th>\n",
       "      <td>2850.000000</td>\n",
       "      <td>2003.000000</td>\n",
       "      <td>105.000000</td>\n",
       "      <td>150000.000000</td>\n",
       "    </tr>\n",
       "    <tr>\n",
       "      <th>75%</th>\n",
       "      <td>6590.000000</td>\n",
       "      <td>2007.000000</td>\n",
       "      <td>143.000000</td>\n",
       "      <td>150000.000000</td>\n",
       "    </tr>\n",
       "    <tr>\n",
       "      <th>max</th>\n",
       "      <td>20000.000000</td>\n",
       "      <td>2016.000000</td>\n",
       "      <td>700.000000</td>\n",
       "      <td>150000.000000</td>\n",
       "    </tr>\n",
       "  </tbody>\n",
       "</table>\n",
       "</div>"
      ],
      "text/plain": [
       "               price  registration_year          power      kilometer\n",
       "count  295030.000000      295030.000000  295030.000000  295030.000000\n",
       "mean     4548.142975        2002.575592     119.666054  127123.868759\n",
       "std      4598.408875           6.911840      51.721343   38448.604376\n",
       "min         0.000000        1960.000000       1.000000    5000.000000\n",
       "25%      1100.000000        1999.000000      86.000000  125000.000000\n",
       "50%      2850.000000        2003.000000     105.000000  150000.000000\n",
       "75%      6590.000000        2007.000000     143.000000  150000.000000\n",
       "max     20000.000000        2016.000000     700.000000  150000.000000"
      ]
     },
     "execution_count": 111,
     "metadata": {},
     "output_type": "execute_result"
    }
   ],
   "source": [
    "autos.describe()"
   ]
  },
  {
   "cell_type": "code",
   "execution_count": 112,
   "metadata": {},
   "outputs": [
    {
     "data": {
      "text/plain": [
       "0        8150\n",
       "500      4443\n",
       "1500     4247\n",
       "1000     3600\n",
       "1200     3559\n",
       "         ... \n",
       "7234        1\n",
       "13383       1\n",
       "1857        1\n",
       "5955        1\n",
       "8188        1\n",
       "Name: price, Length: 3693, dtype: int64"
      ]
     },
     "execution_count": 112,
     "metadata": {},
     "output_type": "execute_result"
    }
   ],
   "source": [
    "# проверим на аномалии значения столбца \"цена\"\n",
    "autos['price'].value_counts()"
   ]
  },
  {
   "cell_type": "code",
   "execution_count": 113,
   "metadata": {},
   "outputs": [],
   "source": [
    "#удалим цену равную нулю\n",
    "autos = autos[autos['price'] != 0]"
   ]
  },
  {
   "cell_type": "code",
   "execution_count": 114,
   "metadata": {},
   "outputs": [
    {
     "data": {
      "text/plain": [
       "500     4443\n",
       "1500    4247\n",
       "1000    3600\n",
       "1200    3559\n",
       "2500    3522\n",
       "        ... \n",
       "2425       1\n",
       "7540       1\n",
       "887        1\n",
       "4725       1\n",
       "8188       1\n",
       "Name: price, Length: 3692, dtype: int64"
      ]
     },
     "execution_count": 114,
     "metadata": {},
     "output_type": "execute_result"
    }
   ],
   "source": [
    "autos['price'].value_counts()"
   ]
  },
  {
   "cell_type": "code",
   "execution_count": 115,
   "metadata": {},
   "outputs": [
    {
     "data": {
      "text/html": [
       "<div>\n",
       "<style scoped>\n",
       "    .dataframe tbody tr th:only-of-type {\n",
       "        vertical-align: middle;\n",
       "    }\n",
       "\n",
       "    .dataframe tbody tr th {\n",
       "        vertical-align: top;\n",
       "    }\n",
       "\n",
       "    .dataframe thead th {\n",
       "        text-align: right;\n",
       "    }\n",
       "</style>\n",
       "<table border=\"1\" class=\"dataframe\">\n",
       "  <thead>\n",
       "    <tr style=\"text-align: right;\">\n",
       "      <th></th>\n",
       "      <th>price</th>\n",
       "      <th>registration_year</th>\n",
       "      <th>power</th>\n",
       "      <th>kilometer</th>\n",
       "    </tr>\n",
       "  </thead>\n",
       "  <tbody>\n",
       "    <tr>\n",
       "      <th>price</th>\n",
       "      <td>1.000000</td>\n",
       "      <td>0.620245</td>\n",
       "      <td>0.480616</td>\n",
       "      <td>-0.330906</td>\n",
       "    </tr>\n",
       "    <tr>\n",
       "      <th>registration_year</th>\n",
       "      <td>0.620245</td>\n",
       "      <td>1.000000</td>\n",
       "      <td>0.162587</td>\n",
       "      <td>-0.334998</td>\n",
       "    </tr>\n",
       "    <tr>\n",
       "      <th>power</th>\n",
       "      <td>0.480616</td>\n",
       "      <td>0.162587</td>\n",
       "      <td>1.000000</td>\n",
       "      <td>0.133598</td>\n",
       "    </tr>\n",
       "    <tr>\n",
       "      <th>kilometer</th>\n",
       "      <td>-0.330906</td>\n",
       "      <td>-0.334998</td>\n",
       "      <td>0.133598</td>\n",
       "      <td>1.000000</td>\n",
       "    </tr>\n",
       "  </tbody>\n",
       "</table>\n",
       "</div>"
      ],
      "text/plain": [
       "                      price  registration_year     power  kilometer\n",
       "price              1.000000           0.620245  0.480616  -0.330906\n",
       "registration_year  0.620245           1.000000  0.162587  -0.334998\n",
       "power              0.480616           0.162587  1.000000   0.133598\n",
       "kilometer         -0.330906          -0.334998  0.133598   1.000000"
      ]
     },
     "execution_count": 115,
     "metadata": {},
     "output_type": "execute_result"
    }
   ],
   "source": [
    "autos.corr(method='spearman')"
   ]
  },
  {
   "cell_type": "markdown",
   "metadata": {},
   "source": [
    "**Вывод**\n",
    "\n",
    "В этом разделе мы произвели предобработку данных. Мы перевели названия столбцов в более удобочитаемый нижний и змеиный регистр, удалили неинформативные столбцы date_crawled, registration_month, date_created, last_seen и number_of_pictures, заполнили пропуски в столбцах VehicleType, FuelType, Gearbox, Model, NotRepaired, избавились от аномалий. Удалили дубликаты и \n",
    "отфильтровали выбросы в столбцах price, registration_year, power 0.1% квантилем сверху и снизу."
   ]
  },
  {
   "cell_type": "markdown",
   "metadata": {},
   "source": [
    "## Обучение моделей"
   ]
  },
  {
   "cell_type": "code",
   "execution_count": 116,
   "metadata": {},
   "outputs": [],
   "source": [
    "# Замена категориальных переменных на числовые\n",
    "autos['vehicle_type'] = autos['vehicle_type'].astype('category').cat.codes\n",
    "autos['gearbox'] = autos['gearbox'].astype('category').cat.codes\n",
    "autos['model'] = autos['model'].astype('category').cat.codes\n",
    "autos['fuel_type'] = autos['fuel_type'].astype('category').cat.codes\n",
    "autos['brand'] = autos['brand'].astype('category').cat.codes\n",
    "autos['repaired'] = autos['repaired'].astype('category').cat.codes\n",
    "\n",
    "# Разделение данных на признаки и целевую переменную\n",
    "X = autos.drop('price', axis=1)\n",
    "y = autos['price']\n",
    "\n",
    "# Разделение на тренировочный, тестовый и валидационный наборы данных\n",
    "X_train, X_test, y_train, y_test = train_test_split(X, y, test_size=0.2, random_state=42)\n",
    "X_train, X_val, y_train, y_val = train_test_split(X_train, y_train, test_size=0.2, random_state=42)"
   ]
  },
  {
   "cell_type": "code",
   "execution_count": 117,
   "metadata": {},
   "outputs": [
    {
     "name": "stderr",
     "output_type": "stream",
     "text": [
      "/opt/conda/lib/python3.9/site-packages/lightgbm/engine.py:181: UserWarning: 'early_stopping_rounds' argument is deprecated and will be removed in a future release of LightGBM. Pass 'early_stopping()' callback via 'callbacks' argument instead.\n",
      "  _log_warning(\"'early_stopping_rounds' argument is deprecated and will be removed in a future release of LightGBM. \"\n",
      "/opt/conda/lib/python3.9/site-packages/lightgbm/engine.py:239: UserWarning: 'verbose_eval' argument is deprecated and will be removed in a future release of LightGBM. Pass 'log_evaluation()' callback via 'callbacks' argument instead.\n",
      "  _log_warning(\"'verbose_eval' argument is deprecated and will be removed in a future release of LightGBM. \"\n"
     ]
    },
    {
     "name": "stdout",
     "output_type": "stream",
     "text": [
      "[LightGBM] [Warning] Auto-choosing row-wise multi-threading, the overhead of testing was 0.094202 seconds.\n",
      "You can set `force_row_wise=true` to remove the overhead.\n",
      "And if memory is not enough, you can set `force_col_wise=true`.\n",
      "Training until validation scores don't improve for 50 rounds\n",
      "[100]\ttraining's rmse: 1718.88\tvalid_1's rmse: 1732.34\n",
      "[200]\ttraining's rmse: 1644.62\tvalid_1's rmse: 1682.81\n",
      "[300]\ttraining's rmse: 1602.33\tvalid_1's rmse: 1662.59\n",
      "[400]\ttraining's rmse: 1567.22\tvalid_1's rmse: 1649.4\n",
      "[500]\ttraining's rmse: 1539.8\tvalid_1's rmse: 1639.58\n",
      "[600]\ttraining's rmse: 1519.41\tvalid_1's rmse: 1634.46\n",
      "[700]\ttraining's rmse: 1500.2\tvalid_1's rmse: 1630.71\n",
      "[800]\ttraining's rmse: 1483.45\tvalid_1's rmse: 1626.6\n",
      "[900]\ttraining's rmse: 1467.33\tvalid_1's rmse: 1622.33\n",
      "[1000]\ttraining's rmse: 1454.28\tvalid_1's rmse: 1621.07\n",
      "Did not meet early stopping. Best iteration is:\n",
      "[1000]\ttraining's rmse: 1454.28\tvalid_1's rmse: 1621.07\n",
      "Время обучения LightGBM: 98.77664685249329 секунд\n",
      "Время предсказания LightGBM: 4.2915098667144775 секунд\n",
      "RMSE LightGBM на валидационной выборке: 1621.07\n"
     ]
    }
   ],
   "source": [
    "# Обучение модели LightGBM\n",
    "start_time = time.time()\n",
    "\n",
    "params = {\n",
    "    'boosting_type': 'gbdt',\n",
    "    'objective': 'regression',\n",
    "    'metric': 'rmse',\n",
    "    'num_leaves': 31,\n",
    "    'learning_rate': 0.1,\n",
    "    'feature_fraction': 0.9,\n",
    "    'bagging_fraction': 0.8,\n",
    "    'bagging_freq': 5,\n",
    "    'verbose': 0,\n",
    "    'n_jobs': -1\n",
    "}\n",
    "\n",
    "lgb_train = lgb.Dataset(X_train, y_train)\n",
    "lgb_val = lgb.Dataset(X_val, y_val)\n",
    "\n",
    "model_lgb = lgb.train(params,\n",
    "                      lgb_train,\n",
    "                      num_boost_round=1000,\n",
    "                      valid_sets=[lgb_train, lgb_val],\n",
    "                      early_stopping_rounds=50,\n",
    "                      verbose_eval=100)\n",
    "\n",
    "end_time = time.time()\n",
    "training_time_lgb = end_time - start_time\n",
    "\n",
    "# Время обучения модели LightGBM\n",
    "print(\"Время обучения LightGBM: %s секунд\" % training_time_lgb)\n",
    "\n",
    "# Время предсказания модели LightGBM\n",
    "start_time = time.time()\n",
    "y_pred_lgb = model_lgb.predict(X_val)\n",
    "end_time = time.time()\n",
    "prediction_time_lgb = end_time - start_time\n",
    "print(\"Время предсказания LightGBM: %s секунд\" % prediction_time_lgb)\n",
    "\n",
    "# Оценка качества модели LightGBM на валидационной выборке\n",
    "rmse_lgb = mean_squared_error(y_val, model_lgb.predict(X_val), squared=False)\n",
    "print(\"RMSE LightGBM на валидационной выборке: %.2f\" % rmse_lgb)"
   ]
  },
  {
   "cell_type": "code",
   "execution_count": 118,
   "metadata": {},
   "outputs": [
    {
     "name": "stdout",
     "output_type": "stream",
     "text": [
      "0:\tlearn: 4312.5401731\ttest: 4285.4415191\tbest: 4285.4415191 (0)\ttotal: 80.9ms\tremaining: 1m 20s\n",
      "100:\tlearn: 1844.9117803\ttest: 1842.7204583\tbest: 1842.7204583 (100)\ttotal: 2.62s\tremaining: 23.3s\n",
      "200:\tlearn: 1753.9642927\ttest: 1758.3809144\tbest: 1758.3809144 (200)\ttotal: 5.28s\tremaining: 21s\n",
      "300:\tlearn: 1707.3852143\ttest: 1721.0577233\tbest: 1721.0577233 (300)\ttotal: 7.92s\tremaining: 18.4s\n",
      "400:\tlearn: 1677.0643047\ttest: 1700.4321267\tbest: 1700.4321267 (400)\ttotal: 10.6s\tremaining: 15.8s\n",
      "500:\tlearn: 1652.8958875\ttest: 1685.4003245\tbest: 1685.4003245 (500)\ttotal: 13.1s\tremaining: 13.1s\n",
      "600:\tlearn: 1632.7484331\ttest: 1674.3925630\tbest: 1674.3925630 (600)\ttotal: 15.7s\tremaining: 10.4s\n",
      "700:\tlearn: 1615.9994016\ttest: 1665.0517043\tbest: 1665.0517043 (700)\ttotal: 18.3s\tremaining: 7.8s\n",
      "800:\tlearn: 1601.3569447\ttest: 1657.7518996\tbest: 1657.7518996 (800)\ttotal: 20.7s\tremaining: 5.15s\n",
      "900:\tlearn: 1588.4555595\ttest: 1651.8629971\tbest: 1651.8629971 (900)\ttotal: 23.3s\tremaining: 2.56s\n",
      "999:\tlearn: 1577.1649081\ttest: 1647.0092694\tbest: 1647.0092694 (999)\ttotal: 25.9s\tremaining: 0us\n",
      "\n",
      "bestTest = 1647.009269\n",
      "bestIteration = 999\n",
      "\n",
      "Время обучения CatBoostRegressor: 27.38135838508606 секунд\n",
      "Время предсказания CatBoostRegressor: 0.05954408645629883 секунд\n",
      "RMSE CatBoostRegressor на валидационной выборке: 1647.01\n"
     ]
    }
   ],
   "source": [
    "# Обучение модели CatBoostRegressor\n",
    "start_time = time.time()\n",
    "\n",
    "model_catboost = CatBoostRegressor(iterations=1000,\n",
    "                                   learning_rate=0.1,\n",
    "                                   depth=6,\n",
    "                                   loss_function='RMSE',\n",
    "                                   random_state=42)\n",
    "\n",
    "model_catboost.fit(X_train, y_train, eval_set=(X_val, y_val), verbose=100, early_stopping_rounds=50)\n",
    "\n",
    "end_time = time.time()\n",
    "training_time_catboost = end_time - start_time\n",
    "\n",
    "# Время обучения модели CatBoostRegressor\n",
    "print(\"Время обучения CatBoostRegressor: %s секунд\" % training_time_catboost)\n",
    "\n",
    "# Время предсказания модели CatBoostRegressor\n",
    "start_time = time.time()\n",
    "y_pred_catboost = model_catboost.predict(X_test)\n",
    "end_time = time.time()\n",
    "prediction_time_catboost = end_time - start_time\n",
    "print(\"Время предсказания CatBoostRegressor: %s секунд\" % prediction_time_catboost)\n",
    "\n",
    "# Оценка качества модели CatBoostRegressor на валидационной выборке\n",
    "rmse_catboost = mean_squared_error(y_val, model_catboost.predict(X_val), squared=False)\n",
    "print(\"RMSE CatBoostRegressor на валидационной выборке: %.2f\" % rmse_catboost)"
   ]
  },
  {
   "cell_type": "code",
   "execution_count": 119,
   "metadata": {},
   "outputs": [
    {
     "name": "stdout",
     "output_type": "stream",
     "text": [
      "[0]\tvalidation_0-rmse:5987.43408\n",
      "[100]\tvalidation_0-rmse:1616.03711\n",
      "[200]\tvalidation_0-rmse:1604.75293\n",
      "[300]\tvalidation_0-rmse:1605.68384\n",
      "[309]\tvalidation_0-rmse:1605.85339\n",
      "Время обучения XGBRegressor: 308.6603751182556 секунд\n",
      "Время предсказания XGBRegressor: 1.0791442394256592 секунд\n",
      "RMSE XGBRegressor на валидационной выборке: 1603.64\n"
     ]
    }
   ],
   "source": [
    "start_time = time.time()\n",
    "\n",
    "model_xgb = XGBRegressor(n_estimators=1000,\n",
    "                         learning_rate=0.1,\n",
    "                         max_depth=10,\n",
    "                         random_state=12345,\n",
    "                         subsample=0.8,\n",
    "                         colsample_bytree=0.8)\n",
    "\n",
    "model_xgb.fit(X_train, y_train, eval_set=[(X_val, y_val)], early_stopping_rounds=50, verbose=100)\n",
    "\n",
    "end_time = time.time()\n",
    "training_time_xgb = end_time - start_time\n",
    "\n",
    "# Время обучения модели XGBRegressor\n",
    "print(\"Время обучения XGBRegressor: %s секунд\" % training_time_xgb)\n",
    "\n",
    "# Время предсказания модели XGBRegressor\n",
    "start_time = time.time()\n",
    "y_pred_xgb = model_xgb.predict(X_test)\n",
    "end_time = time.time()\n",
    "prediction_time_xgb = end_time - start_time\n",
    "print(\"Время предсказания XGBRegressor: %s секунд\" % prediction_time_xgb)\n",
    "\n",
    "# Оценка качества модели XGBRegressor на валидационной выборке\n",
    "rmse_xgb = mean_squared_error(y_val, model_xgb.predict(X_val), squared=False)\n",
    "print(\"RMSE XGBRegressor на валидационной выборке: %.2f\" % rmse_xgb)"
   ]
  },
  {
   "cell_type": "code",
   "execution_count": 144,
   "metadata": {},
   "outputs": [],
   "source": [
    "# Заполнение пропущенных значений средними значениями для числовых признаков\n",
    "X_train = X_train.fillna(X_train.mean())\n",
    "X_val = X_val.fillna(X_val.mean())\n",
    "X_test = X_test.fillna(X_test.mean())\n",
    "\n",
    "# Заполнение пропущенных значений наиболее часто встречающимися значениями для категориальных признаков\n",
    "X_train = X_train.fillna(X_train.mode().iloc[0])\n",
    "X_val = X_val.fillna(X_val.mode().iloc[0])\n",
    "X_test = X_test.fillna(X_test.mode().iloc[0])"
   ]
  },
  {
   "cell_type": "code",
   "execution_count": 145,
   "metadata": {
    "scrolled": true
   },
   "outputs": [
    {
     "name": "stdout",
     "output_type": "stream",
     "text": [
      "Лучшие гиперпараметры модели LinearRegression:  {'copy_X': True, 'fit_intercept': True, 'n_jobs': 1, 'normalize': False}\n",
      "RMSE LinearRegression на валидационной выборке: 3023.18\n"
     ]
    }
   ],
   "source": [
    "start_time = time.time()\n",
    "\n",
    "# Создаем объект модели линейной регрессии\n",
    "model_lr = LinearRegression()\n",
    "\n",
    "# Задаем сетку гиперпараметров для подбора\n",
    "param_grid = {\n",
    "    'fit_intercept': [True, False],\n",
    "    'normalize': [True, False],\n",
    "    'copy_X': [True, False],\n",
    "    'n_jobs': [1, -1]\n",
    "}\n",
    "\n",
    "# Создаем объект GridSearchCV для подбора гиперпараметров\n",
    "grid_cv = GridSearchCV(estimator=model_lr, param_grid=param_grid, cv=3, scoring='neg_mean_squared_error')\n",
    "\n",
    "# Обучаем модель с подбором гиперпараметров\n",
    "grid_cv.fit(X_train, y_train)\n",
    "\n",
    "# Получаем лучшие гиперпараметры\n",
    "best_params = grid_cv.best_params_\n",
    "\n",
    "# Создаем новую модель с лучшими гиперпараметрами\n",
    "best_model_lr = LinearRegression(**best_params)\n",
    "\n",
    "# Обучаем модель на всем обучающем наборе данных\n",
    "best_model_lr.fit(X_train, y_train)\n",
    "\n",
    "end_time = time.time()\n",
    "training_time_lr = end_time - start_time\n",
    "\n",
    "# Предсказание цен на валидационной выборке\n",
    "val_predictions_lr = best_model_lr.predict(X_val)\n",
    "\n",
    "end_time = time.time()\n",
    "prediction_time_lr = end_time - start_time\n",
    "\n",
    "# Вычисление RMSE на валидационной выборке\n",
    "rmse_lr = np.sqrt(mean_squared_error(y_val, val_predictions_lr))\n",
    "\n",
    "print(\"Лучшие гиперпараметры модели LinearRegression: \", best_params)\n",
    "print(\"RMSE LinearRegression на валидационной выборке: %.2f\" % rmse_lr)"
   ]
  },
  {
   "cell_type": "markdown",
   "metadata": {},
   "source": [
    "**Вывод:**\n",
    "\n",
    "В разделе Обучение моделей были выполнены следующие задачи:\n",
    "Разделение на тренировочный, тестовый и валидационный наборы данных\n",
    "Обучение моделей Linear Regression, LightGBM, CatBoostRegressor, XGBRegressor\n",
    "Оценка качества модели, Определение время обучения и предсказание обучения"
   ]
  },
  {
   "cell_type": "markdown",
   "metadata": {},
   "source": [
    "## Анализ моделей"
   ]
  },
  {
   "cell_type": "code",
   "execution_count": 146,
   "metadata": {},
   "outputs": [
    {
     "data": {
      "text/html": [
       "<div>\n",
       "<style scoped>\n",
       "    .dataframe tbody tr th:only-of-type {\n",
       "        vertical-align: middle;\n",
       "    }\n",
       "\n",
       "    .dataframe tbody tr th {\n",
       "        vertical-align: top;\n",
       "    }\n",
       "\n",
       "    .dataframe thead th {\n",
       "        text-align: right;\n",
       "    }\n",
       "</style>\n",
       "<table border=\"1\" class=\"dataframe\">\n",
       "  <thead>\n",
       "    <tr style=\"text-align: right;\">\n",
       "      <th></th>\n",
       "      <th>Model</th>\n",
       "      <th>Training Time (sec)</th>\n",
       "      <th>Prediction Time (sec)</th>\n",
       "      <th>RMSE (Validation)</th>\n",
       "    </tr>\n",
       "  </thead>\n",
       "  <tbody>\n",
       "    <tr>\n",
       "      <th>0</th>\n",
       "      <td>Linear Regression</td>\n",
       "      <td>9.928910</td>\n",
       "      <td>9.932817</td>\n",
       "      <td>3023.182070</td>\n",
       "    </tr>\n",
       "    <tr>\n",
       "      <th>1</th>\n",
       "      <td>LightGBM</td>\n",
       "      <td>98.776647</td>\n",
       "      <td>4.291510</td>\n",
       "      <td>1621.072866</td>\n",
       "    </tr>\n",
       "    <tr>\n",
       "      <th>2</th>\n",
       "      <td>CatBoostRegressor</td>\n",
       "      <td>27.381358</td>\n",
       "      <td>0.059544</td>\n",
       "      <td>1647.009269</td>\n",
       "    </tr>\n",
       "    <tr>\n",
       "      <th>3</th>\n",
       "      <td>XGBRegressor</td>\n",
       "      <td>308.660375</td>\n",
       "      <td>1.079144</td>\n",
       "      <td>1603.636925</td>\n",
       "    </tr>\n",
       "  </tbody>\n",
       "</table>\n",
       "</div>"
      ],
      "text/plain": [
       "               Model  Training Time (sec)  Prediction Time (sec)  \\\n",
       "0  Linear Regression             9.928910               9.932817   \n",
       "1           LightGBM            98.776647               4.291510   \n",
       "2  CatBoostRegressor            27.381358               0.059544   \n",
       "3       XGBRegressor           308.660375               1.079144   \n",
       "\n",
       "   RMSE (Validation)  \n",
       "0        3023.182070  \n",
       "1        1621.072866  \n",
       "2        1647.009269  \n",
       "3        1603.636925  "
      ]
     },
     "execution_count": 146,
     "metadata": {},
     "output_type": "execute_result"
    }
   ],
   "source": [
    "# Создание таблички с результатами\n",
    "results = pd.DataFrame({'Model': ['Linear Regression', 'LightGBM', 'CatBoostRegressor', 'XGBRegressor'],\n",
    "                        'Training Time (sec)': [training_time_lr, training_time_lgb, training_time_catboost, training_time_xgb],\n",
    "                        'Prediction Time (sec)': [prediction_time_lr, prediction_time_lgb, prediction_time_catboost, prediction_time_xgb],\n",
    "                        'RMSE (Validation)': [rmse_lr, rmse_lgb, rmse_catboost, rmse_xgb]})\n",
    "\n",
    "# Вывод результатов\n",
    "results"
   ]
  },
  {
   "cell_type": "code",
   "execution_count": 149,
   "metadata": {},
   "outputs": [
    {
     "name": "stdout",
     "output_type": "stream",
     "text": [
      "RMSE XGBRegressor на тестовой выборке: 1603.64\n"
     ]
    }
   ],
   "source": [
    "# Оценка качества модели XGBRegressor на тестовой выборке\n",
    "rmse_test = mean_squared_error(y_val, model_xgb.predict(X_test), squared=False)\n",
    "print(\"RMSE XGBRegressor на тестовой выборке: %.2f\" % rmse_test)"
   ]
  },
  {
   "cell_type": "markdown",
   "metadata": {},
   "source": [
    "**Вывод:**\n",
    "\n",
    "В разделе Анализ моделей были выполнены следующие задачи:.\n",
    "\n",
    "Выведена таблица сравнения метрик для сравнения моделей;\n",
    "Проанализированы время обучения, время предсказания и качество моделей;\n",
    "Выбрана лучшая модель, и проверено её качество на тестовой выборке.\n",
    "\n",
    "Лучшая модель градиентного бустинга XGBRegressor тестовой выборке имеет значение метрики оценки качества RMSE =  1603.64"
   ]
  }
 ],
 "metadata": {
  "ExecuteTimeLog": [
   {
    "duration": 1768,
    "start_time": "2024-09-21T17:38:19.271Z"
   },
   {
    "duration": 96,
    "start_time": "2024-09-21T17:42:31.679Z"
   },
   {
    "duration": 4,
    "start_time": "2024-09-21T17:42:42.650Z"
   },
   {
    "duration": 3117,
    "start_time": "2024-09-21T17:42:48.319Z"
   },
   {
    "duration": 3,
    "start_time": "2024-09-21T17:43:00.298Z"
   },
   {
    "duration": 386,
    "start_time": "2024-09-21T17:43:17.759Z"
   },
   {
    "duration": 513,
    "start_time": "2024-09-21T17:43:30.235Z"
   },
   {
    "duration": 1018,
    "start_time": "2024-09-21T17:43:32.287Z"
   },
   {
    "duration": 97,
    "start_time": "2024-09-21T17:43:34.829Z"
   },
   {
    "duration": 4,
    "start_time": "2024-09-21T17:43:59.998Z"
   },
   {
    "duration": 3,
    "start_time": "2024-09-21T17:44:04.331Z"
   },
   {
    "duration": 467,
    "start_time": "2024-09-21T17:44:09.179Z"
   },
   {
    "duration": 989,
    "start_time": "2024-09-21T17:44:10.313Z"
   },
   {
    "duration": 91,
    "start_time": "2024-09-21T17:44:12.103Z"
   },
   {
    "duration": 19,
    "start_time": "2024-09-21T17:44:42.674Z"
   },
   {
    "duration": 6,
    "start_time": "2024-09-21T17:47:24.785Z"
   },
   {
    "duration": 14,
    "start_time": "2024-09-21T17:48:41.319Z"
   },
   {
    "duration": 1043,
    "start_time": "2024-09-21T17:49:49.453Z"
   },
   {
    "duration": 10,
    "start_time": "2024-09-21T17:50:21.713Z"
   },
   {
    "duration": 4,
    "start_time": "2024-09-21T17:51:20.337Z"
   },
   {
    "duration": 1063,
    "start_time": "2024-09-21T17:51:24.767Z"
   },
   {
    "duration": 4,
    "start_time": "2024-09-21T17:51:30.082Z"
   },
   {
    "duration": 13,
    "start_time": "2024-09-21T17:51:33.351Z"
   },
   {
    "duration": 3,
    "start_time": "2024-09-21T17:51:44.390Z"
   },
   {
    "duration": 324,
    "start_time": "2024-09-21T17:51:47.676Z"
   },
   {
    "duration": 384,
    "start_time": "2024-09-21T17:51:53.559Z"
   },
   {
    "duration": 891,
    "start_time": "2024-09-21T17:51:54.787Z"
   },
   {
    "duration": 93,
    "start_time": "2024-09-21T17:51:56.081Z"
   },
   {
    "duration": 30,
    "start_time": "2024-09-21T17:52:06.960Z"
   },
   {
    "duration": 96,
    "start_time": "2024-09-21T17:52:22.628Z"
   },
   {
    "duration": 63,
    "start_time": "2024-09-21T17:58:37.672Z"
   },
   {
    "duration": 10,
    "start_time": "2024-09-21T18:00:18.002Z"
   },
   {
    "duration": 89,
    "start_time": "2024-09-21T18:00:40.486Z"
   },
   {
    "duration": 97,
    "start_time": "2024-09-21T18:00:44.117Z"
   },
   {
    "duration": 55,
    "start_time": "2024-09-21T18:00:48.368Z"
   },
   {
    "duration": 71,
    "start_time": "2024-09-21T18:00:56.523Z"
   },
   {
    "duration": 4,
    "start_time": "2024-09-21T18:01:10.671Z"
   },
   {
    "duration": 64,
    "start_time": "2024-09-21T18:01:24.359Z"
   },
   {
    "duration": 32,
    "start_time": "2024-09-21T18:01:29.915Z"
   },
   {
    "duration": 200,
    "start_time": "2024-09-21T18:05:06.295Z"
   },
   {
    "duration": 50,
    "start_time": "2024-09-21T18:05:07.652Z"
   },
   {
    "duration": 4,
    "start_time": "2024-09-21T18:06:21.504Z"
   },
   {
    "duration": 182,
    "start_time": "2024-09-21T18:06:22.055Z"
   },
   {
    "duration": 50,
    "start_time": "2024-09-21T18:06:22.964Z"
   },
   {
    "duration": 4,
    "start_time": "2024-09-21T18:06:54.381Z"
   },
   {
    "duration": 823,
    "start_time": "2024-09-21T18:06:55.335Z"
   },
   {
    "duration": 175,
    "start_time": "2024-09-21T18:06:56.159Z"
   },
   {
    "duration": 3,
    "start_time": "2024-09-21T18:06:56.356Z"
   },
   {
    "duration": 12,
    "start_time": "2024-09-21T18:07:04.282Z"
   },
   {
    "duration": 4,
    "start_time": "2024-09-21T18:07:05.098Z"
   },
   {
    "duration": 303,
    "start_time": "2024-09-21T18:07:06.004Z"
   },
   {
    "duration": 385,
    "start_time": "2024-09-21T18:07:07.075Z"
   },
   {
    "duration": 852,
    "start_time": "2024-09-21T18:07:07.892Z"
   },
   {
    "duration": 86,
    "start_time": "2024-09-21T18:07:08.980Z"
   },
   {
    "duration": 31,
    "start_time": "2024-09-21T18:07:11.403Z"
   },
   {
    "duration": 95,
    "start_time": "2024-09-21T18:07:14.716Z"
   },
   {
    "duration": 58,
    "start_time": "2024-09-21T18:07:15.962Z"
   },
   {
    "duration": 101,
    "start_time": "2024-09-21T18:07:16.791Z"
   },
   {
    "duration": 105,
    "start_time": "2024-09-21T18:07:17.726Z"
   },
   {
    "duration": 56,
    "start_time": "2024-09-21T18:07:18.761Z"
   },
   {
    "duration": 56,
    "start_time": "2024-09-21T18:07:27.744Z"
   },
   {
    "duration": 4,
    "start_time": "2024-09-21T18:07:31.945Z"
   },
   {
    "duration": 185,
    "start_time": "2024-09-21T18:07:33.711Z"
   },
   {
    "duration": 62,
    "start_time": "2024-09-21T18:07:34.718Z"
   },
   {
    "duration": 28,
    "start_time": "2024-09-21T18:07:38.520Z"
   },
   {
    "duration": 11,
    "start_time": "2024-09-21T18:08:21.070Z"
   },
   {
    "duration": 5,
    "start_time": "2024-09-21T18:08:33.034Z"
   },
   {
    "duration": 181,
    "start_time": "2024-09-21T18:14:10.731Z"
   },
   {
    "duration": 11,
    "start_time": "2024-09-21T18:14:26.449Z"
   },
   {
    "duration": 4,
    "start_time": "2024-09-21T18:14:38.660Z"
   },
   {
    "duration": 71318,
    "start_time": "2024-09-21T18:14:45.919Z"
   },
   {
    "duration": 28221,
    "start_time": "2024-09-21T18:16:22.467Z"
   },
   {
    "duration": 307499,
    "start_time": "2024-09-21T18:17:06.047Z"
   },
   {
    "duration": 52,
    "start_time": "2024-09-21T18:22:51.861Z"
   },
   {
    "duration": 9864,
    "start_time": "2024-09-21T18:23:03.157Z"
   },
   {
    "duration": 11,
    "start_time": "2024-09-21T18:23:29.987Z"
   },
   {
    "duration": 10,
    "start_time": "2024-09-21T18:24:12.343Z"
   },
   {
    "duration": 1295,
    "start_time": "2024-09-21T18:24:17.255Z"
   },
   {
    "duration": 1927,
    "start_time": "2024-09-21T18:42:01.115Z"
   },
   {
    "duration": 1163,
    "start_time": "2024-09-21T18:42:03.044Z"
   },
   {
    "duration": 170,
    "start_time": "2024-09-21T18:42:04.209Z"
   },
   {
    "duration": 4,
    "start_time": "2024-09-21T18:42:04.381Z"
   },
   {
    "duration": 29,
    "start_time": "2024-09-21T18:42:04.387Z"
   },
   {
    "duration": 23,
    "start_time": "2024-09-21T18:42:04.418Z"
   },
   {
    "duration": 317,
    "start_time": "2024-09-21T18:42:04.443Z"
   },
   {
    "duration": 467,
    "start_time": "2024-09-21T18:42:04.762Z"
   },
   {
    "duration": 937,
    "start_time": "2024-09-21T18:42:05.230Z"
   },
   {
    "duration": 108,
    "start_time": "2024-09-21T18:42:06.169Z"
   },
   {
    "duration": 51,
    "start_time": "2024-09-21T18:42:06.279Z"
   },
   {
    "duration": 99,
    "start_time": "2024-09-21T18:42:06.332Z"
   },
   {
    "duration": 69,
    "start_time": "2024-09-21T18:42:06.432Z"
   },
   {
    "duration": 94,
    "start_time": "2024-09-21T18:42:06.504Z"
   },
   {
    "duration": 104,
    "start_time": "2024-09-21T18:42:06.599Z"
   },
   {
    "duration": 74,
    "start_time": "2024-09-21T18:42:06.704Z"
   },
   {
    "duration": 4,
    "start_time": "2024-09-21T18:42:06.780Z"
   },
   {
    "duration": 246,
    "start_time": "2024-09-21T18:42:06.785Z"
   },
   {
    "duration": 50,
    "start_time": "2024-09-21T18:42:07.033Z"
   },
   {
    "duration": 6,
    "start_time": "2024-09-21T18:42:07.085Z"
   },
   {
    "duration": 45,
    "start_time": "2024-09-21T18:42:07.092Z"
   },
   {
    "duration": 230,
    "start_time": "2024-09-21T18:42:07.139Z"
   },
   {
    "duration": 117,
    "start_time": "2024-09-23T14:25:14.440Z"
   },
   {
    "duration": 1808,
    "start_time": "2024-09-23T15:31:08.054Z"
   },
   {
    "duration": 3128,
    "start_time": "2024-09-23T15:31:11.295Z"
   },
   {
    "duration": 182,
    "start_time": "2024-09-23T15:31:14.652Z"
   },
   {
    "duration": 4,
    "start_time": "2024-09-23T15:31:20.238Z"
   },
   {
    "duration": 15,
    "start_time": "2024-09-23T15:55:51.672Z"
   },
   {
    "duration": 4,
    "start_time": "2024-09-23T15:55:58.318Z"
   },
   {
    "duration": 538,
    "start_time": "2024-09-23T15:56:03.962Z"
   },
   {
    "duration": 1078,
    "start_time": "2024-09-23T15:56:04.755Z"
   },
   {
    "duration": 98,
    "start_time": "2024-09-23T15:56:09.580Z"
   },
   {
    "duration": 48,
    "start_time": "2024-09-23T15:56:15.134Z"
   },
   {
    "duration": 228,
    "start_time": "2024-09-23T15:56:39.257Z"
   },
   {
    "duration": 372,
    "start_time": "2024-09-23T15:57:25.621Z"
   },
   {
    "duration": 89,
    "start_time": "2024-09-23T15:57:29.509Z"
   },
   {
    "duration": 66,
    "start_time": "2024-09-23T15:57:33.058Z"
   },
   {
    "duration": 35,
    "start_time": "2024-09-23T15:57:37.150Z"
   },
   {
    "duration": 34,
    "start_time": "2024-09-23T15:57:44.822Z"
   },
   {
    "duration": 21,
    "start_time": "2024-09-23T15:58:07.651Z"
   },
   {
    "duration": 22,
    "start_time": "2024-09-23T15:58:08.668Z"
   },
   {
    "duration": 102,
    "start_time": "2024-09-23T15:58:15.037Z"
   },
   {
    "duration": 218,
    "start_time": "2024-09-23T15:58:32.431Z"
   },
   {
    "duration": 54,
    "start_time": "2024-09-23T15:58:37.069Z"
   },
   {
    "duration": 6,
    "start_time": "2024-09-23T15:58:45.883Z"
   },
   {
    "duration": 899,
    "start_time": "2024-09-23T16:01:23.394Z"
   },
   {
    "duration": 162,
    "start_time": "2024-09-23T16:01:46.933Z"
   },
   {
    "duration": 93,
    "start_time": "2024-09-23T16:02:10.138Z"
   },
   {
    "duration": 126,
    "start_time": "2024-09-23T16:05:20.728Z"
   },
   {
    "duration": 359,
    "start_time": "2024-09-23T16:05:26.160Z"
   },
   {
    "duration": 30,
    "start_time": "2024-09-23T16:07:29.553Z"
   },
   {
    "duration": 40,
    "start_time": "2024-09-23T16:07:38.486Z"
   },
   {
    "duration": 329,
    "start_time": "2024-09-23T16:07:56.436Z"
   },
   {
    "duration": 31,
    "start_time": "2024-09-23T16:10:05.155Z"
   },
   {
    "duration": 5,
    "start_time": "2024-09-23T16:10:10.449Z"
   },
   {
    "duration": 15,
    "start_time": "2024-09-23T16:10:13.713Z"
   },
   {
    "duration": 6,
    "start_time": "2024-09-23T16:10:18.049Z"
   },
   {
    "duration": 481,
    "start_time": "2024-09-23T16:10:23.512Z"
   },
   {
    "duration": 895,
    "start_time": "2024-09-23T16:10:24.122Z"
   },
   {
    "duration": 90,
    "start_time": "2024-09-23T16:19:50.689Z"
   },
   {
    "duration": 34,
    "start_time": "2024-09-23T16:20:37.243Z"
   },
   {
    "duration": 174,
    "start_time": "2024-09-23T16:20:43.015Z"
   },
   {
    "duration": 356,
    "start_time": "2024-09-23T16:20:44.061Z"
   },
   {
    "duration": 88,
    "start_time": "2024-09-23T16:20:48.214Z"
   },
   {
    "duration": 57,
    "start_time": "2024-09-23T16:20:51.651Z"
   },
   {
    "duration": 35,
    "start_time": "2024-09-23T16:20:54.875Z"
   },
   {
    "duration": 36,
    "start_time": "2024-09-23T16:20:58.276Z"
   },
   {
    "duration": 21,
    "start_time": "2024-09-23T16:21:02.922Z"
   },
   {
    "duration": 22,
    "start_time": "2024-09-23T16:21:03.634Z"
   },
   {
    "duration": 98,
    "start_time": "2024-09-23T16:21:07.460Z"
   },
   {
    "duration": 156,
    "start_time": "2024-09-23T16:21:10.593Z"
   },
   {
    "duration": 53,
    "start_time": "2024-09-23T16:21:13.556Z"
   },
   {
    "duration": 7,
    "start_time": "2024-09-23T16:21:18.308Z"
   },
   {
    "duration": 9,
    "start_time": "2024-09-23T16:21:40.207Z"
   },
   {
    "duration": 28,
    "start_time": "2024-09-23T16:22:01.339Z"
   },
   {
    "duration": 7,
    "start_time": "2024-09-23T16:22:05.797Z"
   },
   {
    "duration": 4,
    "start_time": "2024-09-23T16:23:23.775Z"
   },
   {
    "duration": 9,
    "start_time": "2024-09-23T16:23:37.498Z"
   },
   {
    "duration": 10,
    "start_time": "2024-09-23T16:23:43.127Z"
   },
   {
    "duration": 26,
    "start_time": "2024-09-23T16:23:56.534Z"
   },
   {
    "duration": 8,
    "start_time": "2024-09-23T16:24:06.531Z"
   },
   {
    "duration": 67,
    "start_time": "2024-09-23T16:24:11.188Z"
   },
   {
    "duration": 162,
    "start_time": "2024-09-23T16:27:08.768Z"
   },
   {
    "duration": 12,
    "start_time": "2024-09-23T16:41:24.556Z"
   },
   {
    "duration": 329,
    "start_time": "2024-09-23T16:43:33.613Z"
   },
   {
    "duration": 468,
    "start_time": "2024-09-23T16:44:30.214Z"
   },
   {
    "duration": 461,
    "start_time": "2024-09-23T16:45:11.349Z"
   },
   {
    "duration": 386,
    "start_time": "2024-09-23T16:45:21.318Z"
   },
   {
    "duration": 407,
    "start_time": "2024-09-23T16:45:31.833Z"
   },
   {
    "duration": 372,
    "start_time": "2024-09-23T16:45:48.278Z"
   },
   {
    "duration": 22,
    "start_time": "2024-09-23T16:51:46.791Z"
   },
   {
    "duration": 9,
    "start_time": "2024-09-23T16:52:01.835Z"
   },
   {
    "duration": 11,
    "start_time": "2024-09-23T16:57:51.078Z"
   },
   {
    "duration": 8,
    "start_time": "2024-09-23T16:58:00.080Z"
   },
   {
    "duration": 13,
    "start_time": "2024-09-23T16:58:29.861Z"
   },
   {
    "duration": 61,
    "start_time": "2024-09-23T17:00:39.884Z"
   },
   {
    "duration": 34,
    "start_time": "2024-09-23T17:01:02.482Z"
   },
   {
    "duration": 876,
    "start_time": "2024-09-23T17:01:17.229Z"
   },
   {
    "duration": 175,
    "start_time": "2024-09-23T17:01:18.364Z"
   },
   {
    "duration": 320,
    "start_time": "2024-09-23T17:01:18.951Z"
   },
   {
    "duration": 31,
    "start_time": "2024-09-23T17:01:19.726Z"
   },
   {
    "duration": 3,
    "start_time": "2024-09-23T17:01:21.616Z"
   },
   {
    "duration": 13,
    "start_time": "2024-09-23T17:01:23.371Z"
   },
   {
    "duration": 3,
    "start_time": "2024-09-23T17:01:24.036Z"
   },
   {
    "duration": 303,
    "start_time": "2024-09-23T17:01:24.673Z"
   },
   {
    "duration": 413,
    "start_time": "2024-09-23T17:01:25.612Z"
   },
   {
    "duration": 858,
    "start_time": "2024-09-23T17:01:26.255Z"
   },
   {
    "duration": 85,
    "start_time": "2024-09-23T17:01:27.836Z"
   },
   {
    "duration": 32,
    "start_time": "2024-09-23T17:01:29.991Z"
   },
   {
    "duration": 213,
    "start_time": "2024-09-23T17:01:32.485Z"
   },
   {
    "duration": 345,
    "start_time": "2024-09-23T17:01:33.287Z"
   },
   {
    "duration": 81,
    "start_time": "2024-09-23T17:01:33.932Z"
   },
   {
    "duration": 56,
    "start_time": "2024-09-23T17:01:34.649Z"
   },
   {
    "duration": 2,
    "start_time": "2024-09-23T17:01:35.302Z"
   },
   {
    "duration": 35,
    "start_time": "2024-09-23T17:01:36.055Z"
   },
   {
    "duration": 34,
    "start_time": "2024-09-23T17:01:36.891Z"
   },
   {
    "duration": 21,
    "start_time": "2024-09-23T17:01:40.402Z"
   },
   {
    "duration": 21,
    "start_time": "2024-09-23T17:01:41.087Z"
   },
   {
    "duration": 88,
    "start_time": "2024-09-23T17:01:46.964Z"
   },
   {
    "duration": 139,
    "start_time": "2024-09-23T17:01:47.899Z"
   },
   {
    "duration": 60,
    "start_time": "2024-09-23T17:01:48.533Z"
   },
   {
    "duration": 6,
    "start_time": "2024-09-23T17:01:49.757Z"
   },
   {
    "duration": 21,
    "start_time": "2024-09-23T17:01:52.084Z"
   },
   {
    "duration": 6,
    "start_time": "2024-09-23T17:01:52.863Z"
   },
   {
    "duration": 6,
    "start_time": "2024-09-23T17:01:54.734Z"
   },
   {
    "duration": 150,
    "start_time": "2024-09-23T17:01:55.792Z"
   },
   {
    "duration": 352,
    "start_time": "2024-09-23T17:01:59.006Z"
   },
   {
    "duration": 7,
    "start_time": "2024-09-23T17:02:04.084Z"
   },
   {
    "duration": 22,
    "start_time": "2024-09-23T17:02:07.368Z"
   },
   {
    "duration": 7,
    "start_time": "2024-09-23T17:02:10.301Z"
   },
   {
    "duration": 67,
    "start_time": "2024-09-23T17:02:15.528Z"
   },
   {
    "duration": 10,
    "start_time": "2024-09-23T17:02:18.400Z"
   },
   {
    "duration": 54,
    "start_time": "2024-09-23T17:02:27.690Z"
   },
   {
    "duration": 8,
    "start_time": "2024-09-23T17:02:36.626Z"
   },
   {
    "duration": 20,
    "start_time": "2024-09-23T17:03:13.000Z"
   },
   {
    "duration": 9,
    "start_time": "2024-09-23T17:03:13.850Z"
   },
   {
    "duration": 130,
    "start_time": "2024-09-23T17:03:19.135Z"
   },
   {
    "duration": 182,
    "start_time": "2024-09-23T17:03:27.462Z"
   },
   {
    "duration": 107367,
    "start_time": "2024-09-23T17:03:31.180Z"
   },
   {
    "duration": 27495,
    "start_time": "2024-09-23T17:08:09.771Z"
   },
   {
    "duration": 310641,
    "start_time": "2024-09-23T17:08:54.306Z"
   },
   {
    "duration": 4,
    "start_time": "2024-09-23T17:16:58.347Z"
   },
   {
    "duration": 16,
    "start_time": "2024-09-23T17:17:30.927Z"
   },
   {
    "duration": 4204,
    "start_time": "2024-09-23T17:17:56.178Z"
   },
   {
    "duration": 20,
    "start_time": "2024-09-23T17:18:22.202Z"
   },
   {
    "duration": 17,
    "start_time": "2024-09-23T17:18:52.557Z"
   },
   {
    "duration": 5,
    "start_time": "2024-09-23T17:19:10.938Z"
   },
   {
    "duration": 18,
    "start_time": "2024-09-23T17:20:01.545Z"
   },
   {
    "duration": 6,
    "start_time": "2024-09-23T17:20:08.520Z"
   },
   {
    "duration": 18,
    "start_time": "2024-09-23T17:20:20.131Z"
   },
   {
    "duration": 6,
    "start_time": "2024-09-23T17:21:36.885Z"
   },
   {
    "duration": 4,
    "start_time": "2024-09-23T17:23:02.195Z"
   },
   {
    "duration": 3,
    "start_time": "2024-09-23T17:23:17.537Z"
   },
   {
    "duration": 10,
    "start_time": "2024-09-23T17:23:23.573Z"
   },
   {
    "duration": 4,
    "start_time": "2024-09-23T17:23:28.860Z"
   },
   {
    "duration": 14,
    "start_time": "2024-09-23T17:24:23.832Z"
   },
   {
    "duration": 5,
    "start_time": "2024-09-23T17:24:54.313Z"
   },
   {
    "duration": 11,
    "start_time": "2024-09-23T17:25:16.752Z"
   },
   {
    "duration": 5,
    "start_time": "2024-09-23T17:26:29.328Z"
   },
   {
    "duration": 5,
    "start_time": "2024-09-23T17:26:42.152Z"
   },
   {
    "duration": 17,
    "start_time": "2024-09-23T17:29:51.650Z"
   },
   {
    "duration": 5,
    "start_time": "2024-09-23T17:29:52.223Z"
   },
   {
    "duration": 5,
    "start_time": "2024-09-23T17:30:02.534Z"
   },
   {
    "duration": 15,
    "start_time": "2024-09-23T17:30:11.477Z"
   },
   {
    "duration": 5,
    "start_time": "2024-09-23T17:30:32.647Z"
   },
   {
    "duration": 59,
    "start_time": "2024-09-23T17:41:55.131Z"
   },
   {
    "duration": 9941,
    "start_time": "2024-09-23T17:41:59.514Z"
   },
   {
    "duration": 12,
    "start_time": "2024-09-23T17:42:44.533Z"
   },
   {
    "duration": 1030,
    "start_time": "2024-09-23T17:42:51.934Z"
   },
   {
    "duration": 852,
    "start_time": "2024-09-23T17:43:24.607Z"
   },
   {
    "duration": 780,
    "start_time": "2024-09-23T17:43:40.482Z"
   }
  ],
  "kernelspec": {
   "display_name": "Python 3 (ipykernel)",
   "language": "python",
   "name": "python3"
  },
  "language_info": {
   "codemirror_mode": {
    "name": "ipython",
    "version": 3
   },
   "file_extension": ".py",
   "mimetype": "text/x-python",
   "name": "python",
   "nbconvert_exporter": "python",
   "pygments_lexer": "ipython3",
   "version": "3.9.7"
  },
  "toc": {
   "base_numbering": 1,
   "nav_menu": {},
   "number_sections": true,
   "sideBar": true,
   "skip_h1_title": true,
   "title_cell": "Table of Contents",
   "title_sidebar": "Contents",
   "toc_cell": false,
   "toc_position": {},
   "toc_section_display": true,
   "toc_window_display": true
  }
 },
 "nbformat": 4,
 "nbformat_minor": 2
}
