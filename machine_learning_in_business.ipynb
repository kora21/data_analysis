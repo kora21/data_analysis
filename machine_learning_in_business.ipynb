{
 "cells": [
  {
   "cell_type": "markdown",
   "metadata": {},
   "source": [
    "# Выбор локации для скважины"
   ]
  },
  {
   "cell_type": "markdown",
   "metadata": {},
   "source": [
    "Допустим, вы работаете в добывающей компании «ГлавРосГосНефть». Нужно решить, где бурить новую скважину.\n",
    "\n",
    "Вам предоставлены пробы нефти в трёх регионах: в каждом 10 000 месторождений, где измерили качество нефти и объём её запасов. Постройте модель машинного обучения, которая поможет определить регион, где добыча принесёт наибольшую прибыль. Проанализируйте возможную прибыль и риски техникой *Bootstrap.*\n",
    "\n",
    "Шаги для выбора локации:\n",
    "\n",
    "- В избранном регионе ищут месторождения, для каждого определяют значения признаков;\n",
    "- Строят модель и оценивают объём запасов;\n",
    "- Выбирают месторождения с самым высокими оценками значений. Количество месторождений зависит от бюджета компании и стоимости разработки одной скважины;\n",
    "- Прибыль равна суммарной прибыли отобранных месторождений."
   ]
  },
  {
   "cell_type": "code",
   "execution_count": 1,
   "metadata": {},
   "outputs": [],
   "source": [
    "import matplotlib.pyplot as plt\n",
    "import numpy as np\n",
    "import pandas as pd\n",
    "from sklearn.model_selection import train_test_split\n",
    "from sklearn.linear_model import LinearRegression\n",
    "from sklearn.metrics import mean_squared_error\n",
    "from sklearn.preprocessing import StandardScaler\n",
    "from sklearn.utils import shuffle\n",
    "import warnings\n",
    "warnings.filterwarnings('ignore')\n",
    "import seaborn as sns"
   ]
  },
  {
   "cell_type": "code",
   "execution_count": 2,
   "metadata": {},
   "outputs": [],
   "source": [
    "DF_NAMES = ['geo_data_0', 'geo_data_1', 'geo_data_2']"
   ]
  },
  {
   "cell_type": "markdown",
   "metadata": {},
   "source": [
    "## Загрузка и подготовка данных"
   ]
  },
  {
   "cell_type": "code",
   "execution_count": 3,
   "metadata": {},
   "outputs": [
    {
     "name": "stdout",
     "output_type": "stream",
     "text": [
      "<class 'pandas.core.frame.DataFrame'>\n",
      "RangeIndex: 100000 entries, 0 to 99999\n",
      "Data columns (total 5 columns):\n",
      " #   Column   Non-Null Count   Dtype  \n",
      "---  ------   --------------   -----  \n",
      " 0   id       100000 non-null  object \n",
      " 1   f0       100000 non-null  float64\n",
      " 2   f1       100000 non-null  float64\n",
      " 3   f2       100000 non-null  float64\n",
      " 4   product  100000 non-null  float64\n",
      "dtypes: float64(4), object(1)\n",
      "memory usage: 3.8+ MB\n"
     ]
    }
   ],
   "source": [
    "geo_data_0 = pd.read_csv('/datasets/geo_data_0.csv')\n",
    "geo_data_0.info()"
   ]
  },
  {
   "cell_type": "code",
   "execution_count": 4,
   "metadata": {},
   "outputs": [
    {
     "data": {
      "text/html": [
       "<div>\n",
       "<style scoped>\n",
       "    .dataframe tbody tr th:only-of-type {\n",
       "        vertical-align: middle;\n",
       "    }\n",
       "\n",
       "    .dataframe tbody tr th {\n",
       "        vertical-align: top;\n",
       "    }\n",
       "\n",
       "    .dataframe thead th {\n",
       "        text-align: right;\n",
       "    }\n",
       "</style>\n",
       "<table border=\"1\" class=\"dataframe\">\n",
       "  <thead>\n",
       "    <tr style=\"text-align: right;\">\n",
       "      <th></th>\n",
       "      <th>id</th>\n",
       "      <th>f0</th>\n",
       "      <th>f1</th>\n",
       "      <th>f2</th>\n",
       "      <th>product</th>\n",
       "    </tr>\n",
       "  </thead>\n",
       "  <tbody>\n",
       "    <tr>\n",
       "      <th>0</th>\n",
       "      <td>txEyH</td>\n",
       "      <td>0.705745</td>\n",
       "      <td>-0.497823</td>\n",
       "      <td>1.221170</td>\n",
       "      <td>105.280062</td>\n",
       "    </tr>\n",
       "    <tr>\n",
       "      <th>1</th>\n",
       "      <td>2acmU</td>\n",
       "      <td>1.334711</td>\n",
       "      <td>-0.340164</td>\n",
       "      <td>4.365080</td>\n",
       "      <td>73.037750</td>\n",
       "    </tr>\n",
       "    <tr>\n",
       "      <th>2</th>\n",
       "      <td>409Wp</td>\n",
       "      <td>1.022732</td>\n",
       "      <td>0.151990</td>\n",
       "      <td>1.419926</td>\n",
       "      <td>85.265647</td>\n",
       "    </tr>\n",
       "    <tr>\n",
       "      <th>3</th>\n",
       "      <td>iJLyR</td>\n",
       "      <td>-0.032172</td>\n",
       "      <td>0.139033</td>\n",
       "      <td>2.978566</td>\n",
       "      <td>168.620776</td>\n",
       "    </tr>\n",
       "    <tr>\n",
       "      <th>4</th>\n",
       "      <td>Xdl7t</td>\n",
       "      <td>1.988431</td>\n",
       "      <td>0.155413</td>\n",
       "      <td>4.751769</td>\n",
       "      <td>154.036647</td>\n",
       "    </tr>\n",
       "  </tbody>\n",
       "</table>\n",
       "</div>"
      ],
      "text/plain": [
       "      id        f0        f1        f2     product\n",
       "0  txEyH  0.705745 -0.497823  1.221170  105.280062\n",
       "1  2acmU  1.334711 -0.340164  4.365080   73.037750\n",
       "2  409Wp  1.022732  0.151990  1.419926   85.265647\n",
       "3  iJLyR -0.032172  0.139033  2.978566  168.620776\n",
       "4  Xdl7t  1.988431  0.155413  4.751769  154.036647"
      ]
     },
     "execution_count": 4,
     "metadata": {},
     "output_type": "execute_result"
    }
   ],
   "source": [
    "geo_data_0.head(5)"
   ]
  },
  {
   "cell_type": "code",
   "execution_count": 5,
   "metadata": {},
   "outputs": [
    {
     "data": {
      "text/plain": [
       "0"
      ]
     },
     "execution_count": 5,
     "metadata": {},
     "output_type": "execute_result"
    }
   ],
   "source": [
    "geo_data_0.duplicated().sum()"
   ]
  },
  {
   "cell_type": "code",
   "execution_count": 6,
   "metadata": {},
   "outputs": [
    {
     "name": "stdout",
     "output_type": "stream",
     "text": [
      "<class 'pandas.core.frame.DataFrame'>\n",
      "RangeIndex: 100000 entries, 0 to 99999\n",
      "Data columns (total 5 columns):\n",
      " #   Column   Non-Null Count   Dtype  \n",
      "---  ------   --------------   -----  \n",
      " 0   id       100000 non-null  object \n",
      " 1   f0       100000 non-null  float64\n",
      " 2   f1       100000 non-null  float64\n",
      " 3   f2       100000 non-null  float64\n",
      " 4   product  100000 non-null  float64\n",
      "dtypes: float64(4), object(1)\n",
      "memory usage: 3.8+ MB\n"
     ]
    }
   ],
   "source": [
    "geo_data_1 = pd.read_csv('/datasets/geo_data_1.csv')\n",
    "geo_data_1.info()"
   ]
  },
  {
   "cell_type": "code",
   "execution_count": 7,
   "metadata": {},
   "outputs": [
    {
     "data": {
      "text/html": [
       "<div>\n",
       "<style scoped>\n",
       "    .dataframe tbody tr th:only-of-type {\n",
       "        vertical-align: middle;\n",
       "    }\n",
       "\n",
       "    .dataframe tbody tr th {\n",
       "        vertical-align: top;\n",
       "    }\n",
       "\n",
       "    .dataframe thead th {\n",
       "        text-align: right;\n",
       "    }\n",
       "</style>\n",
       "<table border=\"1\" class=\"dataframe\">\n",
       "  <thead>\n",
       "    <tr style=\"text-align: right;\">\n",
       "      <th></th>\n",
       "      <th>id</th>\n",
       "      <th>f0</th>\n",
       "      <th>f1</th>\n",
       "      <th>f2</th>\n",
       "      <th>product</th>\n",
       "    </tr>\n",
       "  </thead>\n",
       "  <tbody>\n",
       "    <tr>\n",
       "      <th>0</th>\n",
       "      <td>kBEdx</td>\n",
       "      <td>-15.001348</td>\n",
       "      <td>-8.276000</td>\n",
       "      <td>-0.005876</td>\n",
       "      <td>3.179103</td>\n",
       "    </tr>\n",
       "    <tr>\n",
       "      <th>1</th>\n",
       "      <td>62mP7</td>\n",
       "      <td>14.272088</td>\n",
       "      <td>-3.475083</td>\n",
       "      <td>0.999183</td>\n",
       "      <td>26.953261</td>\n",
       "    </tr>\n",
       "    <tr>\n",
       "      <th>2</th>\n",
       "      <td>vyE1P</td>\n",
       "      <td>6.263187</td>\n",
       "      <td>-5.948386</td>\n",
       "      <td>5.001160</td>\n",
       "      <td>134.766305</td>\n",
       "    </tr>\n",
       "    <tr>\n",
       "      <th>3</th>\n",
       "      <td>KcrkZ</td>\n",
       "      <td>-13.081196</td>\n",
       "      <td>-11.506057</td>\n",
       "      <td>4.999415</td>\n",
       "      <td>137.945408</td>\n",
       "    </tr>\n",
       "    <tr>\n",
       "      <th>4</th>\n",
       "      <td>AHL4O</td>\n",
       "      <td>12.702195</td>\n",
       "      <td>-8.147433</td>\n",
       "      <td>5.004363</td>\n",
       "      <td>134.766305</td>\n",
       "    </tr>\n",
       "  </tbody>\n",
       "</table>\n",
       "</div>"
      ],
      "text/plain": [
       "      id         f0         f1        f2     product\n",
       "0  kBEdx -15.001348  -8.276000 -0.005876    3.179103\n",
       "1  62mP7  14.272088  -3.475083  0.999183   26.953261\n",
       "2  vyE1P   6.263187  -5.948386  5.001160  134.766305\n",
       "3  KcrkZ -13.081196 -11.506057  4.999415  137.945408\n",
       "4  AHL4O  12.702195  -8.147433  5.004363  134.766305"
      ]
     },
     "execution_count": 7,
     "metadata": {},
     "output_type": "execute_result"
    }
   ],
   "source": [
    "geo_data_1.head(5)"
   ]
  },
  {
   "cell_type": "code",
   "execution_count": 8,
   "metadata": {},
   "outputs": [
    {
     "data": {
      "text/plain": [
       "0"
      ]
     },
     "execution_count": 8,
     "metadata": {},
     "output_type": "execute_result"
    }
   ],
   "source": [
    "geo_data_1.duplicated().sum()"
   ]
  },
  {
   "cell_type": "code",
   "execution_count": 9,
   "metadata": {},
   "outputs": [
    {
     "name": "stdout",
     "output_type": "stream",
     "text": [
      "<class 'pandas.core.frame.DataFrame'>\n",
      "RangeIndex: 100000 entries, 0 to 99999\n",
      "Data columns (total 5 columns):\n",
      " #   Column   Non-Null Count   Dtype  \n",
      "---  ------   --------------   -----  \n",
      " 0   id       100000 non-null  object \n",
      " 1   f0       100000 non-null  float64\n",
      " 2   f1       100000 non-null  float64\n",
      " 3   f2       100000 non-null  float64\n",
      " 4   product  100000 non-null  float64\n",
      "dtypes: float64(4), object(1)\n",
      "memory usage: 3.8+ MB\n"
     ]
    }
   ],
   "source": [
    "geo_data_2 = pd.read_csv('/datasets/geo_data_2.csv')\n",
    "geo_data_2.info()"
   ]
  },
  {
   "cell_type": "code",
   "execution_count": 10,
   "metadata": {},
   "outputs": [
    {
     "data": {
      "text/html": [
       "<div>\n",
       "<style scoped>\n",
       "    .dataframe tbody tr th:only-of-type {\n",
       "        vertical-align: middle;\n",
       "    }\n",
       "\n",
       "    .dataframe tbody tr th {\n",
       "        vertical-align: top;\n",
       "    }\n",
       "\n",
       "    .dataframe thead th {\n",
       "        text-align: right;\n",
       "    }\n",
       "</style>\n",
       "<table border=\"1\" class=\"dataframe\">\n",
       "  <thead>\n",
       "    <tr style=\"text-align: right;\">\n",
       "      <th></th>\n",
       "      <th>id</th>\n",
       "      <th>f0</th>\n",
       "      <th>f1</th>\n",
       "      <th>f2</th>\n",
       "      <th>product</th>\n",
       "    </tr>\n",
       "  </thead>\n",
       "  <tbody>\n",
       "    <tr>\n",
       "      <th>0</th>\n",
       "      <td>fwXo0</td>\n",
       "      <td>-1.146987</td>\n",
       "      <td>0.963328</td>\n",
       "      <td>-0.828965</td>\n",
       "      <td>27.758673</td>\n",
       "    </tr>\n",
       "    <tr>\n",
       "      <th>1</th>\n",
       "      <td>WJtFt</td>\n",
       "      <td>0.262778</td>\n",
       "      <td>0.269839</td>\n",
       "      <td>-2.530187</td>\n",
       "      <td>56.069697</td>\n",
       "    </tr>\n",
       "    <tr>\n",
       "      <th>2</th>\n",
       "      <td>ovLUW</td>\n",
       "      <td>0.194587</td>\n",
       "      <td>0.289035</td>\n",
       "      <td>-5.586433</td>\n",
       "      <td>62.871910</td>\n",
       "    </tr>\n",
       "    <tr>\n",
       "      <th>3</th>\n",
       "      <td>q6cA6</td>\n",
       "      <td>2.236060</td>\n",
       "      <td>-0.553760</td>\n",
       "      <td>0.930038</td>\n",
       "      <td>114.572842</td>\n",
       "    </tr>\n",
       "    <tr>\n",
       "      <th>4</th>\n",
       "      <td>WPMUX</td>\n",
       "      <td>-0.515993</td>\n",
       "      <td>1.716266</td>\n",
       "      <td>5.899011</td>\n",
       "      <td>149.600746</td>\n",
       "    </tr>\n",
       "  </tbody>\n",
       "</table>\n",
       "</div>"
      ],
      "text/plain": [
       "      id        f0        f1        f2     product\n",
       "0  fwXo0 -1.146987  0.963328 -0.828965   27.758673\n",
       "1  WJtFt  0.262778  0.269839 -2.530187   56.069697\n",
       "2  ovLUW  0.194587  0.289035 -5.586433   62.871910\n",
       "3  q6cA6  2.236060 -0.553760  0.930038  114.572842\n",
       "4  WPMUX -0.515993  1.716266  5.899011  149.600746"
      ]
     },
     "execution_count": 10,
     "metadata": {},
     "output_type": "execute_result"
    }
   ],
   "source": [
    "geo_data_2.head(5)"
   ]
  },
  {
   "cell_type": "code",
   "execution_count": 11,
   "metadata": {},
   "outputs": [
    {
     "data": {
      "text/plain": [
       "0"
      ]
     },
     "execution_count": 11,
     "metadata": {},
     "output_type": "execute_result"
    }
   ],
   "source": [
    "geo_data_2.duplicated().sum()"
   ]
  },
  {
   "cell_type": "code",
   "execution_count": 12,
   "metadata": {},
   "outputs": [
    {
     "name": "stdout",
     "output_type": "stream",
     "text": [
      "Датафрейм geo_data_0\n",
      "                  f0             f1             f2        product\n",
      "count  100000.000000  100000.000000  100000.000000  100000.000000\n",
      "mean        0.500419       0.250143       2.502647      92.500000\n",
      "std         0.871832       0.504433       3.248248      44.288691\n",
      "min        -1.408605      -0.848218     -12.088328       0.000000\n",
      "25%        -0.072580      -0.200881       0.287748      56.497507\n",
      "50%         0.502360       0.250252       2.515969      91.849972\n",
      "75%         1.073581       0.700646       4.715088     128.564089\n",
      "max         2.362331       1.343769      16.003790     185.364347\n",
      "\n",
      "\n",
      "Датафрейм geo_data_1\n",
      "                  f0             f1             f2        product\n",
      "count  100000.000000  100000.000000  100000.000000  100000.000000\n",
      "mean        1.141296      -4.796579       2.494541      68.825000\n",
      "std         8.965932       5.119872       1.703572      45.944423\n",
      "min       -31.609576     -26.358598      -0.018144       0.000000\n",
      "25%        -6.298551      -8.267985       1.000021      26.953261\n",
      "50%         1.153055      -4.813172       2.011479      57.085625\n",
      "75%         8.621015      -1.332816       3.999904     107.813044\n",
      "max        29.421755      18.734063       5.019721     137.945408\n",
      "\n",
      "\n",
      "Датафрейм geo_data_2\n",
      "                  f0             f1             f2        product\n",
      "count  100000.000000  100000.000000  100000.000000  100000.000000\n",
      "mean        0.002023      -0.002081       2.495128      95.000000\n",
      "std         1.732045       1.730417       3.473445      44.749921\n",
      "min        -8.760004      -7.084020     -11.970335       0.000000\n",
      "25%        -1.162288      -1.174820       0.130359      59.450441\n",
      "50%         0.009424      -0.009482       2.484236      94.925613\n",
      "75%         1.158535       1.163678       4.858794     130.595027\n",
      "max         7.238262       7.844801      16.739402     190.029838\n",
      "\n",
      "\n"
     ]
    }
   ],
   "source": [
    "for f in DF_NAMES:\n",
    "    print(f\"Датафрейм {f}\")\n",
    "    print(f\"{(globals()[f]).describe()}\")\n",
    "        \n",
    "    print('\\n')"
   ]
  },
  {
   "cell_type": "code",
   "execution_count": 13,
   "metadata": {},
   "outputs": [
    {
     "name": "stdout",
     "output_type": "stream",
     "text": [
      "Столбцы датафрейма geo_data_0\n",
      "Категориальные столбцы: \n",
      " ['id']\n",
      "Численные столбцы: \n",
      " ['f0', 'f1', 'f2', 'product'] \n",
      "\n",
      "Столбцы датафрейма geo_data_1\n",
      "Категориальные столбцы: \n",
      " ['id']\n",
      "Численные столбцы: \n",
      " ['f0', 'f1', 'f2', 'product'] \n",
      "\n",
      "Столбцы датафрейма geo_data_2\n",
      "Категориальные столбцы: \n",
      " ['id']\n",
      "Численные столбцы: \n",
      " ['f0', 'f1', 'f2', 'product'] \n",
      "\n"
     ]
    }
   ],
   "source": [
    "#список столбцов с категориальными признаками\n",
    "for f in DF_NAMES:\n",
    "    print(f'Столбцы датафрейма {f}')\n",
    "    globals()['col_cat_'] = globals()[f].select_dtypes(include='object').columns.to_list()\n",
    "    globals()['col_num_'] = [x for x in globals()[f].columns.to_list() if x not in globals()['col_cat_']]\n",
    "    print(f\"Категориальные столбцы: \\n {globals()['col_cat_']}\\n\"\n",
    "          f\"Численные столбцы: \\n {globals()['col_num_']} \\n\")"
   ]
  },
  {
   "cell_type": "code",
   "execution_count": 14,
   "metadata": {},
   "outputs": [],
   "source": [
    "#удалим id \n",
    "geo_data_0 = geo_data_0.drop(['id'], axis=1)\n",
    "geo_data_1 = geo_data_1.drop(['id'], axis=1)\n",
    "geo_data_2 = geo_data_2.drop(['id'], axis=1)"
   ]
  },
  {
   "cell_type": "code",
   "execution_count": 15,
   "metadata": {},
   "outputs": [
    {
     "data": {
      "image/png": "[encoded data removed]",
      "text/plain": [
       "<Figure size 1080x576 with 1 Axes>"
      ]
     },
     "metadata": {
      "needs_background": "light"
     },
     "output_type": "display_data"
    }
   ],
   "source": [
    "#Распределение Целевого признака product в каждом регионе\n",
    "fig, ax = plt.subplots(figsize=(15,8))\n",
    "sns.histplot(data=geo_data_0['product'], ax=ax, bins=50, color='r', alpha = 0.5, label='geo_0')\n",
    "sns.histplot(data=geo_data_1['product'], ax=ax, bins=50, color='g', alpha = 0.5, label='geo_1')\n",
    "sns.histplot(data=geo_data_2['product'], ax=ax, bins=50, color='orange', alpha = 0.5, label='geo_2')\n",
    "ax.set_xlabel('product')\n",
    "ax.set_title('Распределение таргета в каждом регионе')\n",
    "plt.legend()\n",
    "plt.show()"
   ]
  },
  {
   "cell_type": "markdown",
   "metadata": {},
   "source": [
    "**Промежуточный Вывод**\n",
    "\n",
    "Датасеты geo_data_0, geo_data_1 и geo_data_2 содержат по 10 000 строк. Пропуски, дубликаты отсутствуют. Все признаки имеют числовое представление. Имена столбцов приведены к стилю lower_case. Продукт распределен между регионами неравномерно. Распределение обьема нефти в 1-ом регионе сильно отличается от двух других, в каждой скважине находится намного больше продукта."
   ]
  },
  {
   "cell_type": "markdown",
   "metadata": {},
   "source": [
    "## Обучение и проверка модели"
   ]
  },
  {
   "cell_type": "markdown",
   "metadata": {},
   "source": [
    "Данные необходимо разбить в соотвествии с заданием на обучающую и валидационную выборки в пропорции 75:25. "
   ]
  },
  {
   "cell_type": "code",
   "execution_count": 16,
   "metadata": {},
   "outputs": [],
   "source": [
    "def create_sample(dict_):\n",
    "    df = list(dict_.values())[0]\n",
    "    name = list(dict_.keys())[0]\n",
    "    features = df.drop('product', axis=1)\n",
    "    target = df['product']\n",
    "    \n",
    "    features_train, features_valid, target_train, target_valid = train_test_split(features, \n",
    "                                                                                  target,\n",
    "                                                                                  test_size=0.25,\n",
    "                                                                                  random_state=12345)\n",
    "    print(f'Весь датасет региона {name}')\n",
    "    print('features_train.shape = ', features_train.shape, 'target_train.shape = ', target_train.shape)\n",
    "    print('features_valid.shape = ', features_valid.shape, 'target_valid.shape = ', target_valid.shape)\n",
    "    \n",
    "    # масштабируем признаки\n",
    "    scaler = StandardScaler()\n",
    "    scaler.fit(features_train)\n",
    "\n",
    "    features_train = scaler.transform(features_train)\n",
    "    features_valid = scaler.transform(features_valid)\n",
    "    \n",
    "    return features_train, features_valid, target_train.reset_index(drop=True), target_valid.reset_index(drop=True)"
   ]
  },
  {
   "cell_type": "code",
   "execution_count": 17,
   "metadata": {},
   "outputs": [
    {
     "name": "stdout",
     "output_type": "stream",
     "text": [
      "Весь датасет региона geo_data_0\n",
      "features_train.shape =  (75000, 3) target_train.shape =  (75000,)\n",
      "features_valid.shape =  (25000, 3) target_valid.shape =  (25000,)\n",
      "Весь датасет региона geo_data_1\n",
      "features_train.shape =  (75000, 3) target_train.shape =  (75000,)\n",
      "features_valid.shape =  (25000, 3) target_valid.shape =  (25000,)\n",
      "Весь датасет региона geo_data_2\n",
      "features_train.shape =  (75000, 3) target_train.shape =  (75000,)\n",
      "features_valid.shape =  (25000, 3) target_valid.shape =  (25000,)\n"
     ]
    }
   ],
   "source": [
    "geo_data_0_features_train, geo_data_0_features_valid, geo_data_0_target_train, geo_data_0_target_valid = create_sample({'geo_data_0': geo_data_0})\n",
    "geo_data_1_features_train, geo_data_1_features_valid, geo_data_1_target_train, geo_data_1_target_valid = create_sample({'geo_data_1': geo_data_1})\n",
    "geo_data_2_features_train, geo_data_2_features_valid, geo_data_2_target_train, geo_data_2_target_valid = create_sample({'geo_data_2': geo_data_2})"
   ]
  },
  {
   "cell_type": "markdown",
   "metadata": {},
   "source": [
    "Обучение и предсказание моделей"
   ]
  },
  {
   "cell_type": "code",
   "execution_count": 18,
   "metadata": {},
   "outputs": [],
   "source": [
    "def fit_predict(features_train, features_valid, target_train, target_valid):\n",
    "    model = LinearRegression()\n",
    "    model.fit(features_train,target_train)\n",
    "    predicted_train = model.predict(features_train)\n",
    "    predicted_valid = model.predict(features_valid)\n",
    "    return mean_squared_error(target_train, predicted_train) ** 0.5, \\\n",
    "           mean_squared_error(target_valid, predicted_valid) ** 0.5, predicted_valid"
   ]
  },
  {
   "cell_type": "code",
   "execution_count": 19,
   "metadata": {},
   "outputs": [],
   "source": [
    "rmse_geo_data_0_train, rmse_geo_data_0_valid, predicted_valid_geo_data_0 = fit_predict(geo_data_0_features_train, geo_data_0_features_valid, geo_data_0_target_train, geo_data_0_target_valid)\n",
    "rmse_geo_data_1_train, rmse_geo_data_1_valid, predicted_valid_geo_data_1 = fit_predict(geo_data_1_features_train, geo_data_1_features_valid, geo_data_1_target_train, geo_data_1_target_valid)\n",
    "rmse_geo_data_2_train, rmse_geo_data_2_valid, predicted_valid_geo_data_2 = fit_predict(geo_data_2_features_train, geo_data_2_features_valid, geo_data_2_target_train, geo_data_2_target_valid)"
   ]
  },
  {
   "cell_type": "markdown",
   "metadata": {},
   "source": [
    "Выведем ошибку и среднее значения предсказанных результатов (объем добываемого продукта в скважине) для каждого региона."
   ]
  },
  {
   "cell_type": "code",
   "execution_count": 20,
   "metadata": {},
   "outputs": [
    {
     "name": "stdout",
     "output_type": "stream",
     "text": [
      "Регион GEO_0\n",
      "RMSE(train): 37.72999219904026 \n",
      "RMSE(valid): 37.5794217150813 \n",
      "mean(train): 92.59256778438035\n"
     ]
    }
   ],
   "source": [
    "print('Регион GEO_0')\n",
    "print('RMSE(train):', rmse_geo_data_0_train, '\\nRMSE(valid):', rmse_geo_data_0_valid, '\\nmean(train):', predicted_valid_geo_data_0.mean())"
   ]
  },
  {
   "cell_type": "code",
   "execution_count": 21,
   "metadata": {},
   "outputs": [
    {
     "name": "stdout",
     "output_type": "stream",
     "text": [
      "Регион GEO_1\n",
      "RMSE(train): 0.8894720773917386 \n",
      "RMSE(valid): 0.893099286775617 \n",
      "mean(train): 68.728546895446\n"
     ]
    }
   ],
   "source": [
    "print('Регион GEO_1')\n",
    "print('RMSE(train):', rmse_geo_data_1_train, '\\nRMSE(valid):', rmse_geo_data_1_valid, '\\nmean(train):', predicted_valid_geo_data_1.mean())"
   ]
  },
  {
   "cell_type": "code",
   "execution_count": 22,
   "metadata": {},
   "outputs": [
    {
     "name": "stdout",
     "output_type": "stream",
     "text": [
      "Регион GEO_2\n",
      "RMSE(train): 40.06425978832384 \n",
      "RMSE(valid): 40.02970873393434 \n",
      "mean(train): 94.96504596800489\n"
     ]
    }
   ],
   "source": [
    "print('Регион GEO_2')\n",
    "print('RMSE(train):', rmse_geo_data_2_train, '\\nRMSE(valid):', rmse_geo_data_2_valid, '\\nmean(train):', predicted_valid_geo_data_2.mean())"
   ]
  },
  {
   "cell_type": "markdown",
   "metadata": {},
   "source": [
    "**Промежуточный Вывод**\n",
    "\n",
    "Данные корректно разбиты на обучающую и валидационную выборки в пропорции 75:25, индексы выборок обновлены, данные сохранены.\n",
    "\n",
    "Лучше всего модель предсказала запасы во втором регионе (RMSE - 0.88), далее в первом и третьем соотвественно."
   ]
  },
  {
   "cell_type": "markdown",
   "metadata": {},
   "source": [
    "## Подготовка к расчёту прибыли"
   ]
  },
  {
   "cell_type": "markdown",
   "metadata": {},
   "source": [
    "При разведке региона исследуют 500 точек, из которых с помощью машинного обучения выбирают 200 лучших для разработки. Бюджет на разработку скважин в регионе — 10 млрд рублей. При нынешних ценах один баррель сырья приносит 450 рублей дохода. Доход с каждой единицы продукта составляет 450 тыс. рублей, поскольку объём указан в тысячах баррелей. После оценки рисков нужно оставить лишь те регионы, в которых вероятность убытков меньше 2.5%. Среди них выбирают регион с наибольшей средней прибылью. Данные синтетические: детали контрактов и характеристики месторождений не разглашаются."
   ]
  },
  {
   "cell_type": "code",
   "execution_count": 23,
   "metadata": {},
   "outputs": [],
   "source": [
    "budget=1e+07\n",
    "revenue=450\n",
    "all_points=500\n",
    "best_points=200"
   ]
  },
  {
   "cell_type": "markdown",
   "metadata": {},
   "source": [
    "Расчитаем минимальное среднее количество продукта в месторождениях региона, достаточное для разработки. Поделим бюдет региона на число возможных разрабатываем точек, получим минимальный доход со скважины в рублях."
   ]
  },
  {
   "cell_type": "code",
   "execution_count": 24,
   "metadata": {},
   "outputs": [
    {
     "name": "stdout",
     "output_type": "stream",
     "text": [
      "Средняя прибыль на лучшую точку - 50000.0 тыс.руб.\n"
     ]
    }
   ],
   "source": [
    "unique_budget=budget/best_points\n",
    "print('Средняя прибыль на лучшую точку -', unique_budget, 'тыс.руб.')"
   ]
  },
  {
   "cell_type": "markdown",
   "metadata": {},
   "source": [
    "Безубыточный объем скважины"
   ]
  },
  {
   "cell_type": "code",
   "execution_count": 25,
   "metadata": {},
   "outputs": [
    {
     "name": "stdout",
     "output_type": "stream",
     "text": [
      "Средний объем нефти на точку - 111.11111111111111 тыс. барелей\n"
     ]
    }
   ],
   "source": [
    "profit_level=unique_budget/revenue\n",
    "print('Средний объем нефти на точку -', profit_level, 'тыс. барелей')"
   ]
  },
  {
   "cell_type": "code",
   "execution_count": 26,
   "metadata": {},
   "outputs": [
    {
     "name": "stdout",
     "output_type": "stream",
     "text": [
      "Средний объем нефти на регион - 22222.222222222223 тыс. барелей\n"
     ]
    }
   ],
   "source": [
    "average_barrels = budget / revenue\n",
    "print('Средний объем нефти на регион -', average_barrels, 'тыс. барелей')"
   ]
  },
  {
   "cell_type": "markdown",
   "metadata": {},
   "source": [
    "Получилось, что для безубыточной добычи топлива необходимо, чтобы каждая скважина в среднем содержала не менее 111 тысяч баррелей. Составим сводную таблицу для регионов и сравним его показатель с минимальным средним количеством продукта:"
   ]
  },
  {
   "cell_type": "code",
   "execution_count": 27,
   "metadata": {},
   "outputs": [
    {
     "name": "stdout",
     "output_type": "stream",
     "text": [
      "Средний запас фактичекой нефти на скважину в регионе 1 92.50000000000001\n",
      "Средний запас фактичекой нефти на скважину в регионе 2 68.82500000000002\n",
      "Средний запас фактичекой нефти на скважину в регионе 3 95.00000000000004\n"
     ]
    }
   ],
   "source": [
    "print('Средний запас фактичекой нефти на скважину в регионе 1', geo_data_0['product'].mean())\n",
    "print('Средний запас фактичекой нефти на скважину в регионе 2', geo_data_1['product'].mean())\n",
    "print('Средний запас фактичекой нефти на скважину в регионе 3', geo_data_2['product'].mean())"
   ]
  },
  {
   "cell_type": "code",
   "execution_count": 28,
   "metadata": {},
   "outputs": [],
   "source": [
    "def oil_profit_calculation(target, probabilities, count):\n",
    "    probs_sorted = probabilities.sort_values(ascending=False)\n",
    "    selected = target[probs_sorted.index][:count]\n",
    "    return price_per_barrel * selected.sum() - budget"
   ]
  },
  {
   "cell_type": "code",
   "execution_count": 29,
   "metadata": {},
   "outputs": [
    {
     "data": {
      "text/html": [
       "<div>\n",
       "<style scoped>\n",
       "    .dataframe tbody tr th:only-of-type {\n",
       "        vertical-align: middle;\n",
       "    }\n",
       "\n",
       "    .dataframe tbody tr th {\n",
       "        vertical-align: top;\n",
       "    }\n",
       "\n",
       "    .dataframe thead th {\n",
       "        text-align: right;\n",
       "    }\n",
       "</style>\n",
       "<table border=\"1\" class=\"dataframe\">\n",
       "  <thead>\n",
       "    <tr style=\"text-align: right;\">\n",
       "      <th></th>\n",
       "      <th>mean_product</th>\n",
       "      <th>profit_level</th>\n",
       "      <th>good_region</th>\n",
       "    </tr>\n",
       "  </thead>\n",
       "  <tbody>\n",
       "    <tr>\n",
       "      <th>0</th>\n",
       "      <td>92.592568</td>\n",
       "      <td>111.111111</td>\n",
       "      <td>False</td>\n",
       "    </tr>\n",
       "    <tr>\n",
       "      <th>1</th>\n",
       "      <td>68.728547</td>\n",
       "      <td>111.111111</td>\n",
       "      <td>False</td>\n",
       "    </tr>\n",
       "    <tr>\n",
       "      <th>2</th>\n",
       "      <td>94.965046</td>\n",
       "      <td>111.111111</td>\n",
       "      <td>False</td>\n",
       "    </tr>\n",
       "  </tbody>\n",
       "</table>\n",
       "</div>"
      ],
      "text/plain": [
       "   mean_product  profit_level  good_region\n",
       "0     92.592568    111.111111        False\n",
       "1     68.728547    111.111111        False\n",
       "2     94.965046    111.111111        False"
      ]
     },
     "execution_count": 29,
     "metadata": {},
     "output_type": "execute_result"
    }
   ],
   "source": [
    "mean_product_pivot = pd.DataFrame({'mean_product': [predicted_valid_geo_data_0.mean(), predicted_valid_geo_data_1.mean(), predicted_valid_geo_data_2.mean()],\n",
    "                                   'profit_level': [profit_level]*3})\n",
    "mean_product_pivot['good_region'] = mean_product_pivot['mean_product'] > mean_product_pivot['profit_level']\n",
    "mean_product_pivot"
   ]
  },
  {
   "cell_type": "code",
   "execution_count": 36,
   "metadata": {},
   "outputs": [],
   "source": [
    "def calc_income_in_region(target_valid_subsample, predicted_valid_subsample):\n",
    "    select_predicted_profit_best = predicted_valid_subsample.sort_values(ascending=False)\n",
    "    target_best = target_valid_subsample[select_predicted_profit_best.index][:best_points]\n",
    "    return target_best.sum() * revenue - budget"
   ]
  },
  {
   "cell_type": "markdown",
   "metadata": {},
   "source": [
    "**Промежуточный Вывод**\n",
    "\n",
    "Средняя прибыль на лучшую точку - 50000.0 тыс.руб. Средний объем нефти на точку - 111.11111111111111 тыс. барелей. Получилось, что для безубыточной добычи топлива необходимо, чтобы каждая скважина в среднем содержала не менее 111 тысяч баррелей. Больше всего среднего запаса фактичекой нефти на скважину в регионе 3.  Если задействовать все скважины в каждом регионе, то прибыли не получиться, нужно отобрать лучшие скважины. "
   ]
  },
  {
   "cell_type": "markdown",
   "metadata": {},
   "source": [
    "## Расчёт прибыли и рисков "
   ]
  },
  {
   "cell_type": "code",
   "execution_count": 31,
   "metadata": {},
   "outputs": [],
   "source": [
    "def bootstrap_method_calc_income_in_region(target_valid_, predicted_valid_):\n",
    "    bootstrap = []\n",
    "    state=np.random.RandomState(12345)\n",
    "    for _ in range(1000):\n",
    "        target_valid_subsample = pd.Series(target_valid_).sample(n=all_points, random_state=state, replace=True)\n",
    "        predicted_valid_subsample = pd.Series(predicted_valid_)[target_valid_subsample.index]\n",
    "        bootstrap.append(calc_income_in_region(target_valid_subsample, predicted_valid_subsample))\n",
    "    return pd.Series(bootstrap)"
   ]
  },
  {
   "cell_type": "code",
   "execution_count": 32,
   "metadata": {},
   "outputs": [],
   "source": [
    "def calc_confidence_interval(interval, massive):\n",
    "    left_interval = (1 - interval)/2\n",
    "    right_interval = interval + (1 - interval)/2\n",
    "    average = massive.mean()\n",
    "    lower = massive.quantile(left_interval)\n",
    "    upper = massive.quantile(right_interval)\n",
    "    risk = (massive < 0).mean()\n",
    "    print(f'{left_interval:.2%}-квантиль: {lower:.0f} руб. < Средняя прибыль: {average:.0f} руб. < {right_interval:.2%}-квантиль: {upper:.0f} руб. < Риск: {100 * risk:.1f}%')\n",
    "    return average, lower, upper"
   ]
  },
  {
   "cell_type": "markdown",
   "metadata": {},
   "source": [
    "Добавила риск, это значения меньше нуля в %"
   ]
  },
  {
   "cell_type": "code",
   "execution_count": 37,
   "metadata": {},
   "outputs": [
    {
     "name": "stdout",
     "output_type": "stream",
     "text": [
      "2.50%-квантиль: 12948 руб. < Средняя прибыль: 600735 руб. < 97.50%-квантиль: 1231164 руб. < Риск: 2.0%\n",
      "Данные по первому региону.\n"
     ]
    }
   ],
   "source": [
    "geo_data_0_income_in_region = bootstrap_method_calc_income_in_region(geo_data_0_target_valid, predicted_valid_geo_data_0)\n",
    "calc_confidence_interval(.95, geo_data_0_income_in_region)\n",
    "print('Данные по первому региону.')"
   ]
  },
  {
   "cell_type": "code",
   "execution_count": 38,
   "metadata": {},
   "outputs": [
    {
     "name": "stdout",
     "output_type": "stream",
     "text": [
      "2.50%-квантиль: 157988 руб. < Средняя прибыль: 665241 руб. < 97.50%-квантиль: 1197642 руб. < Риск: 0.3%\n",
      "Данные по второму региону.\n"
     ]
    }
   ],
   "source": [
    "geo_data_1_income_in_region = bootstrap_method_calc_income_in_region(geo_data_1_target_valid, predicted_valid_geo_data_1)\n",
    "calc_confidence_interval(.95, geo_data_1_income_in_region)\n",
    "print('Данные по второму региону.')"
   ]
  },
  {
   "cell_type": "code",
   "execution_count": 39,
   "metadata": {},
   "outputs": [
    {
     "name": "stdout",
     "output_type": "stream",
     "text": [
      "2.50%-квантиль: -12218 руб. < Средняя прибыль: 615560 руб. < 97.50%-квантиль: 1230644 руб. < Риск: 3.0%\n",
      "Данные по третьему региону.\n"
     ]
    }
   ],
   "source": [
    "geo_data_2_income_in_region = bootstrap_method_calc_income_in_region(geo_data_2_target_valid, predicted_valid_geo_data_2)\n",
    "calc_confidence_interval(.95, geo_data_2_income_in_region)\n",
    "print('Данные по третьему региону.')"
   ]
  },
  {
   "cell_type": "markdown",
   "metadata": {},
   "source": [
    "Наиболее эффективными для разработки представляются скважины второго региона и с точки зрения интервала для распределения прибыли, и с точки зрения риска убытков. По результатам исследования выделенный бюджет целесообразно освоить именно там."
   ]
  },
  {
   "cell_type": "markdown",
   "metadata": {},
   "source": [
    "## Чек-лист готовности проекта"
   ]
  },
  {
   "cell_type": "markdown",
   "metadata": {},
   "source": [
    "Поставьте 'x' в выполненных пунктах. Далее нажмите Shift+Enter."
   ]
  },
  {
   "cell_type": "markdown",
   "metadata": {},
   "source": [
    "- [x]  Jupyter Notebook открыт\n",
    "- [x]  Весь код выполняется без ошибок\n",
    "- [x]  Ячейки с кодом расположены в порядке исполнения\n",
    "- [x]  Выполнен шаг 1: данные подготовлены\n",
    "- [x]  Выполнен шаг 2: модели обучены и проверены\n",
    "    - [x]  Данные корректно разбиты на обучающую и валидационную выборки\n",
    "    - [x]  Модели обучены, предсказания сделаны\n",
    "    - [x]  Предсказания и правильные ответы на валидационной выборке сохранены\n",
    "    - [x]  На экране напечатаны результаты\n",
    "    - [x]  Сделаны выводы\n",
    "- [ ]  Выполнен шаг 3: проведена подготовка к расчёту прибыли\n",
    "    - [x]  Для всех ключевых значений созданы константы Python\n",
    "    - [x]  Посчитано минимальное среднее количество продукта в месторождениях региона, достаточное для разработки\n",
    "    - [x]  По предыдущему пункту сделаны выводы\n",
    "    - [x]  Написана функция расчёта прибыли\n",
    "- [x]  Выполнен шаг 4: посчитаны риски и прибыль\n",
    "    - [x]  Проведена процедура *Bootstrap*\n",
    "    - [x]  Все параметры бутстрепа соответствуют условию\n",
    "    - [x]  Найдены все нужные величины\n",
    "    - [x]  Предложен регион для разработки месторождения\n",
    "    - [x]  Выбор региона обоснован"
   ]
  }
 ],
 "metadata": {
  "ExecuteTimeLog": [
   {
    "duration": 1608,
    "start_time": "2024-08-14T19:09:27.065Z"
   },
   {
    "duration": 3,
    "start_time": "2024-08-14T19:09:30.286Z"
   },
   {
    "duration": 551,
    "start_time": "2024-08-14T19:09:32.177Z"
   },
   {
    "duration": 13,
    "start_time": "2024-08-14T19:09:38.531Z"
   },
   {
    "duration": 46,
    "start_time": "2024-08-14T19:09:46.011Z"
   },
   {
    "duration": 255,
    "start_time": "2024-08-14T19:09:49.435Z"
   },
   {
    "duration": 8,
    "start_time": "2024-08-14T19:09:53.794Z"
   },
   {
    "duration": 45,
    "start_time": "2024-08-14T19:10:01.335Z"
   },
   {
    "duration": 232,
    "start_time": "2024-08-14T19:10:02.862Z"
   },
   {
    "duration": 9,
    "start_time": "2024-08-14T19:10:04.595Z"
   },
   {
    "duration": 61,
    "start_time": "2024-08-14T19:10:05.457Z"
   },
   {
    "duration": 91,
    "start_time": "2024-08-14T19:10:06.589Z"
   },
   {
    "duration": 13,
    "start_time": "2024-08-14T19:10:16.946Z"
   },
   {
    "duration": 13,
    "start_time": "2024-08-14T19:10:29.337Z"
   },
   {
    "duration": 269,
    "start_time": "2024-08-14T19:10:36.994Z"
   },
   {
    "duration": 56,
    "start_time": "2024-08-14T19:11:10.658Z"
   },
   {
    "duration": 127,
    "start_time": "2024-08-14T19:11:18.810Z"
   },
   {
    "duration": 542,
    "start_time": "2024-08-14T19:12:08.703Z"
   },
   {
    "duration": 641,
    "start_time": "2024-08-14T19:12:23.761Z"
   },
   {
    "duration": 556,
    "start_time": "2024-08-14T19:13:00.063Z"
   },
   {
    "duration": 548,
    "start_time": "2024-08-14T19:13:14.792Z"
   },
   {
    "duration": 704,
    "start_time": "2024-08-14T19:14:52.332Z"
   },
   {
    "duration": 545,
    "start_time": "2024-08-14T19:15:02.869Z"
   },
   {
    "duration": 525,
    "start_time": "2024-08-14T19:15:18.632Z"
   },
   {
    "duration": 5,
    "start_time": "2024-08-14T19:18:20.807Z"
   },
   {
    "duration": 10,
    "start_time": "2024-08-14T19:18:25.641Z"
   },
   {
    "duration": 9,
    "start_time": "2024-08-14T19:19:03.208Z"
   },
   {
    "duration": 10,
    "start_time": "2024-08-14T19:20:46.947Z"
   },
   {
    "duration": 62,
    "start_time": "2024-08-14T19:22:18.585Z"
   },
   {
    "duration": 4,
    "start_time": "2024-08-14T19:22:26.319Z"
   },
   {
    "duration": 192,
    "start_time": "2024-08-14T19:26:29.949Z"
   },
   {
    "duration": 10,
    "start_time": "2024-08-14T19:26:37.057Z"
   },
   {
    "duration": 4,
    "start_time": "2024-08-14T19:27:32.688Z"
   },
   {
    "duration": 3,
    "start_time": "2024-08-14T19:28:23.578Z"
   },
   {
    "duration": 3,
    "start_time": "2024-08-14T19:29:25.324Z"
   },
   {
    "duration": 2,
    "start_time": "2024-08-14T19:35:25.152Z"
   },
   {
    "duration": 9,
    "start_time": "2024-08-14T19:35:29.360Z"
   },
   {
    "duration": 4,
    "start_time": "2024-08-14T19:35:44.390Z"
   },
   {
    "duration": 4,
    "start_time": "2024-08-14T19:36:02.066Z"
   },
   {
    "duration": 8,
    "start_time": "2024-08-14T19:36:09.838Z"
   },
   {
    "duration": 3,
    "start_time": "2024-08-14T19:36:32.678Z"
   },
   {
    "duration": 7,
    "start_time": "2024-08-14T19:37:10.129Z"
   },
   {
    "duration": 11,
    "start_time": "2024-08-14T19:40:23.058Z"
   },
   {
    "duration": 6,
    "start_time": "2024-08-14T19:47:12.317Z"
   },
   {
    "duration": 4,
    "start_time": "2024-08-14T19:51:21.947Z"
   },
   {
    "duration": 10,
    "start_time": "2024-08-14T19:53:28.257Z"
   },
   {
    "duration": 9,
    "start_time": "2024-08-14T19:54:54.565Z"
   },
   {
    "duration": 14,
    "start_time": "2024-08-14T19:55:03.599Z"
   },
   {
    "duration": 5,
    "start_time": "2024-08-14T19:56:10.358Z"
   },
   {
    "duration": 12,
    "start_time": "2024-08-14T19:56:13.527Z"
   },
   {
    "duration": 6,
    "start_time": "2024-08-14T20:19:01.187Z"
   },
   {
    "duration": 11,
    "start_time": "2024-08-14T20:19:05.944Z"
   },
   {
    "duration": 17,
    "start_time": "2024-08-14T20:19:21.466Z"
   },
   {
    "duration": 10,
    "start_time": "2024-08-14T20:20:10.196Z"
   },
   {
    "duration": 5,
    "start_time": "2024-08-14T20:22:20.695Z"
   },
   {
    "duration": 13,
    "start_time": "2024-08-14T20:22:22.174Z"
   },
   {
    "duration": 4,
    "start_time": "2024-08-14T20:22:30.295Z"
   },
   {
    "duration": 12,
    "start_time": "2024-08-14T20:22:32.321Z"
   },
   {
    "duration": 7,
    "start_time": "2024-08-14T20:24:37.578Z"
   },
   {
    "duration": 9,
    "start_time": "2024-08-14T20:24:38.297Z"
   },
   {
    "duration": 5,
    "start_time": "2024-08-14T20:25:53.159Z"
   },
   {
    "duration": 10,
    "start_time": "2024-08-14T20:25:53.868Z"
   },
   {
    "duration": 5,
    "start_time": "2024-08-14T20:26:34.034Z"
   },
   {
    "duration": 14,
    "start_time": "2024-08-14T20:26:34.704Z"
   },
   {
    "duration": 6,
    "start_time": "2024-08-14T20:35:06.529Z"
   },
   {
    "duration": 10,
    "start_time": "2024-08-14T20:35:07.577Z"
   },
   {
    "duration": 16,
    "start_time": "2024-08-14T20:35:18.740Z"
   },
   {
    "duration": 9,
    "start_time": "2024-08-14T20:35:42.286Z"
   },
   {
    "duration": 13,
    "start_time": "2024-08-14T20:37:29.589Z"
   },
   {
    "duration": 13,
    "start_time": "2024-08-14T20:38:03.415Z"
   },
   {
    "duration": 5,
    "start_time": "2024-08-14T20:54:25.382Z"
   },
   {
    "duration": 3,
    "start_time": "2024-08-14T20:55:06.418Z"
   },
   {
    "duration": 4,
    "start_time": "2024-08-14T20:55:19.315Z"
   },
   {
    "duration": 75,
    "start_time": "2024-08-14T20:56:15.841Z"
   },
   {
    "duration": 4,
    "start_time": "2024-08-14T20:57:59.995Z"
   },
   {
    "duration": 4,
    "start_time": "2024-08-14T20:58:00.885Z"
   },
   {
    "duration": 85,
    "start_time": "2024-08-14T20:58:02.078Z"
   },
   {
    "duration": 3,
    "start_time": "2024-08-14T20:58:50.166Z"
   },
   {
    "duration": 4,
    "start_time": "2024-08-14T20:58:54.219Z"
   },
   {
    "duration": 5,
    "start_time": "2024-08-14T20:58:54.831Z"
   },
   {
    "duration": 69,
    "start_time": "2024-08-14T20:58:55.591Z"
   },
   {
    "duration": 3,
    "start_time": "2024-08-14T20:59:05.103Z"
   },
   {
    "duration": 3,
    "start_time": "2024-08-14T20:59:22.580Z"
   },
   {
    "duration": 4,
    "start_time": "2024-08-14T20:59:24.714Z"
   },
   {
    "duration": 9,
    "start_time": "2024-08-14T20:59:25.386Z"
   },
   {
    "duration": 4,
    "start_time": "2024-08-14T20:59:26.135Z"
   },
   {
    "duration": 3,
    "start_time": "2024-08-14T20:59:27.053Z"
   },
   {
    "duration": 1250,
    "start_time": "2024-08-14T20:59:27.700Z"
   },
   {
    "duration": 1230,
    "start_time": "2024-08-14T20:59:41.145Z"
   },
   {
    "duration": 1216,
    "start_time": "2024-08-14T21:05:14.193Z"
   },
   {
    "duration": 3,
    "start_time": "2024-08-14T21:09:30.388Z"
   },
   {
    "duration": 13,
    "start_time": "2024-08-14T21:09:32.114Z"
   },
   {
    "duration": 13,
    "start_time": "2024-08-14T21:09:52.482Z"
   },
   {
    "duration": 4,
    "start_time": "2024-08-14T21:11:02.561Z"
   },
   {
    "duration": 1212,
    "start_time": "2024-08-14T21:11:03.270Z"
   },
   {
    "duration": 3,
    "start_time": "2024-08-14T21:11:47.350Z"
   },
   {
    "duration": 1155,
    "start_time": "2024-08-14T21:11:48.306Z"
   },
   {
    "duration": 1171,
    "start_time": "2024-08-14T21:12:02.714Z"
   },
   {
    "duration": 4,
    "start_time": "2024-08-14T21:12:59.053Z"
   },
   {
    "duration": 1203,
    "start_time": "2024-08-14T21:12:59.658Z"
   },
   {
    "duration": 1129,
    "start_time": "2024-08-14T21:13:13.132Z"
   },
   {
    "duration": 1219,
    "start_time": "2024-08-14T21:13:51.216Z"
   },
   {
    "duration": 1219,
    "start_time": "2024-08-14T21:14:25.074Z"
   },
   {
    "duration": 4,
    "start_time": "2024-08-14T21:17:24.952Z"
   },
   {
    "duration": 1229,
    "start_time": "2024-08-14T21:17:26.455Z"
   },
   {
    "duration": 3,
    "start_time": "2024-08-14T21:19:31.030Z"
   },
   {
    "duration": 1189,
    "start_time": "2024-08-14T21:19:33.485Z"
   },
   {
    "duration": 4,
    "start_time": "2024-08-14T21:19:43.897Z"
   },
   {
    "duration": 1197,
    "start_time": "2024-08-14T21:19:44.414Z"
   },
   {
    "duration": 3,
    "start_time": "2024-08-14T21:23:56.029Z"
   },
   {
    "duration": 4,
    "start_time": "2024-08-14T21:23:56.653Z"
   },
   {
    "duration": 1216,
    "start_time": "2024-08-14T21:23:57.671Z"
   },
   {
    "duration": 1193,
    "start_time": "2024-08-14T21:24:02.698Z"
   },
   {
    "duration": 1158,
    "start_time": "2024-08-14T21:24:05.050Z"
   },
   {
    "duration": 3,
    "start_time": "2024-08-14T21:26:14.318Z"
   },
   {
    "duration": 4,
    "start_time": "2024-08-14T21:26:18.132Z"
   },
   {
    "duration": 4,
    "start_time": "2024-08-14T21:26:20.964Z"
   },
   {
    "duration": 1203,
    "start_time": "2024-08-14T21:26:22.449Z"
   },
   {
    "duration": 1175,
    "start_time": "2024-08-14T21:26:26.647Z"
   },
   {
    "duration": 1186,
    "start_time": "2024-08-14T21:26:28.735Z"
   },
   {
    "duration": 2210,
    "start_time": "2024-08-15T20:29:03.260Z"
   },
   {
    "duration": 3,
    "start_time": "2024-08-15T20:29:05.472Z"
   },
   {
    "duration": 681,
    "start_time": "2024-08-15T20:29:05.476Z"
   },
   {
    "duration": 13,
    "start_time": "2024-08-15T20:29:06.159Z"
   },
   {
    "duration": 45,
    "start_time": "2024-08-15T20:29:06.174Z"
   },
   {
    "duration": 579,
    "start_time": "2024-08-15T20:29:06.221Z"
   },
   {
    "duration": 11,
    "start_time": "2024-08-15T20:29:06.801Z"
   },
   {
    "duration": 60,
    "start_time": "2024-08-15T20:29:06.814Z"
   },
   {
    "duration": 552,
    "start_time": "2024-08-15T20:29:06.875Z"
   },
   {
    "duration": 9,
    "start_time": "2024-08-15T20:29:07.428Z"
   },
   {
    "duration": 40,
    "start_time": "2024-08-15T20:29:07.438Z"
   },
   {
    "duration": 87,
    "start_time": "2024-08-15T20:29:07.480Z"
   },
   {
    "duration": 13,
    "start_time": "2024-08-15T20:29:07.569Z"
   },
   {
    "duration": 59,
    "start_time": "2024-08-15T20:29:07.585Z"
   },
   {
    "duration": 547,
    "start_time": "2024-08-15T20:29:07.645Z"
   },
   {
    "duration": 6,
    "start_time": "2024-08-15T20:29:08.193Z"
   },
   {
    "duration": 69,
    "start_time": "2024-08-15T20:29:08.200Z"
   },
   {
    "duration": 4,
    "start_time": "2024-08-15T20:29:08.270Z"
   },
   {
    "duration": 180,
    "start_time": "2024-08-15T20:29:08.275Z"
   },
   {
    "duration": 96,
    "start_time": "2024-08-15T20:29:08.458Z"
   },
   {
    "duration": 5,
    "start_time": "2024-08-15T20:29:08.556Z"
   },
   {
    "duration": 94,
    "start_time": "2024-08-15T20:29:08.562Z"
   },
   {
    "duration": 11,
    "start_time": "2024-08-15T20:29:08.657Z"
   },
   {
    "duration": 4,
    "start_time": "2024-08-15T20:29:08.670Z"
   },
   {
    "duration": 3,
    "start_time": "2024-08-15T20:29:08.676Z"
   },
   {
    "duration": 2,
    "start_time": "2024-08-15T20:29:08.681Z"
   },
   {
    "duration": 17,
    "start_time": "2024-08-15T20:29:08.685Z"
   },
   {
    "duration": 7,
    "start_time": "2024-08-15T20:29:08.704Z"
   },
   {
    "duration": 10,
    "start_time": "2024-08-15T20:29:08.712Z"
   },
   {
    "duration": 9,
    "start_time": "2024-08-15T20:29:08.723Z"
   },
   {
    "duration": 3,
    "start_time": "2024-08-15T20:29:08.734Z"
   },
   {
    "duration": 14,
    "start_time": "2024-08-15T20:29:08.738Z"
   },
   {
    "duration": 1092,
    "start_time": "2024-08-15T20:29:08.753Z"
   },
   {
    "duration": 1072,
    "start_time": "2024-08-15T20:29:09.847Z"
   },
   {
    "duration": 1093,
    "start_time": "2024-08-15T20:29:10.921Z"
   },
   {
    "duration": 2971,
    "start_time": "2024-08-15T20:30:38.497Z"
   },
   {
    "duration": 17,
    "start_time": "2024-08-15T20:31:09.814Z"
   },
   {
    "duration": 4,
    "start_time": "2024-08-15T20:31:17.456Z"
   },
   {
    "duration": 6,
    "start_time": "2024-08-15T20:31:23.229Z"
   },
   {
    "duration": 6,
    "start_time": "2024-08-15T20:31:38.443Z"
   },
   {
    "duration": 5,
    "start_time": "2024-08-15T20:31:45.546Z"
   },
   {
    "duration": 5,
    "start_time": "2024-08-15T20:31:48.893Z"
   },
   {
    "duration": 1495,
    "start_time": "2024-08-15T20:32:01.639Z"
   },
   {
    "duration": 4,
    "start_time": "2024-08-15T20:32:47.595Z"
   },
   {
    "duration": 1126,
    "start_time": "2024-08-15T20:32:50.099Z"
   },
   {
    "duration": 1158,
    "start_time": "2024-08-15T20:32:54.324Z"
   },
   {
    "duration": 1154,
    "start_time": "2024-08-15T20:32:57.083Z"
   },
   {
    "duration": 4,
    "start_time": "2024-08-15T20:33:33.722Z"
   },
   {
    "duration": 1128,
    "start_time": "2024-08-15T20:33:37.379Z"
   },
   {
    "duration": 4,
    "start_time": "2024-08-15T20:33:47.216Z"
   },
   {
    "duration": 1091,
    "start_time": "2024-08-15T20:33:49.440Z"
   },
   {
    "duration": 3,
    "start_time": "2024-08-15T20:33:55.493Z"
   },
   {
    "duration": 3,
    "start_time": "2024-08-15T20:33:58.902Z"
   },
   {
    "duration": 1099,
    "start_time": "2024-08-15T20:34:01.011Z"
   },
   {
    "duration": 1121,
    "start_time": "2024-08-15T20:34:02.111Z"
   },
   {
    "duration": 1140,
    "start_time": "2024-08-15T20:34:03.233Z"
   },
   {
    "duration": 1715,
    "start_time": "2024-09-11T17:45:31.089Z"
   },
   {
    "duration": 3,
    "start_time": "2024-09-11T17:45:37.545Z"
   },
   {
    "duration": 714,
    "start_time": "2024-09-11T17:45:38.833Z"
   },
   {
    "duration": 16,
    "start_time": "2024-09-11T17:45:41.661Z"
   },
   {
    "duration": 50,
    "start_time": "2024-09-11T17:45:44.828Z"
   },
   {
    "duration": 599,
    "start_time": "2024-09-11T17:45:45.682Z"
   },
   {
    "duration": 10,
    "start_time": "2024-09-11T17:45:48.700Z"
   },
   {
    "duration": 9,
    "start_time": "2024-09-11T17:45:52.284Z"
   },
   {
    "duration": 50,
    "start_time": "2024-09-11T17:45:53.667Z"
   },
   {
    "duration": 165,
    "start_time": "2024-09-11T17:45:54.217Z"
   },
   {
    "duration": 10,
    "start_time": "2024-09-11T17:45:54.729Z"
   },
   {
    "duration": 46,
    "start_time": "2024-09-11T17:45:55.228Z"
   },
   {
    "duration": 616,
    "start_time": "2024-09-11T17:45:56.129Z"
   },
   {
    "duration": 9,
    "start_time": "2024-09-11T17:45:56.747Z"
   },
   {
    "duration": 51,
    "start_time": "2024-09-11T17:45:57.033Z"
   },
   {
    "duration": 98,
    "start_time": "2024-09-11T17:45:57.576Z"
   },
   {
    "duration": 13,
    "start_time": "2024-09-11T17:45:58.541Z"
   },
   {
    "duration": 13,
    "start_time": "2024-09-11T17:45:59.005Z"
   },
   {
    "duration": 628,
    "start_time": "2024-09-11T17:45:59.515Z"
   },
   {
    "duration": 8,
    "start_time": "2024-09-11T17:46:02.434Z"
   },
   {
    "duration": 71,
    "start_time": "2024-09-11T17:46:03.457Z"
   },
   {
    "duration": 5,
    "start_time": "2024-09-11T17:46:05.395Z"
   },
   {
    "duration": 172,
    "start_time": "2024-09-11T17:46:07.230Z"
   },
   {
    "duration": 4,
    "start_time": "2024-09-11T17:46:09.467Z"
   },
   {
    "duration": 4,
    "start_time": "2024-09-11T17:46:10.091Z"
   },
   {
    "duration": 5,
    "start_time": "2024-09-11T17:46:10.697Z"
   },
   {
    "duration": 4,
    "start_time": "2024-09-11T17:46:13.385Z"
   },
   {
    "duration": 4,
    "start_time": "2024-09-11T17:46:16.962Z"
   },
   {
    "duration": 3,
    "start_time": "2024-09-11T17:46:18.342Z"
   },
   {
    "duration": 3,
    "start_time": "2024-09-11T17:46:18.889Z"
   },
   {
    "duration": 7,
    "start_time": "2024-09-11T17:46:19.955Z"
   },
   {
    "duration": 3,
    "start_time": "2024-09-11T17:46:20.637Z"
   },
   {
    "duration": 10,
    "start_time": "2024-09-11T17:46:21.897Z"
   },
   {
    "duration": 3,
    "start_time": "2024-09-11T17:46:22.755Z"
   },
   {
    "duration": 5,
    "start_time": "2024-09-11T17:46:26.178Z"
   },
   {
    "duration": 4,
    "start_time": "2024-09-11T17:46:29.181Z"
   },
   {
    "duration": 128,
    "start_time": "2024-09-11T17:46:33.439Z"
   },
   {
    "duration": 10,
    "start_time": "2024-09-11T17:49:17.812Z"
   },
   {
    "duration": 5,
    "start_time": "2024-09-11T17:55:55.506Z"
   },
   {
    "duration": 4,
    "start_time": "2024-09-11T17:55:57.346Z"
   },
   {
    "duration": 1268,
    "start_time": "2024-09-11T17:56:03.114Z"
   },
   {
    "duration": 4,
    "start_time": "2024-09-11T17:57:53.141Z"
   },
   {
    "duration": 5,
    "start_time": "2024-09-11T17:58:18.030Z"
   },
   {
    "duration": 1450,
    "start_time": "2024-09-11T17:58:22.199Z"
   },
   {
    "duration": 4,
    "start_time": "2024-09-11T18:01:13.229Z"
   },
   {
    "duration": 4,
    "start_time": "2024-09-11T18:01:14.860Z"
   },
   {
    "duration": 1265,
    "start_time": "2024-09-11T18:01:18.787Z"
   },
   {
    "duration": 5,
    "start_time": "2024-09-11T18:02:12.877Z"
   },
   {
    "duration": 1285,
    "start_time": "2024-09-11T18:02:21.622Z"
   },
   {
    "duration": 1277,
    "start_time": "2024-09-11T18:03:03.618Z"
   },
   {
    "duration": 1249,
    "start_time": "2024-09-11T18:03:04.964Z"
   },
   {
    "duration": 1274,
    "start_time": "2024-09-11T18:03:13.498Z"
   },
   {
    "duration": 5,
    "start_time": "2024-09-11T18:08:04.318Z"
   },
   {
    "duration": 1309,
    "start_time": "2024-09-11T18:08:05.716Z"
   },
   {
    "duration": 1290,
    "start_time": "2024-09-11T18:08:15.683Z"
   },
   {
    "duration": 1354,
    "start_time": "2024-09-11T18:08:17.830Z"
   },
   {
    "duration": 4,
    "start_time": "2024-09-11T18:09:45.011Z"
   },
   {
    "duration": 5,
    "start_time": "2024-09-11T18:09:52.400Z"
   },
   {
    "duration": 1324,
    "start_time": "2024-09-11T18:09:57.920Z"
   },
   {
    "duration": 2178,
    "start_time": "2024-09-12T18:00:34.340Z"
   },
   {
    "duration": 3,
    "start_time": "2024-09-12T18:00:36.520Z"
   },
   {
    "duration": 737,
    "start_time": "2024-09-12T18:00:36.525Z"
   },
   {
    "duration": 15,
    "start_time": "2024-09-12T18:00:37.264Z"
   },
   {
    "duration": 172,
    "start_time": "2024-09-12T18:00:37.280Z"
   },
   {
    "duration": 596,
    "start_time": "2024-09-12T18:00:37.454Z"
   },
   {
    "duration": 9,
    "start_time": "2024-09-12T18:00:38.052Z"
   },
   {
    "duration": 59,
    "start_time": "2024-09-12T18:00:38.062Z"
   },
   {
    "duration": 570,
    "start_time": "2024-09-12T18:00:38.122Z"
   },
   {
    "duration": 9,
    "start_time": "2024-09-12T18:00:38.694Z"
   },
   {
    "duration": 53,
    "start_time": "2024-09-12T18:00:38.704Z"
   },
   {
    "duration": 97,
    "start_time": "2024-09-12T18:00:38.759Z"
   },
   {
    "duration": 13,
    "start_time": "2024-09-12T18:00:38.858Z"
   },
   {
    "duration": 13,
    "start_time": "2024-09-12T18:00:38.873Z"
   },
   {
    "duration": 611,
    "start_time": "2024-09-12T18:00:38.888Z"
   },
   {
    "duration": 4,
    "start_time": "2024-09-12T18:00:39.501Z"
   },
   {
    "duration": 85,
    "start_time": "2024-09-12T18:00:39.507Z"
   },
   {
    "duration": 4,
    "start_time": "2024-09-12T18:00:39.595Z"
   },
   {
    "duration": 228,
    "start_time": "2024-09-12T18:00:39.601Z"
   },
   {
    "duration": 97,
    "start_time": "2024-09-12T18:00:39.831Z"
   },
   {
    "duration": 97,
    "start_time": "2024-09-12T18:00:39.931Z"
   },
   {
    "duration": 45,
    "start_time": "2024-09-12T18:00:40.029Z"
   },
   {
    "duration": 26,
    "start_time": "2024-09-12T18:00:40.076Z"
   },
   {
    "duration": 25,
    "start_time": "2024-09-12T18:00:40.104Z"
   },
   {
    "duration": 56,
    "start_time": "2024-09-12T18:00:40.131Z"
   },
   {
    "duration": 59,
    "start_time": "2024-09-12T18:00:40.189Z"
   },
   {
    "duration": 26,
    "start_time": "2024-09-12T18:00:40.250Z"
   },
   {
    "duration": 31,
    "start_time": "2024-09-12T18:00:40.279Z"
   },
   {
    "duration": 42,
    "start_time": "2024-09-12T18:00:40.311Z"
   },
   {
    "duration": 35,
    "start_time": "2024-09-12T18:00:40.355Z"
   },
   {
    "duration": 22,
    "start_time": "2024-09-12T18:00:40.391Z"
   },
   {
    "duration": 24,
    "start_time": "2024-09-12T18:00:40.415Z"
   },
   {
    "duration": 1650,
    "start_time": "2024-09-12T18:00:40.441Z"
   },
   {
    "duration": 1572,
    "start_time": "2024-09-12T18:00:42.093Z"
   },
   {
    "duration": 1642,
    "start_time": "2024-09-12T18:00:43.667Z"
   },
   {
    "duration": 4,
    "start_time": "2024-09-12T18:00:57.372Z"
   },
   {
    "duration": 1249,
    "start_time": "2024-09-12T18:01:00.188Z"
   },
   {
    "duration": 1205,
    "start_time": "2024-09-12T18:01:01.522Z"
   },
   {
    "duration": 1211,
    "start_time": "2024-09-12T18:01:02.729Z"
   }
  ],
  "kernelspec": {
   "display_name": "Python 3 (ipykernel)",
   "language": "python",
   "name": "python3"
  },
  "language_info": {
   "codemirror_mode": {
    "name": "ipython",
    "version": 3
   },
   "file_extension": ".py",
   "mimetype": "text/x-python",
   "name": "python",
   "nbconvert_exporter": "python",
   "pygments_lexer": "ipython3",
   "version": "3.9.7"
  },
  "toc": {
   "base_numbering": 1,
   "nav_menu": {},
   "number_sections": true,
   "sideBar": true,
   "skip_h1_title": true,
   "title_cell": "Table of Contents",
   "title_sidebar": "Contents",
   "toc_cell": false,
   "toc_position": {},
   "toc_section_display": true,
   "toc_window_display": false
  }
 },
 "nbformat": 4,
 "nbformat_minor": 2
}
