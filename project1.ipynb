{
 "cells": [
  {
   "cell_type": "markdown",
   "metadata": {},
   "source": [
    "Вы работаете в интернет-магазине «Стримчик», который продаёт по всему миру компьютерные игры. Из открытых источников доступны исторические данные о продажах игр, оценки пользователей и экспертов, жанры и платформы. Нужно выявить определяющие успешность игры закономерности. Это позволит сделать ставку на потенциально популярный продукт и спланировать рекламные кампании.\n",
    "Цель исследования:\n",
    "1. Изучить данные для анализа и построения гипотез.\n",
    "2. Проанализировать данные пользователей и сделать выводы: сколько игр выпускалось в разные годы, как менялись продажи по платформам, какие платформы лидируют по продажам, как влияют на продажи внутри одной популярной платформы отзывы пользователей и критиков, соотнесьти выводы с продажами игр на других платформах, посмотрить на общее распределение игр по жанрам какие из них самые прибыльные, выделяют ли жанры с высокими и низкими продажами. \n",
    "5. Проверить следующие гипотезы: \n",
    "    \n",
    "    5.1 Средние пользовательские рейтинги платформ Xbox One и PC одинаковые. \n",
    "    \n",
    "    5.2 Средние пользовательские рейтинги жанров Action и Sports разные. \n",
    "    \n",
    "Ход исследования:\n",
    "    \n",
    "1. Обзор данных.\n",
    "2. Подготовка данных.\n",
    "3. Исследовательский анализ данных.\n",
    "4. Портрет пользователя каждого региона.\n",
    "5. Проверка гипотез.    \n",
    "6. Написание общего вывода. "
   ]
  },
  {
   "cell_type": "code",
   "execution_count": 1,
   "metadata": {},
   "outputs": [],
   "source": [
    "import pandas as pd\n",
    "import numpy as np\n",
    "from scipy import stats as st\n",
    "from scipy.stats import binom\n",
    "import matplotlib.pyplot as plt\n",
    "import seaborn as sns"
   ]
  },
  {
   "cell_type": "markdown",
   "metadata": {},
   "source": [
    "## Шаг 1. Откройте файл с данными и изучите общую информацию"
   ]
  },
  {
   "cell_type": "markdown",
   "metadata": {},
   "source": [
    "Загрузим датафрейм в переменную 'games'."
   ]
  },
  {
   "cell_type": "code",
   "execution_count": 2,
   "metadata": {},
   "outputs": [],
   "source": [
    "games = pd.read_csv('/datasets/games.csv')"
   ]
  },
  {
   "cell_type": "code",
   "execution_count": 3,
   "metadata": {},
   "outputs": [
    {
     "data": {
      "text/html": [
       "<div>\n",
       "<style scoped>\n",
       "    .dataframe tbody tr th:only-of-type {\n",
       "        vertical-align: middle;\n",
       "    }\n",
       "\n",
       "    .dataframe tbody tr th {\n",
       "        vertical-align: top;\n",
       "    }\n",
       "\n",
       "    .dataframe thead th {\n",
       "        text-align: right;\n",
       "    }\n",
       "</style>\n",
       "<table border=\"1\" class=\"dataframe\">\n",
       "  <thead>\n",
       "    <tr style=\"text-align: right;\">\n",
       "      <th></th>\n",
       "      <th>Name</th>\n",
       "      <th>Platform</th>\n",
       "      <th>Year_of_Release</th>\n",
       "      <th>Genre</th>\n",
       "      <th>NA_sales</th>\n",
       "      <th>EU_sales</th>\n",
       "      <th>JP_sales</th>\n",
       "      <th>Other_sales</th>\n",
       "      <th>Critic_Score</th>\n",
       "      <th>User_Score</th>\n",
       "      <th>Rating</th>\n",
       "    </tr>\n",
       "  </thead>\n",
       "  <tbody>\n",
       "    <tr>\n",
       "      <th>0</th>\n",
       "      <td>Wii Sports</td>\n",
       "      <td>Wii</td>\n",
       "      <td>2006.0</td>\n",
       "      <td>Sports</td>\n",
       "      <td>41.36</td>\n",
       "      <td>28.96</td>\n",
       "      <td>3.77</td>\n",
       "      <td>8.45</td>\n",
       "      <td>76.0</td>\n",
       "      <td>8</td>\n",
       "      <td>E</td>\n",
       "    </tr>\n",
       "    <tr>\n",
       "      <th>1</th>\n",
       "      <td>Super Mario Bros.</td>\n",
       "      <td>NES</td>\n",
       "      <td>1985.0</td>\n",
       "      <td>Platform</td>\n",
       "      <td>29.08</td>\n",
       "      <td>3.58</td>\n",
       "      <td>6.81</td>\n",
       "      <td>0.77</td>\n",
       "      <td>NaN</td>\n",
       "      <td>NaN</td>\n",
       "      <td>NaN</td>\n",
       "    </tr>\n",
       "    <tr>\n",
       "      <th>2</th>\n",
       "      <td>Mario Kart Wii</td>\n",
       "      <td>Wii</td>\n",
       "      <td>2008.0</td>\n",
       "      <td>Racing</td>\n",
       "      <td>15.68</td>\n",
       "      <td>12.76</td>\n",
       "      <td>3.79</td>\n",
       "      <td>3.29</td>\n",
       "      <td>82.0</td>\n",
       "      <td>8.3</td>\n",
       "      <td>E</td>\n",
       "    </tr>\n",
       "    <tr>\n",
       "      <th>3</th>\n",
       "      <td>Wii Sports Resort</td>\n",
       "      <td>Wii</td>\n",
       "      <td>2009.0</td>\n",
       "      <td>Sports</td>\n",
       "      <td>15.61</td>\n",
       "      <td>10.93</td>\n",
       "      <td>3.28</td>\n",
       "      <td>2.95</td>\n",
       "      <td>80.0</td>\n",
       "      <td>8</td>\n",
       "      <td>E</td>\n",
       "    </tr>\n",
       "    <tr>\n",
       "      <th>4</th>\n",
       "      <td>Pokemon Red/Pokemon Blue</td>\n",
       "      <td>GB</td>\n",
       "      <td>1996.0</td>\n",
       "      <td>Role-Playing</td>\n",
       "      <td>11.27</td>\n",
       "      <td>8.89</td>\n",
       "      <td>10.22</td>\n",
       "      <td>1.00</td>\n",
       "      <td>NaN</td>\n",
       "      <td>NaN</td>\n",
       "      <td>NaN</td>\n",
       "    </tr>\n",
       "    <tr>\n",
       "      <th>5</th>\n",
       "      <td>Tetris</td>\n",
       "      <td>GB</td>\n",
       "      <td>1989.0</td>\n",
       "      <td>Puzzle</td>\n",
       "      <td>23.20</td>\n",
       "      <td>2.26</td>\n",
       "      <td>4.22</td>\n",
       "      <td>0.58</td>\n",
       "      <td>NaN</td>\n",
       "      <td>NaN</td>\n",
       "      <td>NaN</td>\n",
       "    </tr>\n",
       "    <tr>\n",
       "      <th>6</th>\n",
       "      <td>New Super Mario Bros.</td>\n",
       "      <td>DS</td>\n",
       "      <td>2006.0</td>\n",
       "      <td>Platform</td>\n",
       "      <td>11.28</td>\n",
       "      <td>9.14</td>\n",
       "      <td>6.50</td>\n",
       "      <td>2.88</td>\n",
       "      <td>89.0</td>\n",
       "      <td>8.5</td>\n",
       "      <td>E</td>\n",
       "    </tr>\n",
       "    <tr>\n",
       "      <th>7</th>\n",
       "      <td>Wii Play</td>\n",
       "      <td>Wii</td>\n",
       "      <td>2006.0</td>\n",
       "      <td>Misc</td>\n",
       "      <td>13.96</td>\n",
       "      <td>9.18</td>\n",
       "      <td>2.93</td>\n",
       "      <td>2.84</td>\n",
       "      <td>58.0</td>\n",
       "      <td>6.6</td>\n",
       "      <td>E</td>\n",
       "    </tr>\n",
       "    <tr>\n",
       "      <th>8</th>\n",
       "      <td>New Super Mario Bros. Wii</td>\n",
       "      <td>Wii</td>\n",
       "      <td>2009.0</td>\n",
       "      <td>Platform</td>\n",
       "      <td>14.44</td>\n",
       "      <td>6.94</td>\n",
       "      <td>4.70</td>\n",
       "      <td>2.24</td>\n",
       "      <td>87.0</td>\n",
       "      <td>8.4</td>\n",
       "      <td>E</td>\n",
       "    </tr>\n",
       "    <tr>\n",
       "      <th>9</th>\n",
       "      <td>Duck Hunt</td>\n",
       "      <td>NES</td>\n",
       "      <td>1984.0</td>\n",
       "      <td>Shooter</td>\n",
       "      <td>26.93</td>\n",
       "      <td>0.63</td>\n",
       "      <td>0.28</td>\n",
       "      <td>0.47</td>\n",
       "      <td>NaN</td>\n",
       "      <td>NaN</td>\n",
       "      <td>NaN</td>\n",
       "    </tr>\n",
       "  </tbody>\n",
       "</table>\n",
       "</div>"
      ],
      "text/plain": [
       "                        Name Platform  Year_of_Release         Genre  \\\n",
       "0                 Wii Sports      Wii           2006.0        Sports   \n",
       "1          Super Mario Bros.      NES           1985.0      Platform   \n",
       "2             Mario Kart Wii      Wii           2008.0        Racing   \n",
       "3          Wii Sports Resort      Wii           2009.0        Sports   \n",
       "4   Pokemon Red/Pokemon Blue       GB           1996.0  Role-Playing   \n",
       "5                     Tetris       GB           1989.0        Puzzle   \n",
       "6      New Super Mario Bros.       DS           2006.0      Platform   \n",
       "7                   Wii Play      Wii           2006.0          Misc   \n",
       "8  New Super Mario Bros. Wii      Wii           2009.0      Platform   \n",
       "9                  Duck Hunt      NES           1984.0       Shooter   \n",
       "\n",
       "   NA_sales  EU_sales  JP_sales  Other_sales  Critic_Score User_Score Rating  \n",
       "0     41.36     28.96      3.77         8.45          76.0          8      E  \n",
       "1     29.08      3.58      6.81         0.77           NaN        NaN    NaN  \n",
       "2     15.68     12.76      3.79         3.29          82.0        8.3      E  \n",
       "3     15.61     10.93      3.28         2.95          80.0          8      E  \n",
       "4     11.27      8.89     10.22         1.00           NaN        NaN    NaN  \n",
       "5     23.20      2.26      4.22         0.58           NaN        NaN    NaN  \n",
       "6     11.28      9.14      6.50         2.88          89.0        8.5      E  \n",
       "7     13.96      9.18      2.93         2.84          58.0        6.6      E  \n",
       "8     14.44      6.94      4.70         2.24          87.0        8.4      E  \n",
       "9     26.93      0.63      0.28         0.47           NaN        NaN    NaN  "
      ]
     },
     "execution_count": 3,
     "metadata": {},
     "output_type": "execute_result"
    }
   ],
   "source": [
    "games.head(10)"
   ]
  },
  {
   "cell_type": "code",
   "execution_count": 4,
   "metadata": {},
   "outputs": [
    {
     "name": "stdout",
     "output_type": "stream",
     "text": [
      "<class 'pandas.core.frame.DataFrame'>\n",
      "RangeIndex: 16715 entries, 0 to 16714\n",
      "Data columns (total 11 columns):\n",
      " #   Column           Non-Null Count  Dtype  \n",
      "---  ------           --------------  -----  \n",
      " 0   Name             16713 non-null  object \n",
      " 1   Platform         16715 non-null  object \n",
      " 2   Year_of_Release  16446 non-null  float64\n",
      " 3   Genre            16713 non-null  object \n",
      " 4   NA_sales         16715 non-null  float64\n",
      " 5   EU_sales         16715 non-null  float64\n",
      " 6   JP_sales         16715 non-null  float64\n",
      " 7   Other_sales      16715 non-null  float64\n",
      " 8   Critic_Score     8137 non-null   float64\n",
      " 9   User_Score       10014 non-null  object \n",
      " 10  Rating           9949 non-null   object \n",
      "dtypes: float64(6), object(5)\n",
      "memory usage: 1.4+ MB\n"
     ]
    }
   ],
   "source": [
    "games.info()"
   ]
  },
  {
   "cell_type": "markdown",
   "metadata": {},
   "source": [
    "**Промежуточный вывод**\n",
    "\n",
    "Считали CSV-файлы с данными с помощью библиотеки pandas и сохранили их в датафреймы. Предварительный анализ показывает что в данных присутствуют пропуски, некорректные типы данных.\n",
    "\n",
    "games содержит:\n",
    "\n",
    "- Name — название игры\n",
    "- Platform — платформа\n",
    "- Year_of_Release — год выпуска\n",
    "- Genre — жанр игры\n",
    "- NA_sales — продажи в Северной Америке\n",
    "- EU_sales — продажи в Европе\n",
    "- JP_sales — продажи в Японии\n",
    "- Other_sales — продажи в других странах\n",
    "- Critic_Score — оценка критиков\n",
    "- User_Score — оценка пользователей\n",
    "- Rating — рейтинг от организации ESRB"
   ]
  },
  {
   "cell_type": "markdown",
   "metadata": {},
   "source": [
    "## Шаг 2. Подготовка данных "
   ]
  },
  {
   "cell_type": "markdown",
   "metadata": {},
   "source": [
    "### Замените названия столбцов (приведите к нижнему регистру)"
   ]
  },
  {
   "cell_type": "code",
   "execution_count": 5,
   "metadata": {},
   "outputs": [
    {
     "data": {
      "text/plain": [
       "Index(['name', 'platform', 'year_of_release', 'genre', 'na_sales', 'eu_sales',\n",
       "       'jp_sales', 'other_sales', 'critic_score', 'user_score', 'rating'],\n",
       "      dtype='object')"
      ]
     },
     "execution_count": 5,
     "metadata": {},
     "output_type": "execute_result"
    }
   ],
   "source": [
    "games.columns = games.columns.str.lower()\n",
    "games.columns"
   ]
  },
  {
   "cell_type": "code",
   "execution_count": 6,
   "metadata": {},
   "outputs": [
    {
     "data": {
      "text/html": [
       "<div>\n",
       "<style scoped>\n",
       "    .dataframe tbody tr th:only-of-type {\n",
       "        vertical-align: middle;\n",
       "    }\n",
       "\n",
       "    .dataframe tbody tr th {\n",
       "        vertical-align: top;\n",
       "    }\n",
       "\n",
       "    .dataframe thead th {\n",
       "        text-align: right;\n",
       "    }\n",
       "</style>\n",
       "<table border=\"1\" class=\"dataframe\">\n",
       "  <thead>\n",
       "    <tr style=\"text-align: right;\">\n",
       "      <th></th>\n",
       "      <th>name</th>\n",
       "      <th>platform</th>\n",
       "      <th>year_of_release</th>\n",
       "      <th>genre</th>\n",
       "      <th>na_sales</th>\n",
       "      <th>eu_sales</th>\n",
       "      <th>jp_sales</th>\n",
       "      <th>other_sales</th>\n",
       "      <th>critic_score</th>\n",
       "      <th>user_score</th>\n",
       "      <th>rating</th>\n",
       "    </tr>\n",
       "  </thead>\n",
       "  <tbody>\n",
       "    <tr>\n",
       "      <th>0</th>\n",
       "      <td>Wii Sports</td>\n",
       "      <td>Wii</td>\n",
       "      <td>2006.0</td>\n",
       "      <td>Sports</td>\n",
       "      <td>41.36</td>\n",
       "      <td>28.96</td>\n",
       "      <td>3.77</td>\n",
       "      <td>8.45</td>\n",
       "      <td>76.0</td>\n",
       "      <td>8</td>\n",
       "      <td>E</td>\n",
       "    </tr>\n",
       "    <tr>\n",
       "      <th>1</th>\n",
       "      <td>Super Mario Bros.</td>\n",
       "      <td>NES</td>\n",
       "      <td>1985.0</td>\n",
       "      <td>Platform</td>\n",
       "      <td>29.08</td>\n",
       "      <td>3.58</td>\n",
       "      <td>6.81</td>\n",
       "      <td>0.77</td>\n",
       "      <td>NaN</td>\n",
       "      <td>NaN</td>\n",
       "      <td>NaN</td>\n",
       "    </tr>\n",
       "    <tr>\n",
       "      <th>2</th>\n",
       "      <td>Mario Kart Wii</td>\n",
       "      <td>Wii</td>\n",
       "      <td>2008.0</td>\n",
       "      <td>Racing</td>\n",
       "      <td>15.68</td>\n",
       "      <td>12.76</td>\n",
       "      <td>3.79</td>\n",
       "      <td>3.29</td>\n",
       "      <td>82.0</td>\n",
       "      <td>8.3</td>\n",
       "      <td>E</td>\n",
       "    </tr>\n",
       "    <tr>\n",
       "      <th>3</th>\n",
       "      <td>Wii Sports Resort</td>\n",
       "      <td>Wii</td>\n",
       "      <td>2009.0</td>\n",
       "      <td>Sports</td>\n",
       "      <td>15.61</td>\n",
       "      <td>10.93</td>\n",
       "      <td>3.28</td>\n",
       "      <td>2.95</td>\n",
       "      <td>80.0</td>\n",
       "      <td>8</td>\n",
       "      <td>E</td>\n",
       "    </tr>\n",
       "    <tr>\n",
       "      <th>4</th>\n",
       "      <td>Pokemon Red/Pokemon Blue</td>\n",
       "      <td>GB</td>\n",
       "      <td>1996.0</td>\n",
       "      <td>Role-Playing</td>\n",
       "      <td>11.27</td>\n",
       "      <td>8.89</td>\n",
       "      <td>10.22</td>\n",
       "      <td>1.00</td>\n",
       "      <td>NaN</td>\n",
       "      <td>NaN</td>\n",
       "      <td>NaN</td>\n",
       "    </tr>\n",
       "    <tr>\n",
       "      <th>5</th>\n",
       "      <td>Tetris</td>\n",
       "      <td>GB</td>\n",
       "      <td>1989.0</td>\n",
       "      <td>Puzzle</td>\n",
       "      <td>23.20</td>\n",
       "      <td>2.26</td>\n",
       "      <td>4.22</td>\n",
       "      <td>0.58</td>\n",
       "      <td>NaN</td>\n",
       "      <td>NaN</td>\n",
       "      <td>NaN</td>\n",
       "    </tr>\n",
       "    <tr>\n",
       "      <th>6</th>\n",
       "      <td>New Super Mario Bros.</td>\n",
       "      <td>DS</td>\n",
       "      <td>2006.0</td>\n",
       "      <td>Platform</td>\n",
       "      <td>11.28</td>\n",
       "      <td>9.14</td>\n",
       "      <td>6.50</td>\n",
       "      <td>2.88</td>\n",
       "      <td>89.0</td>\n",
       "      <td>8.5</td>\n",
       "      <td>E</td>\n",
       "    </tr>\n",
       "    <tr>\n",
       "      <th>7</th>\n",
       "      <td>Wii Play</td>\n",
       "      <td>Wii</td>\n",
       "      <td>2006.0</td>\n",
       "      <td>Misc</td>\n",
       "      <td>13.96</td>\n",
       "      <td>9.18</td>\n",
       "      <td>2.93</td>\n",
       "      <td>2.84</td>\n",
       "      <td>58.0</td>\n",
       "      <td>6.6</td>\n",
       "      <td>E</td>\n",
       "    </tr>\n",
       "    <tr>\n",
       "      <th>8</th>\n",
       "      <td>New Super Mario Bros. Wii</td>\n",
       "      <td>Wii</td>\n",
       "      <td>2009.0</td>\n",
       "      <td>Platform</td>\n",
       "      <td>14.44</td>\n",
       "      <td>6.94</td>\n",
       "      <td>4.70</td>\n",
       "      <td>2.24</td>\n",
       "      <td>87.0</td>\n",
       "      <td>8.4</td>\n",
       "      <td>E</td>\n",
       "    </tr>\n",
       "    <tr>\n",
       "      <th>9</th>\n",
       "      <td>Duck Hunt</td>\n",
       "      <td>NES</td>\n",
       "      <td>1984.0</td>\n",
       "      <td>Shooter</td>\n",
       "      <td>26.93</td>\n",
       "      <td>0.63</td>\n",
       "      <td>0.28</td>\n",
       "      <td>0.47</td>\n",
       "      <td>NaN</td>\n",
       "      <td>NaN</td>\n",
       "      <td>NaN</td>\n",
       "    </tr>\n",
       "  </tbody>\n",
       "</table>\n",
       "</div>"
      ],
      "text/plain": [
       "                        name platform  year_of_release         genre  \\\n",
       "0                 Wii Sports      Wii           2006.0        Sports   \n",
       "1          Super Mario Bros.      NES           1985.0      Platform   \n",
       "2             Mario Kart Wii      Wii           2008.0        Racing   \n",
       "3          Wii Sports Resort      Wii           2009.0        Sports   \n",
       "4   Pokemon Red/Pokemon Blue       GB           1996.0  Role-Playing   \n",
       "5                     Tetris       GB           1989.0        Puzzle   \n",
       "6      New Super Mario Bros.       DS           2006.0      Platform   \n",
       "7                   Wii Play      Wii           2006.0          Misc   \n",
       "8  New Super Mario Bros. Wii      Wii           2009.0      Platform   \n",
       "9                  Duck Hunt      NES           1984.0       Shooter   \n",
       "\n",
       "   na_sales  eu_sales  jp_sales  other_sales  critic_score user_score rating  \n",
       "0     41.36     28.96      3.77         8.45          76.0          8      E  \n",
       "1     29.08      3.58      6.81         0.77           NaN        NaN    NaN  \n",
       "2     15.68     12.76      3.79         3.29          82.0        8.3      E  \n",
       "3     15.61     10.93      3.28         2.95          80.0          8      E  \n",
       "4     11.27      8.89     10.22         1.00           NaN        NaN    NaN  \n",
       "5     23.20      2.26      4.22         0.58           NaN        NaN    NaN  \n",
       "6     11.28      9.14      6.50         2.88          89.0        8.5      E  \n",
       "7     13.96      9.18      2.93         2.84          58.0        6.6      E  \n",
       "8     14.44      6.94      4.70         2.24          87.0        8.4      E  \n",
       "9     26.93      0.63      0.28         0.47           NaN        NaN    NaN  "
      ]
     },
     "execution_count": 6,
     "metadata": {},
     "output_type": "execute_result"
    }
   ],
   "source": [
    "games.head(10)"
   ]
  },
  {
   "cell_type": "markdown",
   "metadata": {},
   "source": [
    "**Промежуточный вывод**\n",
    "\n",
    "Названия столбцов приведены к нижнему регистру"
   ]
  },
  {
   "cell_type": "markdown",
   "metadata": {},
   "source": [
    "### Обработайте пропуски при необходимости"
   ]
  },
  {
   "cell_type": "markdown",
   "metadata": {},
   "source": [
    "Выведем долю пропущенных значений для каждого столбца датафрейма."
   ]
  },
  {
   "cell_type": "code",
   "execution_count": 7,
   "metadata": {},
   "outputs": [
    {
     "data": {
      "text/html": [
       "<style  type=\"text/css\" >\n",
       "#T_fcf6f_row0_col0,#T_fcf6f_row1_col0,#T_fcf6f_row3_col0,#T_fcf6f_row4_col0,#T_fcf6f_row5_col0,#T_fcf6f_row6_col0,#T_fcf6f_row7_col0{\n",
       "            background-color:  #3b4cc0;\n",
       "            color:  #f1f1f1;\n",
       "        }#T_fcf6f_row2_col0{\n",
       "            background-color:  #445acc;\n",
       "            color:  #f1f1f1;\n",
       "        }#T_fcf6f_row8_col0{\n",
       "            background-color:  #b40426;\n",
       "            color:  #f1f1f1;\n",
       "        }#T_fcf6f_row9_col0{\n",
       "            background-color:  #f18d6f;\n",
       "            color:  #000000;\n",
       "        }#T_fcf6f_row10_col0{\n",
       "            background-color:  #f08a6c;\n",
       "            color:  #000000;\n",
       "        }</style><table id=\"T_fcf6f_\" ><thead>    <tr>        <th class=\"blank level0\" ></th>        <th class=\"col_heading level0 col0\" >0</th>    </tr></thead><tbody>\n",
       "                <tr>\n",
       "                        <th id=\"T_fcf6f_level0_row0\" class=\"row_heading level0 row0\" >name</th>\n",
       "                        <td id=\"T_fcf6f_row0_col0\" class=\"data row0 col0\" >0.0</td>\n",
       "            </tr>\n",
       "            <tr>\n",
       "                        <th id=\"T_fcf6f_level0_row1\" class=\"row_heading level0 row1\" >platform</th>\n",
       "                        <td id=\"T_fcf6f_row1_col0\" class=\"data row1 col0\" >0.0</td>\n",
       "            </tr>\n",
       "            <tr>\n",
       "                        <th id=\"T_fcf6f_level0_row2\" class=\"row_heading level0 row2\" >year_of_release</th>\n",
       "                        <td id=\"T_fcf6f_row2_col0\" class=\"data row2 col0\" >1.6</td>\n",
       "            </tr>\n",
       "            <tr>\n",
       "                        <th id=\"T_fcf6f_level0_row3\" class=\"row_heading level0 row3\" >genre</th>\n",
       "                        <td id=\"T_fcf6f_row3_col0\" class=\"data row3 col0\" >0.0</td>\n",
       "            </tr>\n",
       "            <tr>\n",
       "                        <th id=\"T_fcf6f_level0_row4\" class=\"row_heading level0 row4\" >na_sales</th>\n",
       "                        <td id=\"T_fcf6f_row4_col0\" class=\"data row4 col0\" >0.0</td>\n",
       "            </tr>\n",
       "            <tr>\n",
       "                        <th id=\"T_fcf6f_level0_row5\" class=\"row_heading level0 row5\" >eu_sales</th>\n",
       "                        <td id=\"T_fcf6f_row5_col0\" class=\"data row5 col0\" >0.0</td>\n",
       "            </tr>\n",
       "            <tr>\n",
       "                        <th id=\"T_fcf6f_level0_row6\" class=\"row_heading level0 row6\" >jp_sales</th>\n",
       "                        <td id=\"T_fcf6f_row6_col0\" class=\"data row6 col0\" >0.0</td>\n",
       "            </tr>\n",
       "            <tr>\n",
       "                        <th id=\"T_fcf6f_level0_row7\" class=\"row_heading level0 row7\" >other_sales</th>\n",
       "                        <td id=\"T_fcf6f_row7_col0\" class=\"data row7 col0\" >0.0</td>\n",
       "            </tr>\n",
       "            <tr>\n",
       "                        <th id=\"T_fcf6f_level0_row8\" class=\"row_heading level0 row8\" >critic_score</th>\n",
       "                        <td id=\"T_fcf6f_row8_col0\" class=\"data row8 col0\" >51.3</td>\n",
       "            </tr>\n",
       "            <tr>\n",
       "                        <th id=\"T_fcf6f_level0_row9\" class=\"row_heading level0 row9\" >user_score</th>\n",
       "                        <td id=\"T_fcf6f_row9_col0\" class=\"data row9 col0\" >40.1</td>\n",
       "            </tr>\n",
       "            <tr>\n",
       "                        <th id=\"T_fcf6f_level0_row10\" class=\"row_heading level0 row10\" >rating</th>\n",
       "                        <td id=\"T_fcf6f_row10_col0\" class=\"data row10 col0\" >40.5</td>\n",
       "            </tr>\n",
       "    </tbody></table>"
      ],
      "text/plain": [
       "<pandas.io.formats.style.Styler at 0x7fd52071a7f0>"
      ]
     },
     "execution_count": 7,
     "metadata": {},
     "output_type": "execute_result"
    }
   ],
   "source": [
    "pd.DataFrame(games.isna().mean()*100).style.set_precision(1).background_gradient('coolwarm')"
   ]
  },
  {
   "cell_type": "markdown",
   "metadata": {},
   "source": [
    "Выведем на экран только количество пропусков по столбцам."
   ]
  },
  {
   "cell_type": "code",
   "execution_count": 8,
   "metadata": {},
   "outputs": [
    {
     "data": {
      "text/plain": [
       "name                  2\n",
       "genre                 2\n",
       "year_of_release     269\n",
       "user_score         6701\n",
       "rating             6766\n",
       "critic_score       8578\n",
       "Name: nans, dtype: int64"
      ]
     },
     "execution_count": 8,
     "metadata": {},
     "output_type": "execute_result"
    }
   ],
   "source": [
    "games.isna().sum().to_frame(name=\"nans\").query(\"nans > 0\")[\"nans\"].sort_values(ascending=True)"
   ]
  },
  {
   "cell_type": "code",
   "execution_count": 9,
   "metadata": {},
   "outputs": [
    {
     "data": {
      "text/html": [
       "<div>\n",
       "<style scoped>\n",
       "    .dataframe tbody tr th:only-of-type {\n",
       "        vertical-align: middle;\n",
       "    }\n",
       "\n",
       "    .dataframe tbody tr th {\n",
       "        vertical-align: top;\n",
       "    }\n",
       "\n",
       "    .dataframe thead th {\n",
       "        text-align: right;\n",
       "    }\n",
       "</style>\n",
       "<table border=\"1\" class=\"dataframe\">\n",
       "  <thead>\n",
       "    <tr style=\"text-align: right;\">\n",
       "      <th></th>\n",
       "      <th>name</th>\n",
       "      <th>platform</th>\n",
       "      <th>year_of_release</th>\n",
       "      <th>genre</th>\n",
       "      <th>na_sales</th>\n",
       "      <th>eu_sales</th>\n",
       "      <th>jp_sales</th>\n",
       "      <th>other_sales</th>\n",
       "      <th>critic_score</th>\n",
       "      <th>user_score</th>\n",
       "      <th>rating</th>\n",
       "    </tr>\n",
       "  </thead>\n",
       "  <tbody>\n",
       "    <tr>\n",
       "      <th>659</th>\n",
       "      <td>NaN</td>\n",
       "      <td>GEN</td>\n",
       "      <td>1993.0</td>\n",
       "      <td>NaN</td>\n",
       "      <td>1.78</td>\n",
       "      <td>0.53</td>\n",
       "      <td>0.00</td>\n",
       "      <td>0.08</td>\n",
       "      <td>NaN</td>\n",
       "      <td>NaN</td>\n",
       "      <td>NaN</td>\n",
       "    </tr>\n",
       "    <tr>\n",
       "      <th>14244</th>\n",
       "      <td>NaN</td>\n",
       "      <td>GEN</td>\n",
       "      <td>1993.0</td>\n",
       "      <td>NaN</td>\n",
       "      <td>0.00</td>\n",
       "      <td>0.00</td>\n",
       "      <td>0.03</td>\n",
       "      <td>0.00</td>\n",
       "      <td>NaN</td>\n",
       "      <td>NaN</td>\n",
       "      <td>NaN</td>\n",
       "    </tr>\n",
       "  </tbody>\n",
       "</table>\n",
       "</div>"
      ],
      "text/plain": [
       "      name platform  year_of_release genre  na_sales  eu_sales  jp_sales  \\\n",
       "659    NaN      GEN           1993.0   NaN      1.78      0.53      0.00   \n",
       "14244  NaN      GEN           1993.0   NaN      0.00      0.00      0.03   \n",
       "\n",
       "       other_sales  critic_score user_score rating  \n",
       "659           0.08           NaN        NaN    NaN  \n",
       "14244         0.00           NaN        NaN    NaN  "
      ]
     },
     "execution_count": 9,
     "metadata": {},
     "output_type": "execute_result"
    }
   ],
   "source": [
    "games[games['name'].isna()]"
   ]
  },
  {
   "cell_type": "markdown",
   "metadata": {},
   "source": [
    "В этих 2-х строках отсудствует много значений, которые не можем заполнить поэтому просто удалим их"
   ]
  },
  {
   "cell_type": "code",
   "execution_count": 10,
   "metadata": {},
   "outputs": [],
   "source": [
    "games = games.dropna(subset = ['name'])"
   ]
  },
  {
   "cell_type": "code",
   "execution_count": 11,
   "metadata": {},
   "outputs": [
    {
     "data": {
      "text/plain": [
       "year_of_release     269\n",
       "user_score         6699\n",
       "rating             6764\n",
       "critic_score       8576\n",
       "Name: nans, dtype: int64"
      ]
     },
     "execution_count": 11,
     "metadata": {},
     "output_type": "execute_result"
    }
   ],
   "source": [
    "games.isna().sum().to_frame(name=\"nans\").query(\"nans > 0\")[\"nans\"].sort_values(ascending=True)"
   ]
  },
  {
   "cell_type": "code",
   "execution_count": 12,
   "metadata": {},
   "outputs": [
    {
     "data": {
      "text/html": [
       "<div>\n",
       "<style scoped>\n",
       "    .dataframe tbody tr th:only-of-type {\n",
       "        vertical-align: middle;\n",
       "    }\n",
       "\n",
       "    .dataframe tbody tr th {\n",
       "        vertical-align: top;\n",
       "    }\n",
       "\n",
       "    .dataframe thead th {\n",
       "        text-align: right;\n",
       "    }\n",
       "</style>\n",
       "<table border=\"1\" class=\"dataframe\">\n",
       "  <thead>\n",
       "    <tr style=\"text-align: right;\">\n",
       "      <th></th>\n",
       "      <th>name</th>\n",
       "      <th>platform</th>\n",
       "      <th>year_of_release</th>\n",
       "      <th>genre</th>\n",
       "      <th>na_sales</th>\n",
       "      <th>eu_sales</th>\n",
       "      <th>jp_sales</th>\n",
       "      <th>other_sales</th>\n",
       "      <th>critic_score</th>\n",
       "      <th>user_score</th>\n",
       "      <th>rating</th>\n",
       "    </tr>\n",
       "  </thead>\n",
       "  <tbody>\n",
       "    <tr>\n",
       "      <th>119</th>\n",
       "      <td>Zumba Fitness</td>\n",
       "      <td>Wii</td>\n",
       "      <td>2010.0</td>\n",
       "      <td>Sports</td>\n",
       "      <td>3.45</td>\n",
       "      <td>2.59</td>\n",
       "      <td>0.0</td>\n",
       "      <td>0.66</td>\n",
       "      <td>NaN</td>\n",
       "      <td>tbd</td>\n",
       "      <td>E</td>\n",
       "    </tr>\n",
       "    <tr>\n",
       "      <th>301</th>\n",
       "      <td>Namco Museum: 50th Anniversary</td>\n",
       "      <td>PS2</td>\n",
       "      <td>2005.0</td>\n",
       "      <td>Misc</td>\n",
       "      <td>2.08</td>\n",
       "      <td>1.35</td>\n",
       "      <td>0.0</td>\n",
       "      <td>0.54</td>\n",
       "      <td>61.0</td>\n",
       "      <td>tbd</td>\n",
       "      <td>E10+</td>\n",
       "    </tr>\n",
       "    <tr>\n",
       "      <th>520</th>\n",
       "      <td>Zumba Fitness 2</td>\n",
       "      <td>Wii</td>\n",
       "      <td>2011.0</td>\n",
       "      <td>Sports</td>\n",
       "      <td>1.51</td>\n",
       "      <td>1.03</td>\n",
       "      <td>0.0</td>\n",
       "      <td>0.27</td>\n",
       "      <td>NaN</td>\n",
       "      <td>tbd</td>\n",
       "      <td>T</td>\n",
       "    </tr>\n",
       "    <tr>\n",
       "      <th>645</th>\n",
       "      <td>uDraw Studio</td>\n",
       "      <td>Wii</td>\n",
       "      <td>2010.0</td>\n",
       "      <td>Misc</td>\n",
       "      <td>1.65</td>\n",
       "      <td>0.57</td>\n",
       "      <td>0.0</td>\n",
       "      <td>0.20</td>\n",
       "      <td>71.0</td>\n",
       "      <td>tbd</td>\n",
       "      <td>E</td>\n",
       "    </tr>\n",
       "    <tr>\n",
       "      <th>657</th>\n",
       "      <td>Frogger's Adventures: Temple of the Frog</td>\n",
       "      <td>GBA</td>\n",
       "      <td>NaN</td>\n",
       "      <td>Adventure</td>\n",
       "      <td>2.15</td>\n",
       "      <td>0.18</td>\n",
       "      <td>0.0</td>\n",
       "      <td>0.07</td>\n",
       "      <td>73.0</td>\n",
       "      <td>tbd</td>\n",
       "      <td>E</td>\n",
       "    </tr>\n",
       "    <tr>\n",
       "      <th>...</th>\n",
       "      <td>...</td>\n",
       "      <td>...</td>\n",
       "      <td>...</td>\n",
       "      <td>...</td>\n",
       "      <td>...</td>\n",
       "      <td>...</td>\n",
       "      <td>...</td>\n",
       "      <td>...</td>\n",
       "      <td>...</td>\n",
       "      <td>...</td>\n",
       "      <td>...</td>\n",
       "    </tr>\n",
       "    <tr>\n",
       "      <th>16695</th>\n",
       "      <td>Planet Monsters</td>\n",
       "      <td>GBA</td>\n",
       "      <td>2001.0</td>\n",
       "      <td>Action</td>\n",
       "      <td>0.01</td>\n",
       "      <td>0.00</td>\n",
       "      <td>0.0</td>\n",
       "      <td>0.00</td>\n",
       "      <td>67.0</td>\n",
       "      <td>tbd</td>\n",
       "      <td>E</td>\n",
       "    </tr>\n",
       "    <tr>\n",
       "      <th>16697</th>\n",
       "      <td>Bust-A-Move 3000</td>\n",
       "      <td>GC</td>\n",
       "      <td>2003.0</td>\n",
       "      <td>Puzzle</td>\n",
       "      <td>0.01</td>\n",
       "      <td>0.00</td>\n",
       "      <td>0.0</td>\n",
       "      <td>0.00</td>\n",
       "      <td>53.0</td>\n",
       "      <td>tbd</td>\n",
       "      <td>E</td>\n",
       "    </tr>\n",
       "    <tr>\n",
       "      <th>16698</th>\n",
       "      <td>Mega Brain Boost</td>\n",
       "      <td>DS</td>\n",
       "      <td>2008.0</td>\n",
       "      <td>Puzzle</td>\n",
       "      <td>0.01</td>\n",
       "      <td>0.00</td>\n",
       "      <td>0.0</td>\n",
       "      <td>0.00</td>\n",
       "      <td>48.0</td>\n",
       "      <td>tbd</td>\n",
       "      <td>E</td>\n",
       "    </tr>\n",
       "    <tr>\n",
       "      <th>16704</th>\n",
       "      <td>Plushees</td>\n",
       "      <td>DS</td>\n",
       "      <td>2008.0</td>\n",
       "      <td>Simulation</td>\n",
       "      <td>0.01</td>\n",
       "      <td>0.00</td>\n",
       "      <td>0.0</td>\n",
       "      <td>0.00</td>\n",
       "      <td>NaN</td>\n",
       "      <td>tbd</td>\n",
       "      <td>E</td>\n",
       "    </tr>\n",
       "    <tr>\n",
       "      <th>16706</th>\n",
       "      <td>Men in Black II: Alien Escape</td>\n",
       "      <td>GC</td>\n",
       "      <td>2003.0</td>\n",
       "      <td>Shooter</td>\n",
       "      <td>0.01</td>\n",
       "      <td>0.00</td>\n",
       "      <td>0.0</td>\n",
       "      <td>0.00</td>\n",
       "      <td>NaN</td>\n",
       "      <td>tbd</td>\n",
       "      <td>T</td>\n",
       "    </tr>\n",
       "  </tbody>\n",
       "</table>\n",
       "<p>2424 rows × 11 columns</p>\n",
       "</div>"
      ],
      "text/plain": [
       "                                           name platform  year_of_release  \\\n",
       "119                               Zumba Fitness      Wii           2010.0   \n",
       "301              Namco Museum: 50th Anniversary      PS2           2005.0   \n",
       "520                             Zumba Fitness 2      Wii           2011.0   \n",
       "645                                uDraw Studio      Wii           2010.0   \n",
       "657    Frogger's Adventures: Temple of the Frog      GBA              NaN   \n",
       "...                                         ...      ...              ...   \n",
       "16695                           Planet Monsters      GBA           2001.0   \n",
       "16697                          Bust-A-Move 3000       GC           2003.0   \n",
       "16698                          Mega Brain Boost       DS           2008.0   \n",
       "16704                                  Plushees       DS           2008.0   \n",
       "16706             Men in Black II: Alien Escape       GC           2003.0   \n",
       "\n",
       "            genre  na_sales  eu_sales  jp_sales  other_sales  critic_score  \\\n",
       "119        Sports      3.45      2.59       0.0         0.66           NaN   \n",
       "301          Misc      2.08      1.35       0.0         0.54          61.0   \n",
       "520        Sports      1.51      1.03       0.0         0.27           NaN   \n",
       "645          Misc      1.65      0.57       0.0         0.20          71.0   \n",
       "657     Adventure      2.15      0.18       0.0         0.07          73.0   \n",
       "...           ...       ...       ...       ...          ...           ...   \n",
       "16695      Action      0.01      0.00       0.0         0.00          67.0   \n",
       "16697      Puzzle      0.01      0.00       0.0         0.00          53.0   \n",
       "16698      Puzzle      0.01      0.00       0.0         0.00          48.0   \n",
       "16704  Simulation      0.01      0.00       0.0         0.00           NaN   \n",
       "16706     Shooter      0.01      0.00       0.0         0.00           NaN   \n",
       "\n",
       "      user_score rating  \n",
       "119          tbd      E  \n",
       "301          tbd   E10+  \n",
       "520          tbd      T  \n",
       "645          tbd      E  \n",
       "657          tbd      E  \n",
       "...          ...    ...  \n",
       "16695        tbd      E  \n",
       "16697        tbd      E  \n",
       "16698        tbd      E  \n",
       "16704        tbd      E  \n",
       "16706        tbd      T  \n",
       "\n",
       "[2424 rows x 11 columns]"
      ]
     },
     "execution_count": 12,
     "metadata": {},
     "output_type": "execute_result"
    }
   ],
   "source": [
    "games[games['user_score'] == 'tbd']"
   ]
  },
  {
   "cell_type": "markdown",
   "metadata": {},
   "source": [
    "В колонке user_score, tbd подразумевает что игра не имеет достаточно рейтингов. Но нам нужно заполнить данные числом, поэтому заменим на тип данных c tbd на float, а затем заполним пустые значения -1 "
   ]
  },
  {
   "cell_type": "code",
   "execution_count": 13,
   "metadata": {},
   "outputs": [],
   "source": [
    "games['user_score'] = games['user_score'].replace('tbd', np.NaN)\n",
    "games['user_score'] = games['user_score'].astype('float')"
   ]
  },
  {
   "cell_type": "code",
   "execution_count": 14,
   "metadata": {},
   "outputs": [
    {
     "data": {
      "text/html": [
       "<div>\n",
       "<style scoped>\n",
       "    .dataframe tbody tr th:only-of-type {\n",
       "        vertical-align: middle;\n",
       "    }\n",
       "\n",
       "    .dataframe tbody tr th {\n",
       "        vertical-align: top;\n",
       "    }\n",
       "\n",
       "    .dataframe thead th {\n",
       "        text-align: right;\n",
       "    }\n",
       "</style>\n",
       "<table border=\"1\" class=\"dataframe\">\n",
       "  <thead>\n",
       "    <tr style=\"text-align: right;\">\n",
       "      <th></th>\n",
       "      <th>name</th>\n",
       "      <th>platform</th>\n",
       "      <th>year_of_release</th>\n",
       "      <th>genre</th>\n",
       "      <th>na_sales</th>\n",
       "      <th>eu_sales</th>\n",
       "      <th>jp_sales</th>\n",
       "      <th>other_sales</th>\n",
       "      <th>critic_score</th>\n",
       "      <th>user_score</th>\n",
       "      <th>rating</th>\n",
       "    </tr>\n",
       "  </thead>\n",
       "  <tbody>\n",
       "  </tbody>\n",
       "</table>\n",
       "</div>"
      ],
      "text/plain": [
       "Empty DataFrame\n",
       "Columns: [name, platform, year_of_release, genre, na_sales, eu_sales, jp_sales, other_sales, critic_score, user_score, rating]\n",
       "Index: []"
      ]
     },
     "execution_count": 14,
     "metadata": {},
     "output_type": "execute_result"
    }
   ],
   "source": [
    "games[games['user_score'] == 'tbd']"
   ]
  },
  {
   "cell_type": "markdown",
   "metadata": {},
   "source": [
    "Пропуски в столбце rating заполним unknown так как мы не можем найти рейтинги."
   ]
  },
  {
   "cell_type": "code",
   "execution_count": 15,
   "metadata": {},
   "outputs": [],
   "source": [
    "games['rating'] = games['rating'].fillna('unknown')"
   ]
  },
  {
   "cell_type": "markdown",
   "metadata": {},
   "source": [
    "Пропуски в столбце user_score и critic_score заполним значениями -1."
   ]
  },
  {
   "cell_type": "code",
   "execution_count": 16,
   "metadata": {},
   "outputs": [],
   "source": [
    "games['user_score'] = games['user_score'].fillna(-1)"
   ]
  },
  {
   "cell_type": "code",
   "execution_count": 17,
   "metadata": {},
   "outputs": [],
   "source": [
    "games['critic_score'] = games['critic_score'].fillna(-1)"
   ]
  },
  {
   "cell_type": "markdown",
   "metadata": {},
   "source": [
    "Пропуски в столбце year_of_release удалим."
   ]
  },
  {
   "cell_type": "code",
   "execution_count": 18,
   "metadata": {},
   "outputs": [
    {
     "data": {
      "text/plain": [
       "0"
      ]
     },
     "execution_count": 18,
     "metadata": {},
     "output_type": "execute_result"
    }
   ],
   "source": [
    "games = games[games['year_of_release'].isna() == False]\n",
    "games['year_of_release'].isna().sum()"
   ]
  },
  {
   "cell_type": "code",
   "execution_count": 19,
   "metadata": {},
   "outputs": [
    {
     "data": {
      "text/plain": [
       "Series([], Name: nans, dtype: int64)"
      ]
     },
     "execution_count": 19,
     "metadata": {},
     "output_type": "execute_result"
    }
   ],
   "source": [
    "games.isna().sum().to_frame(name=\"nans\").query(\"nans > 0\")[\"nans\"].sort_values(ascending=True)"
   ]
  },
  {
   "cell_type": "markdown",
   "metadata": {},
   "source": [
    "Проверим на наличие дубликатов."
   ]
  },
  {
   "cell_type": "code",
   "execution_count": 20,
   "metadata": {},
   "outputs": [
    {
     "data": {
      "text/html": [
       "<div>\n",
       "<style scoped>\n",
       "    .dataframe tbody tr th:only-of-type {\n",
       "        vertical-align: middle;\n",
       "    }\n",
       "\n",
       "    .dataframe tbody tr th {\n",
       "        vertical-align: top;\n",
       "    }\n",
       "\n",
       "    .dataframe thead th {\n",
       "        text-align: right;\n",
       "    }\n",
       "</style>\n",
       "<table border=\"1\" class=\"dataframe\">\n",
       "  <thead>\n",
       "    <tr style=\"text-align: right;\">\n",
       "      <th></th>\n",
       "      <th>name</th>\n",
       "      <th>platform</th>\n",
       "      <th>year_of_release</th>\n",
       "      <th>genre</th>\n",
       "      <th>na_sales</th>\n",
       "      <th>eu_sales</th>\n",
       "      <th>jp_sales</th>\n",
       "      <th>other_sales</th>\n",
       "      <th>critic_score</th>\n",
       "      <th>user_score</th>\n",
       "      <th>rating</th>\n",
       "    </tr>\n",
       "  </thead>\n",
       "  <tbody>\n",
       "    <tr>\n",
       "      <th>16230</th>\n",
       "      <td>Madden NFL 13</td>\n",
       "      <td>PS3</td>\n",
       "      <td>2012.0</td>\n",
       "      <td>Sports</td>\n",
       "      <td>0.0</td>\n",
       "      <td>0.01</td>\n",
       "      <td>0.0</td>\n",
       "      <td>0.0</td>\n",
       "      <td>83.0</td>\n",
       "      <td>5.5</td>\n",
       "      <td>E</td>\n",
       "    </tr>\n",
       "  </tbody>\n",
       "</table>\n",
       "</div>"
      ],
      "text/plain": [
       "                name platform  year_of_release   genre  na_sales  eu_sales  \\\n",
       "16230  Madden NFL 13      PS3           2012.0  Sports       0.0      0.01   \n",
       "\n",
       "       jp_sales  other_sales  critic_score  user_score rating  \n",
       "16230       0.0          0.0          83.0         5.5      E  "
      ]
     },
     "execution_count": 20,
     "metadata": {},
     "output_type": "execute_result"
    }
   ],
   "source": [
    "games[games.duplicated(['name', 'platform', 'year_of_release'])]"
   ]
  },
  {
   "cell_type": "markdown",
   "metadata": {},
   "source": [
    "Выявлен дубликат на строке 16230, удалим его. "
   ]
  },
  {
   "cell_type": "code",
   "execution_count": 21,
   "metadata": {},
   "outputs": [],
   "source": [
    "games = games.drop_duplicates(subset=['name', 'platform', 'year_of_release'])"
   ]
  },
  {
   "cell_type": "code",
   "execution_count": 22,
   "metadata": {},
   "outputs": [
    {
     "data": {
      "text/html": [
       "<div>\n",
       "<style scoped>\n",
       "    .dataframe tbody tr th:only-of-type {\n",
       "        vertical-align: middle;\n",
       "    }\n",
       "\n",
       "    .dataframe tbody tr th {\n",
       "        vertical-align: top;\n",
       "    }\n",
       "\n",
       "    .dataframe thead th {\n",
       "        text-align: right;\n",
       "    }\n",
       "</style>\n",
       "<table border=\"1\" class=\"dataframe\">\n",
       "  <thead>\n",
       "    <tr style=\"text-align: right;\">\n",
       "      <th></th>\n",
       "      <th>name</th>\n",
       "      <th>platform</th>\n",
       "      <th>year_of_release</th>\n",
       "      <th>genre</th>\n",
       "      <th>na_sales</th>\n",
       "      <th>eu_sales</th>\n",
       "      <th>jp_sales</th>\n",
       "      <th>other_sales</th>\n",
       "      <th>critic_score</th>\n",
       "      <th>user_score</th>\n",
       "      <th>rating</th>\n",
       "    </tr>\n",
       "  </thead>\n",
       "  <tbody>\n",
       "  </tbody>\n",
       "</table>\n",
       "</div>"
      ],
      "text/plain": [
       "Empty DataFrame\n",
       "Columns: [name, platform, year_of_release, genre, na_sales, eu_sales, jp_sales, other_sales, critic_score, user_score, rating]\n",
       "Index: []"
      ]
     },
     "execution_count": 22,
     "metadata": {},
     "output_type": "execute_result"
    }
   ],
   "source": [
    "games[games.duplicated(['name', 'platform', 'year_of_release'])]"
   ]
  },
  {
   "cell_type": "code",
   "execution_count": 23,
   "metadata": {},
   "outputs": [
    {
     "data": {
      "text/plain": [
       "0"
      ]
     },
     "execution_count": 23,
     "metadata": {},
     "output_type": "execute_result"
    }
   ],
   "source": [
    "games.duplicated().sum()"
   ]
  },
  {
   "cell_type": "code",
   "execution_count": 24,
   "metadata": {},
   "outputs": [
    {
     "data": {
      "text/html": [
       "<div>\n",
       "<style scoped>\n",
       "    .dataframe tbody tr th:only-of-type {\n",
       "        vertical-align: middle;\n",
       "    }\n",
       "\n",
       "    .dataframe tbody tr th {\n",
       "        vertical-align: top;\n",
       "    }\n",
       "\n",
       "    .dataframe thead th {\n",
       "        text-align: right;\n",
       "    }\n",
       "</style>\n",
       "<table border=\"1\" class=\"dataframe\">\n",
       "  <thead>\n",
       "    <tr style=\"text-align: right;\">\n",
       "      <th></th>\n",
       "      <th>name</th>\n",
       "      <th>platform</th>\n",
       "      <th>year_of_release</th>\n",
       "      <th>genre</th>\n",
       "      <th>na_sales</th>\n",
       "      <th>eu_sales</th>\n",
       "      <th>jp_sales</th>\n",
       "      <th>other_sales</th>\n",
       "      <th>critic_score</th>\n",
       "      <th>user_score</th>\n",
       "      <th>rating</th>\n",
       "    </tr>\n",
       "  </thead>\n",
       "  <tbody>\n",
       "    <tr>\n",
       "      <th>0</th>\n",
       "      <td>Wii Sports</td>\n",
       "      <td>Wii</td>\n",
       "      <td>2006.0</td>\n",
       "      <td>Sports</td>\n",
       "      <td>41.36</td>\n",
       "      <td>28.96</td>\n",
       "      <td>3.77</td>\n",
       "      <td>8.45</td>\n",
       "      <td>76.0</td>\n",
       "      <td>8.0</td>\n",
       "      <td>E</td>\n",
       "    </tr>\n",
       "    <tr>\n",
       "      <th>1</th>\n",
       "      <td>Super Mario Bros.</td>\n",
       "      <td>NES</td>\n",
       "      <td>1985.0</td>\n",
       "      <td>Platform</td>\n",
       "      <td>29.08</td>\n",
       "      <td>3.58</td>\n",
       "      <td>6.81</td>\n",
       "      <td>0.77</td>\n",
       "      <td>-1.0</td>\n",
       "      <td>-1.0</td>\n",
       "      <td>unknown</td>\n",
       "    </tr>\n",
       "    <tr>\n",
       "      <th>2</th>\n",
       "      <td>Mario Kart Wii</td>\n",
       "      <td>Wii</td>\n",
       "      <td>2008.0</td>\n",
       "      <td>Racing</td>\n",
       "      <td>15.68</td>\n",
       "      <td>12.76</td>\n",
       "      <td>3.79</td>\n",
       "      <td>3.29</td>\n",
       "      <td>82.0</td>\n",
       "      <td>8.3</td>\n",
       "      <td>E</td>\n",
       "    </tr>\n",
       "    <tr>\n",
       "      <th>3</th>\n",
       "      <td>Wii Sports Resort</td>\n",
       "      <td>Wii</td>\n",
       "      <td>2009.0</td>\n",
       "      <td>Sports</td>\n",
       "      <td>15.61</td>\n",
       "      <td>10.93</td>\n",
       "      <td>3.28</td>\n",
       "      <td>2.95</td>\n",
       "      <td>80.0</td>\n",
       "      <td>8.0</td>\n",
       "      <td>E</td>\n",
       "    </tr>\n",
       "    <tr>\n",
       "      <th>4</th>\n",
       "      <td>Pokemon Red/Pokemon Blue</td>\n",
       "      <td>GB</td>\n",
       "      <td>1996.0</td>\n",
       "      <td>Role-Playing</td>\n",
       "      <td>11.27</td>\n",
       "      <td>8.89</td>\n",
       "      <td>10.22</td>\n",
       "      <td>1.00</td>\n",
       "      <td>-1.0</td>\n",
       "      <td>-1.0</td>\n",
       "      <td>unknown</td>\n",
       "    </tr>\n",
       "    <tr>\n",
       "      <th>5</th>\n",
       "      <td>Tetris</td>\n",
       "      <td>GB</td>\n",
       "      <td>1989.0</td>\n",
       "      <td>Puzzle</td>\n",
       "      <td>23.20</td>\n",
       "      <td>2.26</td>\n",
       "      <td>4.22</td>\n",
       "      <td>0.58</td>\n",
       "      <td>-1.0</td>\n",
       "      <td>-1.0</td>\n",
       "      <td>unknown</td>\n",
       "    </tr>\n",
       "    <tr>\n",
       "      <th>6</th>\n",
       "      <td>New Super Mario Bros.</td>\n",
       "      <td>DS</td>\n",
       "      <td>2006.0</td>\n",
       "      <td>Platform</td>\n",
       "      <td>11.28</td>\n",
       "      <td>9.14</td>\n",
       "      <td>6.50</td>\n",
       "      <td>2.88</td>\n",
       "      <td>89.0</td>\n",
       "      <td>8.5</td>\n",
       "      <td>E</td>\n",
       "    </tr>\n",
       "    <tr>\n",
       "      <th>7</th>\n",
       "      <td>Wii Play</td>\n",
       "      <td>Wii</td>\n",
       "      <td>2006.0</td>\n",
       "      <td>Misc</td>\n",
       "      <td>13.96</td>\n",
       "      <td>9.18</td>\n",
       "      <td>2.93</td>\n",
       "      <td>2.84</td>\n",
       "      <td>58.0</td>\n",
       "      <td>6.6</td>\n",
       "      <td>E</td>\n",
       "    </tr>\n",
       "    <tr>\n",
       "      <th>8</th>\n",
       "      <td>New Super Mario Bros. Wii</td>\n",
       "      <td>Wii</td>\n",
       "      <td>2009.0</td>\n",
       "      <td>Platform</td>\n",
       "      <td>14.44</td>\n",
       "      <td>6.94</td>\n",
       "      <td>4.70</td>\n",
       "      <td>2.24</td>\n",
       "      <td>87.0</td>\n",
       "      <td>8.4</td>\n",
       "      <td>E</td>\n",
       "    </tr>\n",
       "    <tr>\n",
       "      <th>9</th>\n",
       "      <td>Duck Hunt</td>\n",
       "      <td>NES</td>\n",
       "      <td>1984.0</td>\n",
       "      <td>Shooter</td>\n",
       "      <td>26.93</td>\n",
       "      <td>0.63</td>\n",
       "      <td>0.28</td>\n",
       "      <td>0.47</td>\n",
       "      <td>-1.0</td>\n",
       "      <td>-1.0</td>\n",
       "      <td>unknown</td>\n",
       "    </tr>\n",
       "  </tbody>\n",
       "</table>\n",
       "</div>"
      ],
      "text/plain": [
       "                        name platform  year_of_release         genre  \\\n",
       "0                 Wii Sports      Wii           2006.0        Sports   \n",
       "1          Super Mario Bros.      NES           1985.0      Platform   \n",
       "2             Mario Kart Wii      Wii           2008.0        Racing   \n",
       "3          Wii Sports Resort      Wii           2009.0        Sports   \n",
       "4   Pokemon Red/Pokemon Blue       GB           1996.0  Role-Playing   \n",
       "5                     Tetris       GB           1989.0        Puzzle   \n",
       "6      New Super Mario Bros.       DS           2006.0      Platform   \n",
       "7                   Wii Play      Wii           2006.0          Misc   \n",
       "8  New Super Mario Bros. Wii      Wii           2009.0      Platform   \n",
       "9                  Duck Hunt      NES           1984.0       Shooter   \n",
       "\n",
       "   na_sales  eu_sales  jp_sales  other_sales  critic_score  user_score  \\\n",
       "0     41.36     28.96      3.77         8.45          76.0         8.0   \n",
       "1     29.08      3.58      6.81         0.77          -1.0        -1.0   \n",
       "2     15.68     12.76      3.79         3.29          82.0         8.3   \n",
       "3     15.61     10.93      3.28         2.95          80.0         8.0   \n",
       "4     11.27      8.89     10.22         1.00          -1.0        -1.0   \n",
       "5     23.20      2.26      4.22         0.58          -1.0        -1.0   \n",
       "6     11.28      9.14      6.50         2.88          89.0         8.5   \n",
       "7     13.96      9.18      2.93         2.84          58.0         6.6   \n",
       "8     14.44      6.94      4.70         2.24          87.0         8.4   \n",
       "9     26.93      0.63      0.28         0.47          -1.0        -1.0   \n",
       "\n",
       "    rating  \n",
       "0        E  \n",
       "1  unknown  \n",
       "2        E  \n",
       "3        E  \n",
       "4  unknown  \n",
       "5  unknown  \n",
       "6        E  \n",
       "7        E  \n",
       "8        E  \n",
       "9  unknown  "
      ]
     },
     "execution_count": 24,
     "metadata": {},
     "output_type": "execute_result"
    }
   ],
   "source": [
    "games.head(10)"
   ]
  },
  {
   "cell_type": "code",
   "execution_count": 25,
   "metadata": {},
   "outputs": [
    {
     "name": "stdout",
     "output_type": "stream",
     "text": [
      "<class 'pandas.core.frame.DataFrame'>\n",
      "Int64Index: 16443 entries, 0 to 16714\n",
      "Data columns (total 11 columns):\n",
      " #   Column           Non-Null Count  Dtype  \n",
      "---  ------           --------------  -----  \n",
      " 0   name             16443 non-null  object \n",
      " 1   platform         16443 non-null  object \n",
      " 2   year_of_release  16443 non-null  float64\n",
      " 3   genre            16443 non-null  object \n",
      " 4   na_sales         16443 non-null  float64\n",
      " 5   eu_sales         16443 non-null  float64\n",
      " 6   jp_sales         16443 non-null  float64\n",
      " 7   other_sales      16443 non-null  float64\n",
      " 8   critic_score     16443 non-null  float64\n",
      " 9   user_score       16443 non-null  float64\n",
      " 10  rating           16443 non-null  object \n",
      "dtypes: float64(7), object(4)\n",
      "memory usage: 1.5+ MB\n"
     ]
    }
   ],
   "source": [
    "games.info()"
   ]
  },
  {
   "cell_type": "markdown",
   "metadata": {},
   "source": [
    "**Промежуточный вывод**\n",
    "\n",
    "Дубликаты отсудствуют в датафрейме, а также в столбцах имени, платформе и году релиза. В колонке name и genre отсудствует много значений, которые не можем заполнить поэтому удалим их.\n",
    "\n",
    "В колонке user_score, tbd подразумевает что игра не имеет рейтингов. Но нам нужно заполнить данные числом, поэтому заменим на тип данных c tbd на float, а затем заполним пустые значения -1\n",
    "\n",
    "Пропуски в столбце rating заполним unknown так как мы не можем найти рейтинги.\n",
    "\n",
    "Пропуски в столбце user_score и critic_score заполним значениями -1.\n",
    "\n",
    "Пропуски в столбце year_of_release удалим.\n",
    "\n",
    "Выявлен дубликат на строке 16230, удалили его."
   ]
  },
  {
   "cell_type": "markdown",
   "metadata": {},
   "source": [
    "### Преобразуйте данные в нужные типы. Опишите, в каких столбцах заменили тип данных и почему"
   ]
  },
  {
   "cell_type": "markdown",
   "metadata": {},
   "source": [
    "В колонке year_of_release содержится год выпуска и тип данных - число с десятичными значениями, переменим на целое число int. В колонке user_score содержатся данные о рейтингах, но тип данных в колонке названия, изменина на тип данных на float, а также сделаем, чтобы все данные были с десятичными значениями. "
   ]
  },
  {
   "cell_type": "code",
   "execution_count": 26,
   "metadata": {},
   "outputs": [],
   "source": [
    "games['year_of_release'] = games['year_of_release'].astype(int)"
   ]
  },
  {
   "cell_type": "code",
   "execution_count": 27,
   "metadata": {},
   "outputs": [],
   "source": [
    "games['user_score'] = games['user_score'].astype('float')"
   ]
  },
  {
   "cell_type": "code",
   "execution_count": 28,
   "metadata": {},
   "outputs": [
    {
     "data": {
      "text/html": [
       "<div>\n",
       "<style scoped>\n",
       "    .dataframe tbody tr th:only-of-type {\n",
       "        vertical-align: middle;\n",
       "    }\n",
       "\n",
       "    .dataframe tbody tr th {\n",
       "        vertical-align: top;\n",
       "    }\n",
       "\n",
       "    .dataframe thead th {\n",
       "        text-align: right;\n",
       "    }\n",
       "</style>\n",
       "<table border=\"1\" class=\"dataframe\">\n",
       "  <thead>\n",
       "    <tr style=\"text-align: right;\">\n",
       "      <th></th>\n",
       "      <th>name</th>\n",
       "      <th>platform</th>\n",
       "      <th>year_of_release</th>\n",
       "      <th>genre</th>\n",
       "      <th>na_sales</th>\n",
       "      <th>eu_sales</th>\n",
       "      <th>jp_sales</th>\n",
       "      <th>other_sales</th>\n",
       "      <th>critic_score</th>\n",
       "      <th>user_score</th>\n",
       "      <th>rating</th>\n",
       "    </tr>\n",
       "  </thead>\n",
       "  <tbody>\n",
       "    <tr>\n",
       "      <th>0</th>\n",
       "      <td>Wii Sports</td>\n",
       "      <td>Wii</td>\n",
       "      <td>2006</td>\n",
       "      <td>Sports</td>\n",
       "      <td>41.36</td>\n",
       "      <td>28.96</td>\n",
       "      <td>3.77</td>\n",
       "      <td>8.45</td>\n",
       "      <td>76.0</td>\n",
       "      <td>8.0</td>\n",
       "      <td>E</td>\n",
       "    </tr>\n",
       "    <tr>\n",
       "      <th>1</th>\n",
       "      <td>Super Mario Bros.</td>\n",
       "      <td>NES</td>\n",
       "      <td>1985</td>\n",
       "      <td>Platform</td>\n",
       "      <td>29.08</td>\n",
       "      <td>3.58</td>\n",
       "      <td>6.81</td>\n",
       "      <td>0.77</td>\n",
       "      <td>-1.0</td>\n",
       "      <td>-1.0</td>\n",
       "      <td>unknown</td>\n",
       "    </tr>\n",
       "    <tr>\n",
       "      <th>2</th>\n",
       "      <td>Mario Kart Wii</td>\n",
       "      <td>Wii</td>\n",
       "      <td>2008</td>\n",
       "      <td>Racing</td>\n",
       "      <td>15.68</td>\n",
       "      <td>12.76</td>\n",
       "      <td>3.79</td>\n",
       "      <td>3.29</td>\n",
       "      <td>82.0</td>\n",
       "      <td>8.3</td>\n",
       "      <td>E</td>\n",
       "    </tr>\n",
       "    <tr>\n",
       "      <th>3</th>\n",
       "      <td>Wii Sports Resort</td>\n",
       "      <td>Wii</td>\n",
       "      <td>2009</td>\n",
       "      <td>Sports</td>\n",
       "      <td>15.61</td>\n",
       "      <td>10.93</td>\n",
       "      <td>3.28</td>\n",
       "      <td>2.95</td>\n",
       "      <td>80.0</td>\n",
       "      <td>8.0</td>\n",
       "      <td>E</td>\n",
       "    </tr>\n",
       "    <tr>\n",
       "      <th>4</th>\n",
       "      <td>Pokemon Red/Pokemon Blue</td>\n",
       "      <td>GB</td>\n",
       "      <td>1996</td>\n",
       "      <td>Role-Playing</td>\n",
       "      <td>11.27</td>\n",
       "      <td>8.89</td>\n",
       "      <td>10.22</td>\n",
       "      <td>1.00</td>\n",
       "      <td>-1.0</td>\n",
       "      <td>-1.0</td>\n",
       "      <td>unknown</td>\n",
       "    </tr>\n",
       "    <tr>\n",
       "      <th>5</th>\n",
       "      <td>Tetris</td>\n",
       "      <td>GB</td>\n",
       "      <td>1989</td>\n",
       "      <td>Puzzle</td>\n",
       "      <td>23.20</td>\n",
       "      <td>2.26</td>\n",
       "      <td>4.22</td>\n",
       "      <td>0.58</td>\n",
       "      <td>-1.0</td>\n",
       "      <td>-1.0</td>\n",
       "      <td>unknown</td>\n",
       "    </tr>\n",
       "    <tr>\n",
       "      <th>6</th>\n",
       "      <td>New Super Mario Bros.</td>\n",
       "      <td>DS</td>\n",
       "      <td>2006</td>\n",
       "      <td>Platform</td>\n",
       "      <td>11.28</td>\n",
       "      <td>9.14</td>\n",
       "      <td>6.50</td>\n",
       "      <td>2.88</td>\n",
       "      <td>89.0</td>\n",
       "      <td>8.5</td>\n",
       "      <td>E</td>\n",
       "    </tr>\n",
       "    <tr>\n",
       "      <th>7</th>\n",
       "      <td>Wii Play</td>\n",
       "      <td>Wii</td>\n",
       "      <td>2006</td>\n",
       "      <td>Misc</td>\n",
       "      <td>13.96</td>\n",
       "      <td>9.18</td>\n",
       "      <td>2.93</td>\n",
       "      <td>2.84</td>\n",
       "      <td>58.0</td>\n",
       "      <td>6.6</td>\n",
       "      <td>E</td>\n",
       "    </tr>\n",
       "    <tr>\n",
       "      <th>8</th>\n",
       "      <td>New Super Mario Bros. Wii</td>\n",
       "      <td>Wii</td>\n",
       "      <td>2009</td>\n",
       "      <td>Platform</td>\n",
       "      <td>14.44</td>\n",
       "      <td>6.94</td>\n",
       "      <td>4.70</td>\n",
       "      <td>2.24</td>\n",
       "      <td>87.0</td>\n",
       "      <td>8.4</td>\n",
       "      <td>E</td>\n",
       "    </tr>\n",
       "    <tr>\n",
       "      <th>9</th>\n",
       "      <td>Duck Hunt</td>\n",
       "      <td>NES</td>\n",
       "      <td>1984</td>\n",
       "      <td>Shooter</td>\n",
       "      <td>26.93</td>\n",
       "      <td>0.63</td>\n",
       "      <td>0.28</td>\n",
       "      <td>0.47</td>\n",
       "      <td>-1.0</td>\n",
       "      <td>-1.0</td>\n",
       "      <td>unknown</td>\n",
       "    </tr>\n",
       "  </tbody>\n",
       "</table>\n",
       "</div>"
      ],
      "text/plain": [
       "                        name platform  year_of_release         genre  \\\n",
       "0                 Wii Sports      Wii             2006        Sports   \n",
       "1          Super Mario Bros.      NES             1985      Platform   \n",
       "2             Mario Kart Wii      Wii             2008        Racing   \n",
       "3          Wii Sports Resort      Wii             2009        Sports   \n",
       "4   Pokemon Red/Pokemon Blue       GB             1996  Role-Playing   \n",
       "5                     Tetris       GB             1989        Puzzle   \n",
       "6      New Super Mario Bros.       DS             2006      Platform   \n",
       "7                   Wii Play      Wii             2006          Misc   \n",
       "8  New Super Mario Bros. Wii      Wii             2009      Platform   \n",
       "9                  Duck Hunt      NES             1984       Shooter   \n",
       "\n",
       "   na_sales  eu_sales  jp_sales  other_sales  critic_score  user_score  \\\n",
       "0     41.36     28.96      3.77         8.45          76.0         8.0   \n",
       "1     29.08      3.58      6.81         0.77          -1.0        -1.0   \n",
       "2     15.68     12.76      3.79         3.29          82.0         8.3   \n",
       "3     15.61     10.93      3.28         2.95          80.0         8.0   \n",
       "4     11.27      8.89     10.22         1.00          -1.0        -1.0   \n",
       "5     23.20      2.26      4.22         0.58          -1.0        -1.0   \n",
       "6     11.28      9.14      6.50         2.88          89.0         8.5   \n",
       "7     13.96      9.18      2.93         2.84          58.0         6.6   \n",
       "8     14.44      6.94      4.70         2.24          87.0         8.4   \n",
       "9     26.93      0.63      0.28         0.47          -1.0        -1.0   \n",
       "\n",
       "    rating  \n",
       "0        E  \n",
       "1  unknown  \n",
       "2        E  \n",
       "3        E  \n",
       "4  unknown  \n",
       "5  unknown  \n",
       "6        E  \n",
       "7        E  \n",
       "8        E  \n",
       "9  unknown  "
      ]
     },
     "execution_count": 28,
     "metadata": {},
     "output_type": "execute_result"
    }
   ],
   "source": [
    "games.head(10)"
   ]
  },
  {
   "cell_type": "markdown",
   "metadata": {},
   "source": [
    "**Промежуточный вывод**\n",
    "\n",
    "В колонке year_of_release содержится год выпуска и тип данных - число с десятичными значениями, переменим на целое число int. В колонке user_score содержатся данные о рейтингах, но тип данных в колонке названия, изменина на тип данных на float."
   ]
  },
  {
   "cell_type": "markdown",
   "metadata": {},
   "source": [
    "### Посчитайте суммарные продажи во всех регионах и запишите их в отдельный столбец."
   ]
  },
  {
   "cell_type": "code",
   "execution_count": 29,
   "metadata": {},
   "outputs": [],
   "source": [
    "games['total_sales'] = games['na_sales'] + games['eu_sales'] + games['jp_sales'] + games['other_sales']"
   ]
  },
  {
   "cell_type": "code",
   "execution_count": 30,
   "metadata": {},
   "outputs": [
    {
     "data": {
      "text/html": [
       "<div>\n",
       "<style scoped>\n",
       "    .dataframe tbody tr th:only-of-type {\n",
       "        vertical-align: middle;\n",
       "    }\n",
       "\n",
       "    .dataframe tbody tr th {\n",
       "        vertical-align: top;\n",
       "    }\n",
       "\n",
       "    .dataframe thead th {\n",
       "        text-align: right;\n",
       "    }\n",
       "</style>\n",
       "<table border=\"1\" class=\"dataframe\">\n",
       "  <thead>\n",
       "    <tr style=\"text-align: right;\">\n",
       "      <th></th>\n",
       "      <th>name</th>\n",
       "      <th>platform</th>\n",
       "      <th>year_of_release</th>\n",
       "      <th>genre</th>\n",
       "      <th>na_sales</th>\n",
       "      <th>eu_sales</th>\n",
       "      <th>jp_sales</th>\n",
       "      <th>other_sales</th>\n",
       "      <th>critic_score</th>\n",
       "      <th>user_score</th>\n",
       "      <th>rating</th>\n",
       "      <th>total_sales</th>\n",
       "    </tr>\n",
       "  </thead>\n",
       "  <tbody>\n",
       "    <tr>\n",
       "      <th>0</th>\n",
       "      <td>Wii Sports</td>\n",
       "      <td>Wii</td>\n",
       "      <td>2006</td>\n",
       "      <td>Sports</td>\n",
       "      <td>41.36</td>\n",
       "      <td>28.96</td>\n",
       "      <td>3.77</td>\n",
       "      <td>8.45</td>\n",
       "      <td>76.0</td>\n",
       "      <td>8.0</td>\n",
       "      <td>E</td>\n",
       "      <td>82.54</td>\n",
       "    </tr>\n",
       "    <tr>\n",
       "      <th>1</th>\n",
       "      <td>Super Mario Bros.</td>\n",
       "      <td>NES</td>\n",
       "      <td>1985</td>\n",
       "      <td>Platform</td>\n",
       "      <td>29.08</td>\n",
       "      <td>3.58</td>\n",
       "      <td>6.81</td>\n",
       "      <td>0.77</td>\n",
       "      <td>-1.0</td>\n",
       "      <td>-1.0</td>\n",
       "      <td>unknown</td>\n",
       "      <td>40.24</td>\n",
       "    </tr>\n",
       "    <tr>\n",
       "      <th>2</th>\n",
       "      <td>Mario Kart Wii</td>\n",
       "      <td>Wii</td>\n",
       "      <td>2008</td>\n",
       "      <td>Racing</td>\n",
       "      <td>15.68</td>\n",
       "      <td>12.76</td>\n",
       "      <td>3.79</td>\n",
       "      <td>3.29</td>\n",
       "      <td>82.0</td>\n",
       "      <td>8.3</td>\n",
       "      <td>E</td>\n",
       "      <td>35.52</td>\n",
       "    </tr>\n",
       "    <tr>\n",
       "      <th>3</th>\n",
       "      <td>Wii Sports Resort</td>\n",
       "      <td>Wii</td>\n",
       "      <td>2009</td>\n",
       "      <td>Sports</td>\n",
       "      <td>15.61</td>\n",
       "      <td>10.93</td>\n",
       "      <td>3.28</td>\n",
       "      <td>2.95</td>\n",
       "      <td>80.0</td>\n",
       "      <td>8.0</td>\n",
       "      <td>E</td>\n",
       "      <td>32.77</td>\n",
       "    </tr>\n",
       "    <tr>\n",
       "      <th>4</th>\n",
       "      <td>Pokemon Red/Pokemon Blue</td>\n",
       "      <td>GB</td>\n",
       "      <td>1996</td>\n",
       "      <td>Role-Playing</td>\n",
       "      <td>11.27</td>\n",
       "      <td>8.89</td>\n",
       "      <td>10.22</td>\n",
       "      <td>1.00</td>\n",
       "      <td>-1.0</td>\n",
       "      <td>-1.0</td>\n",
       "      <td>unknown</td>\n",
       "      <td>31.38</td>\n",
       "    </tr>\n",
       "    <tr>\n",
       "      <th>5</th>\n",
       "      <td>Tetris</td>\n",
       "      <td>GB</td>\n",
       "      <td>1989</td>\n",
       "      <td>Puzzle</td>\n",
       "      <td>23.20</td>\n",
       "      <td>2.26</td>\n",
       "      <td>4.22</td>\n",
       "      <td>0.58</td>\n",
       "      <td>-1.0</td>\n",
       "      <td>-1.0</td>\n",
       "      <td>unknown</td>\n",
       "      <td>30.26</td>\n",
       "    </tr>\n",
       "    <tr>\n",
       "      <th>6</th>\n",
       "      <td>New Super Mario Bros.</td>\n",
       "      <td>DS</td>\n",
       "      <td>2006</td>\n",
       "      <td>Platform</td>\n",
       "      <td>11.28</td>\n",
       "      <td>9.14</td>\n",
       "      <td>6.50</td>\n",
       "      <td>2.88</td>\n",
       "      <td>89.0</td>\n",
       "      <td>8.5</td>\n",
       "      <td>E</td>\n",
       "      <td>29.80</td>\n",
       "    </tr>\n",
       "    <tr>\n",
       "      <th>7</th>\n",
       "      <td>Wii Play</td>\n",
       "      <td>Wii</td>\n",
       "      <td>2006</td>\n",
       "      <td>Misc</td>\n",
       "      <td>13.96</td>\n",
       "      <td>9.18</td>\n",
       "      <td>2.93</td>\n",
       "      <td>2.84</td>\n",
       "      <td>58.0</td>\n",
       "      <td>6.6</td>\n",
       "      <td>E</td>\n",
       "      <td>28.91</td>\n",
       "    </tr>\n",
       "    <tr>\n",
       "      <th>8</th>\n",
       "      <td>New Super Mario Bros. Wii</td>\n",
       "      <td>Wii</td>\n",
       "      <td>2009</td>\n",
       "      <td>Platform</td>\n",
       "      <td>14.44</td>\n",
       "      <td>6.94</td>\n",
       "      <td>4.70</td>\n",
       "      <td>2.24</td>\n",
       "      <td>87.0</td>\n",
       "      <td>8.4</td>\n",
       "      <td>E</td>\n",
       "      <td>28.32</td>\n",
       "    </tr>\n",
       "    <tr>\n",
       "      <th>9</th>\n",
       "      <td>Duck Hunt</td>\n",
       "      <td>NES</td>\n",
       "      <td>1984</td>\n",
       "      <td>Shooter</td>\n",
       "      <td>26.93</td>\n",
       "      <td>0.63</td>\n",
       "      <td>0.28</td>\n",
       "      <td>0.47</td>\n",
       "      <td>-1.0</td>\n",
       "      <td>-1.0</td>\n",
       "      <td>unknown</td>\n",
       "      <td>28.31</td>\n",
       "    </tr>\n",
       "  </tbody>\n",
       "</table>\n",
       "</div>"
      ],
      "text/plain": [
       "                        name platform  year_of_release         genre  \\\n",
       "0                 Wii Sports      Wii             2006        Sports   \n",
       "1          Super Mario Bros.      NES             1985      Platform   \n",
       "2             Mario Kart Wii      Wii             2008        Racing   \n",
       "3          Wii Sports Resort      Wii             2009        Sports   \n",
       "4   Pokemon Red/Pokemon Blue       GB             1996  Role-Playing   \n",
       "5                     Tetris       GB             1989        Puzzle   \n",
       "6      New Super Mario Bros.       DS             2006      Platform   \n",
       "7                   Wii Play      Wii             2006          Misc   \n",
       "8  New Super Mario Bros. Wii      Wii             2009      Platform   \n",
       "9                  Duck Hunt      NES             1984       Shooter   \n",
       "\n",
       "   na_sales  eu_sales  jp_sales  other_sales  critic_score  user_score  \\\n",
       "0     41.36     28.96      3.77         8.45          76.0         8.0   \n",
       "1     29.08      3.58      6.81         0.77          -1.0        -1.0   \n",
       "2     15.68     12.76      3.79         3.29          82.0         8.3   \n",
       "3     15.61     10.93      3.28         2.95          80.0         8.0   \n",
       "4     11.27      8.89     10.22         1.00          -1.0        -1.0   \n",
       "5     23.20      2.26      4.22         0.58          -1.0        -1.0   \n",
       "6     11.28      9.14      6.50         2.88          89.0         8.5   \n",
       "7     13.96      9.18      2.93         2.84          58.0         6.6   \n",
       "8     14.44      6.94      4.70         2.24          87.0         8.4   \n",
       "9     26.93      0.63      0.28         0.47          -1.0        -1.0   \n",
       "\n",
       "    rating  total_sales  \n",
       "0        E        82.54  \n",
       "1  unknown        40.24  \n",
       "2        E        35.52  \n",
       "3        E        32.77  \n",
       "4  unknown        31.38  \n",
       "5  unknown        30.26  \n",
       "6        E        29.80  \n",
       "7        E        28.91  \n",
       "8        E        28.32  \n",
       "9  unknown        28.31  "
      ]
     },
     "execution_count": 30,
     "metadata": {},
     "output_type": "execute_result"
    }
   ],
   "source": [
    "games.head(10)"
   ]
  },
  {
   "cell_type": "markdown",
   "metadata": {},
   "source": [
    "**Промежуточный вывод**\n",
    "\n",
    "Добавила новую колонку total_sales для суммарные продажи во всех регионах."
   ]
  },
  {
   "cell_type": "markdown",
   "metadata": {},
   "source": [
    "**Вывод по разделу**\n",
    "\n",
    "**2.1** Название столбцов приведено к регистру в lower_case. \n",
    "\n",
    "**2.2**  Дубликаты отсудствуют в датафрейме, а также в столбцах имени, платформе и году релиза. В колонке name и genre отсудствует много значений, которые не можем заполнить поэтому удалим их.\n",
    "\n",
    "В колонке user_score, tbd подразумевает что игра не имеет рейтингов. Но нам нужно заполнить данные числом, поэтому заменим на тип данных c tbd на float, а затем заполним пустые значения -1\n",
    "\n",
    "Пропуски в столбце rating заполним unknown так как мы не можем найти рейтинги.\n",
    "\n",
    "Пропуски в столбце user_score и critic_score заполним значениями -1.\n",
    "\n",
    "Пропуски в столбце year_of_release удалим.\n",
    "\n",
    "Выявлен дубликат на строке 16230, удалили его.\n",
    "\n",
    "**2.3** В колонках year_of_release и user_score изменены типы данных столбцов: 'year_of_release' на int, 'user_score' на float \n",
    "\n",
    "**2.4** Посчитала суммарные продажи во всех регионах и запизала в отдельный столбец total_sales. "
   ]
  },
  {
   "cell_type": "code",
   "execution_count": 31,
   "metadata": {},
   "outputs": [
    {
     "name": "stdout",
     "output_type": "stream",
     "text": [
      "<class 'pandas.core.frame.DataFrame'>\n",
      "Int64Index: 16443 entries, 0 to 16714\n",
      "Data columns (total 12 columns):\n",
      " #   Column           Non-Null Count  Dtype  \n",
      "---  ------           --------------  -----  \n",
      " 0   name             16443 non-null  object \n",
      " 1   platform         16443 non-null  object \n",
      " 2   year_of_release  16443 non-null  int64  \n",
      " 3   genre            16443 non-null  object \n",
      " 4   na_sales         16443 non-null  float64\n",
      " 5   eu_sales         16443 non-null  float64\n",
      " 6   jp_sales         16443 non-null  float64\n",
      " 7   other_sales      16443 non-null  float64\n",
      " 8   critic_score     16443 non-null  float64\n",
      " 9   user_score       16443 non-null  float64\n",
      " 10  rating           16443 non-null  object \n",
      " 11  total_sales      16443 non-null  float64\n",
      "dtypes: float64(7), int64(1), object(4)\n",
      "memory usage: 1.6+ MB\n",
      "None\n",
      "-------------------------\n",
      "name [' Beyblade Burst' ' Fire Emblem Fates' \" Frozen: Olaf's Quest\" ...\n",
      " 'uDraw Studio' 'uDraw Studio: Instant Artist'\n",
      " '¡Shin Chan Flipa en colores!']\n",
      "name : кол-во NaN 0 , процент NaN 0.0 %\n",
      "-------------------------\n",
      "platform ['2600' '3DO' '3DS' 'DC' 'DS' 'GB' 'GBA' 'GC' 'GEN' 'GG' 'N64' 'NES' 'NG'\n",
      " 'PC' 'PCFX' 'PS' 'PS2' 'PS3' 'PS4' 'PSP' 'PSV' 'SAT' 'SCD' 'SNES' 'TG16'\n",
      " 'WS' 'Wii' 'WiiU' 'X360' 'XB' 'XOne']\n",
      "platform : кол-во NaN 0 , процент NaN 0.0 %\n",
      "-------------------------\n",
      "year_of_release [1980 1981 1982 1983 1984 1985 1986 1987 1988 1989 1990 1991 1992 1993\n",
      " 1994 1995 1996 1997 1998 1999 2000 2001 2002 2003 2004 2005 2006 2007\n",
      " 2008 2009 2010 2011 2012 2013 2014 2015 2016]\n",
      "year_of_release : кол-во NaN 0 , процент NaN 0.0 %\n",
      "-------------------------\n",
      "genre ['Action' 'Adventure' 'Fighting' 'Misc' 'Platform' 'Puzzle' 'Racing'\n",
      " 'Role-Playing' 'Shooter' 'Simulation' 'Sports' 'Strategy']\n",
      "genre : кол-во NaN 0 , процент NaN 0.0 %\n",
      "-------------------------\n",
      "critic_score [-1. 13. 17. 19. 20. 21. 23. 24. 25. 26. 27. 28. 29. 30. 31. 32. 33. 34.\n",
      " 35. 36. 37. 38. 39. 40. 41. 42. 43. 44. 45. 46. 47. 48. 49. 50. 51. 52.\n",
      " 53. 54. 55. 56. 57. 58. 59. 60. 61. 62. 63. 64. 65. 66. 67. 68. 69. 70.\n",
      " 71. 72. 73. 74. 75. 76. 77. 78. 79. 80. 81. 82. 83. 84. 85. 86. 87. 88.\n",
      " 89. 90. 91. 92. 93. 94. 95. 96. 97. 98.]\n",
      "critic_score : кол-во NaN 0 , процент NaN 0.0 %\n",
      "-------------------------\n",
      "user_score [-1.   0.   0.2  0.3  0.5  0.6  0.7  0.9  1.   1.1  1.2  1.3  1.4  1.5\n",
      "  1.6  1.7  1.8  1.9  2.   2.1  2.2  2.3  2.4  2.5  2.6  2.7  2.8  2.9\n",
      "  3.   3.1  3.2  3.3  3.4  3.5  3.6  3.7  3.8  3.9  4.   4.1  4.2  4.3\n",
      "  4.4  4.5  4.6  4.7  4.8  4.9  5.   5.1  5.2  5.3  5.4  5.5  5.6  5.7\n",
      "  5.8  5.9  6.   6.1  6.2  6.3  6.4  6.5  6.6  6.7  6.8  6.9  7.   7.1\n",
      "  7.2  7.3  7.4  7.5  7.6  7.7  7.8  7.9  8.   8.1  8.2  8.3  8.4  8.5\n",
      "  8.6  8.7  8.8  8.9  9.   9.1  9.2  9.3  9.4  9.5  9.6  9.7]\n",
      "user_score : кол-во NaN 0 , процент NaN 0.0 %\n",
      "-------------------------\n",
      "rating ['AO' 'E' 'E10+' 'EC' 'K-A' 'M' 'RP' 'T' 'unknown']\n",
      "rating : кол-во NaN 0 , процент NaN 0.0 %\n"
     ]
    }
   ],
   "source": [
    "# Комментарий ревьюера 0\n",
    "# Посмотрим, что осталось\n",
    "temp = games.copy() \n",
    "list_c = ['name', 'platform', 'year_of_release', 'genre', 'critic_score', 'user_score', 'rating']\n",
    "print(temp.info())\n",
    "for col_l in list_c:\n",
    "  print('-'* 25)\n",
    "  print(col_l, temp[col_l].sort_values().unique())\n",
    "  print(col_l,': кол-во NaN',temp[col_l].isna().sum(),\n",
    "        ', процент NaN', round(temp[col_l].isna().mean()*100,2),'%') "
   ]
  },
  {
   "cell_type": "markdown",
   "metadata": {},
   "source": [
    "## Шаг 3. Проведем исследовательский анализ данных"
   ]
  },
  {
   "cell_type": "markdown",
   "metadata": {},
   "source": [
    "### Посмотрите, сколько игр выпускалось в разные годы. Важны ли данные за все периоды"
   ]
  },
  {
   "cell_type": "markdown",
   "metadata": {},
   "source": [
    "Посмотрим сколько выпускалось игр по годам."
   ]
  },
  {
   "cell_type": "code",
   "execution_count": 32,
   "metadata": {},
   "outputs": [
    {
     "data": {
      "text/plain": [
       "year_of_release\n",
       "1980       9\n",
       "1981      46\n",
       "1982      36\n",
       "1983      17\n",
       "1984      14\n",
       "1985      14\n",
       "1986      21\n",
       "1987      16\n",
       "1988      15\n",
       "1989      17\n",
       "1990      16\n",
       "1991      41\n",
       "1992      43\n",
       "1993      60\n",
       "1994     121\n",
       "1995     219\n",
       "1996     263\n",
       "1997     289\n",
       "1998     379\n",
       "1999     338\n",
       "2000     350\n",
       "2001     482\n",
       "2002     829\n",
       "2003     775\n",
       "2004     762\n",
       "2005     939\n",
       "2006    1006\n",
       "2007    1197\n",
       "2008    1427\n",
       "2009    1426\n",
       "2010    1255\n",
       "2011    1136\n",
       "2012     652\n",
       "2013     544\n",
       "2014     581\n",
       "2015     606\n",
       "2016     502\n",
       "Name: name, dtype: int64"
      ]
     },
     "execution_count": 32,
     "metadata": {},
     "output_type": "execute_result"
    }
   ],
   "source": [
    "games_by_year = games.groupby('year_of_release')['name'].count()\n",
    "games_by_year"
   ]
  },
  {
   "cell_type": "code",
   "execution_count": 33,
   "metadata": {},
   "outputs": [
    {
     "data": {
      "image/png": "[encoded data removed]",
      "text/plain": [
       "<Figure size 1080x504 with 1 Axes>"
      ]
     },
     "metadata": {
      "needs_background": "light"
     },
     "output_type": "display_data"
    }
   ],
   "source": [
    "year_of_release = games.pivot_table(index = 'year_of_release',\n",
    "        values = 'name', aggfunc = 'count').sort_values('year_of_release', ascending = False)\n",
    "\n",
    "year_of_release.plot(kind='bar', figsize=(15, 7), color ='skyblue')\n",
    "plt.title('Количество выпущенных игр по годам')\n",
    "plt.xlabel('Год выпуска')\n",
    "plt.ylabel('Количество игр')\n",
    "plt.show()"
   ]
  },
  {
   "cell_type": "markdown",
   "metadata": {},
   "source": [
    "**Промежуточный вывод**\n",
    "\n",
    "Больше всего игр выпускалось в 2008 и 2009 годах, далее идет 2010, 2007, 2011. До 1994 года выпускалось меньше 100 игр в год, поэтому данные до 1995 не так важны."
   ]
  },
  {
   "cell_type": "markdown",
   "metadata": {},
   "source": [
    "### Посмотрите, как менялись продажи по платформам. Выберите платформы с наибольшими суммарными продажами и постройте распределение по годам. За какой характерный срок появляются новые и исчезают старые платформы."
   ]
  },
  {
   "cell_type": "markdown",
   "metadata": {},
   "source": [
    "Посмотрим, как менялись продажи по платформам."
   ]
  },
  {
   "cell_type": "code",
   "execution_count": 34,
   "metadata": {},
   "outputs": [
    {
     "data": {
      "image/png": "[encoded data removed]",
      "text/plain": [
       "<Figure size 1080x504 with 1 Axes>"
      ]
     },
     "metadata": {
      "needs_background": "light"
     },
     "output_type": "display_data"
    }
   ],
   "source": [
    "platform_sales = games.pivot_table(index=['platform'], values='total_sales', aggfunc='sum').sort_values('total_sales',ascending=False)\n",
    "\n",
    "platform_sales.plot(kind='bar', figsize=(15, 7), color = 'c')\n",
    "plt.title('Продажи по платформам')\n",
    "plt.xlabel('Платформа')\n",
    "plt.ylabel('Количество игр')\n",
    "plt.show()"
   ]
  },
  {
   "cell_type": "code",
   "execution_count": 35,
   "metadata": {},
   "outputs": [
    {
     "data": {
      "text/html": [
       "<div>\n",
       "<style scoped>\n",
       "    .dataframe tbody tr th:only-of-type {\n",
       "        vertical-align: middle;\n",
       "    }\n",
       "\n",
       "    .dataframe tbody tr th {\n",
       "        vertical-align: top;\n",
       "    }\n",
       "\n",
       "    .dataframe thead th {\n",
       "        text-align: right;\n",
       "    }\n",
       "</style>\n",
       "<table border=\"1\" class=\"dataframe\">\n",
       "  <thead>\n",
       "    <tr style=\"text-align: right;\">\n",
       "      <th></th>\n",
       "      <th>total_sales</th>\n",
       "    </tr>\n",
       "    <tr>\n",
       "      <th>platform</th>\n",
       "      <th></th>\n",
       "    </tr>\n",
       "  </thead>\n",
       "  <tbody>\n",
       "    <tr>\n",
       "      <th>PS2</th>\n",
       "      <td>1233.56</td>\n",
       "    </tr>\n",
       "    <tr>\n",
       "      <th>X360</th>\n",
       "      <td>961.24</td>\n",
       "    </tr>\n",
       "    <tr>\n",
       "      <th>PS3</th>\n",
       "      <td>931.33</td>\n",
       "    </tr>\n",
       "    <tr>\n",
       "      <th>Wii</th>\n",
       "      <td>891.18</td>\n",
       "    </tr>\n",
       "    <tr>\n",
       "      <th>DS</th>\n",
       "      <td>802.78</td>\n",
       "    </tr>\n",
       "    <tr>\n",
       "      <th>PS</th>\n",
       "      <td>727.58</td>\n",
       "    </tr>\n",
       "  </tbody>\n",
       "</table>\n",
       "</div>"
      ],
      "text/plain": [
       "          total_sales\n",
       "platform             \n",
       "PS2           1233.56\n",
       "X360           961.24\n",
       "PS3            931.33\n",
       "Wii            891.18\n",
       "DS             802.78\n",
       "PS             727.58"
      ]
     },
     "execution_count": 35,
     "metadata": {},
     "output_type": "execute_result"
    }
   ],
   "source": [
    "platform_sales.head(6)"
   ]
  },
  {
   "cell_type": "markdown",
   "metadata": {},
   "source": [
    "Больше всего продаж на платформах PlayStation 2 и Xbox 360, PS3, Wii, DS, далее PlayStation."
   ]
  },
  {
   "cell_type": "markdown",
   "metadata": {},
   "source": [
    "Постройте распределение по годам для платформ с большими продажами."
   ]
  },
  {
   "cell_type": "code",
   "execution_count": 36,
   "metadata": {},
   "outputs": [],
   "source": [
    "sales_per_platform = (games.pivot_table(index=['year_of_release', 'platform'], \n",
    "                                        values='total_sales', aggfunc='sum').reset_index())"
   ]
  },
  {
   "cell_type": "markdown",
   "metadata": {},
   "source": [
    "Построим график распределение по годам для платформ с наибольшими суммарными продажами 'PS2', 'X360', 'PS3', 'Wii', 'DS', 'PS'."
   ]
  },
  {
   "cell_type": "code",
   "execution_count": 37,
   "metadata": {},
   "outputs": [
    {
     "data": {
      "image/png": "[encoded data removed]",
      "text/plain": [
       "<Figure size 720x432 with 1 Axes>"
      ]
     },
     "metadata": {
      "needs_background": "light"
     },
     "output_type": "display_data"
    }
   ],
   "source": [
    "platform_sales_top = sales_per_platform[(sales_per_platform['platform'] == 'PS2') \n",
    "                                            | (sales_per_platform['platform'] == 'X360') \n",
    "                                            | (sales_per_platform['platform'] == 'PS3') \n",
    "                                            | (sales_per_platform['platform'] == 'Wii') \n",
    "                                            | (sales_per_platform['platform'] == 'DS') \n",
    "                                            | (sales_per_platform['platform'] == 'PS') ]    \n",
    "plt.figure(figsize=(10, 6))\n",
    "sns.lineplot(data = platform_sales_top, x = 'year_of_release', y = 'total_sales', hue = 'platform')\n",
    "plt.title('Топ платформ по продажам в зависимости от года')\n",
    "plt.xlabel('Год выпуска')\n",
    "plt.ylabel('Продажи')\n",
    "plt.show()"
   ]
  },
  {
   "cell_type": "code",
   "execution_count": 38,
   "metadata": {},
   "outputs": [
    {
     "data": {
      "text/plain": [
       "7.0"
      ]
     },
     "execution_count": 38,
     "metadata": {},
     "output_type": "execute_result"
    }
   ],
   "source": [
    "# Комментарий ревьюера 0\n",
    "temp = games.copy() \n",
    "time_life = temp.pivot_table(index='platform', values='year_of_release', aggfunc=['min', 'max']).reset_index()\n",
    "time_life['life'] = time_life['max'] - time_life['min'] + 1 # в срок жизни платформы, должны входить границы диапазона, \n",
    "                                                            # поэтому +1\n",
    "time_life['life'].median()"
   ]
  },
  {
   "cell_type": "code",
   "execution_count": 39,
   "metadata": {},
   "outputs": [
    {
     "data": {
      "text/html": [
       "<div>\n",
       "<style scoped>\n",
       "    .dataframe tbody tr th:only-of-type {\n",
       "        vertical-align: middle;\n",
       "    }\n",
       "\n",
       "    .dataframe tbody tr th {\n",
       "        vertical-align: top;\n",
       "    }\n",
       "\n",
       "    .dataframe thead th {\n",
       "        text-align: right;\n",
       "    }\n",
       "</style>\n",
       "<table border=\"1\" class=\"dataframe\">\n",
       "  <thead>\n",
       "    <tr style=\"text-align: right;\">\n",
       "      <th></th>\n",
       "      <th>year_of_release</th>\n",
       "      <th>platform</th>\n",
       "      <th>total_sales</th>\n",
       "    </tr>\n",
       "  </thead>\n",
       "  <tbody>\n",
       "    <tr>\n",
       "      <th>8</th>\n",
       "      <td>1985</td>\n",
       "      <td>DS</td>\n",
       "      <td>0.02</td>\n",
       "    </tr>\n",
       "    <tr>\n",
       "      <th>121</th>\n",
       "      <td>2004</td>\n",
       "      <td>DS</td>\n",
       "      <td>17.27</td>\n",
       "    </tr>\n",
       "    <tr>\n",
       "      <th>128</th>\n",
       "      <td>2005</td>\n",
       "      <td>DS</td>\n",
       "      <td>130.14</td>\n",
       "    </tr>\n",
       "    <tr>\n",
       "      <th>136</th>\n",
       "      <td>2006</td>\n",
       "      <td>DS</td>\n",
       "      <td>119.81</td>\n",
       "    </tr>\n",
       "    <tr>\n",
       "      <th>147</th>\n",
       "      <td>2007</td>\n",
       "      <td>DS</td>\n",
       "      <td>146.94</td>\n",
       "    </tr>\n",
       "    <tr>\n",
       "      <th>158</th>\n",
       "      <td>2008</td>\n",
       "      <td>DS</td>\n",
       "      <td>145.31</td>\n",
       "    </tr>\n",
       "    <tr>\n",
       "      <th>166</th>\n",
       "      <td>2009</td>\n",
       "      <td>DS</td>\n",
       "      <td>119.54</td>\n",
       "    </tr>\n",
       "    <tr>\n",
       "      <th>173</th>\n",
       "      <td>2010</td>\n",
       "      <td>DS</td>\n",
       "      <td>85.02</td>\n",
       "    </tr>\n",
       "    <tr>\n",
       "      <th>181</th>\n",
       "      <td>2011</td>\n",
       "      <td>DS</td>\n",
       "      <td>26.18</td>\n",
       "    </tr>\n",
       "    <tr>\n",
       "      <th>190</th>\n",
       "      <td>2012</td>\n",
       "      <td>DS</td>\n",
       "      <td>11.01</td>\n",
       "    </tr>\n",
       "    <tr>\n",
       "      <th>199</th>\n",
       "      <td>2013</td>\n",
       "      <td>DS</td>\n",
       "      <td>1.54</td>\n",
       "    </tr>\n",
       "  </tbody>\n",
       "</table>\n",
       "</div>"
      ],
      "text/plain": [
       "     year_of_release platform  total_sales\n",
       "8               1985       DS         0.02\n",
       "121             2004       DS        17.27\n",
       "128             2005       DS       130.14\n",
       "136             2006       DS       119.81\n",
       "147             2007       DS       146.94\n",
       "158             2008       DS       145.31\n",
       "166             2009       DS       119.54\n",
       "173             2010       DS        85.02\n",
       "181             2011       DS        26.18\n",
       "190             2012       DS        11.01\n",
       "199             2013       DS         1.54"
      ]
     },
     "execution_count": 39,
     "metadata": {},
     "output_type": "execute_result"
    }
   ],
   "source": [
    "platform_sales_top[platform_sales_top['platform'] == 'DS']"
   ]
  },
  {
   "cell_type": "markdown",
   "metadata": {},
   "source": [
    "Исходя из графика, построенного выше, можно сделать вывод о том, что большинство новых платформ быстро набирают популярность, но в течение примерна 6-10 лет их популярность снижается при выходе новой платформы. Средний срок жизни платформы - 7 лет. "
   ]
  },
  {
   "cell_type": "markdown",
   "metadata": {},
   "source": [
    "Удалим выпуск 1985 для платформы DS."
   ]
  },
  {
   "cell_type": "code",
   "execution_count": 40,
   "metadata": {},
   "outputs": [],
   "source": [
    "games = games[(games['platform'] != 'DS') | ((games['platform'] == 'DS') & (games['year_of_release'] != 1985))]"
   ]
  },
  {
   "cell_type": "code",
   "execution_count": 41,
   "metadata": {},
   "outputs": [
    {
     "data": {
      "text/html": [
       "<div>\n",
       "<style scoped>\n",
       "    .dataframe tbody tr th:only-of-type {\n",
       "        vertical-align: middle;\n",
       "    }\n",
       "\n",
       "    .dataframe tbody tr th {\n",
       "        vertical-align: top;\n",
       "    }\n",
       "\n",
       "    .dataframe thead th {\n",
       "        text-align: right;\n",
       "    }\n",
       "</style>\n",
       "<table border=\"1\" class=\"dataframe\">\n",
       "  <thead>\n",
       "    <tr style=\"text-align: right;\">\n",
       "      <th></th>\n",
       "      <th>year_of_release</th>\n",
       "      <th>platform</th>\n",
       "      <th>total_sales</th>\n",
       "    </tr>\n",
       "  </thead>\n",
       "  <tbody>\n",
       "    <tr>\n",
       "      <th>8</th>\n",
       "      <td>1985</td>\n",
       "      <td>DS</td>\n",
       "      <td>0.02</td>\n",
       "    </tr>\n",
       "    <tr>\n",
       "      <th>121</th>\n",
       "      <td>2004</td>\n",
       "      <td>DS</td>\n",
       "      <td>17.27</td>\n",
       "    </tr>\n",
       "    <tr>\n",
       "      <th>128</th>\n",
       "      <td>2005</td>\n",
       "      <td>DS</td>\n",
       "      <td>130.14</td>\n",
       "    </tr>\n",
       "    <tr>\n",
       "      <th>136</th>\n",
       "      <td>2006</td>\n",
       "      <td>DS</td>\n",
       "      <td>119.81</td>\n",
       "    </tr>\n",
       "    <tr>\n",
       "      <th>147</th>\n",
       "      <td>2007</td>\n",
       "      <td>DS</td>\n",
       "      <td>146.94</td>\n",
       "    </tr>\n",
       "    <tr>\n",
       "      <th>158</th>\n",
       "      <td>2008</td>\n",
       "      <td>DS</td>\n",
       "      <td>145.31</td>\n",
       "    </tr>\n",
       "    <tr>\n",
       "      <th>166</th>\n",
       "      <td>2009</td>\n",
       "      <td>DS</td>\n",
       "      <td>119.54</td>\n",
       "    </tr>\n",
       "    <tr>\n",
       "      <th>173</th>\n",
       "      <td>2010</td>\n",
       "      <td>DS</td>\n",
       "      <td>85.02</td>\n",
       "    </tr>\n",
       "    <tr>\n",
       "      <th>181</th>\n",
       "      <td>2011</td>\n",
       "      <td>DS</td>\n",
       "      <td>26.18</td>\n",
       "    </tr>\n",
       "    <tr>\n",
       "      <th>190</th>\n",
       "      <td>2012</td>\n",
       "      <td>DS</td>\n",
       "      <td>11.01</td>\n",
       "    </tr>\n",
       "    <tr>\n",
       "      <th>199</th>\n",
       "      <td>2013</td>\n",
       "      <td>DS</td>\n",
       "      <td>1.54</td>\n",
       "    </tr>\n",
       "  </tbody>\n",
       "</table>\n",
       "</div>"
      ],
      "text/plain": [
       "     year_of_release platform  total_sales\n",
       "8               1985       DS         0.02\n",
       "121             2004       DS        17.27\n",
       "128             2005       DS       130.14\n",
       "136             2006       DS       119.81\n",
       "147             2007       DS       146.94\n",
       "158             2008       DS       145.31\n",
       "166             2009       DS       119.54\n",
       "173             2010       DS        85.02\n",
       "181             2011       DS        26.18\n",
       "190             2012       DS        11.01\n",
       "199             2013       DS         1.54"
      ]
     },
     "execution_count": 41,
     "metadata": {},
     "output_type": "execute_result"
    }
   ],
   "source": [
    "platform_sales_top[platform_sales_top['platform'] == 'DS']"
   ]
  },
  {
   "cell_type": "markdown",
   "metadata": {},
   "source": [
    "**Промежуточный вывод**\n",
    "\n",
    "Во всем датафрейме больше всего продаж на платформах PlayStation 2 и Xbox 360, PS3, Wii, DS, далее PlayStation.\n",
    "\n",
    "Исходя из графика распределения самых прибыльных платформ по годам, можно сделать вывод о том, что большинство новых платформ быстро набирают популярность, но в течение 6-10 лет их популярность снижается при выходе новой платформы. Посчитав можно сделать вывод, что средний срок жизни платформы - 7 лет.\n",
    "\n",
    "Удалим выпуск 1985 для платформы DS."
   ]
  },
  {
   "cell_type": "markdown",
   "metadata": {},
   "source": [
    "### Возьмите данные за соответствующий актуальный период. Актуальный период определите самостоятельно в результате исследования предыдущих вопросов. Основной фактор — эти данные помогут построить прогноз на 2017 год."
   ]
  },
  {
   "cell_type": "markdown",
   "metadata": {},
   "source": [
    "**Промежуточный вывод**\n",
    "\n",
    "Далее будем рассматривать период после 2014, так как для целей прогнозирования берутся обыно данные не более чем за 2-3 года особенно в динамично меняющейся игровой индустрии. "
   ]
  },
  {
   "cell_type": "markdown",
   "metadata": {},
   "source": [
    "### Не учитывайте в работе данные за предыдущие годы."
   ]
  },
  {
   "cell_type": "code",
   "execution_count": 42,
   "metadata": {},
   "outputs": [],
   "source": [
    "games = games[games['year_of_release'] >= 2014]"
   ]
  },
  {
   "cell_type": "markdown",
   "metadata": {},
   "source": [
    "**Промежуточный вывод**\n",
    "\n",
    "Далее будем рассматривать период включая и после 2014, профильтровали данные. "
   ]
  },
  {
   "cell_type": "markdown",
   "metadata": {},
   "source": [
    "### Какие платформы лидируют по продажам, растут или падают? Выберите несколько потенциально прибыльных платформ."
   ]
  },
  {
   "cell_type": "code",
   "execution_count": 43,
   "metadata": {},
   "outputs": [
    {
     "data": {
      "text/html": [
       "<div>\n",
       "<style scoped>\n",
       "    .dataframe tbody tr th:only-of-type {\n",
       "        vertical-align: middle;\n",
       "    }\n",
       "\n",
       "    .dataframe tbody tr th {\n",
       "        vertical-align: top;\n",
       "    }\n",
       "\n",
       "    .dataframe thead th {\n",
       "        text-align: right;\n",
       "    }\n",
       "</style>\n",
       "<table border=\"1\" class=\"dataframe\">\n",
       "  <thead>\n",
       "    <tr style=\"text-align: right;\">\n",
       "      <th></th>\n",
       "      <th>total_sales</th>\n",
       "    </tr>\n",
       "    <tr>\n",
       "      <th>platform</th>\n",
       "      <th></th>\n",
       "    </tr>\n",
       "  </thead>\n",
       "  <tbody>\n",
       "    <tr>\n",
       "      <th>PS4</th>\n",
       "      <td>288.15</td>\n",
       "    </tr>\n",
       "    <tr>\n",
       "      <th>XOne</th>\n",
       "      <td>140.36</td>\n",
       "    </tr>\n",
       "    <tr>\n",
       "      <th>3DS</th>\n",
       "      <td>86.68</td>\n",
       "    </tr>\n",
       "    <tr>\n",
       "      <th>PS3</th>\n",
       "      <td>68.18</td>\n",
       "    </tr>\n",
       "    <tr>\n",
       "      <th>X360</th>\n",
       "      <td>48.22</td>\n",
       "    </tr>\n",
       "    <tr>\n",
       "      <th>WiiU</th>\n",
       "      <td>42.98</td>\n",
       "    </tr>\n",
       "    <tr>\n",
       "      <th>PC</th>\n",
       "      <td>27.05</td>\n",
       "    </tr>\n",
       "    <tr>\n",
       "      <th>PSV</th>\n",
       "      <td>22.40</td>\n",
       "    </tr>\n",
       "    <tr>\n",
       "      <th>Wii</th>\n",
       "      <td>5.07</td>\n",
       "    </tr>\n",
       "    <tr>\n",
       "      <th>PSP</th>\n",
       "      <td>0.36</td>\n",
       "    </tr>\n",
       "  </tbody>\n",
       "</table>\n",
       "</div>"
      ],
      "text/plain": [
       "          total_sales\n",
       "platform             \n",
       "PS4            288.15\n",
       "XOne           140.36\n",
       "3DS             86.68\n",
       "PS3             68.18\n",
       "X360            48.22\n",
       "WiiU            42.98\n",
       "PC              27.05\n",
       "PSV             22.40\n",
       "Wii              5.07\n",
       "PSP              0.36"
      ]
     },
     "execution_count": 43,
     "metadata": {},
     "output_type": "execute_result"
    }
   ],
   "source": [
    "platform_sales = games.pivot_table(index=['platform'], values='total_sales', aggfunc='sum').sort_values('total_sales',ascending=False)\n",
    "platform_sales"
   ]
  },
  {
   "cell_type": "markdown",
   "metadata": {},
   "source": [
    "Построим график распределение по годам для платформ с наибольшими суммарными продажами 'PS4', 'XOne', '3DS', 'PS3', 'X360', 'WiiU'."
   ]
  },
  {
   "cell_type": "code",
   "execution_count": 44,
   "metadata": {},
   "outputs": [],
   "source": [
    "sales_platform = (games.pivot_table(index=['year_of_release', 'platform'], \n",
    "                                        values='total_sales', aggfunc='sum').reset_index())"
   ]
  },
  {
   "cell_type": "code",
   "execution_count": 45,
   "metadata": {},
   "outputs": [
    {
     "data": {
      "image/png": "[encoded data removed]",
      "text/plain": [
       "<Figure size 720x432 with 1 Axes>"
      ]
     },
     "metadata": {
      "needs_background": "light"
     },
     "output_type": "display_data"
    }
   ],
   "source": [
    "platform_sales_tops = sales_platform[(sales_platform['platform'] == 'PS4') \n",
    "                                            | (sales_platform['platform'] == 'XOne') \n",
    "                                            | (sales_platform['platform'] == '3DS') \n",
    "                                            | (sales_platform['platform'] == 'PS3') \n",
    "                                            | (sales_platform['platform'] == 'X360') \n",
    "                                            | (sales_platform['platform'] == 'WiiU')]    \n",
    "plt.figure(figsize=(10, 6))\n",
    "sns.barplot(data = platform_sales_tops, x = 'platform', y = 'total_sales', hue = 'year_of_release')\n",
    "plt.title('Топ платформ по продажам в зависимости от года')\n",
    "plt.xlabel('Платформа')\n",
    "plt.ylabel('Продажи')\n",
    "plt.legend(title='Год выпуска:')\n",
    "plt.show()"
   ]
  },
  {
   "cell_type": "markdown",
   "metadata": {},
   "source": [
    "**Промежуточный вывод**\n",
    "\n",
    "PS4 лидирует по продажам во всех 3-х годах, затем идет X0ne, 3DS и PS3, падают в продажах WiiU и Х360."
   ]
  },
  {
   "cell_type": "markdown",
   "metadata": {},
   "source": [
    "### Постройте график «ящик с усами» по глобальным продажам игр в разбивке по платформам. Опишите результат."
   ]
  },
  {
   "cell_type": "code",
   "execution_count": 46,
   "metadata": {},
   "outputs": [
    {
     "data": {
      "image/png": "[encoded data removed]",
      "text/plain": [
       "<Figure size 1080x504 with 1 Axes>"
      ]
     },
     "metadata": {
      "needs_background": "light"
     },
     "output_type": "display_data"
    }
   ],
   "source": [
    "plt.figure(figsize=(15, 7))\n",
    "sns.boxplot(x=games['platform'], y=games['total_sales'])\n",
    "plt.ylim([0, None])\n",
    "plt.title('Продажи игр в разбивке по платформам')\n",
    "plt.xlabel('Платформа')\n",
    "plt.ylabel('Продажи')\n",
    "plt.show()"
   ]
  },
  {
   "cell_type": "code",
   "execution_count": 47,
   "metadata": {},
   "outputs": [
    {
     "data": {
      "image/png": "[encoded data removed]",
      "text/plain": [
       "<Figure size 1080x504 with 1 Axes>"
      ]
     },
     "metadata": {
      "needs_background": "light"
     },
     "output_type": "display_data"
    }
   ],
   "source": [
    "plt.figure(figsize=(15, 7))\n",
    "sns.boxplot(x=games['platform'], y=games['total_sales'])\n",
    "plt.ylim([0, 2])\n",
    "plt.title('Продажи игр в разбивке по платформам')\n",
    "plt.xlabel('Платформа')\n",
    "plt.ylabel('Продажи')\n",
    "plt.show()"
   ]
  },
  {
   "cell_type": "markdown",
   "metadata": {},
   "source": [
    "**Промежуточный вывод**\n",
    "\n",
    "Из графика без ограничений по продажам видно, что у PS4 больше всего разброс в продажах достигающий 12 млн. Больше всего медиана по продажам у WiiU около 0,45, затем идет XOne со значением 0,30, PS4 - 0,26 и 3DS - 0,25. "
   ]
  },
  {
   "cell_type": "markdown",
   "metadata": {},
   "source": [
    "### Посмотрите, как влияют на продажи внутри одной популярной платформы отзывы пользователей и критиков. Постройте диаграмму рассеяния и посчитайте корреляцию между отзывами и продажами. Сформулируйте выводы."
   ]
  },
  {
   "cell_type": "markdown",
   "metadata": {},
   "source": [
    "Посмотрите, как влияют на продажи внутри одной популярной платформы отзывы пользователей и критиков. "
   ]
  },
  {
   "cell_type": "code",
   "execution_count": 48,
   "metadata": {},
   "outputs": [],
   "source": [
    "games_ps4 = games[(games['platform'] == 'PS4') & (games['critic_score'] > 0)]"
   ]
  },
  {
   "cell_type": "markdown",
   "metadata": {},
   "source": [
    "Постройте диаграмму рассеяния."
   ]
  },
  {
   "cell_type": "code",
   "execution_count": 49,
   "metadata": {},
   "outputs": [
    {
     "data": {
      "image/png": "[encoded data removed]",
      "text/plain": [
       "<Figure size 720x432 with 1 Axes>"
      ]
     },
     "metadata": {
      "needs_background": "light"
     },
     "output_type": "display_data"
    }
   ],
   "source": [
    "games_ps4.plot(kind='scatter', x='critic_score', y='total_sales', ec='blue', alpha = 0.5, figsize=(10,6))\n",
    "plt.title('Корреляция продаж и оценки критиков для платформы')\n",
    "plt.xlabel('Оценки')\n",
    "plt.ylabel('Продажи')\n",
    "plt.show()"
   ]
  },
  {
   "cell_type": "markdown",
   "metadata": {},
   "source": [
    "Посчитайте корреляцию между отзывами критиков и продажами. "
   ]
  },
  {
   "cell_type": "code",
   "execution_count": 50,
   "metadata": {},
   "outputs": [
    {
     "data": {
      "text/plain": [
       "0.40266141068104083"
      ]
     },
     "execution_count": 50,
     "metadata": {},
     "output_type": "execute_result"
    }
   ],
   "source": [
    "games_ps4['total_sales'].corr(games_ps4['critic_score'])"
   ]
  },
  {
   "cell_type": "code",
   "execution_count": 51,
   "metadata": {},
   "outputs": [],
   "source": [
    "games_ps4 = games[(games['platform'] == 'PS4') & (games['user_score'] > 0)]"
   ]
  },
  {
   "cell_type": "code",
   "execution_count": 52,
   "metadata": {},
   "outputs": [
    {
     "data": {
      "image/png": "[encoded data removed]",
      "text/plain": [
       "<Figure size 720x432 with 1 Axes>"
      ]
     },
     "metadata": {
      "needs_background": "light"
     },
     "output_type": "display_data"
    }
   ],
   "source": [
    "games_ps4.plot(kind='scatter', x='user_score', y='total_sales', ec='green', alpha = 0.5, figsize=(10,6))\n",
    "plt.title('Корреляция продаж и оценки пользователей для платформы')\n",
    "plt.xlabel('Оценки')\n",
    "plt.ylabel('Продажи')\n",
    "plt.show()"
   ]
  },
  {
   "cell_type": "markdown",
   "metadata": {},
   "source": [
    "Посчитайте корреляцию между отзывами пользователей и продажами."
   ]
  },
  {
   "cell_type": "code",
   "execution_count": 53,
   "metadata": {},
   "outputs": [
    {
     "data": {
      "text/plain": [
       "-0.040131589472697356"
      ]
     },
     "execution_count": 53,
     "metadata": {},
     "output_type": "execute_result"
    }
   ],
   "source": [
    "games_ps4['total_sales'].corr(games_ps4['user_score'])"
   ]
  },
  {
   "cell_type": "markdown",
   "metadata": {},
   "source": [
    "**Промежуточный вывод**\n",
    "\n",
    "На основании диаграммы рассеивания по продажам и отзывам критиков, можно сделать вывод, что с увеличением числа оценок от критиков и растут продажи. Наблюдается положительная корреляция, чем больше оценков критиков, тем больше количество продаж.\n",
    "\n",
    "На основании диаграммы рассеивания по продажам и отзывам пользователей, можно сделать вывод, что с увеличением числа оценок от пользователей продажи не растут. Прослеживается отрицательная корреляция пользовательских оценок и продаж игр. Можно сделать вывод что покупатели не руководствуются отзывами пользователей при прокупке."
   ]
  },
  {
   "cell_type": "markdown",
   "metadata": {},
   "source": [
    "### Соотнесите выводы с продажами игр на других платформах."
   ]
  },
  {
   "cell_type": "code",
   "execution_count": 54,
   "metadata": {},
   "outputs": [
    {
     "data": {
      "text/html": [
       "<div>\n",
       "<style scoped>\n",
       "    .dataframe tbody tr th:only-of-type {\n",
       "        vertical-align: middle;\n",
       "    }\n",
       "\n",
       "    .dataframe tbody tr th {\n",
       "        vertical-align: top;\n",
       "    }\n",
       "\n",
       "    .dataframe thead th {\n",
       "        text-align: right;\n",
       "    }\n",
       "</style>\n",
       "<table border=\"1\" class=\"dataframe\">\n",
       "  <thead>\n",
       "    <tr style=\"text-align: right;\">\n",
       "      <th></th>\n",
       "      <th>total_sales</th>\n",
       "    </tr>\n",
       "    <tr>\n",
       "      <th>platform</th>\n",
       "      <th></th>\n",
       "    </tr>\n",
       "  </thead>\n",
       "  <tbody>\n",
       "    <tr>\n",
       "      <th>PS4</th>\n",
       "      <td>288.15</td>\n",
       "    </tr>\n",
       "    <tr>\n",
       "      <th>XOne</th>\n",
       "      <td>140.36</td>\n",
       "    </tr>\n",
       "    <tr>\n",
       "      <th>3DS</th>\n",
       "      <td>86.68</td>\n",
       "    </tr>\n",
       "    <tr>\n",
       "      <th>PS3</th>\n",
       "      <td>68.18</td>\n",
       "    </tr>\n",
       "    <tr>\n",
       "      <th>X360</th>\n",
       "      <td>48.22</td>\n",
       "    </tr>\n",
       "    <tr>\n",
       "      <th>WiiU</th>\n",
       "      <td>42.98</td>\n",
       "    </tr>\n",
       "  </tbody>\n",
       "</table>\n",
       "</div>"
      ],
      "text/plain": [
       "          total_sales\n",
       "platform             \n",
       "PS4            288.15\n",
       "XOne           140.36\n",
       "3DS             86.68\n",
       "PS3             68.18\n",
       "X360            48.22\n",
       "WiiU            42.98"
      ]
     },
     "execution_count": 54,
     "metadata": {},
     "output_type": "execute_result"
    }
   ],
   "source": [
    "platform_sales.head(6)"
   ]
  },
  {
   "cell_type": "code",
   "execution_count": 55,
   "metadata": {},
   "outputs": [],
   "source": [
    "corr_platforms = ['XOne', '3DS', 'PS3', 'X360', 'WiiU']"
   ]
  },
  {
   "cell_type": "code",
   "execution_count": 56,
   "metadata": {},
   "outputs": [
    {
     "data": {
      "text/plain": [
       "1689"
      ]
     },
     "execution_count": 56,
     "metadata": {},
     "output_type": "execute_result"
    }
   ],
   "source": [
    "# Комментарий ревьюера 00\n",
    "temp = games.copy() # создаем копию датасета до преобразования\n",
    "len(temp)"
   ]
  },
  {
   "cell_type": "code",
   "execution_count": 57,
   "metadata": {},
   "outputs": [],
   "source": [
    "#games = games[(games['user_score'] > 0) & (games['critic_score'] > 0)]"
   ]
  },
  {
   "cell_type": "code",
   "execution_count": 58,
   "metadata": {},
   "outputs": [
    {
     "name": "stdout",
     "output_type": "stream",
     "text": [
      "888\n",
      "718\n",
      "704\n"
     ]
    }
   ],
   "source": [
    "# Комментарий ревьюера 00\n",
    "print(len(temp[(temp['user_score'] > 0)]))\n",
    "print(len(temp[(temp['critic_score'] > 0)]))\n",
    "print(len(temp[(temp['user_score'] > 0) & (temp['critic_score'] > 0)]))"
   ]
  },
  {
   "cell_type": "code",
   "execution_count": 59,
   "metadata": {
    "scrolled": false
   },
   "outputs": [
    {
     "data": {
      "image/png": "[encoded data removed]",
      "text/plain": [
       "<Figure size 1080x360 with 2 Axes>"
      ]
     },
     "metadata": {
      "needs_background": "light"
     },
     "output_type": "display_data"
    },
    {
     "data": {
      "image/png": "[encoded data removed]",
      "text/plain": [
       "<Figure size 1080x360 with 2 Axes>"
      ]
     },
     "metadata": {
      "needs_background": "light"
     },
     "output_type": "display_data"
    },
    {
     "data": {
      "image/png": "[encoded data removed]",
      "text/plain": [
       "<Figure size 1080x360 with 2 Axes>"
      ]
     },
     "metadata": {
      "needs_background": "light"
     },
     "output_type": "display_data"
    },
    {
     "data": {
      "image/png": "[encoded data removed]",
      "text/plain": [
       "<Figure size 1080x360 with 2 Axes>"
      ]
     },
     "metadata": {
      "needs_background": "light"
     },
     "output_type": "display_data"
    },
    {
     "data": {
      "image/png": "[encoded data removed]",
      "text/plain": [
       "<Figure size 1080x360 with 2 Axes>"
      ]
     },
     "metadata": {
      "needs_background": "light"
     },
     "output_type": "display_data"
    }
   ],
   "source": [
    "for pl in corr_platforms:\n",
    "    fig, ax = plt.subplots(1,2, figsize = (15,5))\n",
    "    ax = ax.ravel()\n",
    "    games[games['user_score'] > 0].query('platform == @pl').plot(kind='scatter', x='user_score', y='total_sales', ec='green', alpha = 0.5, ax = ax[0], \n",
    "                                        xlabel='Оценки Пользователей',\n",
    "                                        ylabel='Продажи',\n",
    "                                        title='Корреляция продаж и оценок Пользователей'\n",
    "                                       )\n",
    "    games[games['critic_score'] > 0].query('platform == @pl').plot(kind='scatter', x='critic_score', y='total_sales', ec='red', alpha = 0.5, ax = ax[1],\n",
    "                                        xlabel='Оценки Критиков',\n",
    "                                        ylabel='Продажи',\n",
    "                                        title='Корреляция продаж и оценок Критиков'\n",
    "                                       )\n",
    "    fig.suptitle(pl)"
   ]
  },
  {
   "cell_type": "code",
   "execution_count": 60,
   "metadata": {},
   "outputs": [
    {
     "name": "stdout",
     "output_type": "stream",
     "text": [
      "XOne\n",
      "Отзывы Критиков\n",
      "0.43\n",
      "Отзывы Пользователей\n",
      "-0.07\n",
      " \n",
      "3DS\n",
      "Отзывы Критиков\n",
      "0.31\n",
      "Отзывы Пользователей\n",
      "0.22\n",
      " \n",
      "PS3\n",
      "Отзывы Критиков\n",
      "0.45\n",
      "Отзывы Пользователей\n",
      "-0.17\n",
      " \n",
      "X360\n",
      "Отзывы Критиков\n",
      "0.53\n",
      "Отзывы Пользователей\n",
      "-0.14\n",
      " \n",
      "WiiU\n",
      "Отзывы Критиков\n",
      "0.37\n",
      "Отзывы Пользователей\n",
      "0.41\n",
      " \n"
     ]
    }
   ],
   "source": [
    "for pl in corr_platforms:\n",
    "    print(pl)\n",
    "    print('Отзывы Критиков')\n",
    "    print(games[games['critic_score'] > 0].query('platform == @pl')['total_sales'].corr(games.query('platform == @pl')['critic_score']).round(2))\n",
    "    print('Отзывы Пользователей')\n",
    "    print(games[games['user_score'] > 0].query('platform == @pl')['total_sales'].corr(games.query('platform == @pl')['user_score']).round(2))\n",
    "    print(' ')"
   ]
  },
  {
   "cell_type": "code",
   "execution_count": 61,
   "metadata": {},
   "outputs": [
    {
     "name": "stdout",
     "output_type": "stream",
     "text": [
      "888\n",
      "718\n",
      "704\n",
      "888\n",
      "718\n",
      "704\n"
     ]
    }
   ],
   "source": [
    "print(len(temp[(temp['user_score'] > 0)]))\n",
    "print(len(temp[(temp['critic_score'] > 0)]))\n",
    "print(len(temp[(temp['user_score'] > 0) & (temp['critic_score'] > 0)]))\n",
    "\n",
    "print(len(games[(games['user_score'] > 0)]))\n",
    "print(len(games[(games['critic_score'] > 0)]))\n",
    "print(len(games[(games['user_score'] > 0) & (games['critic_score'] > 0)]))"
   ]
  },
  {
   "cell_type": "markdown",
   "metadata": {},
   "source": [
    "**Промежуточные Выводы**\n",
    "\n",
    "Данные по корреляции между выручкой и оценками критиков и пользователей по платформам XOne, 3DS, PS3, X360, WiiU совпадает с данными по PS3, а также в общем по датафрейму. В общем, наблюдается положительная корреляция между оценками критиков и выручкой. \n",
    "Во всех случаях увеличение количества оценок критиков ведет к увеличению продаж. По оценкам пользователей и продажам нет такой положительной однозначной корреляции: у платформы XOne, X360 и PS3 отрицательная корреляция, это значит что увеличение оценок пользователей не ведет к увеличению продаж, у платформ 3DS и WiiU  положительная корреляция почти такая же как и у оценок критиков. "
   ]
  },
  {
   "cell_type": "code",
   "execution_count": 62,
   "metadata": {},
   "outputs": [
    {
     "name": "stdout",
     "output_type": "stream",
     "text": [
      "1689 1689 0.0\n"
     ]
    }
   ],
   "source": [
    "# Комментарий ревьюера\n",
    "# Проверим сколько удалено строк датасета\n",
    "a, b = len(temp), len(games)\n",
    "print(a, b, round((a-b)/a*100, 2))"
   ]
  },
  {
   "cell_type": "markdown",
   "metadata": {},
   "source": [
    "### Посмотрите на общее распределение игр по жанрам. Что можно сказать о самых прибыльных жанрах? Выделяются ли жанры с высокими и низкими продажами? "
   ]
  },
  {
   "cell_type": "markdown",
   "metadata": {},
   "source": [
    "Посмотрите на общее распределение игр по жанрам."
   ]
  },
  {
   "cell_type": "code",
   "execution_count": 63,
   "metadata": {},
   "outputs": [
    {
     "data": {
      "text/plain": [
       "genre\n",
       "Action          619\n",
       "Role-Playing    221\n",
       "Adventure       185\n",
       "Sports          161\n",
       "Shooter         128\n",
       "Misc            113\n",
       "Racing           69\n",
       "Fighting         60\n",
       "Simulation       44\n",
       "Platform         38\n",
       "Strategy         37\n",
       "Puzzle           14\n",
       "Name: name, dtype: int64"
      ]
     },
     "execution_count": 63,
     "metadata": {},
     "output_type": "execute_result"
    }
   ],
   "source": [
    "games.groupby('genre')['name'].count().sort_values(ascending=False)"
   ]
  },
  {
   "cell_type": "code",
   "execution_count": 64,
   "metadata": {},
   "outputs": [
    {
     "data": {
      "text/html": [
       "<div>\n",
       "<style scoped>\n",
       "    .dataframe tbody tr th:only-of-type {\n",
       "        vertical-align: middle;\n",
       "    }\n",
       "\n",
       "    .dataframe tbody tr th {\n",
       "        vertical-align: top;\n",
       "    }\n",
       "\n",
       "    .dataframe thead th {\n",
       "        text-align: right;\n",
       "    }\n",
       "</style>\n",
       "<table border=\"1\" class=\"dataframe\">\n",
       "  <thead>\n",
       "    <tr style=\"text-align: right;\">\n",
       "      <th></th>\n",
       "      <th>Сумма</th>\n",
       "    </tr>\n",
       "    <tr>\n",
       "      <th>genre</th>\n",
       "      <th></th>\n",
       "    </tr>\n",
       "  </thead>\n",
       "  <tbody>\n",
       "    <tr>\n",
       "      <th>Action</th>\n",
       "      <td>199.36</td>\n",
       "    </tr>\n",
       "    <tr>\n",
       "      <th>Shooter</th>\n",
       "      <td>170.94</td>\n",
       "    </tr>\n",
       "    <tr>\n",
       "      <th>Sports</th>\n",
       "      <td>109.48</td>\n",
       "    </tr>\n",
       "    <tr>\n",
       "      <th>Role-Playing</th>\n",
       "      <td>101.44</td>\n",
       "    </tr>\n",
       "    <tr>\n",
       "      <th>Misc</th>\n",
       "      <td>37.55</td>\n",
       "    </tr>\n",
       "    <tr>\n",
       "      <th>Fighting</th>\n",
       "      <td>28.22</td>\n",
       "    </tr>\n",
       "    <tr>\n",
       "      <th>Racing</th>\n",
       "      <td>27.52</td>\n",
       "    </tr>\n",
       "    <tr>\n",
       "      <th>Platform</th>\n",
       "      <td>18.09</td>\n",
       "    </tr>\n",
       "    <tr>\n",
       "      <th>Adventure</th>\n",
       "      <td>17.55</td>\n",
       "    </tr>\n",
       "    <tr>\n",
       "      <th>Simulation</th>\n",
       "      <td>13.13</td>\n",
       "    </tr>\n",
       "    <tr>\n",
       "      <th>Strategy</th>\n",
       "      <td>3.96</td>\n",
       "    </tr>\n",
       "    <tr>\n",
       "      <th>Puzzle</th>\n",
       "      <td>2.21</td>\n",
       "    </tr>\n",
       "  </tbody>\n",
       "</table>\n",
       "</div>"
      ],
      "text/plain": [
       "               Сумма\n",
       "genre               \n",
       "Action        199.36\n",
       "Shooter       170.94\n",
       "Sports        109.48\n",
       "Role-Playing  101.44\n",
       "Misc           37.55\n",
       "Fighting       28.22\n",
       "Racing         27.52\n",
       "Platform       18.09\n",
       "Adventure      17.55\n",
       "Simulation     13.13\n",
       "Strategy        3.96\n",
       "Puzzle          2.21"
      ]
     },
     "execution_count": 64,
     "metadata": {},
     "output_type": "execute_result"
    }
   ],
   "source": [
    "sales_by_genre = games.groupby('genre').agg({'total_sales':['sum']})\n",
    "sales_by_genre.columns = [\n",
    "    'Сумма'\n",
    "]\n",
    "sales_by_genre.sort_values(by='Сумма', ascending = False)"
   ]
  },
  {
   "cell_type": "markdown",
   "metadata": {},
   "source": [
    "Самые прибыльные жанры боевики, спортивные, шутеры, ролевые. Наименее прибыльные: приключенческий, стратегия и головоломка."
   ]
  },
  {
   "cell_type": "code",
   "execution_count": 65,
   "metadata": {},
   "outputs": [
    {
     "data": {
      "image/png": "[encoded data removed]",
      "text/plain": [
       "<Figure size 1080x504 with 1 Axes>"
      ]
     },
     "metadata": {
      "needs_background": "light"
     },
     "output_type": "display_data"
    }
   ],
   "source": [
    "genre = games.pivot_table(index = 'genre', values = 'name',\n",
    "                                  aggfunc = 'count').sort_values('name', ascending = True)\n",
    "\n",
    "genre.plot(kind='barh', figsize=(15, 7), color='c')\n",
    "plt.title('Cамые популярные жанры за все время продаж видеоигр')\n",
    "plt.xlabel('Количество игр')\n",
    "plt.ylabel('Жанры')\n",
    "plt.show()"
   ]
  },
  {
   "cell_type": "code",
   "execution_count": 66,
   "metadata": {},
   "outputs": [
    {
     "data": {
      "image/png": "[encoded data removed]",
      "text/plain": [
       "<Figure size 1080x504 with 1 Axes>"
      ]
     },
     "metadata": {
      "needs_background": "light"
     },
     "output_type": "display_data"
    }
   ],
   "source": [
    "plt.figure(figsize=(15, 7))\n",
    "sns.boxplot(x=games['genre'], y=games['total_sales'])\n",
    "plt.ylim([0, 2])\n",
    "plt.title('Продажам игр в разбивке по Жанрам')\n",
    "plt.xlabel('Жанры')\n",
    "plt.ylabel('Продажи')\n",
    "plt.show()"
   ]
  },
  {
   "cell_type": "markdown",
   "metadata": {},
   "source": [
    "**Промежуточные выводы**\n",
    "\n",
    "Самые прибыльные жанры боевики, спортивные, шутеры, ролевые. Наименее прибыльные: приключенческий, стратегия и головоломка.\n",
    "\n",
    "Самое высокие мелианные продажи у шутер, спортивные, боевики, ролевые и самые низкие у приключенческие, паззлы и игры-стратегии. "
   ]
  },
  {
   "cell_type": "markdown",
   "metadata": {},
   "source": [
    "**Вывод по разделу**\n",
    "\n",
    "**3.1** Больше всего игр выпускалось в 2008 и 2009 годах, далее идет 2010, 2007, 2011. До 1994 года выпускалось меньше 100 игр в год.\n",
    "\n",
    "**3.2** Во всем датафрейме больше всего продаж на платформах PlayStation 2 и Xbox 360, PS3, Wii, DS, далее PlayStation.\n",
    "\n",
    "Исходя из графика распределения самых прибыльных платформ по годам, можно сделать вывод о том, что большинство новых платформ быстро набирают популярность, но в течение 6-10 лет их популярность снижается при выходе новой платформы. Посчитав можно сделать вывод, что средний срок жизни платформы - 7 лет.\n",
    "\n",
    "Удалим выпуск 1985 для платформы DS.\n",
    "\n",
    "**3.3** Возьмите данные за соответствующий актуальный период. Далее будем рассматривать период включая и после 2014. Исходя из построенного графика, можно сделать вывод о том, что большинство новых платформ быстро набирают популярность, но в течение 6-10 лет их популярность снижается при выходе новой платформы. Средний срок жизни платформы - 7 лет.\n",
    "\n",
    "**3.4** Будем рассматривать период включая и после 2014, профильтровали данные. \n",
    "\n",
    "**3.5** PS4 лидирует по продажам во всех 3-х годах 2014-2016, затем идет X0ne, 3DS и PS3, падают в продажах WiiU и Х360.\n",
    "\n",
    "**3.6** Медиана по топовым платформам варьируется от 0,16 до 0,25 млн долларов прибыли за игру. Примерно одинаковое среднее у X360 и PS3, чуть большее чем у XOne.  \n",
    "\n",
    "**3.7** Для анализа данного вопроса взяли популярную платформу PS4. На основании диаграммы рассеивания по продажам и отзывам критиков, можно сделать вывод, что с увеличением числа оценок от критиков и растут продажи. Наблюдается положительная корреляция, чем больше оценков критиков, тем больше количество продаж.\n",
    "\n",
    "На основании диаграммы рассеивания по продажам и отзывам пользователей, можно сделать вывод, что с увеличением числа оценок от пользователей продажи не растут. Прослеживается отрицательная корреляция пользовательских оценок и продаж игр. Можно сделать вывод что покупатели не руководствуются отзывами пользователей при прокупке.\n",
    "\n",
    "**3.8** Данные по корреляции между выручкой и оценками критиков и пользователей по платформам XOne, 3DS, PS3, X360, WiiU совпадает с данными по PS3, а также в общем по датафрейму. В общем, наблюдается положительная корреляция между оценками критиков и выручкой. Во всех случаях увеличение количества оценок критиков ведет к увеличению продаж. По оценкам пользователей и продажам нет такой положительной однозначной корреляции: у платформы XOne, X360 и PS3 отрицательная корреляция, это значит что увеличение оценок пользователей не ведет к увеличению продаж, у платформ 3DS и WiiU положительная корреляция почти такая же как и у оценок критиков.\n",
    "\n",
    "**3.9** Самые прибыльные жанры боевики, спортивные, шутеры, ролевые. Наименее прибыльные: приключенческий, стратегия и головоломка. Самое высокие мелианные продажи у шутер, спортивные, боевики, ролевые и самые низкие у приключенческие, паззлы и игры-стратегии. "
   ]
  },
  {
   "cell_type": "markdown",
   "metadata": {},
   "source": [
    "## Шаг 4. Составьте портрет пользователя каждого региона"
   ]
  },
  {
   "cell_type": "markdown",
   "metadata": {},
   "source": [
    "### Самые популярные платформы (топ-5). Опишите различия в долях продаж."
   ]
  },
  {
   "cell_type": "code",
   "execution_count": 67,
   "metadata": {},
   "outputs": [
    {
     "data": {
      "image/png": "[encoded data removed]",
      "text/plain": [
       "<Figure size 1224x360 with 3 Axes>"
      ]
     },
     "metadata": {},
     "output_type": "display_data"
    }
   ],
   "source": [
    "reg_names = {'na_sales':'Северной Америке', 'eu_sales':'Европе', 'jp_sales':'Японии'}\n",
    "fig, axs = plt.subplots(1, 3, figsize=(17, 5))\n",
    "for i, region in enumerate(['na_sales', 'eu_sales', 'jp_sales']):\n",
    "    platform_sales = games.pivot_table(index=['platform'], values=region,  aggfunc = 'sum')\n",
    "    platform_sales = platform_sales.sort_values(by=region, ascending=False)\n",
    "    reduced_platform_sales = pd.concat((platform_sales[:5], pd.DataFrame(platform_sales[5:].sum()).T.rename({0:'Others'})))\n",
    "    palette = sns.color_palette('pastel')[ 0:6 ]\n",
    "    reduced_platform_sales.plot.pie(y=region, autopct='%1.0f%%', \n",
    "                               shadow = True, colors = palette, normalize=True,\n",
    "                               ax=axs[i])\n",
    "    axs[i].set_title('Самые популярные платформы в ' + reg_names[region])\n",
    "    axs[i].legend('', frameon=False)\n",
    "plt.show()"
   ]
  },
  {
   "cell_type": "markdown",
   "metadata": {},
   "source": [
    "**Промежуточный вывод**\n",
    "\n",
    "Самые популярные платформы в Северной Америке в порядке убывания: PS4, X0ne, X360, 3DS, PC, PS3, Others.\n",
    "Самые популярные платформы в Европе в порядке убывания: PS4, X0ne, PS3, PC, 3DS, Others.\n",
    "Самые популярные платформы в Японии в порядке убывания: 3DS, PS4, PSV, PS3, WiiU, Others."
   ]
  },
  {
   "cell_type": "markdown",
   "metadata": {},
   "source": [
    "### Самые популярные жанры (топ-5). Поясните разницу."
   ]
  },
  {
   "cell_type": "code",
   "execution_count": 68,
   "metadata": {},
   "outputs": [
    {
     "data": {
      "image/png": "[encoded data removed]",
      "text/plain": [
       "<Figure size 1224x360 with 3 Axes>"
      ]
     },
     "metadata": {},
     "output_type": "display_data"
    }
   ],
   "source": [
    "reg_names = {'na_sales':'Северной Америке', 'eu_sales':'Европе', 'jp_sales':'Японии'}\n",
    "fig, axs = plt.subplots(1, 3, figsize=(17, 5))\n",
    "for i, region in enumerate(['na_sales', 'eu_sales', 'jp_sales']):\n",
    "    platform_sales = games.pivot_table(index=['genre'], values=region,  aggfunc = 'sum')\n",
    "    platform_sales = platform_sales.sort_values(by=region, ascending=False)\n",
    "    reduced_platform_sales = pd.concat((platform_sales[:5], pd.DataFrame(platform_sales[5:].sum()).T.rename({0:'Others'})))\n",
    "    palette = sns.color_palette('pastel')[ 0:6 ]\n",
    "    reduced_platform_sales.plot.pie(y=region, autopct='%1.0f%%', \n",
    "                               shadow = True, colors = palette, normalize=True,\n",
    "                               ax=axs[i])\n",
    "    axs[i].set_title('Самые популярные жанры в ' + reg_names[region])\n",
    "    axs[i].legend('', frameon=False)\n",
    "plt.show()"
   ]
  },
  {
   "cell_type": "markdown",
   "metadata": {},
   "source": [
    "**Промежуточный вывод** \n",
    "\n",
    "Самые популярные жанры в Северной Америке Shooter, Action, Sports, Role_playing, Misc, Others. \n",
    "Самые популярные жанры в Европе Action, Shooter, Sports, Role-Playing, Racing, Others. \n",
    "Самые популярные жанры в Японии Role-Playing, Action, Fighting, Misc, Shooter, Others. "
   ]
  },
  {
   "cell_type": "markdown",
   "metadata": {},
   "source": [
    "### Влияет ли рейтинг ESRB на продажи в отдельном регионе?"
   ]
  },
  {
   "cell_type": "code",
   "execution_count": 69,
   "metadata": {},
   "outputs": [],
   "source": [
    "ESRB_dict = {'E': 'Для всех', 'M': '> 17 лет', 'T': '13-19 лет', 'E10+': '>10 лет', 'K-A': 'Для всех(устар.)'}"
   ]
  },
  {
   "cell_type": "code",
   "execution_count": 70,
   "metadata": {},
   "outputs": [],
   "source": [
    "games['ESRB_desc'] = games[games['rating'].notnull()]['rating'].map(ESRB_dict)"
   ]
  },
  {
   "cell_type": "code",
   "execution_count": 71,
   "metadata": {},
   "outputs": [
    {
     "data": {
      "image/png": "[encoded data removed]",
      "text/plain": [
       "<Figure size 1224x360 with 3 Axes>"
      ]
     },
     "metadata": {
      "needs_background": "light"
     },
     "output_type": "display_data"
    }
   ],
   "source": [
    "reg_names = {'na_sales':'Северной Америке', 'eu_sales':'Европе', 'jp_sales':'Японии'}\n",
    "fig, axs = plt.subplots(1, 3, figsize=(17, 5))\n",
    "for i, region in enumerate(['na_sales', 'eu_sales', 'jp_sales']):\n",
    "    platform_sales = games.pivot_table(index=['ESRB_desc'], values=region,  aggfunc = 'sum')\n",
    "    platform_sales = platform_sales.sort_values(by=region, ascending=False)\n",
    "    platform_sales.plot(kind='bar', alpha = 0.5, edgecolor='black', xlabel='Рейтинг', ylabel='Продажи', ax=axs[i])\n",
    "    axs[i].set_title('Корреляция рейтингов и продаж в ' + reg_names[region])\n",
    "    axs[i].legend('', frameon=False)\n",
    "plt.show()"
   ]
  },
  {
   "cell_type": "markdown",
   "metadata": {},
   "source": [
    "**Промежуточный вывод**\n",
    "\n",
    "В Северной Америке больше всего выручки получается по убыванию у игр с рейтингом \"для лиц старше 17 лет\", далее \"Для всех\", '13-19 лет' и для лиц старше 10 лет. \n",
    "В Европе больше всего выручки получается по убыванию у игр с рейтингом \"для лиц старше 17 лет\", далее \"Для всех\", '13-19 лет' и \"для лиц старше 10 лет\". \n",
    "В Японии больше всего выручки получатся по убыванию у игр с рейтингом \"13-19 лет\", \"Для всех\", затем \"для лиц старше 17 лет\" и меньше всего \"для лиц старше 10 лет\". "
   ]
  },
  {
   "cell_type": "markdown",
   "metadata": {},
   "source": [
    "**Вывод по разделу**\n",
    "\n",
    "**4.1** Самые популярные платформы в Северной Америке в порядке убывания: PS4, X0ne, X360, 3DS, PC, PS3, Others.\n",
    "Самые популярные платформы в Европе в порядке убывания: PS4, X0ne, PS3, PC, 3DS, Others.\n",
    "Самые популярные платформы в Японии в порядке убывания: 3DS, PS4, PSV, PS3, WiiU, Others. \n",
    "\n",
    "**4.2** Самые популярные жанры в Северной Америке Shooter, Action, Sports, Role_playing, Misc, Others. \n",
    "Самые популярные жанры в Европе Action, Shooter, Sports, Role-Playing, Racing, Others. \n",
    "Самые популярные жанры в Японии Role-Playing, Action, Fighting, Misc, Shooter, Others. \n",
    "\n",
    "**4.3** В Северной Америке больше всего выручки получается по убыванию у игр с рейтингом \"для лиц старше 17 лет\", далее \"Для всех\", '13-19 лет' и для лиц старше 10 лет. \n",
    "В Европе больше всего выручки получается по убыванию у игр с рейтингом \"для лиц старше 17 лет\", далее \"Для всех\", '13-19 лет' и \"для лиц старше 10 лет\". \n",
    "В Японии больше всего выручки получатся по убыванию у игр с рейтингом \"13-19 лет\", \"Для всех\", затем \"для лиц старше 17 лет\" и меньше всего \"для лиц старше 10 лет\". "
   ]
  },
  {
   "cell_type": "markdown",
   "metadata": {},
   "source": [
    "## Шаг 5. Проверка гипотез"
   ]
  },
  {
   "cell_type": "markdown",
   "metadata": {},
   "source": [
    "### Средние пользовательские рейтинги платформ Xbox One и PC одинаковые."
   ]
  },
  {
   "cell_type": "markdown",
   "metadata": {},
   "source": [
    "Гипотеза 1\n",
    "\n",
    "Важно понять, что средние пользовательские рейтинги платформ Xbox One и PC одинаковые\n",
    "\n",
    "Выдвинем гипотезу:\n",
    "    средние пользовательские рейтинги платформ Xbox One и PC одинаковые.\n",
    "\n",
    "Н0: средние пользовательские рейтинги платформ Xbox One и PC одинаковые.\n",
    "\n",
    "Н1: средние пользовательские рейтинги платформ Xbox One и PC отличаются между собой."
   ]
  },
  {
   "cell_type": "code",
   "execution_count": 72,
   "metadata": {},
   "outputs": [
    {
     "data": {
      "text/html": [
       "<div>\n",
       "<style scoped>\n",
       "    .dataframe tbody tr th:only-of-type {\n",
       "        vertical-align: middle;\n",
       "    }\n",
       "\n",
       "    .dataframe tbody tr th {\n",
       "        vertical-align: top;\n",
       "    }\n",
       "\n",
       "    .dataframe thead th {\n",
       "        text-align: right;\n",
       "    }\n",
       "</style>\n",
       "<table border=\"1\" class=\"dataframe\">\n",
       "  <thead>\n",
       "    <tr style=\"text-align: right;\">\n",
       "      <th></th>\n",
       "      <th>name</th>\n",
       "      <th>platform</th>\n",
       "      <th>year_of_release</th>\n",
       "      <th>genre</th>\n",
       "      <th>na_sales</th>\n",
       "      <th>eu_sales</th>\n",
       "      <th>jp_sales</th>\n",
       "      <th>other_sales</th>\n",
       "      <th>critic_score</th>\n",
       "      <th>user_score</th>\n",
       "      <th>rating</th>\n",
       "      <th>total_sales</th>\n",
       "      <th>ESRB_desc</th>\n",
       "    </tr>\n",
       "  </thead>\n",
       "  <tbody>\n",
       "    <tr>\n",
       "      <th>5321</th>\n",
       "      <td>Sniper Elite 3</td>\n",
       "      <td>XOne</td>\n",
       "      <td>2014</td>\n",
       "      <td>Shooter</td>\n",
       "      <td>0.20</td>\n",
       "      <td>0.11</td>\n",
       "      <td>0.0</td>\n",
       "      <td>0.03</td>\n",
       "      <td>63.0</td>\n",
       "      <td>6.6</td>\n",
       "      <td>M</td>\n",
       "      <td>0.34</td>\n",
       "      <td>&gt; 17 лет</td>\n",
       "    </tr>\n",
       "    <tr>\n",
       "      <th>4747</th>\n",
       "      <td>Rocksmith 2014</td>\n",
       "      <td>XOne</td>\n",
       "      <td>2014</td>\n",
       "      <td>Misc</td>\n",
       "      <td>0.29</td>\n",
       "      <td>0.08</td>\n",
       "      <td>0.0</td>\n",
       "      <td>0.04</td>\n",
       "      <td>-1.0</td>\n",
       "      <td>-1.0</td>\n",
       "      <td>unknown</td>\n",
       "      <td>0.41</td>\n",
       "      <td>NaN</td>\n",
       "    </tr>\n",
       "    <tr>\n",
       "      <th>4691</th>\n",
       "      <td>NHL 15</td>\n",
       "      <td>XOne</td>\n",
       "      <td>2014</td>\n",
       "      <td>Sports</td>\n",
       "      <td>0.31</td>\n",
       "      <td>0.06</td>\n",
       "      <td>0.0</td>\n",
       "      <td>0.04</td>\n",
       "      <td>59.0</td>\n",
       "      <td>3.2</td>\n",
       "      <td>E10+</td>\n",
       "      <td>0.41</td>\n",
       "      <td>&gt;10 лет</td>\n",
       "    </tr>\n",
       "    <tr>\n",
       "      <th>7632</th>\n",
       "      <td>Sleeping Dogs</td>\n",
       "      <td>XOne</td>\n",
       "      <td>2014</td>\n",
       "      <td>Action</td>\n",
       "      <td>0.10</td>\n",
       "      <td>0.09</td>\n",
       "      <td>0.0</td>\n",
       "      <td>0.02</td>\n",
       "      <td>-1.0</td>\n",
       "      <td>-1.0</td>\n",
       "      <td>unknown</td>\n",
       "      <td>0.21</td>\n",
       "      <td>NaN</td>\n",
       "    </tr>\n",
       "    <tr>\n",
       "      <th>1798</th>\n",
       "      <td>Sunset Overdrive</td>\n",
       "      <td>XOne</td>\n",
       "      <td>2014</td>\n",
       "      <td>Shooter</td>\n",
       "      <td>0.63</td>\n",
       "      <td>0.40</td>\n",
       "      <td>0.0</td>\n",
       "      <td>0.10</td>\n",
       "      <td>81.0</td>\n",
       "      <td>7.7</td>\n",
       "      <td>M</td>\n",
       "      <td>1.13</td>\n",
       "      <td>&gt; 17 лет</td>\n",
       "    </tr>\n",
       "    <tr>\n",
       "      <th>...</th>\n",
       "      <td>...</td>\n",
       "      <td>...</td>\n",
       "      <td>...</td>\n",
       "      <td>...</td>\n",
       "      <td>...</td>\n",
       "      <td>...</td>\n",
       "      <td>...</td>\n",
       "      <td>...</td>\n",
       "      <td>...</td>\n",
       "      <td>...</td>\n",
       "      <td>...</td>\n",
       "      <td>...</td>\n",
       "      <td>...</td>\n",
       "    </tr>\n",
       "    <tr>\n",
       "      <th>8491</th>\n",
       "      <td>Mirror's Edge Catalyst</td>\n",
       "      <td>XOne</td>\n",
       "      <td>2016</td>\n",
       "      <td>Platform</td>\n",
       "      <td>0.09</td>\n",
       "      <td>0.06</td>\n",
       "      <td>0.0</td>\n",
       "      <td>0.01</td>\n",
       "      <td>72.0</td>\n",
       "      <td>4.4</td>\n",
       "      <td>T</td>\n",
       "      <td>0.16</td>\n",
       "      <td>13-19 лет</td>\n",
       "    </tr>\n",
       "    <tr>\n",
       "      <th>8339</th>\n",
       "      <td>Deus Ex: Mankind Divided</td>\n",
       "      <td>XOne</td>\n",
       "      <td>2016</td>\n",
       "      <td>Role-Playing</td>\n",
       "      <td>0.09</td>\n",
       "      <td>0.06</td>\n",
       "      <td>0.0</td>\n",
       "      <td>0.01</td>\n",
       "      <td>83.0</td>\n",
       "      <td>7.2</td>\n",
       "      <td>M</td>\n",
       "      <td>0.16</td>\n",
       "      <td>&gt; 17 лет</td>\n",
       "    </tr>\n",
       "    <tr>\n",
       "      <th>16660</th>\n",
       "      <td>Prison Architect</td>\n",
       "      <td>XOne</td>\n",
       "      <td>2016</td>\n",
       "      <td>Action</td>\n",
       "      <td>0.01</td>\n",
       "      <td>0.00</td>\n",
       "      <td>0.0</td>\n",
       "      <td>0.00</td>\n",
       "      <td>74.0</td>\n",
       "      <td>6.7</td>\n",
       "      <td>unknown</td>\n",
       "      <td>0.01</td>\n",
       "      <td>NaN</td>\n",
       "    </tr>\n",
       "    <tr>\n",
       "      <th>13224</th>\n",
       "      <td>Ghostbusters (2016)</td>\n",
       "      <td>XOne</td>\n",
       "      <td>2016</td>\n",
       "      <td>Action</td>\n",
       "      <td>0.04</td>\n",
       "      <td>0.00</td>\n",
       "      <td>0.0</td>\n",
       "      <td>0.01</td>\n",
       "      <td>-1.0</td>\n",
       "      <td>-1.0</td>\n",
       "      <td>unknown</td>\n",
       "      <td>0.05</td>\n",
       "      <td>NaN</td>\n",
       "    </tr>\n",
       "    <tr>\n",
       "      <th>16672</th>\n",
       "      <td>Metal Gear Solid V: The Definitive Experience</td>\n",
       "      <td>XOne</td>\n",
       "      <td>2016</td>\n",
       "      <td>Action</td>\n",
       "      <td>0.01</td>\n",
       "      <td>0.00</td>\n",
       "      <td>0.0</td>\n",
       "      <td>0.00</td>\n",
       "      <td>-1.0</td>\n",
       "      <td>-1.0</td>\n",
       "      <td>M</td>\n",
       "      <td>0.01</td>\n",
       "      <td>&gt; 17 лет</td>\n",
       "    </tr>\n",
       "  </tbody>\n",
       "</table>\n",
       "<p>228 rows × 13 columns</p>\n",
       "</div>"
      ],
      "text/plain": [
       "                                                name platform  \\\n",
       "5321                                  Sniper Elite 3     XOne   \n",
       "4747                                  Rocksmith 2014     XOne   \n",
       "4691                                          NHL 15     XOne   \n",
       "7632                                   Sleeping Dogs     XOne   \n",
       "1798                                Sunset Overdrive     XOne   \n",
       "...                                              ...      ...   \n",
       "8491                          Mirror's Edge Catalyst     XOne   \n",
       "8339                        Deus Ex: Mankind Divided     XOne   \n",
       "16660                               Prison Architect     XOne   \n",
       "13224                            Ghostbusters (2016)     XOne   \n",
       "16672  Metal Gear Solid V: The Definitive Experience     XOne   \n",
       "\n",
       "       year_of_release         genre  na_sales  eu_sales  jp_sales  \\\n",
       "5321              2014       Shooter      0.20      0.11       0.0   \n",
       "4747              2014          Misc      0.29      0.08       0.0   \n",
       "4691              2014        Sports      0.31      0.06       0.0   \n",
       "7632              2014        Action      0.10      0.09       0.0   \n",
       "1798              2014       Shooter      0.63      0.40       0.0   \n",
       "...                ...           ...       ...       ...       ...   \n",
       "8491              2016      Platform      0.09      0.06       0.0   \n",
       "8339              2016  Role-Playing      0.09      0.06       0.0   \n",
       "16660             2016        Action      0.01      0.00       0.0   \n",
       "13224             2016        Action      0.04      0.00       0.0   \n",
       "16672             2016        Action      0.01      0.00       0.0   \n",
       "\n",
       "       other_sales  critic_score  user_score   rating  total_sales  ESRB_desc  \n",
       "5321          0.03          63.0         6.6        M         0.34   > 17 лет  \n",
       "4747          0.04          -1.0        -1.0  unknown         0.41        NaN  \n",
       "4691          0.04          59.0         3.2     E10+         0.41    >10 лет  \n",
       "7632          0.02          -1.0        -1.0  unknown         0.21        NaN  \n",
       "1798          0.10          81.0         7.7        M         1.13   > 17 лет  \n",
       "...            ...           ...         ...      ...          ...        ...  \n",
       "8491          0.01          72.0         4.4        T         0.16  13-19 лет  \n",
       "8339          0.01          83.0         7.2        M         0.16   > 17 лет  \n",
       "16660         0.00          74.0         6.7  unknown         0.01        NaN  \n",
       "13224         0.01          -1.0        -1.0  unknown         0.05        NaN  \n",
       "16672         0.00          -1.0        -1.0        M         0.01   > 17 лет  \n",
       "\n",
       "[228 rows x 13 columns]"
      ]
     },
     "execution_count": 72,
     "metadata": {},
     "output_type": "execute_result"
    }
   ],
   "source": [
    "games[games['platform'] == 'XOne'].sort_values(by='year_of_release')"
   ]
  },
  {
   "cell_type": "code",
   "execution_count": 73,
   "metadata": {},
   "outputs": [
    {
     "data": {
      "text/html": [
       "<div>\n",
       "<style scoped>\n",
       "    .dataframe tbody tr th:only-of-type {\n",
       "        vertical-align: middle;\n",
       "    }\n",
       "\n",
       "    .dataframe tbody tr th {\n",
       "        vertical-align: top;\n",
       "    }\n",
       "\n",
       "    .dataframe thead th {\n",
       "        text-align: right;\n",
       "    }\n",
       "</style>\n",
       "<table border=\"1\" class=\"dataframe\">\n",
       "  <thead>\n",
       "    <tr style=\"text-align: right;\">\n",
       "      <th></th>\n",
       "      <th>name</th>\n",
       "      <th>platform</th>\n",
       "      <th>year_of_release</th>\n",
       "      <th>genre</th>\n",
       "      <th>na_sales</th>\n",
       "      <th>eu_sales</th>\n",
       "      <th>jp_sales</th>\n",
       "      <th>other_sales</th>\n",
       "      <th>critic_score</th>\n",
       "      <th>user_score</th>\n",
       "      <th>rating</th>\n",
       "      <th>total_sales</th>\n",
       "      <th>ESRB_desc</th>\n",
       "    </tr>\n",
       "  </thead>\n",
       "  <tbody>\n",
       "    <tr>\n",
       "      <th>458</th>\n",
       "      <td>The Sims 4</td>\n",
       "      <td>PC</td>\n",
       "      <td>2014</td>\n",
       "      <td>Simulation</td>\n",
       "      <td>1.00</td>\n",
       "      <td>1.82</td>\n",
       "      <td>0.0</td>\n",
       "      <td>0.23</td>\n",
       "      <td>70.0</td>\n",
       "      <td>3.9</td>\n",
       "      <td>T</td>\n",
       "      <td>3.05</td>\n",
       "      <td>13-19 лет</td>\n",
       "    </tr>\n",
       "    <tr>\n",
       "      <th>8589</th>\n",
       "      <td>The Crew</td>\n",
       "      <td>PC</td>\n",
       "      <td>2014</td>\n",
       "      <td>Racing</td>\n",
       "      <td>0.00</td>\n",
       "      <td>0.15</td>\n",
       "      <td>0.0</td>\n",
       "      <td>0.01</td>\n",
       "      <td>71.0</td>\n",
       "      <td>6.4</td>\n",
       "      <td>T</td>\n",
       "      <td>0.16</td>\n",
       "      <td>13-19 лет</td>\n",
       "    </tr>\n",
       "    <tr>\n",
       "      <th>8657</th>\n",
       "      <td>Wildstar</td>\n",
       "      <td>PC</td>\n",
       "      <td>2014</td>\n",
       "      <td>Role-Playing</td>\n",
       "      <td>0.08</td>\n",
       "      <td>0.07</td>\n",
       "      <td>0.0</td>\n",
       "      <td>0.01</td>\n",
       "      <td>82.0</td>\n",
       "      <td>7.4</td>\n",
       "      <td>T</td>\n",
       "      <td>0.16</td>\n",
       "      <td>13-19 лет</td>\n",
       "    </tr>\n",
       "    <tr>\n",
       "      <th>9035</th>\n",
       "      <td>Alien: Isolation</td>\n",
       "      <td>PC</td>\n",
       "      <td>2014</td>\n",
       "      <td>Shooter</td>\n",
       "      <td>0.00</td>\n",
       "      <td>0.14</td>\n",
       "      <td>0.0</td>\n",
       "      <td>0.01</td>\n",
       "      <td>81.0</td>\n",
       "      <td>8.4</td>\n",
       "      <td>M</td>\n",
       "      <td>0.15</td>\n",
       "      <td>&gt; 17 лет</td>\n",
       "    </tr>\n",
       "    <tr>\n",
       "      <th>9946</th>\n",
       "      <td>Tropico 5</td>\n",
       "      <td>PC</td>\n",
       "      <td>2014</td>\n",
       "      <td>Simulation</td>\n",
       "      <td>0.02</td>\n",
       "      <td>0.09</td>\n",
       "      <td>0.0</td>\n",
       "      <td>0.01</td>\n",
       "      <td>75.0</td>\n",
       "      <td>7.0</td>\n",
       "      <td>T</td>\n",
       "      <td>0.12</td>\n",
       "      <td>13-19 лет</td>\n",
       "    </tr>\n",
       "    <tr>\n",
       "      <th>...</th>\n",
       "      <td>...</td>\n",
       "      <td>...</td>\n",
       "      <td>...</td>\n",
       "      <td>...</td>\n",
       "      <td>...</td>\n",
       "      <td>...</td>\n",
       "      <td>...</td>\n",
       "      <td>...</td>\n",
       "      <td>...</td>\n",
       "      <td>...</td>\n",
       "      <td>...</td>\n",
       "      <td>...</td>\n",
       "      <td>...</td>\n",
       "    </tr>\n",
       "    <tr>\n",
       "      <th>12891</th>\n",
       "      <td>Hearts of Iron IV</td>\n",
       "      <td>PC</td>\n",
       "      <td>2016</td>\n",
       "      <td>Strategy</td>\n",
       "      <td>0.00</td>\n",
       "      <td>0.05</td>\n",
       "      <td>0.0</td>\n",
       "      <td>0.00</td>\n",
       "      <td>83.0</td>\n",
       "      <td>6.9</td>\n",
       "      <td>unknown</td>\n",
       "      <td>0.05</td>\n",
       "      <td>NaN</td>\n",
       "    </tr>\n",
       "    <tr>\n",
       "      <th>12834</th>\n",
       "      <td>Rocket League</td>\n",
       "      <td>PC</td>\n",
       "      <td>2016</td>\n",
       "      <td>Sports</td>\n",
       "      <td>0.01</td>\n",
       "      <td>0.04</td>\n",
       "      <td>0.0</td>\n",
       "      <td>0.00</td>\n",
       "      <td>86.0</td>\n",
       "      <td>8.2</td>\n",
       "      <td>E</td>\n",
       "      <td>0.05</td>\n",
       "      <td>Для всех</td>\n",
       "    </tr>\n",
       "    <tr>\n",
       "      <th>12719</th>\n",
       "      <td>Street Fighter V</td>\n",
       "      <td>PC</td>\n",
       "      <td>2016</td>\n",
       "      <td>Fighting</td>\n",
       "      <td>0.00</td>\n",
       "      <td>0.05</td>\n",
       "      <td>0.0</td>\n",
       "      <td>0.00</td>\n",
       "      <td>74.0</td>\n",
       "      <td>2.9</td>\n",
       "      <td>T</td>\n",
       "      <td>0.05</td>\n",
       "      <td>13-19 лет</td>\n",
       "    </tr>\n",
       "    <tr>\n",
       "      <th>14081</th>\n",
       "      <td>Homefront: The Revolution</td>\n",
       "      <td>PC</td>\n",
       "      <td>2016</td>\n",
       "      <td>Shooter</td>\n",
       "      <td>0.01</td>\n",
       "      <td>0.02</td>\n",
       "      <td>0.0</td>\n",
       "      <td>0.00</td>\n",
       "      <td>54.0</td>\n",
       "      <td>3.5</td>\n",
       "      <td>M</td>\n",
       "      <td>0.03</td>\n",
       "      <td>&gt; 17 лет</td>\n",
       "    </tr>\n",
       "    <tr>\n",
       "      <th>13744</th>\n",
       "      <td>Stellaris</td>\n",
       "      <td>PC</td>\n",
       "      <td>2016</td>\n",
       "      <td>Strategy</td>\n",
       "      <td>0.00</td>\n",
       "      <td>0.04</td>\n",
       "      <td>0.0</td>\n",
       "      <td>0.00</td>\n",
       "      <td>78.0</td>\n",
       "      <td>8.0</td>\n",
       "      <td>unknown</td>\n",
       "      <td>0.04</td>\n",
       "      <td>NaN</td>\n",
       "    </tr>\n",
       "  </tbody>\n",
       "</table>\n",
       "<p>151 rows × 13 columns</p>\n",
       "</div>"
      ],
      "text/plain": [
       "                            name platform  year_of_release         genre  \\\n",
       "458                   The Sims 4       PC             2014    Simulation   \n",
       "8589                    The Crew       PC             2014        Racing   \n",
       "8657                    Wildstar       PC             2014  Role-Playing   \n",
       "9035            Alien: Isolation       PC             2014       Shooter   \n",
       "9946                   Tropico 5       PC             2014    Simulation   \n",
       "...                          ...      ...              ...           ...   \n",
       "12891          Hearts of Iron IV       PC             2016      Strategy   \n",
       "12834              Rocket League       PC             2016        Sports   \n",
       "12719           Street Fighter V       PC             2016      Fighting   \n",
       "14081  Homefront: The Revolution       PC             2016       Shooter   \n",
       "13744                  Stellaris       PC             2016      Strategy   \n",
       "\n",
       "       na_sales  eu_sales  jp_sales  other_sales  critic_score  user_score  \\\n",
       "458        1.00      1.82       0.0         0.23          70.0         3.9   \n",
       "8589       0.00      0.15       0.0         0.01          71.0         6.4   \n",
       "8657       0.08      0.07       0.0         0.01          82.0         7.4   \n",
       "9035       0.00      0.14       0.0         0.01          81.0         8.4   \n",
       "9946       0.02      0.09       0.0         0.01          75.0         7.0   \n",
       "...         ...       ...       ...          ...           ...         ...   \n",
       "12891      0.00      0.05       0.0         0.00          83.0         6.9   \n",
       "12834      0.01      0.04       0.0         0.00          86.0         8.2   \n",
       "12719      0.00      0.05       0.0         0.00          74.0         2.9   \n",
       "14081      0.01      0.02       0.0         0.00          54.0         3.5   \n",
       "13744      0.00      0.04       0.0         0.00          78.0         8.0   \n",
       "\n",
       "        rating  total_sales  ESRB_desc  \n",
       "458          T         3.05  13-19 лет  \n",
       "8589         T         0.16  13-19 лет  \n",
       "8657         T         0.16  13-19 лет  \n",
       "9035         M         0.15   > 17 лет  \n",
       "9946         T         0.12  13-19 лет  \n",
       "...        ...          ...        ...  \n",
       "12891  unknown         0.05        NaN  \n",
       "12834        E         0.05   Для всех  \n",
       "12719        T         0.05  13-19 лет  \n",
       "14081        M         0.03   > 17 лет  \n",
       "13744  unknown         0.04        NaN  \n",
       "\n",
       "[151 rows x 13 columns]"
      ]
     },
     "execution_count": 73,
     "metadata": {},
     "output_type": "execute_result"
    }
   ],
   "source": [
    "games[games['platform'] == 'PC'].sort_values(by='year_of_release', ascending=True)"
   ]
  },
  {
   "cell_type": "markdown",
   "metadata": {},
   "source": [
    "XOne на рынке с 2013, тогда как PC c 2006. Но наш датасет ограничен 2006 годом, так что в данном случае обе платформы на рынке 3 года."
   ]
  },
  {
   "cell_type": "code",
   "execution_count": 74,
   "metadata": {},
   "outputs": [
    {
     "data": {
      "text/plain": [
       "165      7.9\n",
       "179      5.4\n",
       "242      6.4\n",
       "270      6.2\n",
       "373      4.1\n",
       "        ... \n",
       "16544    6.8\n",
       "16597    6.0\n",
       "16630    8.2\n",
       "16643    6.6\n",
       "16660    6.7\n",
       "Name: user_score, Length: 165, dtype: float64"
      ]
     },
     "execution_count": 74,
     "metadata": {},
     "output_type": "execute_result"
    }
   ],
   "source": [
    "xbox_score = games[games['user_score'] > 0].query('platform == \"XOne\" and user_score.isna() == False')['user_score']\n",
    "xbox_score"
   ]
  },
  {
   "cell_type": "code",
   "execution_count": 75,
   "metadata": {},
   "outputs": [
    {
     "data": {
      "text/plain": [
       "458      3.9\n",
       "1530     5.4\n",
       "1730     7.9\n",
       "2303     5.7\n",
       "2784     5.9\n",
       "        ... \n",
       "16456    8.3\n",
       "16463    6.8\n",
       "16509    7.9\n",
       "16518    1.4\n",
       "16692    7.6\n",
       "Name: user_score, Length: 122, dtype: float64"
      ]
     },
     "execution_count": 75,
     "metadata": {},
     "output_type": "execute_result"
    }
   ],
   "source": [
    "pc_score = games[games['user_score'] > 0].query('platform == \"PC\" and user_score.isna() == False')['user_score']\n",
    "pc_score"
   ]
  },
  {
   "cell_type": "code",
   "execution_count": 76,
   "metadata": {},
   "outputs": [
    {
     "name": "stdout",
     "output_type": "stream",
     "text": [
      "p-значение: 0.11601398086668832\n",
      "Не получилось отвергнуть нулевую гипотезу\n"
     ]
    }
   ],
   "source": [
    "alpha = 0.05 \n",
    "\n",
    "results = st.ttest_ind(xbox_score, pc_score, equal_var=False)\n",
    "\n",
    "print('p-значение:', results.pvalue)\n",
    "\n",
    "if results.pvalue < alpha:\n",
    "    print('Отвергаем нулевую гипотезу')\n",
    "else:\n",
    "    print('Не получилось отвергнуть нулевую гипотезу')"
   ]
  },
  {
   "cell_type": "markdown",
   "metadata": {},
   "source": [
    "Гипотеза 1: Не получилось отвергнуть нулевую гипотезу: P-value оказалоось больше 5%. То есть, с вероятностью больше 5% можно получить наблюдаемое значение. Предположение верно и средние пользовательские рейтинги для Xbox One и PC равны между собой."
   ]
  },
  {
   "cell_type": "markdown",
   "metadata": {},
   "source": [
    "### Средние пользовательские рейтинги жанров Action и Sports разные."
   ]
  },
  {
   "cell_type": "markdown",
   "metadata": {},
   "source": [
    "Гипотеза 2\n",
    "\n",
    "Важно понять, что средние пользовательские рейтинги жанров Action и Sports разные\n",
    "\n",
    "Выдвинем гипотезу:\n",
    "    средние пользовательские рейтинги жанров Action и Sports одинаковые\n",
    "\n",
    "Н0: средние пользовательские рейтинги жанров Action и Sports равны\n",
    "\n",
    "Н1:  средние пользовательские рейтинги жанров Action и Sports разные\n"
   ]
  },
  {
   "cell_type": "code",
   "execution_count": 77,
   "metadata": {},
   "outputs": [
    {
     "data": {
      "text/plain": [
       "42       8.3\n",
       "165      7.9\n",
       "231      8.1\n",
       "295      6.3\n",
       "304      4.9\n",
       "        ... \n",
       "16544    6.8\n",
       "16597    6.0\n",
       "16652    8.5\n",
       "16660    6.7\n",
       "16692    7.6\n",
       "Name: user_score, Length: 297, dtype: float64"
      ]
     },
     "execution_count": 77,
     "metadata": {},
     "output_type": "execute_result"
    }
   ],
   "source": [
    "action_score = games[games['user_score'] > 0].query('genre == \"Action\" and user_score.isna() == False')['user_score']\n",
    "action_score"
   ]
  },
  {
   "cell_type": "code",
   "execution_count": 78,
   "metadata": {},
   "outputs": [
    {
     "data": {
      "text/plain": [
       "77       4.3\n",
       "94       5.0\n",
       "143      5.7\n",
       "264      4.5\n",
       "314      6.7\n",
       "        ... \n",
       "16120    6.3\n",
       "16142    8.8\n",
       "16146    6.9\n",
       "16518    1.4\n",
       "16643    6.6\n",
       "Name: user_score, Length: 127, dtype: float64"
      ]
     },
     "execution_count": 78,
     "metadata": {},
     "output_type": "execute_result"
    }
   ],
   "source": [
    "sports_score = games[games['user_score'] > 0].query('genre == \"Sports\" and user_score.isna() == False')['user_score']\n",
    "sports_score"
   ]
  },
  {
   "cell_type": "code",
   "execution_count": 79,
   "metadata": {},
   "outputs": [
    {
     "name": "stdout",
     "output_type": "stream",
     "text": [
      "p-значение: 1.1825550382644557e-14\n",
      "Отвергаем нулевую гипотезу\n"
     ]
    }
   ],
   "source": [
    "alpha = 0.05 \n",
    "\n",
    "results = st.ttest_ind(action_score, sports_score, equal_var=False)\n",
    "\n",
    "print('p-значение:', results.pvalue)\n",
    "\n",
    "if results.pvalue < alpha:\n",
    "    print('Отвергаем нулевую гипотезу')\n",
    "else:\n",
    "    print('Не получилось отвергнуть нулевую гипотезу')"
   ]
  },
  {
   "cell_type": "markdown",
   "metadata": {},
   "source": [
    "**Вывод по разделу**\n",
    "\n",
    "**5.1** Гипотеза 1: Не получилось отвергнуть нулевую гипотезу: P-value оказалоось больше 5%. То есть, с вероятностью больше 5% можно получить наблюдаемое значение. Предположение верно и средние пользовательские рейтинги для Xbox One и PC равны между собой.\n",
    "\n",
    "**5.2** Гипотеза 2: Нулевая Гипотеза Отвергнута: P-value оказалоось меньше 5%. То есть, с вероятностью меньше 5% можно получить наблюдаемое значение. Предположение неверно и средние пользовательские рейтинги жанров Action и Sports разные, вероятность получить равные или более удаленные значения случайно составляет менее 5%."
   ]
  },
  {
   "cell_type": "markdown",
   "metadata": {},
   "source": [
    "## Шаг 6. Общий Вывод"
   ]
  },
  {
   "cell_type": "markdown",
   "metadata": {},
   "source": [
    "В процессе исследования было выполнено:\n",
    "\n",
    "#  1. Загрузка данных:\n",
    "Считали CSV-файлы с данными с помощью библиотеки pandas и сохранили их в датафреймы. \n",
    "\n",
    "Games содержит:\n",
    "- Name — название игры\n",
    "- Platform — платформа\n",
    "- Year_of_Release — год выпуска\n",
    "- Genre — жанр игры\n",
    "- NA_sales — продажи в Северной Америке\n",
    "- EU_sales — продажи в Европе\n",
    "- JP_sales — продажи в Японии\n",
    "- Other_sales — продажи в других странах\n",
    "- Critic_Score — оценка критиков\n",
    "- User_Score — оценка пользователей\n",
    "- Rating — рейтинг от организации ESRB\n",
    "\n",
    "\n",
    "# 2. Подготовка данных:\n",
    "\n",
    "**2.1** Название столбцов приведено к регистру в lower_case. \n",
    "\n",
    "**2.2** В колонках year_of_release и user_score изменены типы данных столбцов: 'year_of_release' на int, 'user_score' на float \n",
    "\n",
    "**2.3** Дубликаты отсудствуют в датафрейме, а также в столбцах имени, платформе и году релиза. В данных присудствуют пропуски которые предстоит обработать для дальнейшего анализа. Есть много причин появления пропусков, например технические - ошибки системы, при передаче, выгрузке данных или допущены пользователем - неправильный ввод или нежелание (сокрытие) информации. \n",
    "\n",
    "В столбцах name, genre были удалены две строки без названия игр и жанров которые ме не можем заполнить. Пропуски в столбце rating заполнили unknown так как мы не можем найти рейтинги для пустых значений. Пропуски в столбце user_score, critic_score, year_of_release заполним значениями -1, так как мы также не можем их заполнять серединными значениями или найти значения для них из других столбцов. \n",
    "\n",
    "В колонке user_score, tbd подразумевает что игра не имеет рейтингов. Но нам нужно заполнить данные числом, поэтому заменим на тип данных c tbd на float, а затем заполним пустые значения -1 \n",
    "\n",
    "**2.4** Посчитали суммарные продажи во всех регионах и запизали в отдельный столбец total_sales. \n",
    "\n",
    "\n",
    "# 3. Провели исследовательский анализ данных:\n",
    "\n",
    "\n",
    "**3.1** Больше всего игр выпускалось в 2008 и 2009 годах, далее идет 2010, 2007, 2011. До 1994 года выпускалось меньше 100 игр в год.\n",
    "\n",
    "**3.2** Во всем датафрейме больше всего продаж на платформах PlayStation 2 и Xbox 360, PS3, Wii, DS, далее PlayStation.\n",
    "\n",
    "Исходя из графика распределения самых прибыльных платформ по годам, можно сделать вывод о том, что большинство новых платформ быстро набирают популярность, но в течение 6-10 лет их популярность снижается при выходе новой платформы. Посчитав можно сделать вывод, что средний срок жизни платформы - 7 лет.\n",
    "\n",
    "Удалим выпуск 1985 для платформы DS.\n",
    "\n",
    "**3.3** Возьмите данные за соответствующий актуальный период. Далее будем рассматривать период включая и после 2014. Исходя из построенного графика, можно сделать вывод о том, что большинство новых платформ быстро набирают популярность, но в течение 6-10 лет их популярность снижается при выходе новой платформы. Средний срок жизни платформы - 7 лет.\n",
    "\n",
    "**3.4** Будем рассматривать период включая и после 2014, профильтровали данные. \n",
    "\n",
    "**3.5** PS4 лидирует по продажам во всех 3-х годах 2014-2016, затем идет X0ne, 3DS и PS3, падают в продажах WiiU и Х360.\n",
    "\n",
    "**3.6** Медиана по топовым платформам варьируется от 0,16 до 0,25 млн долларов прибыли за игру. Примерно одинаковое среднее у X360 и PS3, чуть большее чем у XOne.  \n",
    "\n",
    "**3.7** Для анализа данного вопроса взяли популярную платформу PS4. На основании диаграммы рассеивания по продажам и отзывам критиков, можно сделать вывод, что с увеличением числа оценок от критиков и растут продажи. Наблюдается положительная корреляция, чем больше оценков критиков, тем больше количество продаж.\n",
    "\n",
    "На основании диаграммы рассеивания по продажам и отзывам пользователей, можно сделать вывод, что с увеличением числа оценок от пользователей продажи не растут. Прослеживается отрицательная корреляция пользовательских оценок и продаж игр. Можно сделать вывод что покупатели не руководствуются отзывами пользователей при прокупке.\n",
    "\n",
    "**3.8** Данные по корреляции между выручкой и оценками критиков и пользователей по платформам XOne, 3DS, PS3, X360, WiiU совпадает с данными по PS3, а также в общем по датафрейму. В общем, наблюдается положительная корреляция между оценками критиков и выручкой. Во всех случаях увеличение количества оценок критиков ведет к увеличению продаж. По оценкам пользователей и продажам нет такой положительной однозначной корреляции: у платформы XOne, X360 и PS3 отрицательная корреляция, это значит что увеличение оценок пользователей не ведет к увеличению продаж, у платформ 3DS и WiiU положительная корреляция почти такая же как и у оценок критиков.\n",
    "\n",
    "**3.9** Самые прибыльные жанры боевики, спортивные, шутеры, ролевые. Наименее прибыльные: приключенческий, стратегия и головоломка. Самое высокие мелианные продажи у шутер, спортивные, боевики, ролевые и самые низкие у приключенческие, паззлы и игры-стратегии. \n",
    "\n",
    "# 4. Портрет пользователя каждого региона\n",
    "\n",
    "**4.1** Самые популярные платформы в Северной Америке в порядке убывания: PS4, X0ne, X360, 3DS, PC, PS3, Others.\n",
    "Самые популярные платформы в Европе в порядке убывания: PS4, X0ne, PS3, PC, 3DS, Others.\n",
    "Самые популярные платформы в Японии в порядке убывания: 3DS, PS4, PSV, PS3, WiiU, Others. \n",
    "\n",
    "**4.2** Самые популярные жанры в Северной Америке Shooter, Action, Sports, Role_playing, Misc, Others. \n",
    "Самые популярные жанры в Европе Action, Shooter, Sports, Role-Playing, Racing, Others. \n",
    "Самые популярные жанры в Японии Role-Playing, Action, Fighting, Misc, Shooter, Others. \n",
    "\n",
    "**4.3** В Северной Америке больше всего выручки получается по убыванию у игр с рейтингом \"для лиц старше 17 лет\", далее \"Для всех\", '13-19 лет' и для лиц старше 10 лет. \n",
    "В Европе больше всего выручки получается по убыванию у игр с рейтингом \"для лиц старше 17 лет\", далее \"Для всех\", '13-19 лет' и \"для лиц старше 10 лет\". \n",
    "В Японии больше всего выручки получатся по убыванию у игр с рейтингом \"13-19 лет\", \"Для всех\", затем \"для лиц старше 17 лет\" и меньше всего \"для лиц старше 10 лет\". \n",
    "\n",
    "# 5. Проверка гипотез\n",
    "\n",
    "**5.1 Гипотеза 1: Средние пользовательские рейтинги платформ Xbox One и PC одинаковые:**\n",
    "- Гипотеза 1: Не получилось отвергнуть нулевую гипотезу: P-value оказалоось больше 5%. То есть, с вероятностью больше 5% можно получить наблюдаемое значение. Предположение верно и средние пользовательские рейтинги для Xbox One и PC равны между собой.\n",
    "\n",
    "**5.2 Гипотеза 2: Средние пользовательские рейтинги жанров Action и Sports разные:**\n",
    "- Гипотеза 2: Нулевая Гипотеза Отвергнута: P-value оказалоось меньше 5%. То есть, с вероятностью меньше 5% можно получить наблюдаемое значение. Предположение неверно и средние пользовательские рейтинги жанров Action и Sports не одинаковые, вероятность получить равные или более удаленные значения случайно составляет менее 5%.\n",
    "\n",
    "\n",
    "\n",
    "**Анализ показал, чтобы продукт был потенциально успешным необходимо:**\n",
    "\n",
    "**Игра должна быть разработана для платформ PS4 или XOne для продаж в Америке или Европе и для 3DS если рынок в Японии.  Разрабатывать игры стоит для популярных жанров - это экшен, шутеры, спортивные и ролевые игры. Рейтинг ESRB должен быть для лиц от 17 лет для Америки и Европы или от лиц 13-19 лет для Японии. Отзывы критиков имеют значение для всех платформ, поэтому для увеличения продаж стоит повышать количество положительных оценок критиков. Оценки пользователей на продажи не оказывает существенного влияния. Однако стоит заметить, что если пользовательский рейтинг все-таки будет важен создателям игры, то необходимо знать, что для 3DS платформы отзывы пользователей положительно вляют на продажи.**"
   ]
  }
 ],
 "metadata": {
  "ExecuteTimeLog": [
   {
    "duration": 1261,
    "start_time": "2024-05-30T17:46:50.426Z"
   },
   {
    "duration": 176,
    "start_time": "2024-05-30T17:46:56.601Z"
   },
   {
    "duration": 21,
    "start_time": "2024-05-30T17:46:57.940Z"
   },
   {
    "duration": 15,
    "start_time": "2024-05-30T17:47:08.809Z"
   },
   {
    "duration": 5,
    "start_time": "2024-05-30T17:47:46.972Z"
   },
   {
    "duration": 16,
    "start_time": "2024-05-30T17:48:32.471Z"
   },
   {
    "duration": 14,
    "start_time": "2024-05-30T17:50:47.813Z"
   },
   {
    "duration": 101,
    "start_time": "2024-05-30T18:01:06.598Z"
   },
   {
    "duration": 14,
    "start_time": "2024-05-30T18:02:54.241Z"
   },
   {
    "duration": 58,
    "start_time": "2024-05-30T18:02:59.062Z"
   },
   {
    "duration": 12,
    "start_time": "2024-05-30T18:03:05.942Z"
   },
   {
    "duration": 13,
    "start_time": "2024-05-30T18:05:03.637Z"
   },
   {
    "duration": 12,
    "start_time": "2024-05-30T18:05:16.209Z"
   },
   {
    "duration": 16,
    "start_time": "2024-05-30T18:05:51.018Z"
   },
   {
    "duration": 7,
    "start_time": "2024-05-30T18:07:42.526Z"
   },
   {
    "duration": 13,
    "start_time": "2024-05-30T18:08:06.387Z"
   },
   {
    "duration": 10,
    "start_time": "2024-05-30T18:12:01.280Z"
   },
   {
    "duration": 12,
    "start_time": "2024-05-30T18:12:14.647Z"
   },
   {
    "duration": 22,
    "start_time": "2024-05-30T18:14:50.166Z"
   },
   {
    "duration": 10,
    "start_time": "2024-05-30T18:17:47.857Z"
   },
   {
    "duration": 10,
    "start_time": "2024-05-30T18:18:04.999Z"
   },
   {
    "duration": 5,
    "start_time": "2024-05-30T18:28:36.099Z"
   },
   {
    "duration": 12,
    "start_time": "2024-05-30T18:28:37.108Z"
   },
   {
    "duration": 6,
    "start_time": "2024-05-30T18:28:38.090Z"
   },
   {
    "duration": 4,
    "start_time": "2024-05-30T18:28:38.591Z"
   },
   {
    "duration": 3,
    "start_time": "2024-05-30T18:28:39.238Z"
   },
   {
    "duration": 12,
    "start_time": "2024-05-30T18:28:48.954Z"
   },
   {
    "duration": 16,
    "start_time": "2024-05-30T18:30:23.499Z"
   },
   {
    "duration": 23,
    "start_time": "2024-05-30T18:30:59.886Z"
   },
   {
    "duration": 7,
    "start_time": "2024-05-30T18:31:52.409Z"
   },
   {
    "duration": 22,
    "start_time": "2024-05-30T18:32:21.272Z"
   },
   {
    "duration": 47,
    "start_time": "2024-05-30T18:32:29.078Z"
   },
   {
    "duration": 17,
    "start_time": "2024-05-30T18:32:42.832Z"
   },
   {
    "duration": 3,
    "start_time": "2024-05-30T18:33:48.257Z"
   },
   {
    "duration": 11,
    "start_time": "2024-05-30T18:33:50.149Z"
   },
   {
    "duration": 16,
    "start_time": "2024-05-30T18:33:51.886Z"
   },
   {
    "duration": 13,
    "start_time": "2024-05-30T18:33:58.482Z"
   },
   {
    "duration": 4,
    "start_time": "2024-05-30T18:34:08.469Z"
   },
   {
    "duration": 4,
    "start_time": "2024-05-30T18:34:12.969Z"
   },
   {
    "duration": 15,
    "start_time": "2024-05-30T18:34:34.339Z"
   },
   {
    "duration": 5,
    "start_time": "2024-05-30T18:35:02.003Z"
   },
   {
    "duration": 18,
    "start_time": "2024-05-30T18:35:04.050Z"
   },
   {
    "duration": 5,
    "start_time": "2024-05-30T18:37:32.958Z"
   },
   {
    "duration": 17,
    "start_time": "2024-05-30T18:37:33.755Z"
   },
   {
    "duration": 623,
    "start_time": "2024-05-30T18:46:55.543Z"
   },
   {
    "duration": 688,
    "start_time": "2024-05-30T18:47:21.869Z"
   },
   {
    "duration": 455,
    "start_time": "2024-05-30T18:47:40.596Z"
   },
   {
    "duration": 18,
    "start_time": "2024-05-30T18:48:06.492Z"
   },
   {
    "duration": 21,
    "start_time": "2024-05-30T18:48:21.483Z"
   },
   {
    "duration": 27,
    "start_time": "2024-05-30T18:48:30.198Z"
   },
   {
    "duration": 330,
    "start_time": "2024-05-30T18:49:10.279Z"
   },
   {
    "duration": 3,
    "start_time": "2024-05-30T18:49:30.823Z"
   },
   {
    "duration": 338,
    "start_time": "2024-05-30T18:49:33.313Z"
   },
   {
    "duration": 365,
    "start_time": "2024-05-30T18:49:47.905Z"
   },
   {
    "duration": 9,
    "start_time": "2024-05-30T18:50:08.399Z"
   },
   {
    "duration": 11,
    "start_time": "2024-05-30T18:50:32.473Z"
   },
   {
    "duration": 17,
    "start_time": "2024-05-30T18:53:16.867Z"
   },
   {
    "duration": 11,
    "start_time": "2024-05-30T18:59:48.708Z"
   },
   {
    "duration": 129,
    "start_time": "2024-05-30T19:00:02.441Z"
   },
   {
    "duration": 357,
    "start_time": "2024-05-30T19:00:23.487Z"
   },
   {
    "duration": 414,
    "start_time": "2024-05-30T19:00:59.646Z"
   },
   {
    "duration": 378,
    "start_time": "2024-05-30T19:01:10.609Z"
   },
   {
    "duration": 440,
    "start_time": "2024-05-30T19:01:18.699Z"
   },
   {
    "duration": 357,
    "start_time": "2024-05-30T19:15:59.600Z"
   },
   {
    "duration": 1089,
    "start_time": "2024-05-30T19:22:00.021Z"
   },
   {
    "duration": 1074,
    "start_time": "2024-05-30T19:22:27.569Z"
   },
   {
    "duration": 2,
    "start_time": "2024-05-30T19:23:40.513Z"
   },
   {
    "duration": 973,
    "start_time": "2024-05-30T19:24:10.753Z"
   },
   {
    "duration": 989,
    "start_time": "2024-05-30T19:25:49.866Z"
   },
   {
    "duration": 1069,
    "start_time": "2024-05-30T19:26:14.072Z"
   },
   {
    "duration": 1142,
    "start_time": "2024-05-30T19:26:33.670Z"
   },
   {
    "duration": 260,
    "start_time": "2024-05-30T19:27:45.475Z"
   },
   {
    "duration": 253,
    "start_time": "2024-05-30T19:29:20.601Z"
   },
   {
    "duration": 271,
    "start_time": "2024-05-30T19:30:15.216Z"
   },
   {
    "duration": 282,
    "start_time": "2024-05-30T19:30:36.018Z"
   },
   {
    "duration": 263,
    "start_time": "2024-05-30T19:31:07.547Z"
   },
   {
    "duration": 1007,
    "start_time": "2024-05-30T19:33:23.695Z"
   },
   {
    "duration": 594,
    "start_time": "2024-05-30T19:33:49.394Z"
   },
   {
    "duration": 256,
    "start_time": "2024-05-30T19:34:48.501Z"
   },
   {
    "duration": 18,
    "start_time": "2024-05-30T19:35:36.100Z"
   },
   {
    "duration": 18,
    "start_time": "2024-05-30T19:35:43.049Z"
   },
   {
    "duration": 276,
    "start_time": "2024-05-30T19:35:52.943Z"
   },
   {
    "duration": 240,
    "start_time": "2024-05-30T19:36:46.431Z"
   },
   {
    "duration": 231,
    "start_time": "2024-05-30T19:36:55.307Z"
   },
   {
    "duration": 256,
    "start_time": "2024-05-30T19:37:16.321Z"
   },
   {
    "duration": 251,
    "start_time": "2024-05-30T19:37:33.524Z"
   },
   {
    "duration": 63,
    "start_time": "2024-05-30T19:38:56.045Z"
   },
   {
    "duration": 131,
    "start_time": "2024-05-30T19:39:05.140Z"
   },
   {
    "duration": 128,
    "start_time": "2024-05-30T19:39:43.706Z"
   },
   {
    "duration": 240,
    "start_time": "2024-05-30T19:39:55.349Z"
   },
   {
    "duration": 18,
    "start_time": "2024-05-30T19:40:45.476Z"
   },
   {
    "duration": 10,
    "start_time": "2024-05-30T19:41:12.552Z"
   },
   {
    "duration": 134,
    "start_time": "2024-05-30T19:41:33.212Z"
   },
   {
    "duration": 259,
    "start_time": "2024-05-30T19:41:44.511Z"
   },
   {
    "duration": 394,
    "start_time": "2024-05-30T19:43:42.934Z"
   },
   {
    "duration": 398,
    "start_time": "2024-05-30T19:45:01.748Z"
   },
   {
    "duration": 517,
    "start_time": "2024-05-30T19:45:23.703Z"
   },
   {
    "duration": 526,
    "start_time": "2024-05-30T19:46:43.097Z"
   },
   {
    "duration": 548,
    "start_time": "2024-05-30T19:47:19.367Z"
   },
   {
    "duration": 524,
    "start_time": "2024-05-30T19:47:32.188Z"
   },
   {
    "duration": 621,
    "start_time": "2024-05-30T19:47:42.603Z"
   },
   {
    "duration": 525,
    "start_time": "2024-05-30T19:47:59.167Z"
   },
   {
    "duration": 204,
    "start_time": "2024-05-30T19:48:38.156Z"
   },
   {
    "duration": 170,
    "start_time": "2024-05-30T19:49:04.400Z"
   },
   {
    "duration": 198,
    "start_time": "2024-05-30T19:49:27.034Z"
   },
   {
    "duration": 174,
    "start_time": "2024-05-30T19:49:45.471Z"
   },
   {
    "duration": 163,
    "start_time": "2024-05-30T19:50:14.187Z"
   },
   {
    "duration": 173,
    "start_time": "2024-05-30T19:50:46.082Z"
   },
   {
    "duration": 3,
    "start_time": "2024-05-30T19:55:09.102Z"
   },
   {
    "duration": 13,
    "start_time": "2024-05-30T19:55:09.948Z"
   },
   {
    "duration": 165,
    "start_time": "2024-05-30T19:55:13.412Z"
   },
   {
    "duration": 262,
    "start_time": "2024-05-30T19:55:35.187Z"
   },
   {
    "duration": 18,
    "start_time": "2024-05-30T19:56:04.942Z"
   },
   {
    "duration": 163,
    "start_time": "2024-05-30T19:56:58.720Z"
   },
   {
    "duration": 178,
    "start_time": "2024-05-30T19:57:29.466Z"
   },
   {
    "duration": 166,
    "start_time": "2024-05-30T19:57:53.421Z"
   },
   {
    "duration": 63,
    "start_time": "2024-05-31T15:30:46.889Z"
   },
   {
    "duration": 1495,
    "start_time": "2024-05-31T15:30:50.254Z"
   },
   {
    "duration": 197,
    "start_time": "2024-05-31T15:30:51.751Z"
   },
   {
    "duration": 29,
    "start_time": "2024-05-31T15:30:52.607Z"
   },
   {
    "duration": 17,
    "start_time": "2024-05-31T15:30:57.857Z"
   },
   {
    "duration": 6,
    "start_time": "2024-05-31T15:31:01.186Z"
   },
   {
    "duration": 19,
    "start_time": "2024-05-31T15:31:01.996Z"
   },
   {
    "duration": 65,
    "start_time": "2024-05-31T15:31:03.499Z"
   },
   {
    "duration": 15,
    "start_time": "2024-05-31T15:31:08.651Z"
   },
   {
    "duration": 18,
    "start_time": "2024-05-31T15:31:11.490Z"
   },
   {
    "duration": 7,
    "start_time": "2024-05-31T15:31:19.150Z"
   },
   {
    "duration": 18,
    "start_time": "2024-05-31T15:31:21.586Z"
   },
   {
    "duration": 23,
    "start_time": "2024-05-31T15:31:24.559Z"
   },
   {
    "duration": 9,
    "start_time": "2024-05-31T15:31:28.491Z"
   },
   {
    "duration": 10,
    "start_time": "2024-05-31T15:31:29.873Z"
   },
   {
    "duration": 6,
    "start_time": "2024-05-31T15:31:33.510Z"
   },
   {
    "duration": 3,
    "start_time": "2024-05-31T15:31:34.260Z"
   },
   {
    "duration": 4,
    "start_time": "2024-05-31T15:31:34.987Z"
   },
   {
    "duration": 4,
    "start_time": "2024-05-31T15:31:35.462Z"
   },
   {
    "duration": 15,
    "start_time": "2024-05-31T15:31:37.813Z"
   },
   {
    "duration": 17,
    "start_time": "2024-05-31T15:31:38.859Z"
   },
   {
    "duration": 17,
    "start_time": "2024-05-31T15:31:42.888Z"
   },
   {
    "duration": 4,
    "start_time": "2024-05-31T15:31:55.589Z"
   },
   {
    "duration": 5,
    "start_time": "2024-05-31T15:31:56.210Z"
   },
   {
    "duration": 21,
    "start_time": "2024-05-31T15:31:57.215Z"
   },
   {
    "duration": 6,
    "start_time": "2024-05-31T15:31:58.187Z"
   },
   {
    "duration": 426,
    "start_time": "2024-05-31T15:33:50.018Z"
   },
   {
    "duration": 364,
    "start_time": "2024-05-31T15:34:49.301Z"
   },
   {
    "duration": 8,
    "start_time": "2024-05-31T15:43:50.771Z"
   },
   {
    "duration": 1160,
    "start_time": "2024-05-31T15:48:46.775Z"
   },
   {
    "duration": 258,
    "start_time": "2024-05-31T15:49:03.847Z"
   },
   {
    "duration": 354,
    "start_time": "2024-05-31T15:50:34.453Z"
   },
   {
    "duration": 253,
    "start_time": "2024-05-31T15:54:06.148Z"
   },
   {
    "duration": 233,
    "start_time": "2024-05-31T15:54:24.456Z"
   },
   {
    "duration": 233,
    "start_time": "2024-05-31T15:54:36.553Z"
   },
   {
    "duration": 86,
    "start_time": "2024-05-31T16:01:39.867Z"
   },
   {
    "duration": 12,
    "start_time": "2024-05-31T16:02:23.852Z"
   },
   {
    "duration": 23,
    "start_time": "2024-05-31T16:03:07.484Z"
   },
   {
    "duration": 71,
    "start_time": "2024-05-31T16:03:23.189Z"
   },
   {
    "duration": 19,
    "start_time": "2024-05-31T16:05:23.916Z"
   },
   {
    "duration": 55,
    "start_time": "2024-05-31T16:05:38.432Z"
   },
   {
    "duration": 46,
    "start_time": "2024-05-31T16:06:19.143Z"
   },
   {
    "duration": 44,
    "start_time": "2024-05-31T16:08:19.467Z"
   },
   {
    "duration": 26,
    "start_time": "2024-05-31T16:08:46.561Z"
   },
   {
    "duration": 3,
    "start_time": "2024-05-31T16:10:26.753Z"
   },
   {
    "duration": 26,
    "start_time": "2024-05-31T16:10:37.180Z"
   },
   {
    "duration": 23,
    "start_time": "2024-05-31T16:11:03.437Z"
   },
   {
    "duration": 331,
    "start_time": "2024-05-31T16:11:24.332Z"
   },
   {
    "duration": 22,
    "start_time": "2024-05-31T16:11:54.247Z"
   },
   {
    "duration": 220,
    "start_time": "2024-05-31T16:12:18.327Z"
   },
   {
    "duration": 22,
    "start_time": "2024-05-31T16:13:13.536Z"
   },
   {
    "duration": 228,
    "start_time": "2024-05-31T16:13:21.840Z"
   },
   {
    "duration": 186,
    "start_time": "2024-05-31T16:13:55.322Z"
   },
   {
    "duration": 218,
    "start_time": "2024-05-31T16:14:19.760Z"
   },
   {
    "duration": 229,
    "start_time": "2024-05-31T16:17:05.725Z"
   },
   {
    "duration": 279,
    "start_time": "2024-05-31T16:25:02.673Z"
   },
   {
    "duration": 190,
    "start_time": "2024-05-31T16:27:08.147Z"
   },
   {
    "duration": 415,
    "start_time": "2024-05-31T16:28:55.768Z"
   },
   {
    "duration": 223,
    "start_time": "2024-05-31T16:29:05.966Z"
   },
   {
    "duration": 210,
    "start_time": "2024-05-31T16:29:47.235Z"
   },
   {
    "duration": 211,
    "start_time": "2024-05-31T16:29:54.390Z"
   },
   {
    "duration": 14,
    "start_time": "2024-05-31T16:31:42.284Z"
   },
   {
    "duration": 10,
    "start_time": "2024-05-31T16:31:57.515Z"
   },
   {
    "duration": 281,
    "start_time": "2024-05-31T16:32:53.141Z"
   },
   {
    "duration": 256,
    "start_time": "2024-05-31T16:33:29.287Z"
   },
   {
    "duration": 21,
    "start_time": "2024-05-31T16:34:55.119Z"
   },
   {
    "duration": 8,
    "start_time": "2024-05-31T16:39:16.835Z"
   },
   {
    "duration": 8,
    "start_time": "2024-05-31T16:41:31.932Z"
   },
   {
    "duration": 7,
    "start_time": "2024-05-31T16:41:43.431Z"
   },
   {
    "duration": 8,
    "start_time": "2024-05-31T16:41:48.913Z"
   },
   {
    "duration": 3,
    "start_time": "2024-05-31T16:42:15.856Z"
   },
   {
    "duration": 51,
    "start_time": "2024-05-31T16:42:17.108Z"
   },
   {
    "duration": 16,
    "start_time": "2024-05-31T16:42:17.745Z"
   },
   {
    "duration": 14,
    "start_time": "2024-05-31T16:42:18.390Z"
   },
   {
    "duration": 5,
    "start_time": "2024-05-31T16:42:20.722Z"
   },
   {
    "duration": 17,
    "start_time": "2024-05-31T16:42:21.439Z"
   },
   {
    "duration": 24,
    "start_time": "2024-05-31T16:42:22.190Z"
   },
   {
    "duration": 12,
    "start_time": "2024-05-31T16:42:22.843Z"
   },
   {
    "duration": 15,
    "start_time": "2024-05-31T16:42:25.033Z"
   },
   {
    "duration": 6,
    "start_time": "2024-05-31T16:42:26.351Z"
   },
   {
    "duration": 13,
    "start_time": "2024-05-31T16:42:27.212Z"
   },
   {
    "duration": 24,
    "start_time": "2024-05-31T16:42:28.801Z"
   },
   {
    "duration": 6,
    "start_time": "2024-05-31T16:42:31.835Z"
   },
   {
    "duration": 9,
    "start_time": "2024-05-31T16:42:32.517Z"
   },
   {
    "duration": 5,
    "start_time": "2024-05-31T16:42:33.267Z"
   },
   {
    "duration": 4,
    "start_time": "2024-05-31T16:42:34.244Z"
   },
   {
    "duration": 4,
    "start_time": "2024-05-31T16:42:35.036Z"
   },
   {
    "duration": 2,
    "start_time": "2024-05-31T16:42:36.728Z"
   },
   {
    "duration": 7,
    "start_time": "2024-05-31T16:42:37.691Z"
   },
   {
    "duration": 18,
    "start_time": "2024-05-31T16:42:39.228Z"
   },
   {
    "duration": 22,
    "start_time": "2024-05-31T16:42:40.108Z"
   },
   {
    "duration": 15,
    "start_time": "2024-05-31T16:42:40.810Z"
   },
   {
    "duration": 2,
    "start_time": "2024-05-31T16:42:41.621Z"
   },
   {
    "duration": 3,
    "start_time": "2024-05-31T16:42:42.968Z"
   },
   {
    "duration": 5,
    "start_time": "2024-05-31T16:42:43.511Z"
   },
   {
    "duration": 16,
    "start_time": "2024-05-31T16:42:44.204Z"
   },
   {
    "duration": 4,
    "start_time": "2024-05-31T16:42:45.416Z"
   },
   {
    "duration": 16,
    "start_time": "2024-05-31T16:42:46.948Z"
   },
   {
    "duration": 7,
    "start_time": "2024-05-31T16:42:49.737Z"
   },
   {
    "duration": 386,
    "start_time": "2024-05-31T16:44:44.171Z"
   },
   {
    "duration": 442,
    "start_time": "2024-05-31T16:44:51.068Z"
   },
   {
    "duration": 8,
    "start_time": "2024-05-31T16:44:55.726Z"
   },
   {
    "duration": 21,
    "start_time": "2024-05-31T16:44:59.223Z"
   },
   {
    "duration": 242,
    "start_time": "2024-05-31T16:45:05.030Z"
   },
   {
    "duration": 244,
    "start_time": "2024-05-31T16:50:08.448Z"
   },
   {
    "duration": 10,
    "start_time": "2024-05-31T16:53:25.726Z"
   },
   {
    "duration": 10,
    "start_time": "2024-05-31T16:54:22.388Z"
   },
   {
    "duration": 8,
    "start_time": "2024-05-31T16:54:50.117Z"
   },
   {
    "duration": 10,
    "start_time": "2024-05-31T16:55:03.600Z"
   },
   {
    "duration": 6,
    "start_time": "2024-05-31T17:02:40.226Z"
   },
   {
    "duration": 357,
    "start_time": "2024-05-31T17:08:05.411Z"
   },
   {
    "duration": 9,
    "start_time": "2024-05-31T17:08:31.501Z"
   },
   {
    "duration": 298,
    "start_time": "2024-05-31T17:08:34.439Z"
   },
   {
    "duration": 12,
    "start_time": "2024-05-31T17:10:49.778Z"
   },
   {
    "duration": 396,
    "start_time": "2024-05-31T17:11:02.123Z"
   },
   {
    "duration": 380,
    "start_time": "2024-05-31T17:11:46.390Z"
   },
   {
    "duration": 141,
    "start_time": "2024-05-31T17:12:39.693Z"
   },
   {
    "duration": 527,
    "start_time": "2024-05-31T17:12:53.845Z"
   },
   {
    "duration": 328,
    "start_time": "2024-05-31T17:17:47.332Z"
   },
   {
    "duration": 151,
    "start_time": "2024-05-31T17:18:33.649Z"
   },
   {
    "duration": 343,
    "start_time": "2024-05-31T17:19:32.112Z"
   },
   {
    "duration": 506,
    "start_time": "2024-05-31T17:20:53.838Z"
   },
   {
    "duration": 143,
    "start_time": "2024-05-31T17:23:17.308Z"
   },
   {
    "duration": 341,
    "start_time": "2024-05-31T17:23:31.787Z"
   },
   {
    "duration": 351,
    "start_time": "2024-05-31T17:31:27.201Z"
   },
   {
    "duration": 336,
    "start_time": "2024-05-31T18:09:05.341Z"
   },
   {
    "duration": 539,
    "start_time": "2024-05-31T18:09:30.408Z"
   },
   {
    "duration": 457,
    "start_time": "2024-05-31T18:10:52.267Z"
   },
   {
    "duration": 343,
    "start_time": "2024-05-31T18:11:05.467Z"
   },
   {
    "duration": 359,
    "start_time": "2024-05-31T18:14:01.867Z"
   },
   {
    "duration": 271,
    "start_time": "2024-05-31T18:14:17.987Z"
   },
   {
    "duration": 480,
    "start_time": "2024-05-31T18:19:03.954Z"
   },
   {
    "duration": 386,
    "start_time": "2024-05-31T18:19:25.204Z"
   },
   {
    "duration": 10,
    "start_time": "2024-05-31T18:27:00.421Z"
   },
   {
    "duration": 11,
    "start_time": "2024-05-31T18:27:08.548Z"
   },
   {
    "duration": 9,
    "start_time": "2024-05-31T18:27:16.859Z"
   },
   {
    "duration": 10,
    "start_time": "2024-05-31T18:28:42.863Z"
   },
   {
    "duration": 13,
    "start_time": "2024-05-31T18:28:49.429Z"
   },
   {
    "duration": 16,
    "start_time": "2024-05-31T18:30:11.449Z"
   },
   {
    "duration": 14,
    "start_time": "2024-05-31T18:30:25.497Z"
   },
   {
    "duration": 14,
    "start_time": "2024-05-31T18:32:36.867Z"
   },
   {
    "duration": 18,
    "start_time": "2024-05-31T18:34:10.428Z"
   },
   {
    "duration": 16,
    "start_time": "2024-05-31T18:34:25.528Z"
   },
   {
    "duration": 12,
    "start_time": "2024-05-31T18:35:06.557Z"
   },
   {
    "duration": 258,
    "start_time": "2024-05-31T18:39:40.192Z"
   },
   {
    "duration": 23,
    "start_time": "2024-05-31T18:43:57.940Z"
   },
   {
    "duration": 29,
    "start_time": "2024-05-31T18:44:13.710Z"
   },
   {
    "duration": 152,
    "start_time": "2024-05-31T18:44:26.898Z"
   },
   {
    "duration": 29,
    "start_time": "2024-05-31T18:45:37.721Z"
   },
   {
    "duration": 26,
    "start_time": "2024-05-31T18:46:25.426Z"
   },
   {
    "duration": 234,
    "start_time": "2024-05-31T18:49:02.376Z"
   },
   {
    "duration": 18,
    "start_time": "2024-05-31T18:51:56.383Z"
   },
   {
    "duration": 15,
    "start_time": "2024-05-31T18:52:26.854Z"
   },
   {
    "duration": 201,
    "start_time": "2024-05-31T18:54:41.115Z"
   },
   {
    "duration": 17,
    "start_time": "2024-05-31T18:55:02.419Z"
   },
   {
    "duration": 16,
    "start_time": "2024-05-31T18:57:22.309Z"
   },
   {
    "duration": 236,
    "start_time": "2024-05-31T19:01:14.137Z"
   },
   {
    "duration": 242,
    "start_time": "2024-05-31T19:01:27.531Z"
   },
   {
    "duration": 235,
    "start_time": "2024-05-31T19:01:59.495Z"
   },
   {
    "duration": 8,
    "start_time": "2024-05-31T19:07:40.128Z"
   },
   {
    "duration": 987,
    "start_time": "2024-05-31T19:10:49.570Z"
   },
   {
    "duration": 274,
    "start_time": "2024-05-31T19:11:26.779Z"
   },
   {
    "duration": 186,
    "start_time": "2024-05-31T19:14:00.583Z"
   },
   {
    "duration": 311,
    "start_time": "2024-05-31T19:15:01.234Z"
   },
   {
    "duration": 310,
    "start_time": "2024-05-31T19:15:17.331Z"
   },
   {
    "duration": 163,
    "start_time": "2024-05-31T19:15:39.184Z"
   },
   {
    "duration": 162,
    "start_time": "2024-05-31T19:16:40.672Z"
   },
   {
    "duration": 161,
    "start_time": "2024-05-31T19:16:55.197Z"
   },
   {
    "duration": 163,
    "start_time": "2024-05-31T19:17:05.757Z"
   },
   {
    "duration": 154,
    "start_time": "2024-05-31T19:20:05.292Z"
   },
   {
    "duration": 155,
    "start_time": "2024-05-31T19:20:30.521Z"
   },
   {
    "duration": 288,
    "start_time": "2024-05-31T19:22:27.603Z"
   },
   {
    "duration": 283,
    "start_time": "2024-05-31T19:22:40.653Z"
   },
   {
    "duration": 297,
    "start_time": "2024-05-31T19:22:51.920Z"
   },
   {
    "duration": 3,
    "start_time": "2024-05-31T19:28:50.270Z"
   },
   {
    "duration": 5,
    "start_time": "2024-05-31T19:28:59.529Z"
   },
   {
    "duration": 9,
    "start_time": "2024-05-31T19:29:08.271Z"
   },
   {
    "duration": 6,
    "start_time": "2024-05-31T19:29:19.372Z"
   },
   {
    "duration": 5,
    "start_time": "2024-05-31T19:34:05.560Z"
   },
   {
    "duration": 7,
    "start_time": "2024-05-31T19:34:56.110Z"
   },
   {
    "duration": 11,
    "start_time": "2024-05-31T19:36:09.100Z"
   },
   {
    "duration": 3,
    "start_time": "2024-05-31T19:36:14.181Z"
   },
   {
    "duration": 203,
    "start_time": "2024-05-31T19:36:17.458Z"
   },
   {
    "duration": 1392,
    "start_time": "2024-05-31T19:36:32.770Z"
   },
   {
    "duration": 1425,
    "start_time": "2024-05-31T19:37:37.156Z"
   },
   {
    "duration": 1450,
    "start_time": "2024-05-31T19:39:18.579Z"
   },
   {
    "duration": 1344,
    "start_time": "2024-05-31T19:39:44.308Z"
   },
   {
    "duration": 19,
    "start_time": "2024-05-31T19:40:23.347Z"
   },
   {
    "duration": 55,
    "start_time": "2024-05-31T19:40:43.569Z"
   },
   {
    "duration": 231,
    "start_time": "2024-05-31T19:51:41.723Z"
   },
   {
    "duration": 18,
    "start_time": "2024-05-31T19:52:51.092Z"
   },
   {
    "duration": 312,
    "start_time": "2024-05-31T19:53:13.491Z"
   },
   {
    "duration": 294,
    "start_time": "2024-05-31T19:54:20.925Z"
   },
   {
    "duration": 278,
    "start_time": "2024-05-31T19:54:29.373Z"
   },
   {
    "duration": 555,
    "start_time": "2024-05-31T19:57:35.108Z"
   },
   {
    "duration": 415,
    "start_time": "2024-05-31T19:57:50.256Z"
   },
   {
    "duration": 271,
    "start_time": "2024-05-31T19:58:32.221Z"
   },
   {
    "duration": 295,
    "start_time": "2024-05-31T19:59:06.810Z"
   },
   {
    "duration": 220,
    "start_time": "2024-05-31T19:59:54.268Z"
   },
   {
    "duration": 199,
    "start_time": "2024-05-31T20:00:07.367Z"
   },
   {
    "duration": 190,
    "start_time": "2024-05-31T20:00:23.465Z"
   },
   {
    "duration": 227,
    "start_time": "2024-05-31T20:03:28.391Z"
   },
   {
    "duration": 215,
    "start_time": "2024-05-31T20:03:38.568Z"
   },
   {
    "duration": 3,
    "start_time": "2024-05-31T20:08:50.197Z"
   },
   {
    "duration": 8,
    "start_time": "2024-05-31T20:08:50.887Z"
   },
   {
    "duration": 18,
    "start_time": "2024-05-31T20:08:51.755Z"
   },
   {
    "duration": 18,
    "start_time": "2024-05-31T20:08:53.213Z"
   },
   {
    "duration": 156,
    "start_time": "2024-05-31T20:08:59.063Z"
   },
   {
    "duration": 166,
    "start_time": "2024-05-31T20:09:15.849Z"
   },
   {
    "duration": 22,
    "start_time": "2024-05-31T20:17:32.826Z"
   },
   {
    "duration": 13,
    "start_time": "2024-05-31T20:17:39.592Z"
   },
   {
    "duration": 280,
    "start_time": "2024-05-31T20:17:53.264Z"
   },
   {
    "duration": 350,
    "start_time": "2024-05-31T20:21:05.781Z"
   },
   {
    "duration": 13,
    "start_time": "2024-05-31T20:29:25.087Z"
   },
   {
    "duration": 649,
    "start_time": "2024-05-31T20:29:42.508Z"
   },
   {
    "duration": 12,
    "start_time": "2024-05-31T20:30:11.866Z"
   },
   {
    "duration": 24,
    "start_time": "2024-05-31T20:30:24.679Z"
   },
   {
    "duration": 25,
    "start_time": "2024-05-31T20:31:20.164Z"
   },
   {
    "duration": 10,
    "start_time": "2024-05-31T20:32:38.432Z"
   },
   {
    "duration": 12,
    "start_time": "2024-05-31T20:32:47.296Z"
   },
   {
    "duration": 10,
    "start_time": "2024-05-31T20:33:03.665Z"
   },
   {
    "duration": 51,
    "start_time": "2024-05-31T20:33:32.265Z"
   },
   {
    "duration": 5,
    "start_time": "2024-05-31T20:34:02.322Z"
   },
   {
    "duration": 129,
    "start_time": "2024-05-31T20:43:14.208Z"
   },
   {
    "duration": 9,
    "start_time": "2024-05-31T20:43:14.715Z"
   },
   {
    "duration": 4,
    "start_time": "2024-05-31T20:43:24.617Z"
   },
   {
    "duration": 11,
    "start_time": "2024-05-31T20:45:09.951Z"
   },
   {
    "duration": 10,
    "start_time": "2024-05-31T20:45:12.482Z"
   },
   {
    "duration": 6,
    "start_time": "2024-05-31T20:45:15.180Z"
   },
   {
    "duration": 1249,
    "start_time": "2024-05-31T21:14:25.107Z"
   },
   {
    "duration": 61,
    "start_time": "2024-05-31T21:14:26.358Z"
   },
   {
    "duration": 21,
    "start_time": "2024-05-31T21:14:26.421Z"
   },
   {
    "duration": 17,
    "start_time": "2024-05-31T21:14:26.444Z"
   },
   {
    "duration": 7,
    "start_time": "2024-05-31T21:14:26.463Z"
   },
   {
    "duration": 24,
    "start_time": "2024-05-31T21:14:26.472Z"
   },
   {
    "duration": 113,
    "start_time": "2024-05-31T21:14:26.498Z"
   },
   {
    "duration": 13,
    "start_time": "2024-05-31T21:14:26.613Z"
   },
   {
    "duration": 34,
    "start_time": "2024-05-31T21:14:26.628Z"
   },
   {
    "duration": 9,
    "start_time": "2024-05-31T21:14:26.665Z"
   },
   {
    "duration": 12,
    "start_time": "2024-05-31T21:14:26.675Z"
   },
   {
    "duration": 37,
    "start_time": "2024-05-31T21:14:26.689Z"
   },
   {
    "duration": 7,
    "start_time": "2024-05-31T21:14:26.727Z"
   },
   {
    "duration": 29,
    "start_time": "2024-05-31T21:14:26.735Z"
   },
   {
    "duration": 5,
    "start_time": "2024-05-31T21:14:26.766Z"
   },
   {
    "duration": 14,
    "start_time": "2024-05-31T21:14:26.772Z"
   },
   {
    "duration": 8,
    "start_time": "2024-05-31T21:14:26.787Z"
   },
   {
    "duration": 6,
    "start_time": "2024-05-31T21:14:26.797Z"
   },
   {
    "duration": 8,
    "start_time": "2024-05-31T21:14:26.805Z"
   },
   {
    "duration": 11,
    "start_time": "2024-05-31T21:14:26.815Z"
   },
   {
    "duration": 16,
    "start_time": "2024-05-31T21:14:26.827Z"
   },
   {
    "duration": 14,
    "start_time": "2024-05-31T21:14:26.862Z"
   },
   {
    "duration": 18,
    "start_time": "2024-05-31T21:14:26.877Z"
   },
   {
    "duration": 13,
    "start_time": "2024-05-31T21:14:26.897Z"
   },
   {
    "duration": 32,
    "start_time": "2024-05-31T21:14:26.912Z"
   },
   {
    "duration": 31,
    "start_time": "2024-05-31T21:14:26.946Z"
   },
   {
    "duration": 10,
    "start_time": "2024-05-31T21:14:26.979Z"
   },
   {
    "duration": 24,
    "start_time": "2024-05-31T21:14:26.995Z"
   },
   {
    "duration": 8,
    "start_time": "2024-05-31T21:14:27.022Z"
   },
   {
    "duration": 418,
    "start_time": "2024-05-31T21:14:27.032Z"
   },
   {
    "duration": 332,
    "start_time": "2024-05-31T21:14:27.452Z"
   },
   {
    "duration": 7,
    "start_time": "2024-05-31T21:14:27.786Z"
   },
   {
    "duration": 21,
    "start_time": "2024-05-31T21:14:27.795Z"
   },
   {
    "duration": 295,
    "start_time": "2024-05-31T21:14:27.818Z"
   },
   {
    "duration": 9,
    "start_time": "2024-05-31T21:14:28.115Z"
   },
   {
    "duration": 8,
    "start_time": "2024-05-31T21:14:28.126Z"
   },
   {
    "duration": 29,
    "start_time": "2024-05-31T21:14:28.136Z"
   },
   {
    "duration": 5,
    "start_time": "2024-05-31T21:14:28.167Z"
   },
   {
    "duration": 12,
    "start_time": "2024-05-31T21:14:28.174Z"
   },
   {
    "duration": 374,
    "start_time": "2024-05-31T21:14:28.188Z"
   },
   {
    "duration": 399,
    "start_time": "2024-05-31T21:14:28.564Z"
   },
   {
    "duration": 6,
    "start_time": "2024-05-31T21:14:28.965Z"
   },
   {
    "duration": 391,
    "start_time": "2024-05-31T21:14:28.972Z"
   },
   {
    "duration": 5,
    "start_time": "2024-05-31T21:14:29.364Z"
   },
   {
    "duration": 11,
    "start_time": "2024-05-31T21:14:29.371Z"
   },
   {
    "duration": 12,
    "start_time": "2024-05-31T21:14:29.383Z"
   },
   {
    "duration": 20,
    "start_time": "2024-05-31T21:14:29.397Z"
   },
   {
    "duration": 50,
    "start_time": "2024-05-31T21:14:29.419Z"
   },
   {
    "duration": 1333,
    "start_time": "2024-05-31T21:14:29.471Z"
   },
   {
    "duration": 68,
    "start_time": "2024-05-31T21:14:30.805Z"
   },
   {
    "duration": 9,
    "start_time": "2024-05-31T21:14:30.875Z"
   },
   {
    "duration": 107,
    "start_time": "2024-05-31T21:14:30.886Z"
   },
   {
    "duration": 293,
    "start_time": "2024-05-31T21:14:30.995Z"
   },
   {
    "duration": 64,
    "start_time": "2024-05-31T21:14:31.290Z"
   },
   {
    "duration": 0,
    "start_time": "2024-05-31T21:14:31.356Z"
   },
   {
    "duration": 0,
    "start_time": "2024-05-31T21:14:31.357Z"
   },
   {
    "duration": 0,
    "start_time": "2024-05-31T21:14:31.358Z"
   },
   {
    "duration": 0,
    "start_time": "2024-05-31T21:14:31.359Z"
   },
   {
    "duration": 0,
    "start_time": "2024-05-31T21:14:31.360Z"
   },
   {
    "duration": 0,
    "start_time": "2024-05-31T21:14:31.361Z"
   },
   {
    "duration": 0,
    "start_time": "2024-05-31T21:14:31.363Z"
   },
   {
    "duration": 0,
    "start_time": "2024-05-31T21:14:31.364Z"
   },
   {
    "duration": 0,
    "start_time": "2024-05-31T21:14:31.365Z"
   },
   {
    "duration": 0,
    "start_time": "2024-05-31T21:14:31.366Z"
   },
   {
    "duration": 0,
    "start_time": "2024-05-31T21:14:31.367Z"
   },
   {
    "duration": 0,
    "start_time": "2024-05-31T21:14:31.368Z"
   },
   {
    "duration": 0,
    "start_time": "2024-05-31T21:14:31.369Z"
   },
   {
    "duration": 0,
    "start_time": "2024-05-31T21:14:31.370Z"
   },
   {
    "duration": 0,
    "start_time": "2024-05-31T21:14:31.371Z"
   },
   {
    "duration": 0,
    "start_time": "2024-05-31T21:14:31.373Z"
   },
   {
    "duration": 0,
    "start_time": "2024-05-31T21:14:31.373Z"
   },
   {
    "duration": 0,
    "start_time": "2024-05-31T21:14:31.375Z"
   },
   {
    "duration": 0,
    "start_time": "2024-05-31T21:14:31.376Z"
   },
   {
    "duration": 0,
    "start_time": "2024-05-31T21:14:31.377Z"
   },
   {
    "duration": 0,
    "start_time": "2024-05-31T21:14:31.378Z"
   },
   {
    "duration": 0,
    "start_time": "2024-05-31T21:14:31.379Z"
   },
   {
    "duration": 0,
    "start_time": "2024-05-31T21:14:31.380Z"
   },
   {
    "duration": 0,
    "start_time": "2024-05-31T21:14:31.382Z"
   },
   {
    "duration": 1208,
    "start_time": "2024-05-31T21:15:37.110Z"
   },
   {
    "duration": 59,
    "start_time": "2024-05-31T21:15:38.320Z"
   },
   {
    "duration": 20,
    "start_time": "2024-05-31T21:15:38.381Z"
   },
   {
    "duration": 30,
    "start_time": "2024-05-31T21:15:38.403Z"
   },
   {
    "duration": 5,
    "start_time": "2024-05-31T21:15:38.436Z"
   },
   {
    "duration": 48,
    "start_time": "2024-05-31T21:15:38.442Z"
   },
   {
    "duration": 104,
    "start_time": "2024-05-31T21:15:38.491Z"
   },
   {
    "duration": 15,
    "start_time": "2024-05-31T21:15:38.597Z"
   },
   {
    "duration": 39,
    "start_time": "2024-05-31T21:15:38.614Z"
   },
   {
    "duration": 56,
    "start_time": "2024-05-31T21:15:38.655Z"
   },
   {
    "duration": 28,
    "start_time": "2024-05-31T21:15:38.713Z"
   },
   {
    "duration": 29,
    "start_time": "2024-05-31T21:15:38.743Z"
   },
   {
    "duration": 27,
    "start_time": "2024-05-31T21:15:38.774Z"
   },
   {
    "duration": 36,
    "start_time": "2024-05-31T21:15:38.805Z"
   },
   {
    "duration": 20,
    "start_time": "2024-05-31T21:15:38.843Z"
   },
   {
    "duration": 33,
    "start_time": "2024-05-31T21:15:38.865Z"
   },
   {
    "duration": 44,
    "start_time": "2024-05-31T21:15:38.900Z"
   },
   {
    "duration": 16,
    "start_time": "2024-05-31T21:15:38.946Z"
   },
   {
    "duration": 30,
    "start_time": "2024-05-31T21:15:38.964Z"
   },
   {
    "duration": 45,
    "start_time": "2024-05-31T21:15:38.995Z"
   },
   {
    "duration": 46,
    "start_time": "2024-05-31T21:15:39.042Z"
   },
   {
    "duration": 37,
    "start_time": "2024-05-31T21:15:39.090Z"
   },
   {
    "duration": 12,
    "start_time": "2024-05-31T21:15:39.129Z"
   },
   {
    "duration": 50,
    "start_time": "2024-05-31T21:15:39.143Z"
   },
   {
    "duration": 75,
    "start_time": "2024-05-31T21:15:39.195Z"
   },
   {
    "duration": 44,
    "start_time": "2024-05-31T21:15:39.272Z"
   },
   {
    "duration": 17,
    "start_time": "2024-05-31T21:15:39.317Z"
   },
   {
    "duration": 51,
    "start_time": "2024-05-31T21:15:39.335Z"
   },
   {
    "duration": 54,
    "start_time": "2024-05-31T21:15:39.388Z"
   },
   {
    "duration": 449,
    "start_time": "2024-05-31T21:15:39.444Z"
   },
   {
    "duration": 347,
    "start_time": "2024-05-31T21:15:39.896Z"
   },
   {
    "duration": 7,
    "start_time": "2024-05-31T21:15:40.245Z"
   },
   {
    "duration": 32,
    "start_time": "2024-05-31T21:15:40.261Z"
   },
   {
    "duration": 288,
    "start_time": "2024-05-31T21:15:40.295Z"
   },
   {
    "duration": 10,
    "start_time": "2024-05-31T21:15:40.585Z"
   },
   {
    "duration": 25,
    "start_time": "2024-05-31T21:15:40.597Z"
   },
   {
    "duration": 25,
    "start_time": "2024-05-31T21:15:40.625Z"
   },
   {
    "duration": 26,
    "start_time": "2024-05-31T21:15:40.651Z"
   },
   {
    "duration": 27,
    "start_time": "2024-05-31T21:15:40.679Z"
   },
   {
    "duration": 373,
    "start_time": "2024-05-31T21:15:40.708Z"
   },
   {
    "duration": 416,
    "start_time": "2024-05-31T21:15:41.086Z"
   },
   {
    "duration": 6,
    "start_time": "2024-05-31T21:15:41.505Z"
   },
   {
    "duration": 399,
    "start_time": "2024-05-31T21:15:41.513Z"
   },
   {
    "duration": 6,
    "start_time": "2024-05-31T21:15:41.914Z"
   },
   {
    "duration": 6,
    "start_time": "2024-05-31T21:15:41.922Z"
   },
   {
    "duration": 3,
    "start_time": "2024-05-31T21:15:41.929Z"
   },
   {
    "duration": 8,
    "start_time": "2024-05-31T21:15:41.962Z"
   },
   {
    "duration": 3,
    "start_time": "2024-05-31T21:15:41.972Z"
   },
   {
    "duration": 1388,
    "start_time": "2024-05-31T21:15:41.976Z"
   },
   {
    "duration": 57,
    "start_time": "2024-05-31T21:15:43.365Z"
   },
   {
    "duration": 8,
    "start_time": "2024-05-31T21:15:43.424Z"
   },
   {
    "duration": 54,
    "start_time": "2024-05-31T21:15:43.433Z"
   },
   {
    "duration": 242,
    "start_time": "2024-05-31T21:15:43.489Z"
   },
   {
    "duration": 3,
    "start_time": "2024-05-31T21:15:43.733Z"
   },
   {
    "duration": 391,
    "start_time": "2024-05-31T21:15:43.739Z"
   },
   {
    "duration": 321,
    "start_time": "2024-05-31T21:15:44.132Z"
   },
   {
    "duration": 366,
    "start_time": "2024-05-31T21:15:44.455Z"
   },
   {
    "duration": 65,
    "start_time": "2024-05-31T21:15:44.823Z"
   },
   {
    "duration": 0,
    "start_time": "2024-05-31T21:15:44.890Z"
   },
   {
    "duration": 0,
    "start_time": "2024-05-31T21:15:44.891Z"
   },
   {
    "duration": 0,
    "start_time": "2024-05-31T21:15:44.893Z"
   },
   {
    "duration": 0,
    "start_time": "2024-05-31T21:15:44.895Z"
   },
   {
    "duration": 1,
    "start_time": "2024-05-31T21:15:44.896Z"
   },
   {
    "duration": 0,
    "start_time": "2024-05-31T21:15:44.898Z"
   },
   {
    "duration": 0,
    "start_time": "2024-05-31T21:15:44.900Z"
   },
   {
    "duration": 0,
    "start_time": "2024-05-31T21:15:44.902Z"
   },
   {
    "duration": 0,
    "start_time": "2024-05-31T21:15:44.904Z"
   },
   {
    "duration": 0,
    "start_time": "2024-05-31T21:15:44.905Z"
   },
   {
    "duration": 0,
    "start_time": "2024-05-31T21:15:44.907Z"
   },
   {
    "duration": 0,
    "start_time": "2024-05-31T21:15:44.909Z"
   },
   {
    "duration": 0,
    "start_time": "2024-05-31T21:15:44.910Z"
   },
   {
    "duration": 0,
    "start_time": "2024-05-31T21:15:44.912Z"
   },
   {
    "duration": 0,
    "start_time": "2024-05-31T21:15:44.914Z"
   },
   {
    "duration": 0,
    "start_time": "2024-05-31T21:15:44.916Z"
   },
   {
    "duration": 0,
    "start_time": "2024-05-31T21:15:44.917Z"
   },
   {
    "duration": 0,
    "start_time": "2024-05-31T21:15:44.919Z"
   },
   {
    "duration": 0,
    "start_time": "2024-05-31T21:15:44.920Z"
   },
   {
    "duration": 64,
    "start_time": "2024-05-31T22:20:30.570Z"
   },
   {
    "duration": 1265,
    "start_time": "2024-05-31T22:20:42.147Z"
   },
   {
    "duration": 57,
    "start_time": "2024-05-31T22:20:43.414Z"
   },
   {
    "duration": 22,
    "start_time": "2024-05-31T22:20:43.473Z"
   },
   {
    "duration": 16,
    "start_time": "2024-05-31T22:20:43.497Z"
   },
   {
    "duration": 5,
    "start_time": "2024-05-31T22:20:43.515Z"
   },
   {
    "duration": 52,
    "start_time": "2024-05-31T22:20:43.521Z"
   },
   {
    "duration": 106,
    "start_time": "2024-05-31T22:20:43.574Z"
   },
   {
    "duration": 26,
    "start_time": "2024-05-31T22:20:43.681Z"
   },
   {
    "duration": 61,
    "start_time": "2024-05-31T22:20:43.709Z"
   },
   {
    "duration": 14,
    "start_time": "2024-05-31T22:20:43.772Z"
   },
   {
    "duration": 19,
    "start_time": "2024-05-31T22:20:43.788Z"
   },
   {
    "duration": 31,
    "start_time": "2024-05-31T22:20:43.861Z"
   },
   {
    "duration": 8,
    "start_time": "2024-05-31T22:20:43.894Z"
   },
   {
    "duration": 61,
    "start_time": "2024-05-31T22:20:43.905Z"
   },
   {
    "duration": 7,
    "start_time": "2024-05-31T22:20:43.968Z"
   },
   {
    "duration": 7,
    "start_time": "2024-05-31T22:20:43.977Z"
   },
   {
    "duration": 9,
    "start_time": "2024-05-31T22:20:43.986Z"
   },
   {
    "duration": 14,
    "start_time": "2024-05-31T22:20:43.997Z"
   },
   {
    "duration": 54,
    "start_time": "2024-05-31T22:20:44.014Z"
   },
   {
    "duration": 13,
    "start_time": "2024-05-31T22:20:44.070Z"
   },
   {
    "duration": 19,
    "start_time": "2024-05-31T22:20:44.085Z"
   },
   {
    "duration": 14,
    "start_time": "2024-05-31T22:20:44.160Z"
   },
   {
    "duration": 2,
    "start_time": "2024-05-31T22:20:44.176Z"
   },
   {
    "duration": 7,
    "start_time": "2024-05-31T22:20:44.180Z"
   },
   {
    "duration": 5,
    "start_time": "2024-05-31T22:20:44.188Z"
   },
   {
    "duration": 70,
    "start_time": "2024-05-31T22:20:44.194Z"
   },
   {
    "duration": 6,
    "start_time": "2024-05-31T22:20:44.266Z"
   },
   {
    "duration": 27,
    "start_time": "2024-05-31T22:20:44.274Z"
   },
   {
    "duration": 196,
    "start_time": "2024-05-31T22:20:44.303Z"
   },
   {
    "duration": 62,
    "start_time": "2024-05-31T22:20:44.501Z"
   },
   {
    "duration": 742,
    "start_time": "2024-05-31T22:20:44.565Z"
   },
   {
    "duration": 333,
    "start_time": "2024-05-31T22:20:45.308Z"
   },
   {
    "duration": 7,
    "start_time": "2024-05-31T22:20:45.642Z"
   },
   {
    "duration": 29,
    "start_time": "2024-05-31T22:20:45.661Z"
   },
   {
    "duration": 300,
    "start_time": "2024-05-31T22:20:45.691Z"
   },
   {
    "duration": 13,
    "start_time": "2024-05-31T22:20:45.993Z"
   },
   {
    "duration": 24,
    "start_time": "2024-05-31T22:20:46.008Z"
   },
   {
    "duration": 14,
    "start_time": "2024-05-31T22:20:46.034Z"
   },
   {
    "duration": 5,
    "start_time": "2024-05-31T22:20:46.062Z"
   },
   {
    "duration": 12,
    "start_time": "2024-05-31T22:20:46.069Z"
   },
   {
    "duration": 364,
    "start_time": "2024-05-31T22:20:46.085Z"
   },
   {
    "duration": 390,
    "start_time": "2024-05-31T22:20:46.451Z"
   },
   {
    "duration": 6,
    "start_time": "2024-05-31T22:20:46.842Z"
   },
   {
    "duration": 429,
    "start_time": "2024-05-31T22:20:46.849Z"
   },
   {
    "duration": 5,
    "start_time": "2024-05-31T22:20:47.280Z"
   },
   {
    "duration": 13,
    "start_time": "2024-05-31T22:20:47.286Z"
   },
   {
    "duration": 2,
    "start_time": "2024-05-31T22:20:47.301Z"
   },
   {
    "duration": 8,
    "start_time": "2024-05-31T22:20:47.305Z"
   },
   {
    "duration": 6,
    "start_time": "2024-05-31T22:20:47.315Z"
   },
   {
    "duration": 1284,
    "start_time": "2024-05-31T22:20:47.322Z"
   },
   {
    "duration": 64,
    "start_time": "2024-05-31T22:20:48.607Z"
   },
   {
    "duration": 22,
    "start_time": "2024-05-31T22:20:48.673Z"
   },
   {
    "duration": 12,
    "start_time": "2024-05-31T22:20:48.696Z"
   },
   {
    "duration": 255,
    "start_time": "2024-05-31T22:20:48.709Z"
   },
   {
    "duration": 2,
    "start_time": "2024-05-31T22:20:48.966Z"
   },
   {
    "duration": 325,
    "start_time": "2024-05-31T22:20:48.970Z"
   },
   {
    "duration": 316,
    "start_time": "2024-05-31T22:20:49.297Z"
   },
   {
    "duration": 327,
    "start_time": "2024-05-31T22:20:49.615Z"
   },
   {
    "duration": 70,
    "start_time": "2024-05-31T22:20:49.944Z"
   },
   {
    "duration": 0,
    "start_time": "2024-05-31T22:20:50.016Z"
   },
   {
    "duration": 0,
    "start_time": "2024-05-31T22:20:50.017Z"
   },
   {
    "duration": 0,
    "start_time": "2024-05-31T22:20:50.018Z"
   },
   {
    "duration": 0,
    "start_time": "2024-05-31T22:20:50.019Z"
   },
   {
    "duration": 0,
    "start_time": "2024-05-31T22:20:50.020Z"
   },
   {
    "duration": 0,
    "start_time": "2024-05-31T22:20:50.022Z"
   },
   {
    "duration": 0,
    "start_time": "2024-05-31T22:20:50.023Z"
   },
   {
    "duration": 0,
    "start_time": "2024-05-31T22:20:50.024Z"
   },
   {
    "duration": 0,
    "start_time": "2024-05-31T22:20:50.026Z"
   },
   {
    "duration": 0,
    "start_time": "2024-05-31T22:20:50.027Z"
   },
   {
    "duration": 0,
    "start_time": "2024-05-31T22:20:50.029Z"
   },
   {
    "duration": 0,
    "start_time": "2024-05-31T22:20:50.031Z"
   },
   {
    "duration": 0,
    "start_time": "2024-05-31T22:20:50.032Z"
   },
   {
    "duration": 0,
    "start_time": "2024-05-31T22:20:50.034Z"
   },
   {
    "duration": 0,
    "start_time": "2024-05-31T22:20:50.035Z"
   },
   {
    "duration": 1,
    "start_time": "2024-05-31T22:20:50.036Z"
   },
   {
    "duration": 0,
    "start_time": "2024-05-31T22:20:50.038Z"
   },
   {
    "duration": 0,
    "start_time": "2024-05-31T22:20:50.039Z"
   },
   {
    "duration": 0,
    "start_time": "2024-05-31T22:20:50.041Z"
   },
   {
    "duration": 28,
    "start_time": "2024-05-31T22:22:36.025Z"
   },
   {
    "duration": 1158,
    "start_time": "2024-05-31T22:22:44.953Z"
   },
   {
    "duration": 57,
    "start_time": "2024-05-31T22:22:46.113Z"
   },
   {
    "duration": 20,
    "start_time": "2024-05-31T22:22:46.171Z"
   },
   {
    "duration": 15,
    "start_time": "2024-05-31T22:22:46.193Z"
   },
   {
    "duration": 5,
    "start_time": "2024-05-31T22:22:46.210Z"
   },
   {
    "duration": 16,
    "start_time": "2024-05-31T22:22:46.217Z"
   },
   {
    "duration": 74,
    "start_time": "2024-05-31T22:22:46.235Z"
   },
   {
    "duration": 12,
    "start_time": "2024-05-31T22:22:46.311Z"
   },
   {
    "duration": 38,
    "start_time": "2024-05-31T22:22:46.325Z"
   },
   {
    "duration": 9,
    "start_time": "2024-05-31T22:22:46.364Z"
   },
   {
    "duration": 12,
    "start_time": "2024-05-31T22:22:46.375Z"
   },
   {
    "duration": 23,
    "start_time": "2024-05-31T22:22:46.388Z"
   },
   {
    "duration": 8,
    "start_time": "2024-05-31T22:22:46.413Z"
   },
   {
    "duration": 42,
    "start_time": "2024-05-31T22:22:46.424Z"
   },
   {
    "duration": 5,
    "start_time": "2024-05-31T22:22:46.467Z"
   },
   {
    "duration": 9,
    "start_time": "2024-05-31T22:22:46.473Z"
   },
   {
    "duration": 4,
    "start_time": "2024-05-31T22:22:46.484Z"
   },
   {
    "duration": 3,
    "start_time": "2024-05-31T22:22:46.489Z"
   },
   {
    "duration": 7,
    "start_time": "2024-05-31T22:22:46.494Z"
   },
   {
    "duration": 10,
    "start_time": "2024-05-31T22:22:46.503Z"
   },
   {
    "duration": 47,
    "start_time": "2024-05-31T22:22:46.515Z"
   },
   {
    "duration": 14,
    "start_time": "2024-05-31T22:22:46.565Z"
   },
   {
    "duration": 3,
    "start_time": "2024-05-31T22:22:46.580Z"
   },
   {
    "duration": 20,
    "start_time": "2024-05-31T22:22:46.584Z"
   },
   {
    "duration": 9,
    "start_time": "2024-05-31T22:22:46.606Z"
   },
   {
    "duration": 20,
    "start_time": "2024-05-31T22:22:46.616Z"
   },
   {
    "duration": 21,
    "start_time": "2024-05-31T22:22:46.638Z"
   },
   {
    "duration": 20,
    "start_time": "2024-05-31T22:22:46.661Z"
   },
   {
    "duration": 95,
    "start_time": "2024-05-31T22:22:46.683Z"
   },
   {
    "duration": 7,
    "start_time": "2024-05-31T22:22:46.779Z"
   },
   {
    "duration": 430,
    "start_time": "2024-05-31T22:22:46.788Z"
   },
   {
    "duration": 345,
    "start_time": "2024-05-31T22:22:47.220Z"
   },
   {
    "duration": 7,
    "start_time": "2024-05-31T22:22:47.566Z"
   },
   {
    "duration": 24,
    "start_time": "2024-05-31T22:22:47.574Z"
   },
   {
    "duration": 292,
    "start_time": "2024-05-31T22:22:47.599Z"
   },
   {
    "duration": 29,
    "start_time": "2024-05-31T22:22:47.893Z"
   },
   {
    "duration": 9,
    "start_time": "2024-05-31T22:22:47.924Z"
   },
   {
    "duration": 10,
    "start_time": "2024-05-31T22:22:47.961Z"
   },
   {
    "duration": 10,
    "start_time": "2024-05-31T22:22:47.973Z"
   },
   {
    "duration": 12,
    "start_time": "2024-05-31T22:22:47.985Z"
   },
   {
    "duration": 12,
    "start_time": "2024-05-31T22:22:48.002Z"
   },
   {
    "duration": 342,
    "start_time": "2024-05-31T22:22:48.016Z"
   },
   {
    "duration": 372,
    "start_time": "2024-05-31T22:22:48.360Z"
   },
   {
    "duration": 7,
    "start_time": "2024-05-31T22:22:48.734Z"
   },
   {
    "duration": 405,
    "start_time": "2024-05-31T22:22:48.742Z"
   },
   {
    "duration": 15,
    "start_time": "2024-05-31T22:22:49.148Z"
   },
   {
    "duration": 5,
    "start_time": "2024-05-31T22:22:49.165Z"
   },
   {
    "duration": 2,
    "start_time": "2024-05-31T22:22:49.172Z"
   },
   {
    "duration": 12,
    "start_time": "2024-05-31T22:22:49.175Z"
   },
   {
    "duration": 4,
    "start_time": "2024-05-31T22:22:49.188Z"
   },
   {
    "duration": 1346,
    "start_time": "2024-05-31T22:22:49.193Z"
   },
   {
    "duration": 72,
    "start_time": "2024-05-31T22:22:50.541Z"
   },
   {
    "duration": 8,
    "start_time": "2024-05-31T22:22:50.615Z"
   },
   {
    "duration": 16,
    "start_time": "2024-05-31T22:22:50.624Z"
   },
   {
    "duration": 239,
    "start_time": "2024-05-31T22:22:50.642Z"
   },
   {
    "duration": 2,
    "start_time": "2024-05-31T22:22:50.883Z"
   },
   {
    "duration": 323,
    "start_time": "2024-05-31T22:22:50.887Z"
   },
   {
    "duration": 287,
    "start_time": "2024-05-31T22:22:51.212Z"
   },
   {
    "duration": 322,
    "start_time": "2024-05-31T22:22:51.501Z"
   },
   {
    "duration": 70,
    "start_time": "2024-05-31T22:22:51.825Z"
   },
   {
    "duration": 0,
    "start_time": "2024-05-31T22:22:51.897Z"
   },
   {
    "duration": 0,
    "start_time": "2024-05-31T22:22:51.898Z"
   },
   {
    "duration": 0,
    "start_time": "2024-05-31T22:22:51.899Z"
   },
   {
    "duration": 0,
    "start_time": "2024-05-31T22:22:51.900Z"
   },
   {
    "duration": 0,
    "start_time": "2024-05-31T22:22:51.901Z"
   },
   {
    "duration": 0,
    "start_time": "2024-05-31T22:22:51.902Z"
   },
   {
    "duration": 0,
    "start_time": "2024-05-31T22:22:51.903Z"
   },
   {
    "duration": 0,
    "start_time": "2024-05-31T22:22:51.904Z"
   },
   {
    "duration": 0,
    "start_time": "2024-05-31T22:22:51.905Z"
   },
   {
    "duration": 0,
    "start_time": "2024-05-31T22:22:51.906Z"
   },
   {
    "duration": 0,
    "start_time": "2024-05-31T22:22:51.907Z"
   },
   {
    "duration": 0,
    "start_time": "2024-05-31T22:22:51.908Z"
   },
   {
    "duration": 0,
    "start_time": "2024-05-31T22:22:51.909Z"
   },
   {
    "duration": 0,
    "start_time": "2024-05-31T22:22:51.911Z"
   },
   {
    "duration": 0,
    "start_time": "2024-05-31T22:22:51.912Z"
   },
   {
    "duration": 0,
    "start_time": "2024-05-31T22:22:51.914Z"
   },
   {
    "duration": 0,
    "start_time": "2024-05-31T22:22:51.915Z"
   },
   {
    "duration": 0,
    "start_time": "2024-05-31T22:22:51.917Z"
   },
   {
    "duration": 0,
    "start_time": "2024-05-31T22:22:51.918Z"
   },
   {
    "duration": 58,
    "start_time": "2024-06-02T11:08:49.508Z"
   },
   {
    "duration": 1432,
    "start_time": "2024-06-02T12:20:42.424Z"
   },
   {
    "duration": 197,
    "start_time": "2024-06-02T12:20:49.525Z"
   },
   {
    "duration": 20,
    "start_time": "2024-06-02T12:20:51.886Z"
   },
   {
    "duration": 16,
    "start_time": "2024-06-02T12:20:54.596Z"
   },
   {
    "duration": 6,
    "start_time": "2024-06-02T12:21:02.398Z"
   },
   {
    "duration": 26,
    "start_time": "2024-06-02T12:21:04.773Z"
   },
   {
    "duration": 27,
    "start_time": "2024-06-02T12:21:09.879Z"
   },
   {
    "duration": 59,
    "start_time": "2024-06-02T12:21:15.109Z"
   },
   {
    "duration": 51,
    "start_time": "2024-06-02T12:21:18.478Z"
   },
   {
    "duration": 12,
    "start_time": "2024-06-02T12:21:27.791Z"
   },
   {
    "duration": 19,
    "start_time": "2024-06-02T12:21:31.418Z"
   },
   {
    "duration": 7,
    "start_time": "2024-06-02T12:21:36.643Z"
   },
   {
    "duration": 13,
    "start_time": "2024-06-02T12:21:38.227Z"
   },
   {
    "duration": 34,
    "start_time": "2024-06-02T12:21:39.215Z"
   },
   {
    "duration": 10,
    "start_time": "2024-06-02T12:21:43.382Z"
   },
   {
    "duration": 13,
    "start_time": "2024-06-02T12:21:44.882Z"
   },
   {
    "duration": 44,
    "start_time": "2024-06-02T12:21:47.672Z"
   },
   {
    "duration": 6,
    "start_time": "2024-06-02T12:21:55.563Z"
   },
   {
    "duration": 50,
    "start_time": "2024-06-02T12:21:58.970Z"
   },
   {
    "duration": 4,
    "start_time": "2024-06-02T12:21:59.302Z"
   },
   {
    "duration": 4,
    "start_time": "2024-06-02T12:22:07.349Z"
   },
   {
    "duration": 4,
    "start_time": "2024-06-02T12:22:07.984Z"
   },
   {
    "duration": 98,
    "start_time": "2024-06-02T12:22:09.546Z"
   },
   {
    "duration": 7,
    "start_time": "2024-06-02T12:22:17.170Z"
   },
   {
    "duration": 13,
    "start_time": "2024-06-02T12:22:23.670Z"
   },
   {
    "duration": 26,
    "start_time": "2024-06-02T12:22:24.519Z"
   },
   {
    "duration": 14,
    "start_time": "2024-06-02T12:22:27.516Z"
   },
   {
    "duration": 5,
    "start_time": "2024-06-02T12:22:31.880Z"
   },
   {
    "duration": 4,
    "start_time": "2024-06-02T12:22:35.612Z"
   },
   {
    "duration": 17,
    "start_time": "2024-06-02T12:22:37.220Z"
   },
   {
    "duration": 5,
    "start_time": "2024-06-02T12:22:41.202Z"
   },
   {
    "duration": 27,
    "start_time": "2024-06-02T12:22:43.671Z"
   },
   {
    "duration": 85,
    "start_time": "2024-06-02T12:22:52.630Z"
   },
   {
    "duration": 7,
    "start_time": "2024-06-02T12:23:13.276Z"
   },
   {
    "duration": 395,
    "start_time": "2024-06-02T12:23:19.073Z"
   },
   {
    "duration": 400,
    "start_time": "2024-06-02T12:23:36.946Z"
   },
   {
    "duration": 65,
    "start_time": "2024-06-02T12:23:55.118Z"
   },
   {
    "duration": 328,
    "start_time": "2024-06-02T12:24:05.693Z"
   },
   {
    "duration": 8,
    "start_time": "2024-06-02T12:24:11.678Z"
   },
   {
    "duration": 29,
    "start_time": "2024-06-02T12:24:21.494Z"
   },
   {
    "duration": 28,
    "start_time": "2024-06-02T12:25:21.350Z"
   },
   {
    "duration": 7,
    "start_time": "2024-06-02T12:28:06.901Z"
   },
   {
    "duration": 151,
    "start_time": "2024-06-02T12:28:09.063Z"
   },
   {
    "duration": 20,
    "start_time": "2024-06-02T12:28:20.949Z"
   },
   {
    "duration": 13,
    "start_time": "2024-06-02T12:30:24.125Z"
   },
   {
    "duration": 11,
    "start_time": "2024-06-02T12:30:49.098Z"
   },
   {
    "duration": 10,
    "start_time": "2024-06-02T13:01:22.917Z"
   },
   {
    "duration": 20,
    "start_time": "2024-06-02T13:01:35.822Z"
   },
   {
    "duration": 295,
    "start_time": "2024-06-02T13:01:56.440Z"
   },
   {
    "duration": 13,
    "start_time": "2024-06-02T13:02:06.614Z"
   },
   {
    "duration": 11,
    "start_time": "2024-06-02T13:02:10.134Z"
   },
   {
    "duration": 12,
    "start_time": "2024-06-02T13:02:13.785Z"
   },
   {
    "duration": 5,
    "start_time": "2024-06-02T13:02:25.607Z"
   },
   {
    "duration": 13,
    "start_time": "2024-06-02T13:02:31.126Z"
   },
   {
    "duration": 20,
    "start_time": "2024-06-02T13:02:33.889Z"
   },
   {
    "duration": 303,
    "start_time": "2024-06-02T13:03:02.769Z"
   },
   {
    "duration": 3,
    "start_time": "2024-06-02T13:03:24.525Z"
   },
   {
    "duration": 52,
    "start_time": "2024-06-02T13:03:27.675Z"
   },
   {
    "duration": 16,
    "start_time": "2024-06-02T13:03:30.425Z"
   },
   {
    "duration": 16,
    "start_time": "2024-06-02T13:03:33.366Z"
   },
   {
    "duration": 7,
    "start_time": "2024-06-02T13:03:38.638Z"
   },
   {
    "duration": 17,
    "start_time": "2024-06-02T13:03:40.008Z"
   },
   {
    "duration": 22,
    "start_time": "2024-06-02T13:03:42.869Z"
   },
   {
    "duration": 16,
    "start_time": "2024-06-02T13:03:44.539Z"
   },
   {
    "duration": 14,
    "start_time": "2024-06-02T13:03:46.091Z"
   },
   {
    "duration": 15,
    "start_time": "2024-06-02T13:03:48.016Z"
   },
   {
    "duration": 7,
    "start_time": "2024-06-02T13:03:49.280Z"
   },
   {
    "duration": 14,
    "start_time": "2024-06-02T13:03:50.739Z"
   },
   {
    "duration": 23,
    "start_time": "2024-06-02T13:03:51.712Z"
   },
   {
    "duration": 9,
    "start_time": "2024-06-02T13:03:53.854Z"
   },
   {
    "duration": 10,
    "start_time": "2024-06-02T13:03:55.121Z"
   },
   {
    "duration": 6,
    "start_time": "2024-06-02T13:03:56.492Z"
   },
   {
    "duration": 3,
    "start_time": "2024-06-02T13:03:59.979Z"
   },
   {
    "duration": 4,
    "start_time": "2024-06-02T13:04:00.578Z"
   },
   {
    "duration": 9,
    "start_time": "2024-06-02T13:04:02.448Z"
   },
   {
    "duration": 13,
    "start_time": "2024-06-02T13:04:04.741Z"
   },
   {
    "duration": 17,
    "start_time": "2024-06-02T13:04:05.465Z"
   },
   {
    "duration": 14,
    "start_time": "2024-06-02T13:04:07.057Z"
   },
   {
    "duration": 5,
    "start_time": "2024-06-02T13:04:11.688Z"
   },
   {
    "duration": 5,
    "start_time": "2024-06-02T13:04:12.839Z"
   },
   {
    "duration": 17,
    "start_time": "2024-06-02T13:04:14.279Z"
   },
   {
    "duration": 5,
    "start_time": "2024-06-02T13:04:17.394Z"
   },
   {
    "duration": 4,
    "start_time": "2024-06-02T13:04:58.556Z"
   },
   {
    "duration": 17,
    "start_time": "2024-06-02T13:05:00.045Z"
   },
   {
    "duration": 6,
    "start_time": "2024-06-02T13:05:21.800Z"
   },
   {
    "duration": 4,
    "start_time": "2024-06-02T13:05:30.051Z"
   },
   {
    "duration": 18,
    "start_time": "2024-06-02T13:05:31.330Z"
   },
   {
    "duration": 5,
    "start_time": "2024-06-02T13:05:41.579Z"
   },
   {
    "duration": 64,
    "start_time": "2024-06-02T13:05:43.235Z"
   },
   {
    "duration": 28,
    "start_time": "2024-06-02T13:05:43.973Z"
   },
   {
    "duration": 17,
    "start_time": "2024-06-02T13:05:48.577Z"
   },
   {
    "duration": 10,
    "start_time": "2024-06-02T13:05:53.002Z"
   },
   {
    "duration": 17,
    "start_time": "2024-06-02T13:05:54.732Z"
   },
   {
    "duration": 18,
    "start_time": "2024-06-02T13:06:05.700Z"
   },
   {
    "duration": 18,
    "start_time": "2024-06-02T13:06:07.045Z"
   },
   {
    "duration": 15,
    "start_time": "2024-06-02T13:06:10.544Z"
   },
   {
    "duration": 22,
    "start_time": "2024-06-02T13:06:11.242Z"
   },
   {
    "duration": 10,
    "start_time": "2024-06-02T13:06:15.000Z"
   },
   {
    "duration": 19,
    "start_time": "2024-06-02T13:06:16.184Z"
   },
   {
    "duration": 32,
    "start_time": "2024-06-02T13:06:18.734Z"
   },
   {
    "duration": 7,
    "start_time": "2024-06-02T13:06:23.828Z"
   },
   {
    "duration": 9,
    "start_time": "2024-06-02T13:06:26.835Z"
   },
   {
    "duration": 7,
    "start_time": "2024-06-02T13:06:30.691Z"
   },
   {
    "duration": 4,
    "start_time": "2024-06-02T13:06:35.846Z"
   },
   {
    "duration": 3,
    "start_time": "2024-06-02T13:06:36.330Z"
   },
   {
    "duration": 8,
    "start_time": "2024-06-02T13:06:41.943Z"
   },
   {
    "duration": 17,
    "start_time": "2024-06-02T13:06:45.571Z"
   },
   {
    "duration": 24,
    "start_time": "2024-06-02T13:06:46.638Z"
   },
   {
    "duration": 4,
    "start_time": "2024-06-02T13:07:34.800Z"
   },
   {
    "duration": 18,
    "start_time": "2024-06-02T13:07:36.889Z"
   },
   {
    "duration": 6,
    "start_time": "2024-06-02T13:07:49.194Z"
   },
   {
    "duration": 18,
    "start_time": "2024-06-02T13:07:52.419Z"
   },
   {
    "duration": 90,
    "start_time": "2024-06-02T13:07:59.752Z"
   },
   {
    "duration": 10,
    "start_time": "2024-06-02T13:08:06.316Z"
   },
   {
    "duration": 402,
    "start_time": "2024-06-02T13:08:09.239Z"
   },
   {
    "duration": 4,
    "start_time": "2024-06-02T13:08:29.535Z"
   },
   {
    "duration": 5,
    "start_time": "2024-06-02T13:08:35.867Z"
   },
   {
    "duration": 8,
    "start_time": "2024-06-02T13:08:44.214Z"
   },
   {
    "duration": 385,
    "start_time": "2024-06-02T13:08:47.610Z"
   },
   {
    "duration": 342,
    "start_time": "2024-06-02T13:08:59.313Z"
   },
   {
    "duration": 8,
    "start_time": "2024-06-02T13:09:03.686Z"
   },
   {
    "duration": 21,
    "start_time": "2024-06-02T13:09:36.777Z"
   },
   {
    "duration": 320,
    "start_time": "2024-06-02T13:10:31.717Z"
   },
   {
    "duration": 26,
    "start_time": "2024-06-02T13:10:42.358Z"
   },
   {
    "duration": 10,
    "start_time": "2024-06-02T13:10:46.440Z"
   },
   {
    "duration": 9,
    "start_time": "2024-06-02T13:10:58.509Z"
   },
   {
    "duration": 13,
    "start_time": "2024-06-02T13:11:01.048Z"
   },
   {
    "duration": 5,
    "start_time": "2024-06-02T13:11:16.237Z"
   },
   {
    "duration": 16,
    "start_time": "2024-06-02T13:11:21.838Z"
   },
   {
    "duration": 14,
    "start_time": "2024-06-02T13:11:32.951Z"
   },
   {
    "duration": 210,
    "start_time": "2024-06-02T13:14:55.884Z"
   },
   {
    "duration": 192,
    "start_time": "2024-06-02T13:15:54.866Z"
   },
   {
    "duration": 43,
    "start_time": "2024-06-02T13:18:32.668Z"
   },
   {
    "duration": 46,
    "start_time": "2024-06-02T13:18:37.526Z"
   },
   {
    "duration": 48,
    "start_time": "2024-06-02T13:18:59.516Z"
   },
   {
    "duration": 753,
    "start_time": "2024-06-02T13:23:13.571Z"
   },
   {
    "duration": 8,
    "start_time": "2024-06-02T13:35:05.238Z"
   },
   {
    "duration": 4,
    "start_time": "2024-06-02T13:35:08.625Z"
   },
   {
    "duration": 7,
    "start_time": "2024-06-02T13:36:00.827Z"
   },
   {
    "duration": 9,
    "start_time": "2024-06-02T13:36:49.182Z"
   },
   {
    "duration": 14,
    "start_time": "2024-06-02T13:39:15.612Z"
   },
   {
    "duration": 19,
    "start_time": "2024-06-02T13:40:28.978Z"
   },
   {
    "duration": 18,
    "start_time": "2024-06-02T14:01:48.972Z"
   },
   {
    "duration": 208,
    "start_time": "2024-06-02T14:02:22.587Z"
   },
   {
    "duration": 415,
    "start_time": "2024-06-02T14:03:09.289Z"
   },
   {
    "duration": 305,
    "start_time": "2024-06-02T14:04:38.389Z"
   },
   {
    "duration": 5,
    "start_time": "2024-06-02T14:05:26.584Z"
   },
   {
    "duration": 155,
    "start_time": "2024-06-02T14:05:30.042Z"
   },
   {
    "duration": 6,
    "start_time": "2024-06-02T14:05:53.989Z"
   },
   {
    "duration": 6,
    "start_time": "2024-06-02T14:05:58.744Z"
   },
   {
    "duration": 145,
    "start_time": "2024-06-02T14:05:59.950Z"
   },
   {
    "duration": 10,
    "start_time": "2024-06-02T14:07:56.045Z"
   },
   {
    "duration": 5,
    "start_time": "2024-06-02T14:08:04.192Z"
   },
   {
    "duration": 192,
    "start_time": "2024-06-02T14:08:05.944Z"
   },
   {
    "duration": 6,
    "start_time": "2024-06-02T14:08:15.204Z"
   },
   {
    "duration": 4,
    "start_time": "2024-06-02T14:08:18.944Z"
   },
   {
    "duration": 6,
    "start_time": "2024-06-02T14:08:29.573Z"
   },
   {
    "duration": 6,
    "start_time": "2024-06-02T14:08:40.930Z"
   },
   {
    "duration": 152,
    "start_time": "2024-06-02T14:08:55.966Z"
   },
   {
    "duration": 6,
    "start_time": "2024-06-02T14:09:03.469Z"
   },
   {
    "duration": 10,
    "start_time": "2024-06-02T14:14:07.421Z"
   },
   {
    "duration": 3,
    "start_time": "2024-06-02T14:16:23.460Z"
   },
   {
    "duration": 7,
    "start_time": "2024-06-02T14:16:30.626Z"
   },
   {
    "duration": 1515,
    "start_time": "2024-06-02T14:16:36.815Z"
   },
   {
    "duration": 2179,
    "start_time": "2024-06-02T14:17:33.917Z"
   },
   {
    "duration": 1461,
    "start_time": "2024-06-02T14:18:11.308Z"
   },
   {
    "duration": 1477,
    "start_time": "2024-06-02T14:18:49.565Z"
   },
   {
    "duration": 1377,
    "start_time": "2024-06-02T14:20:32.647Z"
   },
   {
    "duration": 146,
    "start_time": "2024-06-02T14:20:42.057Z"
   },
   {
    "duration": 143,
    "start_time": "2024-06-02T14:20:52.725Z"
   },
   {
    "duration": 13,
    "start_time": "2024-06-02T14:21:00.577Z"
   },
   {
    "duration": 12,
    "start_time": "2024-06-02T14:21:14.370Z"
   },
   {
    "duration": 280,
    "start_time": "2024-06-02T14:22:19.200Z"
   },
   {
    "duration": 285,
    "start_time": "2024-06-02T14:22:46.522Z"
   },
   {
    "duration": 335,
    "start_time": "2024-06-02T14:22:56.702Z"
   },
   {
    "duration": 1133,
    "start_time": "2024-06-02T14:35:44.649Z"
   },
   {
    "duration": 1185,
    "start_time": "2024-06-02T14:35:56.438Z"
   },
   {
    "duration": 1510,
    "start_time": "2024-06-02T14:36:41.251Z"
   },
   {
    "duration": 754,
    "start_time": "2024-06-02T14:37:07.843Z"
   },
   {
    "duration": 202,
    "start_time": "2024-06-02T14:37:21.769Z"
   },
   {
    "duration": 1491,
    "start_time": "2024-06-02T14:37:35.138Z"
   },
   {
    "duration": 2159,
    "start_time": "2024-06-02T14:38:06.197Z"
   },
   {
    "duration": 1387,
    "start_time": "2024-06-02T14:38:17.231Z"
   },
   {
    "duration": 1460,
    "start_time": "2024-06-02T14:38:50.907Z"
   },
   {
    "duration": 1480,
    "start_time": "2024-06-02T14:39:14.100Z"
   },
   {
    "duration": 1511,
    "start_time": "2024-06-02T14:39:47.422Z"
   },
   {
    "duration": 1526,
    "start_time": "2024-06-02T14:40:12.463Z"
   },
   {
    "duration": 1441,
    "start_time": "2024-06-02T14:40:32.830Z"
   },
   {
    "duration": 1511,
    "start_time": "2024-06-02T14:43:02.290Z"
   },
   {
    "duration": 1422,
    "start_time": "2024-06-02T14:43:47.963Z"
   },
   {
    "duration": 48,
    "start_time": "2024-06-02T15:11:19.361Z"
   },
   {
    "duration": 45,
    "start_time": "2024-06-02T15:13:52.766Z"
   },
   {
    "duration": 161,
    "start_time": "2024-06-02T15:14:29.488Z"
   },
   {
    "duration": 54,
    "start_time": "2024-06-02T15:14:45.681Z"
   },
   {
    "duration": 7,
    "start_time": "2024-06-02T15:24:17.607Z"
   },
   {
    "duration": 12,
    "start_time": "2024-06-02T15:24:24.294Z"
   },
   {
    "duration": 28,
    "start_time": "2024-06-02T15:24:36.538Z"
   },
   {
    "duration": 213,
    "start_time": "2024-06-02T15:24:51.028Z"
   },
   {
    "duration": 325,
    "start_time": "2024-06-02T15:24:58.570Z"
   },
   {
    "duration": 291,
    "start_time": "2024-06-02T15:25:25.274Z"
   },
   {
    "duration": 298,
    "start_time": "2024-06-02T15:25:35.575Z"
   },
   {
    "duration": 16,
    "start_time": "2024-06-02T15:39:38.403Z"
   },
   {
    "duration": 15,
    "start_time": "2024-06-02T15:41:23.932Z"
   },
   {
    "duration": 10,
    "start_time": "2024-06-02T15:42:10.395Z"
   },
   {
    "duration": 11,
    "start_time": "2024-06-02T15:42:11.318Z"
   },
   {
    "duration": 19,
    "start_time": "2024-06-02T15:48:47.307Z"
   },
   {
    "duration": 304,
    "start_time": "2024-06-02T15:48:59.006Z"
   },
   {
    "duration": 396,
    "start_time": "2024-06-02T15:49:12.408Z"
   },
   {
    "duration": 389,
    "start_time": "2024-06-02T15:49:51.111Z"
   },
   {
    "duration": 17,
    "start_time": "2024-06-02T15:52:08.316Z"
   },
   {
    "duration": 328,
    "start_time": "2024-06-02T15:52:45.952Z"
   },
   {
    "duration": 382,
    "start_time": "2024-06-02T15:54:21.613Z"
   },
   {
    "duration": 44,
    "start_time": "2024-06-02T15:55:46.062Z"
   },
   {
    "duration": 298,
    "start_time": "2024-06-02T15:55:57.185Z"
   },
   {
    "duration": 1031,
    "start_time": "2024-06-02T15:56:46.923Z"
   },
   {
    "duration": 1004,
    "start_time": "2024-06-02T15:57:05.022Z"
   },
   {
    "duration": 700,
    "start_time": "2024-06-02T15:57:11.382Z"
   },
   {
    "duration": 848,
    "start_time": "2024-06-02T15:57:29.370Z"
   },
   {
    "duration": 575,
    "start_time": "2024-06-02T15:59:01.922Z"
   },
   {
    "duration": 645,
    "start_time": "2024-06-02T15:59:09.597Z"
   },
   {
    "duration": 879,
    "start_time": "2024-06-02T15:59:48.451Z"
   },
   {
    "duration": 996,
    "start_time": "2024-06-02T16:00:01.669Z"
   },
   {
    "duration": 974,
    "start_time": "2024-06-02T16:00:13.163Z"
   },
   {
    "duration": 987,
    "start_time": "2024-06-02T16:00:21.120Z"
   },
   {
    "duration": 680,
    "start_time": "2024-06-02T16:00:30.687Z"
   },
   {
    "duration": 932,
    "start_time": "2024-06-02T16:00:33.792Z"
   },
   {
    "duration": 896,
    "start_time": "2024-06-02T16:00:45.040Z"
   },
   {
    "duration": 1004,
    "start_time": "2024-06-02T16:01:01.388Z"
   },
   {
    "duration": 978,
    "start_time": "2024-06-02T16:01:46.802Z"
   },
   {
    "duration": 1000,
    "start_time": "2024-06-02T16:02:02.373Z"
   },
   {
    "duration": 10,
    "start_time": "2024-06-02T16:03:32.758Z"
   },
   {
    "duration": 17,
    "start_time": "2024-06-02T16:04:05.582Z"
   },
   {
    "duration": 13,
    "start_time": "2024-06-02T16:04:16.270Z"
   },
   {
    "duration": 15,
    "start_time": "2024-06-02T16:04:51.996Z"
   },
   {
    "duration": 17,
    "start_time": "2024-06-02T16:05:08.696Z"
   },
   {
    "duration": 14,
    "start_time": "2024-06-02T16:05:45.837Z"
   },
   {
    "duration": 14,
    "start_time": "2024-06-02T16:06:00.663Z"
   },
   {
    "duration": 19,
    "start_time": "2024-06-02T16:06:06.514Z"
   },
   {
    "duration": 13,
    "start_time": "2024-06-02T16:06:42.326Z"
   },
   {
    "duration": 12,
    "start_time": "2024-06-02T16:06:52.794Z"
   },
   {
    "duration": 16,
    "start_time": "2024-06-02T16:07:10.991Z"
   },
   {
    "duration": 14,
    "start_time": "2024-06-02T16:07:23.636Z"
   },
   {
    "duration": 16,
    "start_time": "2024-06-02T16:07:28.146Z"
   },
   {
    "duration": 14,
    "start_time": "2024-06-02T16:08:23.548Z"
   },
   {
    "duration": 18,
    "start_time": "2024-06-02T16:09:43.321Z"
   },
   {
    "duration": 19,
    "start_time": "2024-06-02T16:09:56.285Z"
   },
   {
    "duration": 15,
    "start_time": "2024-06-02T16:18:11.217Z"
   },
   {
    "duration": 10,
    "start_time": "2024-06-02T16:18:41.143Z"
   },
   {
    "duration": 13,
    "start_time": "2024-06-02T16:18:57.836Z"
   },
   {
    "duration": 17,
    "start_time": "2024-06-02T16:19:17.554Z"
   },
   {
    "duration": 9,
    "start_time": "2024-06-02T16:19:34.418Z"
   },
   {
    "duration": 10,
    "start_time": "2024-06-02T16:19:55.216Z"
   },
   {
    "duration": 14,
    "start_time": "2024-06-02T16:19:58.985Z"
   },
   {
    "duration": 10,
    "start_time": "2024-06-02T16:20:21.381Z"
   },
   {
    "duration": 8,
    "start_time": "2024-06-02T16:20:45.619Z"
   },
   {
    "duration": 10,
    "start_time": "2024-06-02T16:21:13.047Z"
   },
   {
    "duration": 15,
    "start_time": "2024-06-02T16:22:03.638Z"
   },
   {
    "duration": 9,
    "start_time": "2024-06-02T16:22:05.605Z"
   },
   {
    "duration": 7,
    "start_time": "2024-06-02T16:22:16.301Z"
   },
   {
    "duration": 13,
    "start_time": "2024-06-02T16:22:18.106Z"
   },
   {
    "duration": 8,
    "start_time": "2024-06-02T16:22:18.279Z"
   },
   {
    "duration": 8,
    "start_time": "2024-06-02T16:22:40.369Z"
   },
   {
    "duration": 11,
    "start_time": "2024-06-02T16:26:54.013Z"
   },
   {
    "duration": 8,
    "start_time": "2024-06-02T16:26:58.344Z"
   },
   {
    "duration": 10,
    "start_time": "2024-06-02T16:30:24.095Z"
   },
   {
    "duration": 6,
    "start_time": "2024-06-02T16:30:38.271Z"
   },
   {
    "duration": 6,
    "start_time": "2024-06-02T16:32:00.736Z"
   },
   {
    "duration": 11,
    "start_time": "2024-06-02T16:32:06.923Z"
   },
   {
    "duration": 6,
    "start_time": "2024-06-02T16:32:09.533Z"
   },
   {
    "duration": 12,
    "start_time": "2024-06-02T16:33:04.433Z"
   },
   {
    "duration": 8,
    "start_time": "2024-06-02T16:33:12.938Z"
   },
   {
    "duration": 18,
    "start_time": "2024-06-02T16:33:26.982Z"
   },
   {
    "duration": 9,
    "start_time": "2024-06-02T16:33:34.566Z"
   },
   {
    "duration": 13,
    "start_time": "2024-06-02T16:33:44.551Z"
   },
   {
    "duration": 8,
    "start_time": "2024-06-02T16:34:06.601Z"
   },
   {
    "duration": 10,
    "start_time": "2024-06-02T16:34:18.168Z"
   },
   {
    "duration": 9,
    "start_time": "2024-06-02T16:34:30.150Z"
   },
   {
    "duration": 8,
    "start_time": "2024-06-02T16:34:50.850Z"
   },
   {
    "duration": 7,
    "start_time": "2024-06-02T16:35:29.140Z"
   },
   {
    "duration": 8,
    "start_time": "2024-06-02T16:35:37.411Z"
   },
   {
    "duration": 8,
    "start_time": "2024-06-02T16:35:44.360Z"
   },
   {
    "duration": 7,
    "start_time": "2024-06-02T16:35:48.467Z"
   },
   {
    "duration": 11,
    "start_time": "2024-06-02T16:36:05.544Z"
   },
   {
    "duration": 15,
    "start_time": "2024-06-02T16:36:09.768Z"
   },
   {
    "duration": 16,
    "start_time": "2024-06-02T16:36:24.762Z"
   },
   {
    "duration": 47,
    "start_time": "2024-06-02T16:36:40.432Z"
   },
   {
    "duration": 8,
    "start_time": "2024-06-02T16:36:44.871Z"
   },
   {
    "duration": 10,
    "start_time": "2024-06-02T16:37:07.494Z"
   },
   {
    "duration": 718,
    "start_time": "2024-06-02T16:39:10.637Z"
   },
   {
    "duration": 736,
    "start_time": "2024-06-02T16:39:22.256Z"
   },
   {
    "duration": 722,
    "start_time": "2024-06-02T16:39:28.580Z"
   },
   {
    "duration": 728,
    "start_time": "2024-06-02T16:41:04.596Z"
   },
   {
    "duration": 306,
    "start_time": "2024-06-02T16:46:03.636Z"
   },
   {
    "duration": 768,
    "start_time": "2024-06-02T16:46:52.347Z"
   },
   {
    "duration": 54,
    "start_time": "2024-06-02T16:47:23.949Z"
   },
   {
    "duration": 43,
    "start_time": "2024-06-02T16:47:52.523Z"
   },
   {
    "duration": 1026,
    "start_time": "2024-06-02T16:48:00.504Z"
   },
   {
    "duration": 752,
    "start_time": "2024-06-02T16:51:01.635Z"
   },
   {
    "duration": 732,
    "start_time": "2024-06-02T16:51:13.518Z"
   },
   {
    "duration": 712,
    "start_time": "2024-06-02T16:51:25.651Z"
   },
   {
    "duration": 781,
    "start_time": "2024-06-02T16:51:57.363Z"
   },
   {
    "duration": 14,
    "start_time": "2024-06-02T16:53:41.935Z"
   },
   {
    "duration": 702,
    "start_time": "2024-06-02T16:54:05.924Z"
   },
   {
    "duration": 16,
    "start_time": "2024-06-02T16:55:27.322Z"
   },
   {
    "duration": 779,
    "start_time": "2024-06-02T16:58:26.009Z"
   },
   {
    "duration": 710,
    "start_time": "2024-06-02T16:58:45.865Z"
   },
   {
    "duration": 3,
    "start_time": "2024-06-02T17:05:08.203Z"
   },
   {
    "duration": 6,
    "start_time": "2024-06-02T17:05:09.249Z"
   },
   {
    "duration": 19,
    "start_time": "2024-06-02T17:05:10.684Z"
   },
   {
    "duration": 187,
    "start_time": "2024-06-02T17:05:18.272Z"
   },
   {
    "duration": 732,
    "start_time": "2024-06-02T17:08:45.040Z"
   },
   {
    "duration": 1074,
    "start_time": "2024-06-02T17:09:29.533Z"
   },
   {
    "duration": 386,
    "start_time": "2024-06-02T17:10:35.729Z"
   },
   {
    "duration": 370,
    "start_time": "2024-06-02T17:12:51.134Z"
   },
   {
    "duration": 386,
    "start_time": "2024-06-02T17:14:39.256Z"
   },
   {
    "duration": 401,
    "start_time": "2024-06-02T17:15:25.918Z"
   },
   {
    "duration": 374,
    "start_time": "2024-06-02T17:17:09.831Z"
   },
   {
    "duration": 3,
    "start_time": "2024-06-02T17:18:46.290Z"
   },
   {
    "duration": 4,
    "start_time": "2024-06-02T17:24:07.080Z"
   },
   {
    "duration": 55,
    "start_time": "2024-06-02T17:24:09.728Z"
   },
   {
    "duration": 17,
    "start_time": "2024-06-02T17:24:11.950Z"
   },
   {
    "duration": 16,
    "start_time": "2024-06-02T17:24:12.742Z"
   },
   {
    "duration": 6,
    "start_time": "2024-06-02T17:24:17.821Z"
   },
   {
    "duration": 16,
    "start_time": "2024-06-02T17:24:19.235Z"
   },
   {
    "duration": 14,
    "start_time": "2024-06-02T17:24:21.681Z"
   },
   {
    "duration": 15,
    "start_time": "2024-06-02T17:24:22.352Z"
   },
   {
    "duration": 16,
    "start_time": "2024-06-02T17:25:13.601Z"
   },
   {
    "duration": 13,
    "start_time": "2024-06-02T17:25:15.910Z"
   },
   {
    "duration": 14,
    "start_time": "2024-06-02T17:25:16.872Z"
   },
   {
    "duration": 10,
    "start_time": "2024-06-02T17:25:18.599Z"
   },
   {
    "duration": 12,
    "start_time": "2024-06-02T17:25:20.090Z"
   },
   {
    "duration": 22,
    "start_time": "2024-06-02T17:25:21.270Z"
   },
   {
    "duration": 6,
    "start_time": "2024-06-02T17:25:27.084Z"
   },
   {
    "duration": 10,
    "start_time": "2024-06-02T17:25:29.510Z"
   },
   {
    "duration": 5,
    "start_time": "2024-06-02T17:25:31.871Z"
   },
   {
    "duration": 5,
    "start_time": "2024-06-02T17:25:50.052Z"
   },
   {
    "duration": 12,
    "start_time": "2024-06-02T17:25:54.740Z"
   },
   {
    "duration": 4,
    "start_time": "2024-06-02T17:25:55.960Z"
   },
   {
    "duration": 4,
    "start_time": "2024-06-02T17:26:01.202Z"
   },
   {
    "duration": 4,
    "start_time": "2024-06-02T17:26:01.710Z"
   },
   {
    "duration": 15,
    "start_time": "2024-06-02T17:26:18.239Z"
   },
   {
    "duration": 16,
    "start_time": "2024-06-02T17:26:22.273Z"
   },
   {
    "duration": 3,
    "start_time": "2024-06-02T17:28:46.055Z"
   },
   {
    "duration": 56,
    "start_time": "2024-06-02T17:28:47.812Z"
   },
   {
    "duration": 17,
    "start_time": "2024-06-02T17:28:48.565Z"
   },
   {
    "duration": 14,
    "start_time": "2024-06-02T17:28:49.455Z"
   },
   {
    "duration": 5,
    "start_time": "2024-06-02T17:28:55.720Z"
   },
   {
    "duration": 16,
    "start_time": "2024-06-02T17:28:57.386Z"
   },
   {
    "duration": 18,
    "start_time": "2024-06-02T17:29:00.919Z"
   },
   {
    "duration": 13,
    "start_time": "2024-06-02T17:29:04.979Z"
   },
   {
    "duration": 15,
    "start_time": "2024-06-02T17:29:05.737Z"
   },
   {
    "duration": 7,
    "start_time": "2024-06-02T17:29:07.786Z"
   },
   {
    "duration": 20,
    "start_time": "2024-06-02T17:29:09.075Z"
   },
   {
    "duration": 23,
    "start_time": "2024-06-02T17:29:10.100Z"
   },
   {
    "duration": 8,
    "start_time": "2024-06-02T17:29:11.932Z"
   },
   {
    "duration": 15,
    "start_time": "2024-06-02T17:29:13.351Z"
   },
   {
    "duration": 5,
    "start_time": "2024-06-02T17:29:14.715Z"
   },
   {
    "duration": 3,
    "start_time": "2024-06-02T17:29:17.488Z"
   },
   {
    "duration": 3,
    "start_time": "2024-06-02T17:29:18.321Z"
   },
   {
    "duration": 9,
    "start_time": "2024-06-02T17:29:20.120Z"
   },
   {
    "duration": 15,
    "start_time": "2024-06-02T17:29:22.060Z"
   },
   {
    "duration": 14,
    "start_time": "2024-06-02T17:29:24.179Z"
   },
   {
    "duration": 14,
    "start_time": "2024-06-02T17:29:28.358Z"
   },
   {
    "duration": 16,
    "start_time": "2024-06-02T17:29:33.210Z"
   },
   {
    "duration": 13,
    "start_time": "2024-06-02T17:29:34.433Z"
   },
   {
    "duration": 4,
    "start_time": "2024-06-02T17:29:38.013Z"
   },
   {
    "duration": 4,
    "start_time": "2024-06-02T17:29:39.317Z"
   },
   {
    "duration": 16,
    "start_time": "2024-06-02T17:29:41.607Z"
   },
   {
    "duration": 14,
    "start_time": "2024-06-02T17:30:39.585Z"
   },
   {
    "duration": 21,
    "start_time": "2024-06-02T17:30:54.055Z"
   },
   {
    "duration": 11,
    "start_time": "2024-06-02T17:32:22.325Z"
   },
   {
    "duration": 9,
    "start_time": "2024-06-02T17:32:51.969Z"
   },
   {
    "duration": 10,
    "start_time": "2024-06-02T17:32:58.969Z"
   },
   {
    "duration": 16,
    "start_time": "2024-06-02T17:33:20.304Z"
   },
   {
    "duration": 19,
    "start_time": "2024-06-02T17:34:04.966Z"
   },
   {
    "duration": 17,
    "start_time": "2024-06-02T17:34:17.235Z"
   },
   {
    "duration": 18,
    "start_time": "2024-06-02T17:34:48.058Z"
   },
   {
    "duration": 19,
    "start_time": "2024-06-02T17:34:52.378Z"
   },
   {
    "duration": 10,
    "start_time": "2024-06-02T17:34:57.182Z"
   },
   {
    "duration": 19,
    "start_time": "2024-06-02T17:35:08.863Z"
   },
   {
    "duration": 11,
    "start_time": "2024-06-02T17:46:02.647Z"
   },
   {
    "duration": 15,
    "start_time": "2024-06-02T17:46:18.658Z"
   },
   {
    "duration": 10,
    "start_time": "2024-06-02T17:47:22.968Z"
   },
   {
    "duration": 13,
    "start_time": "2024-06-02T17:47:25.301Z"
   },
   {
    "duration": 14,
    "start_time": "2024-06-02T17:47:26.239Z"
   },
   {
    "duration": 17,
    "start_time": "2024-06-02T17:47:57.848Z"
   },
   {
    "duration": 16,
    "start_time": "2024-06-02T17:48:04.479Z"
   },
   {
    "duration": 11,
    "start_time": "2024-06-02T17:50:32.340Z"
   },
   {
    "duration": 13,
    "start_time": "2024-06-02T17:50:32.872Z"
   },
   {
    "duration": 22,
    "start_time": "2024-06-02T17:50:33.361Z"
   },
   {
    "duration": 15,
    "start_time": "2024-06-02T17:50:34.143Z"
   },
   {
    "duration": 14,
    "start_time": "2024-06-02T17:50:34.901Z"
   },
   {
    "duration": 3,
    "start_time": "2024-06-02T17:50:37.262Z"
   },
   {
    "duration": 3,
    "start_time": "2024-06-02T17:50:38.431Z"
   },
   {
    "duration": 15,
    "start_time": "2024-06-02T17:50:40.470Z"
   },
   {
    "duration": 5,
    "start_time": "2024-06-02T17:50:42.432Z"
   },
   {
    "duration": 18,
    "start_time": "2024-06-02T17:50:43.697Z"
   },
   {
    "duration": 89,
    "start_time": "2024-06-02T17:50:46.567Z"
   },
   {
    "duration": 7,
    "start_time": "2024-06-02T17:50:51.451Z"
   },
   {
    "duration": 374,
    "start_time": "2024-06-02T17:50:52.168Z"
   },
   {
    "duration": 316,
    "start_time": "2024-06-02T17:50:55.682Z"
   },
   {
    "duration": 7,
    "start_time": "2024-06-02T17:50:56.449Z"
   },
   {
    "duration": 2,
    "start_time": "2024-06-02T17:50:57.397Z"
   },
   {
    "duration": 18,
    "start_time": "2024-06-02T17:51:05.881Z"
   },
   {
    "duration": 2,
    "start_time": "2024-06-02T17:51:06.636Z"
   },
   {
    "duration": 258,
    "start_time": "2024-06-02T17:51:07.900Z"
   },
   {
    "duration": 25,
    "start_time": "2024-06-02T17:51:17.003Z"
   },
   {
    "duration": 9,
    "start_time": "2024-06-02T17:51:17.952Z"
   },
   {
    "duration": 10,
    "start_time": "2024-06-02T17:51:20.462Z"
   },
   {
    "duration": 346,
    "start_time": "2024-06-02T17:56:08.520Z"
   },
   {
    "duration": 334,
    "start_time": "2024-06-02T17:57:08.684Z"
   },
   {
    "duration": 262,
    "start_time": "2024-06-02T18:01:11.489Z"
   },
   {
    "duration": 24,
    "start_time": "2024-06-02T18:01:17.360Z"
   },
   {
    "duration": 9,
    "start_time": "2024-06-02T18:01:18.075Z"
   },
   {
    "duration": 8,
    "start_time": "2024-06-02T18:01:22.717Z"
   },
   {
    "duration": 8,
    "start_time": "2024-06-02T18:01:23.926Z"
   },
   {
    "duration": 6,
    "start_time": "2024-06-02T18:01:30.830Z"
   },
   {
    "duration": 15,
    "start_time": "2024-06-02T18:01:33.709Z"
   },
   {
    "duration": 3,
    "start_time": "2024-06-02T18:01:34.419Z"
   },
   {
    "duration": 196,
    "start_time": "2024-06-02T18:01:35.380Z"
   },
   {
    "duration": 297,
    "start_time": "2024-06-02T18:06:05.408Z"
   },
   {
    "duration": 7,
    "start_time": "2024-06-02T18:06:28.758Z"
   },
   {
    "duration": 4,
    "start_time": "2024-06-02T18:06:49.244Z"
   },
   {
    "duration": 53,
    "start_time": "2024-06-02T18:06:51.141Z"
   },
   {
    "duration": 15,
    "start_time": "2024-06-02T18:06:51.696Z"
   },
   {
    "duration": 15,
    "start_time": "2024-06-02T18:06:53.349Z"
   },
   {
    "duration": 5,
    "start_time": "2024-06-02T18:06:57.509Z"
   },
   {
    "duration": 25,
    "start_time": "2024-06-02T18:06:58.720Z"
   },
   {
    "duration": 16,
    "start_time": "2024-06-02T18:07:01.325Z"
   },
   {
    "duration": 14,
    "start_time": "2024-06-02T18:07:02.915Z"
   },
   {
    "duration": 15,
    "start_time": "2024-06-02T18:07:03.564Z"
   },
   {
    "duration": 7,
    "start_time": "2024-06-02T18:07:04.834Z"
   },
   {
    "duration": 14,
    "start_time": "2024-06-02T18:07:06.025Z"
   },
   {
    "duration": 22,
    "start_time": "2024-06-02T18:07:06.618Z"
   },
   {
    "duration": 10,
    "start_time": "2024-06-02T18:07:07.902Z"
   },
   {
    "duration": 10,
    "start_time": "2024-06-02T18:07:08.944Z"
   },
   {
    "duration": 5,
    "start_time": "2024-06-02T18:07:10.139Z"
   },
   {
    "duration": 3,
    "start_time": "2024-06-02T18:07:12.328Z"
   },
   {
    "duration": 4,
    "start_time": "2024-06-02T18:07:12.893Z"
   },
   {
    "duration": 9,
    "start_time": "2024-06-02T18:07:14.555Z"
   },
   {
    "duration": 316,
    "start_time": "2024-06-02T18:07:15.641Z"
   },
   {
    "duration": 18,
    "start_time": "2024-06-02T18:07:17.093Z"
   },
   {
    "duration": 10,
    "start_time": "2024-06-02T18:07:18.283Z"
   },
   {
    "duration": 13,
    "start_time": "2024-06-02T18:07:18.968Z"
   },
   {
    "duration": 20,
    "start_time": "2024-06-02T18:07:19.677Z"
   },
   {
    "duration": 17,
    "start_time": "2024-06-02T18:07:20.953Z"
   },
   {
    "duration": 14,
    "start_time": "2024-06-02T18:07:21.580Z"
   },
   {
    "duration": 3,
    "start_time": "2024-06-02T18:07:24.102Z"
   },
   {
    "duration": 4,
    "start_time": "2024-06-02T18:07:25.375Z"
   },
   {
    "duration": 16,
    "start_time": "2024-06-02T18:07:27.232Z"
   },
   {
    "duration": 5,
    "start_time": "2024-06-02T18:07:29.102Z"
   },
   {
    "duration": 19,
    "start_time": "2024-06-02T18:07:30.429Z"
   },
   {
    "duration": 78,
    "start_time": "2024-06-02T18:07:33.479Z"
   },
   {
    "duration": 6,
    "start_time": "2024-06-02T18:07:37.184Z"
   },
   {
    "duration": 399,
    "start_time": "2024-06-02T18:07:37.774Z"
   },
   {
    "duration": 310,
    "start_time": "2024-06-02T18:07:40.877Z"
   },
   {
    "duration": 8,
    "start_time": "2024-06-02T18:07:41.529Z"
   },
   {
    "duration": 20,
    "start_time": "2024-06-02T18:07:44.706Z"
   },
   {
    "duration": 252,
    "start_time": "2024-06-02T18:07:46.132Z"
   },
   {
    "duration": 26,
    "start_time": "2024-06-02T18:07:47.839Z"
   },
   {
    "duration": 10,
    "start_time": "2024-06-02T18:07:48.494Z"
   },
   {
    "duration": 9,
    "start_time": "2024-06-02T18:07:50.410Z"
   },
   {
    "duration": 9,
    "start_time": "2024-06-02T18:07:51.646Z"
   },
   {
    "duration": 5,
    "start_time": "2024-06-02T18:07:55.254Z"
   },
   {
    "duration": 18,
    "start_time": "2024-06-02T18:07:57.853Z"
   },
   {
    "duration": 276,
    "start_time": "2024-06-02T18:07:59.604Z"
   },
   {
    "duration": 4,
    "start_time": "2024-06-02T18:08:15.753Z"
   },
   {
    "duration": 13,
    "start_time": "2024-06-02T18:08:19.059Z"
   },
   {
    "duration": 699,
    "start_time": "2024-06-02T18:11:32.287Z"
   },
   {
    "duration": 681,
    "start_time": "2024-06-02T18:11:50.638Z"
   },
   {
    "duration": 682,
    "start_time": "2024-06-02T18:13:11.939Z"
   },
   {
    "duration": 13,
    "start_time": "2024-06-02T18:13:53.349Z"
   },
   {
    "duration": 255,
    "start_time": "2024-06-02T18:14:03.049Z"
   },
   {
    "duration": 6,
    "start_time": "2024-06-02T18:14:49.267Z"
   },
   {
    "duration": 11,
    "start_time": "2024-06-02T18:14:56.209Z"
   },
   {
    "duration": 19,
    "start_time": "2024-06-02T18:15:05.568Z"
   },
   {
    "duration": 3,
    "start_time": "2024-06-02T18:15:18.340Z"
   },
   {
    "duration": 55,
    "start_time": "2024-06-02T18:15:20.058Z"
   },
   {
    "duration": 21,
    "start_time": "2024-06-02T18:15:20.657Z"
   },
   {
    "duration": 15,
    "start_time": "2024-06-02T18:15:21.571Z"
   },
   {
    "duration": 5,
    "start_time": "2024-06-02T18:15:25.936Z"
   },
   {
    "duration": 16,
    "start_time": "2024-06-02T18:15:27.220Z"
   },
   {
    "duration": 17,
    "start_time": "2024-06-02T18:15:29.567Z"
   },
   {
    "duration": 15,
    "start_time": "2024-06-02T18:15:30.901Z"
   },
   {
    "duration": 15,
    "start_time": "2024-06-02T18:15:31.542Z"
   },
   {
    "duration": 9,
    "start_time": "2024-06-02T18:15:32.748Z"
   },
   {
    "duration": 14,
    "start_time": "2024-06-02T18:15:33.890Z"
   },
   {
    "duration": 24,
    "start_time": "2024-06-02T18:15:34.490Z"
   },
   {
    "duration": 7,
    "start_time": "2024-06-02T18:15:35.735Z"
   },
   {
    "duration": 9,
    "start_time": "2024-06-02T18:15:36.995Z"
   },
   {
    "duration": 5,
    "start_time": "2024-06-02T18:15:38.236Z"
   },
   {
    "duration": 4,
    "start_time": "2024-06-02T18:15:40.669Z"
   },
   {
    "duration": 4,
    "start_time": "2024-06-02T18:15:41.343Z"
   },
   {
    "duration": 7,
    "start_time": "2024-06-02T18:15:43.166Z"
   },
   {
    "duration": 11,
    "start_time": "2024-06-02T18:15:44.392Z"
   },
   {
    "duration": 18,
    "start_time": "2024-06-02T18:15:45.641Z"
   },
   {
    "duration": 10,
    "start_time": "2024-06-02T18:15:46.876Z"
   },
   {
    "duration": 13,
    "start_time": "2024-06-02T18:15:47.454Z"
   },
   {
    "duration": 14,
    "start_time": "2024-06-02T18:15:48.082Z"
   },
   {
    "duration": 17,
    "start_time": "2024-06-02T18:15:51.993Z"
   },
   {
    "duration": 13,
    "start_time": "2024-06-02T18:15:54.573Z"
   },
   {
    "duration": 4,
    "start_time": "2024-06-02T18:15:58.041Z"
   },
   {
    "duration": 3,
    "start_time": "2024-06-02T18:15:59.384Z"
   },
   {
    "duration": 16,
    "start_time": "2024-06-02T18:16:01.997Z"
   },
   {
    "duration": 5,
    "start_time": "2024-06-02T18:16:05.583Z"
   },
   {
    "duration": 19,
    "start_time": "2024-06-02T18:16:07.294Z"
   },
   {
    "duration": 83,
    "start_time": "2024-06-02T18:16:10.267Z"
   },
   {
    "duration": 8,
    "start_time": "2024-06-02T18:16:14.241Z"
   },
   {
    "duration": 360,
    "start_time": "2024-06-02T18:16:14.928Z"
   },
   {
    "duration": 309,
    "start_time": "2024-06-02T18:16:19.096Z"
   },
   {
    "duration": 7,
    "start_time": "2024-06-02T18:16:20.110Z"
   },
   {
    "duration": 12,
    "start_time": "2024-06-02T18:16:23.440Z"
   },
   {
    "duration": 269,
    "start_time": "2024-06-02T18:16:26.411Z"
   },
   {
    "duration": 24,
    "start_time": "2024-06-02T18:16:31.935Z"
   },
   {
    "duration": 10,
    "start_time": "2024-06-02T18:16:33.149Z"
   },
   {
    "duration": 7,
    "start_time": "2024-06-02T18:16:35.888Z"
   },
   {
    "duration": 9,
    "start_time": "2024-06-02T18:16:41.999Z"
   },
   {
    "duration": 5,
    "start_time": "2024-06-02T18:16:52.647Z"
   },
   {
    "duration": 15,
    "start_time": "2024-06-02T18:17:06.945Z"
   },
   {
    "duration": 670,
    "start_time": "2024-06-02T18:17:09.159Z"
   },
   {
    "duration": 13,
    "start_time": "2024-06-02T18:19:13.516Z"
   },
   {
    "duration": 316,
    "start_time": "2024-06-02T18:19:16.857Z"
   },
   {
    "duration": 16,
    "start_time": "2024-06-02T18:20:40.902Z"
   },
   {
    "duration": 9,
    "start_time": "2024-06-02T18:21:24.683Z"
   },
   {
    "duration": 681,
    "start_time": "2024-06-02T18:21:25.598Z"
   },
   {
    "duration": 11,
    "start_time": "2024-06-02T18:23:36.657Z"
   },
   {
    "duration": 262,
    "start_time": "2024-06-02T18:23:37.307Z"
   },
   {
    "duration": 7,
    "start_time": "2024-06-02T18:25:07.475Z"
   },
   {
    "duration": 264,
    "start_time": "2024-06-02T18:25:25.928Z"
   },
   {
    "duration": 9,
    "start_time": "2024-06-02T18:25:50.151Z"
   },
   {
    "duration": 230,
    "start_time": "2024-06-02T18:28:50.687Z"
   },
   {
    "duration": 224,
    "start_time": "2024-06-02T18:31:53.728Z"
   },
   {
    "duration": 253,
    "start_time": "2024-06-02T18:32:31.782Z"
   },
   {
    "duration": 273,
    "start_time": "2024-06-02T18:33:19.152Z"
   },
   {
    "duration": 236,
    "start_time": "2024-06-02T18:34:21.233Z"
   },
   {
    "duration": 551,
    "start_time": "2024-06-02T18:34:29.992Z"
   },
   {
    "duration": 1125,
    "start_time": "2024-06-02T20:11:10.763Z"
   },
   {
    "duration": 52,
    "start_time": "2024-06-02T20:11:11.890Z"
   },
   {
    "duration": 24,
    "start_time": "2024-06-02T20:11:11.943Z"
   },
   {
    "duration": 13,
    "start_time": "2024-06-02T20:11:11.969Z"
   },
   {
    "duration": 12,
    "start_time": "2024-06-02T20:11:11.983Z"
   },
   {
    "duration": 18,
    "start_time": "2024-06-02T20:11:11.996Z"
   },
   {
    "duration": 70,
    "start_time": "2024-06-02T20:11:12.015Z"
   },
   {
    "duration": 12,
    "start_time": "2024-06-02T20:11:12.086Z"
   },
   {
    "duration": 29,
    "start_time": "2024-06-02T20:11:12.099Z"
   },
   {
    "duration": 8,
    "start_time": "2024-06-02T20:11:12.130Z"
   },
   {
    "duration": 23,
    "start_time": "2024-06-02T20:11:12.139Z"
   },
   {
    "duration": 27,
    "start_time": "2024-06-02T20:11:12.164Z"
   },
   {
    "duration": 17,
    "start_time": "2024-06-02T20:11:12.193Z"
   },
   {
    "duration": 8,
    "start_time": "2024-06-02T20:11:12.211Z"
   },
   {
    "duration": 4,
    "start_time": "2024-06-02T20:11:12.221Z"
   },
   {
    "duration": 6,
    "start_time": "2024-06-02T20:11:12.226Z"
   },
   {
    "duration": 22,
    "start_time": "2024-06-02T20:11:12.233Z"
   },
   {
    "duration": 26,
    "start_time": "2024-06-02T20:11:12.256Z"
   },
   {
    "duration": 13,
    "start_time": "2024-06-02T20:11:12.283Z"
   },
   {
    "duration": 17,
    "start_time": "2024-06-02T20:11:12.297Z"
   },
   {
    "duration": 7,
    "start_time": "2024-06-02T20:11:12.315Z"
   },
   {
    "duration": 11,
    "start_time": "2024-06-02T20:11:12.323Z"
   },
   {
    "duration": 18,
    "start_time": "2024-06-02T20:11:12.335Z"
   },
   {
    "duration": 20,
    "start_time": "2024-06-02T20:11:12.355Z"
   },
   {
    "duration": 27,
    "start_time": "2024-06-02T20:11:12.376Z"
   },
   {
    "duration": 12,
    "start_time": "2024-06-02T20:11:12.405Z"
   },
   {
    "duration": 5,
    "start_time": "2024-06-02T20:11:12.418Z"
   },
   {
    "duration": 15,
    "start_time": "2024-06-02T20:11:12.427Z"
   },
   {
    "duration": 18,
    "start_time": "2024-06-02T20:11:12.444Z"
   },
   {
    "duration": 35,
    "start_time": "2024-06-02T20:11:12.464Z"
   },
   {
    "duration": 80,
    "start_time": "2024-06-02T20:11:12.501Z"
   },
   {
    "duration": 7,
    "start_time": "2024-06-02T20:11:12.582Z"
   },
   {
    "duration": 377,
    "start_time": "2024-06-02T20:11:12.591Z"
   },
   {
    "duration": 348,
    "start_time": "2024-06-02T20:11:12.969Z"
   },
   {
    "duration": 7,
    "start_time": "2024-06-02T20:11:13.318Z"
   },
   {
    "duration": 28,
    "start_time": "2024-06-02T20:11:13.326Z"
   },
   {
    "duration": 284,
    "start_time": "2024-06-02T20:11:13.356Z"
   },
   {
    "duration": 37,
    "start_time": "2024-06-02T20:11:13.644Z"
   },
   {
    "duration": 32,
    "start_time": "2024-06-02T20:11:13.682Z"
   },
   {
    "duration": 8,
    "start_time": "2024-06-02T20:11:13.716Z"
   },
   {
    "duration": 8,
    "start_time": "2024-06-02T20:11:13.726Z"
   },
   {
    "duration": 4,
    "start_time": "2024-06-02T20:11:13.735Z"
   },
   {
    "duration": 16,
    "start_time": "2024-06-02T20:11:13.740Z"
   },
   {
    "duration": 25,
    "start_time": "2024-06-02T20:11:13.758Z"
   },
   {
    "duration": 224,
    "start_time": "2024-06-02T20:11:13.784Z"
   },
   {
    "duration": 270,
    "start_time": "2024-06-02T20:11:14.009Z"
   },
   {
    "duration": 356,
    "start_time": "2024-06-02T20:11:14.281Z"
   },
   {
    "duration": 19,
    "start_time": "2024-06-02T20:11:14.639Z"
   },
   {
    "duration": 168,
    "start_time": "2024-06-02T20:11:14.662Z"
   },
   {
    "duration": 4,
    "start_time": "2024-06-02T20:11:14.831Z"
   },
   {
    "duration": 44,
    "start_time": "2024-06-02T20:11:14.836Z"
   },
   {
    "duration": 142,
    "start_time": "2024-06-02T20:11:14.881Z"
   },
   {
    "duration": 4,
    "start_time": "2024-06-02T20:11:15.025Z"
   },
   {
    "duration": 42,
    "start_time": "2024-06-02T20:11:15.030Z"
   },
   {
    "duration": 14,
    "start_time": "2024-06-02T20:11:15.073Z"
   },
   {
    "duration": 15,
    "start_time": "2024-06-02T20:11:15.089Z"
   },
   {
    "duration": 1378,
    "start_time": "2024-06-02T20:11:15.105Z"
   },
   {
    "duration": 40,
    "start_time": "2024-06-02T20:11:16.484Z"
   },
   {
    "duration": 28,
    "start_time": "2024-06-02T20:11:16.526Z"
   },
   {
    "duration": 14,
    "start_time": "2024-06-02T20:11:16.555Z"
   },
   {
    "duration": 208,
    "start_time": "2024-06-02T20:11:16.571Z"
   },
   {
    "duration": 363,
    "start_time": "2024-06-02T20:11:16.781Z"
   },
   {
    "duration": 809,
    "start_time": "2024-06-02T20:11:17.150Z"
   },
   {
    "duration": 675,
    "start_time": "2024-06-02T20:11:17.962Z"
   },
   {
    "duration": 23,
    "start_time": "2024-06-02T20:11:18.639Z"
   },
   {
    "duration": 6,
    "start_time": "2024-06-02T20:11:18.663Z"
   },
   {
    "duration": 367,
    "start_time": "2024-06-02T20:11:18.671Z"
   },
   {
    "duration": 42,
    "start_time": "2024-06-02T20:11:19.040Z"
   },
   {
    "duration": 28,
    "start_time": "2024-06-02T20:11:19.083Z"
   },
   {
    "duration": 9,
    "start_time": "2024-06-02T20:11:19.112Z"
   },
   {
    "duration": 13,
    "start_time": "2024-06-02T20:11:19.122Z"
   },
   {
    "duration": 31,
    "start_time": "2024-06-02T20:11:19.136Z"
   },
   {
    "duration": 65,
    "start_time": "2024-06-02T20:11:19.168Z"
   },
   {
    "duration": 0,
    "start_time": "2024-06-02T20:11:19.234Z"
   },
   {
    "duration": 0,
    "start_time": "2024-06-02T20:11:19.235Z"
   },
   {
    "duration": 0,
    "start_time": "2024-06-02T20:11:19.236Z"
   },
   {
    "duration": 7,
    "start_time": "2024-06-02T20:33:06.809Z"
   },
   {
    "duration": 10,
    "start_time": "2024-06-02T20:34:32.254Z"
   },
   {
    "duration": 11,
    "start_time": "2024-06-02T20:35:01.331Z"
   },
   {
    "duration": 4,
    "start_time": "2024-06-02T20:35:21.181Z"
   },
   {
    "duration": 4,
    "start_time": "2024-06-02T20:36:33.913Z"
   },
   {
    "duration": 1206,
    "start_time": "2024-06-02T20:36:44.776Z"
   },
   {
    "duration": 52,
    "start_time": "2024-06-02T20:36:45.984Z"
   },
   {
    "duration": 28,
    "start_time": "2024-06-02T20:36:46.038Z"
   },
   {
    "duration": 15,
    "start_time": "2024-06-02T20:36:46.068Z"
   },
   {
    "duration": 5,
    "start_time": "2024-06-02T20:36:46.086Z"
   },
   {
    "duration": 15,
    "start_time": "2024-06-02T20:36:46.093Z"
   },
   {
    "duration": 86,
    "start_time": "2024-06-02T20:36:46.110Z"
   },
   {
    "duration": 12,
    "start_time": "2024-06-02T20:36:46.197Z"
   },
   {
    "duration": 13,
    "start_time": "2024-06-02T20:36:46.210Z"
   },
   {
    "duration": 32,
    "start_time": "2024-06-02T20:36:46.224Z"
   },
   {
    "duration": 11,
    "start_time": "2024-06-02T20:36:46.262Z"
   },
   {
    "duration": 31,
    "start_time": "2024-06-02T20:36:46.275Z"
   },
   {
    "duration": 7,
    "start_time": "2024-06-02T20:36:46.308Z"
   },
   {
    "duration": 9,
    "start_time": "2024-06-02T20:36:46.318Z"
   },
   {
    "duration": 22,
    "start_time": "2024-06-02T20:36:46.329Z"
   },
   {
    "duration": 12,
    "start_time": "2024-06-02T20:36:46.352Z"
   },
   {
    "duration": 3,
    "start_time": "2024-06-02T20:36:46.368Z"
   },
   {
    "duration": 13,
    "start_time": "2024-06-02T20:36:46.372Z"
   },
   {
    "duration": 17,
    "start_time": "2024-06-02T20:36:46.387Z"
   },
   {
    "duration": 48,
    "start_time": "2024-06-02T20:36:46.406Z"
   },
   {
    "duration": 13,
    "start_time": "2024-06-02T20:36:46.459Z"
   },
   {
    "duration": 19,
    "start_time": "2024-06-02T20:36:46.473Z"
   },
   {
    "duration": 21,
    "start_time": "2024-06-02T20:36:46.494Z"
   },
   {
    "duration": 41,
    "start_time": "2024-06-02T20:36:46.518Z"
   },
   {
    "duration": 55,
    "start_time": "2024-06-02T20:36:46.562Z"
   },
   {
    "duration": 4,
    "start_time": "2024-06-02T20:36:46.619Z"
   },
   {
    "duration": 3,
    "start_time": "2024-06-02T20:36:46.625Z"
   },
   {
    "duration": 32,
    "start_time": "2024-06-02T20:36:46.630Z"
   },
   {
    "duration": 5,
    "start_time": "2024-06-02T20:36:46.668Z"
   },
   {
    "duration": 28,
    "start_time": "2024-06-02T20:36:46.674Z"
   },
   {
    "duration": 132,
    "start_time": "2024-06-02T20:36:46.705Z"
   },
   {
    "duration": 11,
    "start_time": "2024-06-02T20:36:46.839Z"
   },
   {
    "duration": 381,
    "start_time": "2024-06-02T20:36:46.852Z"
   },
   {
    "duration": 332,
    "start_time": "2024-06-02T20:36:47.235Z"
   },
   {
    "duration": 8,
    "start_time": "2024-06-02T20:36:47.568Z"
   },
   {
    "duration": 17,
    "start_time": "2024-06-02T20:36:47.579Z"
   },
   {
    "duration": 337,
    "start_time": "2024-06-02T20:36:47.598Z"
   },
   {
    "duration": 34,
    "start_time": "2024-06-02T20:36:47.937Z"
   },
   {
    "duration": 9,
    "start_time": "2024-06-02T20:36:47.973Z"
   },
   {
    "duration": 16,
    "start_time": "2024-06-02T20:36:47.984Z"
   },
   {
    "duration": 79,
    "start_time": "2024-06-02T20:36:48.006Z"
   },
   {
    "duration": 17,
    "start_time": "2024-06-02T20:36:48.088Z"
   },
   {
    "duration": 53,
    "start_time": "2024-06-02T20:36:48.107Z"
   },
   {
    "duration": 13,
    "start_time": "2024-06-02T20:36:48.162Z"
   },
   {
    "duration": 587,
    "start_time": "2024-06-02T20:36:48.177Z"
   },
   {
    "duration": 788,
    "start_time": "2024-06-02T20:36:48.770Z"
   },
   {
    "duration": 364,
    "start_time": "2024-06-02T20:36:49.559Z"
   },
   {
    "duration": 4,
    "start_time": "2024-06-02T20:36:49.925Z"
   },
   {
    "duration": 189,
    "start_time": "2024-06-02T20:36:49.931Z"
   },
   {
    "duration": 5,
    "start_time": "2024-06-02T20:36:50.121Z"
   },
   {
    "duration": 32,
    "start_time": "2024-06-02T20:36:50.128Z"
   },
   {
    "duration": 146,
    "start_time": "2024-06-02T20:36:50.163Z"
   },
   {
    "duration": 5,
    "start_time": "2024-06-02T20:36:50.311Z"
   },
   {
    "duration": 36,
    "start_time": "2024-06-02T20:36:50.317Z"
   },
   {
    "duration": 9,
    "start_time": "2024-06-02T20:36:50.354Z"
   },
   {
    "duration": 7,
    "start_time": "2024-06-02T20:36:50.365Z"
   },
   {
    "duration": 35,
    "start_time": "2024-06-02T20:36:50.374Z"
   },
   {
    "duration": 21,
    "start_time": "2024-06-02T20:36:50.411Z"
   },
   {
    "duration": 2333,
    "start_time": "2024-06-02T20:36:50.434Z"
   },
   {
    "duration": 58,
    "start_time": "2024-06-02T20:36:52.769Z"
   },
   {
    "duration": 22,
    "start_time": "2024-06-02T20:36:52.829Z"
   },
   {
    "duration": 17,
    "start_time": "2024-06-02T20:36:52.852Z"
   },
   {
    "duration": 16,
    "start_time": "2024-06-02T20:36:52.871Z"
   },
   {
    "duration": 592,
    "start_time": "2024-06-02T20:36:52.889Z"
   },
   {
    "duration": 1163,
    "start_time": "2024-06-02T20:36:53.483Z"
   },
   {
    "duration": 1470,
    "start_time": "2024-06-02T20:36:54.648Z"
   },
   {
    "duration": 1248,
    "start_time": "2024-06-02T20:36:56.147Z"
   },
   {
    "duration": 3,
    "start_time": "2024-06-02T20:36:57.396Z"
   },
   {
    "duration": 58,
    "start_time": "2024-06-02T20:36:57.400Z"
   },
   {
    "duration": 704,
    "start_time": "2024-06-02T20:36:57.460Z"
   },
   {
    "duration": 89,
    "start_time": "2024-06-02T20:36:58.166Z"
   },
   {
    "duration": 28,
    "start_time": "2024-06-02T20:36:58.258Z"
   },
   {
    "duration": 9,
    "start_time": "2024-06-02T20:36:58.288Z"
   },
   {
    "duration": 16,
    "start_time": "2024-06-02T20:36:58.299Z"
   },
   {
    "duration": 35,
    "start_time": "2024-06-02T20:36:58.316Z"
   },
   {
    "duration": 83,
    "start_time": "2024-06-02T20:36:58.355Z"
   },
   {
    "duration": 0,
    "start_time": "2024-06-02T20:36:58.440Z"
   },
   {
    "duration": 0,
    "start_time": "2024-06-02T20:36:58.442Z"
   },
   {
    "duration": 0,
    "start_time": "2024-06-02T20:36:58.444Z"
   },
   {
    "duration": 1330,
    "start_time": "2024-06-03T18:03:25.846Z"
   },
   {
    "duration": 105,
    "start_time": "2024-06-03T18:03:30.945Z"
   },
   {
    "duration": 21,
    "start_time": "2024-06-03T18:03:32.151Z"
   },
   {
    "duration": 15,
    "start_time": "2024-06-03T18:03:33.213Z"
   },
   {
    "duration": 5,
    "start_time": "2024-06-03T18:03:39.282Z"
   },
   {
    "duration": 14,
    "start_time": "2024-06-03T18:03:39.899Z"
   },
   {
    "duration": 55,
    "start_time": "2024-06-03T18:03:40.801Z"
   },
   {
    "duration": 12,
    "start_time": "2024-06-03T18:03:41.174Z"
   },
   {
    "duration": 14,
    "start_time": "2024-06-03T18:03:41.359Z"
   },
   {
    "duration": 10,
    "start_time": "2024-06-03T18:03:41.808Z"
   },
   {
    "duration": 13,
    "start_time": "2024-06-03T18:03:42.311Z"
   },
   {
    "duration": 22,
    "start_time": "2024-06-03T18:03:42.512Z"
   },
   {
    "duration": 7,
    "start_time": "2024-06-03T18:03:42.895Z"
   },
   {
    "duration": 12,
    "start_time": "2024-06-03T18:03:43.290Z"
   },
   {
    "duration": 4,
    "start_time": "2024-06-03T18:03:43.704Z"
   },
   {
    "duration": 3,
    "start_time": "2024-06-03T18:03:44.556Z"
   },
   {
    "duration": 3,
    "start_time": "2024-06-03T18:03:44.818Z"
   },
   {
    "duration": 7,
    "start_time": "2024-06-03T18:03:46.180Z"
   },
   {
    "duration": 11,
    "start_time": "2024-06-03T18:03:46.864Z"
   },
   {
    "duration": 19,
    "start_time": "2024-06-03T18:03:47.549Z"
   },
   {
    "duration": 8,
    "start_time": "2024-06-03T18:03:48.140Z"
   },
   {
    "duration": 13,
    "start_time": "2024-06-03T18:03:48.436Z"
   },
   {
    "duration": 13,
    "start_time": "2024-06-03T18:03:48.711Z"
   },
   {
    "duration": 20,
    "start_time": "2024-06-03T18:03:49.272Z"
   },
   {
    "duration": 14,
    "start_time": "2024-06-03T18:03:49.603Z"
   },
   {
    "duration": 3,
    "start_time": "2024-06-03T18:03:51.274Z"
   },
   {
    "duration": 3,
    "start_time": "2024-06-03T18:03:51.808Z"
   },
   {
    "duration": 16,
    "start_time": "2024-06-03T18:03:52.703Z"
   },
   {
    "duration": 4,
    "start_time": "2024-06-03T18:03:53.679Z"
   },
   {
    "duration": 17,
    "start_time": "2024-06-03T18:03:54.301Z"
   },
   {
    "duration": 99,
    "start_time": "2024-06-03T18:03:56.115Z"
   },
   {
    "duration": 7,
    "start_time": "2024-06-03T18:03:58.615Z"
   },
   {
    "duration": 351,
    "start_time": "2024-06-03T18:03:59.016Z"
   },
   {
    "duration": 323,
    "start_time": "2024-06-03T18:04:00.788Z"
   },
   {
    "duration": 6,
    "start_time": "2024-06-03T18:04:01.113Z"
   },
   {
    "duration": 12,
    "start_time": "2024-06-03T18:04:02.462Z"
   },
   {
    "duration": 262,
    "start_time": "2024-06-03T18:04:03.407Z"
   },
   {
    "duration": 25,
    "start_time": "2024-06-03T18:04:04.905Z"
   },
   {
    "duration": 9,
    "start_time": "2024-06-03T18:04:06.739Z"
   },
   {
    "duration": 7,
    "start_time": "2024-06-03T18:04:09.059Z"
   },
   {
    "duration": 10,
    "start_time": "2024-06-03T18:04:09.857Z"
   },
   {
    "duration": 5,
    "start_time": "2024-06-03T18:04:11.366Z"
   },
   {
    "duration": 14,
    "start_time": "2024-06-03T18:04:12.560Z"
   },
   {
    "duration": 11,
    "start_time": "2024-06-03T18:04:13.118Z"
   },
   {
    "duration": 228,
    "start_time": "2024-06-03T18:04:13.356Z"
   },
   {
    "duration": 238,
    "start_time": "2024-06-03T18:04:14.791Z"
   },
   {
    "duration": 324,
    "start_time": "2024-06-03T18:04:15.127Z"
   },
   {
    "duration": 4,
    "start_time": "2024-06-03T18:04:17.354Z"
   },
   {
    "duration": 151,
    "start_time": "2024-06-03T18:04:17.836Z"
   },
   {
    "duration": 5,
    "start_time": "2024-06-03T18:04:18.794Z"
   },
   {
    "duration": 4,
    "start_time": "2024-06-03T18:04:19.484Z"
   },
   {
    "duration": 137,
    "start_time": "2024-06-03T18:04:20.183Z"
   },
   {
    "duration": 5,
    "start_time": "2024-06-03T18:04:22.862Z"
   },
   {
    "duration": 6,
    "start_time": "2024-06-03T18:04:24.913Z"
   },
   {
    "duration": 4,
    "start_time": "2024-06-03T18:04:25.553Z"
   },
   {
    "duration": 5,
    "start_time": "2024-06-03T18:04:26.172Z"
   },
   {
    "duration": 3,
    "start_time": "2024-06-03T18:04:27.439Z"
   },
   {
    "duration": 9,
    "start_time": "2024-06-03T18:04:29.550Z"
   },
   {
    "duration": 1443,
    "start_time": "2024-06-03T18:04:30.512Z"
   },
   {
    "duration": 54,
    "start_time": "2024-06-03T18:04:35.718Z"
   },
   {
    "duration": 11,
    "start_time": "2024-06-03T18:08:56.493Z"
   },
   {
    "duration": 4,
    "start_time": "2024-06-03T18:16:52.835Z"
   },
   {
    "duration": 4,
    "start_time": "2024-06-03T18:17:09.286Z"
   },
   {
    "duration": 55,
    "start_time": "2024-06-03T18:17:31.251Z"
   },
   {
    "duration": 9,
    "start_time": "2024-06-03T18:17:31.928Z"
   },
   {
    "duration": 3,
    "start_time": "2024-06-03T18:17:45.334Z"
   },
   {
    "duration": 6,
    "start_time": "2024-06-03T18:17:48.346Z"
   },
   {
    "duration": 11,
    "start_time": "2024-06-03T18:17:50.629Z"
   },
   {
    "duration": 215,
    "start_time": "2024-06-03T18:17:52.034Z"
   },
   {
    "duration": 367,
    "start_time": "2024-06-03T18:17:52.941Z"
   },
   {
    "duration": 675,
    "start_time": "2024-06-03T18:19:21.843Z"
   },
   {
    "duration": 683,
    "start_time": "2024-06-03T18:19:26.488Z"
   },
   {
    "duration": 3,
    "start_time": "2024-06-03T18:19:31.908Z"
   },
   {
    "duration": 6,
    "start_time": "2024-06-03T18:19:32.472Z"
   },
   {
    "duration": 339,
    "start_time": "2024-06-03T18:19:33.149Z"
   },
   {
    "duration": 675,
    "start_time": "2024-06-03T18:21:15.164Z"
   },
   {
    "duration": 690,
    "start_time": "2024-06-03T18:22:57.267Z"
   },
   {
    "duration": 3,
    "start_time": "2024-06-03T18:24:23.631Z"
   },
   {
    "duration": 6,
    "start_time": "2024-06-03T18:24:24.153Z"
   },
   {
    "duration": 475,
    "start_time": "2024-06-03T18:24:24.749Z"
   },
   {
    "duration": 22,
    "start_time": "2024-06-03T18:24:55.653Z"
   },
   {
    "duration": 21,
    "start_time": "2024-06-03T18:24:56.327Z"
   },
   {
    "duration": 9,
    "start_time": "2024-06-03T18:25:00.196Z"
   },
   {
    "duration": 10,
    "start_time": "2024-06-03T18:25:06.687Z"
   },
   {
    "duration": 5,
    "start_time": "2024-06-03T18:25:08.057Z"
   },
   {
    "duration": 12,
    "start_time": "2024-06-03T18:25:14.280Z"
   },
   {
    "duration": 8,
    "start_time": "2024-06-03T18:25:15.157Z"
   },
   {
    "duration": 4,
    "start_time": "2024-06-03T18:25:16.200Z"
   },
   {
    "duration": 21,
    "start_time": "2024-06-03T18:28:00.258Z"
   },
   {
    "duration": 24,
    "start_time": "2024-06-03T18:28:03.425Z"
   },
   {
    "duration": 10,
    "start_time": "2024-06-03T18:28:05.623Z"
   },
   {
    "duration": 10,
    "start_time": "2024-06-03T18:28:11.423Z"
   },
   {
    "duration": 4,
    "start_time": "2024-06-03T18:28:14.795Z"
   },
   {
    "duration": 12,
    "start_time": "2024-06-03T18:29:54.635Z"
   },
   {
    "duration": 11,
    "start_time": "2024-06-03T18:29:55.820Z"
   },
   {
    "duration": 5,
    "start_time": "2024-06-03T18:29:57.506Z"
   },
   {
    "duration": 10,
    "start_time": "2024-06-03T18:30:43.603Z"
   },
   {
    "duration": 11,
    "start_time": "2024-06-03T18:30:47.431Z"
   },
   {
    "duration": 4,
    "start_time": "2024-06-03T18:30:50.208Z"
   },
   {
    "duration": 1305,
    "start_time": "2024-06-03T20:51:27.306Z"
   },
   {
    "duration": 56,
    "start_time": "2024-06-03T20:51:28.614Z"
   },
   {
    "duration": 20,
    "start_time": "2024-06-03T20:51:28.672Z"
   },
   {
    "duration": 24,
    "start_time": "2024-06-03T20:51:28.694Z"
   },
   {
    "duration": 21,
    "start_time": "2024-06-03T20:51:28.720Z"
   },
   {
    "duration": 45,
    "start_time": "2024-06-03T20:51:28.743Z"
   },
   {
    "duration": 82,
    "start_time": "2024-06-03T20:51:28.790Z"
   },
   {
    "duration": 12,
    "start_time": "2024-06-03T20:51:28.874Z"
   },
   {
    "duration": 16,
    "start_time": "2024-06-03T20:51:28.888Z"
   },
   {
    "duration": 32,
    "start_time": "2024-06-03T20:51:28.905Z"
   },
   {
    "duration": 21,
    "start_time": "2024-06-03T20:51:28.939Z"
   },
   {
    "duration": 49,
    "start_time": "2024-06-03T20:51:28.962Z"
   },
   {
    "duration": 7,
    "start_time": "2024-06-03T20:51:29.014Z"
   },
   {
    "duration": 10,
    "start_time": "2024-06-03T20:51:29.024Z"
   },
   {
    "duration": 5,
    "start_time": "2024-06-03T20:51:29.035Z"
   },
   {
    "duration": 26,
    "start_time": "2024-06-03T20:51:29.041Z"
   },
   {
    "duration": 12,
    "start_time": "2024-06-03T20:51:29.069Z"
   },
   {
    "duration": 12,
    "start_time": "2024-06-03T20:51:29.091Z"
   },
   {
    "duration": 12,
    "start_time": "2024-06-03T20:51:29.105Z"
   },
   {
    "duration": 18,
    "start_time": "2024-06-03T20:51:29.118Z"
   },
   {
    "duration": 9,
    "start_time": "2024-06-03T20:51:29.138Z"
   },
   {
    "duration": 13,
    "start_time": "2024-06-03T20:51:29.149Z"
   },
   {
    "duration": 17,
    "start_time": "2024-06-03T20:51:29.192Z"
   },
   {
    "duration": 18,
    "start_time": "2024-06-03T20:51:29.210Z"
   },
   {
    "duration": 25,
    "start_time": "2024-06-03T20:51:29.230Z"
   },
   {
    "duration": 4,
    "start_time": "2024-06-03T20:51:29.256Z"
   },
   {
    "duration": 31,
    "start_time": "2024-06-03T20:51:29.262Z"
   },
   {
    "duration": 28,
    "start_time": "2024-06-03T20:51:29.295Z"
   },
   {
    "duration": 25,
    "start_time": "2024-06-03T20:51:29.325Z"
   },
   {
    "duration": 17,
    "start_time": "2024-06-03T20:51:29.352Z"
   },
   {
    "duration": 84,
    "start_time": "2024-06-03T20:51:29.370Z"
   },
   {
    "duration": 7,
    "start_time": "2024-06-03T20:51:29.456Z"
   },
   {
    "duration": 438,
    "start_time": "2024-06-03T20:51:29.465Z"
   },
   {
    "duration": 365,
    "start_time": "2024-06-03T20:51:29.904Z"
   },
   {
    "duration": 8,
    "start_time": "2024-06-03T20:51:30.271Z"
   },
   {
    "duration": 417,
    "start_time": "2024-06-03T20:51:30.281Z"
   },
   {
    "duration": 736,
    "start_time": "2024-06-03T20:51:30.700Z"
   },
   {
    "duration": 30,
    "start_time": "2024-06-03T20:51:31.437Z"
   },
   {
    "duration": 24,
    "start_time": "2024-06-03T20:51:31.468Z"
   },
   {
    "duration": 95,
    "start_time": "2024-06-03T20:51:31.494Z"
   },
   {
    "duration": 60,
    "start_time": "2024-06-03T20:51:31.594Z"
   },
   {
    "duration": 35,
    "start_time": "2024-06-03T20:51:31.656Z"
   },
   {
    "duration": 41,
    "start_time": "2024-06-03T20:51:31.693Z"
   },
   {
    "duration": 28,
    "start_time": "2024-06-03T20:51:31.736Z"
   },
   {
    "duration": 301,
    "start_time": "2024-06-03T20:51:31.766Z"
   },
   {
    "duration": 290,
    "start_time": "2024-06-03T20:51:32.069Z"
   },
   {
    "duration": 377,
    "start_time": "2024-06-03T20:51:32.361Z"
   },
   {
    "duration": 5,
    "start_time": "2024-06-03T20:51:32.740Z"
   },
   {
    "duration": 275,
    "start_time": "2024-06-03T20:51:32.746Z"
   },
   {
    "duration": 5,
    "start_time": "2024-06-03T20:51:33.023Z"
   },
   {
    "duration": 48,
    "start_time": "2024-06-03T20:51:33.029Z"
   },
   {
    "duration": 165,
    "start_time": "2024-06-03T20:51:33.079Z"
   },
   {
    "duration": 6,
    "start_time": "2024-06-03T20:51:33.246Z"
   },
   {
    "duration": 26,
    "start_time": "2024-06-03T20:51:33.253Z"
   },
   {
    "duration": 7,
    "start_time": "2024-06-03T20:51:33.281Z"
   },
   {
    "duration": 47,
    "start_time": "2024-06-03T20:51:33.290Z"
   },
   {
    "duration": 7,
    "start_time": "2024-06-03T20:51:33.338Z"
   },
   {
    "duration": 20,
    "start_time": "2024-06-03T20:51:33.346Z"
   },
   {
    "duration": 1528,
    "start_time": "2024-06-03T20:51:33.368Z"
   },
   {
    "duration": 61,
    "start_time": "2024-06-03T20:51:34.898Z"
   },
   {
    "duration": 32,
    "start_time": "2024-06-03T20:51:34.960Z"
   },
   {
    "duration": 24,
    "start_time": "2024-06-03T20:51:34.994Z"
   },
   {
    "duration": 21,
    "start_time": "2024-06-03T20:51:35.021Z"
   },
   {
    "duration": 54,
    "start_time": "2024-06-03T20:51:35.045Z"
   },
   {
    "duration": 230,
    "start_time": "2024-06-03T20:51:35.101Z"
   },
   {
    "duration": 424,
    "start_time": "2024-06-03T20:51:35.333Z"
   },
   {
    "duration": 766,
    "start_time": "2024-06-03T20:51:35.758Z"
   },
   {
    "duration": 771,
    "start_time": "2024-06-03T20:51:36.526Z"
   },
   {
    "duration": 3,
    "start_time": "2024-06-03T20:51:37.299Z"
   },
   {
    "duration": 17,
    "start_time": "2024-06-03T20:51:37.304Z"
   },
   {
    "duration": 361,
    "start_time": "2024-06-03T20:51:37.322Z"
   },
   {
    "duration": 29,
    "start_time": "2024-06-03T20:51:37.685Z"
   },
   {
    "duration": 25,
    "start_time": "2024-06-03T20:51:37.716Z"
   },
   {
    "duration": 11,
    "start_time": "2024-06-03T20:51:37.742Z"
   },
   {
    "duration": 46,
    "start_time": "2024-06-03T20:51:37.755Z"
   },
   {
    "duration": 75,
    "start_time": "2024-06-03T20:51:37.804Z"
   },
   {
    "duration": 34,
    "start_time": "2024-06-03T20:51:37.880Z"
   },
   {
    "duration": 16,
    "start_time": "2024-06-03T20:51:37.916Z"
   },
   {
    "duration": 5,
    "start_time": "2024-06-03T20:51:37.933Z"
   },
   {
    "duration": 62,
    "start_time": "2024-06-04T15:23:09.119Z"
   },
   {
    "duration": 1140,
    "start_time": "2024-06-04T15:23:16.252Z"
   },
   {
    "duration": 177,
    "start_time": "2024-06-04T15:23:19.158Z"
   },
   {
    "duration": 17,
    "start_time": "2024-06-04T15:23:19.336Z"
   },
   {
    "duration": 13,
    "start_time": "2024-06-04T15:23:20.306Z"
   },
   {
    "duration": 5,
    "start_time": "2024-06-04T15:23:22.869Z"
   },
   {
    "duration": 13,
    "start_time": "2024-06-04T15:23:23.512Z"
   },
   {
    "duration": 47,
    "start_time": "2024-06-04T15:23:24.812Z"
   },
   {
    "duration": 10,
    "start_time": "2024-06-04T15:23:25.393Z"
   },
   {
    "duration": 16,
    "start_time": "2024-06-04T15:23:25.694Z"
   },
   {
    "duration": 6,
    "start_time": "2024-06-04T15:23:26.243Z"
   },
   {
    "duration": 10,
    "start_time": "2024-06-04T15:23:26.768Z"
   },
   {
    "duration": 19,
    "start_time": "2024-06-04T15:23:27.012Z"
   },
   {
    "duration": 6,
    "start_time": "2024-06-04T15:23:27.474Z"
   },
   {
    "duration": 9,
    "start_time": "2024-06-04T15:23:27.990Z"
   },
   {
    "duration": 4,
    "start_time": "2024-06-04T15:23:28.527Z"
   },
   {
    "duration": 3,
    "start_time": "2024-06-04T15:23:29.489Z"
   },
   {
    "duration": 3,
    "start_time": "2024-06-04T15:23:29.729Z"
   },
   {
    "duration": 6,
    "start_time": "2024-06-04T15:23:30.697Z"
   },
   {
    "duration": 10,
    "start_time": "2024-06-04T15:23:31.170Z"
   },
   {
    "duration": 24,
    "start_time": "2024-06-04T15:23:32.038Z"
   },
   {
    "duration": 11,
    "start_time": "2024-06-04T15:23:32.477Z"
   },
   {
    "duration": 12,
    "start_time": "2024-06-04T15:23:32.665Z"
   },
   {
    "duration": 18,
    "start_time": "2024-06-04T15:23:32.893Z"
   },
   {
    "duration": 13,
    "start_time": "2024-06-04T15:23:33.329Z"
   },
   {
    "duration": 10,
    "start_time": "2024-06-04T15:23:33.546Z"
   },
   {
    "duration": 3,
    "start_time": "2024-06-04T15:23:34.594Z"
   },
   {
    "duration": 3,
    "start_time": "2024-06-04T15:23:35.033Z"
   },
   {
    "duration": 13,
    "start_time": "2024-06-04T15:23:35.624Z"
   },
   {
    "duration": 4,
    "start_time": "2024-06-04T15:23:36.232Z"
   },
   {
    "duration": 16,
    "start_time": "2024-06-04T15:23:36.605Z"
   },
   {
    "duration": 65,
    "start_time": "2024-06-04T15:23:37.426Z"
   },
   {
    "duration": 6,
    "start_time": "2024-06-04T15:23:39.123Z"
   },
   {
    "duration": 310,
    "start_time": "2024-06-04T15:23:39.507Z"
   },
   {
    "duration": 241,
    "start_time": "2024-06-04T15:23:41.570Z"
   },
   {
    "duration": 6,
    "start_time": "2024-06-04T15:23:42.358Z"
   },
   {
    "duration": 10,
    "start_time": "2024-06-04T15:23:45.551Z"
   },
   {
    "duration": 204,
    "start_time": "2024-06-04T15:23:47.206Z"
   },
   {
    "duration": 22,
    "start_time": "2024-06-04T15:23:48.431Z"
   },
   {
    "duration": 10,
    "start_time": "2024-06-04T15:23:49.148Z"
   },
   {
    "duration": 7,
    "start_time": "2024-06-04T15:23:52.399Z"
   },
   {
    "duration": 7,
    "start_time": "2024-06-04T15:23:53.341Z"
   },
   {
    "duration": 3,
    "start_time": "2024-06-04T15:23:56.597Z"
   },
   {
    "duration": 12,
    "start_time": "2024-06-04T15:23:59.714Z"
   },
   {
    "duration": 9,
    "start_time": "2024-06-04T15:24:00.998Z"
   },
   {
    "duration": 184,
    "start_time": "2024-06-04T15:24:01.807Z"
   },
   {
    "duration": 217,
    "start_time": "2024-06-04T15:24:04.887Z"
   },
   {
    "duration": 278,
    "start_time": "2024-06-04T15:24:05.551Z"
   },
   {
    "duration": 5,
    "start_time": "2024-06-04T15:24:10.456Z"
   },
   {
    "duration": 143,
    "start_time": "2024-06-04T15:24:11.994Z"
   },
   {
    "duration": 4,
    "start_time": "2024-06-04T15:24:14.925Z"
   },
   {
    "duration": 4,
    "start_time": "2024-06-04T15:24:16.136Z"
   },
   {
    "duration": 127,
    "start_time": "2024-06-04T15:24:18.107Z"
   },
   {
    "duration": 4,
    "start_time": "2024-06-04T15:24:23.299Z"
   },
   {
    "duration": 6,
    "start_time": "2024-06-04T15:24:31.386Z"
   },
   {
    "duration": 2,
    "start_time": "2024-06-04T15:24:42.305Z"
   },
   {
    "duration": 4,
    "start_time": "2024-06-04T15:24:43.244Z"
   },
   {
    "duration": 2,
    "start_time": "2024-06-04T15:24:43.788Z"
   },
   {
    "duration": 7,
    "start_time": "2024-06-04T15:24:50.603Z"
   },
   {
    "duration": 1173,
    "start_time": "2024-06-04T15:24:51.287Z"
   },
   {
    "duration": 50,
    "start_time": "2024-06-04T15:24:53.439Z"
   },
   {
    "duration": 10,
    "start_time": "2024-06-04T15:24:54.040Z"
   },
   {
    "duration": 3,
    "start_time": "2024-06-04T15:25:00.114Z"
   },
   {
    "duration": 5,
    "start_time": "2024-06-04T15:25:02.070Z"
   },
   {
    "duration": 10,
    "start_time": "2024-06-04T15:25:02.543Z"
   },
   {
    "duration": 188,
    "start_time": "2024-06-04T15:25:03.412Z"
   },
   {
    "duration": 311,
    "start_time": "2024-06-04T15:25:03.846Z"
   },
   {
    "duration": 589,
    "start_time": "2024-06-04T15:25:13.259Z"
   },
   {
    "duration": 522,
    "start_time": "2024-06-04T15:25:16.612Z"
   },
   {
    "duration": 2,
    "start_time": "2024-06-04T15:25:19.051Z"
   },
   {
    "duration": 5,
    "start_time": "2024-06-04T15:25:19.606Z"
   },
   {
    "duration": 300,
    "start_time": "2024-06-04T15:25:20.136Z"
   },
   {
    "duration": 26,
    "start_time": "2024-06-04T15:26:14.631Z"
   },
   {
    "duration": 21,
    "start_time": "2024-06-04T15:26:15.142Z"
   },
   {
    "duration": 9,
    "start_time": "2024-06-04T15:26:16.682Z"
   },
   {
    "duration": 11,
    "start_time": "2024-06-04T15:26:17.331Z"
   },
   {
    "duration": 4,
    "start_time": "2024-06-04T15:26:18.478Z"
   },
   {
    "duration": 19,
    "start_time": "2024-06-04T15:26:22.986Z"
   },
   {
    "duration": 9,
    "start_time": "2024-06-04T15:26:23.631Z"
   },
   {
    "duration": 4,
    "start_time": "2024-06-04T15:26:24.307Z"
   },
   {
    "duration": 1230,
    "start_time": "2024-06-04T16:45:38.577Z"
   },
   {
    "duration": 105,
    "start_time": "2024-06-04T16:45:39.808Z"
   },
   {
    "duration": 23,
    "start_time": "2024-06-04T16:45:39.915Z"
   },
   {
    "duration": 68,
    "start_time": "2024-06-04T16:45:39.940Z"
   },
   {
    "duration": 36,
    "start_time": "2024-06-04T16:45:40.010Z"
   },
   {
    "duration": 59,
    "start_time": "2024-06-04T16:45:40.047Z"
   },
   {
    "duration": 65,
    "start_time": "2024-06-04T16:45:40.108Z"
   },
   {
    "duration": 11,
    "start_time": "2024-06-04T16:45:40.174Z"
   },
   {
    "duration": 67,
    "start_time": "2024-06-04T16:45:40.186Z"
   },
   {
    "duration": 30,
    "start_time": "2024-06-04T16:45:40.254Z"
   },
   {
    "duration": 18,
    "start_time": "2024-06-04T16:45:40.286Z"
   },
   {
    "duration": 43,
    "start_time": "2024-06-04T16:45:40.305Z"
   },
   {
    "duration": 9,
    "start_time": "2024-06-04T16:45:40.350Z"
   },
   {
    "duration": 12,
    "start_time": "2024-06-04T16:45:40.362Z"
   },
   {
    "duration": 4,
    "start_time": "2024-06-04T16:45:40.376Z"
   },
   {
    "duration": 18,
    "start_time": "2024-06-04T16:45:40.382Z"
   },
   {
    "duration": 13,
    "start_time": "2024-06-04T16:45:40.402Z"
   },
   {
    "duration": 37,
    "start_time": "2024-06-04T16:45:40.417Z"
   },
   {
    "duration": 21,
    "start_time": "2024-06-04T16:45:40.456Z"
   },
   {
    "duration": 25,
    "start_time": "2024-06-04T16:45:40.478Z"
   },
   {
    "duration": 7,
    "start_time": "2024-06-04T16:45:40.505Z"
   },
   {
    "duration": 12,
    "start_time": "2024-06-04T16:45:40.514Z"
   },
   {
    "duration": 30,
    "start_time": "2024-06-04T16:45:40.528Z"
   },
   {
    "duration": 12,
    "start_time": "2024-06-04T16:45:40.560Z"
   },
   {
    "duration": 22,
    "start_time": "2024-06-04T16:45:40.573Z"
   },
   {
    "duration": 6,
    "start_time": "2024-06-04T16:45:40.596Z"
   },
   {
    "duration": 14,
    "start_time": "2024-06-04T16:45:40.603Z"
   },
   {
    "duration": 19,
    "start_time": "2024-06-04T16:45:40.618Z"
   },
   {
    "duration": 6,
    "start_time": "2024-06-04T16:45:40.638Z"
   },
   {
    "duration": 16,
    "start_time": "2024-06-04T16:45:40.645Z"
   },
   {
    "duration": 78,
    "start_time": "2024-06-04T16:45:40.662Z"
   },
   {
    "duration": 5,
    "start_time": "2024-06-04T16:45:40.742Z"
   },
   {
    "duration": 310,
    "start_time": "2024-06-04T16:45:40.748Z"
   },
   {
    "duration": 284,
    "start_time": "2024-06-04T16:45:41.059Z"
   },
   {
    "duration": 6,
    "start_time": "2024-06-04T16:45:41.344Z"
   },
   {
    "duration": 20,
    "start_time": "2024-06-04T16:45:41.351Z"
   },
   {
    "duration": 204,
    "start_time": "2024-06-04T16:45:41.372Z"
   },
   {
    "duration": 30,
    "start_time": "2024-06-04T16:45:41.578Z"
   },
   {
    "duration": 7,
    "start_time": "2024-06-04T16:45:41.609Z"
   },
   {
    "duration": 10,
    "start_time": "2024-06-04T16:45:41.617Z"
   },
   {
    "duration": 10,
    "start_time": "2024-06-04T16:45:41.630Z"
   },
   {
    "duration": 5,
    "start_time": "2024-06-04T16:45:41.641Z"
   },
   {
    "duration": 11,
    "start_time": "2024-06-04T16:45:41.647Z"
   },
   {
    "duration": 13,
    "start_time": "2024-06-04T16:45:41.659Z"
   },
   {
    "duration": 236,
    "start_time": "2024-06-04T16:45:41.673Z"
   },
   {
    "duration": 226,
    "start_time": "2024-06-04T16:45:41.911Z"
   },
   {
    "duration": 277,
    "start_time": "2024-06-04T16:45:42.138Z"
   },
   {
    "duration": 4,
    "start_time": "2024-06-04T16:45:42.417Z"
   },
   {
    "duration": 138,
    "start_time": "2024-06-04T16:45:42.422Z"
   },
   {
    "duration": 4,
    "start_time": "2024-06-04T16:45:42.561Z"
   },
   {
    "duration": 26,
    "start_time": "2024-06-04T16:45:42.566Z"
   },
   {
    "duration": 125,
    "start_time": "2024-06-04T16:45:42.593Z"
   },
   {
    "duration": 4,
    "start_time": "2024-06-04T16:45:42.720Z"
   },
   {
    "duration": 33,
    "start_time": "2024-06-04T16:45:42.725Z"
   },
   {
    "duration": 14,
    "start_time": "2024-06-04T16:45:42.759Z"
   },
   {
    "duration": 8,
    "start_time": "2024-06-04T16:45:42.774Z"
   },
   {
    "duration": 5,
    "start_time": "2024-06-04T16:45:42.783Z"
   },
   {
    "duration": 7,
    "start_time": "2024-06-04T16:45:42.789Z"
   },
   {
    "duration": 1162,
    "start_time": "2024-06-04T16:45:42.797Z"
   },
   {
    "duration": 52,
    "start_time": "2024-06-04T16:45:43.960Z"
   },
   {
    "duration": 8,
    "start_time": "2024-06-04T16:45:44.014Z"
   },
   {
    "duration": 30,
    "start_time": "2024-06-04T16:45:44.023Z"
   },
   {
    "duration": 98,
    "start_time": "2024-06-04T16:45:44.055Z"
   },
   {
    "duration": 101,
    "start_time": "2024-06-04T16:45:44.154Z"
   },
   {
    "duration": 188,
    "start_time": "2024-06-04T16:45:44.256Z"
   },
   {
    "duration": 320,
    "start_time": "2024-06-04T16:45:44.446Z"
   },
   {
    "duration": 572,
    "start_time": "2024-06-04T16:45:44.768Z"
   },
   {
    "duration": 514,
    "start_time": "2024-06-04T16:45:45.341Z"
   },
   {
    "duration": 2,
    "start_time": "2024-06-04T16:45:45.857Z"
   },
   {
    "duration": 27,
    "start_time": "2024-06-04T16:45:45.860Z"
   },
   {
    "duration": 288,
    "start_time": "2024-06-04T16:45:45.888Z"
   },
   {
    "duration": 26,
    "start_time": "2024-06-04T16:45:46.178Z"
   },
   {
    "duration": 62,
    "start_time": "2024-06-04T16:45:46.206Z"
   },
   {
    "duration": 9,
    "start_time": "2024-06-04T16:45:46.269Z"
   },
   {
    "duration": 24,
    "start_time": "2024-06-04T16:45:46.279Z"
   },
   {
    "duration": 12,
    "start_time": "2024-06-04T16:45:46.304Z"
   },
   {
    "duration": 16,
    "start_time": "2024-06-04T16:45:46.318Z"
   },
   {
    "duration": 12,
    "start_time": "2024-06-04T16:45:46.336Z"
   },
   {
    "duration": 5,
    "start_time": "2024-06-04T16:45:46.350Z"
   }
  ],
  "kernelspec": {
   "display_name": "Python 3 (ipykernel)",
   "language": "python",
   "name": "python3"
  },
  "language_info": {
   "codemirror_mode": {
    "name": "ipython",
    "version": 3
   },
   "file_extension": ".py",
   "mimetype": "text/x-python",
   "name": "python",
   "nbconvert_exporter": "python",
   "pygments_lexer": "ipython3",
   "version": "3.9.7"
  },
  "toc": {
   "base_numbering": 1,
   "nav_menu": {},
   "number_sections": true,
   "sideBar": true,
   "skip_h1_title": true,
   "title_cell": "Table of Contents",
   "title_sidebar": "Contents",
   "toc_cell": false,
   "toc_position": {
    "height": "475.8px",
    "left": "22px",
    "top": "133.525px",
    "width": "183.33px"
   },
   "toc_section_display": true,
   "toc_window_display": true
  }
 },
 "nbformat": 4,
 "nbformat_minor": 2
}
